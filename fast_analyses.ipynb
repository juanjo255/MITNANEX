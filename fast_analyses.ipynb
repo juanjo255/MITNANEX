{
 "cells": [
  {
   "cell_type": "code",
   "execution_count": 6,
   "metadata": {},
   "outputs": [],
   "source": [
    "from src.mitnanex import run\n",
    "import pandas as pd"
   ]
  },
  {
   "cell_type": "code",
   "execution_count": 7,
   "metadata": {},
   "outputs": [
    {
     "ename": "FileNotFoundError",
     "evalue": "[Errno 2] No such file or directory: 'test/overlaps_aedes_vexans_all_reads_subsample_sorted_containment.paf'",
     "output_type": "error",
     "traceback": [
      "\u001b[0;31m---------------------------------------------------------------------------\u001b[0m",
      "\u001b[0;31mFileNotFoundError\u001b[0m                         Traceback (most recent call last)",
      "Cell \u001b[0;32mIn[7], line 1\u001b[0m\n\u001b[0;32m----> 1\u001b[0m a \u001b[39m=\u001b[39m run()\n\u001b[1;32m      3\u001b[0m \u001b[39m# I need to plot the coverage of clusters\u001b[39;00m\n\u001b[1;32m      4\u001b[0m coverages_df \u001b[39m=\u001b[39m pd\u001b[39m.\u001b[39mDataFrame(\n\u001b[1;32m      5\u001b[0m     {\n\u001b[1;32m      6\u001b[0m         \u001b[39m\"\u001b[39m\u001b[39mcoverage\u001b[39m\u001b[39m\"\u001b[39m: [i\u001b[39m.\u001b[39mcoverage \u001b[39mfor\u001b[39;00m i \u001b[39min\u001b[39;00m a\u001b[39m.\u001b[39mclusters],\n\u001b[0;32m   (...)\u001b[0m\n\u001b[1;32m     10\u001b[0m     }\n\u001b[1;32m     11\u001b[0m )\n",
      "File \u001b[0;32m~/Documents/TESIS/MITNANEX_PROJECT/src/mitnanex.py:26\u001b[0m, in \u001b[0;36mrun\u001b[0;34m()\u001b[0m\n\u001b[1;32m     25\u001b[0m \u001b[39mdef\u001b[39;00m \u001b[39mrun\u001b[39m() \u001b[39m-\u001b[39m\u001b[39m>\u001b[39m hash_table_clusters:\n\u001b[0;32m---> 26\u001b[0m     file \u001b[39m=\u001b[39m \u001b[39mopen\u001b[39;49m(\u001b[39m\"\u001b[39;49m\u001b[39mtest/overlaps_aedes_vexans_all_reads_subsample_sorted_containment.paf\u001b[39;49m\u001b[39m\"\u001b[39;49m, \u001b[39m\"\u001b[39;49m\u001b[39mr\u001b[39;49m\u001b[39m\"\u001b[39;49m)\n\u001b[1;32m     27\u001b[0m     \u001b[39m#size_table = estimate_hash_table_size('test/aedes_vexans_all_reads_subsample_sorted_length.fastq')\u001b[39;00m\n\u001b[1;32m     28\u001b[0m     alignment \u001b[39m=\u001b[39m file\u001b[39m.\u001b[39mreadline()\u001b[39m.\u001b[39mstrip()\n",
      "\u001b[0;31mFileNotFoundError\u001b[0m: [Errno 2] No such file or directory: 'test/overlaps_aedes_vexans_all_reads_subsample_sorted_containment.paf'"
     ]
    }
   ],
   "source": [
    "\n",
    "a = run()\n",
    "\n",
    "# I need to plot the coverage of clusters\n",
    "coverages_df = pd.DataFrame(\n",
    "    {\n",
    "        \"coverage\": [i.coverage for i in a.clusters],\n",
    "        \"longest_read_len\": [i.longest_read_length for i in a.clusters],\n",
    "        \"id_longest_read\": [i.longest_read_id for i in a.clusters],\n",
    "        \"id_cluster\":[i.id_cluster for i in a.clusters],\n",
    "    }\n",
    ")\n",
    "\n"
   ]
  },
  {
   "cell_type": "code",
   "execution_count": null,
   "metadata": {},
   "outputs": [
    {
     "data": {
      "text/html": [
       "<div>\n",
       "<style scoped>\n",
       "    .dataframe tbody tr th:only-of-type {\n",
       "        vertical-align: middle;\n",
       "    }\n",
       "\n",
       "    .dataframe tbody tr th {\n",
       "        vertical-align: top;\n",
       "    }\n",
       "\n",
       "    .dataframe thead th {\n",
       "        text-align: right;\n",
       "    }\n",
       "</style>\n",
       "<table border=\"1\" class=\"dataframe\">\n",
       "  <thead>\n",
       "    <tr style=\"text-align: right;\">\n",
       "      <th></th>\n",
       "      <th>coverage</th>\n",
       "      <th>longest_read_len</th>\n",
       "      <th>id_longest_read</th>\n",
       "      <th>id_cluster</th>\n",
       "    </tr>\n",
       "  </thead>\n",
       "  <tbody>\n",
       "    <tr>\n",
       "      <th>123</th>\n",
       "      <td>1788</td>\n",
       "      <td>1445</td>\n",
       "      <td>SRR16599377.5674650</td>\n",
       "      <td>124</td>\n",
       "    </tr>\n",
       "    <tr>\n",
       "      <th>16</th>\n",
       "      <td>1027</td>\n",
       "      <td>2458</td>\n",
       "      <td>SRR16599377.4246279</td>\n",
       "      <td>17</td>\n",
       "    </tr>\n",
       "    <tr>\n",
       "      <th>0</th>\n",
       "      <td>862</td>\n",
       "      <td>6183</td>\n",
       "      <td>SRR16599377.10193308</td>\n",
       "      <td>1</td>\n",
       "    </tr>\n",
       "    <tr>\n",
       "      <th>15</th>\n",
       "      <td>705</td>\n",
       "      <td>2463</td>\n",
       "      <td>SRR16599377.4164017</td>\n",
       "      <td>16</td>\n",
       "    </tr>\n",
       "    <tr>\n",
       "      <th>4</th>\n",
       "      <td>555</td>\n",
       "      <td>4074</td>\n",
       "      <td>SRR16599377.4712847</td>\n",
       "      <td>5</td>\n",
       "    </tr>\n",
       "    <tr>\n",
       "      <th>14</th>\n",
       "      <td>538</td>\n",
       "      <td>2673</td>\n",
       "      <td>SRR16599377.3533772</td>\n",
       "      <td>15</td>\n",
       "    </tr>\n",
       "    <tr>\n",
       "      <th>5</th>\n",
       "      <td>522</td>\n",
       "      <td>3615</td>\n",
       "      <td>SRR16599377.4430210</td>\n",
       "      <td>6</td>\n",
       "    </tr>\n",
       "    <tr>\n",
       "      <th>9</th>\n",
       "      <td>392</td>\n",
       "      <td>3074</td>\n",
       "      <td>SRR16599377.5207768</td>\n",
       "      <td>10</td>\n",
       "    </tr>\n",
       "    <tr>\n",
       "      <th>22</th>\n",
       "      <td>372</td>\n",
       "      <td>2233</td>\n",
       "      <td>SRR16599377.2729062</td>\n",
       "      <td>23</td>\n",
       "    </tr>\n",
       "    <tr>\n",
       "      <th>8</th>\n",
       "      <td>361</td>\n",
       "      <td>3121</td>\n",
       "      <td>SRR16599377.10185097</td>\n",
       "      <td>9</td>\n",
       "    </tr>\n",
       "  </tbody>\n",
       "</table>\n",
       "</div>"
      ],
      "text/plain": [
       "     coverage  longest_read_len       id_longest_read  id_cluster\n",
       "123      1788              1445   SRR16599377.5674650         124\n",
       "16       1027              2458   SRR16599377.4246279          17\n",
       "0         862              6183  SRR16599377.10193308           1\n",
       "15        705              2463   SRR16599377.4164017          16\n",
       "4         555              4074   SRR16599377.4712847           5\n",
       "14        538              2673   SRR16599377.3533772          15\n",
       "5         522              3615   SRR16599377.4430210           6\n",
       "9         392              3074   SRR16599377.5207768          10\n",
       "22        372              2233   SRR16599377.2729062          23\n",
       "8         361              3121  SRR16599377.10185097           9"
      ]
     },
     "execution_count": 3,
     "metadata": {},
     "output_type": "execute_result"
    }
   ],
   "source": [
    "# Test on the first 30 clusters\n",
    "prueba = coverages_df.sort_values(by='coverage', ascending=False).head(10)\n",
    "prueba"
   ]
  },
  {
   "cell_type": "markdown",
   "metadata": {},
   "source": [
    "# Oligo composition\n",
    "\n",
    "Once I've detected the clusters with higher coverage, which I expect includes mitochondria and contamination, whether nuclear or external, I have to purify these groups. To do this I will use the oligo composition as it is used during metagenomics binning.\n",
    "\n",
    "I will create a script to get the kmers. The kmer size will be 3 to solve two things: 1. Intrinsec error from Nanopore, 2 smaller set as possible (4**3 possible kmers). \n",
    "\n",
    "Finally, I will reduce dimensionality using PCA"
   ]
  },
  {
   "cell_type": "code",
   "execution_count": null,
   "metadata": {},
   "outputs": [],
   "source": [
    "from src.utils import get_sequences_by_id\n",
    "from src.kmer_cnt import count_kmer"
   ]
  },
  {
   "cell_type": "code",
   "execution_count": null,
   "metadata": {},
   "outputs": [],
   "source": [
    "fasta = 'test/s_cervisae_CEN.PK113-7D_reads.fasta.gz'\n",
    "repr_reads = [i for i in prueba['id_longest_read']]\n",
    "hist = list()\n",
    "for i in get_sequences_by_id(fasta, repr_reads):\n",
    "    ids, seq = i\n",
    "    hist.append(list(count_kmer(3,seq,ids).values()))"
   ]
  },
  {
   "cell_type": "code",
   "execution_count": null,
   "metadata": {},
   "outputs": [],
   "source": [
    "from sklearn.decomposition import PCA"
   ]
  },
  {
   "cell_type": "code",
   "execution_count": null,
   "metadata": {},
   "outputs": [],
   "source": [
    "pca = PCA(n_components=2)"
   ]
  },
  {
   "cell_type": "code",
   "execution_count": null,
   "metadata": {},
   "outputs": [
    {
     "ename": "NameError",
     "evalue": "name 'pca' is not defined",
     "output_type": "error",
     "traceback": [
      "\u001b[0;31m---------------------------------------------------------------------------\u001b[0m",
      "\u001b[0;31mNameError\u001b[0m                                 Traceback (most recent call last)",
      "Cell \u001b[0;32mIn[3], line 1\u001b[0m\n\u001b[0;32m----> 1\u001b[0m pca\n",
      "\u001b[0;31mNameError\u001b[0m: name 'pca' is not defined"
     ]
    }
   ],
   "source": [
    "pca"
   ]
  }
 ],
 "metadata": {
  "kernelspec": {
   "display_name": "mitnanex",
   "language": "python",
   "name": "python3"
  },
  "language_info": {
   "codemirror_mode": {
    "name": "ipython",
    "version": 3
   },
   "file_extension": ".py",
   "mimetype": "text/x-python",
   "name": "python",
   "nbconvert_exporter": "python",
   "pygments_lexer": "ipython3",
   "version": "3.11.4"
  },
  "orig_nbformat": 4
 },
 "nbformat": 4,
 "nbformat_minor": 2
}

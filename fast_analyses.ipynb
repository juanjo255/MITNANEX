{
 "cells": [
  {
   "cell_type": "code",
   "execution_count": 1,
   "metadata": {},
   "outputs": [],
   "source": [
    "from src.mitnanex import run\n",
    "import pandas as pd"
   ]
  },
  {
   "cell_type": "code",
   "execution_count": 2,
   "metadata": {},
   "outputs": [],
   "source": [
    "\n",
    "a = run()\n",
    "\n",
    "# I need to plot the coverage of clusters\n",
    "coverages_df = pd.DataFrame(\n",
    "    {\n",
    "        \"coverage\": [i.coverage for i in a.clusters],\n",
    "        \"longest_read_len\": [i.longest_read_length for i in a.clusters],\n",
    "        \"id_longest_read\": [i.longest_read_id for i in a.clusters],\n",
    "        \"id_cluster\":[i.id_cluster for i in a.clusters],\n",
    "    }\n",
    ")\n",
    "\n"
   ]
  },
  {
   "cell_type": "code",
   "execution_count": 3,
   "metadata": {},
   "outputs": [
    {
     "data": {
      "text/html": [
       "<div>\n",
       "<style scoped>\n",
       "    .dataframe tbody tr th:only-of-type {\n",
       "        vertical-align: middle;\n",
       "    }\n",
       "\n",
       "    .dataframe tbody tr th {\n",
       "        vertical-align: top;\n",
       "    }\n",
       "\n",
       "    .dataframe thead th {\n",
       "        text-align: right;\n",
       "    }\n",
       "</style>\n",
       "<table border=\"1\" class=\"dataframe\">\n",
       "  <thead>\n",
       "    <tr style=\"text-align: right;\">\n",
       "      <th></th>\n",
       "      <th>coverage</th>\n",
       "      <th>longest_read_len</th>\n",
       "      <th>id_longest_read</th>\n",
       "      <th>id_cluster</th>\n",
       "    </tr>\n",
       "  </thead>\n",
       "  <tbody>\n",
       "    <tr>\n",
       "      <th>453</th>\n",
       "      <td>2633</td>\n",
       "      <td>1445</td>\n",
       "      <td>SRR16599377.5674650</td>\n",
       "      <td>454</td>\n",
       "    </tr>\n",
       "    <tr>\n",
       "      <th>17</th>\n",
       "      <td>1297</td>\n",
       "      <td>2933</td>\n",
       "      <td>SRR16599377.8446090</td>\n",
       "      <td>18</td>\n",
       "    </tr>\n",
       "    <tr>\n",
       "      <th>31</th>\n",
       "      <td>1184</td>\n",
       "      <td>2458</td>\n",
       "      <td>SRR16599377.4246279</td>\n",
       "      <td>32</td>\n",
       "    </tr>\n",
       "    <tr>\n",
       "      <th>0</th>\n",
       "      <td>1064</td>\n",
       "      <td>6183</td>\n",
       "      <td>SRR16599377.10193308</td>\n",
       "      <td>1</td>\n",
       "    </tr>\n",
       "    <tr>\n",
       "      <th>27</th>\n",
       "      <td>908</td>\n",
       "      <td>2673</td>\n",
       "      <td>SRR16599377.3533772</td>\n",
       "      <td>28</td>\n",
       "    </tr>\n",
       "  </tbody>\n",
       "</table>\n",
       "</div>"
      ],
      "text/plain": [
       "     coverage  longest_read_len       id_longest_read  id_cluster\n",
       "453      2633              1445   SRR16599377.5674650         454\n",
       "17       1297              2933   SRR16599377.8446090          18\n",
       "31       1184              2458   SRR16599377.4246279          32\n",
       "0        1064              6183  SRR16599377.10193308           1\n",
       "27        908              2673   SRR16599377.3533772          28"
      ]
     },
     "execution_count": 3,
     "metadata": {},
     "output_type": "execute_result"
    }
   ],
   "source": [
    "# Test on the first 30 clusters\n",
    "prueba = coverages_df.sort_values(by='coverage', ascending=False).head(10)\n",
    "prueba.head()"
   ]
  },
  {
   "cell_type": "markdown",
   "metadata": {},
   "source": [
    "# Oligo composition\n",
    "\n",
    "Once I've detected the clusters with higher coverage, which I expect includes mitochondria and contamination, whether nuclear or external, I have to purify these groups. To do this I will use the oligo composition as it is used during metagenomics binning.\n",
    "\n",
    "I will create a script to get the kmers. The kmer size will be 3 to solve two things: 1. Intrinsec error from Nanopore, 2 smaller set as possible (4**3 possible kmers). "
   ]
  },
  {
   "cell_type": "code",
   "execution_count": 4,
   "metadata": {},
   "outputs": [],
   "source": [
    "from src.utils import get_sequences_by_id\n",
    "from src.kmer_cnt import count_kmer"
   ]
  },
  {
   "cell_type": "code",
   "execution_count": 5,
   "metadata": {},
   "outputs": [
    {
     "name": "stdout",
     "output_type": "stream",
     "text": [
      "Counter({'AAA': 965, 'AAT': 847, 'TAA': 825, 'ATA': 691, 'GAA': 208, 'AAG': 189, 'CAA': 189, 'AAC': 186, 'CTA': 183, 'TCA': 171, 'ATC': 166, 'ACT': 159, 'AGA': 151, 'ATG': 149, 'GTA': 145, 'ACA': 136, 'AGG': 112, 'GGA': 103, 'AGC': 84, 'CTC': 69, 'ACC': 67, 'GCA': 67, 'CAG': 65, 'CCA': 60, 'CGA': 53, 'ACG': 35, 'GAC': 35, 'CAC': 31, 'CCC': 27, 'GCC': 17, 'CCG': 15, 'CGC': 13, 'ATT': 1, 'AGT': 1, 'TAT': 1, 'TAC': 1, 'TAG': 1, 'TTA': 1, 'TTT': 1, 'TTC': 1, 'TTG': 1, 'TCT': 1, 'TCC': 1, 'TCG': 1, 'TGA': 1, 'TGT': 1, 'TGC': 1, 'TGG': 1, 'CAT': 1, 'CTT': 1, 'CTG': 1, 'CCT': 1, 'CGT': 1, 'CGG': 1, 'GAT': 1, 'GAG': 1, 'GTT': 1, 'GTC': 1, 'GTG': 1, 'GCT': 1, 'GCG': 1, 'GGT': 1, 'GGC': 1, 'GGG': 1})\n",
      "Counter({'AAA': 756, 'AAT': 486, 'TAA': 465, 'ATA': 337, 'CAA': 163, 'GAA': 160, 'AAG': 158, 'AAC': 144, 'ACT': 139, 'TCA': 137, 'AGA': 127, 'ACA': 125, 'ATC': 120, 'ATG': 115, 'CTA': 112, 'GTA': 102, 'GCA': 79, 'CAC': 68, 'AGC': 62, 'GGA': 62, 'CCA': 58, 'CGA': 58, 'ACG': 55, 'CAG': 54, 'CTC': 53, 'GAC': 51, 'AGG': 50, 'ACC': 46, 'CCG': 37, 'GCC': 37, 'CGC': 32, 'CCC': 31, 'ATT': 1, 'AGT': 1, 'TAT': 1, 'TAC': 1, 'TAG': 1, 'TTA': 1, 'TTT': 1, 'TTC': 1, 'TTG': 1, 'TCT': 1, 'TCC': 1, 'TCG': 1, 'TGA': 1, 'TGT': 1, 'TGC': 1, 'TGG': 1, 'CAT': 1, 'CTT': 1, 'CTG': 1, 'CCT': 1, 'CGT': 1, 'CGG': 1, 'GAT': 1, 'GAG': 1, 'GTT': 1, 'GTC': 1, 'GTG': 1, 'GCT': 1, 'GCG': 1, 'GGT': 1, 'GGC': 1, 'GGG': 1})\n",
      "Counter({'AAA': 507, 'AAT': 479, 'TAA': 468, 'ATA': 412, 'GAA': 126, 'CTA': 123, 'CAA': 121, 'AAC': 119, 'AAG': 118, 'AGA': 110, 'ATC': 105, 'ACT': 98, 'TCA': 96, 'ATG': 90, 'ACA': 90, 'GTA': 85, 'AGC': 55, 'AGG': 52, 'GGA': 51, 'CCA': 49, 'ACC': 46, 'GCA': 42, 'CAG': 40, 'CTC': 34, 'CCC': 27, 'CAC': 26, 'CGA': 24, 'GAC': 16, 'ACG': 13, 'GCC': 12, 'CCG': 8, 'CGC': 3, 'ATT': 1, 'AGT': 1, 'TAT': 1, 'TAC': 1, 'TAG': 1, 'TTA': 1, 'TTT': 1, 'TTC': 1, 'TTG': 1, 'TCT': 1, 'TCC': 1, 'TCG': 1, 'TGA': 1, 'TGT': 1, 'TGC': 1, 'TGG': 1, 'CAT': 1, 'CTT': 1, 'CTG': 1, 'CCT': 1, 'CGT': 1, 'CGG': 1, 'GAT': 1, 'GAG': 1, 'GTT': 1, 'GTC': 1, 'GTG': 1, 'GCT': 1, 'GCG': 1, 'GGT': 1, 'GGC': 1, 'GGG': 1})\n",
      "Counter({'AAT': 340, 'TAA': 256, 'ATA': 249, 'AAA': 247, 'GAA': 144, 'CAA': 132, 'TCA': 131, 'ATC': 120, 'CTA': 116, 'GGA': 112, 'AAG': 106, 'ACT': 105, 'ATG': 103, 'GTA': 103, 'AGC': 92, 'AGA': 90, 'ACA': 88, 'AAC': 85, 'AGG': 82, 'CTC': 76, 'CAG': 71, 'CCA': 63, 'GCA': 45, 'CGA': 28, 'ACC': 22, 'CCC': 22, 'GAC': 21, 'CAC': 20, 'ACG': 14, 'GCC': 13, 'CGC': 6, 'CCG': 2, 'ATT': 1, 'AGT': 1, 'TAT': 1, 'TAC': 1, 'TAG': 1, 'TTA': 1, 'TTT': 1, 'TTC': 1, 'TTG': 1, 'TCT': 1, 'TCC': 1, 'TCG': 1, 'TGA': 1, 'TGT': 1, 'TGC': 1, 'TGG': 1, 'CAT': 1, 'CTT': 1, 'CTG': 1, 'CCT': 1, 'CGT': 1, 'CGG': 1, 'GAT': 1, 'GAG': 1, 'GTT': 1, 'GTC': 1, 'GTG': 1, 'GCT': 1, 'GCG': 1, 'GGT': 1, 'GGC': 1, 'GGG': 1})\n",
      "Counter({'AAT': 342, 'AAA': 300, 'TAA': 296, 'ATA': 260, 'CCC': 148, 'TCA': 116, 'GAA': 116, 'CAA': 114, 'ATG': 105, 'AAC': 99, 'GTA': 98, 'ACA': 93, 'ACT': 89, 'CTA': 88, 'AAG': 84, 'ATC': 79, 'AGA': 59, 'AGC': 52, 'ACC': 47, 'CAG': 46, 'CCA': 45, 'AGG': 43, 'GCA': 42, 'GGA': 42, 'CAC': 31, 'CGA': 27, 'CTC': 25, 'GAC': 24, 'ACG': 23, 'CCG': 14, 'GCC': 12, 'CGC': 4, 'ATT': 1, 'AGT': 1, 'TAT': 1, 'TAC': 1, 'TAG': 1, 'TTA': 1, 'TTT': 1, 'TTC': 1, 'TTG': 1, 'TCT': 1, 'TCC': 1, 'TCG': 1, 'TGA': 1, 'TGT': 1, 'TGC': 1, 'TGG': 1, 'CAT': 1, 'CTT': 1, 'CTG': 1, 'CCT': 1, 'CGT': 1, 'CGG': 1, 'GAT': 1, 'GAG': 1, 'GTT': 1, 'GTC': 1, 'GTG': 1, 'GCT': 1, 'GCG': 1, 'GGT': 1, 'GGC': 1, 'GGG': 1})\n",
      "Counter({'TAA': 472, 'AAT': 464, 'AAA': 437, 'ATA': 391, 'AAG': 77, 'CTA': 65, 'GAA': 65, 'ACT': 63, 'CAA': 59, 'GTA': 58, 'AAC': 55, 'AGA': 53, 'TCA': 50, 'ATC': 44, 'ACA': 44, 'ATG': 42, 'AGC': 30, 'AGG': 30, 'ACC': 26, 'GGA': 26, 'CCA': 23, 'CAG': 20, 'GCA': 18, 'CAC': 14, 'CTC': 14, 'CCC': 12, 'GAC': 12, 'CGC': 9, 'GCC': 9, 'CCG': 8, 'ACG': 7, 'CGA': 6, 'ATT': 1, 'AGT': 1, 'TAT': 1, 'TAC': 1, 'TAG': 1, 'TTA': 1, 'TTT': 1, 'TTC': 1, 'TTG': 1, 'TCT': 1, 'TCC': 1, 'TCG': 1, 'TGA': 1, 'TGT': 1, 'TGC': 1, 'TGG': 1, 'CAT': 1, 'CTT': 1, 'CTG': 1, 'CCT': 1, 'CGT': 1, 'CGG': 1, 'GAT': 1, 'GAG': 1, 'GTT': 1, 'GTC': 1, 'GTG': 1, 'GCT': 1, 'GCG': 1, 'GGT': 1, 'GGC': 1, 'GGG': 1})\n",
      "Counter({'AAA': 332, 'AAT': 332, 'TAA': 316, 'ATA': 251, 'GAA': 87, 'TCA': 82, 'CAA': 80, 'CTA': 79, 'AAG': 77, 'AAC': 75, 'ATG': 75, 'ACT': 70, 'AGA': 70, 'ATC': 68, 'ACA': 59, 'GTA': 58, 'AGC': 39, 'AGG': 38, 'GCA': 37, 'ACC': 34, 'CAG': 33, 'CCA': 33, 'GGA': 32, 'CTC': 28, 'CCC': 24, 'CAC': 23, 'GAC': 15, 'CGA': 13, 'GCC': 11, 'ACG': 8, 'CCG': 6, 'CGC': 3, 'ATT': 1, 'AGT': 1, 'TAT': 1, 'TAC': 1, 'TAG': 1, 'TTA': 1, 'TTT': 1, 'TTC': 1, 'TTG': 1, 'TCT': 1, 'TCC': 1, 'TCG': 1, 'TGA': 1, 'TGT': 1, 'TGC': 1, 'TGG': 1, 'CAT': 1, 'CTT': 1, 'CTG': 1, 'CCT': 1, 'CGT': 1, 'CGG': 1, 'GAT': 1, 'GAG': 1, 'GTT': 1, 'GTC': 1, 'GTG': 1, 'GCT': 1, 'GCG': 1, 'GGT': 1, 'GGC': 1, 'GGG': 1})\n",
      "Counter({'AAA': 266, 'AAT': 171, 'TAA': 119, 'ATA': 99, 'CAA': 99, 'GAA': 83, 'AAC': 80, 'ACA': 74, 'TCA': 74, 'ATG': 64, 'AAG': 49, 'CTA': 47, 'ATC': 46, 'AGA': 44, 'ACT': 43, 'GTA': 43, 'GCA': 40, 'CGA': 39, 'ACG': 34, 'CAC': 33, 'ACC': 28, 'AGC': 28, 'CCA': 27, 'AGG': 23, 'GAC': 23, 'CTC': 22, 'CAG': 20, 'CCC': 17, 'CGC': 17, 'GGA': 17, 'GCC': 15, 'CCG': 10, 'ATT': 1, 'AGT': 1, 'TAT': 1, 'TAC': 1, 'TAG': 1, 'TTA': 1, 'TTT': 1, 'TTC': 1, 'TTG': 1, 'TCT': 1, 'TCC': 1, 'TCG': 1, 'TGA': 1, 'TGT': 1, 'TGC': 1, 'TGG': 1, 'CAT': 1, 'CTT': 1, 'CTG': 1, 'CCT': 1, 'CGT': 1, 'CGG': 1, 'GAT': 1, 'GAG': 1, 'GTT': 1, 'GTC': 1, 'GTG': 1, 'GCT': 1, 'GCG': 1, 'GGT': 1, 'GGC': 1, 'GGG': 1})\n",
      "Counter({'AAA': 113, 'AAT': 104, 'TAA': 83, 'TCA': 82, 'ATA': 76, 'GAA': 73, 'CAA': 69, 'AAC': 68, 'ACG': 67, 'ATC': 62, 'ATG': 60, 'ACA': 60, 'AAG': 52, 'GTA': 52, 'AGA': 50, 'CAC': 46, 'CAG': 45, 'GCA': 44, 'ACC': 41, 'GGA': 40, 'AGG': 39, 'AGC': 37, 'GAC': 37, 'ACT': 35, 'CTA': 33, 'CCA': 33, 'CGC': 32, 'CTC': 31, 'CGA': 31, 'CCG': 30, 'CCC': 21, 'GCC': 21, 'ATT': 1, 'AGT': 1, 'TAT': 1, 'TAC': 1, 'TAG': 1, 'TTA': 1, 'TTT': 1, 'TTC': 1, 'TTG': 1, 'TCT': 1, 'TCC': 1, 'TCG': 1, 'TGA': 1, 'TGT': 1, 'TGC': 1, 'TGG': 1, 'CAT': 1, 'CTT': 1, 'CTG': 1, 'CCT': 1, 'CGT': 1, 'CGG': 1, 'GAT': 1, 'GAG': 1, 'GTT': 1, 'GTC': 1, 'GTG': 1, 'GCT': 1, 'GCG': 1, 'GGT': 1, 'GGC': 1, 'GGG': 1})\n",
      "Counter({'AAA': 94, 'AAT': 62, 'CAG': 61, 'GCA': 61, 'ATC': 58, 'CAA': 58, 'TCA': 57, 'AAC': 56, 'AGC': 56, 'CGC': 55, 'TAA': 52, 'ATG': 51, 'ACG': 50, 'CGA': 48, 'GAA': 48, 'GTA': 44, 'GCC': 44, 'ATA': 43, 'ACA': 43, 'AAG': 40, 'ACC': 39, 'CCA': 39, 'CCG': 39, 'AGA': 37, 'GAC': 35, 'AGG': 34, 'ACT': 33, 'CTC': 30, 'CAC': 29, 'CTA': 29, 'GGA': 29, 'CCC': 21, 'ATT': 1, 'AGT': 1, 'TAT': 1, 'TAC': 1, 'TAG': 1, 'TTA': 1, 'TTT': 1, 'TTC': 1, 'TTG': 1, 'TCT': 1, 'TCC': 1, 'TCG': 1, 'TGA': 1, 'TGT': 1, 'TGC': 1, 'TGG': 1, 'CAT': 1, 'CTT': 1, 'CTG': 1, 'CCT': 1, 'CGT': 1, 'CGG': 1, 'GAT': 1, 'GAG': 1, 'GTT': 1, 'GTC': 1, 'GTG': 1, 'GCT': 1, 'GCG': 1, 'GGT': 1, 'GGC': 1, 'GGG': 1})\n"
     ]
    }
   ],
   "source": [
    "fasta = 'test/aedes_vexans_all_reads_subsample_sorted_length.fasta'\n",
    "repr_reads = [i for i in prueba['id_longest_read']]\n",
    "for i in get_sequences_by_id(fasta, repr_reads):\n",
    "    ids, seq = i\n",
    "    count_kmer(3,seq,ids)"
   ]
  }
 ],
 "metadata": {
  "kernelspec": {
   "display_name": "mitnanex",
   "language": "python",
   "name": "python3"
  },
  "language_info": {
   "codemirror_mode": {
    "name": "ipython",
    "version": 3
   },
   "file_extension": ".py",
   "mimetype": "text/x-python",
   "name": "python",
   "nbconvert_exporter": "python",
   "pygments_lexer": "ipython3",
   "version": "3.11.3"
  },
  "orig_nbformat": 4
 },
 "nbformat": 4,
 "nbformat_minor": 2
}

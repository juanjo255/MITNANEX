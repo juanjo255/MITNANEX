{
 "cells": [
  {
   "cell_type": "code",
   "execution_count": 1,
   "metadata": {},
   "outputs": [],
   "source": [
    "from src.mitnanex import run\n",
    "import pandas as pd\n",
    "import matplotlib.pyplot as plt"
   ]
  },
  {
   "cell_type": "code",
   "execution_count": 2,
   "metadata": {},
   "outputs": [],
   "source": [
    "\n",
    "clusters_list = run()\n",
    "\n",
    "# I need to plot the coverage of clusters\n",
    "coverages_df = pd.DataFrame(\n",
    "    {\n",
    "        \"coverage\": [i.coverage for i in clusters_list.clusters],\n",
    "        \"repr_read_len\": [i.longest_read_length for i in clusters_list.clusters],\n",
    "        \"id_longest_read\": [i.longest_read_id for i in clusters_list.clusters],\n",
    "        \"id_cluster\":[i.id_cluster for i in clusters_list.clusters],\n",
    "    }\n",
    ")"
   ]
  },
  {
   "cell_type": "code",
   "execution_count": 3,
   "metadata": {},
   "outputs": [
    {
     "data": {
      "text/html": [
       "<div>\n",
       "<style scoped>\n",
       "    .dataframe tbody tr th:only-of-type {\n",
       "        vertical-align: middle;\n",
       "    }\n",
       "\n",
       "    .dataframe tbody tr th {\n",
       "        vertical-align: top;\n",
       "    }\n",
       "\n",
       "    .dataframe thead th {\n",
       "        text-align: right;\n",
       "    }\n",
       "</style>\n",
       "<table border=\"1\" class=\"dataframe\">\n",
       "  <thead>\n",
       "    <tr style=\"text-align: right;\">\n",
       "      <th></th>\n",
       "      <th>coverage</th>\n",
       "      <th>repr_read_len</th>\n",
       "      <th>id_longest_read</th>\n",
       "      <th>id_cluster</th>\n",
       "    </tr>\n",
       "  </thead>\n",
       "  <tbody>\n",
       "    <tr>\n",
       "      <th>117</th>\n",
       "      <td>3</td>\n",
       "      <td>25011</td>\n",
       "      <td>SRR5892449.10018</td>\n",
       "      <td>118</td>\n",
       "    </tr>\n",
       "    <tr>\n",
       "      <th>13</th>\n",
       "      <td>5</td>\n",
       "      <td>39243</td>\n",
       "      <td>SRR5892449.10138</td>\n",
       "      <td>14</td>\n",
       "    </tr>\n",
       "    <tr>\n",
       "      <th>501</th>\n",
       "      <td>2</td>\n",
       "      <td>14520</td>\n",
       "      <td>SRR5892449.10169</td>\n",
       "      <td>502</td>\n",
       "    </tr>\n",
       "    <tr>\n",
       "      <th>272</th>\n",
       "      <td>4</td>\n",
       "      <td>19525</td>\n",
       "      <td>SRR5892449.10199</td>\n",
       "      <td>273</td>\n",
       "    </tr>\n",
       "    <tr>\n",
       "      <th>682</th>\n",
       "      <td>2</td>\n",
       "      <td>8807</td>\n",
       "      <td>SRR5892449.10325</td>\n",
       "      <td>683</td>\n",
       "    </tr>\n",
       "  </tbody>\n",
       "</table>\n",
       "</div>"
      ],
      "text/plain": [
       "     coverage  repr_read_len   id_longest_read  id_cluster\n",
       "117         3          25011  SRR5892449.10018         118\n",
       "13          5          39243  SRR5892449.10138          14\n",
       "501         2          14520  SRR5892449.10169         502\n",
       "272         4          19525  SRR5892449.10199         273\n",
       "682         2           8807  SRR5892449.10325         683"
      ]
     },
     "execution_count": 3,
     "metadata": {},
     "output_type": "execute_result"
    }
   ],
   "source": [
    "# Test on the first 30 clusters\n",
    "clusters = coverages_df.sort_values(by='coverage', ascending=False)\n",
    "clusters.sort_values(by='id_longest_read',inplace=True)\n",
    "#clusters = clusters.head(50)\n",
    "clusters.head()"
   ]
  },
  {
   "cell_type": "markdown",
   "metadata": {},
   "source": [
    "# Coverage\n",
    "\n",
    "The first step is to filter the reads by coverage. For that I will explore the use of Kernel Density since this is clusters_list one dimensional clustering."
   ]
  },
  {
   "cell_type": "code",
   "execution_count": 4,
   "metadata": {},
   "outputs": [
    {
     "data": {
      "text/plain": [
       "<matplotlib.collections.PathCollection at 0x133d14650>"
      ]
     },
     "execution_count": 4,
     "metadata": {},
     "output_type": "execute_result"
    },
    {
     "data": {
      "image/png": "[encoded data removed]",
      "text/plain": [
       "<Figure size 640x480 with 1 Axes>"
      ]
     },
     "metadata": {},
     "output_type": "display_data"
    }
   ],
   "source": [
    "plt.scatter(x=clusters['coverage'], y=clusters['coverage'])"
   ]
  },
  {
   "cell_type": "markdown",
   "metadata": {},
   "source": [
    "# Oligo composition\n",
    "\n",
    "Once I've detected the clusters with higher coverage, which I expect includes mitochondria and contamination, whether nuclear or external, I have to purify these groups. To do this I will use the oligo composition as it is used during metagenomics binning.\n",
    "\n",
    "I will create clusters_list script to get the kmers. The kmer size will be 3 to solve two things: 1. Intrinsec error from Nanopore, 2 smaller set as possible (4**3 possible kmers). \n",
    "\n",
    "Finally, I will reduce dimensionality using PCA"
   ]
  },
  {
   "cell_type": "code",
   "execution_count": 5,
   "metadata": {},
   "outputs": [],
   "source": [
    "from src.utils import get_sequences_by_id, convert_fq_to_fa, write_fasta\n",
    "from src.kmer_cnt import count_kmer"
   ]
  },
  {
   "cell_type": "code",
   "execution_count": 6,
   "metadata": {},
   "outputs": [
    {
     "name": "stdout",
     "output_type": "stream",
     "text": [
      "11637 sequences converted to fasta\n"
     ]
    }
   ],
   "source": [
    "convert_fq_to_fa('test/s_cervisae_CEN.PK113-7D_SRR5892449_reads_sample.sorted_reversed.fastq','test/s_cervisae_CEN.PK113-7D_SRR5892449_reads_sample.sorted_reversed.fasta')"
   ]
  },
  {
   "cell_type": "code",
   "execution_count": 7,
   "metadata": {},
   "outputs": [],
   "source": [
    "fasta = 'test/s_cervisae_CEN.PK113-7D_SRR5892449_reads_sample.sorted_reversed.fasta'\n",
    "repr_reads = [i for i in clusters['id_longest_read']]\n",
    "hist = list()\n",
    "for i in get_sequences_by_id(fasta, repr_reads):\n",
    "    ids, seq = i\n",
    "    hist.append([*count_kmer(k=3,seq=seq).values(),ids])"
   ]
  },
  {
   "cell_type": "code",
   "execution_count": 8,
   "metadata": {},
   "outputs": [],
   "source": [
    "## Get the real mt sequences\n",
    "with open('test/list_ids_reads_mt.txt','r') as handle_ids_mt:\n",
    "    ids_mt = handle_ids_mt.read().splitlines()\n",
    "    ids_mt = [i[1:] for i in ids_mt]"
   ]
  },
  {
   "cell_type": "code",
   "execution_count": 9,
   "metadata": {},
   "outputs": [
    {
     "data": {
      "text/html": [
       "<div>\n",
       "<style scoped>\n",
       "    .dataframe tbody tr th:only-of-type {\n",
       "        vertical-align: middle;\n",
       "    }\n",
       "\n",
       "    .dataframe tbody tr th {\n",
       "        vertical-align: top;\n",
       "    }\n",
       "\n",
       "    .dataframe thead th {\n",
       "        text-align: right;\n",
       "    }\n",
       "</style>\n",
       "<table border=\"1\" class=\"dataframe\">\n",
       "  <thead>\n",
       "    <tr style=\"text-align: right;\">\n",
       "      <th></th>\n",
       "      <th>0</th>\n",
       "      <th>1</th>\n",
       "      <th>2</th>\n",
       "      <th>3</th>\n",
       "      <th>4</th>\n",
       "      <th>5</th>\n",
       "      <th>6</th>\n",
       "      <th>7</th>\n",
       "      <th>8</th>\n",
       "      <th>9</th>\n",
       "      <th>...</th>\n",
       "      <th>23</th>\n",
       "      <th>24</th>\n",
       "      <th>25</th>\n",
       "      <th>26</th>\n",
       "      <th>27</th>\n",
       "      <th>28</th>\n",
       "      <th>29</th>\n",
       "      <th>30</th>\n",
       "      <th>31</th>\n",
       "      <th>ids</th>\n",
       "    </tr>\n",
       "  </thead>\n",
       "  <tbody>\n",
       "    <tr>\n",
       "      <th>0</th>\n",
       "      <td>0.068673</td>\n",
       "      <td>0.062148</td>\n",
       "      <td>0.036930</td>\n",
       "      <td>0.042465</td>\n",
       "      <td>0.053846</td>\n",
       "      <td>0.038121</td>\n",
       "      <td>0.039734</td>\n",
       "      <td>0.035885</td>\n",
       "      <td>0.030479</td>\n",
       "      <td>0.022378</td>\n",
       "      <td>...</td>\n",
       "      <td>0.010410</td>\n",
       "      <td>0.018492</td>\n",
       "      <td>0.010923</td>\n",
       "      <td>0.048458</td>\n",
       "      <td>0.018804</td>\n",
       "      <td>0.028591</td>\n",
       "      <td>0.024485</td>\n",
       "      <td>0.014772</td>\n",
       "      <td>0.022030</td>\n",
       "      <td>SRR5892449.19157</td>\n",
       "    </tr>\n",
       "    <tr>\n",
       "      <th>1</th>\n",
       "      <td>0.066762</td>\n",
       "      <td>0.058792</td>\n",
       "      <td>0.038745</td>\n",
       "      <td>0.042383</td>\n",
       "      <td>0.051517</td>\n",
       "      <td>0.035435</td>\n",
       "      <td>0.037397</td>\n",
       "      <td>0.037662</td>\n",
       "      <td>0.028671</td>\n",
       "      <td>0.025217</td>\n",
       "      <td>...</td>\n",
       "      <td>0.011321</td>\n",
       "      <td>0.018596</td>\n",
       "      <td>0.011076</td>\n",
       "      <td>0.047451</td>\n",
       "      <td>0.018085</td>\n",
       "      <td>0.029222</td>\n",
       "      <td>0.026586</td>\n",
       "      <td>0.016410</td>\n",
       "      <td>0.021416</td>\n",
       "      <td>SRR5892449.26912</td>\n",
       "    </tr>\n",
       "    <tr>\n",
       "      <th>2</th>\n",
       "      <td>0.070278</td>\n",
       "      <td>0.062348</td>\n",
       "      <td>0.040416</td>\n",
       "      <td>0.041634</td>\n",
       "      <td>0.046632</td>\n",
       "      <td>0.037689</td>\n",
       "      <td>0.037669</td>\n",
       "      <td>0.037648</td>\n",
       "      <td>0.032031</td>\n",
       "      <td>0.023027</td>\n",
       "      <td>...</td>\n",
       "      <td>0.009562</td>\n",
       "      <td>0.019268</td>\n",
       "      <td>0.012081</td>\n",
       "      <td>0.049812</td>\n",
       "      <td>0.021085</td>\n",
       "      <td>0.028479</td>\n",
       "      <td>0.021788</td>\n",
       "      <td>0.013527</td>\n",
       "      <td>0.021209</td>\n",
       "      <td>SRR5892449.4506</td>\n",
       "    </tr>\n",
       "    <tr>\n",
       "      <th>3</th>\n",
       "      <td>0.070280</td>\n",
       "      <td>0.059009</td>\n",
       "      <td>0.037563</td>\n",
       "      <td>0.043715</td>\n",
       "      <td>0.049234</td>\n",
       "      <td>0.038321</td>\n",
       "      <td>0.037774</td>\n",
       "      <td>0.034972</td>\n",
       "      <td>0.029557</td>\n",
       "      <td>0.022753</td>\n",
       "      <td>...</td>\n",
       "      <td>0.012282</td>\n",
       "      <td>0.020562</td>\n",
       "      <td>0.011334</td>\n",
       "      <td>0.047654</td>\n",
       "      <td>0.019129</td>\n",
       "      <td>0.027556</td>\n",
       "      <td>0.025196</td>\n",
       "      <td>0.017675</td>\n",
       "      <td>0.022289</td>\n",
       "      <td>SRR5892449.22810</td>\n",
       "    </tr>\n",
       "    <tr>\n",
       "      <th>4</th>\n",
       "      <td>0.068131</td>\n",
       "      <td>0.056952</td>\n",
       "      <td>0.038211</td>\n",
       "      <td>0.043370</td>\n",
       "      <td>0.047736</td>\n",
       "      <td>0.035917</td>\n",
       "      <td>0.038850</td>\n",
       "      <td>0.037814</td>\n",
       "      <td>0.030538</td>\n",
       "      <td>0.024518</td>\n",
       "      <td>...</td>\n",
       "      <td>0.010628</td>\n",
       "      <td>0.019138</td>\n",
       "      <td>0.011774</td>\n",
       "      <td>0.048728</td>\n",
       "      <td>0.021828</td>\n",
       "      <td>0.029810</td>\n",
       "      <td>0.024430</td>\n",
       "      <td>0.016272</td>\n",
       "      <td>0.020572</td>\n",
       "      <td>SRR5892449.26820</td>\n",
       "    </tr>\n",
       "  </tbody>\n",
       "</table>\n",
       "<p>5 rows × 33 columns</p>\n",
       "</div>"
      ],
      "text/plain": [
       "          0         1         2         3         4         5         6  \\\n",
       "0  0.068673  0.062148  0.036930  0.042465  0.053846  0.038121  0.039734   \n",
       "1  0.066762  0.058792  0.038745  0.042383  0.051517  0.035435  0.037397   \n",
       "2  0.070278  0.062348  0.040416  0.041634  0.046632  0.037689  0.037669   \n",
       "3  0.070280  0.059009  0.037563  0.043715  0.049234  0.038321  0.037774   \n",
       "4  0.068131  0.056952  0.038211  0.043370  0.047736  0.035917  0.038850   \n",
       "\n",
       "          7         8         9  ...        23        24        25        26  \\\n",
       "0  0.035885  0.030479  0.022378  ...  0.010410  0.018492  0.010923  0.048458   \n",
       "1  0.037662  0.028671  0.025217  ...  0.011321  0.018596  0.011076  0.047451   \n",
       "2  0.037648  0.032031  0.023027  ...  0.009562  0.019268  0.012081  0.049812   \n",
       "3  0.034972  0.029557  0.022753  ...  0.012282  0.020562  0.011334  0.047654   \n",
       "4  0.037814  0.030538  0.024518  ...  0.010628  0.019138  0.011774  0.048728   \n",
       "\n",
       "         27        28        29        30        31               ids  \n",
       "0  0.018804  0.028591  0.024485  0.014772  0.022030  SRR5892449.19157  \n",
       "1  0.018085  0.029222  0.026586  0.016410  0.021416  SRR5892449.26912  \n",
       "2  0.021085  0.028479  0.021788  0.013527  0.021209   SRR5892449.4506  \n",
       "3  0.019129  0.027556  0.025196  0.017675  0.022289  SRR5892449.22810  \n",
       "4  0.021828  0.029810  0.024430  0.016272  0.020572  SRR5892449.26820  \n",
       "\n",
       "[5 rows x 33 columns]"
      ]
     },
     "execution_count": 9,
     "metadata": {},
     "output_type": "execute_result"
    }
   ],
   "source": [
    "hist_df= pd.DataFrame(hist)\n",
    "hist_df.rename(columns={hist_df.iloc[:,-1].name:'ids'}, inplace=True)\n",
    "hist_df.head()"
   ]
  },
  {
   "cell_type": "markdown",
   "metadata": {},
   "source": [
    "# Dimensionality reduction with PCA and clustering with k-means "
   ]
  },
  {
   "cell_type": "code",
   "execution_count": 10,
   "metadata": {},
   "outputs": [],
   "source": [
    "from sklearn.decomposition import PCA\n",
    "from sklearn.cluster import KMeans"
   ]
  },
  {
   "cell_type": "code",
   "execution_count": 11,
   "metadata": {},
   "outputs": [
    {
     "data": {
      "text/html": [
       "<style>#sk-container-id-1 {color: black;}#sk-container-id-1 pre{padding: 0;}#sk-container-id-1 div.sk-toggleable {background-color: white;}#sk-container-id-1 label.sk-toggleable__label {cursor: pointer;display: block;width: 100%;margin-bottom: 0;padding: 0.3em;box-sizing: border-box;text-align: center;}#sk-container-id-1 label.sk-toggleable__label-arrow:before {content: \"▸\";float: left;margin-right: 0.25em;color: #696969;}#sk-container-id-1 label.sk-toggleable__label-arrow:hover:before {color: black;}#sk-container-id-1 div.sk-estimator:hover label.sk-toggleable__label-arrow:before {color: black;}#sk-container-id-1 div.sk-toggleable__content {max-height: 0;max-width: 0;overflow: hidden;text-align: left;background-color: #f0f8ff;}#sk-container-id-1 div.sk-toggleable__content pre {margin: 0.2em;color: black;border-radius: 0.25em;background-color: #f0f8ff;}#sk-container-id-1 input.sk-toggleable__control:checked~div.sk-toggleable__content {max-height: 200px;max-width: 100%;overflow: auto;}#sk-container-id-1 input.sk-toggleable__control:checked~label.sk-toggleable__label-arrow:before {content: \"▾\";}#sk-container-id-1 div.sk-estimator input.sk-toggleable__control:checked~label.sk-toggleable__label {background-color: #d4ebff;}#sk-container-id-1 div.sk-label input.sk-toggleable__control:checked~label.sk-toggleable__label {background-color: #d4ebff;}#sk-container-id-1 input.sk-hidden--visually {border: 0;clip: rect(1px 1px 1px 1px);clip: rect(1px, 1px, 1px, 1px);height: 1px;margin: -1px;overflow: hidden;padding: 0;position: absolute;width: 1px;}#sk-container-id-1 div.sk-estimator {font-family: monospace;background-color: #f0f8ff;border: 1px dotted black;border-radius: 0.25em;box-sizing: border-box;margin-bottom: 0.5em;}#sk-container-id-1 div.sk-estimator:hover {background-color: #d4ebff;}#sk-container-id-1 div.sk-parallel-item::after {content: \"\";width: 100%;border-bottom: 1px solid gray;flex-grow: 1;}#sk-container-id-1 div.sk-label:hover label.sk-toggleable__label {background-color: #d4ebff;}#sk-container-id-1 div.sk-serial::before {content: \"\";position: absolute;border-left: 1px solid gray;box-sizing: border-box;top: 0;bottom: 0;left: 50%;z-index: 0;}#sk-container-id-1 div.sk-serial {display: flex;flex-direction: column;align-items: center;background-color: white;padding-right: 0.2em;padding-left: 0.2em;position: relative;}#sk-container-id-1 div.sk-item {position: relative;z-index: 1;}#sk-container-id-1 div.sk-parallel {display: flex;align-items: stretch;justify-content: center;background-color: white;position: relative;}#sk-container-id-1 div.sk-item::before, #sk-container-id-1 div.sk-parallel-item::before {content: \"\";position: absolute;border-left: 1px solid gray;box-sizing: border-box;top: 0;bottom: 0;left: 50%;z-index: -1;}#sk-container-id-1 div.sk-parallel-item {display: flex;flex-direction: column;z-index: 1;position: relative;background-color: white;}#sk-container-id-1 div.sk-parallel-item:first-child::after {align-self: flex-end;width: 50%;}#sk-container-id-1 div.sk-parallel-item:last-child::after {align-self: flex-start;width: 50%;}#sk-container-id-1 div.sk-parallel-item:only-child::after {width: 0;}#sk-container-id-1 div.sk-dashed-wrapped {border: 1px dashed gray;margin: 0 0.4em 0.5em 0.4em;box-sizing: border-box;padding-bottom: 0.4em;background-color: white;}#sk-container-id-1 div.sk-label label {font-family: monospace;font-weight: bold;display: inline-block;line-height: 1.2em;}#sk-container-id-1 div.sk-label-container {text-align: center;}#sk-container-id-1 div.sk-container {/* jupyter's `normalize.less` sets `[hidden] { display: none; }` but bootstrap.min.css set `[hidden] { display: none !important; }` so we also need the `!important` here to be able to override the default hidden behavior on the sphinx rendered scikit-learn.org. See: https://github.com/scikit-learn/scikit-learn/issues/21755 */display: inline-block !important;position: relative;}#sk-container-id-1 div.sk-text-repr-fallback {display: none;}</style><div id=\"sk-container-id-1\" class=\"sk-top-container\"><div class=\"sk-text-repr-fallback\"><pre>PCA(n_components=2)</pre><b>In a Jupyter environment, please rerun this cell to show the HTML representation or trust the notebook. <br />On GitHub, the HTML representation is unable to render, please try loading this page with nbviewer.org.</b></div><div class=\"sk-container\" hidden><div class=\"sk-item\"><div class=\"sk-estimator sk-toggleable\"><input class=\"sk-toggleable__control sk-hidden--visually\" id=\"sk-estimator-id-1\" type=\"checkbox\" checked><label for=\"sk-estimator-id-1\" class=\"sk-toggleable__label sk-toggleable__label-arrow\">PCA</label><div class=\"sk-toggleable__content\"><pre>PCA(n_components=2)</pre></div></div></div></div></div>"
      ],
      "text/plain": [
       "PCA(n_components=2)"
      ]
     },
     "execution_count": 11,
     "metadata": {},
     "output_type": "execute_result"
    }
   ],
   "source": [
    "pca = PCA(n_components=2)\n",
    "pca.fit(hist_df.iloc[:,:-2])"
   ]
  },
  {
   "cell_type": "code",
   "execution_count": 12,
   "metadata": {},
   "outputs": [
    {
     "data": {
      "text/plain": [
       "array([1.16492185e-03, 6.48275248e-05])"
      ]
     },
     "execution_count": 12,
     "metadata": {},
     "output_type": "execute_result"
    }
   ],
   "source": [
    "## Components and variance explained \n",
    "pca.explained_variance_\n",
    "#pca.components_"
   ]
  },
  {
   "cell_type": "code",
   "execution_count": 13,
   "metadata": {},
   "outputs": [
    {
     "data": {
      "text/html": [
       "<div>\n",
       "<style scoped>\n",
       "    .dataframe tbody tr th:only-of-type {\n",
       "        vertical-align: middle;\n",
       "    }\n",
       "\n",
       "    .dataframe tbody tr th {\n",
       "        vertical-align: top;\n",
       "    }\n",
       "\n",
       "    .dataframe thead th {\n",
       "        text-align: right;\n",
       "    }\n",
       "</style>\n",
       "<table border=\"1\" class=\"dataframe\">\n",
       "  <thead>\n",
       "    <tr style=\"text-align: right;\">\n",
       "      <th></th>\n",
       "      <th>comp1</th>\n",
       "      <th>comp2</th>\n",
       "      <th>ids</th>\n",
       "      <th>coverage</th>\n",
       "      <th>repr_read_len</th>\n",
       "      <th>id_cluster</th>\n",
       "      <th>mt</th>\n",
       "    </tr>\n",
       "  </thead>\n",
       "  <tbody>\n",
       "    <tr>\n",
       "      <th>6</th>\n",
       "      <td>0.250434</td>\n",
       "      <td>0.015862</td>\n",
       "      <td>SRR5892449.16013</td>\n",
       "      <td>23</td>\n",
       "      <td>42906</td>\n",
       "      <td>7</td>\n",
       "      <td>32</td>\n",
       "    </tr>\n",
       "    <tr>\n",
       "      <th>7</th>\n",
       "      <td>0.194896</td>\n",
       "      <td>-0.004475</td>\n",
       "      <td>SRR5892449.18856</td>\n",
       "      <td>50</td>\n",
       "      <td>42640</td>\n",
       "      <td>8</td>\n",
       "      <td>32</td>\n",
       "    </tr>\n",
       "    <tr>\n",
       "      <th>10</th>\n",
       "      <td>0.214927</td>\n",
       "      <td>0.012217</td>\n",
       "      <td>SRR5892449.4276</td>\n",
       "      <td>20</td>\n",
       "      <td>40403</td>\n",
       "      <td>11</td>\n",
       "      <td>32</td>\n",
       "    </tr>\n",
       "    <tr>\n",
       "      <th>17</th>\n",
       "      <td>0.204622</td>\n",
       "      <td>0.004961</td>\n",
       "      <td>SRR5892449.17340</td>\n",
       "      <td>15</td>\n",
       "      <td>38289</td>\n",
       "      <td>18</td>\n",
       "      <td>32</td>\n",
       "    </tr>\n",
       "    <tr>\n",
       "      <th>21</th>\n",
       "      <td>0.175464</td>\n",
       "      <td>0.012258</td>\n",
       "      <td>SRR5892449.21564</td>\n",
       "      <td>11</td>\n",
       "      <td>37081</td>\n",
       "      <td>22</td>\n",
       "      <td>32</td>\n",
       "    </tr>\n",
       "    <tr>\n",
       "      <th>28</th>\n",
       "      <td>0.223685</td>\n",
       "      <td>0.001026</td>\n",
       "      <td>SRR5892449.18969</td>\n",
       "      <td>54</td>\n",
       "      <td>35773</td>\n",
       "      <td>29</td>\n",
       "      <td>32</td>\n",
       "    </tr>\n",
       "    <tr>\n",
       "      <th>33</th>\n",
       "      <td>-0.001087</td>\n",
       "      <td>0.011152</td>\n",
       "      <td>SRR5892449.47933</td>\n",
       "      <td>11</td>\n",
       "      <td>34380</td>\n",
       "      <td>34</td>\n",
       "      <td>1</td>\n",
       "    </tr>\n",
       "    <tr>\n",
       "      <th>34</th>\n",
       "      <td>-0.010276</td>\n",
       "      <td>-0.007575</td>\n",
       "      <td>SRR5892449.46338</td>\n",
       "      <td>15</td>\n",
       "      <td>34217</td>\n",
       "      <td>35</td>\n",
       "      <td>1</td>\n",
       "    </tr>\n",
       "    <tr>\n",
       "      <th>36</th>\n",
       "      <td>-0.004506</td>\n",
       "      <td>0.010809</td>\n",
       "      <td>SRR5892449.27847</td>\n",
       "      <td>14</td>\n",
       "      <td>33854</td>\n",
       "      <td>37</td>\n",
       "      <td>1</td>\n",
       "    </tr>\n",
       "    <tr>\n",
       "      <th>41</th>\n",
       "      <td>0.119297</td>\n",
       "      <td>0.016229</td>\n",
       "      <td>SRR5892449.9739</td>\n",
       "      <td>52</td>\n",
       "      <td>33518</td>\n",
       "      <td>42</td>\n",
       "      <td>32</td>\n",
       "    </tr>\n",
       "  </tbody>\n",
       "</table>\n",
       "</div>"
      ],
      "text/plain": [
       "       comp1     comp2               ids  coverage  repr_read_len  id_cluster  \\\n",
       "6   0.250434  0.015862  SRR5892449.16013        23          42906           7   \n",
       "7   0.194896 -0.004475  SRR5892449.18856        50          42640           8   \n",
       "10  0.214927  0.012217   SRR5892449.4276        20          40403          11   \n",
       "17  0.204622  0.004961  SRR5892449.17340        15          38289          18   \n",
       "21  0.175464  0.012258  SRR5892449.21564        11          37081          22   \n",
       "28  0.223685  0.001026  SRR5892449.18969        54          35773          29   \n",
       "33 -0.001087  0.011152  SRR5892449.47933        11          34380          34   \n",
       "34 -0.010276 -0.007575  SRR5892449.46338        15          34217          35   \n",
       "36 -0.004506  0.010809  SRR5892449.27847        14          33854          37   \n",
       "41  0.119297  0.016229   SRR5892449.9739        52          33518          42   \n",
       "\n",
       "    mt  \n",
       "6   32  \n",
       "7   32  \n",
       "10  32  \n",
       "17  32  \n",
       "21  32  \n",
       "28  32  \n",
       "33   1  \n",
       "34   1  \n",
       "36   1  \n",
       "41  32  "
      ]
     },
     "execution_count": 13,
     "metadata": {},
     "output_type": "execute_result"
    }
   ],
   "source": [
    "kmer_reduction = pca.fit_transform(hist_df.iloc[:,:-2])\n",
    "kmer_reduction = pd.DataFrame(kmer_reduction)\n",
    "\n",
    "## merging the dataframe with ids and other relevant information\n",
    "kmer_reduction = pd.concat([kmer_reduction, hist_df['ids']], axis=1)\n",
    "kmer_reduction.rename(columns={0:'comp1',1:'comp2'}, inplace=True)\n",
    "kmer_reduction = kmer_reduction.merge(clusters, how='left', left_on='ids', right_on='id_longest_read')\n",
    "kmer_reduction.drop(columns='id_longest_read', inplace=True)\n",
    "\n",
    "## Annotate which reads are mitochondrial\n",
    "kmer_reduction['mt']=(kmer_reduction['ids'].isin(ids_mt).astype(int) + 1) ** 5\n",
    "kmer_reduction = kmer_reduction[kmer_reduction['coverage']>10]\n",
    "kmer_reduction.head(10)"
   ]
  },
  {
   "cell_type": "code",
   "execution_count": 14,
   "metadata": {},
   "outputs": [
    {
     "name": "stderr",
     "output_type": "stream",
     "text": [
      "No artists with labels found to put in legend.  Note that artists whose label start with an underscore are ignored when legend() is called with no argument.\n"
     ]
    },
    {
     "data": {
      "text/plain": [
       "Text(0, 0.5, 'comp2')"
      ]
     },
     "execution_count": 14,
     "metadata": {},
     "output_type": "execute_result"
    },
    {
     "data": {
      "image/png": "[encoded data removed]",
      "text/plain": [
       "<Figure size 640x480 with 2 Axes>"
      ]
     },
     "metadata": {},
     "output_type": "display_data"
    }
   ],
   "source": [
    "sc = plt.scatter(kmer_reduction['comp1'],kmer_reduction['comp2'], c=kmer_reduction['coverage'], s=kmer_reduction['mt'])\n",
    "# legend\n",
    "# Add clusters_list colorbar\n",
    "cbar = plt.colorbar(sc)\n",
    "cbar.set_label('Color Scale')\n",
    "plt.legend()\n",
    "plt.xlabel('comp1')\n",
    "plt.ylabel('comp2')"
   ]
  },
  {
   "cell_type": "code",
   "execution_count": 15,
   "metadata": {},
   "outputs": [
    {
     "name": "stdout",
     "output_type": "stream",
     "text": [
      "Initialization complete\n",
      "Iteration 0, inertia 0.02988400389445167.\n",
      "Iteration 1, inertia 0.022132917468622153.\n",
      "Iteration 2, inertia 0.019989362041878206.\n",
      "Converged at iteration 2: strict convergence.\n"
     ]
    }
   ],
   "source": [
    "kmeans = KMeans(n_clusters=2, max_iter=100, init='k-means++', random_state=0, n_init=1,verbose=1)\n",
    "mt_prediction = kmeans.fit_predict(kmer_reduction[['comp1','comp2']])#, sample_weight=kmer_reduction['coverage'])\n",
    "kmer_reduction['cluster_prediction'] = mt_prediction"
   ]
  },
  {
   "cell_type": "code",
   "execution_count": 16,
   "metadata": {},
   "outputs": [
    {
     "data": {
      "text/plain": [
       "Text(0, 0.5, 'comp2')"
      ]
     },
     "execution_count": 16,
     "metadata": {},
     "output_type": "execute_result"
    },
    {
     "data": {
      "image/png": "[encoded data removed]",
      "text/plain": [
       "<Figure size 640x480 with 1 Axes>"
      ]
     },
     "metadata": {},
     "output_type": "display_data"
    }
   ],
   "source": [
    "plt.scatter(x=kmer_reduction['comp1'], y=kmer_reduction['comp2'], c=mt_prediction, s=kmer_reduction['mt'])\n",
    "plt.xlabel('comp1')\n",
    "plt.ylabel('comp2')"
   ]
  },
  {
   "cell_type": "markdown",
   "metadata": {},
   "source": [
    "# Get the cluster of interest\n",
    "\n",
    "This step is clusters_list pain in the ass, but since I am looking to keep the free-reference. "
   ]
  },
  {
   "cell_type": "code",
   "execution_count": 20,
   "metadata": {},
   "outputs": [
    {
     "data": {
      "text/html": [
       "<div>\n",
       "<style scoped>\n",
       "    .dataframe tbody tr th:only-of-type {\n",
       "        vertical-align: middle;\n",
       "    }\n",
       "\n",
       "    .dataframe tbody tr th {\n",
       "        vertical-align: top;\n",
       "    }\n",
       "\n",
       "    .dataframe thead th {\n",
       "        text-align: right;\n",
       "    }\n",
       "</style>\n",
       "<table border=\"1\" class=\"dataframe\">\n",
       "  <thead>\n",
       "    <tr style=\"text-align: right;\">\n",
       "      <th></th>\n",
       "      <th>comp1</th>\n",
       "      <th>comp2</th>\n",
       "      <th>ids</th>\n",
       "      <th>coverage</th>\n",
       "      <th>repr_read_len</th>\n",
       "      <th>id_cluster</th>\n",
       "      <th>mt</th>\n",
       "      <th>cluster_prediction</th>\n",
       "    </tr>\n",
       "  </thead>\n",
       "  <tbody>\n",
       "    <tr>\n",
       "      <th>6</th>\n",
       "      <td>0.250434</td>\n",
       "      <td>0.015862</td>\n",
       "      <td>SRR5892449.16013</td>\n",
       "      <td>23</td>\n",
       "      <td>42906</td>\n",
       "      <td>7</td>\n",
       "      <td>32</td>\n",
       "      <td>1</td>\n",
       "    </tr>\n",
       "    <tr>\n",
       "      <th>7</th>\n",
       "      <td>0.194896</td>\n",
       "      <td>-0.004475</td>\n",
       "      <td>SRR5892449.18856</td>\n",
       "      <td>50</td>\n",
       "      <td>42640</td>\n",
       "      <td>8</td>\n",
       "      <td>32</td>\n",
       "      <td>1</td>\n",
       "    </tr>\n",
       "    <tr>\n",
       "      <th>10</th>\n",
       "      <td>0.214927</td>\n",
       "      <td>0.012217</td>\n",
       "      <td>SRR5892449.4276</td>\n",
       "      <td>20</td>\n",
       "      <td>40403</td>\n",
       "      <td>11</td>\n",
       "      <td>32</td>\n",
       "      <td>1</td>\n",
       "    </tr>\n",
       "    <tr>\n",
       "      <th>17</th>\n",
       "      <td>0.204622</td>\n",
       "      <td>0.004961</td>\n",
       "      <td>SRR5892449.17340</td>\n",
       "      <td>15</td>\n",
       "      <td>38289</td>\n",
       "      <td>18</td>\n",
       "      <td>32</td>\n",
       "      <td>1</td>\n",
       "    </tr>\n",
       "    <tr>\n",
       "      <th>21</th>\n",
       "      <td>0.175464</td>\n",
       "      <td>0.012258</td>\n",
       "      <td>SRR5892449.21564</td>\n",
       "      <td>11</td>\n",
       "      <td>37081</td>\n",
       "      <td>22</td>\n",
       "      <td>32</td>\n",
       "      <td>1</td>\n",
       "    </tr>\n",
       "  </tbody>\n",
       "</table>\n",
       "</div>"
      ],
      "text/plain": [
       "       comp1     comp2               ids  coverage  repr_read_len  id_cluster  \\\n",
       "6   0.250434  0.015862  SRR5892449.16013        23          42906           7   \n",
       "7   0.194896 -0.004475  SRR5892449.18856        50          42640           8   \n",
       "10  0.214927  0.012217   SRR5892449.4276        20          40403          11   \n",
       "17  0.204622  0.004961  SRR5892449.17340        15          38289          18   \n",
       "21  0.175464  0.012258  SRR5892449.21564        11          37081          22   \n",
       "\n",
       "    mt  cluster_prediction  \n",
       "6   32                   1  \n",
       "7   32                   1  \n",
       "10  32                   1  \n",
       "17  32                   1  \n",
       "21  32                   1  "
      ]
     },
     "execution_count": 20,
     "metadata": {},
     "output_type": "execute_result"
    }
   ],
   "source": [
    "selected_cluster_id = kmer_reduction.loc[:, kmer_reduction.columns != 'ids'].groupby(by='cluster_prediction')['coverage'].mean().idxmax()\n",
    "selected_cluster = kmer_reduction[kmer_reduction['cluster_prediction'] == selected_cluster_id]\n",
    "selected_cluster.head()"
   ]
  },
  {
   "cell_type": "code",
   "execution_count": 18,
   "metadata": {},
   "outputs": [
    {
     "name": "stdout",
     "output_type": "stream",
     "text": [
      "340 reads retrieved\n"
     ]
    }
   ],
   "source": [
    "sequences_ids = set()\n",
    "for i in selected_cluster['id_cluster']:\n",
    "    sequences_ids.update(clusters_list.get_cluster(i).id_sequences)\n",
    "write_fasta(fasta=fasta, sequences_ids=sequences_ids, output='test/mt_reads_v1.fasta')"
   ]
  }
 ],
 "metadata": {
  "kernelspec": {
   "display_name": "mitnanex",
   "language": "python",
   "name": "python3"
  },
  "language_info": {
   "codemirror_mode": {
    "name": "ipython",
    "version": 3
   },
   "file_extension": ".py",
   "mimetype": "text/x-python",
   "name": "python",
   "nbconvert_exporter": "python",
   "pygments_lexer": "ipython3",
   "version": "3.11.4"
  },
  "orig_nbformat": 4
 },
 "nbformat": 4,
 "nbformat_minor": 2
}

{
 "cells": [
  {
   "cell_type": "code",
   "execution_count": 1,
   "metadata": {},
   "outputs": [],
   "source": [
    "from src.mitnanex import run\n",
    "import pandas as pd"
   ]
  },
  {
   "cell_type": "code",
   "execution_count": 2,
   "metadata": {},
   "outputs": [],
   "source": [
    "\n",
    "a = run()\n",
    "\n",
    "# I need to plot the coverage of clusters\n",
    "coverages_df = pd.DataFrame(\n",
    "    {\n",
    "        \"coverage\": [i.coverage for i in a.clusters],\n",
    "        \"repr_read_len\": [i.longest_read_length for i in a.clusters],\n",
    "        \"id_longest_read\": [i.longest_read_id for i in a.clusters],\n",
    "        \"id_cluster\":[i.id_cluster for i in a.clusters],\n",
    "    }\n",
    ")\n",
    "\n"
   ]
  },
  {
   "cell_type": "code",
   "execution_count": 3,
   "metadata": {},
   "outputs": [
    {
     "data": {
      "text/html": [
       "<div>\n",
       "<style scoped>\n",
       "    .dataframe tbody tr th:only-of-type {\n",
       "        vertical-align: middle;\n",
       "    }\n",
       "\n",
       "    .dataframe tbody tr th {\n",
       "        vertical-align: top;\n",
       "    }\n",
       "\n",
       "    .dataframe thead th {\n",
       "        text-align: right;\n",
       "    }\n",
       "</style>\n",
       "<table border=\"1\" class=\"dataframe\">\n",
       "  <thead>\n",
       "    <tr style=\"text-align: right;\">\n",
       "      <th></th>\n",
       "      <th>coverage</th>\n",
       "      <th>repr_read_len</th>\n",
       "      <th>id_longest_read</th>\n",
       "      <th>id_cluster</th>\n",
       "    </tr>\n",
       "  </thead>\n",
       "  <tbody>\n",
       "    <tr>\n",
       "      <th>90</th>\n",
       "      <td>4</td>\n",
       "      <td>39243</td>\n",
       "      <td>SRR5892449.10138</td>\n",
       "      <td>91</td>\n",
       "    </tr>\n",
       "    <tr>\n",
       "      <th>8</th>\n",
       "      <td>45</td>\n",
       "      <td>29533</td>\n",
       "      <td>SRR5892449.13231</td>\n",
       "      <td>9</td>\n",
       "    </tr>\n",
       "    <tr>\n",
       "      <th>69</th>\n",
       "      <td>3</td>\n",
       "      <td>14448</td>\n",
       "      <td>SRR5892449.14202</td>\n",
       "      <td>70</td>\n",
       "    </tr>\n",
       "    <tr>\n",
       "      <th>456</th>\n",
       "      <td>2</td>\n",
       "      <td>23104</td>\n",
       "      <td>SRR5892449.14249</td>\n",
       "      <td>457</td>\n",
       "    </tr>\n",
       "    <tr>\n",
       "      <th>383</th>\n",
       "      <td>3</td>\n",
       "      <td>23987</td>\n",
       "      <td>SRR5892449.15079</td>\n",
       "      <td>384</td>\n",
       "    </tr>\n",
       "  </tbody>\n",
       "</table>\n",
       "</div>"
      ],
      "text/plain": [
       "     coverage  repr_read_len   id_longest_read  id_cluster\n",
       "90          4          39243  SRR5892449.10138          91\n",
       "8          45          29533  SRR5892449.13231           9\n",
       "69          3          14448  SRR5892449.14202          70\n",
       "456         2          23104  SRR5892449.14249         457\n",
       "383         3          23987  SRR5892449.15079         384"
      ]
     },
     "execution_count": 3,
     "metadata": {},
     "output_type": "execute_result"
    }
   ],
   "source": [
    "# Test on the first 30 clusters\n",
    "clusters = coverages_df.sort_values(by='coverage', ascending=False)\n",
    "clusters.sort_values(by='id_longest_read',inplace=True)\n",
    "#clusters = clusters.head(50)\n",
    "clusters.head()"
   ]
  },
  {
   "cell_type": "markdown",
   "metadata": {},
   "source": [
    "# Oligo composition\n",
    "\n",
    "Once I've detected the clusters with higher coverage, which I expect includes mitochondria and contamination, whether nuclear or external, I have to purify these groups. To do this I will use the oligo composition as it is used during metagenomics binning.\n",
    "\n",
    "I will create a script to get the kmers. The kmer size will be 3 to solve two things: 1. Intrinsec error from Nanopore, 2 smaller set as possible (4**3 possible kmers). \n",
    "\n",
    "Finally, I will reduce dimensionality using PCA"
   ]
  },
  {
   "cell_type": "code",
   "execution_count": 4,
   "metadata": {},
   "outputs": [],
   "source": [
    "from src.utils import get_sequences_by_id, convert_fq_to_fa\n",
    "from src.kmer_cnt import count_kmer"
   ]
  },
  {
   "cell_type": "code",
   "execution_count": 5,
   "metadata": {},
   "outputs": [],
   "source": [
    "#convert_fq_to_fa('test/s_cervisae_CEN.PK113-7D_SRR5892449_reads_sample.sorted.fastq','test/s_cervisae_CEN.PK113-7D_SRR5892449_reads_sample.sorted.fasta')"
   ]
  },
  {
   "cell_type": "code",
   "execution_count": 6,
   "metadata": {},
   "outputs": [],
   "source": [
    "with open('test/s_cervisae_CEN.PK113-7D.fasta', 'r') as handle:\n",
    "    s_cervisae = \"\".join(handle.read().splitlines()[1:-1])"
   ]
  },
  {
   "cell_type": "code",
   "execution_count": 7,
   "metadata": {},
   "outputs": [],
   "source": [
    "fasta = 'test/s_cervisae_CEN.PK113-7D_SRR5892449_reads_sample.sorted.fasta'\n",
    "repr_reads = [i for i in clusters['id_longest_read']]\n",
    "hist = list()\n",
    "for i in get_sequences_by_id(fasta, repr_reads):\n",
    "    ids, seq = i\n",
    "    hist.append([*count_kmer(k=3,seq=seq).values(),ids])"
   ]
  },
  {
   "cell_type": "code",
   "execution_count": 8,
   "metadata": {},
   "outputs": [],
   "source": [
    "## Get the real mt sequences\n",
    "with open('test/list_ids_reads_mt.txt','r') as handle_ids_mt:\n",
    "    ids_mt = handle_ids_mt.read().splitlines()\n",
    "    ids_mt = [i[1:] for i in ids_mt]"
   ]
  },
  {
   "cell_type": "code",
   "execution_count": 9,
   "metadata": {},
   "outputs": [
    {
     "data": {
      "text/html": [
       "<div>\n",
       "<style scoped>\n",
       "    .dataframe tbody tr th:only-of-type {\n",
       "        vertical-align: middle;\n",
       "    }\n",
       "\n",
       "    .dataframe tbody tr th {\n",
       "        vertical-align: top;\n",
       "    }\n",
       "\n",
       "    .dataframe thead th {\n",
       "        text-align: right;\n",
       "    }\n",
       "</style>\n",
       "<table border=\"1\" class=\"dataframe\">\n",
       "  <thead>\n",
       "    <tr style=\"text-align: right;\">\n",
       "      <th></th>\n",
       "      <th>0</th>\n",
       "      <th>1</th>\n",
       "      <th>2</th>\n",
       "      <th>3</th>\n",
       "      <th>4</th>\n",
       "      <th>5</th>\n",
       "      <th>6</th>\n",
       "      <th>7</th>\n",
       "      <th>8</th>\n",
       "      <th>9</th>\n",
       "      <th>...</th>\n",
       "      <th>23</th>\n",
       "      <th>24</th>\n",
       "      <th>25</th>\n",
       "      <th>26</th>\n",
       "      <th>27</th>\n",
       "      <th>28</th>\n",
       "      <th>29</th>\n",
       "      <th>30</th>\n",
       "      <th>31</th>\n",
       "      <th>ids</th>\n",
       "    </tr>\n",
       "  </thead>\n",
       "  <tbody>\n",
       "    <tr>\n",
       "      <th>0</th>\n",
       "      <td>0.077405</td>\n",
       "      <td>0.066022</td>\n",
       "      <td>0.035572</td>\n",
       "      <td>0.046101</td>\n",
       "      <td>0.052647</td>\n",
       "      <td>0.037279</td>\n",
       "      <td>0.036141</td>\n",
       "      <td>0.034434</td>\n",
       "      <td>0.034434</td>\n",
       "      <td>0.022197</td>\n",
       "      <td>...</td>\n",
       "      <td>0.008822</td>\n",
       "      <td>0.017359</td>\n",
       "      <td>0.007684</td>\n",
       "      <td>0.047809</td>\n",
       "      <td>0.019351</td>\n",
       "      <td>0.029880</td>\n",
       "      <td>0.024189</td>\n",
       "      <td>0.011668</td>\n",
       "      <td>0.023620</td>\n",
       "      <td>SRR5892449.35847</td>\n",
       "    </tr>\n",
       "    <tr>\n",
       "      <th>1</th>\n",
       "      <td>0.084838</td>\n",
       "      <td>0.066082</td>\n",
       "      <td>0.036810</td>\n",
       "      <td>0.044172</td>\n",
       "      <td>0.048554</td>\n",
       "      <td>0.038037</td>\n",
       "      <td>0.035933</td>\n",
       "      <td>0.034706</td>\n",
       "      <td>0.028922</td>\n",
       "      <td>0.022436</td>\n",
       "      <td>...</td>\n",
       "      <td>0.009115</td>\n",
       "      <td>0.018230</td>\n",
       "      <td>0.011218</td>\n",
       "      <td>0.050657</td>\n",
       "      <td>0.017704</td>\n",
       "      <td>0.029623</td>\n",
       "      <td>0.025767</td>\n",
       "      <td>0.013497</td>\n",
       "      <td>0.024014</td>\n",
       "      <td>SRR5892449.51416</td>\n",
       "    </tr>\n",
       "    <tr>\n",
       "      <th>2</th>\n",
       "      <td>0.082709</td>\n",
       "      <td>0.069265</td>\n",
       "      <td>0.035228</td>\n",
       "      <td>0.041184</td>\n",
       "      <td>0.055310</td>\n",
       "      <td>0.039312</td>\n",
       "      <td>0.033867</td>\n",
       "      <td>0.029442</td>\n",
       "      <td>0.028591</td>\n",
       "      <td>0.020762</td>\n",
       "      <td>...</td>\n",
       "      <td>0.010551</td>\n",
       "      <td>0.021613</td>\n",
       "      <td>0.013104</td>\n",
       "      <td>0.047651</td>\n",
       "      <td>0.017359</td>\n",
       "      <td>0.026208</td>\n",
       "      <td>0.028251</td>\n",
       "      <td>0.014466</td>\n",
       "      <td>0.023996</td>\n",
       "      <td>SRR5892449.38634</td>\n",
       "    </tr>\n",
       "    <tr>\n",
       "      <th>3</th>\n",
       "      <td>0.063737</td>\n",
       "      <td>0.051157</td>\n",
       "      <td>0.041597</td>\n",
       "      <td>0.044448</td>\n",
       "      <td>0.039249</td>\n",
       "      <td>0.035559</td>\n",
       "      <td>0.038745</td>\n",
       "      <td>0.037739</td>\n",
       "      <td>0.031869</td>\n",
       "      <td>0.025327</td>\n",
       "      <td>...</td>\n",
       "      <td>0.012915</td>\n",
       "      <td>0.019960</td>\n",
       "      <td>0.009561</td>\n",
       "      <td>0.046796</td>\n",
       "      <td>0.023650</td>\n",
       "      <td>0.030023</td>\n",
       "      <td>0.025495</td>\n",
       "      <td>0.016941</td>\n",
       "      <td>0.026333</td>\n",
       "      <td>SRR5892449.32600</td>\n",
       "    </tr>\n",
       "    <tr>\n",
       "      <th>4</th>\n",
       "      <td>0.069349</td>\n",
       "      <td>0.053762</td>\n",
       "      <td>0.032448</td>\n",
       "      <td>0.042787</td>\n",
       "      <td>0.055829</td>\n",
       "      <td>0.034357</td>\n",
       "      <td>0.036424</td>\n",
       "      <td>0.034516</td>\n",
       "      <td>0.030380</td>\n",
       "      <td>0.019405</td>\n",
       "      <td>...</td>\n",
       "      <td>0.012884</td>\n",
       "      <td>0.021950</td>\n",
       "      <td>0.021314</td>\n",
       "      <td>0.048513</td>\n",
       "      <td>0.016065</td>\n",
       "      <td>0.033720</td>\n",
       "      <td>0.032130</td>\n",
       "      <td>0.013520</td>\n",
       "      <td>0.025290</td>\n",
       "      <td>SRR5892449.41090</td>\n",
       "    </tr>\n",
       "  </tbody>\n",
       "</table>\n",
       "<p>5 rows × 33 columns</p>\n",
       "</div>"
      ],
      "text/plain": [
       "          0         1         2         3         4         5         6  \\\n",
       "0  0.077405  0.066022  0.035572  0.046101  0.052647  0.037279  0.036141   \n",
       "1  0.084838  0.066082  0.036810  0.044172  0.048554  0.038037  0.035933   \n",
       "2  0.082709  0.069265  0.035228  0.041184  0.055310  0.039312  0.033867   \n",
       "3  0.063737  0.051157  0.041597  0.044448  0.039249  0.035559  0.038745   \n",
       "4  0.069349  0.053762  0.032448  0.042787  0.055829  0.034357  0.036424   \n",
       "\n",
       "          7         8         9  ...        23        24        25        26  \\\n",
       "0  0.034434  0.034434  0.022197  ...  0.008822  0.017359  0.007684  0.047809   \n",
       "1  0.034706  0.028922  0.022436  ...  0.009115  0.018230  0.011218  0.050657   \n",
       "2  0.029442  0.028591  0.020762  ...  0.010551  0.021613  0.013104  0.047651   \n",
       "3  0.037739  0.031869  0.025327  ...  0.012915  0.019960  0.009561  0.046796   \n",
       "4  0.034516  0.030380  0.019405  ...  0.012884  0.021950  0.021314  0.048513   \n",
       "\n",
       "         27        28        29        30        31               ids  \n",
       "0  0.019351  0.029880  0.024189  0.011668  0.023620  SRR5892449.35847  \n",
       "1  0.017704  0.029623  0.025767  0.013497  0.024014  SRR5892449.51416  \n",
       "2  0.017359  0.026208  0.028251  0.014466  0.023996  SRR5892449.38634  \n",
       "3  0.023650  0.030023  0.025495  0.016941  0.026333  SRR5892449.32600  \n",
       "4  0.016065  0.033720  0.032130  0.013520  0.025290  SRR5892449.41090  \n",
       "\n",
       "[5 rows x 33 columns]"
      ]
     },
     "execution_count": 9,
     "metadata": {},
     "output_type": "execute_result"
    }
   ],
   "source": [
    "hist_df= pd.DataFrame(hist)\n",
    "hist_df.rename(columns={hist_df.iloc[:,-1].name:'ids'}, inplace=True)\n",
    "hist_df.head()"
   ]
  },
  {
   "cell_type": "markdown",
   "metadata": {},
   "source": [
    "# Dimensionality reduction with PCA and clustering with k-means "
   ]
  },
  {
   "cell_type": "code",
   "execution_count": 10,
   "metadata": {},
   "outputs": [],
   "source": [
    "from sklearn.decomposition import PCA\n",
    "from sklearn.cluster import KMeans\n",
    "import matplotlib.pyplot as plt"
   ]
  },
  {
   "cell_type": "code",
   "execution_count": 11,
   "metadata": {},
   "outputs": [
    {
     "data": {
      "text/html": [
       "<style>#sk-container-id-1 {color: black;}#sk-container-id-1 pre{padding: 0;}#sk-container-id-1 div.sk-toggleable {background-color: white;}#sk-container-id-1 label.sk-toggleable__label {cursor: pointer;display: block;width: 100%;margin-bottom: 0;padding: 0.3em;box-sizing: border-box;text-align: center;}#sk-container-id-1 label.sk-toggleable__label-arrow:before {content: \"▸\";float: left;margin-right: 0.25em;color: #696969;}#sk-container-id-1 label.sk-toggleable__label-arrow:hover:before {color: black;}#sk-container-id-1 div.sk-estimator:hover label.sk-toggleable__label-arrow:before {color: black;}#sk-container-id-1 div.sk-toggleable__content {max-height: 0;max-width: 0;overflow: hidden;text-align: left;background-color: #f0f8ff;}#sk-container-id-1 div.sk-toggleable__content pre {margin: 0.2em;color: black;border-radius: 0.25em;background-color: #f0f8ff;}#sk-container-id-1 input.sk-toggleable__control:checked~div.sk-toggleable__content {max-height: 200px;max-width: 100%;overflow: auto;}#sk-container-id-1 input.sk-toggleable__control:checked~label.sk-toggleable__label-arrow:before {content: \"▾\";}#sk-container-id-1 div.sk-estimator input.sk-toggleable__control:checked~label.sk-toggleable__label {background-color: #d4ebff;}#sk-container-id-1 div.sk-label input.sk-toggleable__control:checked~label.sk-toggleable__label {background-color: #d4ebff;}#sk-container-id-1 input.sk-hidden--visually {border: 0;clip: rect(1px 1px 1px 1px);clip: rect(1px, 1px, 1px, 1px);height: 1px;margin: -1px;overflow: hidden;padding: 0;position: absolute;width: 1px;}#sk-container-id-1 div.sk-estimator {font-family: monospace;background-color: #f0f8ff;border: 1px dotted black;border-radius: 0.25em;box-sizing: border-box;margin-bottom: 0.5em;}#sk-container-id-1 div.sk-estimator:hover {background-color: #d4ebff;}#sk-container-id-1 div.sk-parallel-item::after {content: \"\";width: 100%;border-bottom: 1px solid gray;flex-grow: 1;}#sk-container-id-1 div.sk-label:hover label.sk-toggleable__label {background-color: #d4ebff;}#sk-container-id-1 div.sk-serial::before {content: \"\";position: absolute;border-left: 1px solid gray;box-sizing: border-box;top: 0;bottom: 0;left: 50%;z-index: 0;}#sk-container-id-1 div.sk-serial {display: flex;flex-direction: column;align-items: center;background-color: white;padding-right: 0.2em;padding-left: 0.2em;position: relative;}#sk-container-id-1 div.sk-item {position: relative;z-index: 1;}#sk-container-id-1 div.sk-parallel {display: flex;align-items: stretch;justify-content: center;background-color: white;position: relative;}#sk-container-id-1 div.sk-item::before, #sk-container-id-1 div.sk-parallel-item::before {content: \"\";position: absolute;border-left: 1px solid gray;box-sizing: border-box;top: 0;bottom: 0;left: 50%;z-index: -1;}#sk-container-id-1 div.sk-parallel-item {display: flex;flex-direction: column;z-index: 1;position: relative;background-color: white;}#sk-container-id-1 div.sk-parallel-item:first-child::after {align-self: flex-end;width: 50%;}#sk-container-id-1 div.sk-parallel-item:last-child::after {align-self: flex-start;width: 50%;}#sk-container-id-1 div.sk-parallel-item:only-child::after {width: 0;}#sk-container-id-1 div.sk-dashed-wrapped {border: 1px dashed gray;margin: 0 0.4em 0.5em 0.4em;box-sizing: border-box;padding-bottom: 0.4em;background-color: white;}#sk-container-id-1 div.sk-label label {font-family: monospace;font-weight: bold;display: inline-block;line-height: 1.2em;}#sk-container-id-1 div.sk-label-container {text-align: center;}#sk-container-id-1 div.sk-container {/* jupyter's `normalize.less` sets `[hidden] { display: none; }` but bootstrap.min.css set `[hidden] { display: none !important; }` so we also need the `!important` here to be able to override the default hidden behavior on the sphinx rendered scikit-learn.org. See: https://github.com/scikit-learn/scikit-learn/issues/21755 */display: inline-block !important;position: relative;}#sk-container-id-1 div.sk-text-repr-fallback {display: none;}</style><div id=\"sk-container-id-1\" class=\"sk-top-container\"><div class=\"sk-text-repr-fallback\"><pre>PCA(n_components=2)</pre><b>In a Jupyter environment, please rerun this cell to show the HTML representation or trust the notebook. <br />On GitHub, the HTML representation is unable to render, please try loading this page with nbviewer.org.</b></div><div class=\"sk-container\" hidden><div class=\"sk-item\"><div class=\"sk-estimator sk-toggleable\"><input class=\"sk-toggleable__control sk-hidden--visually\" id=\"sk-estimator-id-1\" type=\"checkbox\" checked><label for=\"sk-estimator-id-1\" class=\"sk-toggleable__label sk-toggleable__label-arrow\">PCA</label><div class=\"sk-toggleable__content\"><pre>PCA(n_components=2)</pre></div></div></div></div></div>"
      ],
      "text/plain": [
       "PCA(n_components=2)"
      ]
     },
     "execution_count": 11,
     "metadata": {},
     "output_type": "execute_result"
    }
   ],
   "source": [
    "pca = PCA(n_components=2)\n",
    "pca.fit(hist_df.iloc[:,:-2])"
   ]
  },
  {
   "cell_type": "code",
   "execution_count": 12,
   "metadata": {},
   "outputs": [
    {
     "data": {
      "text/plain": [
       "array([1.52501726e-03, 5.22728403e-05])"
      ]
     },
     "execution_count": 12,
     "metadata": {},
     "output_type": "execute_result"
    }
   ],
   "source": [
    "## Components and variance explained \n",
    "pca.explained_variance_\n",
    "#pca.components_"
   ]
  },
  {
   "cell_type": "code",
   "execution_count": 13,
   "metadata": {},
   "outputs": [
    {
     "data": {
      "text/html": [
       "<div>\n",
       "<style scoped>\n",
       "    .dataframe tbody tr th:only-of-type {\n",
       "        vertical-align: middle;\n",
       "    }\n",
       "\n",
       "    .dataframe tbody tr th {\n",
       "        vertical-align: top;\n",
       "    }\n",
       "\n",
       "    .dataframe thead th {\n",
       "        text-align: right;\n",
       "    }\n",
       "</style>\n",
       "<table border=\"1\" class=\"dataframe\">\n",
       "  <thead>\n",
       "    <tr style=\"text-align: right;\">\n",
       "      <th></th>\n",
       "      <th>comp0</th>\n",
       "      <th>comp1</th>\n",
       "      <th>ids</th>\n",
       "      <th>coverage</th>\n",
       "      <th>repr_read_len</th>\n",
       "      <th>id_cluster</th>\n",
       "      <th>mt</th>\n",
       "    </tr>\n",
       "  </thead>\n",
       "  <tbody>\n",
       "    <tr>\n",
       "      <th>200</th>\n",
       "      <td>0.230278</td>\n",
       "      <td>-0.000265</td>\n",
       "      <td>SRR5892449.30556</td>\n",
       "      <td>15</td>\n",
       "      <td>15245</td>\n",
       "      <td>108</td>\n",
       "      <td>32</td>\n",
       "    </tr>\n",
       "    <tr>\n",
       "      <th>250</th>\n",
       "      <td>-0.011061</td>\n",
       "      <td>0.002472</td>\n",
       "      <td>SRR5892449.32857</td>\n",
       "      <td>19</td>\n",
       "      <td>16946</td>\n",
       "      <td>45</td>\n",
       "      <td>1</td>\n",
       "    </tr>\n",
       "    <tr>\n",
       "      <th>372</th>\n",
       "      <td>-0.006764</td>\n",
       "      <td>-0.002882</td>\n",
       "      <td>SRR5892449.38595</td>\n",
       "      <td>13</td>\n",
       "      <td>21951</td>\n",
       "      <td>16</td>\n",
       "      <td>1</td>\n",
       "    </tr>\n",
       "    <tr>\n",
       "      <th>390</th>\n",
       "      <td>0.241962</td>\n",
       "      <td>0.011675</td>\n",
       "      <td>SRR5892449.22576</td>\n",
       "      <td>49</td>\n",
       "      <td>22951</td>\n",
       "      <td>48</td>\n",
       "      <td>32</td>\n",
       "    </tr>\n",
       "    <tr>\n",
       "      <th>416</th>\n",
       "      <td>-0.004477</td>\n",
       "      <td>0.005104</td>\n",
       "      <td>SRR5892449.46373</td>\n",
       "      <td>51</td>\n",
       "      <td>25209</td>\n",
       "      <td>55</td>\n",
       "      <td>1</td>\n",
       "    </tr>\n",
       "  </tbody>\n",
       "</table>\n",
       "</div>"
      ],
      "text/plain": [
       "        comp0     comp1               ids  coverage  repr_read_len  \\\n",
       "200  0.230278 -0.000265  SRR5892449.30556        15          15245   \n",
       "250 -0.011061  0.002472  SRR5892449.32857        19          16946   \n",
       "372 -0.006764 -0.002882  SRR5892449.38595        13          21951   \n",
       "390  0.241962  0.011675  SRR5892449.22576        49          22951   \n",
       "416 -0.004477  0.005104  SRR5892449.46373        51          25209   \n",
       "\n",
       "     id_cluster  mt  \n",
       "200         108  32  \n",
       "250          45   1  \n",
       "372          16   1  \n",
       "390          48  32  \n",
       "416          55   1  "
      ]
     },
     "execution_count": 13,
     "metadata": {},
     "output_type": "execute_result"
    }
   ],
   "source": [
    "kmer_reduction = pca.fit_transform(hist_df.iloc[:,:-2])\n",
    "kmer_reduction = pd.DataFrame(kmer_reduction)\n",
    "\n",
    "## merging the dataframe with ids and other relevant information\n",
    "kmer_reduction = pd.concat([kmer_reduction, hist_df['ids']], axis=1)\n",
    "kmer_reduction.rename(columns={0:'comp0',1:'comp1'}, inplace=True)\n",
    "kmer_reduction = kmer_reduction.merge(clusters, how='left', left_on='ids', right_on='id_longest_read')\n",
    "kmer_reduction.drop(columns='id_longest_read', inplace=True)\n",
    "\n",
    "## Annotate which reads are mitochondrial\n",
    "kmer_reduction['mt']=(kmer_reduction['ids'].isin(ids_mt).astype(int) + 1) ** 5\n",
    "kmer_reduction = kmer_reduction[kmer_reduction['coverage']>10]\n",
    "kmer_reduction.head()\n"
   ]
  },
  {
   "cell_type": "code",
   "execution_count": 14,
   "metadata": {},
   "outputs": [
    {
     "name": "stderr",
     "output_type": "stream",
     "text": [
      "No artists with labels found to put in legend.  Note that artists whose label start with an underscore are ignored when legend() is called with no argument.\n"
     ]
    },
    {
     "data": {
      "text/plain": [
       "<matplotlib.legend.Legend at 0x1515a4150>"
      ]
     },
     "execution_count": 14,
     "metadata": {},
     "output_type": "execute_result"
    },
    {
     "data": {
      "image/png": "[encoded data removed]",
      "text/plain": [
       "<Figure size 640x480 with 2 Axes>"
      ]
     },
     "metadata": {},
     "output_type": "display_data"
    }
   ],
   "source": [
    "sc = plt.scatter(kmer_reduction['comp0'],kmer_reduction['comp1'], c=kmer_reduction['coverage'], s=kmer_reduction['mt'])\n",
    "# legend\n",
    "# Add a colorbar\n",
    "cbar = plt.colorbar(sc)\n",
    "cbar.set_label('Color Scale')\n",
    "plt.legend()"
   ]
  },
  {
   "cell_type": "code",
   "execution_count": 15,
   "metadata": {},
   "outputs": [
    {
     "name": "stdout",
     "output_type": "stream",
     "text": [
      "Initialization complete\n",
      "Iteration 0, inertia 0.00856190189707378.\n",
      "Iteration 1, inertia 0.007638765767833249.\n",
      "Converged at iteration 1: strict convergence.\n"
     ]
    },
    {
     "data": {
      "text/plain": [
       "<matplotlib.collections.PathCollection at 0x15376d710>"
      ]
     },
     "execution_count": 15,
     "metadata": {},
     "output_type": "execute_result"
    },
    {
     "data": {
      "image/png": "[encoded data removed]",
      "text/plain": [
       "<Figure size 640x480 with 1 Axes>"
      ]
     },
     "metadata": {},
     "output_type": "display_data"
    }
   ],
   "source": [
    "kmeans = KMeans(n_clusters=2, max_iter=100, init='k-means++', random_state=0, n_init=1,verbose=1)\n",
    "prediction = kmeans.fit_predict(kmer_reduction[['comp0','comp1']])#, sample_weight=kmer_reduction['coverage'])\n",
    "plt.scatter(x=kmer_reduction['comp0'], y=kmer_reduction['comp1'], c=prediction, s=kmer_reduction['mt'])\n"
   ]
  },
  {
   "cell_type": "code",
   "execution_count": 16,
   "metadata": {},
   "outputs": [],
   "source": [
    "# DBSCAN\n"
   ]
  }
 ],
 "metadata": {
  "kernelspec": {
   "display_name": "mitnanex",
   "language": "python",
   "name": "python3"
  },
  "language_info": {
   "codemirror_mode": {
    "name": "ipython",
    "version": 3
   },
   "file_extension": ".py",
   "mimetype": "text/x-python",
   "name": "python",
   "nbconvert_exporter": "python",
   "pygments_lexer": "ipython3",
   "version": "3.11.4"
  },
  "orig_nbformat": 4
 },
 "nbformat": 4,
 "nbformat_minor": 2
}

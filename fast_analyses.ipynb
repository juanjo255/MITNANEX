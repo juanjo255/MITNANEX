{
 "cells": [
  {
   "cell_type": "code",
   "execution_count": 2,
   "metadata": {},
   "outputs": [],
   "source": [
    "import time\n",
    "from src.mitnanex import run\n",
    "import matplotlib.pyplot as plt\n",
    "import pandas as pd\n",
    "from sklearn.cluster import KMeans\n",
    "from Bio import SeqIO\n",
    "from sourmash import MinHash\n"
   ]
  },
  {
   "cell_type": "code",
   "execution_count": 3,
   "metadata": {},
   "outputs": [],
   "source": [
    "\n",
    "## FASTA file is lighter\n",
    "# convert_fq_to_fa(\n",
    "#     \"test/aedes_vexans_all_reads_subsample_sorted_length.fastq\",\n",
    "#     \"test/aedes_vexans_all_reads_subsample_sorted_length.fasta\",\n",
    "# )\n",
    "records_dict = SeqIO.to_dict(\n",
    "        SeqIO.parse(\"test/aedes_vexans_all_reads_subsample_sorted_length.fasta\", \"fasta\")\n",
    "    )\n",
    "a = run()\n",
    "\n",
    "# I need to plot the coverage of clusters\n",
    "coverages_df = pd.DataFrame(\n",
    "    {\n",
    "        \"coverage\": [i.coverage for i in a.clusters],\n",
    "        \"longest_read_len\": [i.longest_read_length for i in a.clusters],\n",
    "        \"id_longest_read\": [i.longest_read_id for i in a.clusters],\n",
    "        \"id_cluster\":[i.id_cluster for i in a.clusters],\n",
    "    }\n",
    ")\n",
    "\n"
   ]
  },
  {
   "cell_type": "code",
   "execution_count": null,
   "metadata": {},
   "outputs": [],
   "source": [
    "# Test on the first 30 clusters\n",
    "prueba = coverages_df.sort_values(by='coverage', ascending=False).head(30)\n",
    "for id in prueba['id_longest_read']:\n",
    "    records_dict[id].seq"
   ]
  }
 ],
 "metadata": {
  "kernelspec": {
   "display_name": "mitnanex",
   "language": "python",
   "name": "python3"
  },
  "language_info": {
   "codemirror_mode": {
    "name": "ipython",
    "version": 3
   },
   "file_extension": ".py",
   "mimetype": "text/x-python",
   "name": "python",
   "nbconvert_exporter": "python",
   "pygments_lexer": "ipython3",
   "version": "3.11.3"
  },
  "orig_nbformat": 4
 },
 "nbformat": 4,
 "nbformat_minor": 2
}

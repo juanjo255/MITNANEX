{
 "cells": [
  {
   "cell_type": "code",
   "execution_count": 201,
   "metadata": {},
   "outputs": [],
   "source": [
    "#%conda install jupyter notebook -U\n",
    "from ncbi.datasets import GenomeApi as DatasetsGenomeApi\n",
    "from ncbi.datasets.openapi import ApiClient as DatasetsApiClient\n",
    "import pandas as pd\n",
    "from pysradb.sraweb import SRAweb"
   ]
  },
  {
   "cell_type": "code",
   "execution_count": 202,
   "metadata": {},
   "outputs": [],
   "source": [
    "def get_metadata_genome_api (bioprojects) -> list:\n",
    "    result = list()\n",
    "    # CONNECT WITH GENOME API\n",
    "    with DatasetsApiClient() as api_client:\n",
    "        genome_api = DatasetsGenomeApi(api_client)\n",
    "        assemblies = genome_api.assembly_descriptors_by_bioproject(bioprojects)\n",
    "        assemblies_dict = assemblies.to_dict()\n",
    "        # print (assemblies_dict.keys())\n",
    "        # ITER THROUGH ASSEMBLIES\n",
    "        for assembly in assemblies_dict[\"assemblies\"]:\n",
    "            # CHECK THAT KEYS STORING SRA EXIST\n",
    "            # print(assembly[\"assembly\"].keys())\n",
    "            if not (\"biosample\" in assembly[\"assembly\"].keys()):\n",
    "                continue\n",
    "            elif not(\"sample_ids\" in assembly[\"assembly\"][\"biosample\"].keys()):\n",
    "                continue\n",
    "            for record in assembly[\"assembly\"][\"biosample\"][\"sample_ids\"]:\n",
    "                if \"SRA\" in record.values():\n",
    "                    ## GET ONLY RUNS\n",
    "                    ## SRA CAN GET SAMPLES (S), EXPERIMENTS(E) OR RUNS (R)\n",
    "                    if record['value'][2] == 'R':\n",
    "                        print(record)\n",
    "                        #print (assembly[\"assembly\"][\"bioproject_lineages\"])\n",
    "                        #print (assembly[\"assembly\"][\"biosample\"][\"sample_ids\"])\n",
    "                        #print (assembly[\"assembly\"][\"biosample\"][\"description\"][\"organism\"][\"organism_name\"])\n",
    "                        result.append((assembly[\"assembly\"][\"assembly_accession\"],\n",
    "                                    assembly[\"assembly\"][\"bioproject_lineages\"],\n",
    "                                    assembly[\"assembly\"][\"biosample\"][\"sample_ids\"],\n",
    "                                    assembly[\"assembly\"][\"biosample\"][\"description\"][\"organism\"][\"organism_name\"]\n",
    "                                    ))\n",
    "        return result"
   ]
  },
  {
   "cell_type": "code",
   "execution_count": 203,
   "metadata": {},
   "outputs": [],
   "source": [
    "# PARSE CSV FILE DOWNLOADED FROM NCBI\n",
    "def parse_data (file) -> list:\n",
    "    data = pd.read_csv(file, delimiter=\",\")\n",
    "    data = data[['Replicons','BioProject']]\n",
    "    data.dropna(subset='Replicons', ignore_index=True ,inplace=True)\n",
    "    bioprojects = list()\n",
    "    for i in range(len(data.index)):\n",
    "        for replicon in data.loc[i,'Replicons'].split('; '):\n",
    "            if 'mitochondrion' in replicon:\n",
    "                bioprojects.append(data.loc[i,'BioProject'])\n",
    "    #bioprojects=data[\"BioProject\"].to_list()\n",
    "    return bioprojects"
   ]
  },
  {
   "cell_type": "code",
   "execution_count": 204,
   "metadata": {},
   "outputs": [],
   "source": [
    "# ASSOCIATE GENOME ACCESSION TO A RECORD IN THE INITIAL DATASET\n",
    "def get_more_info_filtered_mito (created_file, original_file):\n",
    "    my_data= pd.read_excel(created_file, index_col=0)\n",
    "    data_original= pd.read_csv(original_file, delimiter=\",\")\n",
    "    data_original= data_original[data_original[\"Assembly\"].notna()]\n",
    "    new_data= my_data.set_index(0).join(data_original.set_index('Assembly'))\n",
    "    new_data.rename(columns = {1:'bioprojects', 2:'SRA_accession', 3:'organism_name_bioproject'}, inplace = True)\n",
    "    new_data.to_excel(\"mito_ncbi_final.xlsx\")\n",
    "    return new_data.head()"
   ]
  },
  {
   "cell_type": "code",
   "execution_count": 205,
   "metadata": {},
   "outputs": [],
   "source": [
    "# GO THROUGH EVERY RECORD AND FILTER MITOCONDRIAL GENOMES BY SRA\n",
    "def filt_mito(csv:str, output_file:str):\n",
    "    print (\"FILTERING MITOCHONDRIAS BY SRA\")\n",
    "    result = list()\n",
    "    data = parse_data(csv)\n",
    "    \n",
    "    # ITERATE EVERY 500 FILES SINCE API DOES NOT SUPPORT MORE THAN THAT\n",
    "    for span in range (0, len (data), 500):\n",
    "        bioprojects=data[span:span+500]\n",
    "        # bioprojects = [\"PRJNA48091\"]\n",
    "        result = result + get_metadata_genome_api(bioprojects)\n",
    "    dataframe= pd.DataFrame(result)\n",
    "    dataframe.to_excel(output_file)"
   ]
  },
  {
   "cell_type": "code",
   "execution_count": 206,
   "metadata": {},
   "outputs": [],
   "source": [
    "# GET SRA METADATA OF FILTERED MITOCHONDRIAL GENOMES\n",
    "def get_sra_info_filtered_mito():\n",
    "    db = SRAweb()\n",
    "    sra= pd.read_excel(\"mito_ncbi_final.xlsx\", index_col=0)\n",
    "    sra_list = list()\n",
    "    for sras in sra['SRA_accession']:\n",
    "        sras= sras.strip('][').split(', ')\n",
    "        for index in range(0,len(sras)):\n",
    "            if \"SRA\" in sras[index]:\n",
    "                sra_list.append(sras[index+1].split(\"'\")[3])\n",
    "                break\n",
    "    df = db.sra_metadata(sra_list)\n",
    "    df= df[['organism_name',\"instrument\",'instrument_model',\n",
    "            'total_size']] #'run_total_bases'\n",
    "    df.to_excel(\"sra_metadata.xlsx\")\n",
    "    return df.sort_values(by='organism_name').set_index('organism_name').head()"
   ]
  },
  {
   "cell_type": "code",
   "execution_count": 207,
   "metadata": {},
   "outputs": [],
   "source": [
    "# DESCRIPTIVE STATISTICS\n",
    "def analyse_dataset (file):\n",
    "    df= pd.read_excel(file, index_col=0)\n",
    "    df=df.groupby(['organism_name','instrument']).agg({'instrument':'count'}) \\\n",
    "        .assign(percentage=lambda x: x.instrument/x.instrument.sum()*100)\n",
    "    #df.to_excel(\"sra_metadata_analysis_results.xlsx\")\n",
    "    return df.head(15)"
   ]
  },
  {
   "cell_type": "code",
   "execution_count": 208,
   "metadata": {},
   "outputs": [
    {
     "name": "stdout",
     "output_type": "stream",
     "text": [
      "FILTERING MITOCHONDRIAS BY SRA\n",
      "dict_keys(['messages', 'assemblies', 'total_count', 'next_page_token'])\n",
      "dict_keys(['messages', 'assemblies', 'total_count', 'next_page_token'])\n",
      "dict_keys(['assemblies', 'total_count', 'next_page_token'])\n",
      "dict_keys(['assemblies', 'total_count', 'next_page_token'])\n",
      "dict_keys(['assemblies', 'total_count', 'next_page_token'])\n"
     ]
    }
   ],
   "source": [
    "filt_mito(\"organelles.csv\", \"mito_ncbi.xlsx\")\n",
    "#get_more_info_filtered_mito(\"mito_ncbi.xlsx\", 'organelles.csv')\n",
    "#get_sra_info_filtered_mito()\n",
    "#analyse_dataset('sra_metadata.xlsx')"
   ]
  }
 ],
 "metadata": {
  "kernelspec": {
   "display_name": "Python 3.10.6 ('ncbi_dataset')",
   "language": "python",
   "name": "python3"
  },
  "language_info": {
   "codemirror_mode": {
    "name": "ipython",
    "version": 3
   },
   "file_extension": ".py",
   "mimetype": "text/x-python",
   "name": "python",
   "nbconvert_exporter": "python",
   "pygments_lexer": "ipython3",
   "version": "3.10.12"
  },
  "orig_nbformat": 4,
  "vscode": {
   "interpreter": {
    "hash": "d4aa10e57605bb6605e619889c8fa7182e3831ac0d83a62ab75a7936c1b824eb"
   }
  }
 },
 "nbformat": 4,
 "nbformat_minor": 2
}

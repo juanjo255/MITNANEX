{
 "cells": [
  {
   "cell_type": "code",
   "execution_count": 67,
   "metadata": {},
   "outputs": [],
   "source": [
    "#%conda install jupyter notebook -U\n",
    "from ncbi.datasets import GenomeApi as DatasetsGenomeApi\n",
    "from ncbi.datasets.openapi import ApiClient as DatasetsApiClient\n",
    "import pandas as pd\n",
    "from pysradb.sraweb import SRAweb"
   ]
  },
  {
   "cell_type": "code",
   "execution_count": 68,
   "metadata": {},
   "outputs": [],
   "source": [
    "def get_metadata_genome_api (bioprojects) -> list:\n",
    "    result = list()\n",
    "    # CONNECT WITH GENOME API\n",
    "    with DatasetsApiClient() as api_client:\n",
    "        genome_api = DatasetsGenomeApi(api_client)\n",
    "        assemblies = genome_api.assembly_descriptors_by_bioproject(bioprojects)\n",
    "        assemblies_dict = assemblies.to_dict()\n",
    "        if 'assemblies' in assemblies_dict.keys():\n",
    "            # ITER THROUGH ASSEMBLIES\n",
    "            for assembly in assemblies_dict[\"assemblies\"]:\n",
    "                # CHECK THAT KEYS STORING SRA EXIST\n",
    "                # print(assembly[\"assembly\"].keys())\n",
    "                if not (\"biosample\" in assembly[\"assembly\"].keys()):\n",
    "                    continue\n",
    "                elif not(\"sample_ids\" in assembly[\"assembly\"][\"biosample\"].keys()):\n",
    "                    continue\n",
    "                for record in assembly[\"assembly\"][\"biosample\"][\"sample_ids\"]:\n",
    "                    if \"SRA\" in record.values():\n",
    "                        #print (assembly[\"assembly\"][\"bioproject_lineages\"])\n",
    "                        #print (assembly[\"assembly\"][\"biosample\"][\"sample_ids\"])\n",
    "                        #print (assembly[\"assembly\"][\"biosample\"][\"description\"][\"organism\"][\"organism_name\"])\n",
    "                        result.append((assembly[\"assembly\"][\"assembly_accession\"],\n",
    "                                    assembly[\"assembly\"][\"bioproject_lineages\"],\n",
    "                                    assembly[\"assembly\"][\"biosample\"][\"sample_ids\"],\n",
    "                                    assembly[\"assembly\"][\"biosample\"][\"description\"][\"organism\"][\"organism_name\"]\n",
    "                                    ))\n",
    "    return result"
   ]
  },
  {
   "cell_type": "code",
   "execution_count": 69,
   "metadata": {},
   "outputs": [],
   "source": [
    "# PARSE CSV FILE DOWNLOADED FROM NCBI\n",
    "def parse_data (file) -> list:\n",
    "    data = pd.read_csv(file, delimiter=\",\")\n",
    "    # bioprojects = list()\n",
    "    # for i in range(len(data.index)):\n",
    "    #     for replicon in data.loc[i,'Replicons'].split('; '):\n",
    "    #         if 'mitochondrion' in replicon:\n",
    "    #             bioprojects.append(data.loc[i,'BioProject'])\n",
    "    bioprojects=data[\"bioproject_s\"].to_list()\n",
    "    return bioprojects"
   ]
  },
  {
   "cell_type": "code",
   "execution_count": 70,
   "metadata": {},
   "outputs": [],
   "source": [
    "# ASSOCIATE GENOME ACCESSION TO A RECORD IN THE INITIAL DATASET\n",
    "def get_more_info_filtered_mito (created_file, original_file):\n",
    "    my_data= pd.read_excel(created_file, index_col=0)\n",
    "    data_original= pd.read_csv(original_file, delimiter=\",\")\n",
    "    data_original= data_original[data_original[\"Assembly\"].notna()]\n",
    "    new_data= my_data.set_index(0).join(data_original.set_index('Assembly'))\n",
    "    new_data.rename(columns = {1:'bioprojects', 2:'SRA_accession', 3:'organism_name_bioproject'}, inplace = True)\n",
    "    new_data.to_excel(\"mito_ncbi_final.xlsx\")\n",
    "    return new_data.head()"
   ]
  },
  {
   "cell_type": "code",
   "execution_count": 71,
   "metadata": {},
   "outputs": [],
   "source": [
    "# GO THROUGH EVERY RECORD AND FILTER MITOCONDRIAL GENOMES BY SRA\n",
    "def filt_mito(csv:str, output_file:str):\n",
    "    print (\"FILTERING MITOCHONDRIAS BY SRA\")\n",
    "    result = list()\n",
    "    data = parse_data(csv)\n",
    "    \n",
    "    # ITERATE EVERY 500 FILES SINCE API DOES NOT SUPPORT MORE THAN THAT\n",
    "    for span in range (0, len (data), 500):\n",
    "        print(span)\n",
    "        bioprojects=[i for i in data[span:span+500] if isinstance(i,str)]\n",
    "        # bioprojects = [\"PRJNA48091\"]\n",
    "        result = result + get_metadata_genome_api(bioprojects)\n",
    "    dataframe= pd.DataFrame(result)\n",
    "    dataframe.rename(columns = {0:'assembly_accesion', 1:'bioprojects', 2:'SRA_accession', 3:'organism_name'}, inplace = True)\n",
    "    dataframe.to_excel(output_file)"
   ]
  },
  {
   "cell_type": "code",
   "execution_count": 72,
   "metadata": {},
   "outputs": [],
   "source": [
    "# GET SRA METADATA OF FILTERED MITOCHONDRIAL GENOMES\n",
    "def get_sra_info_filtered_mito(input_excel_file:str, output_file:str):\n",
    "    db = SRAweb()\n",
    "    sra= pd.read_excel(input_excel_file, index_col=0)\n",
    "    sra_list = list()\n",
    "    for sras in sra['SRA_accession']:\n",
    "        sras= sras.strip('][').split(', ')\n",
    "        for index in range(0,len(sras)):\n",
    "            if \"SRA\" in sras[index]:\n",
    "                sra_list.append(sras[index+1].split(\"'\")[3])\n",
    "                break\n",
    "    df = db.sra_metadata(sra_list)\n",
    "    print(df.columns)\n",
    "    df= df[['organism_name',\"instrument\",'instrument_model',\n",
    "            'total_size','run_accession']] #'run_total_bases'\n",
    "    df = df[(df['instrument'].isin(['GridION','MinION','PromethION'])) & (df['total_size'].astype(int)>0)]\n",
    "    df.to_excel(output_file)\n",
    "    return df"
   ]
  },
  {
   "cell_type": "code",
   "execution_count": 73,
   "metadata": {},
   "outputs": [],
   "source": [
    "# DESCRIPTIVE STATISTICS\n",
    "def analyse_dataset (file):\n",
    "    df= pd.read_excel(file, index_col=0)\n",
    "    df=df.groupby(['organism_name','instrument']).agg({'instrument':'count'}) \\\n",
    "        .assign(percentage=lambda x: x.instrument/x.instrument.sum()*100)\n",
    "    #df.to_excel(\"sra_metadata_analysis_results.xlsx\")\n",
    "    return df.head(15)"
   ]
  },
  {
   "cell_type": "code",
   "execution_count": 74,
   "metadata": {},
   "outputs": [
    {
     "name": "stdout",
     "output_type": "stream",
     "text": [
      "FILTERING MITOCHONDRIAS BY SRA\n",
      "0\n",
      "500\n",
      "1000\n",
      "1500\n",
      "2000\n",
      "2500\n",
      "3000\n",
      "3500\n",
      "4000\n",
      "4500\n",
      "5000\n",
      "5500\n",
      "6000\n",
      "6500\n",
      "7000\n",
      "7500\n",
      "8000\n",
      "8500\n",
      "9000\n",
      "9500\n",
      "10000\n",
      "10500\n",
      "11000\n",
      "11500\n",
      "12000\n",
      "12500\n",
      "13000\n",
      "13500\n",
      "14000\n",
      "14500\n",
      "15000\n",
      "15500\n",
      "16000\n",
      "16500\n"
     ]
    },
    {
     "ename": "ModuleNotFoundError",
     "evalue": "No module named 'openpyxl'",
     "output_type": "error",
     "traceback": [
      "\u001b[0;31m---------------------------------------------------------------------------\u001b[0m",
      "\u001b[0;31mModuleNotFoundError\u001b[0m                       Traceback (most recent call last)",
      "\u001b[1;32m/Users/jjpc/Documents/TESIS/MITNANEX_PROJECT/test/get_metadata_mito_genome.ipynb Cell 8\u001b[0m line \u001b[0;36m1\n\u001b[0;32m----> <a href='vscode-notebook-cell:/Users/jjpc/Documents/TESIS/MITNANEX_PROJECT/test/get_metadata_mito_genome.ipynb#X10sZmlsZQ%3D%3D?line=0'>1</a>\u001b[0m filt_mito(\u001b[39m\"\u001b[39;49m\u001b[39mdatasets_metadata/wgs_selector.csv\u001b[39;49m\u001b[39m\"\u001b[39;49m, \u001b[39m\"\u001b[39;49m\u001b[39mmito_ncbi.xlsx\u001b[39;49m\u001b[39m\"\u001b[39;49m)\n\u001b[1;32m      <a href='vscode-notebook-cell:/Users/jjpc/Documents/TESIS/MITNANEX_PROJECT/test/get_metadata_mito_genome.ipynb#X10sZmlsZQ%3D%3D?line=1'>2</a>\u001b[0m \u001b[39m#get_more_info_filtered_mito(\"mito_ncbi.xlsx\", 'organelles.csv')\u001b[39;00m\n\u001b[1;32m      <a href='vscode-notebook-cell:/Users/jjpc/Documents/TESIS/MITNANEX_PROJECT/test/get_metadata_mito_genome.ipynb#X10sZmlsZQ%3D%3D?line=2'>3</a>\u001b[0m \u001b[39m#get_sra_info_filtered_mito(\"mito_ncbi_final.xlsx\", \"sra_metadata.xlsx\")\u001b[39;00m\n\u001b[1;32m      <a href='vscode-notebook-cell:/Users/jjpc/Documents/TESIS/MITNANEX_PROJECT/test/get_metadata_mito_genome.ipynb#X10sZmlsZQ%3D%3D?line=3'>4</a>\u001b[0m \u001b[39m#analyse_dataset('sra_metadata.xlsx')\u001b[39;00m\n",
      "\u001b[1;32m/Users/jjpc/Documents/TESIS/MITNANEX_PROJECT/test/get_metadata_mito_genome.ipynb Cell 8\u001b[0m line \u001b[0;36m1\n\u001b[1;32m     <a href='vscode-notebook-cell:/Users/jjpc/Documents/TESIS/MITNANEX_PROJECT/test/get_metadata_mito_genome.ipynb#X10sZmlsZQ%3D%3D?line=12'>13</a>\u001b[0m dataframe\u001b[39m=\u001b[39m pd\u001b[39m.\u001b[39mDataFrame(result)\n\u001b[1;32m     <a href='vscode-notebook-cell:/Users/jjpc/Documents/TESIS/MITNANEX_PROJECT/test/get_metadata_mito_genome.ipynb#X10sZmlsZQ%3D%3D?line=13'>14</a>\u001b[0m dataframe\u001b[39m.\u001b[39mrename(columns \u001b[39m=\u001b[39m {\u001b[39m0\u001b[39m:\u001b[39m'\u001b[39m\u001b[39massembly_accesion\u001b[39m\u001b[39m'\u001b[39m, \u001b[39m1\u001b[39m:\u001b[39m'\u001b[39m\u001b[39mbioprojects\u001b[39m\u001b[39m'\u001b[39m, \u001b[39m2\u001b[39m:\u001b[39m'\u001b[39m\u001b[39mSRA_accession\u001b[39m\u001b[39m'\u001b[39m, \u001b[39m3\u001b[39m:\u001b[39m'\u001b[39m\u001b[39morganism_name\u001b[39m\u001b[39m'\u001b[39m}, inplace \u001b[39m=\u001b[39m \u001b[39mTrue\u001b[39;00m)\n\u001b[0;32m---> <a href='vscode-notebook-cell:/Users/jjpc/Documents/TESIS/MITNANEX_PROJECT/test/get_metadata_mito_genome.ipynb#X10sZmlsZQ%3D%3D?line=14'>15</a>\u001b[0m dataframe\u001b[39m.\u001b[39;49mto_excel(output_file)\n",
      "File \u001b[0;32m/opt/homebrew/Caskroom/mambaforge/base/envs/mitnanex/lib/python3.9/site-packages/pandas/core/generic.py:2345\u001b[0m, in \u001b[0;36mNDFrame.to_excel\u001b[0;34m(self, excel_writer, sheet_name, na_rep, float_format, columns, header, index, index_label, startrow, startcol, engine, merge_cells, inf_rep, freeze_panes, storage_options, engine_kwargs)\u001b[0m\n\u001b[1;32m   2332\u001b[0m \u001b[39mfrom\u001b[39;00m \u001b[39mpandas\u001b[39;00m\u001b[39m.\u001b[39;00m\u001b[39mio\u001b[39;00m\u001b[39m.\u001b[39;00m\u001b[39mformats\u001b[39;00m\u001b[39m.\u001b[39;00m\u001b[39mexcel\u001b[39;00m \u001b[39mimport\u001b[39;00m ExcelFormatter\n\u001b[1;32m   2334\u001b[0m formatter \u001b[39m=\u001b[39m ExcelFormatter(\n\u001b[1;32m   2335\u001b[0m     df,\n\u001b[1;32m   2336\u001b[0m     na_rep\u001b[39m=\u001b[39mna_rep,\n\u001b[0;32m   (...)\u001b[0m\n\u001b[1;32m   2343\u001b[0m     inf_rep\u001b[39m=\u001b[39minf_rep,\n\u001b[1;32m   2344\u001b[0m )\n\u001b[0;32m-> 2345\u001b[0m formatter\u001b[39m.\u001b[39;49mwrite(\n\u001b[1;32m   2346\u001b[0m     excel_writer,\n\u001b[1;32m   2347\u001b[0m     sheet_name\u001b[39m=\u001b[39;49msheet_name,\n\u001b[1;32m   2348\u001b[0m     startrow\u001b[39m=\u001b[39;49mstartrow,\n\u001b[1;32m   2349\u001b[0m     startcol\u001b[39m=\u001b[39;49mstartcol,\n\u001b[1;32m   2350\u001b[0m     freeze_panes\u001b[39m=\u001b[39;49mfreeze_panes,\n\u001b[1;32m   2351\u001b[0m     engine\u001b[39m=\u001b[39;49mengine,\n\u001b[1;32m   2352\u001b[0m     storage_options\u001b[39m=\u001b[39;49mstorage_options,\n\u001b[1;32m   2353\u001b[0m     engine_kwargs\u001b[39m=\u001b[39;49mengine_kwargs,\n\u001b[1;32m   2354\u001b[0m )\n",
      "File \u001b[0;32m/opt/homebrew/Caskroom/mambaforge/base/envs/mitnanex/lib/python3.9/site-packages/pandas/io/formats/excel.py:946\u001b[0m, in \u001b[0;36mExcelFormatter.write\u001b[0;34m(self, writer, sheet_name, startrow, startcol, freeze_panes, engine, storage_options, engine_kwargs)\u001b[0m\n\u001b[1;32m    942\u001b[0m     need_save \u001b[39m=\u001b[39m \u001b[39mFalse\u001b[39;00m\n\u001b[1;32m    943\u001b[0m \u001b[39melse\u001b[39;00m:\n\u001b[1;32m    944\u001b[0m     \u001b[39m# error: Cannot instantiate abstract class 'ExcelWriter' with abstract\u001b[39;00m\n\u001b[1;32m    945\u001b[0m     \u001b[39m# attributes 'engine', 'save', 'supported_extensions' and 'write_cells'\u001b[39;00m\n\u001b[0;32m--> 946\u001b[0m     writer \u001b[39m=\u001b[39m ExcelWriter(  \u001b[39m# type: ignore[abstract]\u001b[39;49;00m\n\u001b[1;32m    947\u001b[0m         writer,\n\u001b[1;32m    948\u001b[0m         engine\u001b[39m=\u001b[39;49mengine,\n\u001b[1;32m    949\u001b[0m         storage_options\u001b[39m=\u001b[39;49mstorage_options,\n\u001b[1;32m    950\u001b[0m         engine_kwargs\u001b[39m=\u001b[39;49mengine_kwargs,\n\u001b[1;32m    951\u001b[0m     )\n\u001b[1;32m    952\u001b[0m     need_save \u001b[39m=\u001b[39m \u001b[39mTrue\u001b[39;00m\n\u001b[1;32m    954\u001b[0m \u001b[39mtry\u001b[39;00m:\n",
      "File \u001b[0;32m/opt/homebrew/Caskroom/mambaforge/base/envs/mitnanex/lib/python3.9/site-packages/pandas/io/excel/_openpyxl.py:57\u001b[0m, in \u001b[0;36mOpenpyxlWriter.__init__\u001b[0;34m(self, path, engine, date_format, datetime_format, mode, storage_options, if_sheet_exists, engine_kwargs, **kwargs)\u001b[0m\n\u001b[1;32m     44\u001b[0m \u001b[39mdef\u001b[39;00m \u001b[39m__init__\u001b[39m(\n\u001b[1;32m     45\u001b[0m     \u001b[39mself\u001b[39m,\n\u001b[1;32m     46\u001b[0m     path: FilePath \u001b[39m|\u001b[39m WriteExcelBuffer \u001b[39m|\u001b[39m ExcelWriter,\n\u001b[0;32m   (...)\u001b[0m\n\u001b[1;32m     55\u001b[0m ) \u001b[39m-\u001b[39m\u001b[39m>\u001b[39m \u001b[39mNone\u001b[39;00m:\n\u001b[1;32m     56\u001b[0m     \u001b[39m# Use the openpyxl module as the Excel writer.\u001b[39;00m\n\u001b[0;32m---> 57\u001b[0m     \u001b[39mfrom\u001b[39;00m \u001b[39mopenpyxl\u001b[39;00m\u001b[39m.\u001b[39;00m\u001b[39mworkbook\u001b[39;00m \u001b[39mimport\u001b[39;00m Workbook\n\u001b[1;32m     59\u001b[0m     engine_kwargs \u001b[39m=\u001b[39m combine_kwargs(engine_kwargs, kwargs)\n\u001b[1;32m     61\u001b[0m     \u001b[39msuper\u001b[39m()\u001b[39m.\u001b[39m\u001b[39m__init__\u001b[39m(\n\u001b[1;32m     62\u001b[0m         path,\n\u001b[1;32m     63\u001b[0m         mode\u001b[39m=\u001b[39mmode,\n\u001b[0;32m   (...)\u001b[0m\n\u001b[1;32m     66\u001b[0m         engine_kwargs\u001b[39m=\u001b[39mengine_kwargs,\n\u001b[1;32m     67\u001b[0m     )\n",
      "\u001b[0;31mModuleNotFoundError\u001b[0m: No module named 'openpyxl'"
     ]
    }
   ],
   "source": [
    "filt_mito(\"datasets_metadata/wgs_selector.csv\", \"mito_ncbi.xlsx\")\n",
    "#get_more_info_filtered_mito(\"mito_ncbi.xlsx\", 'organelles.csv')\n",
    "#get_sra_info_filtered_mito(\"mito_ncbi_final.xlsx\", \"sra_metadata.xlsx\")\n",
    "#analyse_dataset('sra_metadata.xlsx')"
   ]
  }
 ],
 "metadata": {
  "kernelspec": {
   "display_name": "Python 3.10.6 ('ncbi_dataset')",
   "language": "python",
   "name": "python3"
  },
  "language_info": {
   "codemirror_mode": {
    "name": "ipython",
    "version": 3
   },
   "file_extension": ".py",
   "mimetype": "text/x-python",
   "name": "python",
   "nbconvert_exporter": "python",
   "pygments_lexer": "ipython3",
   "version": "3.9.18"
  },
  "orig_nbformat": 4,
  "vscode": {
   "interpreter": {
    "hash": "d4aa10e57605bb6605e619889c8fa7182e3831ac0d83a62ab75a7936c1b824eb"
   }
  }
 },
 "nbformat": 4,
 "nbformat_minor": 2
}

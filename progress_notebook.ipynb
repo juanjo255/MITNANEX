{
 "cells": [
  {
   "cell_type": "code",
   "execution_count": 372,
   "metadata": {},
   "outputs": [],
   "source": [
    "from src.mitnanex import run\n",
    "import pandas as pd\n",
    "import matplotlib.pyplot as plt\n",
    "from sklearn.neighbors import KernelDensity"
   ]
  },
  {
   "cell_type": "code",
   "execution_count": 373,
   "metadata": {},
   "outputs": [],
   "source": [
    "prefix = 's_cervisae_CEN_PK113-7D_SRR5892449_reads'\n",
    "wd = 'test/s_cervisae_CEN_PK113-7D/mitnanex_results/'\n",
    "\n",
    "clusters_list = run(f\"{wd}{prefix}_containments.paf\", 0.6)\n",
    "\n",
    "# I need to plot the coverage of clusters\n",
    "coverages_df = pd.DataFrame(\n",
    "    {\n",
    "        \"coverage\": [i.coverage for i in clusters_list.clusters],\n",
    "        \"repr_read_len\": [i.longest_read_length for i in clusters_list.clusters],\n",
    "        \"id_longest_read\": [i.longest_read_id for i in clusters_list.clusters],\n",
    "        \"id_cluster\":[i.id_cluster for i in clusters_list.clusters],\n",
    "    }\n",
    ")"
   ]
  },
  {
   "cell_type": "code",
   "execution_count": 374,
   "metadata": {},
   "outputs": [
    {
     "data": {
      "text/html": [
       "<div>\n",
       "<style scoped>\n",
       "    .dataframe tbody tr th:only-of-type {\n",
       "        vertical-align: middle;\n",
       "    }\n",
       "\n",
       "    .dataframe tbody tr th {\n",
       "        vertical-align: top;\n",
       "    }\n",
       "\n",
       "    .dataframe thead th {\n",
       "        text-align: right;\n",
       "    }\n",
       "</style>\n",
       "<table border=\"1\" class=\"dataframe\">\n",
       "  <thead>\n",
       "    <tr style=\"text-align: right;\">\n",
       "      <th></th>\n",
       "      <th>coverage</th>\n",
       "      <th>repr_read_len</th>\n",
       "      <th>id_longest_read</th>\n",
       "      <th>id_cluster</th>\n",
       "    </tr>\n",
       "  </thead>\n",
       "  <tbody>\n",
       "    <tr>\n",
       "      <th>19</th>\n",
       "      <td>167</td>\n",
       "      <td>35733</td>\n",
       "      <td>SRR5892449.18969</td>\n",
       "      <td>20</td>\n",
       "    </tr>\n",
       "    <tr>\n",
       "      <th>4</th>\n",
       "      <td>61</td>\n",
       "      <td>42640</td>\n",
       "      <td>SRR5892449.18856</td>\n",
       "      <td>5</td>\n",
       "    </tr>\n",
       "    <tr>\n",
       "      <th>64</th>\n",
       "      <td>50</td>\n",
       "      <td>28707</td>\n",
       "      <td>SRR5892449.40354</td>\n",
       "      <td>65</td>\n",
       "    </tr>\n",
       "    <tr>\n",
       "      <th>37</th>\n",
       "      <td>49</td>\n",
       "      <td>32227</td>\n",
       "      <td>SRR5892449.36049</td>\n",
       "      <td>38</td>\n",
       "    </tr>\n",
       "    <tr>\n",
       "      <th>58</th>\n",
       "      <td>44</td>\n",
       "      <td>29495</td>\n",
       "      <td>SRR5892449.13231</td>\n",
       "      <td>59</td>\n",
       "    </tr>\n",
       "  </tbody>\n",
       "</table>\n",
       "</div>"
      ],
      "text/plain": [
       "    coverage  repr_read_len   id_longest_read  id_cluster\n",
       "19       167          35733  SRR5892449.18969          20\n",
       "4         61          42640  SRR5892449.18856           5\n",
       "64        50          28707  SRR5892449.40354          65\n",
       "37        49          32227  SRR5892449.36049          38\n",
       "58        44          29495  SRR5892449.13231          59"
      ]
     },
     "execution_count": 374,
     "metadata": {},
     "output_type": "execute_result"
    }
   ],
   "source": [
    "# Test on the first 30 clusters\n",
    "import math\n",
    "clusters = coverages_df.sort_values(by='coverage', ascending=False)\n",
    "clusters.head()"
   ]
  },
  {
   "cell_type": "markdown",
   "metadata": {},
   "source": [
    "# Coverage\n",
    "\n",
    "The first step is to filter the reads by coverage. For that I will explore the use of Kernel Density since this is clusters_list one dimensional clustering."
   ]
  },
  {
   "cell_type": "code",
   "execution_count": 375,
   "metadata": {},
   "outputs": [
    {
     "data": {
      "text/html": [
       "<div>\n",
       "<style scoped>\n",
       "    .dataframe tbody tr th:only-of-type {\n",
       "        vertical-align: middle;\n",
       "    }\n",
       "\n",
       "    .dataframe tbody tr th {\n",
       "        vertical-align: top;\n",
       "    }\n",
       "\n",
       "    .dataframe thead th {\n",
       "        text-align: right;\n",
       "    }\n",
       "</style>\n",
       "<table border=\"1\" class=\"dataframe\">\n",
       "  <thead>\n",
       "    <tr style=\"text-align: right;\">\n",
       "      <th></th>\n",
       "      <th>coverage</th>\n",
       "      <th>repr_read_len</th>\n",
       "      <th>id_longest_read</th>\n",
       "      <th>id_cluster</th>\n",
       "      <th>transform</th>\n",
       "    </tr>\n",
       "  </thead>\n",
       "  <tbody>\n",
       "    <tr>\n",
       "      <th>19</th>\n",
       "      <td>167</td>\n",
       "      <td>35733</td>\n",
       "      <td>SRR5892449.18969</td>\n",
       "      <td>20</td>\n",
       "      <td>7.383704</td>\n",
       "    </tr>\n",
       "    <tr>\n",
       "      <th>4</th>\n",
       "      <td>61</td>\n",
       "      <td>42640</td>\n",
       "      <td>SRR5892449.18856</td>\n",
       "      <td>5</td>\n",
       "      <td>5.930737</td>\n",
       "    </tr>\n",
       "    <tr>\n",
       "      <th>64</th>\n",
       "      <td>50</td>\n",
       "      <td>28707</td>\n",
       "      <td>SRR5892449.40354</td>\n",
       "      <td>65</td>\n",
       "      <td>5.643856</td>\n",
       "    </tr>\n",
       "    <tr>\n",
       "      <th>37</th>\n",
       "      <td>49</td>\n",
       "      <td>32227</td>\n",
       "      <td>SRR5892449.36049</td>\n",
       "      <td>38</td>\n",
       "      <td>5.614710</td>\n",
       "    </tr>\n",
       "    <tr>\n",
       "      <th>58</th>\n",
       "      <td>44</td>\n",
       "      <td>29495</td>\n",
       "      <td>SRR5892449.13231</td>\n",
       "      <td>59</td>\n",
       "      <td>5.459432</td>\n",
       "    </tr>\n",
       "    <tr>\n",
       "      <th>...</th>\n",
       "      <td>...</td>\n",
       "      <td>...</td>\n",
       "      <td>...</td>\n",
       "      <td>...</td>\n",
       "      <td>...</td>\n",
       "    </tr>\n",
       "    <tr>\n",
       "      <th>211</th>\n",
       "      <td>2</td>\n",
       "      <td>20912</td>\n",
       "      <td>SRR5892449.23257</td>\n",
       "      <td>212</td>\n",
       "      <td>1.000000</td>\n",
       "    </tr>\n",
       "    <tr>\n",
       "      <th>213</th>\n",
       "      <td>2</td>\n",
       "      <td>20882</td>\n",
       "      <td>SRR5892449.31221</td>\n",
       "      <td>214</td>\n",
       "      <td>1.000000</td>\n",
       "    </tr>\n",
       "    <tr>\n",
       "      <th>216</th>\n",
       "      <td>2</td>\n",
       "      <td>20733</td>\n",
       "      <td>SRR5892449.17449</td>\n",
       "      <td>217</td>\n",
       "      <td>1.000000</td>\n",
       "    </tr>\n",
       "    <tr>\n",
       "      <th>218</th>\n",
       "      <td>2</td>\n",
       "      <td>20684</td>\n",
       "      <td>SRR5892449.2532</td>\n",
       "      <td>219</td>\n",
       "      <td>1.000000</td>\n",
       "    </tr>\n",
       "    <tr>\n",
       "      <th>484</th>\n",
       "      <td>2</td>\n",
       "      <td>2424</td>\n",
       "      <td>SRR5892449.57633</td>\n",
       "      <td>485</td>\n",
       "      <td>1.000000</td>\n",
       "    </tr>\n",
       "  </tbody>\n",
       "</table>\n",
       "<p>485 rows × 5 columns</p>\n",
       "</div>"
      ],
      "text/plain": [
       "     coverage  repr_read_len   id_longest_read  id_cluster  transform\n",
       "19        167          35733  SRR5892449.18969          20   7.383704\n",
       "4          61          42640  SRR5892449.18856           5   5.930737\n",
       "64         50          28707  SRR5892449.40354          65   5.643856\n",
       "37         49          32227  SRR5892449.36049          38   5.614710\n",
       "58         44          29495  SRR5892449.13231          59   5.459432\n",
       "..        ...            ...               ...         ...        ...\n",
       "211         2          20912  SRR5892449.23257         212   1.000000\n",
       "213         2          20882  SRR5892449.31221         214   1.000000\n",
       "216         2          20733  SRR5892449.17449         217   1.000000\n",
       "218         2          20684   SRR5892449.2532         219   1.000000\n",
       "484         2           2424  SRR5892449.57633         485   1.000000\n",
       "\n",
       "[485 rows x 5 columns]"
      ]
     },
     "execution_count": 375,
     "metadata": {},
     "output_type": "execute_result"
    }
   ],
   "source": [
    "clusters['transform'] = [math.log2(i)for i in clusters['coverage']]\n",
    "clusters"
   ]
  },
  {
   "cell_type": "code",
   "execution_count": 376,
   "metadata": {},
   "outputs": [
    {
     "data": {
      "text/plain": [
       "<Axes: >"
      ]
     },
     "execution_count": 376,
     "metadata": {},
     "output_type": "execute_result"
    },
    {
     "data": {
      "image/png": "[encoded data removed]",
      "text/plain": [
       "<Figure size 640x480 with 1 Axes>"
      ]
     },
     "metadata": {},
     "output_type": "display_data"
    }
   ],
   "source": [
    "clusters['coverage'].hist(bins=50)"
   ]
  },
  {
   "cell_type": "code",
   "execution_count": 377,
   "metadata": {},
   "outputs": [
    {
     "data": {
      "text/plain": [
       "<matplotlib.collections.PathCollection at 0x1531c1f10>"
      ]
     },
     "execution_count": 377,
     "metadata": {},
     "output_type": "execute_result"
    },
    {
     "data": {
      "image/png": "[encoded data removed]",
      "text/plain": [
       "<Figure size 640x480 with 1 Axes>"
      ]
     },
     "metadata": {},
     "output_type": "display_data"
    }
   ],
   "source": [
    "plt.scatter(x=clusters['transform'], y=clusters['coverage'])"
   ]
  },
  {
   "cell_type": "code",
   "execution_count": 378,
   "metadata": {},
   "outputs": [
    {
     "data": {
      "text/plain": [
       "[<matplotlib.lines.Line2D at 0x1535e0fd0>]"
      ]
     },
     "execution_count": 378,
     "metadata": {},
     "output_type": "execute_result"
    },
    {
     "data": {
      "image/png": "[encoded data removed]",
      "text/plain": [
       "<Figure size 640x480 with 1 Axes>"
      ]
     },
     "metadata": {},
     "output_type": "display_data"
    }
   ],
   "source": [
    "kde = KernelDensity(kernel='gaussian', bandwidth=0.5).fit(clusters['coverage'].array.reshape(-1,1))\n",
    "cov_fdp = kde.score_samples(clusters['coverage'].array.reshape(-1,1))\n",
    "plt.plot(clusters['coverage'], cov_fdp)"
   ]
  },
  {
   "cell_type": "code",
   "execution_count": 379,
   "metadata": {},
   "outputs": [
    {
     "name": "stdout",
     "output_type": "stream",
     "text": [
      "Covertura minima admitida:  23\n"
     ]
    }
   ],
   "source": [
    "from scipy.signal import argrelextrema\n",
    "import numpy as np\n",
    "local_min = argrelextrema(cov_fdp, np.less)[0]\n",
    "if len(local_min) < 1:\n",
    "    min_coverage = 3\n",
    "else:\n",
    "    min_coverage = clusters.iloc[max(local_min),:]['coverage']\n",
    "print(\"Covertura minima admitida: \", min_coverage)"
   ]
  },
  {
   "cell_type": "code",
   "execution_count": 380,
   "metadata": {},
   "outputs": [
    {
     "name": "stdout",
     "output_type": "stream",
     "text": [
      "Minimum coverage:  44\n"
     ]
    }
   ],
   "source": [
    "## ALTERNATIVE TO CALCULATE MINIMUN COVERAGE.\n",
    "## I WILL LOOK FOR THE GREATES HOLE IN THE DATA, IF THERE IS JUST ONE POINT THEN I CHOOSE THE SECOND GREATEST GAP\n",
    "def min_cov (clusters):\n",
    "    cov_gaps = clusters.loc[:,'coverage'].diff(periods=-1).sort_values(ascending=False)\n",
    "    for k in cov_gaps.index:\n",
    "        clusters_filt_cov = clusters['coverage'] >= clusters.loc[k, 'coverage']\n",
    "        if sum(clusters_filt_cov) > 3 :\n",
    "            min_coverage=clusters.loc[k, 'coverage']\n",
    "            print(\"Minimum coverage: \", min_coverage)\n",
    "            return min_coverage\n",
    "min_coverage=min_cov(clusters)"
   ]
  },
  {
   "cell_type": "code",
   "execution_count": 381,
   "metadata": {},
   "outputs": [],
   "source": [
    "# FILTER BY COVERAGE\n",
    "clusters = clusters[clusters['coverage'] >= min_coverage]"
   ]
  },
  {
   "cell_type": "code",
   "execution_count": 382,
   "metadata": {},
   "outputs": [
    {
     "name": "stderr",
     "output_type": "stream",
     "text": [
      "/var/folders/20/bjqv2gj50z7dx4ksyh4y8b800000gn/T/ipykernel_8837/1139505656.py:6: SettingWithCopyWarning: \n",
      "A value is trying to be set on a copy of a slice from a DataFrame.\n",
      "Try using .loc[row_indexer,col_indexer] = value instead\n",
      "\n",
      "See the caveats in the documentation: https://pandas.pydata.org/pandas-docs/stable/user_guide/indexing.html#returning-a-view-versus-a-copy\n",
      "  clusters['mt'] = [32 if i else 10 for i in clusters['id_longest_read'].isin(ids_mt)]\n"
     ]
    },
    {
     "data": {
      "text/html": [
       "<div>\n",
       "<style scoped>\n",
       "    .dataframe tbody tr th:only-of-type {\n",
       "        vertical-align: middle;\n",
       "    }\n",
       "\n",
       "    .dataframe tbody tr th {\n",
       "        vertical-align: top;\n",
       "    }\n",
       "\n",
       "    .dataframe thead th {\n",
       "        text-align: right;\n",
       "    }\n",
       "</style>\n",
       "<table border=\"1\" class=\"dataframe\">\n",
       "  <thead>\n",
       "    <tr style=\"text-align: right;\">\n",
       "      <th></th>\n",
       "      <th>coverage</th>\n",
       "      <th>repr_read_len</th>\n",
       "      <th>id_longest_read</th>\n",
       "      <th>id_cluster</th>\n",
       "      <th>transform</th>\n",
       "      <th>mt</th>\n",
       "    </tr>\n",
       "  </thead>\n",
       "  <tbody>\n",
       "    <tr>\n",
       "      <th>19</th>\n",
       "      <td>167</td>\n",
       "      <td>35733</td>\n",
       "      <td>SRR5892449.18969</td>\n",
       "      <td>20</td>\n",
       "      <td>7.383704</td>\n",
       "      <td>32</td>\n",
       "    </tr>\n",
       "    <tr>\n",
       "      <th>4</th>\n",
       "      <td>61</td>\n",
       "      <td>42640</td>\n",
       "      <td>SRR5892449.18856</td>\n",
       "      <td>5</td>\n",
       "      <td>5.930737</td>\n",
       "      <td>32</td>\n",
       "    </tr>\n",
       "    <tr>\n",
       "      <th>64</th>\n",
       "      <td>50</td>\n",
       "      <td>28707</td>\n",
       "      <td>SRR5892449.40354</td>\n",
       "      <td>65</td>\n",
       "      <td>5.643856</td>\n",
       "      <td>32</td>\n",
       "    </tr>\n",
       "    <tr>\n",
       "      <th>37</th>\n",
       "      <td>49</td>\n",
       "      <td>32227</td>\n",
       "      <td>SRR5892449.36049</td>\n",
       "      <td>38</td>\n",
       "      <td>5.614710</td>\n",
       "      <td>10</td>\n",
       "    </tr>\n",
       "    <tr>\n",
       "      <th>58</th>\n",
       "      <td>44</td>\n",
       "      <td>29495</td>\n",
       "      <td>SRR5892449.13231</td>\n",
       "      <td>59</td>\n",
       "      <td>5.459432</td>\n",
       "      <td>32</td>\n",
       "    </tr>\n",
       "  </tbody>\n",
       "</table>\n",
       "</div>"
      ],
      "text/plain": [
       "    coverage  repr_read_len   id_longest_read  id_cluster  transform  mt\n",
       "19       167          35733  SRR5892449.18969          20   7.383704  32\n",
       "4         61          42640  SRR5892449.18856           5   5.930737  32\n",
       "64        50          28707  SRR5892449.40354          65   5.643856  32\n",
       "37        49          32227  SRR5892449.36049          38   5.614710  10\n",
       "58        44          29495  SRR5892449.13231          59   5.459432  32"
      ]
     },
     "execution_count": 382,
     "metadata": {},
     "output_type": "execute_result"
    }
   ],
   "source": [
    "## GROUND TRUTH \n",
    "## Get the real mt sequences\n",
    "with open('test/s_cervisae_CEN_PK113-7D/chrMT_reads_ids.txt','r') as handle_ids_mt:\n",
    "    ids_mt = handle_ids_mt.read().splitlines()\n",
    "    ids_mt = [i[:].strip() for i in ids_mt]\n",
    "clusters['mt'] = [32 if i else 10 for i in clusters['id_longest_read'].isin(ids_mt)]\n",
    "clusters"
   ]
  },
  {
   "cell_type": "markdown",
   "metadata": {},
   "source": [
    "# Oligo composition\n",
    "\n",
    "Once I've detected the clusters with higher coverage, which I expect includes mitochondria and contamination, whether nuclear or external, I have to purify these groups. To do this I will use the oligo composition as it is used during metagenomics binning.\n",
    "\n",
    "I will create clusters_list script to get the kmers. The kmer size will be 3 to solve two things: 1. Intrinsec error from Nanopore, 2 smaller set as possible (4**3 possible kmers). \n",
    "\n",
    "Finally, I will reduce dimensionality using PCA"
   ]
  },
  {
   "cell_type": "code",
   "execution_count": 383,
   "metadata": {},
   "outputs": [],
   "source": [
    "from src.utils import write_fasta\n",
    "#from src.kmer_cnt import get_kmer_profiles\n",
    "import utils_rs"
   ]
  },
  {
   "cell_type": "code",
   "execution_count": 384,
   "metadata": {},
   "outputs": [],
   "source": [
    "reads_file = f\"{wd}{prefix}_sample.sorted.fastq\"\n",
    "repr_reads = [i for i in clusters['id_longest_read']]"
   ]
  },
  {
   "cell_type": "code",
   "execution_count": 385,
   "metadata": {},
   "outputs": [],
   "source": [
    "# PYTHON VERSION\n",
    "# kmer_profiles_df = get_kmer_profiles (repr_reads, reads_file, 3)\n",
    "# kmer_profiles_df.head()"
   ]
  },
  {
   "cell_type": "code",
   "execution_count": 386,
   "metadata": {},
   "outputs": [
    {
     "data": {
      "text/html": [
       "<div>\n",
       "<style scoped>\n",
       "    .dataframe tbody tr th:only-of-type {\n",
       "        vertical-align: middle;\n",
       "    }\n",
       "\n",
       "    .dataframe tbody tr th {\n",
       "        vertical-align: top;\n",
       "    }\n",
       "\n",
       "    .dataframe thead th {\n",
       "        text-align: right;\n",
       "    }\n",
       "</style>\n",
       "<table border=\"1\" class=\"dataframe\">\n",
       "  <thead>\n",
       "    <tr style=\"text-align: right;\">\n",
       "      <th></th>\n",
       "      <th>0</th>\n",
       "      <th>1</th>\n",
       "      <th>2</th>\n",
       "      <th>3</th>\n",
       "      <th>4</th>\n",
       "      <th>5</th>\n",
       "      <th>6</th>\n",
       "      <th>7</th>\n",
       "      <th>8</th>\n",
       "      <th>9</th>\n",
       "      <th>...</th>\n",
       "      <th>23</th>\n",
       "      <th>24</th>\n",
       "      <th>25</th>\n",
       "      <th>26</th>\n",
       "      <th>27</th>\n",
       "      <th>28</th>\n",
       "      <th>29</th>\n",
       "      <th>30</th>\n",
       "      <th>31</th>\n",
       "      <th>ids</th>\n",
       "    </tr>\n",
       "  </thead>\n",
       "  <tbody>\n",
       "    <tr>\n",
       "      <th>0</th>\n",
       "      <td>0.095310</td>\n",
       "      <td>0.144770</td>\n",
       "      <td>0.025328</td>\n",
       "      <td>0.026243</td>\n",
       "      <td>0.179573</td>\n",
       "      <td>0.026477</td>\n",
       "      <td>0.028025</td>\n",
       "      <td>0.023757</td>\n",
       "      <td>0.021975</td>\n",
       "      <td>0.014165</td>\n",
       "      <td>...</td>\n",
       "      <td>0.005957</td>\n",
       "      <td>0.005582</td>\n",
       "      <td>0.002228</td>\n",
       "      <td>0.026595</td>\n",
       "      <td>0.006918</td>\n",
       "      <td>0.025000</td>\n",
       "      <td>0.007012</td>\n",
       "      <td>0.004573</td>\n",
       "      <td>0.011421</td>\n",
       "      <td>SRR5892449.18856</td>\n",
       "    </tr>\n",
       "    <tr>\n",
       "      <th>1</th>\n",
       "      <td>0.097557</td>\n",
       "      <td>0.151988</td>\n",
       "      <td>0.022108</td>\n",
       "      <td>0.024823</td>\n",
       "      <td>0.206028</td>\n",
       "      <td>0.023200</td>\n",
       "      <td>0.025858</td>\n",
       "      <td>0.021521</td>\n",
       "      <td>0.019394</td>\n",
       "      <td>0.012957</td>\n",
       "      <td>...</td>\n",
       "      <td>0.006381</td>\n",
       "      <td>0.005261</td>\n",
       "      <td>0.002603</td>\n",
       "      <td>0.023648</td>\n",
       "      <td>0.006325</td>\n",
       "      <td>0.022668</td>\n",
       "      <td>0.006772</td>\n",
       "      <td>0.003582</td>\n",
       "      <td>0.011390</td>\n",
       "      <td>SRR5892449.18969</td>\n",
       "    </tr>\n",
       "    <tr>\n",
       "      <th>2</th>\n",
       "      <td>0.068607</td>\n",
       "      <td>0.051075</td>\n",
       "      <td>0.035840</td>\n",
       "      <td>0.040649</td>\n",
       "      <td>0.043256</td>\n",
       "      <td>0.028765</td>\n",
       "      <td>0.036150</td>\n",
       "      <td>0.037453</td>\n",
       "      <td>0.035746</td>\n",
       "      <td>0.029509</td>\n",
       "      <td>...</td>\n",
       "      <td>0.014212</td>\n",
       "      <td>0.018401</td>\n",
       "      <td>0.014181</td>\n",
       "      <td>0.043194</td>\n",
       "      <td>0.021442</td>\n",
       "      <td>0.036088</td>\n",
       "      <td>0.029323</td>\n",
       "      <td>0.016508</td>\n",
       "      <td>0.022217</td>\n",
       "      <td>SRR5892449.36049</td>\n",
       "    </tr>\n",
       "    <tr>\n",
       "      <th>3</th>\n",
       "      <td>0.090524</td>\n",
       "      <td>0.151280</td>\n",
       "      <td>0.025394</td>\n",
       "      <td>0.024004</td>\n",
       "      <td>0.205425</td>\n",
       "      <td>0.020309</td>\n",
       "      <td>0.027496</td>\n",
       "      <td>0.024919</td>\n",
       "      <td>0.019156</td>\n",
       "      <td>0.012273</td>\n",
       "      <td>...</td>\n",
       "      <td>0.006001</td>\n",
       "      <td>0.006442</td>\n",
       "      <td>0.002509</td>\n",
       "      <td>0.024275</td>\n",
       "      <td>0.006476</td>\n",
       "      <td>0.020173</td>\n",
       "      <td>0.006916</td>\n",
       "      <td>0.004984</td>\n",
       "      <td>0.010409</td>\n",
       "      <td>SRR5892449.13231</td>\n",
       "    </tr>\n",
       "    <tr>\n",
       "      <th>4</th>\n",
       "      <td>0.103111</td>\n",
       "      <td>0.159891</td>\n",
       "      <td>0.019786</td>\n",
       "      <td>0.023862</td>\n",
       "      <td>0.212143</td>\n",
       "      <td>0.020100</td>\n",
       "      <td>0.020727</td>\n",
       "      <td>0.015118</td>\n",
       "      <td>0.017801</td>\n",
       "      <td>0.013237</td>\n",
       "      <td>...</td>\n",
       "      <td>0.009301</td>\n",
       "      <td>0.006828</td>\n",
       "      <td>0.003065</td>\n",
       "      <td>0.023235</td>\n",
       "      <td>0.006444</td>\n",
       "      <td>0.018358</td>\n",
       "      <td>0.006061</td>\n",
       "      <td>0.004947</td>\n",
       "      <td>0.013446</td>\n",
       "      <td>SRR5892449.40354</td>\n",
       "    </tr>\n",
       "  </tbody>\n",
       "</table>\n",
       "<p>5 rows × 33 columns</p>\n",
       "</div>"
      ],
      "text/plain": [
       "          0         1         2         3         4         5         6  \\\n",
       "0  0.095310  0.144770  0.025328  0.026243  0.179573  0.026477  0.028025   \n",
       "1  0.097557  0.151988  0.022108  0.024823  0.206028  0.023200  0.025858   \n",
       "2  0.068607  0.051075  0.035840  0.040649  0.043256  0.028765  0.036150   \n",
       "3  0.090524  0.151280  0.025394  0.024004  0.205425  0.020309  0.027496   \n",
       "4  0.103111  0.159891  0.019786  0.023862  0.212143  0.020100  0.020727   \n",
       "\n",
       "          7         8         9  ...        23        24        25        26  \\\n",
       "0  0.023757  0.021975  0.014165  ...  0.005957  0.005582  0.002228  0.026595   \n",
       "1  0.021521  0.019394  0.012957  ...  0.006381  0.005261  0.002603  0.023648   \n",
       "2  0.037453  0.035746  0.029509  ...  0.014212  0.018401  0.014181  0.043194   \n",
       "3  0.024919  0.019156  0.012273  ...  0.006001  0.006442  0.002509  0.024275   \n",
       "4  0.015118  0.017801  0.013237  ...  0.009301  0.006828  0.003065  0.023235   \n",
       "\n",
       "         27        28        29        30        31               ids  \n",
       "0  0.006918  0.025000  0.007012  0.004573  0.011421  SRR5892449.18856  \n",
       "1  0.006325  0.022668  0.006772  0.003582  0.011390  SRR5892449.18969  \n",
       "2  0.021442  0.036088  0.029323  0.016508  0.022217  SRR5892449.36049  \n",
       "3  0.006476  0.020173  0.006916  0.004984  0.010409  SRR5892449.13231  \n",
       "4  0.006444  0.018358  0.006061  0.004947  0.013446  SRR5892449.40354  \n",
       "\n",
       "[5 rows x 33 columns]"
      ]
     },
     "execution_count": 386,
     "metadata": {},
     "output_type": "execute_result"
    }
   ],
   "source": [
    "# RUST VERSION\n",
    "hist = utils_rs.get_kmer_profiles(repr_reads, reads_file, 3)\n",
    "hist_df = pd.DataFrame(hist[0])\n",
    "hist_df['ids'] = hist[1]\n",
    "hist_df.head()\n",
    "hist_df.iloc[:, :-1]\n",
    "hist_df.head()"
   ]
  },
  {
   "cell_type": "markdown",
   "metadata": {},
   "source": [
    "# Dimensionality reduction with PCA and clustering with k-means "
   ]
  },
  {
   "cell_type": "code",
   "execution_count": 387,
   "metadata": {},
   "outputs": [],
   "source": [
    "from sklearn.decomposition import PCA\n",
    "from sklearn.cluster import KMeans"
   ]
  },
  {
   "cell_type": "code",
   "execution_count": 388,
   "metadata": {},
   "outputs": [
    {
     "data": {
      "text/html": [
       "<style>#sk-container-id-16 {color: black;}#sk-container-id-16 pre{padding: 0;}#sk-container-id-16 div.sk-toggleable {background-color: white;}#sk-container-id-16 label.sk-toggleable__label {cursor: pointer;display: block;width: 100%;margin-bottom: 0;padding: 0.3em;box-sizing: border-box;text-align: center;}#sk-container-id-16 label.sk-toggleable__label-arrow:before {content: \"▸\";float: left;margin-right: 0.25em;color: #696969;}#sk-container-id-16 label.sk-toggleable__label-arrow:hover:before {color: black;}#sk-container-id-16 div.sk-estimator:hover label.sk-toggleable__label-arrow:before {color: black;}#sk-container-id-16 div.sk-toggleable__content {max-height: 0;max-width: 0;overflow: hidden;text-align: left;background-color: #f0f8ff;}#sk-container-id-16 div.sk-toggleable__content pre {margin: 0.2em;color: black;border-radius: 0.25em;background-color: #f0f8ff;}#sk-container-id-16 input.sk-toggleable__control:checked~div.sk-toggleable__content {max-height: 200px;max-width: 100%;overflow: auto;}#sk-container-id-16 input.sk-toggleable__control:checked~label.sk-toggleable__label-arrow:before {content: \"▾\";}#sk-container-id-16 div.sk-estimator input.sk-toggleable__control:checked~label.sk-toggleable__label {background-color: #d4ebff;}#sk-container-id-16 div.sk-label input.sk-toggleable__control:checked~label.sk-toggleable__label {background-color: #d4ebff;}#sk-container-id-16 input.sk-hidden--visually {border: 0;clip: rect(1px 1px 1px 1px);clip: rect(1px, 1px, 1px, 1px);height: 1px;margin: -1px;overflow: hidden;padding: 0;position: absolute;width: 1px;}#sk-container-id-16 div.sk-estimator {font-family: monospace;background-color: #f0f8ff;border: 1px dotted black;border-radius: 0.25em;box-sizing: border-box;margin-bottom: 0.5em;}#sk-container-id-16 div.sk-estimator:hover {background-color: #d4ebff;}#sk-container-id-16 div.sk-parallel-item::after {content: \"\";width: 100%;border-bottom: 1px solid gray;flex-grow: 1;}#sk-container-id-16 div.sk-label:hover label.sk-toggleable__label {background-color: #d4ebff;}#sk-container-id-16 div.sk-serial::before {content: \"\";position: absolute;border-left: 1px solid gray;box-sizing: border-box;top: 0;bottom: 0;left: 50%;z-index: 0;}#sk-container-id-16 div.sk-serial {display: flex;flex-direction: column;align-items: center;background-color: white;padding-right: 0.2em;padding-left: 0.2em;position: relative;}#sk-container-id-16 div.sk-item {position: relative;z-index: 1;}#sk-container-id-16 div.sk-parallel {display: flex;align-items: stretch;justify-content: center;background-color: white;position: relative;}#sk-container-id-16 div.sk-item::before, #sk-container-id-16 div.sk-parallel-item::before {content: \"\";position: absolute;border-left: 1px solid gray;box-sizing: border-box;top: 0;bottom: 0;left: 50%;z-index: -1;}#sk-container-id-16 div.sk-parallel-item {display: flex;flex-direction: column;z-index: 1;position: relative;background-color: white;}#sk-container-id-16 div.sk-parallel-item:first-child::after {align-self: flex-end;width: 50%;}#sk-container-id-16 div.sk-parallel-item:last-child::after {align-self: flex-start;width: 50%;}#sk-container-id-16 div.sk-parallel-item:only-child::after {width: 0;}#sk-container-id-16 div.sk-dashed-wrapped {border: 1px dashed gray;margin: 0 0.4em 0.5em 0.4em;box-sizing: border-box;padding-bottom: 0.4em;background-color: white;}#sk-container-id-16 div.sk-label label {font-family: monospace;font-weight: bold;display: inline-block;line-height: 1.2em;}#sk-container-id-16 div.sk-label-container {text-align: center;}#sk-container-id-16 div.sk-container {/* jupyter's `normalize.less` sets `[hidden] { display: none; }` but bootstrap.min.css set `[hidden] { display: none !important; }` so we also need the `!important` here to be able to override the default hidden behavior on the sphinx rendered scikit-learn.org. See: https://github.com/scikit-learn/scikit-learn/issues/21755 */display: inline-block !important;position: relative;}#sk-container-id-16 div.sk-text-repr-fallback {display: none;}</style><div id=\"sk-container-id-16\" class=\"sk-top-container\"><div class=\"sk-text-repr-fallback\"><pre>PCA(n_components=2)</pre><b>In a Jupyter environment, please rerun this cell to show the HTML representation or trust the notebook. <br />On GitHub, the HTML representation is unable to render, please try loading this page with nbviewer.org.</b></div><div class=\"sk-container\" hidden><div class=\"sk-item\"><div class=\"sk-estimator sk-toggleable\"><input class=\"sk-toggleable__control sk-hidden--visually\" id=\"sk-estimator-id-16\" type=\"checkbox\" checked><label for=\"sk-estimator-id-16\" class=\"sk-toggleable__label sk-toggleable__label-arrow\">PCA</label><div class=\"sk-toggleable__content\"><pre>PCA(n_components=2)</pre></div></div></div></div></div>"
      ],
      "text/plain": [
       "PCA(n_components=2)"
      ]
     },
     "execution_count": 388,
     "metadata": {},
     "output_type": "execute_result"
    }
   ],
   "source": [
    "pca = PCA(n_components=2)\n",
    "pca.fit(hist_df.iloc[:,:-2])"
   ]
  },
  {
   "cell_type": "code",
   "execution_count": 389,
   "metadata": {},
   "outputs": [
    {
     "data": {
      "text/plain": [
       "array([1.11774718e-02, 4.65581918e-05])"
      ]
     },
     "execution_count": 389,
     "metadata": {},
     "output_type": "execute_result"
    }
   ],
   "source": [
    "## Components and variance explained \n",
    "pca.explained_variance_\n",
    "#pca.components_"
   ]
  },
  {
   "cell_type": "code",
   "execution_count": 390,
   "metadata": {},
   "outputs": [
    {
     "data": {
      "text/html": [
       "<div>\n",
       "<style scoped>\n",
       "    .dataframe tbody tr th:only-of-type {\n",
       "        vertical-align: middle;\n",
       "    }\n",
       "\n",
       "    .dataframe tbody tr th {\n",
       "        vertical-align: top;\n",
       "    }\n",
       "\n",
       "    .dataframe thead th {\n",
       "        text-align: right;\n",
       "    }\n",
       "</style>\n",
       "<table border=\"1\" class=\"dataframe\">\n",
       "  <thead>\n",
       "    <tr style=\"text-align: right;\">\n",
       "      <th></th>\n",
       "      <th>comp1</th>\n",
       "      <th>comp2</th>\n",
       "      <th>ids</th>\n",
       "      <th>coverage</th>\n",
       "      <th>repr_read_len</th>\n",
       "      <th>id_cluster</th>\n",
       "      <th>transform</th>\n",
       "      <th>mt</th>\n",
       "      <th>coverage_norm</th>\n",
       "    </tr>\n",
       "  </thead>\n",
       "  <tbody>\n",
       "    <tr>\n",
       "      <th>0</th>\n",
       "      <td>-0.022817</td>\n",
       "      <td>-0.002472</td>\n",
       "      <td>SRR5892449.18856</td>\n",
       "      <td>61</td>\n",
       "      <td>42640</td>\n",
       "      <td>5</td>\n",
       "      <td>5.930737</td>\n",
       "      <td>32</td>\n",
       "      <td>0.001431</td>\n",
       "    </tr>\n",
       "    <tr>\n",
       "      <th>1</th>\n",
       "      <td>-0.051416</td>\n",
       "      <td>0.000227</td>\n",
       "      <td>SRR5892449.18969</td>\n",
       "      <td>167</td>\n",
       "      <td>35733</td>\n",
       "      <td>20</td>\n",
       "      <td>7.383704</td>\n",
       "      <td>32</td>\n",
       "      <td>0.004674</td>\n",
       "    </tr>\n",
       "    <tr>\n",
       "      <th>2</th>\n",
       "      <td>0.187124</td>\n",
       "      <td>-0.000349</td>\n",
       "      <td>SRR5892449.36049</td>\n",
       "      <td>49</td>\n",
       "      <td>32227</td>\n",
       "      <td>38</td>\n",
       "      <td>5.614710</td>\n",
       "      <td>10</td>\n",
       "      <td>0.001520</td>\n",
       "    </tr>\n",
       "    <tr>\n",
       "      <th>3</th>\n",
       "      <td>-0.047557</td>\n",
       "      <td>0.010694</td>\n",
       "      <td>SRR5892449.13231</td>\n",
       "      <td>44</td>\n",
       "      <td>29495</td>\n",
       "      <td>59</td>\n",
       "      <td>5.459432</td>\n",
       "      <td>32</td>\n",
       "      <td>0.001492</td>\n",
       "    </tr>\n",
       "    <tr>\n",
       "      <th>4</th>\n",
       "      <td>-0.065335</td>\n",
       "      <td>-0.008099</td>\n",
       "      <td>SRR5892449.40354</td>\n",
       "      <td>50</td>\n",
       "      <td>28707</td>\n",
       "      <td>65</td>\n",
       "      <td>5.643856</td>\n",
       "      <td>32</td>\n",
       "      <td>0.001742</td>\n",
       "    </tr>\n",
       "  </tbody>\n",
       "</table>\n",
       "</div>"
      ],
      "text/plain": [
       "      comp1     comp2               ids  coverage  repr_read_len  id_cluster  \\\n",
       "0 -0.022817 -0.002472  SRR5892449.18856        61          42640           5   \n",
       "1 -0.051416  0.000227  SRR5892449.18969       167          35733          20   \n",
       "2  0.187124 -0.000349  SRR5892449.36049        49          32227          38   \n",
       "3 -0.047557  0.010694  SRR5892449.13231        44          29495          59   \n",
       "4 -0.065335 -0.008099  SRR5892449.40354        50          28707          65   \n",
       "\n",
       "   transform  mt  coverage_norm  \n",
       "0   5.930737  32       0.001431  \n",
       "1   7.383704  32       0.004674  \n",
       "2   5.614710  10       0.001520  \n",
       "3   5.459432  32       0.001492  \n",
       "4   5.643856  32       0.001742  "
      ]
     },
     "execution_count": 390,
     "metadata": {},
     "output_type": "execute_result"
    }
   ],
   "source": [
    "kmer_reduction = pca.fit_transform(hist_df.iloc[:,:-2])\n",
    "kmer_reduction = pd.DataFrame(kmer_reduction, columns=['comp1', 'comp2'])\n",
    "\n",
    "## merging the dataframe with ids and other relevant information\n",
    "kmer_reduction ['ids'] = hist_df['ids']\n",
    "kmer_reduction = kmer_reduction.merge(clusters, how='left', left_on='ids', right_on='id_longest_read')\n",
    "kmer_reduction.drop(columns='id_longest_read', inplace=True)\n",
    "\n",
    "## Annotate which reads are mitochondrial\n",
    "kmer_reduction['coverage_norm'] = kmer_reduction['coverage'] / kmer_reduction['repr_read_len']\n",
    "kmer_reduction.head()"
   ]
  },
  {
   "cell_type": "code",
   "execution_count": 391,
   "metadata": {},
   "outputs": [
    {
     "name": "stderr",
     "output_type": "stream",
     "text": [
      "No artists with labels found to put in legend.  Note that artists whose label start with an underscore are ignored when legend() is called with no argument.\n"
     ]
    },
    {
     "data": {
      "text/plain": [
       "Text(0, 0.5, 'comp2')"
      ]
     },
     "execution_count": 391,
     "metadata": {},
     "output_type": "execute_result"
    },
    {
     "data": {
      "image/png": "[encoded data removed]",
      "text/plain": [
       "<Figure size 640x480 with 2 Axes>"
      ]
     },
     "metadata": {},
     "output_type": "display_data"
    }
   ],
   "source": [
    "sc = plt.scatter(kmer_reduction['comp1'],kmer_reduction['comp2'], c=kmer_reduction['coverage_norm'], s=kmer_reduction['mt'])\n",
    "# legend\n",
    "# Add clusters_list colorbar\n",
    "cbar = plt.colorbar(sc)\n",
    "cbar.set_label('Color Scale')\n",
    "plt.legend()\n",
    "plt.xlabel('comp1')\n",
    "plt.ylabel('comp2')"
   ]
  },
  {
   "cell_type": "code",
   "execution_count": 392,
   "metadata": {},
   "outputs": [
    {
     "name": "stdout",
     "output_type": "stream",
     "text": [
      "Initialization complete\n",
      "Iteration 0, inertia 1.8242761496882653e-06.\n",
      "Iteration 1, inertia 1.769610164595828e-06.\n",
      "Converged at iteration 1: strict convergence.\n"
     ]
    }
   ],
   "source": [
    "kmeans = KMeans(n_clusters=2, max_iter=100, init='k-means++', random_state=0, n_init=1,verbose=1)\n",
    "mt_prediction = kmeans.fit_predict(kmer_reduction[['comp1','comp2']], sample_weight=kmer_reduction['coverage_norm'])\n",
    "kmer_reduction['cluster_prediction'] = mt_prediction"
   ]
  },
  {
   "cell_type": "code",
   "execution_count": 393,
   "metadata": {},
   "outputs": [
    {
     "data": {
      "text/plain": [
       "Text(0, 0.5, 'comp2')"
      ]
     },
     "execution_count": 393,
     "metadata": {},
     "output_type": "execute_result"
    },
    {
     "data": {
      "image/png": "[encoded data removed]",
      "text/plain": [
       "<Figure size 640x480 with 1 Axes>"
      ]
     },
     "metadata": {},
     "output_type": "display_data"
    }
   ],
   "source": [
    "plt.scatter(x=kmer_reduction['comp1'], y=kmer_reduction['comp2'], c=mt_prediction, s=kmer_reduction['mt'])\n",
    "plt.xlabel('comp1')\n",
    "plt.ylabel('comp2')"
   ]
  },
  {
   "cell_type": "markdown",
   "metadata": {},
   "source": [
    "# Get the cluster of interest\n",
    "\n",
    "This step is clusters_list pain in the ass, but since I am looking to keep the free-reference. "
   ]
  },
  {
   "cell_type": "code",
   "execution_count": 394,
   "metadata": {},
   "outputs": [
    {
     "name": "stderr",
     "output_type": "stream",
     "text": [
      "/var/folders/20/bjqv2gj50z7dx4ksyh4y8b800000gn/T/ipykernel_8837/2001483469.py:3: SettingWithCopyWarning: \n",
      "A value is trying to be set on a copy of a slice from a DataFrame\n",
      "\n",
      "See the caveats in the documentation: https://pandas.pydata.org/pandas-docs/stable/user_guide/indexing.html#returning-a-view-versus-a-copy\n",
      "  selected_cluster.sort_values('coverage_norm', inplace=True, ascending=False)\n"
     ]
    },
    {
     "data": {
      "text/html": [
       "<div>\n",
       "<style scoped>\n",
       "    .dataframe tbody tr th:only-of-type {\n",
       "        vertical-align: middle;\n",
       "    }\n",
       "\n",
       "    .dataframe tbody tr th {\n",
       "        vertical-align: top;\n",
       "    }\n",
       "\n",
       "    .dataframe thead th {\n",
       "        text-align: right;\n",
       "    }\n",
       "</style>\n",
       "<table border=\"1\" class=\"dataframe\">\n",
       "  <thead>\n",
       "    <tr style=\"text-align: right;\">\n",
       "      <th></th>\n",
       "      <th>comp1</th>\n",
       "      <th>comp2</th>\n",
       "      <th>ids</th>\n",
       "      <th>coverage</th>\n",
       "      <th>repr_read_len</th>\n",
       "      <th>id_cluster</th>\n",
       "      <th>transform</th>\n",
       "      <th>mt</th>\n",
       "      <th>coverage_norm</th>\n",
       "      <th>cluster_prediction</th>\n",
       "    </tr>\n",
       "  </thead>\n",
       "  <tbody>\n",
       "    <tr>\n",
       "      <th>1</th>\n",
       "      <td>-0.051416</td>\n",
       "      <td>0.000227</td>\n",
       "      <td>SRR5892449.18969</td>\n",
       "      <td>167</td>\n",
       "      <td>35733</td>\n",
       "      <td>20</td>\n",
       "      <td>7.383704</td>\n",
       "      <td>32</td>\n",
       "      <td>0.004674</td>\n",
       "      <td>0</td>\n",
       "    </tr>\n",
       "    <tr>\n",
       "      <th>4</th>\n",
       "      <td>-0.065335</td>\n",
       "      <td>-0.008099</td>\n",
       "      <td>SRR5892449.40354</td>\n",
       "      <td>50</td>\n",
       "      <td>28707</td>\n",
       "      <td>65</td>\n",
       "      <td>5.643856</td>\n",
       "      <td>32</td>\n",
       "      <td>0.001742</td>\n",
       "      <td>0</td>\n",
       "    </tr>\n",
       "    <tr>\n",
       "      <th>3</th>\n",
       "      <td>-0.047557</td>\n",
       "      <td>0.010694</td>\n",
       "      <td>SRR5892449.13231</td>\n",
       "      <td>44</td>\n",
       "      <td>29495</td>\n",
       "      <td>59</td>\n",
       "      <td>5.459432</td>\n",
       "      <td>32</td>\n",
       "      <td>0.001492</td>\n",
       "      <td>0</td>\n",
       "    </tr>\n",
       "    <tr>\n",
       "      <th>0</th>\n",
       "      <td>-0.022817</td>\n",
       "      <td>-0.002472</td>\n",
       "      <td>SRR5892449.18856</td>\n",
       "      <td>61</td>\n",
       "      <td>42640</td>\n",
       "      <td>5</td>\n",
       "      <td>5.930737</td>\n",
       "      <td>32</td>\n",
       "      <td>0.001431</td>\n",
       "      <td>0</td>\n",
       "    </tr>\n",
       "  </tbody>\n",
       "</table>\n",
       "</div>"
      ],
      "text/plain": [
       "      comp1     comp2               ids  coverage  repr_read_len  id_cluster  \\\n",
       "1 -0.051416  0.000227  SRR5892449.18969       167          35733          20   \n",
       "4 -0.065335 -0.008099  SRR5892449.40354        50          28707          65   \n",
       "3 -0.047557  0.010694  SRR5892449.13231        44          29495          59   \n",
       "0 -0.022817 -0.002472  SRR5892449.18856        61          42640           5   \n",
       "\n",
       "   transform  mt  coverage_norm  cluster_prediction  \n",
       "1   7.383704  32       0.004674                   0  \n",
       "4   5.643856  32       0.001742                   0  \n",
       "3   5.459432  32       0.001492                   0  \n",
       "0   5.930737  32       0.001431                   0  "
      ]
     },
     "execution_count": 394,
     "metadata": {},
     "output_type": "execute_result"
    }
   ],
   "source": [
    "selected_cluster_id = kmer_reduction.loc[:, kmer_reduction.columns != 'ids'].groupby(by='cluster_prediction')['coverage_norm'].median().idxmax()\n",
    "selected_cluster = kmer_reduction[kmer_reduction['cluster_prediction'] == selected_cluster_id]\n",
    "selected_cluster.sort_values('coverage_norm', inplace=True, ascending=False)\n",
    "selected_cluster.head()"
   ]
  },
  {
   "cell_type": "code",
   "execution_count": 395,
   "metadata": {},
   "outputs": [
    {
     "name": "stdout",
     "output_type": "stream",
     "text": [
      "\n",
      "\n",
      " --- Mitnanex retrieved 322 reads ---\n",
      "\n",
      "\n"
     ]
    }
   ],
   "source": [
    "sequences_ids = set()\n",
    "for i in selected_cluster['id_cluster']:\n",
    "    sequences_ids.update(clusters_list.get_cluster(i).id_sequences)\n",
    "write_fasta(reads_file=reads_file, sequences_ids=sequences_ids, output=f\"{wd}{prefix}_putative_mt_reads.fasta\")"
   ]
  }
 ],
 "metadata": {
  "kernelspec": {
   "display_name": "mitnanex",
   "language": "python",
   "name": "python3"
  },
  "language_info": {
   "codemirror_mode": {
    "name": "ipython",
    "version": 3
   },
   "file_extension": ".py",
   "mimetype": "text/x-python",
   "name": "python",
   "nbconvert_exporter": "python",
   "pygments_lexer": "ipython3",
   "version": "3.9.18"
  },
  "orig_nbformat": 4
 },
 "nbformat": 4,
 "nbformat_minor": 2
}

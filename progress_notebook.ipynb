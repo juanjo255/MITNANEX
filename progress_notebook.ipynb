{
 "cells": [
  {
   "cell_type": "code",
   "execution_count": 2,
   "metadata": {},
   "outputs": [],
   "source": [
    "from src.mitnanex import run\n",
    "import pandas as pd\n",
    "import matplotlib.pyplot as plt\n",
    "from sklearn.neighbors import KernelDensity"
   ]
  },
  {
   "cell_type": "code",
   "execution_count": 279,
   "metadata": {},
   "outputs": [],
   "source": [
    "\n",
    "clusters_list = run(\"test/homo_sapiens/mitnanex_results/all_talaro_porechop_18_07_2023_containments.paf\", 0.6)\n",
    "\n",
    "# I need to plot the coverage of clusters\n",
    "coverages_df = pd.DataFrame(\n",
    "    {\n",
    "        \"coverage\": [i.coverage for i in clusters_list.clusters],\n",
    "        \"repr_read_len\": [i.longest_read_length for i in clusters_list.clusters],\n",
    "        \"id_longest_read\": [i.longest_read_id for i in clusters_list.clusters],\n",
    "        \"id_cluster\":[i.id_cluster for i in clusters_list.clusters],\n",
    "    }\n",
    ")"
   ]
  },
  {
   "cell_type": "code",
   "execution_count": 280,
   "metadata": {},
   "outputs": [
    {
     "data": {
      "text/html": [
       "<div>\n",
       "<style scoped>\n",
       "    .dataframe tbody tr th:only-of-type {\n",
       "        vertical-align: middle;\n",
       "    }\n",
       "\n",
       "    .dataframe tbody tr th {\n",
       "        vertical-align: top;\n",
       "    }\n",
       "\n",
       "    .dataframe thead th {\n",
       "        text-align: right;\n",
       "    }\n",
       "</style>\n",
       "<table border=\"1\" class=\"dataframe\">\n",
       "  <thead>\n",
       "    <tr style=\"text-align: right;\">\n",
       "      <th></th>\n",
       "      <th>coverage</th>\n",
       "      <th>repr_read_len</th>\n",
       "      <th>id_longest_read</th>\n",
       "      <th>id_cluster</th>\n",
       "    </tr>\n",
       "  </thead>\n",
       "  <tbody>\n",
       "    <tr>\n",
       "      <th>52</th>\n",
       "      <td>80</td>\n",
       "      <td>5220</td>\n",
       "      <td>61a241c5-45d3-465b-9267-16120a7f2369</td>\n",
       "      <td>53</td>\n",
       "    </tr>\n",
       "    <tr>\n",
       "      <th>9</th>\n",
       "      <td>67</td>\n",
       "      <td>12923</td>\n",
       "      <td>43c61160-2fbd-4474-b9d5-ce0d8f2cf5b8</td>\n",
       "      <td>10</td>\n",
       "    </tr>\n",
       "    <tr>\n",
       "      <th>47</th>\n",
       "      <td>65</td>\n",
       "      <td>5419</td>\n",
       "      <td>eec8efd7-d84e-4675-a5b8-8c15408a805a</td>\n",
       "      <td>48</td>\n",
       "    </tr>\n",
       "    <tr>\n",
       "      <th>85</th>\n",
       "      <td>41</td>\n",
       "      <td>3679</td>\n",
       "      <td>211b2dcf-28fd-4408-9df0-ab6972710c1e</td>\n",
       "      <td>86</td>\n",
       "    </tr>\n",
       "    <tr>\n",
       "      <th>84</th>\n",
       "      <td>38</td>\n",
       "      <td>3719</td>\n",
       "      <td>5e87c7a7-dc16-4d64-b45a-2bbf0e482e40</td>\n",
       "      <td>85</td>\n",
       "    </tr>\n",
       "  </tbody>\n",
       "</table>\n",
       "</div>"
      ],
      "text/plain": [
       "    coverage  repr_read_len                       id_longest_read  id_cluster\n",
       "52        80           5220  61a241c5-45d3-465b-9267-16120a7f2369          53\n",
       "9         67          12923  43c61160-2fbd-4474-b9d5-ce0d8f2cf5b8          10\n",
       "47        65           5419  eec8efd7-d84e-4675-a5b8-8c15408a805a          48\n",
       "85        41           3679  211b2dcf-28fd-4408-9df0-ab6972710c1e          86\n",
       "84        38           3719  5e87c7a7-dc16-4d64-b45a-2bbf0e482e40          85"
      ]
     },
     "execution_count": 280,
     "metadata": {},
     "output_type": "execute_result"
    }
   ],
   "source": [
    "# Test on the first 30 clusters\n",
    "import math\n",
    "clusters = coverages_df.sort_values(by='coverage', ascending=False)\n",
    "clusters.head()"
   ]
  },
  {
   "cell_type": "markdown",
   "metadata": {},
   "source": [
    "# Coverage\n",
    "\n",
    "The first step is to filter the reads by coverage. For that I will explore the use of Kernel Density since this is clusters_list one dimensional clustering."
   ]
  },
  {
   "cell_type": "code",
   "execution_count": 281,
   "metadata": {},
   "outputs": [
    {
     "data": {
      "text/html": [
       "<div>\n",
       "<style scoped>\n",
       "    .dataframe tbody tr th:only-of-type {\n",
       "        vertical-align: middle;\n",
       "    }\n",
       "\n",
       "    .dataframe tbody tr th {\n",
       "        vertical-align: top;\n",
       "    }\n",
       "\n",
       "    .dataframe thead th {\n",
       "        text-align: right;\n",
       "    }\n",
       "</style>\n",
       "<table border=\"1\" class=\"dataframe\">\n",
       "  <thead>\n",
       "    <tr style=\"text-align: right;\">\n",
       "      <th></th>\n",
       "      <th>coverage</th>\n",
       "      <th>repr_read_len</th>\n",
       "      <th>id_longest_read</th>\n",
       "      <th>id_cluster</th>\n",
       "      <th>transform</th>\n",
       "    </tr>\n",
       "  </thead>\n",
       "  <tbody>\n",
       "    <tr>\n",
       "      <th>52</th>\n",
       "      <td>80</td>\n",
       "      <td>5220</td>\n",
       "      <td>61a241c5-45d3-465b-9267-16120a7f2369</td>\n",
       "      <td>53</td>\n",
       "      <td>6.321928</td>\n",
       "    </tr>\n",
       "    <tr>\n",
       "      <th>9</th>\n",
       "      <td>67</td>\n",
       "      <td>12923</td>\n",
       "      <td>43c61160-2fbd-4474-b9d5-ce0d8f2cf5b8</td>\n",
       "      <td>10</td>\n",
       "      <td>6.066089</td>\n",
       "    </tr>\n",
       "    <tr>\n",
       "      <th>47</th>\n",
       "      <td>65</td>\n",
       "      <td>5419</td>\n",
       "      <td>eec8efd7-d84e-4675-a5b8-8c15408a805a</td>\n",
       "      <td>48</td>\n",
       "      <td>6.022368</td>\n",
       "    </tr>\n",
       "    <tr>\n",
       "      <th>85</th>\n",
       "      <td>41</td>\n",
       "      <td>3679</td>\n",
       "      <td>211b2dcf-28fd-4408-9df0-ab6972710c1e</td>\n",
       "      <td>86</td>\n",
       "      <td>5.357552</td>\n",
       "    </tr>\n",
       "    <tr>\n",
       "      <th>84</th>\n",
       "      <td>38</td>\n",
       "      <td>3719</td>\n",
       "      <td>5e87c7a7-dc16-4d64-b45a-2bbf0e482e40</td>\n",
       "      <td>85</td>\n",
       "      <td>5.247928</td>\n",
       "    </tr>\n",
       "    <tr>\n",
       "      <th>...</th>\n",
       "      <td>...</td>\n",
       "      <td>...</td>\n",
       "      <td>...</td>\n",
       "      <td>...</td>\n",
       "      <td>...</td>\n",
       "    </tr>\n",
       "    <tr>\n",
       "      <th>146</th>\n",
       "      <td>2</td>\n",
       "      <td>1943</td>\n",
       "      <td>d2ce9f12-9361-4d1c-90b0-834fa8fed6bd</td>\n",
       "      <td>147</td>\n",
       "      <td>1.000000</td>\n",
       "    </tr>\n",
       "    <tr>\n",
       "      <th>147</th>\n",
       "      <td>2</td>\n",
       "      <td>1931</td>\n",
       "      <td>9f4e254c-9f81-4c69-9a71-e44cf00c1880</td>\n",
       "      <td>148</td>\n",
       "      <td>1.000000</td>\n",
       "    </tr>\n",
       "    <tr>\n",
       "      <th>148</th>\n",
       "      <td>2</td>\n",
       "      <td>1919</td>\n",
       "      <td>ade262f4-f1b3-4394-b5c5-07b4c4869ec7</td>\n",
       "      <td>149</td>\n",
       "      <td>1.000000</td>\n",
       "    </tr>\n",
       "    <tr>\n",
       "      <th>149</th>\n",
       "      <td>2</td>\n",
       "      <td>1897</td>\n",
       "      <td>676481ca-a4ed-4687-a969-34aecc8d0afe</td>\n",
       "      <td>150</td>\n",
       "      <td>1.000000</td>\n",
       "    </tr>\n",
       "    <tr>\n",
       "      <th>316</th>\n",
       "      <td>2</td>\n",
       "      <td>362</td>\n",
       "      <td>e29c1969-4463-4559-9571-209c5dbdfd47</td>\n",
       "      <td>317</td>\n",
       "      <td>1.000000</td>\n",
       "    </tr>\n",
       "  </tbody>\n",
       "</table>\n",
       "<p>317 rows × 5 columns</p>\n",
       "</div>"
      ],
      "text/plain": [
       "     coverage  repr_read_len                       id_longest_read  \\\n",
       "52         80           5220  61a241c5-45d3-465b-9267-16120a7f2369   \n",
       "9          67          12923  43c61160-2fbd-4474-b9d5-ce0d8f2cf5b8   \n",
       "47         65           5419  eec8efd7-d84e-4675-a5b8-8c15408a805a   \n",
       "85         41           3679  211b2dcf-28fd-4408-9df0-ab6972710c1e   \n",
       "84         38           3719  5e87c7a7-dc16-4d64-b45a-2bbf0e482e40   \n",
       "..        ...            ...                                   ...   \n",
       "146         2           1943  d2ce9f12-9361-4d1c-90b0-834fa8fed6bd   \n",
       "147         2           1931  9f4e254c-9f81-4c69-9a71-e44cf00c1880   \n",
       "148         2           1919  ade262f4-f1b3-4394-b5c5-07b4c4869ec7   \n",
       "149         2           1897  676481ca-a4ed-4687-a969-34aecc8d0afe   \n",
       "316         2            362  e29c1969-4463-4559-9571-209c5dbdfd47   \n",
       "\n",
       "     id_cluster  transform  \n",
       "52           53   6.321928  \n",
       "9            10   6.066089  \n",
       "47           48   6.022368  \n",
       "85           86   5.357552  \n",
       "84           85   5.247928  \n",
       "..          ...        ...  \n",
       "146         147   1.000000  \n",
       "147         148   1.000000  \n",
       "148         149   1.000000  \n",
       "149         150   1.000000  \n",
       "316         317   1.000000  \n",
       "\n",
       "[317 rows x 5 columns]"
      ]
     },
     "execution_count": 281,
     "metadata": {},
     "output_type": "execute_result"
    }
   ],
   "source": [
    "clusters['transform'] = [math.log2(i)for i in clusters['coverage']]\n",
    "clusters"
   ]
  },
  {
   "cell_type": "code",
   "execution_count": 282,
   "metadata": {},
   "outputs": [
    {
     "data": {
      "text/plain": [
       "<Axes: >"
      ]
     },
     "execution_count": 282,
     "metadata": {},
     "output_type": "execute_result"
    },
    {
     "data": {
      "image/png": "[encoded data removed]",
      "text/plain": [
       "<Figure size 640x480 with 1 Axes>"
      ]
     },
     "metadata": {},
     "output_type": "display_data"
    }
   ],
   "source": [
    "clusters['transform'].hist(bins=50)"
   ]
  },
  {
   "cell_type": "code",
   "execution_count": 283,
   "metadata": {},
   "outputs": [
    {
     "data": {
      "text/plain": [
       "<matplotlib.collections.PathCollection at 0x154f965e0>"
      ]
     },
     "execution_count": 283,
     "metadata": {},
     "output_type": "execute_result"
    },
    {
     "data": {
      "image/png": "[encoded data removed]",
      "text/plain": [
       "<Figure size 640x480 with 1 Axes>"
      ]
     },
     "metadata": {},
     "output_type": "display_data"
    }
   ],
   "source": [
    "plt.scatter(x=clusters['transform'], y=clusters['coverage'])"
   ]
  },
  {
   "cell_type": "code",
   "execution_count": 284,
   "metadata": {},
   "outputs": [
    {
     "data": {
      "text/plain": [
       "[<matplotlib.lines.Line2D at 0x15470c250>]"
      ]
     },
     "execution_count": 284,
     "metadata": {},
     "output_type": "execute_result"
    },
    {
     "data": {
      "image/png": "[encoded data removed]",
      "text/plain": [
       "<Figure size 640x480 with 1 Axes>"
      ]
     },
     "metadata": {},
     "output_type": "display_data"
    }
   ],
   "source": [
    "kde = KernelDensity(kernel='gaussian', bandwidth=0.5).fit(clusters['coverage'].array.reshape(-1,1))\n",
    "cov_fdp = kde.score_samples(clusters['coverage'].array.reshape(-1,1))\n",
    "plt.plot(clusters['transform'], cov_fdp)"
   ]
  },
  {
   "cell_type": "code",
   "execution_count": 285,
   "metadata": {},
   "outputs": [
    {
     "name": "stdout",
     "output_type": "stream",
     "text": [
      "Covertura minima admitida:  10\n"
     ]
    }
   ],
   "source": [
    "from scipy.signal import argrelextrema\n",
    "import numpy as np\n",
    "local_min = argrelextrema(cov_fdp, np.less)[0]\n",
    "if len(local_min) < 1:\n",
    "    min_coverage = 5\n",
    "else:\n",
    "    min_coverage = clusters.iloc[max(local_min),:]['coverage']\n",
    "print(\"Covertura minima admitida: \", min_coverage)\n",
    "\n",
    "clusters = clusters[clusters['coverage'] >= min_coverage]"
   ]
  },
  {
   "cell_type": "markdown",
   "metadata": {},
   "source": [
    "# Oligo composition\n",
    "\n",
    "Once I've detected the clusters with higher coverage, which I expect includes mitochondria and contamination, whether nuclear or external, I have to purify these groups. To do this I will use the oligo composition as it is used during metagenomics binning.\n",
    "\n",
    "I will create clusters_list script to get the kmers. The kmer size will be 3 to solve two things: 1. Intrinsec error from Nanopore, 2 smaller set as possible (4**3 possible kmers). \n",
    "\n",
    "Finally, I will reduce dimensionality using PCA"
   ]
  },
  {
   "cell_type": "code",
   "execution_count": 286,
   "metadata": {},
   "outputs": [],
   "source": [
    "from src.utils import write_fasta\n",
    "#from src.kmer_cnt import get_kmer_profiles\n",
    "import utils_rs"
   ]
  },
  {
   "cell_type": "code",
   "execution_count": 287,
   "metadata": {},
   "outputs": [],
   "source": [
    "reads_file = 'test/homo_sapiens/mitnanex_results/all_talaro_porechop_18_07_2023_sample.sorted.fastq'\n",
    "repr_reads = [i for i in clusters['id_longest_read']]"
   ]
  },
  {
   "cell_type": "code",
   "execution_count": 288,
   "metadata": {},
   "outputs": [],
   "source": [
    "# PYTHON VERSION\n",
    "# kmer_profiles_df = get_kmer_profiles (repr_reads, reads_file, 3)\n",
    "# kmer_profiles_df.head()"
   ]
  },
  {
   "cell_type": "code",
   "execution_count": 289,
   "metadata": {},
   "outputs": [
    {
     "data": {
      "text/html": [
       "<div>\n",
       "<style scoped>\n",
       "    .dataframe tbody tr th:only-of-type {\n",
       "        vertical-align: middle;\n",
       "    }\n",
       "\n",
       "    .dataframe tbody tr th {\n",
       "        vertical-align: top;\n",
       "    }\n",
       "\n",
       "    .dataframe thead th {\n",
       "        text-align: right;\n",
       "    }\n",
       "</style>\n",
       "<table border=\"1\" class=\"dataframe\">\n",
       "  <thead>\n",
       "    <tr style=\"text-align: right;\">\n",
       "      <th></th>\n",
       "      <th>0</th>\n",
       "      <th>1</th>\n",
       "      <th>2</th>\n",
       "      <th>3</th>\n",
       "      <th>4</th>\n",
       "      <th>5</th>\n",
       "      <th>6</th>\n",
       "      <th>7</th>\n",
       "      <th>8</th>\n",
       "      <th>9</th>\n",
       "      <th>...</th>\n",
       "      <th>23</th>\n",
       "      <th>24</th>\n",
       "      <th>25</th>\n",
       "      <th>26</th>\n",
       "      <th>27</th>\n",
       "      <th>28</th>\n",
       "      <th>29</th>\n",
       "      <th>30</th>\n",
       "      <th>31</th>\n",
       "      <th>ids</th>\n",
       "    </tr>\n",
       "  </thead>\n",
       "  <tbody>\n",
       "    <tr>\n",
       "      <th>0</th>\n",
       "      <td>0.081715</td>\n",
       "      <td>0.077149</td>\n",
       "      <td>0.035054</td>\n",
       "      <td>0.036447</td>\n",
       "      <td>0.075602</td>\n",
       "      <td>0.037375</td>\n",
       "      <td>0.035363</td>\n",
       "      <td>0.033816</td>\n",
       "      <td>0.031726</td>\n",
       "      <td>0.017952</td>\n",
       "      <td>...</td>\n",
       "      <td>0.010137</td>\n",
       "      <td>0.019810</td>\n",
       "      <td>0.013077</td>\n",
       "      <td>0.038613</td>\n",
       "      <td>0.014625</td>\n",
       "      <td>0.033584</td>\n",
       "      <td>0.023679</td>\n",
       "      <td>0.011839</td>\n",
       "      <td>0.018107</td>\n",
       "      <td>43c61160-2fbd-4474-b9d5-ce0d8f2cf5b8</td>\n",
       "    </tr>\n",
       "    <tr>\n",
       "      <th>1</th>\n",
       "      <td>0.037318</td>\n",
       "      <td>0.030776</td>\n",
       "      <td>0.031073</td>\n",
       "      <td>0.032263</td>\n",
       "      <td>0.017693</td>\n",
       "      <td>0.029587</td>\n",
       "      <td>0.026316</td>\n",
       "      <td>0.023194</td>\n",
       "      <td>0.025721</td>\n",
       "      <td>0.033898</td>\n",
       "      <td>...</td>\n",
       "      <td>0.043116</td>\n",
       "      <td>0.036574</td>\n",
       "      <td>0.041481</td>\n",
       "      <td>0.038953</td>\n",
       "      <td>0.029587</td>\n",
       "      <td>0.017395</td>\n",
       "      <td>0.031222</td>\n",
       "      <td>0.046685</td>\n",
       "      <td>0.033750</td>\n",
       "      <td>cf382c1e-edd3-405b-8cce-75198df98195</td>\n",
       "    </tr>\n",
       "    <tr>\n",
       "      <th>2</th>\n",
       "      <td>0.109430</td>\n",
       "      <td>0.107400</td>\n",
       "      <td>0.030079</td>\n",
       "      <td>0.036907</td>\n",
       "      <td>0.126038</td>\n",
       "      <td>0.026758</td>\n",
       "      <td>0.029526</td>\n",
       "      <td>0.032294</td>\n",
       "      <td>0.034139</td>\n",
       "      <td>0.014578</td>\n",
       "      <td>...</td>\n",
       "      <td>0.001661</td>\n",
       "      <td>0.004798</td>\n",
       "      <td>0.002030</td>\n",
       "      <td>0.028788</td>\n",
       "      <td>0.008858</td>\n",
       "      <td>0.039860</td>\n",
       "      <td>0.013656</td>\n",
       "      <td>0.003506</td>\n",
       "      <td>0.010888</td>\n",
       "      <td>eec8efd7-d84e-4675-a5b8-8c15408a805a</td>\n",
       "    </tr>\n",
       "    <tr>\n",
       "      <th>3</th>\n",
       "      <td>0.090996</td>\n",
       "      <td>0.093678</td>\n",
       "      <td>0.038314</td>\n",
       "      <td>0.032950</td>\n",
       "      <td>0.100575</td>\n",
       "      <td>0.033716</td>\n",
       "      <td>0.033333</td>\n",
       "      <td>0.036398</td>\n",
       "      <td>0.031992</td>\n",
       "      <td>0.020881</td>\n",
       "      <td>...</td>\n",
       "      <td>0.003640</td>\n",
       "      <td>0.011111</td>\n",
       "      <td>0.005556</td>\n",
       "      <td>0.036015</td>\n",
       "      <td>0.008621</td>\n",
       "      <td>0.035632</td>\n",
       "      <td>0.017625</td>\n",
       "      <td>0.004789</td>\n",
       "      <td>0.015900</td>\n",
       "      <td>61a241c5-45d3-465b-9267-16120a7f2369</td>\n",
       "    </tr>\n",
       "    <tr>\n",
       "      <th>4</th>\n",
       "      <td>0.126805</td>\n",
       "      <td>0.111646</td>\n",
       "      <td>0.030077</td>\n",
       "      <td>0.037295</td>\n",
       "      <td>0.117180</td>\n",
       "      <td>0.032483</td>\n",
       "      <td>0.029115</td>\n",
       "      <td>0.030558</td>\n",
       "      <td>0.029836</td>\n",
       "      <td>0.014918</td>\n",
       "      <td>...</td>\n",
       "      <td>0.003850</td>\n",
       "      <td>0.008422</td>\n",
       "      <td>0.005053</td>\n",
       "      <td>0.027430</td>\n",
       "      <td>0.009384</td>\n",
       "      <td>0.034167</td>\n",
       "      <td>0.014196</td>\n",
       "      <td>0.006256</td>\n",
       "      <td>0.007459</td>\n",
       "      <td>4938726e-bca0-4cd1-854e-446b3087fc90</td>\n",
       "    </tr>\n",
       "  </tbody>\n",
       "</table>\n",
       "<p>5 rows × 33 columns</p>\n",
       "</div>"
      ],
      "text/plain": [
       "          0         1         2         3         4         5         6  \\\n",
       "0  0.081715  0.077149  0.035054  0.036447  0.075602  0.037375  0.035363   \n",
       "1  0.037318  0.030776  0.031073  0.032263  0.017693  0.029587  0.026316   \n",
       "2  0.109430  0.107400  0.030079  0.036907  0.126038  0.026758  0.029526   \n",
       "3  0.090996  0.093678  0.038314  0.032950  0.100575  0.033716  0.033333   \n",
       "4  0.126805  0.111646  0.030077  0.037295  0.117180  0.032483  0.029115   \n",
       "\n",
       "          7         8         9  ...        23        24        25        26  \\\n",
       "0  0.033816  0.031726  0.017952  ...  0.010137  0.019810  0.013077  0.038613   \n",
       "1  0.023194  0.025721  0.033898  ...  0.043116  0.036574  0.041481  0.038953   \n",
       "2  0.032294  0.034139  0.014578  ...  0.001661  0.004798  0.002030  0.028788   \n",
       "3  0.036398  0.031992  0.020881  ...  0.003640  0.011111  0.005556  0.036015   \n",
       "4  0.030558  0.029836  0.014918  ...  0.003850  0.008422  0.005053  0.027430   \n",
       "\n",
       "         27        28        29        30        31  \\\n",
       "0  0.014625  0.033584  0.023679  0.011839  0.018107   \n",
       "1  0.029587  0.017395  0.031222  0.046685  0.033750   \n",
       "2  0.008858  0.039860  0.013656  0.003506  0.010888   \n",
       "3  0.008621  0.035632  0.017625  0.004789  0.015900   \n",
       "4  0.009384  0.034167  0.014196  0.006256  0.007459   \n",
       "\n",
       "                                    ids  \n",
       "0  43c61160-2fbd-4474-b9d5-ce0d8f2cf5b8  \n",
       "1  cf382c1e-edd3-405b-8cce-75198df98195  \n",
       "2  eec8efd7-d84e-4675-a5b8-8c15408a805a  \n",
       "3  61a241c5-45d3-465b-9267-16120a7f2369  \n",
       "4  4938726e-bca0-4cd1-854e-446b3087fc90  \n",
       "\n",
       "[5 rows x 33 columns]"
      ]
     },
     "execution_count": 289,
     "metadata": {},
     "output_type": "execute_result"
    }
   ],
   "source": [
    "# RUST VERSION\n",
    "hist = utils_rs.get_kmer_profiles(repr_reads, reads_file, 3)\n",
    "hist_df = pd.DataFrame(hist[0])\n",
    "hist_df['ids'] = hist[1]\n",
    "hist_df.head()\n",
    "hist_df.iloc[:, :-1]\n",
    "hist_df.head()"
   ]
  },
  {
   "cell_type": "code",
   "execution_count": 290,
   "metadata": {},
   "outputs": [],
   "source": [
    "## Get the real mt sequences\n",
    "with open('test/homo_sapiens/chrMT_reads_ids.txt','r') as handle_ids_mt:\n",
    "    ids_mt = handle_ids_mt.read().splitlines()\n",
    "    ids_mt = [i[:].strip() for i in ids_mt]"
   ]
  },
  {
   "cell_type": "markdown",
   "metadata": {},
   "source": [
    "# Dimensionality reduction with PCA and clustering with k-means "
   ]
  },
  {
   "cell_type": "code",
   "execution_count": 291,
   "metadata": {},
   "outputs": [],
   "source": [
    "from sklearn.decomposition import PCA\n",
    "from sklearn.cluster import KMeans, DBSCAN"
   ]
  },
  {
   "cell_type": "code",
   "execution_count": 292,
   "metadata": {},
   "outputs": [
    {
     "data": {
      "text/html": [
       "<style>#sk-container-id-13 {color: black;}#sk-container-id-13 pre{padding: 0;}#sk-container-id-13 div.sk-toggleable {background-color: white;}#sk-container-id-13 label.sk-toggleable__label {cursor: pointer;display: block;width: 100%;margin-bottom: 0;padding: 0.3em;box-sizing: border-box;text-align: center;}#sk-container-id-13 label.sk-toggleable__label-arrow:before {content: \"▸\";float: left;margin-right: 0.25em;color: #696969;}#sk-container-id-13 label.sk-toggleable__label-arrow:hover:before {color: black;}#sk-container-id-13 div.sk-estimator:hover label.sk-toggleable__label-arrow:before {color: black;}#sk-container-id-13 div.sk-toggleable__content {max-height: 0;max-width: 0;overflow: hidden;text-align: left;background-color: #f0f8ff;}#sk-container-id-13 div.sk-toggleable__content pre {margin: 0.2em;color: black;border-radius: 0.25em;background-color: #f0f8ff;}#sk-container-id-13 input.sk-toggleable__control:checked~div.sk-toggleable__content {max-height: 200px;max-width: 100%;overflow: auto;}#sk-container-id-13 input.sk-toggleable__control:checked~label.sk-toggleable__label-arrow:before {content: \"▾\";}#sk-container-id-13 div.sk-estimator input.sk-toggleable__control:checked~label.sk-toggleable__label {background-color: #d4ebff;}#sk-container-id-13 div.sk-label input.sk-toggleable__control:checked~label.sk-toggleable__label {background-color: #d4ebff;}#sk-container-id-13 input.sk-hidden--visually {border: 0;clip: rect(1px 1px 1px 1px);clip: rect(1px, 1px, 1px, 1px);height: 1px;margin: -1px;overflow: hidden;padding: 0;position: absolute;width: 1px;}#sk-container-id-13 div.sk-estimator {font-family: monospace;background-color: #f0f8ff;border: 1px dotted black;border-radius: 0.25em;box-sizing: border-box;margin-bottom: 0.5em;}#sk-container-id-13 div.sk-estimator:hover {background-color: #d4ebff;}#sk-container-id-13 div.sk-parallel-item::after {content: \"\";width: 100%;border-bottom: 1px solid gray;flex-grow: 1;}#sk-container-id-13 div.sk-label:hover label.sk-toggleable__label {background-color: #d4ebff;}#sk-container-id-13 div.sk-serial::before {content: \"\";position: absolute;border-left: 1px solid gray;box-sizing: border-box;top: 0;bottom: 0;left: 50%;z-index: 0;}#sk-container-id-13 div.sk-serial {display: flex;flex-direction: column;align-items: center;background-color: white;padding-right: 0.2em;padding-left: 0.2em;position: relative;}#sk-container-id-13 div.sk-item {position: relative;z-index: 1;}#sk-container-id-13 div.sk-parallel {display: flex;align-items: stretch;justify-content: center;background-color: white;position: relative;}#sk-container-id-13 div.sk-item::before, #sk-container-id-13 div.sk-parallel-item::before {content: \"\";position: absolute;border-left: 1px solid gray;box-sizing: border-box;top: 0;bottom: 0;left: 50%;z-index: -1;}#sk-container-id-13 div.sk-parallel-item {display: flex;flex-direction: column;z-index: 1;position: relative;background-color: white;}#sk-container-id-13 div.sk-parallel-item:first-child::after {align-self: flex-end;width: 50%;}#sk-container-id-13 div.sk-parallel-item:last-child::after {align-self: flex-start;width: 50%;}#sk-container-id-13 div.sk-parallel-item:only-child::after {width: 0;}#sk-container-id-13 div.sk-dashed-wrapped {border: 1px dashed gray;margin: 0 0.4em 0.5em 0.4em;box-sizing: border-box;padding-bottom: 0.4em;background-color: white;}#sk-container-id-13 div.sk-label label {font-family: monospace;font-weight: bold;display: inline-block;line-height: 1.2em;}#sk-container-id-13 div.sk-label-container {text-align: center;}#sk-container-id-13 div.sk-container {/* jupyter's `normalize.less` sets `[hidden] { display: none; }` but bootstrap.min.css set `[hidden] { display: none !important; }` so we also need the `!important` here to be able to override the default hidden behavior on the sphinx rendered scikit-learn.org. See: https://github.com/scikit-learn/scikit-learn/issues/21755 */display: inline-block !important;position: relative;}#sk-container-id-13 div.sk-text-repr-fallback {display: none;}</style><div id=\"sk-container-id-13\" class=\"sk-top-container\"><div class=\"sk-text-repr-fallback\"><pre>PCA(n_components=2)</pre><b>In a Jupyter environment, please rerun this cell to show the HTML representation or trust the notebook. <br />On GitHub, the HTML representation is unable to render, please try loading this page with nbviewer.org.</b></div><div class=\"sk-container\" hidden><div class=\"sk-item\"><div class=\"sk-estimator sk-toggleable\"><input class=\"sk-toggleable__control sk-hidden--visually\" id=\"sk-estimator-id-13\" type=\"checkbox\" checked><label for=\"sk-estimator-id-13\" class=\"sk-toggleable__label sk-toggleable__label-arrow\">PCA</label><div class=\"sk-toggleable__content\"><pre>PCA(n_components=2)</pre></div></div></div></div></div>"
      ],
      "text/plain": [
       "PCA(n_components=2)"
      ]
     },
     "execution_count": 292,
     "metadata": {},
     "output_type": "execute_result"
    }
   ],
   "source": [
    "pca = PCA(n_components=2)\n",
    "pca.fit(hist_df.iloc[:,:-2])"
   ]
  },
  {
   "cell_type": "code",
   "execution_count": 293,
   "metadata": {},
   "outputs": [
    {
     "data": {
      "text/plain": [
       "array([0.00796407, 0.00030929])"
      ]
     },
     "execution_count": 293,
     "metadata": {},
     "output_type": "execute_result"
    }
   ],
   "source": [
    "## Components and variance explained \n",
    "pca.explained_variance_\n",
    "#pca.components_"
   ]
  },
  {
   "cell_type": "code",
   "execution_count": 294,
   "metadata": {},
   "outputs": [
    {
     "data": {
      "text/html": [
       "<div>\n",
       "<style scoped>\n",
       "    .dataframe tbody tr th:only-of-type {\n",
       "        vertical-align: middle;\n",
       "    }\n",
       "\n",
       "    .dataframe tbody tr th {\n",
       "        vertical-align: top;\n",
       "    }\n",
       "\n",
       "    .dataframe thead th {\n",
       "        text-align: right;\n",
       "    }\n",
       "</style>\n",
       "<table border=\"1\" class=\"dataframe\">\n",
       "  <thead>\n",
       "    <tr style=\"text-align: right;\">\n",
       "      <th></th>\n",
       "      <th>comp1</th>\n",
       "      <th>comp2</th>\n",
       "      <th>ids</th>\n",
       "      <th>coverage</th>\n",
       "      <th>repr_read_len</th>\n",
       "      <th>id_cluster</th>\n",
       "      <th>transform</th>\n",
       "      <th>mt</th>\n",
       "      <th>coverage_norm</th>\n",
       "    </tr>\n",
       "  </thead>\n",
       "  <tbody>\n",
       "    <tr>\n",
       "      <th>0</th>\n",
       "      <td>0.007361</td>\n",
       "      <td>0.019244</td>\n",
       "      <td>43c61160-2fbd-4474-b9d5-ce0d8f2cf5b8</td>\n",
       "      <td>67</td>\n",
       "      <td>12923</td>\n",
       "      <td>10</td>\n",
       "      <td>6.066089</td>\n",
       "      <td>32</td>\n",
       "      <td>0.005185</td>\n",
       "    </tr>\n",
       "    <tr>\n",
       "      <th>1</th>\n",
       "      <td>0.132736</td>\n",
       "      <td>0.001116</td>\n",
       "      <td>cf382c1e-edd3-405b-8cce-75198df98195</td>\n",
       "      <td>12</td>\n",
       "      <td>6726</td>\n",
       "      <td>37</td>\n",
       "      <td>3.584963</td>\n",
       "      <td>10</td>\n",
       "      <td>0.001784</td>\n",
       "    </tr>\n",
       "    <tr>\n",
       "      <th>2</th>\n",
       "      <td>-0.075604</td>\n",
       "      <td>-0.005475</td>\n",
       "      <td>eec8efd7-d84e-4675-a5b8-8c15408a805a</td>\n",
       "      <td>65</td>\n",
       "      <td>5419</td>\n",
       "      <td>48</td>\n",
       "      <td>6.022368</td>\n",
       "      <td>32</td>\n",
       "      <td>0.011995</td>\n",
       "    </tr>\n",
       "    <tr>\n",
       "      <th>3</th>\n",
       "      <td>-0.033855</td>\n",
       "      <td>0.010492</td>\n",
       "      <td>61a241c5-45d3-465b-9267-16120a7f2369</td>\n",
       "      <td>80</td>\n",
       "      <td>5220</td>\n",
       "      <td>53</td>\n",
       "      <td>6.321928</td>\n",
       "      <td>32</td>\n",
       "      <td>0.015326</td>\n",
       "    </tr>\n",
       "    <tr>\n",
       "      <th>4</th>\n",
       "      <td>-0.077824</td>\n",
       "      <td>-0.015103</td>\n",
       "      <td>4938726e-bca0-4cd1-854e-446b3087fc90</td>\n",
       "      <td>10</td>\n",
       "      <td>4156</td>\n",
       "      <td>71</td>\n",
       "      <td>3.321928</td>\n",
       "      <td>32</td>\n",
       "      <td>0.002406</td>\n",
       "    </tr>\n",
       "  </tbody>\n",
       "</table>\n",
       "</div>"
      ],
      "text/plain": [
       "      comp1     comp2                                   ids  coverage  \\\n",
       "0  0.007361  0.019244  43c61160-2fbd-4474-b9d5-ce0d8f2cf5b8        67   \n",
       "1  0.132736  0.001116  cf382c1e-edd3-405b-8cce-75198df98195        12   \n",
       "2 -0.075604 -0.005475  eec8efd7-d84e-4675-a5b8-8c15408a805a        65   \n",
       "3 -0.033855  0.010492  61a241c5-45d3-465b-9267-16120a7f2369        80   \n",
       "4 -0.077824 -0.015103  4938726e-bca0-4cd1-854e-446b3087fc90        10   \n",
       "\n",
       "   repr_read_len  id_cluster  transform  mt  coverage_norm  \n",
       "0          12923          10   6.066089  32       0.005185  \n",
       "1           6726          37   3.584963  10       0.001784  \n",
       "2           5419          48   6.022368  32       0.011995  \n",
       "3           5220          53   6.321928  32       0.015326  \n",
       "4           4156          71   3.321928  32       0.002406  "
      ]
     },
     "execution_count": 294,
     "metadata": {},
     "output_type": "execute_result"
    }
   ],
   "source": [
    "kmer_reduction = pca.fit_transform(hist_df.iloc[:,:-2])\n",
    "kmer_reduction = pd.DataFrame(kmer_reduction, columns=['comp1', 'comp2'])\n",
    "\n",
    "## merging the dataframe with ids and other relevant information\n",
    "kmer_reduction ['ids'] = hist_df['ids']\n",
    "kmer_reduction = kmer_reduction.merge(clusters, how='left', left_on='ids', right_on='id_longest_read')\n",
    "kmer_reduction.drop(columns='id_longest_read', inplace=True)\n",
    "\n",
    "## Annotate which reads are mitochondrial\n",
    "kmer_reduction['mt'] = [32 if i else 10 for i in kmer_reduction['ids'].isin(ids_mt)] \n",
    "kmer_reduction['coverage_norm'] = kmer_reduction['coverage'] / kmer_reduction['repr_read_len']\n",
    "kmer_reduction.head()"
   ]
  },
  {
   "cell_type": "code",
   "execution_count": 295,
   "metadata": {},
   "outputs": [
    {
     "name": "stderr",
     "output_type": "stream",
     "text": [
      "No artists with labels found to put in legend.  Note that artists whose label start with an underscore are ignored when legend() is called with no argument.\n"
     ]
    },
    {
     "data": {
      "text/plain": [
       "Text(0, 0.5, 'comp2')"
      ]
     },
     "execution_count": 295,
     "metadata": {},
     "output_type": "execute_result"
    },
    {
     "data": {
      "image/png": "[encoded data removed]",
      "text/plain": [
       "<Figure size 640x480 with 2 Axes>"
      ]
     },
     "metadata": {},
     "output_type": "display_data"
    }
   ],
   "source": [
    "sc = plt.scatter(kmer_reduction['comp1'],kmer_reduction['comp2'], c=kmer_reduction['coverage_norm'], s=kmer_reduction['mt'])\n",
    "# legend\n",
    "# Add clusters_list colorbar\n",
    "cbar = plt.colorbar(sc)\n",
    "cbar.set_label('Color Scale')\n",
    "plt.legend()\n",
    "plt.xlabel('comp1')\n",
    "plt.ylabel('comp2')"
   ]
  },
  {
   "cell_type": "code",
   "execution_count": 296,
   "metadata": {},
   "outputs": [
    {
     "name": "stdout",
     "output_type": "stream",
     "text": [
      "Initialization complete\n",
      "Iteration 0, inertia 0.00017467261489026046.\n",
      "Iteration 1, inertia 9.599215460756868e-05.\n",
      "Converged at iteration 1: strict convergence.\n"
     ]
    }
   ],
   "source": [
    "kmeans = KMeans(n_clusters=2, max_iter=100, init='k-means++', random_state=0, n_init=1,verbose=1)\n",
    "mt_prediction = kmeans.fit_predict(kmer_reduction[['comp1','comp2']], sample_weight=kmer_reduction['coverage_norm'])\n",
    "kmer_reduction['cluster_prediction'] = mt_prediction"
   ]
  },
  {
   "cell_type": "code",
   "execution_count": 297,
   "metadata": {},
   "outputs": [
    {
     "data": {
      "text/plain": [
       "Text(0, 0.5, 'comp2')"
      ]
     },
     "execution_count": 297,
     "metadata": {},
     "output_type": "execute_result"
    },
    {
     "data": {
      "image/png": "[encoded data removed]",
      "text/plain": [
       "<Figure size 640x480 with 1 Axes>"
      ]
     },
     "metadata": {},
     "output_type": "display_data"
    }
   ],
   "source": [
    "plt.scatter(x=kmer_reduction['comp1'], y=kmer_reduction['comp2'], c=mt_prediction, s=kmer_reduction['mt'])\n",
    "plt.xlabel('comp1')\n",
    "plt.ylabel('comp2')"
   ]
  },
  {
   "cell_type": "markdown",
   "metadata": {},
   "source": [
    "# Get the cluster of interest\n",
    "\n",
    "This step is clusters_list pain in the ass, but since I am looking to keep the free-reference. "
   ]
  },
  {
   "cell_type": "code",
   "execution_count": 298,
   "metadata": {},
   "outputs": [
    {
     "name": "stderr",
     "output_type": "stream",
     "text": [
      "/var/folders/20/bjqv2gj50z7dx4ksyh4y8b800000gn/T/ipykernel_12420/2001483469.py:3: SettingWithCopyWarning: \n",
      "A value is trying to be set on a copy of a slice from a DataFrame\n",
      "\n",
      "See the caveats in the documentation: https://pandas.pydata.org/pandas-docs/stable/user_guide/indexing.html#returning-a-view-versus-a-copy\n",
      "  selected_cluster.sort_values('coverage_norm', inplace=True, ascending=False)\n"
     ]
    },
    {
     "data": {
      "text/html": [
       "<div>\n",
       "<style scoped>\n",
       "    .dataframe tbody tr th:only-of-type {\n",
       "        vertical-align: middle;\n",
       "    }\n",
       "\n",
       "    .dataframe tbody tr th {\n",
       "        vertical-align: top;\n",
       "    }\n",
       "\n",
       "    .dataframe thead th {\n",
       "        text-align: right;\n",
       "    }\n",
       "</style>\n",
       "<table border=\"1\" class=\"dataframe\">\n",
       "  <thead>\n",
       "    <tr style=\"text-align: right;\">\n",
       "      <th></th>\n",
       "      <th>comp1</th>\n",
       "      <th>comp2</th>\n",
       "      <th>ids</th>\n",
       "      <th>coverage</th>\n",
       "      <th>repr_read_len</th>\n",
       "      <th>id_cluster</th>\n",
       "      <th>transform</th>\n",
       "      <th>mt</th>\n",
       "      <th>coverage_norm</th>\n",
       "      <th>cluster_prediction</th>\n",
       "    </tr>\n",
       "  </thead>\n",
       "  <tbody>\n",
       "    <tr>\n",
       "      <th>3</th>\n",
       "      <td>-0.033855</td>\n",
       "      <td>0.010492</td>\n",
       "      <td>61a241c5-45d3-465b-9267-16120a7f2369</td>\n",
       "      <td>80</td>\n",
       "      <td>5220</td>\n",
       "      <td>53</td>\n",
       "      <td>6.321928</td>\n",
       "      <td>32</td>\n",
       "      <td>0.015326</td>\n",
       "      <td>0</td>\n",
       "    </tr>\n",
       "    <tr>\n",
       "      <th>2</th>\n",
       "      <td>-0.075604</td>\n",
       "      <td>-0.005475</td>\n",
       "      <td>eec8efd7-d84e-4675-a5b8-8c15408a805a</td>\n",
       "      <td>65</td>\n",
       "      <td>5419</td>\n",
       "      <td>48</td>\n",
       "      <td>6.022368</td>\n",
       "      <td>32</td>\n",
       "      <td>0.011995</td>\n",
       "      <td>0</td>\n",
       "    </tr>\n",
       "    <tr>\n",
       "      <th>5</th>\n",
       "      <td>-0.098386</td>\n",
       "      <td>-0.011397</td>\n",
       "      <td>5e87c7a7-dc16-4d64-b45a-2bbf0e482e40</td>\n",
       "      <td>38</td>\n",
       "      <td>3719</td>\n",
       "      <td>85</td>\n",
       "      <td>5.247928</td>\n",
       "      <td>32</td>\n",
       "      <td>0.010218</td>\n",
       "      <td>0</td>\n",
       "    </tr>\n",
       "    <tr>\n",
       "      <th>8</th>\n",
       "      <td>-0.040500</td>\n",
       "      <td>0.000494</td>\n",
       "      <td>84c5c5e2-0ac3-44d5-bb2f-aa849e6f4693</td>\n",
       "      <td>18</td>\n",
       "      <td>2356</td>\n",
       "      <td>130</td>\n",
       "      <td>4.169925</td>\n",
       "      <td>32</td>\n",
       "      <td>0.007640</td>\n",
       "      <td>0</td>\n",
       "    </tr>\n",
       "    <tr>\n",
       "      <th>4</th>\n",
       "      <td>-0.077824</td>\n",
       "      <td>-0.015103</td>\n",
       "      <td>4938726e-bca0-4cd1-854e-446b3087fc90</td>\n",
       "      <td>10</td>\n",
       "      <td>4156</td>\n",
       "      <td>71</td>\n",
       "      <td>3.321928</td>\n",
       "      <td>32</td>\n",
       "      <td>0.002406</td>\n",
       "      <td>0</td>\n",
       "    </tr>\n",
       "  </tbody>\n",
       "</table>\n",
       "</div>"
      ],
      "text/plain": [
       "      comp1     comp2                                   ids  coverage  \\\n",
       "3 -0.033855  0.010492  61a241c5-45d3-465b-9267-16120a7f2369        80   \n",
       "2 -0.075604 -0.005475  eec8efd7-d84e-4675-a5b8-8c15408a805a        65   \n",
       "5 -0.098386 -0.011397  5e87c7a7-dc16-4d64-b45a-2bbf0e482e40        38   \n",
       "8 -0.040500  0.000494  84c5c5e2-0ac3-44d5-bb2f-aa849e6f4693        18   \n",
       "4 -0.077824 -0.015103  4938726e-bca0-4cd1-854e-446b3087fc90        10   \n",
       "\n",
       "   repr_read_len  id_cluster  transform  mt  coverage_norm  cluster_prediction  \n",
       "3           5220          53   6.321928  32       0.015326                   0  \n",
       "2           5419          48   6.022368  32       0.011995                   0  \n",
       "5           3719          85   5.247928  32       0.010218                   0  \n",
       "8           2356         130   4.169925  32       0.007640                   0  \n",
       "4           4156          71   3.321928  32       0.002406                   0  "
      ]
     },
     "execution_count": 298,
     "metadata": {},
     "output_type": "execute_result"
    }
   ],
   "source": [
    "selected_cluster_id = kmer_reduction.loc[:, kmer_reduction.columns != 'ids'].groupby(by='cluster_prediction')['coverage_norm'].median().idxmax()\n",
    "selected_cluster = kmer_reduction[kmer_reduction['cluster_prediction'] == selected_cluster_id]\n",
    "selected_cluster.sort_values('coverage_norm', inplace=True, ascending=False)\n",
    "selected_cluster.head()"
   ]
  },
  {
   "cell_type": "code",
   "execution_count": 299,
   "metadata": {},
   "outputs": [
    {
     "name": "stdout",
     "output_type": "stream",
     "text": [
      "-> 211 reads retrieved\n"
     ]
    }
   ],
   "source": [
    "sequences_ids = set()\n",
    "for i in selected_cluster['id_cluster']:\n",
    "    sequences_ids.update(clusters_list.get_cluster(i).id_sequences)\n",
    "write_fasta(reads_file=reads_file, sequences_ids=sequences_ids, output='test/a_gifuensis/mitnanex_results/a_gifuensis_all_putative_mt_reads.fasta')"
   ]
  }
 ],
 "metadata": {
  "kernelspec": {
   "display_name": "mitnanex",
   "language": "python",
   "name": "python3"
  },
  "language_info": {
   "codemirror_mode": {
    "name": "ipython",
    "version": 3
   },
   "file_extension": ".py",
   "mimetype": "text/x-python",
   "name": "python",
   "nbconvert_exporter": "python",
   "pygments_lexer": "ipython3",
   "version": "3.9.18"
  },
  "orig_nbformat": 4
 },
 "nbformat": 4,
 "nbformat_minor": 2
}

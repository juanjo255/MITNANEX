{
 "cells": [
  {
   "cell_type": "code",
   "execution_count": 1,
   "metadata": {},
   "outputs": [],
   "source": [
    "from src.mitnanex import run\n",
    "import pandas as pd\n",
    "import matplotlib.pyplot as plt\n",
    "from sklearn.neighbors import KernelDensity"
   ]
  },
  {
   "cell_type": "code",
   "execution_count": 2,
   "metadata": {},
   "outputs": [],
   "source": [
    "\n",
    "clusters_list = run()\n",
    "\n",
    "# I need to plot the coverage of clusters\n",
    "coverages_df = pd.DataFrame(\n",
    "    {\n",
    "        \"coverage\": [i.coverage for i in clusters_list.clusters],\n",
    "        \"repr_read_len\": [i.longest_read_length for i in clusters_list.clusters],\n",
    "        \"id_longest_read\": [i.longest_read_id for i in clusters_list.clusters],\n",
    "        \"id_cluster\":[i.id_cluster for i in clusters_list.clusters],\n",
    "    }\n",
    ")"
   ]
  },
  {
   "cell_type": "code",
   "execution_count": 3,
   "metadata": {},
   "outputs": [
    {
     "data": {
      "text/html": [
       "<div>\n",
       "<style scoped>\n",
       "    .dataframe tbody tr th:only-of-type {\n",
       "        vertical-align: middle;\n",
       "    }\n",
       "\n",
       "    .dataframe tbody tr th {\n",
       "        vertical-align: top;\n",
       "    }\n",
       "\n",
       "    .dataframe thead th {\n",
       "        text-align: right;\n",
       "    }\n",
       "</style>\n",
       "<table border=\"1\" class=\"dataframe\">\n",
       "  <thead>\n",
       "    <tr style=\"text-align: right;\">\n",
       "      <th></th>\n",
       "      <th>coverage</th>\n",
       "      <th>repr_read_len</th>\n",
       "      <th>id_longest_read</th>\n",
       "      <th>id_cluster</th>\n",
       "    </tr>\n",
       "  </thead>\n",
       "  <tbody>\n",
       "    <tr>\n",
       "      <th>3726</th>\n",
       "      <td>2</td>\n",
       "      <td>1839</td>\n",
       "      <td>000affec-9039-447a-9580-c3da44789396</td>\n",
       "      <td>3727</td>\n",
       "    </tr>\n",
       "    <tr>\n",
       "      <th>103</th>\n",
       "      <td>14</td>\n",
       "      <td>14491</td>\n",
       "      <td>001c7766-b26e-4d28-935d-2b6cddc15cab</td>\n",
       "      <td>104</td>\n",
       "    </tr>\n",
       "    <tr>\n",
       "      <th>5182</th>\n",
       "      <td>2</td>\n",
       "      <td>635</td>\n",
       "      <td>001d5636-2de4-4371-9cf0-501936637b77</td>\n",
       "      <td>5183</td>\n",
       "    </tr>\n",
       "    <tr>\n",
       "      <th>396</th>\n",
       "      <td>16</td>\n",
       "      <td>8508</td>\n",
       "      <td>001dc81d-06ca-4174-a53d-6e82b1dff234</td>\n",
       "      <td>397</td>\n",
       "    </tr>\n",
       "    <tr>\n",
       "      <th>3134</th>\n",
       "      <td>2</td>\n",
       "      <td>2251</td>\n",
       "      <td>002369ac-2721-428e-a29c-712bebd71001</td>\n",
       "      <td>3135</td>\n",
       "    </tr>\n",
       "  </tbody>\n",
       "</table>\n",
       "</div>"
      ],
      "text/plain": [
       "      coverage  repr_read_len                       id_longest_read  \\\n",
       "3726         2           1839  000affec-9039-447a-9580-c3da44789396   \n",
       "103         14          14491  001c7766-b26e-4d28-935d-2b6cddc15cab   \n",
       "5182         2            635  001d5636-2de4-4371-9cf0-501936637b77   \n",
       "396         16           8508  001dc81d-06ca-4174-a53d-6e82b1dff234   \n",
       "3134         2           2251  002369ac-2721-428e-a29c-712bebd71001   \n",
       "\n",
       "      id_cluster  \n",
       "3726        3727  \n",
       "103          104  \n",
       "5182        5183  \n",
       "396          397  \n",
       "3134        3135  "
      ]
     },
     "execution_count": 3,
     "metadata": {},
     "output_type": "execute_result"
    }
   ],
   "source": [
    "# Test on the first 30 clusters\n",
    "import math\n",
    "clusters = coverages_df.sort_values(by='coverage', ascending=False)\n",
    "clusters.sort_values(by='id_longest_read',inplace=True)\n",
    "clusters.head()"
   ]
  },
  {
   "cell_type": "markdown",
   "metadata": {},
   "source": [
    "# Coverage\n",
    "\n",
    "The first step is to filter the reads by coverage. For that I will explore the use of Kernel Density since this is clusters_list one dimensional clustering."
   ]
  },
  {
   "cell_type": "code",
   "execution_count": 4,
   "metadata": {},
   "outputs": [
    {
     "data": {
      "text/html": [
       "<div>\n",
       "<style scoped>\n",
       "    .dataframe tbody tr th:only-of-type {\n",
       "        vertical-align: middle;\n",
       "    }\n",
       "\n",
       "    .dataframe tbody tr th {\n",
       "        vertical-align: top;\n",
       "    }\n",
       "\n",
       "    .dataframe thead th {\n",
       "        text-align: right;\n",
       "    }\n",
       "</style>\n",
       "<table border=\"1\" class=\"dataframe\">\n",
       "  <thead>\n",
       "    <tr style=\"text-align: right;\">\n",
       "      <th></th>\n",
       "      <th>coverage</th>\n",
       "      <th>repr_read_len</th>\n",
       "      <th>id_longest_read</th>\n",
       "      <th>id_cluster</th>\n",
       "      <th>transform</th>\n",
       "    </tr>\n",
       "  </thead>\n",
       "  <tbody>\n",
       "    <tr>\n",
       "      <th>10</th>\n",
       "      <td>705</td>\n",
       "      <td>30009</td>\n",
       "      <td>31d41fce-9796-442d-ac9e-0e8951545241</td>\n",
       "      <td>11</td>\n",
       "      <td>9.461479</td>\n",
       "    </tr>\n",
       "    <tr>\n",
       "      <th>49</th>\n",
       "      <td>638</td>\n",
       "      <td>19448</td>\n",
       "      <td>2a5d92c9-a665-47d6-83cf-52296c617f46</td>\n",
       "      <td>50</td>\n",
       "      <td>9.317413</td>\n",
       "    </tr>\n",
       "    <tr>\n",
       "      <th>63</th>\n",
       "      <td>426</td>\n",
       "      <td>17368</td>\n",
       "      <td>323a391b-0c08-46bd-bc32-26ecbadfed9f</td>\n",
       "      <td>64</td>\n",
       "      <td>8.734710</td>\n",
       "    </tr>\n",
       "    <tr>\n",
       "      <th>116</th>\n",
       "      <td>167</td>\n",
       "      <td>13931</td>\n",
       "      <td>2817a84c-62b7-4bfd-8d15-ea5c6f496363</td>\n",
       "      <td>117</td>\n",
       "      <td>7.383704</td>\n",
       "    </tr>\n",
       "    <tr>\n",
       "      <th>127</th>\n",
       "      <td>156</td>\n",
       "      <td>13396</td>\n",
       "      <td>7cf2b8b1-5b4f-4234-af33-39732ff36a8b</td>\n",
       "      <td>128</td>\n",
       "      <td>7.285402</td>\n",
       "    </tr>\n",
       "  </tbody>\n",
       "</table>\n",
       "</div>"
      ],
      "text/plain": [
       "     coverage  repr_read_len                       id_longest_read  \\\n",
       "10        705          30009  31d41fce-9796-442d-ac9e-0e8951545241   \n",
       "49        638          19448  2a5d92c9-a665-47d6-83cf-52296c617f46   \n",
       "63        426          17368  323a391b-0c08-46bd-bc32-26ecbadfed9f   \n",
       "116       167          13931  2817a84c-62b7-4bfd-8d15-ea5c6f496363   \n",
       "127       156          13396  7cf2b8b1-5b4f-4234-af33-39732ff36a8b   \n",
       "\n",
       "     id_cluster  transform  \n",
       "10           11   9.461479  \n",
       "49           50   9.317413  \n",
       "63           64   8.734710  \n",
       "116         117   7.383704  \n",
       "127         128   7.285402  "
      ]
     },
     "execution_count": 4,
     "metadata": {},
     "output_type": "execute_result"
    }
   ],
   "source": [
    "clusters['transform'] = [math.log2(i)for i in clusters['coverage']]\n",
    "clusters.sort_values('coverage',ascending=False, inplace=True)\n",
    "clusters.head()"
   ]
  },
  {
   "cell_type": "code",
   "execution_count": 5,
   "metadata": {},
   "outputs": [
    {
     "data": {
      "text/plain": [
       "<Axes: >"
      ]
     },
     "execution_count": 5,
     "metadata": {},
     "output_type": "execute_result"
    },
    {
     "data": {
      "image/png": "[encoded data removed]",
      "text/plain": [
       "<Figure size 640x480 with 1 Axes>"
      ]
     },
     "metadata": {},
     "output_type": "display_data"
    }
   ],
   "source": [
    "clusters['transform'].hist()"
   ]
  },
  {
   "cell_type": "code",
   "execution_count": 6,
   "metadata": {},
   "outputs": [
    {
     "data": {
      "text/plain": [
       "<matplotlib.collections.PathCollection at 0x14da0ec50>"
      ]
     },
     "execution_count": 6,
     "metadata": {},
     "output_type": "execute_result"
    },
    {
     "data": {
      "image/png": "[encoded data removed]",
      "text/plain": [
       "<Figure size 640x480 with 1 Axes>"
      ]
     },
     "metadata": {},
     "output_type": "display_data"
    }
   ],
   "source": [
    "plt.scatter(x=clusters['transform'], y=clusters['coverage'])"
   ]
  },
  {
   "cell_type": "code",
   "execution_count": 31,
   "metadata": {},
   "outputs": [
    {
     "data": {
      "text/plain": [
       "[<matplotlib.lines.Line2D at 0x150e1d4b0>]"
      ]
     },
     "execution_count": 31,
     "metadata": {},
     "output_type": "execute_result"
    },
    {
     "data": {
      "image/png": "[encoded data removed]",
      "text/plain": [
       "<Figure size 640x480 with 1 Axes>"
      ]
     },
     "metadata": {},
     "output_type": "display_data"
    }
   ],
   "source": [
    "kde = KernelDensity(kernel='gaussian', bandwidth=1).fit(clusters['coverage'].array.reshape(-1,1))\n",
    "cov_fdp = kde.score_samples(clusters['coverage'].array.reshape(-1,1))\n",
    "plt.plot(clusters['transform'], cov_fdp)"
   ]
  },
  {
   "cell_type": "code",
   "execution_count": 8,
   "metadata": {},
   "outputs": [
    {
     "name": "stdout",
     "output_type": "stream",
     "text": [
      "Covertura minima admitida:  23\n"
     ]
    }
   ],
   "source": [
    "from scipy.signal import argrelextrema\n",
    "import numpy as np\n",
    "local_min = argrelextrema(cov_fdp, np.less)[0]\n",
    "min_coverage = clusters.iloc[max(local_min),:]['coverage']\n",
    "print(\"Covertura minima admitida: \", min_coverage)"
   ]
  },
  {
   "cell_type": "markdown",
   "metadata": {},
   "source": [
    "# Oligo composition\n",
    "\n",
    "Once I've detected the clusters with higher coverage, which I expect includes mitochondria and contamination, whether nuclear or external, I have to purify these groups. To do this I will use the oligo composition as it is used during metagenomics binning.\n",
    "\n",
    "I will create clusters_list script to get the kmers. The kmer size will be 3 to solve two things: 1. Intrinsec error from Nanopore, 2 smaller set as possible (4**3 possible kmers). \n",
    "\n",
    "Finally, I will reduce dimensionality using PCA"
   ]
  },
  {
   "cell_type": "code",
   "execution_count": 9,
   "metadata": {},
   "outputs": [],
   "source": [
    "from src.utils import get_sequences_by_id, convert_fq_to_fa, write_fasta\n",
    "from src.kmer_cnt import count_kmer"
   ]
  },
  {
   "cell_type": "code",
   "execution_count": 10,
   "metadata": {},
   "outputs": [
    {
     "name": "stdout",
     "output_type": "stream",
     "text": [
      "172753 sequences converted to fasta\n"
     ]
    },
    {
     "data": {
      "text/plain": [
       "'test/all_talaro_porechop_18_07_2023.sorted.fasta'"
      ]
     },
     "execution_count": 10,
     "metadata": {},
     "output_type": "execute_result"
    }
   ],
   "source": [
    "convert_fq_to_fa('test/all_talaro_porechop_18_07_2023.sorted.fastq','test/all_talaro_porechop_18_07_2023.sorted.fasta')"
   ]
  },
  {
   "cell_type": "code",
   "execution_count": 11,
   "metadata": {},
   "outputs": [],
   "source": [
    "fasta = 'test/all_talaro_porechop_18_07_2023.sorted.fasta'\n",
    "repr_reads = [i for i in clusters['id_longest_read']]\n",
    "hist = list()\n",
    "for i in get_sequences_by_id(fasta, repr_reads):\n",
    "    ids, seq = i\n",
    "    hist.append([*count_kmer(k=3,seq=seq).values(),ids])"
   ]
  },
  {
   "cell_type": "code",
   "execution_count": 12,
   "metadata": {},
   "outputs": [],
   "source": [
    "## Get the real mt sequences\n",
    "with open('test/list_ids_reads_mt.txt','r') as handle_ids_mt:\n",
    "    ids_mt = handle_ids_mt.read().splitlines()\n",
    "    ids_mt = [i[1:] for i in ids_mt]"
   ]
  },
  {
   "cell_type": "code",
   "execution_count": 13,
   "metadata": {},
   "outputs": [
    {
     "data": {
      "text/html": [
       "<div>\n",
       "<style scoped>\n",
       "    .dataframe tbody tr th:only-of-type {\n",
       "        vertical-align: middle;\n",
       "    }\n",
       "\n",
       "    .dataframe tbody tr th {\n",
       "        vertical-align: top;\n",
       "    }\n",
       "\n",
       "    .dataframe thead th {\n",
       "        text-align: right;\n",
       "    }\n",
       "</style>\n",
       "<table border=\"1\" class=\"dataframe\">\n",
       "  <thead>\n",
       "    <tr style=\"text-align: right;\">\n",
       "      <th></th>\n",
       "      <th>0</th>\n",
       "      <th>1</th>\n",
       "      <th>2</th>\n",
       "      <th>3</th>\n",
       "      <th>4</th>\n",
       "      <th>5</th>\n",
       "      <th>6</th>\n",
       "      <th>7</th>\n",
       "      <th>8</th>\n",
       "      <th>9</th>\n",
       "      <th>...</th>\n",
       "      <th>23</th>\n",
       "      <th>24</th>\n",
       "      <th>25</th>\n",
       "      <th>26</th>\n",
       "      <th>27</th>\n",
       "      <th>28</th>\n",
       "      <th>29</th>\n",
       "      <th>30</th>\n",
       "      <th>31</th>\n",
       "      <th>ids</th>\n",
       "    </tr>\n",
       "  </thead>\n",
       "  <tbody>\n",
       "    <tr>\n",
       "      <th>0</th>\n",
       "      <td>0.040250</td>\n",
       "      <td>0.040572</td>\n",
       "      <td>0.029725</td>\n",
       "      <td>0.035141</td>\n",
       "      <td>0.034202</td>\n",
       "      <td>0.040837</td>\n",
       "      <td>0.041013</td>\n",
       "      <td>0.032631</td>\n",
       "      <td>0.028462</td>\n",
       "      <td>0.023472</td>\n",
       "      <td>...</td>\n",
       "      <td>0.021725</td>\n",
       "      <td>0.031457</td>\n",
       "      <td>0.025204</td>\n",
       "      <td>0.040176</td>\n",
       "      <td>0.028976</td>\n",
       "      <td>0.025160</td>\n",
       "      <td>0.034466</td>\n",
       "      <td>0.026114</td>\n",
       "      <td>0.029006</td>\n",
       "      <td>3c5ff513-a26f-4ff8-92f1-4d80907a744e</td>\n",
       "    </tr>\n",
       "    <tr>\n",
       "      <th>1</th>\n",
       "      <td>0.042840</td>\n",
       "      <td>0.040117</td>\n",
       "      <td>0.030494</td>\n",
       "      <td>0.038091</td>\n",
       "      <td>0.035496</td>\n",
       "      <td>0.039400</td>\n",
       "      <td>0.037057</td>\n",
       "      <td>0.032056</td>\n",
       "      <td>0.029713</td>\n",
       "      <td>0.023889</td>\n",
       "      <td>...</td>\n",
       "      <td>0.018761</td>\n",
       "      <td>0.029692</td>\n",
       "      <td>0.024606</td>\n",
       "      <td>0.042861</td>\n",
       "      <td>0.027371</td>\n",
       "      <td>0.025936</td>\n",
       "      <td>0.033132</td>\n",
       "      <td>0.024332</td>\n",
       "      <td>0.029249</td>\n",
       "      <td>3ec4ad4f-fb20-4cac-8e33-b5cd283824d0</td>\n",
       "    </tr>\n",
       "    <tr>\n",
       "      <th>2</th>\n",
       "      <td>0.048262</td>\n",
       "      <td>0.050432</td>\n",
       "      <td>0.028471</td>\n",
       "      <td>0.040973</td>\n",
       "      <td>0.060221</td>\n",
       "      <td>0.036255</td>\n",
       "      <td>0.032269</td>\n",
       "      <td>0.027339</td>\n",
       "      <td>0.030924</td>\n",
       "      <td>0.022715</td>\n",
       "      <td>...</td>\n",
       "      <td>0.018800</td>\n",
       "      <td>0.025027</td>\n",
       "      <td>0.018965</td>\n",
       "      <td>0.037411</td>\n",
       "      <td>0.025499</td>\n",
       "      <td>0.025688</td>\n",
       "      <td>0.028730</td>\n",
       "      <td>0.023258</td>\n",
       "      <td>0.027928</td>\n",
       "      <td>cfdfe593-4ad6-4375-9e55-595f6bc1fcfa</td>\n",
       "    </tr>\n",
       "    <tr>\n",
       "      <th>3</th>\n",
       "      <td>0.036002</td>\n",
       "      <td>0.032772</td>\n",
       "      <td>0.028925</td>\n",
       "      <td>0.032525</td>\n",
       "      <td>0.027939</td>\n",
       "      <td>0.039529</td>\n",
       "      <td>0.035854</td>\n",
       "      <td>0.028777</td>\n",
       "      <td>0.027446</td>\n",
       "      <td>0.029813</td>\n",
       "      <td>...</td>\n",
       "      <td>0.029122</td>\n",
       "      <td>0.034030</td>\n",
       "      <td>0.026114</td>\n",
       "      <td>0.041329</td>\n",
       "      <td>0.031292</td>\n",
       "      <td>0.024930</td>\n",
       "      <td>0.032525</td>\n",
       "      <td>0.028629</td>\n",
       "      <td>0.035854</td>\n",
       "      <td>a4b4ef42-6e8f-45c7-841b-848888fe245f</td>\n",
       "    </tr>\n",
       "    <tr>\n",
       "      <th>4</th>\n",
       "      <td>0.041463</td>\n",
       "      <td>0.037525</td>\n",
       "      <td>0.029674</td>\n",
       "      <td>0.037851</td>\n",
       "      <td>0.033838</td>\n",
       "      <td>0.040761</td>\n",
       "      <td>0.036923</td>\n",
       "      <td>0.030527</td>\n",
       "      <td>0.028871</td>\n",
       "      <td>0.024657</td>\n",
       "      <td>...</td>\n",
       "      <td>0.024030</td>\n",
       "      <td>0.034239</td>\n",
       "      <td>0.028093</td>\n",
       "      <td>0.040735</td>\n",
       "      <td>0.029021</td>\n",
       "      <td>0.024582</td>\n",
       "      <td>0.033612</td>\n",
       "      <td>0.027040</td>\n",
       "      <td>0.030251</td>\n",
       "      <td>808d5863-7caa-4123-b730-d3ef49298f39</td>\n",
       "    </tr>\n",
       "  </tbody>\n",
       "</table>\n",
       "<p>5 rows × 33 columns</p>\n",
       "</div>"
      ],
      "text/plain": [
       "          0         1         2         3         4         5         6  \\\n",
       "0  0.040250  0.040572  0.029725  0.035141  0.034202  0.040837  0.041013   \n",
       "1  0.042840  0.040117  0.030494  0.038091  0.035496  0.039400  0.037057   \n",
       "2  0.048262  0.050432  0.028471  0.040973  0.060221  0.036255  0.032269   \n",
       "3  0.036002  0.032772  0.028925  0.032525  0.027939  0.039529  0.035854   \n",
       "4  0.041463  0.037525  0.029674  0.037851  0.033838  0.040761  0.036923   \n",
       "\n",
       "          7         8         9  ...        23        24        25        26  \\\n",
       "0  0.032631  0.028462  0.023472  ...  0.021725  0.031457  0.025204  0.040176   \n",
       "1  0.032056  0.029713  0.023889  ...  0.018761  0.029692  0.024606  0.042861   \n",
       "2  0.027339  0.030924  0.022715  ...  0.018800  0.025027  0.018965  0.037411   \n",
       "3  0.028777  0.027446  0.029813  ...  0.029122  0.034030  0.026114  0.041329   \n",
       "4  0.030527  0.028871  0.024657  ...  0.024030  0.034239  0.028093  0.040735   \n",
       "\n",
       "         27        28        29        30        31  \\\n",
       "0  0.028976  0.025160  0.034466  0.026114  0.029006   \n",
       "1  0.027371  0.025936  0.033132  0.024332  0.029249   \n",
       "2  0.025499  0.025688  0.028730  0.023258  0.027928   \n",
       "3  0.031292  0.024930  0.032525  0.028629  0.035854   \n",
       "4  0.029021  0.024582  0.033612  0.027040  0.030251   \n",
       "\n",
       "                                    ids  \n",
       "0  3c5ff513-a26f-4ff8-92f1-4d80907a744e  \n",
       "1  3ec4ad4f-fb20-4cac-8e33-b5cd283824d0  \n",
       "2  cfdfe593-4ad6-4375-9e55-595f6bc1fcfa  \n",
       "3  a4b4ef42-6e8f-45c7-841b-848888fe245f  \n",
       "4  808d5863-7caa-4123-b730-d3ef49298f39  \n",
       "\n",
       "[5 rows x 33 columns]"
      ]
     },
     "execution_count": 13,
     "metadata": {},
     "output_type": "execute_result"
    }
   ],
   "source": [
    "hist_df= pd.DataFrame(hist)\n",
    "hist_df.rename(columns={hist_df.iloc[:,-1].name:'ids'}, inplace=True)\n",
    "hist_df.head()"
   ]
  },
  {
   "cell_type": "markdown",
   "metadata": {},
   "source": [
    "# Dimensionality reduction with PCA and clustering with k-means "
   ]
  },
  {
   "cell_type": "code",
   "execution_count": 14,
   "metadata": {},
   "outputs": [],
   "source": [
    "from sklearn.decomposition import PCA\n",
    "from sklearn.cluster import KMeans"
   ]
  },
  {
   "cell_type": "code",
   "execution_count": 15,
   "metadata": {},
   "outputs": [
    {
     "data": {
      "text/html": [
       "<style>#sk-container-id-1 {color: black;}#sk-container-id-1 pre{padding: 0;}#sk-container-id-1 div.sk-toggleable {background-color: white;}#sk-container-id-1 label.sk-toggleable__label {cursor: pointer;display: block;width: 100%;margin-bottom: 0;padding: 0.3em;box-sizing: border-box;text-align: center;}#sk-container-id-1 label.sk-toggleable__label-arrow:before {content: \"▸\";float: left;margin-right: 0.25em;color: #696969;}#sk-container-id-1 label.sk-toggleable__label-arrow:hover:before {color: black;}#sk-container-id-1 div.sk-estimator:hover label.sk-toggleable__label-arrow:before {color: black;}#sk-container-id-1 div.sk-toggleable__content {max-height: 0;max-width: 0;overflow: hidden;text-align: left;background-color: #f0f8ff;}#sk-container-id-1 div.sk-toggleable__content pre {margin: 0.2em;color: black;border-radius: 0.25em;background-color: #f0f8ff;}#sk-container-id-1 input.sk-toggleable__control:checked~div.sk-toggleable__content {max-height: 200px;max-width: 100%;overflow: auto;}#sk-container-id-1 input.sk-toggleable__control:checked~label.sk-toggleable__label-arrow:before {content: \"▾\";}#sk-container-id-1 div.sk-estimator input.sk-toggleable__control:checked~label.sk-toggleable__label {background-color: #d4ebff;}#sk-container-id-1 div.sk-label input.sk-toggleable__control:checked~label.sk-toggleable__label {background-color: #d4ebff;}#sk-container-id-1 input.sk-hidden--visually {border: 0;clip: rect(1px 1px 1px 1px);clip: rect(1px, 1px, 1px, 1px);height: 1px;margin: -1px;overflow: hidden;padding: 0;position: absolute;width: 1px;}#sk-container-id-1 div.sk-estimator {font-family: monospace;background-color: #f0f8ff;border: 1px dotted black;border-radius: 0.25em;box-sizing: border-box;margin-bottom: 0.5em;}#sk-container-id-1 div.sk-estimator:hover {background-color: #d4ebff;}#sk-container-id-1 div.sk-parallel-item::after {content: \"\";width: 100%;border-bottom: 1px solid gray;flex-grow: 1;}#sk-container-id-1 div.sk-label:hover label.sk-toggleable__label {background-color: #d4ebff;}#sk-container-id-1 div.sk-serial::before {content: \"\";position: absolute;border-left: 1px solid gray;box-sizing: border-box;top: 0;bottom: 0;left: 50%;z-index: 0;}#sk-container-id-1 div.sk-serial {display: flex;flex-direction: column;align-items: center;background-color: white;padding-right: 0.2em;padding-left: 0.2em;position: relative;}#sk-container-id-1 div.sk-item {position: relative;z-index: 1;}#sk-container-id-1 div.sk-parallel {display: flex;align-items: stretch;justify-content: center;background-color: white;position: relative;}#sk-container-id-1 div.sk-item::before, #sk-container-id-1 div.sk-parallel-item::before {content: \"\";position: absolute;border-left: 1px solid gray;box-sizing: border-box;top: 0;bottom: 0;left: 50%;z-index: -1;}#sk-container-id-1 div.sk-parallel-item {display: flex;flex-direction: column;z-index: 1;position: relative;background-color: white;}#sk-container-id-1 div.sk-parallel-item:first-child::after {align-self: flex-end;width: 50%;}#sk-container-id-1 div.sk-parallel-item:last-child::after {align-self: flex-start;width: 50%;}#sk-container-id-1 div.sk-parallel-item:only-child::after {width: 0;}#sk-container-id-1 div.sk-dashed-wrapped {border: 1px dashed gray;margin: 0 0.4em 0.5em 0.4em;box-sizing: border-box;padding-bottom: 0.4em;background-color: white;}#sk-container-id-1 div.sk-label label {font-family: monospace;font-weight: bold;display: inline-block;line-height: 1.2em;}#sk-container-id-1 div.sk-label-container {text-align: center;}#sk-container-id-1 div.sk-container {/* jupyter's `normalize.less` sets `[hidden] { display: none; }` but bootstrap.min.css set `[hidden] { display: none !important; }` so we also need the `!important` here to be able to override the default hidden behavior on the sphinx rendered scikit-learn.org. See: https://github.com/scikit-learn/scikit-learn/issues/21755 */display: inline-block !important;position: relative;}#sk-container-id-1 div.sk-text-repr-fallback {display: none;}</style><div id=\"sk-container-id-1\" class=\"sk-top-container\"><div class=\"sk-text-repr-fallback\"><pre>PCA(n_components=2)</pre><b>In a Jupyter environment, please rerun this cell to show the HTML representation or trust the notebook. <br />On GitHub, the HTML representation is unable to render, please try loading this page with nbviewer.org.</b></div><div class=\"sk-container\" hidden><div class=\"sk-item\"><div class=\"sk-estimator sk-toggleable\"><input class=\"sk-toggleable__control sk-hidden--visually\" id=\"sk-estimator-id-1\" type=\"checkbox\" checked><label for=\"sk-estimator-id-1\" class=\"sk-toggleable__label sk-toggleable__label-arrow\">PCA</label><div class=\"sk-toggleable__content\"><pre>PCA(n_components=2)</pre></div></div></div></div></div>"
      ],
      "text/plain": [
       "PCA(n_components=2)"
      ]
     },
     "execution_count": 15,
     "metadata": {},
     "output_type": "execute_result"
    }
   ],
   "source": [
    "pca = PCA(n_components=2)\n",
    "pca.fit(hist_df.iloc[:,:-2])"
   ]
  },
  {
   "cell_type": "code",
   "execution_count": 16,
   "metadata": {},
   "outputs": [
    {
     "data": {
      "text/plain": [
       "array([0.08665239, 0.01264278])"
      ]
     },
     "execution_count": 16,
     "metadata": {},
     "output_type": "execute_result"
    }
   ],
   "source": [
    "## Components and variance explained \n",
    "pca.explained_variance_\n",
    "#pca.components_"
   ]
  },
  {
   "cell_type": "code",
   "execution_count": 23,
   "metadata": {},
   "outputs": [
    {
     "data": {
      "text/html": [
       "<div>\n",
       "<style scoped>\n",
       "    .dataframe tbody tr th:only-of-type {\n",
       "        vertical-align: middle;\n",
       "    }\n",
       "\n",
       "    .dataframe tbody tr th {\n",
       "        vertical-align: top;\n",
       "    }\n",
       "\n",
       "    .dataframe thead th {\n",
       "        text-align: right;\n",
       "    }\n",
       "</style>\n",
       "<table border=\"1\" class=\"dataframe\">\n",
       "  <thead>\n",
       "    <tr style=\"text-align: right;\">\n",
       "      <th></th>\n",
       "      <th>comp1</th>\n",
       "      <th>comp2</th>\n",
       "      <th>ids</th>\n",
       "      <th>coverage</th>\n",
       "      <th>repr_read_len</th>\n",
       "      <th>id_cluster</th>\n",
       "      <th>transform</th>\n",
       "      <th>mt</th>\n",
       "    </tr>\n",
       "  </thead>\n",
       "  <tbody>\n",
       "    <tr>\n",
       "      <th>0</th>\n",
       "      <td>-0.054690</td>\n",
       "      <td>0.004871</td>\n",
       "      <td>3c5ff513-a26f-4ff8-92f1-4d80907a744e</td>\n",
       "      <td>47</td>\n",
       "      <td>68127</td>\n",
       "      <td>1</td>\n",
       "      <td>5.554589</td>\n",
       "      <td>32</td>\n",
       "    </tr>\n",
       "    <tr>\n",
       "      <th>1</th>\n",
       "      <td>-0.057828</td>\n",
       "      <td>0.003642</td>\n",
       "      <td>3ec4ad4f-fb20-4cac-8e33-b5cd283824d0</td>\n",
       "      <td>51</td>\n",
       "      <td>47388</td>\n",
       "      <td>2</td>\n",
       "      <td>5.672425</td>\n",
       "      <td>32</td>\n",
       "    </tr>\n",
       "    <tr>\n",
       "      <th>2</th>\n",
       "      <td>-0.059066</td>\n",
       "      <td>-0.001130</td>\n",
       "      <td>cfdfe593-4ad6-4375-9e55-595f6bc1fcfa</td>\n",
       "      <td>47</td>\n",
       "      <td>42396</td>\n",
       "      <td>3</td>\n",
       "      <td>5.554589</td>\n",
       "      <td>32</td>\n",
       "    </tr>\n",
       "    <tr>\n",
       "      <th>3</th>\n",
       "      <td>-0.047089</td>\n",
       "      <td>0.011913</td>\n",
       "      <td>a4b4ef42-6e8f-45c7-841b-848888fe245f</td>\n",
       "      <td>51</td>\n",
       "      <td>40555</td>\n",
       "      <td>4</td>\n",
       "      <td>5.672425</td>\n",
       "      <td>32</td>\n",
       "    </tr>\n",
       "    <tr>\n",
       "      <th>4</th>\n",
       "      <td>-0.051130</td>\n",
       "      <td>0.003445</td>\n",
       "      <td>808d5863-7caa-4123-b730-d3ef49298f39</td>\n",
       "      <td>26</td>\n",
       "      <td>39869</td>\n",
       "      <td>5</td>\n",
       "      <td>4.700440</td>\n",
       "      <td>32</td>\n",
       "    </tr>\n",
       "    <tr>\n",
       "      <th>5</th>\n",
       "      <td>-0.056287</td>\n",
       "      <td>0.005827</td>\n",
       "      <td>f67db50a-6333-4c4f-8bd5-002a9e93816b</td>\n",
       "      <td>36</td>\n",
       "      <td>35405</td>\n",
       "      <td>6</td>\n",
       "      <td>5.169925</td>\n",
       "      <td>32</td>\n",
       "    </tr>\n",
       "    <tr>\n",
       "      <th>6</th>\n",
       "      <td>-0.058722</td>\n",
       "      <td>0.005696</td>\n",
       "      <td>e17b4826-acb9-4db7-b804-d9a1448f12a4</td>\n",
       "      <td>60</td>\n",
       "      <td>35116</td>\n",
       "      <td>7</td>\n",
       "      <td>5.906891</td>\n",
       "      <td>32</td>\n",
       "    </tr>\n",
       "    <tr>\n",
       "      <th>10</th>\n",
       "      <td>-0.080302</td>\n",
       "      <td>-0.034224</td>\n",
       "      <td>31d41fce-9796-442d-ac9e-0e8951545241</td>\n",
       "      <td>705</td>\n",
       "      <td>30009</td>\n",
       "      <td>11</td>\n",
       "      <td>9.461479</td>\n",
       "      <td>32</td>\n",
       "    </tr>\n",
       "    <tr>\n",
       "      <th>14</th>\n",
       "      <td>-0.061286</td>\n",
       "      <td>0.005424</td>\n",
       "      <td>0c6e0b17-cf7c-4c1a-a982-a79ea58d1ee3</td>\n",
       "      <td>38</td>\n",
       "      <td>26507</td>\n",
       "      <td>15</td>\n",
       "      <td>5.247928</td>\n",
       "      <td>32</td>\n",
       "    </tr>\n",
       "    <tr>\n",
       "      <th>15</th>\n",
       "      <td>-0.054648</td>\n",
       "      <td>0.007496</td>\n",
       "      <td>0761e3cc-4dcf-4843-850c-b56ffff31f7a</td>\n",
       "      <td>52</td>\n",
       "      <td>26235</td>\n",
       "      <td>16</td>\n",
       "      <td>5.700440</td>\n",
       "      <td>32</td>\n",
       "    </tr>\n",
       "    <tr>\n",
       "      <th>16</th>\n",
       "      <td>-0.052246</td>\n",
       "      <td>0.007239</td>\n",
       "      <td>d2fe10b2-cdf7-4ba4-927c-d75fc9e31cc8</td>\n",
       "      <td>26</td>\n",
       "      <td>26108</td>\n",
       "      <td>17</td>\n",
       "      <td>4.700440</td>\n",
       "      <td>32</td>\n",
       "    </tr>\n",
       "    <tr>\n",
       "      <th>17</th>\n",
       "      <td>-0.057187</td>\n",
       "      <td>0.005234</td>\n",
       "      <td>1d0f46ed-de24-42b5-a548-24cb242223aa</td>\n",
       "      <td>25</td>\n",
       "      <td>26053</td>\n",
       "      <td>18</td>\n",
       "      <td>4.643856</td>\n",
       "      <td>32</td>\n",
       "    </tr>\n",
       "    <tr>\n",
       "      <th>23</th>\n",
       "      <td>-0.055627</td>\n",
       "      <td>0.006782</td>\n",
       "      <td>15251085-f9bf-4eee-b545-5b801c69f4c0</td>\n",
       "      <td>27</td>\n",
       "      <td>24638</td>\n",
       "      <td>24</td>\n",
       "      <td>4.754888</td>\n",
       "      <td>32</td>\n",
       "    </tr>\n",
       "    <tr>\n",
       "      <th>26</th>\n",
       "      <td>-0.056013</td>\n",
       "      <td>0.003527</td>\n",
       "      <td>3d35830d-714a-4ee2-a7ad-653068e1d936</td>\n",
       "      <td>28</td>\n",
       "      <td>23973</td>\n",
       "      <td>27</td>\n",
       "      <td>4.807355</td>\n",
       "      <td>32</td>\n",
       "    </tr>\n",
       "    <tr>\n",
       "      <th>33</th>\n",
       "      <td>-0.050342</td>\n",
       "      <td>0.008032</td>\n",
       "      <td>05f70133-bb2c-4705-9e74-821c035dd15e</td>\n",
       "      <td>26</td>\n",
       "      <td>21878</td>\n",
       "      <td>34</td>\n",
       "      <td>4.700440</td>\n",
       "      <td>32</td>\n",
       "    </tr>\n",
       "    <tr>\n",
       "      <th>37</th>\n",
       "      <td>-0.056674</td>\n",
       "      <td>0.009709</td>\n",
       "      <td>486982bd-4b42-4da0-adc1-612cf8159055</td>\n",
       "      <td>25</td>\n",
       "      <td>21583</td>\n",
       "      <td>38</td>\n",
       "      <td>4.643856</td>\n",
       "      <td>32</td>\n",
       "    </tr>\n",
       "    <tr>\n",
       "      <th>49</th>\n",
       "      <td>-0.078741</td>\n",
       "      <td>-0.035502</td>\n",
       "      <td>2a5d92c9-a665-47d6-83cf-52296c617f46</td>\n",
       "      <td>638</td>\n",
       "      <td>19448</td>\n",
       "      <td>50</td>\n",
       "      <td>9.317413</td>\n",
       "      <td>32</td>\n",
       "    </tr>\n",
       "    <tr>\n",
       "      <th>61</th>\n",
       "      <td>-0.059121</td>\n",
       "      <td>-0.004176</td>\n",
       "      <td>63b66b1d-8c6c-4f50-acbb-71da4653156c</td>\n",
       "      <td>48</td>\n",
       "      <td>17932</td>\n",
       "      <td>62</td>\n",
       "      <td>5.584963</td>\n",
       "      <td>32</td>\n",
       "    </tr>\n",
       "    <tr>\n",
       "      <th>63</th>\n",
       "      <td>-0.028216</td>\n",
       "      <td>0.035311</td>\n",
       "      <td>323a391b-0c08-46bd-bc32-26ecbadfed9f</td>\n",
       "      <td>426</td>\n",
       "      <td>17368</td>\n",
       "      <td>64</td>\n",
       "      <td>8.734710</td>\n",
       "      <td>32</td>\n",
       "    </tr>\n",
       "    <tr>\n",
       "      <th>99</th>\n",
       "      <td>-0.084122</td>\n",
       "      <td>-0.037473</td>\n",
       "      <td>e41aa5a6-7aba-4e35-bfd5-10ed6dc38412</td>\n",
       "      <td>54</td>\n",
       "      <td>14678</td>\n",
       "      <td>100</td>\n",
       "      <td>5.754888</td>\n",
       "      <td>32</td>\n",
       "    </tr>\n",
       "    <tr>\n",
       "      <th>116</th>\n",
       "      <td>-0.083745</td>\n",
       "      <td>-0.034269</td>\n",
       "      <td>2817a84c-62b7-4bfd-8d15-ea5c6f496363</td>\n",
       "      <td>167</td>\n",
       "      <td>13931</td>\n",
       "      <td>117</td>\n",
       "      <td>7.383704</td>\n",
       "      <td>32</td>\n",
       "    </tr>\n",
       "    <tr>\n",
       "      <th>127</th>\n",
       "      <td>-0.075813</td>\n",
       "      <td>-0.032242</td>\n",
       "      <td>7cf2b8b1-5b4f-4234-af33-39732ff36a8b</td>\n",
       "      <td>156</td>\n",
       "      <td>13396</td>\n",
       "      <td>128</td>\n",
       "      <td>7.285402</td>\n",
       "      <td>32</td>\n",
       "    </tr>\n",
       "    <tr>\n",
       "      <th>172</th>\n",
       "      <td>-0.083690</td>\n",
       "      <td>-0.037745</td>\n",
       "      <td>b3d5e0d0-52dd-4c0a-a094-fbca4e20f4eb</td>\n",
       "      <td>28</td>\n",
       "      <td>12084</td>\n",
       "      <td>173</td>\n",
       "      <td>4.807355</td>\n",
       "      <td>32</td>\n",
       "    </tr>\n",
       "    <tr>\n",
       "      <th>846</th>\n",
       "      <td>-0.032140</td>\n",
       "      <td>0.038305</td>\n",
       "      <td>6865e94b-3b08-44ec-9dfe-3515b667513a</td>\n",
       "      <td>33</td>\n",
       "      <td>6074</td>\n",
       "      <td>847</td>\n",
       "      <td>5.044394</td>\n",
       "      <td>32</td>\n",
       "    </tr>\n",
       "  </tbody>\n",
       "</table>\n",
       "</div>"
      ],
      "text/plain": [
       "        comp1     comp2                                   ids  coverage  \\\n",
       "0   -0.054690  0.004871  3c5ff513-a26f-4ff8-92f1-4d80907a744e        47   \n",
       "1   -0.057828  0.003642  3ec4ad4f-fb20-4cac-8e33-b5cd283824d0        51   \n",
       "2   -0.059066 -0.001130  cfdfe593-4ad6-4375-9e55-595f6bc1fcfa        47   \n",
       "3   -0.047089  0.011913  a4b4ef42-6e8f-45c7-841b-848888fe245f        51   \n",
       "4   -0.051130  0.003445  808d5863-7caa-4123-b730-d3ef49298f39        26   \n",
       "5   -0.056287  0.005827  f67db50a-6333-4c4f-8bd5-002a9e93816b        36   \n",
       "6   -0.058722  0.005696  e17b4826-acb9-4db7-b804-d9a1448f12a4        60   \n",
       "10  -0.080302 -0.034224  31d41fce-9796-442d-ac9e-0e8951545241       705   \n",
       "14  -0.061286  0.005424  0c6e0b17-cf7c-4c1a-a982-a79ea58d1ee3        38   \n",
       "15  -0.054648  0.007496  0761e3cc-4dcf-4843-850c-b56ffff31f7a        52   \n",
       "16  -0.052246  0.007239  d2fe10b2-cdf7-4ba4-927c-d75fc9e31cc8        26   \n",
       "17  -0.057187  0.005234  1d0f46ed-de24-42b5-a548-24cb242223aa        25   \n",
       "23  -0.055627  0.006782  15251085-f9bf-4eee-b545-5b801c69f4c0        27   \n",
       "26  -0.056013  0.003527  3d35830d-714a-4ee2-a7ad-653068e1d936        28   \n",
       "33  -0.050342  0.008032  05f70133-bb2c-4705-9e74-821c035dd15e        26   \n",
       "37  -0.056674  0.009709  486982bd-4b42-4da0-adc1-612cf8159055        25   \n",
       "49  -0.078741 -0.035502  2a5d92c9-a665-47d6-83cf-52296c617f46       638   \n",
       "61  -0.059121 -0.004176  63b66b1d-8c6c-4f50-acbb-71da4653156c        48   \n",
       "63  -0.028216  0.035311  323a391b-0c08-46bd-bc32-26ecbadfed9f       426   \n",
       "99  -0.084122 -0.037473  e41aa5a6-7aba-4e35-bfd5-10ed6dc38412        54   \n",
       "116 -0.083745 -0.034269  2817a84c-62b7-4bfd-8d15-ea5c6f496363       167   \n",
       "127 -0.075813 -0.032242  7cf2b8b1-5b4f-4234-af33-39732ff36a8b       156   \n",
       "172 -0.083690 -0.037745  b3d5e0d0-52dd-4c0a-a094-fbca4e20f4eb        28   \n",
       "846 -0.032140  0.038305  6865e94b-3b08-44ec-9dfe-3515b667513a        33   \n",
       "\n",
       "     repr_read_len  id_cluster  transform  mt  \n",
       "0            68127           1   5.554589  32  \n",
       "1            47388           2   5.672425  32  \n",
       "2            42396           3   5.554589  32  \n",
       "3            40555           4   5.672425  32  \n",
       "4            39869           5   4.700440  32  \n",
       "5            35405           6   5.169925  32  \n",
       "6            35116           7   5.906891  32  \n",
       "10           30009          11   9.461479  32  \n",
       "14           26507          15   5.247928  32  \n",
       "15           26235          16   5.700440  32  \n",
       "16           26108          17   4.700440  32  \n",
       "17           26053          18   4.643856  32  \n",
       "23           24638          24   4.754888  32  \n",
       "26           23973          27   4.807355  32  \n",
       "33           21878          34   4.700440  32  \n",
       "37           21583          38   4.643856  32  \n",
       "49           19448          50   9.317413  32  \n",
       "61           17932          62   5.584963  32  \n",
       "63           17368          64   8.734710  32  \n",
       "99           14678         100   5.754888  32  \n",
       "116          13931         117   7.383704  32  \n",
       "127          13396         128   7.285402  32  \n",
       "172          12084         173   4.807355  32  \n",
       "846           6074         847   5.044394  32  "
      ]
     },
     "execution_count": 23,
     "metadata": {},
     "output_type": "execute_result"
    }
   ],
   "source": [
    "kmer_reduction = pca.fit_transform(hist_df.iloc[:,:-2])\n",
    "kmer_reduction = pd.DataFrame(kmer_reduction, columns=['comp1', 'comp2'])\n",
    "\n",
    "## merging the dataframe with ids and other relevant information\n",
    "kmer_reduction ['ids'] = hist_df['ids']\n",
    "kmer_reduction = kmer_reduction.merge(clusters, how='left', left_on='ids', right_on='id_longest_read')\n",
    "kmer_reduction.drop(columns='id_longest_read', inplace=True)\n",
    "\n",
    "## Annotate which reads are mitochondrial\n",
    "kmer_reduction['mt'] = 32#(kmer_reduction['ids'].isin(ids_mt).astype(int) + 1) ** 5\n",
    "kmer_reduction = kmer_reduction[kmer_reduction['coverage'] > min_coverage]\n",
    "kmer_reduction"
   ]
  },
  {
   "cell_type": "code",
   "execution_count": 24,
   "metadata": {},
   "outputs": [
    {
     "name": "stderr",
     "output_type": "stream",
     "text": [
      "No artists with labels found to put in legend.  Note that artists whose label start with an underscore are ignored when legend() is called with no argument.\n"
     ]
    },
    {
     "data": {
      "text/plain": [
       "Text(0, 0.5, 'comp2')"
      ]
     },
     "execution_count": 24,
     "metadata": {},
     "output_type": "execute_result"
    },
    {
     "data": {
      "image/png": "[encoded data removed]",
      "text/plain": [
       "<Figure size 640x480 with 2 Axes>"
      ]
     },
     "metadata": {},
     "output_type": "display_data"
    }
   ],
   "source": [
    "sc = plt.scatter(kmer_reduction['comp1'],kmer_reduction['comp2'], c=kmer_reduction['coverage'], s=kmer_reduction['mt'])\n",
    "# legend\n",
    "# Add clusters_list colorbar\n",
    "cbar = plt.colorbar(sc)\n",
    "cbar.set_label('Color Scale')\n",
    "plt.legend()\n",
    "plt.xlabel('comp1')\n",
    "plt.ylabel('comp2')"
   ]
  },
  {
   "cell_type": "code",
   "execution_count": 25,
   "metadata": {},
   "outputs": [
    {
     "name": "stdout",
     "output_type": "stream",
     "text": [
      "Initialization complete\n",
      "Iteration 0, inertia 0.004171462009044572.\n",
      "Iteration 1, inertia 0.0034359373083328146.\n",
      "Converged at iteration 1: strict convergence.\n"
     ]
    }
   ],
   "source": [
    "kmeans = KMeans(n_clusters=2, max_iter=100, init='k-means++', random_state=0, n_init=1,verbose=1)\n",
    "mt_prediction = kmeans.fit_predict(kmer_reduction[['comp1','comp2']])#, sample_weight=kmer_reduction['coverage'])\n",
    "kmer_reduction['cluster_prediction'] = mt_prediction"
   ]
  },
  {
   "cell_type": "code",
   "execution_count": 26,
   "metadata": {},
   "outputs": [
    {
     "data": {
      "text/plain": [
       "Text(0, 0.5, 'comp2')"
      ]
     },
     "execution_count": 26,
     "metadata": {},
     "output_type": "execute_result"
    },
    {
     "data": {
      "image/png": "[encoded data removed]",
      "text/plain": [
       "<Figure size 640x480 with 1 Axes>"
      ]
     },
     "metadata": {},
     "output_type": "display_data"
    }
   ],
   "source": [
    "plt.scatter(x=kmer_reduction['comp1'], y=kmer_reduction['comp2'], c=mt_prediction, s=kmer_reduction['mt'])\n",
    "plt.xlabel('comp1')\n",
    "plt.ylabel('comp2')"
   ]
  },
  {
   "cell_type": "markdown",
   "metadata": {},
   "source": [
    "# Get the cluster of interest\n",
    "\n",
    "This step is clusters_list pain in the ass, but since I am looking to keep the free-reference. "
   ]
  },
  {
   "cell_type": "code",
   "execution_count": 30,
   "metadata": {},
   "outputs": [
    {
     "data": {
      "text/html": [
       "<div>\n",
       "<style scoped>\n",
       "    .dataframe tbody tr th:only-of-type {\n",
       "        vertical-align: middle;\n",
       "    }\n",
       "\n",
       "    .dataframe tbody tr th {\n",
       "        vertical-align: top;\n",
       "    }\n",
       "\n",
       "    .dataframe thead th {\n",
       "        text-align: right;\n",
       "    }\n",
       "</style>\n",
       "<table border=\"1\" class=\"dataframe\">\n",
       "  <thead>\n",
       "    <tr style=\"text-align: right;\">\n",
       "      <th></th>\n",
       "      <th>comp1</th>\n",
       "      <th>comp2</th>\n",
       "      <th>ids</th>\n",
       "      <th>coverage</th>\n",
       "      <th>repr_read_len</th>\n",
       "      <th>id_cluster</th>\n",
       "      <th>transform</th>\n",
       "      <th>mt</th>\n",
       "      <th>cluster_prediction</th>\n",
       "    </tr>\n",
       "  </thead>\n",
       "  <tbody>\n",
       "    <tr>\n",
       "      <th>172</th>\n",
       "      <td>-0.083690</td>\n",
       "      <td>-0.037745</td>\n",
       "      <td>b3d5e0d0-52dd-4c0a-a094-fbca4e20f4eb</td>\n",
       "      <td>28</td>\n",
       "      <td>12084</td>\n",
       "      <td>173</td>\n",
       "      <td>4.807355</td>\n",
       "      <td>32</td>\n",
       "      <td>1</td>\n",
       "    </tr>\n",
       "    <tr>\n",
       "      <th>99</th>\n",
       "      <td>-0.084122</td>\n",
       "      <td>-0.037473</td>\n",
       "      <td>e41aa5a6-7aba-4e35-bfd5-10ed6dc38412</td>\n",
       "      <td>54</td>\n",
       "      <td>14678</td>\n",
       "      <td>100</td>\n",
       "      <td>5.754888</td>\n",
       "      <td>32</td>\n",
       "      <td>1</td>\n",
       "    </tr>\n",
       "    <tr>\n",
       "      <th>127</th>\n",
       "      <td>-0.075813</td>\n",
       "      <td>-0.032242</td>\n",
       "      <td>7cf2b8b1-5b4f-4234-af33-39732ff36a8b</td>\n",
       "      <td>156</td>\n",
       "      <td>13396</td>\n",
       "      <td>128</td>\n",
       "      <td>7.285402</td>\n",
       "      <td>32</td>\n",
       "      <td>1</td>\n",
       "    </tr>\n",
       "    <tr>\n",
       "      <th>116</th>\n",
       "      <td>-0.083745</td>\n",
       "      <td>-0.034269</td>\n",
       "      <td>2817a84c-62b7-4bfd-8d15-ea5c6f496363</td>\n",
       "      <td>167</td>\n",
       "      <td>13931</td>\n",
       "      <td>117</td>\n",
       "      <td>7.383704</td>\n",
       "      <td>32</td>\n",
       "      <td>1</td>\n",
       "    </tr>\n",
       "    <tr>\n",
       "      <th>49</th>\n",
       "      <td>-0.078741</td>\n",
       "      <td>-0.035502</td>\n",
       "      <td>2a5d92c9-a665-47d6-83cf-52296c617f46</td>\n",
       "      <td>638</td>\n",
       "      <td>19448</td>\n",
       "      <td>50</td>\n",
       "      <td>9.317413</td>\n",
       "      <td>32</td>\n",
       "      <td>1</td>\n",
       "    </tr>\n",
       "    <tr>\n",
       "      <th>10</th>\n",
       "      <td>-0.080302</td>\n",
       "      <td>-0.034224</td>\n",
       "      <td>31d41fce-9796-442d-ac9e-0e8951545241</td>\n",
       "      <td>705</td>\n",
       "      <td>30009</td>\n",
       "      <td>11</td>\n",
       "      <td>9.461479</td>\n",
       "      <td>32</td>\n",
       "      <td>1</td>\n",
       "    </tr>\n",
       "  </tbody>\n",
       "</table>\n",
       "</div>"
      ],
      "text/plain": [
       "        comp1     comp2                                   ids  coverage  \\\n",
       "172 -0.083690 -0.037745  b3d5e0d0-52dd-4c0a-a094-fbca4e20f4eb        28   \n",
       "99  -0.084122 -0.037473  e41aa5a6-7aba-4e35-bfd5-10ed6dc38412        54   \n",
       "127 -0.075813 -0.032242  7cf2b8b1-5b4f-4234-af33-39732ff36a8b       156   \n",
       "116 -0.083745 -0.034269  2817a84c-62b7-4bfd-8d15-ea5c6f496363       167   \n",
       "49  -0.078741 -0.035502  2a5d92c9-a665-47d6-83cf-52296c617f46       638   \n",
       "10  -0.080302 -0.034224  31d41fce-9796-442d-ac9e-0e8951545241       705   \n",
       "\n",
       "     repr_read_len  id_cluster  transform  mt  cluster_prediction  \n",
       "172          12084         173   4.807355  32                   1  \n",
       "99           14678         100   5.754888  32                   1  \n",
       "127          13396         128   7.285402  32                   1  \n",
       "116          13931         117   7.383704  32                   1  \n",
       "49           19448          50   9.317413  32                   1  \n",
       "10           30009          11   9.461479  32                   1  "
      ]
     },
     "execution_count": 30,
     "metadata": {},
     "output_type": "execute_result"
    }
   ],
   "source": [
    "selected_cluster_id = kmer_reduction.loc[:, kmer_reduction.columns != 'ids'].groupby(by='cluster_prediction')['coverage'].median().idxmax()\n",
    "selected_cluster = kmer_reduction[kmer_reduction['cluster_prediction'] == selected_cluster_id]\n",
    "selected_cluster.sort_values('coverage')"
   ]
  },
  {
   "cell_type": "code",
   "execution_count": 28,
   "metadata": {},
   "outputs": [
    {
     "name": "stdout",
     "output_type": "stream",
     "text": [
      "1748 reads retrieved\n"
     ]
    }
   ],
   "source": [
    "sequences_ids = set()\n",
    "for i in selected_cluster['id_cluster']:\n",
    "    sequences_ids.update(clusters_list.get_cluster(i).id_sequences)\n",
    "write_fasta(fasta=fasta, sequences_ids=sequences_ids, output='test/mt_reads_v1.fasta')"
   ]
  }
 ],
 "metadata": {
  "kernelspec": {
   "display_name": "mitnanex",
   "language": "python",
   "name": "python3"
  },
  "language_info": {
   "codemirror_mode": {
    "name": "ipython",
    "version": 3
   },
   "file_extension": ".py",
   "mimetype": "text/x-python",
   "name": "python",
   "nbconvert_exporter": "python",
   "pygments_lexer": "ipython3",
   "version": "3.10.12"
  },
  "orig_nbformat": 4
 },
 "nbformat": 4,
 "nbformat_minor": 2
}

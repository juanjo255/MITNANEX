{
 "cells": [
  {
   "cell_type": "code",
   "execution_count": 45,
   "metadata": {},
   "outputs": [],
   "source": [
    "from src.mitnanex import run\n",
    "import pandas as pd\n",
    "import matplotlib.pyplot as plt\n",
    "from sklearn.neighbors import KernelDensity"
   ]
  },
  {
   "cell_type": "code",
   "execution_count": 33,
   "metadata": {},
   "outputs": [],
   "source": [
    "\n",
    "clusters_list = run(\"test/s_cervisae_CEN_PK113-7D/mitnanex_results/s_cervisae_CEN_PK113-7D_SRR5892449_reads_containments.paf\")\n",
    "\n",
    "# I need to plot the coverage of clusters\n",
    "coverages_df = pd.DataFrame(\n",
    "    {\n",
    "        \"coverage\": [i.coverage for i in clusters_list.clusters],\n",
    "        \"repr_read_len\": [i.longest_read_length for i in clusters_list.clusters],\n",
    "        \"id_longest_read\": [i.longest_read_id for i in clusters_list.clusters],\n",
    "        \"id_cluster\":[i.id_cluster for i in clusters_list.clusters],\n",
    "    }\n",
    ")"
   ]
  },
  {
   "cell_type": "code",
   "execution_count": 34,
   "metadata": {},
   "outputs": [
    {
     "data": {
      "text/html": [
       "<div>\n",
       "<style scoped>\n",
       "    .dataframe tbody tr th:only-of-type {\n",
       "        vertical-align: middle;\n",
       "    }\n",
       "\n",
       "    .dataframe tbody tr th {\n",
       "        vertical-align: top;\n",
       "    }\n",
       "\n",
       "    .dataframe thead th {\n",
       "        text-align: right;\n",
       "    }\n",
       "</style>\n",
       "<table border=\"1\" class=\"dataframe\">\n",
       "  <thead>\n",
       "    <tr style=\"text-align: right;\">\n",
       "      <th></th>\n",
       "      <th>coverage</th>\n",
       "      <th>repr_read_len</th>\n",
       "      <th>id_longest_read</th>\n",
       "      <th>id_cluster</th>\n",
       "    </tr>\n",
       "  </thead>\n",
       "  <tbody>\n",
       "    <tr>\n",
       "      <th>3</th>\n",
       "      <td>4</td>\n",
       "      <td>39243</td>\n",
       "      <td>SRR5892449.10138</td>\n",
       "      <td>4</td>\n",
       "    </tr>\n",
       "    <tr>\n",
       "      <th>21</th>\n",
       "      <td>11</td>\n",
       "      <td>29533</td>\n",
       "      <td>SRR5892449.13231</td>\n",
       "      <td>22</td>\n",
       "    </tr>\n",
       "    <tr>\n",
       "      <th>69</th>\n",
       "      <td>2</td>\n",
       "      <td>23104</td>\n",
       "      <td>SRR5892449.14249</td>\n",
       "      <td>70</td>\n",
       "    </tr>\n",
       "    <tr>\n",
       "      <th>57</th>\n",
       "      <td>5</td>\n",
       "      <td>23987</td>\n",
       "      <td>SRR5892449.15079</td>\n",
       "      <td>58</td>\n",
       "    </tr>\n",
       "    <tr>\n",
       "      <th>37</th>\n",
       "      <td>5</td>\n",
       "      <td>26110</td>\n",
       "      <td>SRR5892449.15090</td>\n",
       "      <td>38</td>\n",
       "    </tr>\n",
       "  </tbody>\n",
       "</table>\n",
       "</div>"
      ],
      "text/plain": [
       "    coverage  repr_read_len   id_longest_read  id_cluster\n",
       "3          4          39243  SRR5892449.10138           4\n",
       "21        11          29533  SRR5892449.13231          22\n",
       "69         2          23104  SRR5892449.14249          70\n",
       "57         5          23987  SRR5892449.15079          58\n",
       "37         5          26110  SRR5892449.15090          38"
      ]
     },
     "execution_count": 34,
     "metadata": {},
     "output_type": "execute_result"
    }
   ],
   "source": [
    "# Test on the first 30 clusters\n",
    "import math\n",
    "clusters = coverages_df.sort_values(by='coverage', ascending=False)\n",
    "clusters.sort_values(by='id_longest_read',inplace=True)\n",
    "clusters.head()"
   ]
  },
  {
   "cell_type": "markdown",
   "metadata": {},
   "source": [
    "# Coverage\n",
    "\n",
    "The first step is to filter the reads by coverage. For that I will explore the use of Kernel Density since this is clusters_list one dimensional clustering."
   ]
  },
  {
   "cell_type": "code",
   "execution_count": 35,
   "metadata": {},
   "outputs": [
    {
     "data": {
      "text/html": [
       "<div>\n",
       "<style scoped>\n",
       "    .dataframe tbody tr th:only-of-type {\n",
       "        vertical-align: middle;\n",
       "    }\n",
       "\n",
       "    .dataframe tbody tr th {\n",
       "        vertical-align: top;\n",
       "    }\n",
       "\n",
       "    .dataframe thead th {\n",
       "        text-align: right;\n",
       "    }\n",
       "</style>\n",
       "<table border=\"1\" class=\"dataframe\">\n",
       "  <thead>\n",
       "    <tr style=\"text-align: right;\">\n",
       "      <th></th>\n",
       "      <th>coverage</th>\n",
       "      <th>repr_read_len</th>\n",
       "      <th>id_longest_read</th>\n",
       "      <th>id_cluster</th>\n",
       "      <th>transform</th>\n",
       "    </tr>\n",
       "  </thead>\n",
       "  <tbody>\n",
       "    <tr>\n",
       "      <th>11</th>\n",
       "      <td>48</td>\n",
       "      <td>33518</td>\n",
       "      <td>SRR5892449.9739</td>\n",
       "      <td>12</td>\n",
       "      <td>5.584963</td>\n",
       "    </tr>\n",
       "    <tr>\n",
       "      <th>25</th>\n",
       "      <td>40</td>\n",
       "      <td>28027</td>\n",
       "      <td>SRR5892449.37390</td>\n",
       "      <td>26</td>\n",
       "      <td>5.321928</td>\n",
       "    </tr>\n",
       "    <tr>\n",
       "      <th>13</th>\n",
       "      <td>28</td>\n",
       "      <td>32839</td>\n",
       "      <td>SRR5892449.22604</td>\n",
       "      <td>14</td>\n",
       "      <td>4.807355</td>\n",
       "    </tr>\n",
       "    <tr>\n",
       "      <th>68</th>\n",
       "      <td>23</td>\n",
       "      <td>23206</td>\n",
       "      <td>SRR5892449.36605</td>\n",
       "      <td>69</td>\n",
       "      <td>4.523562</td>\n",
       "    </tr>\n",
       "    <tr>\n",
       "      <th>71</th>\n",
       "      <td>23</td>\n",
       "      <td>23009</td>\n",
       "      <td>SRR5892449.45685</td>\n",
       "      <td>72</td>\n",
       "      <td>4.523562</td>\n",
       "    </tr>\n",
       "    <tr>\n",
       "      <th>...</th>\n",
       "      <td>...</td>\n",
       "      <td>...</td>\n",
       "      <td>...</td>\n",
       "      <td>...</td>\n",
       "      <td>...</td>\n",
       "    </tr>\n",
       "    <tr>\n",
       "      <th>297</th>\n",
       "      <td>2</td>\n",
       "      <td>14718</td>\n",
       "      <td>SRR5892449.37872</td>\n",
       "      <td>298</td>\n",
       "      <td>1.000000</td>\n",
       "    </tr>\n",
       "    <tr>\n",
       "      <th>271</th>\n",
       "      <td>2</td>\n",
       "      <td>15463</td>\n",
       "      <td>SRR5892449.37778</td>\n",
       "      <td>272</td>\n",
       "      <td>1.000000</td>\n",
       "    </tr>\n",
       "    <tr>\n",
       "      <th>383</th>\n",
       "      <td>2</td>\n",
       "      <td>11971</td>\n",
       "      <td>SRR5892449.37575</td>\n",
       "      <td>384</td>\n",
       "      <td>1.000000</td>\n",
       "    </tr>\n",
       "    <tr>\n",
       "      <th>123</th>\n",
       "      <td>2</td>\n",
       "      <td>20244</td>\n",
       "      <td>SRR5892449.27374</td>\n",
       "      <td>124</td>\n",
       "      <td>1.000000</td>\n",
       "    </tr>\n",
       "    <tr>\n",
       "      <th>403</th>\n",
       "      <td>2</td>\n",
       "      <td>11065</td>\n",
       "      <td>SRR5892449.39474</td>\n",
       "      <td>404</td>\n",
       "      <td>1.000000</td>\n",
       "    </tr>\n",
       "  </tbody>\n",
       "</table>\n",
       "<p>474 rows × 5 columns</p>\n",
       "</div>"
      ],
      "text/plain": [
       "     coverage  repr_read_len   id_longest_read  id_cluster  transform\n",
       "11         48          33518   SRR5892449.9739          12   5.584963\n",
       "25         40          28027  SRR5892449.37390          26   5.321928\n",
       "13         28          32839  SRR5892449.22604          14   4.807355\n",
       "68         23          23206  SRR5892449.36605          69   4.523562\n",
       "71         23          23009  SRR5892449.45685          72   4.523562\n",
       "..        ...            ...               ...         ...        ...\n",
       "297         2          14718  SRR5892449.37872         298   1.000000\n",
       "271         2          15463  SRR5892449.37778         272   1.000000\n",
       "383         2          11971  SRR5892449.37575         384   1.000000\n",
       "123         2          20244  SRR5892449.27374         124   1.000000\n",
       "403         2          11065  SRR5892449.39474         404   1.000000\n",
       "\n",
       "[474 rows x 5 columns]"
      ]
     },
     "execution_count": 35,
     "metadata": {},
     "output_type": "execute_result"
    }
   ],
   "source": [
    "clusters['transform'] = [math.log2(i)for i in clusters['coverage']]\n",
    "clusters.sort_values('coverage',ascending=False, inplace=True)\n",
    "clusters"
   ]
  },
  {
   "cell_type": "code",
   "execution_count": 36,
   "metadata": {},
   "outputs": [
    {
     "data": {
      "text/plain": [
       "<Axes: >"
      ]
     },
     "execution_count": 36,
     "metadata": {},
     "output_type": "execute_result"
    },
    {
     "data": {
      "image/png": "[encoded data removed]",
      "text/plain": [
       "<Figure size 640x480 with 1 Axes>"
      ]
     },
     "metadata": {},
     "output_type": "display_data"
    }
   ],
   "source": [
    "clusters['transform'].hist(bins=3)"
   ]
  },
  {
   "cell_type": "code",
   "execution_count": 37,
   "metadata": {},
   "outputs": [
    {
     "data": {
      "text/plain": [
       "<matplotlib.collections.PathCollection at 0x150806640>"
      ]
     },
     "execution_count": 37,
     "metadata": {},
     "output_type": "execute_result"
    },
    {
     "data": {
      "image/png": "[encoded data removed]",
      "text/plain": [
       "<Figure size 640x480 with 1 Axes>"
      ]
     },
     "metadata": {},
     "output_type": "display_data"
    }
   ],
   "source": [
    "plt.scatter(x=clusters['transform'], y=clusters['coverage'])"
   ]
  },
  {
   "cell_type": "code",
   "execution_count": 38,
   "metadata": {},
   "outputs": [
    {
     "data": {
      "text/plain": [
       "[<matplotlib.lines.Line2D at 0x15089d1f0>]"
      ]
     },
     "execution_count": 38,
     "metadata": {},
     "output_type": "execute_result"
    },
    {
     "data": {
      "image/png": "[encoded data removed]",
      "text/plain": [
       "<Figure size 640x480 with 1 Axes>"
      ]
     },
     "metadata": {},
     "output_type": "display_data"
    }
   ],
   "source": [
    "kde = KernelDensity(kernel='gaussian', bandwidth=0.5).fit(clusters['coverage'].array.reshape(-1,1))\n",
    "cov_fdp = kde.score_samples(clusters['coverage'].array.reshape(-1,1))\n",
    "plt.plot(clusters['transform'], cov_fdp)"
   ]
  },
  {
   "cell_type": "code",
   "execution_count": 39,
   "metadata": {},
   "outputs": [
    {
     "name": "stdout",
     "output_type": "stream",
     "text": [
      "Covertura minima admitida:  13\n"
     ]
    }
   ],
   "source": [
    "from scipy.signal import argrelextrema\n",
    "import numpy as np\n",
    "local_min = argrelextrema(cov_fdp, np.less)[0]\n",
    "if len(local_min) < 1:\n",
    "    min_coverage = 2\n",
    "else:\n",
    "    min_coverage = clusters.iloc[max(local_min),:]['coverage']\n",
    "print(\"Covertura minima admitida: \", min_coverage)"
   ]
  },
  {
   "cell_type": "markdown",
   "metadata": {},
   "source": [
    "# Oligo composition\n",
    "\n",
    "Once I've detected the clusters with higher coverage, which I expect includes mitochondria and contamination, whether nuclear or external, I have to purify these groups. To do this I will use the oligo composition as it is used during metagenomics binning.\n",
    "\n",
    "I will create clusters_list script to get the kmers. The kmer size will be 3 to solve two things: 1. Intrinsec error from Nanopore, 2 smaller set as possible (4**3 possible kmers). \n",
    "\n",
    "Finally, I will reduce dimensionality using PCA"
   ]
  },
  {
   "cell_type": "code",
   "execution_count": 40,
   "metadata": {},
   "outputs": [],
   "source": [
    "from src.utils import write_fasta\n",
    "#from src.kmer_cnt import get_kmer_profiles\n",
    "import utils_rs"
   ]
  },
  {
   "cell_type": "code",
   "execution_count": 41,
   "metadata": {},
   "outputs": [],
   "source": [
    "reads_file = 'test/s_cervisae_CEN_PK113-7D/mitnanex_results/s_cervisae_CEN_PK113-7D_SRR5892449_reads_sample.sorted.fastq'\n",
    "repr_reads = [i for i in clusters['id_longest_read']]"
   ]
  },
  {
   "cell_type": "code",
   "execution_count": 42,
   "metadata": {},
   "outputs": [],
   "source": [
    "# PYTHON VERSION\n",
    "# kmer_profiles_df = get_kmer_profiles (repr_reads, reads_file, 3)\n",
    "# kmer_profiles_df.head()"
   ]
  },
  {
   "cell_type": "code",
   "execution_count": 43,
   "metadata": {},
   "outputs": [
    {
     "data": {
      "text/html": [
       "<div>\n",
       "<style scoped>\n",
       "    .dataframe tbody tr th:only-of-type {\n",
       "        vertical-align: middle;\n",
       "    }\n",
       "\n",
       "    .dataframe tbody tr th {\n",
       "        vertical-align: top;\n",
       "    }\n",
       "\n",
       "    .dataframe thead th {\n",
       "        text-align: right;\n",
       "    }\n",
       "</style>\n",
       "<table border=\"1\" class=\"dataframe\">\n",
       "  <thead>\n",
       "    <tr style=\"text-align: right;\">\n",
       "      <th></th>\n",
       "      <th>0</th>\n",
       "      <th>1</th>\n",
       "      <th>2</th>\n",
       "      <th>3</th>\n",
       "      <th>4</th>\n",
       "      <th>5</th>\n",
       "      <th>6</th>\n",
       "      <th>7</th>\n",
       "      <th>8</th>\n",
       "      <th>9</th>\n",
       "      <th>...</th>\n",
       "      <th>23</th>\n",
       "      <th>24</th>\n",
       "      <th>25</th>\n",
       "      <th>26</th>\n",
       "      <th>27</th>\n",
       "      <th>28</th>\n",
       "      <th>29</th>\n",
       "      <th>30</th>\n",
       "      <th>31</th>\n",
       "      <th>ids</th>\n",
       "    </tr>\n",
       "  </thead>\n",
       "  <tbody>\n",
       "    <tr>\n",
       "      <th>0</th>\n",
       "      <td>0.068689</td>\n",
       "      <td>0.062164</td>\n",
       "      <td>0.036947</td>\n",
       "      <td>0.042481</td>\n",
       "      <td>0.053862</td>\n",
       "      <td>0.038138</td>\n",
       "      <td>0.039751</td>\n",
       "      <td>0.035902</td>\n",
       "      <td>0.030496</td>\n",
       "      <td>0.022395</td>\n",
       "      <td>...</td>\n",
       "      <td>0.010428</td>\n",
       "      <td>0.018510</td>\n",
       "      <td>0.010941</td>\n",
       "      <td>0.048474</td>\n",
       "      <td>0.018822</td>\n",
       "      <td>0.028608</td>\n",
       "      <td>0.024503</td>\n",
       "      <td>0.014790</td>\n",
       "      <td>0.022047</td>\n",
       "      <td>SRR5892449.19157</td>\n",
       "    </tr>\n",
       "    <tr>\n",
       "      <th>1</th>\n",
       "      <td>0.068871</td>\n",
       "      <td>0.054740</td>\n",
       "      <td>0.038216</td>\n",
       "      <td>0.043603</td>\n",
       "      <td>0.053870</td>\n",
       "      <td>0.029037</td>\n",
       "      <td>0.039038</td>\n",
       "      <td>0.038893</td>\n",
       "      <td>0.033312</td>\n",
       "      <td>0.026331</td>\n",
       "      <td>...</td>\n",
       "      <td>0.012393</td>\n",
       "      <td>0.018118</td>\n",
       "      <td>0.012924</td>\n",
       "      <td>0.045753</td>\n",
       "      <td>0.020050</td>\n",
       "      <td>0.032298</td>\n",
       "      <td>0.027877</td>\n",
       "      <td>0.018987</td>\n",
       "      <td>0.019446</td>\n",
       "      <td>SRR5892449.8608</td>\n",
       "    </tr>\n",
       "    <tr>\n",
       "      <th>2</th>\n",
       "      <td>0.071818</td>\n",
       "      <td>0.061554</td>\n",
       "      <td>0.038128</td>\n",
       "      <td>0.046122</td>\n",
       "      <td>0.053485</td>\n",
       "      <td>0.037851</td>\n",
       "      <td>0.039061</td>\n",
       "      <td>0.035253</td>\n",
       "      <td>0.031597</td>\n",
       "      <td>0.020980</td>\n",
       "      <td>...</td>\n",
       "      <td>0.009784</td>\n",
       "      <td>0.019190</td>\n",
       "      <td>0.011070</td>\n",
       "      <td>0.047509</td>\n",
       "      <td>0.019594</td>\n",
       "      <td>0.028092</td>\n",
       "      <td>0.025873</td>\n",
       "      <td>0.014197</td>\n",
       "      <td>0.021485</td>\n",
       "      <td>SRR5892449.16681</td>\n",
       "    </tr>\n",
       "    <tr>\n",
       "      <th>3</th>\n",
       "      <td>0.059552</td>\n",
       "      <td>0.052366</td>\n",
       "      <td>0.036949</td>\n",
       "      <td>0.039192</td>\n",
       "      <td>0.043957</td>\n",
       "      <td>0.036185</td>\n",
       "      <td>0.039599</td>\n",
       "      <td>0.037510</td>\n",
       "      <td>0.028489</td>\n",
       "      <td>0.028158</td>\n",
       "      <td>...</td>\n",
       "      <td>0.014270</td>\n",
       "      <td>0.022221</td>\n",
       "      <td>0.016436</td>\n",
       "      <td>0.044416</td>\n",
       "      <td>0.024336</td>\n",
       "      <td>0.028820</td>\n",
       "      <td>0.028948</td>\n",
       "      <td>0.018067</td>\n",
       "      <td>0.021762</td>\n",
       "      <td>SRR5892449.10138</td>\n",
       "    </tr>\n",
       "    <tr>\n",
       "      <th>4</th>\n",
       "      <td>0.091926</td>\n",
       "      <td>0.144772</td>\n",
       "      <td>0.025057</td>\n",
       "      <td>0.025650</td>\n",
       "      <td>0.181403</td>\n",
       "      <td>0.027738</td>\n",
       "      <td>0.028485</td>\n",
       "      <td>0.022530</td>\n",
       "      <td>0.022247</td>\n",
       "      <td>0.013224</td>\n",
       "      <td>...</td>\n",
       "      <td>0.005594</td>\n",
       "      <td>0.006238</td>\n",
       "      <td>0.002887</td>\n",
       "      <td>0.026964</td>\n",
       "      <td>0.006780</td>\n",
       "      <td>0.024464</td>\n",
       "      <td>0.006934</td>\n",
       "      <td>0.004717</td>\n",
       "      <td>0.011317</td>\n",
       "      <td>SRR5892449.27537</td>\n",
       "    </tr>\n",
       "  </tbody>\n",
       "</table>\n",
       "<p>5 rows × 33 columns</p>\n",
       "</div>"
      ],
      "text/plain": [
       "          0         1         2         3         4         5         6  \\\n",
       "0  0.068689  0.062164  0.036947  0.042481  0.053862  0.038138  0.039751   \n",
       "1  0.068871  0.054740  0.038216  0.043603  0.053870  0.029037  0.039038   \n",
       "2  0.071818  0.061554  0.038128  0.046122  0.053485  0.037851  0.039061   \n",
       "3  0.059552  0.052366  0.036949  0.039192  0.043957  0.036185  0.039599   \n",
       "4  0.091926  0.144772  0.025057  0.025650  0.181403  0.027738  0.028485   \n",
       "\n",
       "          7         8         9  ...        23        24        25        26  \\\n",
       "0  0.035902  0.030496  0.022395  ...  0.010428  0.018510  0.010941  0.048474   \n",
       "1  0.038893  0.033312  0.026331  ...  0.012393  0.018118  0.012924  0.045753   \n",
       "2  0.035253  0.031597  0.020980  ...  0.009784  0.019190  0.011070  0.047509   \n",
       "3  0.037510  0.028489  0.028158  ...  0.014270  0.022221  0.016436  0.044416   \n",
       "4  0.022530  0.022247  0.013224  ...  0.005594  0.006238  0.002887  0.026964   \n",
       "\n",
       "         27        28        29        30        31               ids  \n",
       "0  0.018822  0.028608  0.024503  0.014790  0.022047  SRR5892449.19157  \n",
       "1  0.020050  0.032298  0.027877  0.018987  0.019446   SRR5892449.8608  \n",
       "2  0.019594  0.028092  0.025873  0.014197  0.021485  SRR5892449.16681  \n",
       "3  0.024336  0.028820  0.028948  0.018067  0.021762  SRR5892449.10138  \n",
       "4  0.006780  0.024464  0.006934  0.004717  0.011317  SRR5892449.27537  \n",
       "\n",
       "[5 rows x 33 columns]"
      ]
     },
     "execution_count": 43,
     "metadata": {},
     "output_type": "execute_result"
    }
   ],
   "source": [
    "# RUST VERSION\n",
    "hist = utils_rs.get_kmer_profiles(repr_reads, reads_file, 3)\n",
    "hist_df = pd.DataFrame(hist[0])\n",
    "hist_df['ids'] = hist[1]\n",
    "hist_df.head()"
   ]
  },
  {
   "cell_type": "code",
   "execution_count": 44,
   "metadata": {},
   "outputs": [
    {
     "ename": "FileNotFoundError",
     "evalue": "[Errno 2] No such file or directory: 'test/s_cervisae_CEN_PK113-7D/chrMT_reads_ids.txt'",
     "output_type": "error",
     "traceback": [
      "\u001b[0;31m---------------------------------------------------------------------------\u001b[0m",
      "\u001b[0;31mFileNotFoundError\u001b[0m                         Traceback (most recent call last)",
      "\u001b[1;32m/Users/jjpc/Documents/TESIS/MITNANEX_PROJECT/progress_notebook.ipynb Cell 15\u001b[0m line \u001b[0;36m2\n\u001b[1;32m      <a href='vscode-notebook-cell:/Users/jjpc/Documents/TESIS/MITNANEX_PROJECT/progress_notebook.ipynb#X20sZmlsZQ%3D%3D?line=0'>1</a>\u001b[0m \u001b[39m## Get the real mt sequences\u001b[39;00m\n\u001b[0;32m----> <a href='vscode-notebook-cell:/Users/jjpc/Documents/TESIS/MITNANEX_PROJECT/progress_notebook.ipynb#X20sZmlsZQ%3D%3D?line=1'>2</a>\u001b[0m \u001b[39mwith\u001b[39;00m \u001b[39mopen\u001b[39;49m(\u001b[39m'\u001b[39;49m\u001b[39mtest/s_cervisae_CEN_PK113-7D/chrMT_reads_ids.txt\u001b[39;49m\u001b[39m'\u001b[39;49m,\u001b[39m'\u001b[39;49m\u001b[39mr\u001b[39;49m\u001b[39m'\u001b[39;49m) \u001b[39mas\u001b[39;00m handle_ids_mt:\n\u001b[1;32m      <a href='vscode-notebook-cell:/Users/jjpc/Documents/TESIS/MITNANEX_PROJECT/progress_notebook.ipynb#X20sZmlsZQ%3D%3D?line=2'>3</a>\u001b[0m     ids_mt \u001b[39m=\u001b[39m handle_ids_mt\u001b[39m.\u001b[39mread()\u001b[39m.\u001b[39msplitlines()\n\u001b[1;32m      <a href='vscode-notebook-cell:/Users/jjpc/Documents/TESIS/MITNANEX_PROJECT/progress_notebook.ipynb#X20sZmlsZQ%3D%3D?line=3'>4</a>\u001b[0m     ids_mt \u001b[39m=\u001b[39m [i[:]\u001b[39m.\u001b[39mstrip() \u001b[39mfor\u001b[39;00m i \u001b[39min\u001b[39;00m ids_mt]\n",
      "File \u001b[0;32m/opt/homebrew/Caskroom/mambaforge/base/envs/mitnanex/lib/python3.9/site-packages/IPython/core/interactiveshell.py:286\u001b[0m, in \u001b[0;36m_modified_open\u001b[0;34m(file, *args, **kwargs)\u001b[0m\n\u001b[1;32m    279\u001b[0m \u001b[39mif\u001b[39;00m file \u001b[39min\u001b[39;00m {\u001b[39m0\u001b[39m, \u001b[39m1\u001b[39m, \u001b[39m2\u001b[39m}:\n\u001b[1;32m    280\u001b[0m     \u001b[39mraise\u001b[39;00m \u001b[39mValueError\u001b[39;00m(\n\u001b[1;32m    281\u001b[0m         \u001b[39mf\u001b[39m\u001b[39m\"\u001b[39m\u001b[39mIPython won\u001b[39m\u001b[39m'\u001b[39m\u001b[39mt let you open fd=\u001b[39m\u001b[39m{\u001b[39;00mfile\u001b[39m}\u001b[39;00m\u001b[39m by default \u001b[39m\u001b[39m\"\u001b[39m\n\u001b[1;32m    282\u001b[0m         \u001b[39m\"\u001b[39m\u001b[39mas it is likely to crash IPython. If you know what you are doing, \u001b[39m\u001b[39m\"\u001b[39m\n\u001b[1;32m    283\u001b[0m         \u001b[39m\"\u001b[39m\u001b[39myou can use builtins\u001b[39m\u001b[39m'\u001b[39m\u001b[39m open.\u001b[39m\u001b[39m\"\u001b[39m\n\u001b[1;32m    284\u001b[0m     )\n\u001b[0;32m--> 286\u001b[0m \u001b[39mreturn\u001b[39;00m io_open(file, \u001b[39m*\u001b[39;49margs, \u001b[39m*\u001b[39;49m\u001b[39m*\u001b[39;49mkwargs)\n",
      "\u001b[0;31mFileNotFoundError\u001b[0m: [Errno 2] No such file or directory: 'test/s_cervisae_CEN_PK113-7D/chrMT_reads_ids.txt'"
     ]
    }
   ],
   "source": [
    "## Get the real mt sequences\n",
    "with open('test/s_cervisae_CEN_PK113-7D/chrMT_reads_ids.txt','r') as handle_ids_mt:\n",
    "    ids_mt = handle_ids_mt.read().splitlines()\n",
    "    ids_mt = [i[:].strip() for i in ids_mt]"
   ]
  },
  {
   "cell_type": "markdown",
   "metadata": {},
   "source": [
    "# Dimensionality reduction with PCA and clustering with k-means "
   ]
  },
  {
   "cell_type": "code",
   "execution_count": null,
   "metadata": {},
   "outputs": [],
   "source": [
    "from sklearn.decomposition import PCA\n",
    "from sklearn.cluster import KMeans, DBSCAN"
   ]
  },
  {
   "cell_type": "code",
   "execution_count": null,
   "metadata": {},
   "outputs": [
    {
     "data": {
      "text/html": [
       "<style>#sk-container-id-3 {color: black;}#sk-container-id-3 pre{padding: 0;}#sk-container-id-3 div.sk-toggleable {background-color: white;}#sk-container-id-3 label.sk-toggleable__label {cursor: pointer;display: block;width: 100%;margin-bottom: 0;padding: 0.3em;box-sizing: border-box;text-align: center;}#sk-container-id-3 label.sk-toggleable__label-arrow:before {content: \"▸\";float: left;margin-right: 0.25em;color: #696969;}#sk-container-id-3 label.sk-toggleable__label-arrow:hover:before {color: black;}#sk-container-id-3 div.sk-estimator:hover label.sk-toggleable__label-arrow:before {color: black;}#sk-container-id-3 div.sk-toggleable__content {max-height: 0;max-width: 0;overflow: hidden;text-align: left;background-color: #f0f8ff;}#sk-container-id-3 div.sk-toggleable__content pre {margin: 0.2em;color: black;border-radius: 0.25em;background-color: #f0f8ff;}#sk-container-id-3 input.sk-toggleable__control:checked~div.sk-toggleable__content {max-height: 200px;max-width: 100%;overflow: auto;}#sk-container-id-3 input.sk-toggleable__control:checked~label.sk-toggleable__label-arrow:before {content: \"▾\";}#sk-container-id-3 div.sk-estimator input.sk-toggleable__control:checked~label.sk-toggleable__label {background-color: #d4ebff;}#sk-container-id-3 div.sk-label input.sk-toggleable__control:checked~label.sk-toggleable__label {background-color: #d4ebff;}#sk-container-id-3 input.sk-hidden--visually {border: 0;clip: rect(1px 1px 1px 1px);clip: rect(1px, 1px, 1px, 1px);height: 1px;margin: -1px;overflow: hidden;padding: 0;position: absolute;width: 1px;}#sk-container-id-3 div.sk-estimator {font-family: monospace;background-color: #f0f8ff;border: 1px dotted black;border-radius: 0.25em;box-sizing: border-box;margin-bottom: 0.5em;}#sk-container-id-3 div.sk-estimator:hover {background-color: #d4ebff;}#sk-container-id-3 div.sk-parallel-item::after {content: \"\";width: 100%;border-bottom: 1px solid gray;flex-grow: 1;}#sk-container-id-3 div.sk-label:hover label.sk-toggleable__label {background-color: #d4ebff;}#sk-container-id-3 div.sk-serial::before {content: \"\";position: absolute;border-left: 1px solid gray;box-sizing: border-box;top: 0;bottom: 0;left: 50%;z-index: 0;}#sk-container-id-3 div.sk-serial {display: flex;flex-direction: column;align-items: center;background-color: white;padding-right: 0.2em;padding-left: 0.2em;position: relative;}#sk-container-id-3 div.sk-item {position: relative;z-index: 1;}#sk-container-id-3 div.sk-parallel {display: flex;align-items: stretch;justify-content: center;background-color: white;position: relative;}#sk-container-id-3 div.sk-item::before, #sk-container-id-3 div.sk-parallel-item::before {content: \"\";position: absolute;border-left: 1px solid gray;box-sizing: border-box;top: 0;bottom: 0;left: 50%;z-index: -1;}#sk-container-id-3 div.sk-parallel-item {display: flex;flex-direction: column;z-index: 1;position: relative;background-color: white;}#sk-container-id-3 div.sk-parallel-item:first-child::after {align-self: flex-end;width: 50%;}#sk-container-id-3 div.sk-parallel-item:last-child::after {align-self: flex-start;width: 50%;}#sk-container-id-3 div.sk-parallel-item:only-child::after {width: 0;}#sk-container-id-3 div.sk-dashed-wrapped {border: 1px dashed gray;margin: 0 0.4em 0.5em 0.4em;box-sizing: border-box;padding-bottom: 0.4em;background-color: white;}#sk-container-id-3 div.sk-label label {font-family: monospace;font-weight: bold;display: inline-block;line-height: 1.2em;}#sk-container-id-3 div.sk-label-container {text-align: center;}#sk-container-id-3 div.sk-container {/* jupyter's `normalize.less` sets `[hidden] { display: none; }` but bootstrap.min.css set `[hidden] { display: none !important; }` so we also need the `!important` here to be able to override the default hidden behavior on the sphinx rendered scikit-learn.org. See: https://github.com/scikit-learn/scikit-learn/issues/21755 */display: inline-block !important;position: relative;}#sk-container-id-3 div.sk-text-repr-fallback {display: none;}</style><div id=\"sk-container-id-3\" class=\"sk-top-container\"><div class=\"sk-text-repr-fallback\"><pre>PCA(n_components=2)</pre><b>In a Jupyter environment, please rerun this cell to show the HTML representation or trust the notebook. <br />On GitHub, the HTML representation is unable to render, please try loading this page with nbviewer.org.</b></div><div class=\"sk-container\" hidden><div class=\"sk-item\"><div class=\"sk-estimator sk-toggleable\"><input class=\"sk-toggleable__control sk-hidden--visually\" id=\"sk-estimator-id-3\" type=\"checkbox\" checked><label for=\"sk-estimator-id-3\" class=\"sk-toggleable__label sk-toggleable__label-arrow\">PCA</label><div class=\"sk-toggleable__content\"><pre>PCA(n_components=2)</pre></div></div></div></div></div>"
      ],
      "text/plain": [
       "PCA(n_components=2)"
      ]
     },
     "execution_count": 67,
     "metadata": {},
     "output_type": "execute_result"
    }
   ],
   "source": [
    "pca = PCA(n_components=2)\n",
    "pca.fit(hist_df.iloc[:,:-2])"
   ]
  },
  {
   "cell_type": "code",
   "execution_count": null,
   "metadata": {},
   "outputs": [
    {
     "data": {
      "text/plain": [
       "array([1.83889867e-03, 5.22490724e-05])"
      ]
     },
     "execution_count": 68,
     "metadata": {},
     "output_type": "execute_result"
    }
   ],
   "source": [
    "## Components and variance explained \n",
    "pca.explained_variance_\n",
    "#pca.components_"
   ]
  },
  {
   "cell_type": "code",
   "execution_count": null,
   "metadata": {},
   "outputs": [
    {
     "data": {
      "text/html": [
       "<div>\n",
       "<style scoped>\n",
       "    .dataframe tbody tr th:only-of-type {\n",
       "        vertical-align: middle;\n",
       "    }\n",
       "\n",
       "    .dataframe tbody tr th {\n",
       "        vertical-align: top;\n",
       "    }\n",
       "\n",
       "    .dataframe thead th {\n",
       "        text-align: right;\n",
       "    }\n",
       "</style>\n",
       "<table border=\"1\" class=\"dataframe\">\n",
       "  <thead>\n",
       "    <tr style=\"text-align: right;\">\n",
       "      <th></th>\n",
       "      <th>comp1</th>\n",
       "      <th>comp2</th>\n",
       "      <th>ids</th>\n",
       "      <th>coverage</th>\n",
       "      <th>repr_read_len</th>\n",
       "      <th>id_cluster</th>\n",
       "      <th>transform</th>\n",
       "      <th>mt</th>\n",
       "      <th>coverage_norm</th>\n",
       "    </tr>\n",
       "  </thead>\n",
       "  <tbody>\n",
       "    <tr>\n",
       "      <th>7</th>\n",
       "      <td>0.220100</td>\n",
       "      <td>0.000364</td>\n",
       "      <td>SRR5892449.18969</td>\n",
       "      <td>13</td>\n",
       "      <td>35773</td>\n",
       "      <td>8</td>\n",
       "      <td>3.700440</td>\n",
       "      <td>32</td>\n",
       "      <td>0.000363</td>\n",
       "    </tr>\n",
       "    <tr>\n",
       "      <th>11</th>\n",
       "      <td>0.115697</td>\n",
       "      <td>0.014898</td>\n",
       "      <td>SRR5892449.9739</td>\n",
       "      <td>48</td>\n",
       "      <td>33518</td>\n",
       "      <td>12</td>\n",
       "      <td>5.584963</td>\n",
       "      <td>32</td>\n",
       "      <td>0.001432</td>\n",
       "    </tr>\n",
       "    <tr>\n",
       "      <th>13</th>\n",
       "      <td>0.238196</td>\n",
       "      <td>0.001282</td>\n",
       "      <td>SRR5892449.22604</td>\n",
       "      <td>28</td>\n",
       "      <td>32839</td>\n",
       "      <td>14</td>\n",
       "      <td>4.807355</td>\n",
       "      <td>32</td>\n",
       "      <td>0.000853</td>\n",
       "    </tr>\n",
       "    <tr>\n",
       "      <th>25</th>\n",
       "      <td>-0.006675</td>\n",
       "      <td>0.005608</td>\n",
       "      <td>SRR5892449.37390</td>\n",
       "      <td>40</td>\n",
       "      <td>28027</td>\n",
       "      <td>26</td>\n",
       "      <td>5.321928</td>\n",
       "      <td>10</td>\n",
       "      <td>0.001427</td>\n",
       "    </tr>\n",
       "    <tr>\n",
       "      <th>68</th>\n",
       "      <td>0.214005</td>\n",
       "      <td>-0.008419</td>\n",
       "      <td>SRR5892449.36605</td>\n",
       "      <td>23</td>\n",
       "      <td>23206</td>\n",
       "      <td>69</td>\n",
       "      <td>4.523562</td>\n",
       "      <td>32</td>\n",
       "      <td>0.000991</td>\n",
       "    </tr>\n",
       "    <tr>\n",
       "      <th>71</th>\n",
       "      <td>0.273761</td>\n",
       "      <td>0.009953</td>\n",
       "      <td>SRR5892449.45685</td>\n",
       "      <td>23</td>\n",
       "      <td>23009</td>\n",
       "      <td>72</td>\n",
       "      <td>4.523562</td>\n",
       "      <td>32</td>\n",
       "      <td>0.001000</td>\n",
       "    </tr>\n",
       "  </tbody>\n",
       "</table>\n",
       "</div>"
      ],
      "text/plain": [
       "       comp1     comp2               ids  coverage  repr_read_len  id_cluster  \\\n",
       "7   0.220100  0.000364  SRR5892449.18969        13          35773           8   \n",
       "11  0.115697  0.014898   SRR5892449.9739        48          33518          12   \n",
       "13  0.238196  0.001282  SRR5892449.22604        28          32839          14   \n",
       "25 -0.006675  0.005608  SRR5892449.37390        40          28027          26   \n",
       "68  0.214005 -0.008419  SRR5892449.36605        23          23206          69   \n",
       "71  0.273761  0.009953  SRR5892449.45685        23          23009          72   \n",
       "\n",
       "    transform  mt  coverage_norm  \n",
       "7    3.700440  32       0.000363  \n",
       "11   5.584963  32       0.001432  \n",
       "13   4.807355  32       0.000853  \n",
       "25   5.321928  10       0.001427  \n",
       "68   4.523562  32       0.000991  \n",
       "71   4.523562  32       0.001000  "
      ]
     },
     "execution_count": 69,
     "metadata": {},
     "output_type": "execute_result"
    }
   ],
   "source": [
    "kmer_reduction = pca.fit_transform(hist_df.iloc[:,:-2])\n",
    "kmer_reduction = pd.DataFrame(kmer_reduction, columns=['comp1', 'comp2'])\n",
    "\n",
    "## merging the dataframe with ids and other relevant information\n",
    "kmer_reduction ['ids'] = hist_df['ids']\n",
    "kmer_reduction = kmer_reduction.merge(clusters, how='left', left_on='ids', right_on='id_longest_read')\n",
    "kmer_reduction.drop(columns='id_longest_read', inplace=True)\n",
    "\n",
    "## Annotate which reads are mitochondrial\n",
    "kmer_reduction['mt'] = [32 if i else 10 for i in kmer_reduction['ids'].isin(ids_mt)] #+ 1) ** 5\n",
    "kmer_reduction = kmer_reduction[kmer_reduction['coverage'] >= min_coverage]\n",
    "kmer_reduction['coverage_norm'] = kmer_reduction['coverage'] / kmer_reduction['repr_read_len']\n",
    "kmer_reduction"
   ]
  },
  {
   "cell_type": "code",
   "execution_count": null,
   "metadata": {},
   "outputs": [
    {
     "name": "stderr",
     "output_type": "stream",
     "text": [
      "No artists with labels found to put in legend.  Note that artists whose label start with an underscore are ignored when legend() is called with no argument.\n"
     ]
    },
    {
     "data": {
      "text/plain": [
       "Text(0, 0.5, 'comp2')"
      ]
     },
     "execution_count": 70,
     "metadata": {},
     "output_type": "execute_result"
    },
    {
     "data": {
      "image/png": "[encoded data removed]",
      "text/plain": [
       "<Figure size 640x480 with 2 Axes>"
      ]
     },
     "metadata": {},
     "output_type": "display_data"
    }
   ],
   "source": [
    "sc = plt.scatter(kmer_reduction['comp1'],kmer_reduction['comp2'], c=kmer_reduction['coverage_norm'], s=kmer_reduction['mt'])\n",
    "# legend\n",
    "# Add clusters_list colorbar\n",
    "cbar = plt.colorbar(sc)\n",
    "cbar.set_label('Color Scale')\n",
    "plt.legend()\n",
    "plt.xlabel('comp1')\n",
    "plt.ylabel('comp2')"
   ]
  },
  {
   "cell_type": "code",
   "execution_count": null,
   "metadata": {},
   "outputs": [
    {
     "name": "stdout",
     "output_type": "stream",
     "text": [
      "Initialization complete\n",
      "Iteration 0, inertia 0.01491004604234128.\n",
      "Iteration 1, inertia 0.014172201251675265.\n",
      "Converged at iteration 1: strict convergence.\n"
     ]
    }
   ],
   "source": [
    "kmeans = KMeans(n_clusters=2, max_iter=100, init='k-means++', random_state=0, n_init=1,verbose=1)\n",
    "mt_prediction = kmeans.fit_predict(kmer_reduction[['comp1','comp2']])#, sample_weight=kmer_reduction['coverage'])\n",
    "kmer_reduction['cluster_prediction'] = mt_prediction"
   ]
  },
  {
   "cell_type": "code",
   "execution_count": null,
   "metadata": {},
   "outputs": [
    {
     "data": {
      "text/plain": [
       "Text(0, 0.5, 'comp2')"
      ]
     },
     "execution_count": 72,
     "metadata": {},
     "output_type": "execute_result"
    },
    {
     "data": {
      "image/png": "[encoded data removed]",
      "text/plain": [
       "<Figure size 640x480 with 1 Axes>"
      ]
     },
     "metadata": {},
     "output_type": "display_data"
    }
   ],
   "source": [
    "plt.scatter(x=kmer_reduction['comp1'], y=kmer_reduction['comp2'], c=mt_prediction, s=kmer_reduction['mt'])\n",
    "plt.xlabel('comp1')\n",
    "plt.ylabel('comp2')"
   ]
  },
  {
   "cell_type": "code",
   "execution_count": null,
   "metadata": {},
   "outputs": [],
   "source": [
    "# dbscan = DBSCAN(eps=3, min_samples=3)\n",
    "# mt_prediction = dbscan.fit_predict(kmer_reduction[['comp1','comp2']])#, sample_weight=kmer_reduction['coverage'])\n",
    "# kmer_reduction['cluster_prediction'] = mt_prediction\n",
    "# kmer_reduction.head()"
   ]
  },
  {
   "cell_type": "code",
   "execution_count": null,
   "metadata": {},
   "outputs": [],
   "source": [
    "# plt.scatter(x=kmer_reduction['comp1'], y=kmer_reduction['comp2'], c=mt_prediction, s=kmer_reduction['mt'])\n",
    "# plt.xlabel('comp1')\n",
    "# plt.ylabel('comp2')"
   ]
  },
  {
   "cell_type": "markdown",
   "metadata": {},
   "source": []
  },
  {
   "cell_type": "markdown",
   "metadata": {},
   "source": [
    "# Get the cluster of interest\n",
    "\n",
    "This step is clusters_list pain in the ass, but since I am looking to keep the free-reference. "
   ]
  },
  {
   "cell_type": "code",
   "execution_count": null,
   "metadata": {},
   "outputs": [
    {
     "data": {
      "text/html": [
       "<div>\n",
       "<style scoped>\n",
       "    .dataframe tbody tr th:only-of-type {\n",
       "        vertical-align: middle;\n",
       "    }\n",
       "\n",
       "    .dataframe tbody tr th {\n",
       "        vertical-align: top;\n",
       "    }\n",
       "\n",
       "    .dataframe thead th {\n",
       "        text-align: right;\n",
       "    }\n",
       "</style>\n",
       "<table border=\"1\" class=\"dataframe\">\n",
       "  <thead>\n",
       "    <tr style=\"text-align: right;\">\n",
       "      <th></th>\n",
       "      <th>comp1</th>\n",
       "      <th>comp2</th>\n",
       "      <th>ids</th>\n",
       "      <th>coverage</th>\n",
       "      <th>repr_read_len</th>\n",
       "      <th>id_cluster</th>\n",
       "      <th>transform</th>\n",
       "      <th>mt</th>\n",
       "      <th>coverage_norm</th>\n",
       "      <th>cluster_prediction</th>\n",
       "    </tr>\n",
       "  </thead>\n",
       "  <tbody>\n",
       "    <tr>\n",
       "      <th>7</th>\n",
       "      <td>0.220100</td>\n",
       "      <td>0.000364</td>\n",
       "      <td>SRR5892449.18969</td>\n",
       "      <td>13</td>\n",
       "      <td>35773</td>\n",
       "      <td>8</td>\n",
       "      <td>3.700440</td>\n",
       "      <td>32</td>\n",
       "      <td>0.000363</td>\n",
       "      <td>1</td>\n",
       "    </tr>\n",
       "    <tr>\n",
       "      <th>11</th>\n",
       "      <td>0.115697</td>\n",
       "      <td>0.014898</td>\n",
       "      <td>SRR5892449.9739</td>\n",
       "      <td>48</td>\n",
       "      <td>33518</td>\n",
       "      <td>12</td>\n",
       "      <td>5.584963</td>\n",
       "      <td>32</td>\n",
       "      <td>0.001432</td>\n",
       "      <td>1</td>\n",
       "    </tr>\n",
       "    <tr>\n",
       "      <th>13</th>\n",
       "      <td>0.238196</td>\n",
       "      <td>0.001282</td>\n",
       "      <td>SRR5892449.22604</td>\n",
       "      <td>28</td>\n",
       "      <td>32839</td>\n",
       "      <td>14</td>\n",
       "      <td>4.807355</td>\n",
       "      <td>32</td>\n",
       "      <td>0.000853</td>\n",
       "      <td>1</td>\n",
       "    </tr>\n",
       "    <tr>\n",
       "      <th>68</th>\n",
       "      <td>0.214005</td>\n",
       "      <td>-0.008419</td>\n",
       "      <td>SRR5892449.36605</td>\n",
       "      <td>23</td>\n",
       "      <td>23206</td>\n",
       "      <td>69</td>\n",
       "      <td>4.523562</td>\n",
       "      <td>32</td>\n",
       "      <td>0.000991</td>\n",
       "      <td>1</td>\n",
       "    </tr>\n",
       "    <tr>\n",
       "      <th>71</th>\n",
       "      <td>0.273761</td>\n",
       "      <td>0.009953</td>\n",
       "      <td>SRR5892449.45685</td>\n",
       "      <td>23</td>\n",
       "      <td>23009</td>\n",
       "      <td>72</td>\n",
       "      <td>4.523562</td>\n",
       "      <td>32</td>\n",
       "      <td>0.001000</td>\n",
       "      <td>1</td>\n",
       "    </tr>\n",
       "  </tbody>\n",
       "</table>\n",
       "</div>"
      ],
      "text/plain": [
       "       comp1     comp2               ids  coverage  repr_read_len  id_cluster  \\\n",
       "7   0.220100  0.000364  SRR5892449.18969        13          35773           8   \n",
       "11  0.115697  0.014898   SRR5892449.9739        48          33518          12   \n",
       "13  0.238196  0.001282  SRR5892449.22604        28          32839          14   \n",
       "68  0.214005 -0.008419  SRR5892449.36605        23          23206          69   \n",
       "71  0.273761  0.009953  SRR5892449.45685        23          23009          72   \n",
       "\n",
       "    transform  mt  coverage_norm  cluster_prediction  \n",
       "7    3.700440  32       0.000363                   1  \n",
       "11   5.584963  32       0.001432                   1  \n",
       "13   4.807355  32       0.000853                   1  \n",
       "68   4.523562  32       0.000991                   1  \n",
       "71   4.523562  32       0.001000                   1  "
      ]
     },
     "execution_count": 75,
     "metadata": {},
     "output_type": "execute_result"
    }
   ],
   "source": [
    "selected_cluster_id = kmer_reduction.loc[:, kmer_reduction.columns != 'ids'].groupby(by='cluster_prediction')['coverage_norm'].sum().idxmax()\n",
    "selected_cluster = kmer_reduction[kmer_reduction['cluster_prediction'] == selected_cluster_id]\n",
    "selected_cluster.sort_values('coverage')\n",
    "selected_cluster.head()"
   ]
  },
  {
   "cell_type": "code",
   "execution_count": null,
   "metadata": {},
   "outputs": [
    {
     "name": "stdout",
     "output_type": "stream",
     "text": [
      "135 reads retrieved\n"
     ]
    }
   ],
   "source": [
    "sequences_ids = set()\n",
    "for i in selected_cluster['id_cluster']:\n",
    "    sequences_ids.update(clusters_list.get_cluster(i).id_sequences)\n",
    "write_fasta(fasta=reads_file, sequences_ids=sequences_ids, output='test/s_cervisae_CEN_PK113-7D/mt_reads_v1.fasta')"
   ]
  }
 ],
 "metadata": {
  "kernelspec": {
   "display_name": "mitnanex",
   "language": "python",
   "name": "python3"
  },
  "language_info": {
   "codemirror_mode": {
    "name": "ipython",
    "version": 3
   },
   "file_extension": ".py",
   "mimetype": "text/x-python",
   "name": "python",
   "nbconvert_exporter": "python",
   "pygments_lexer": "ipython3",
   "version": "3.9.18"
  },
  "orig_nbformat": 4
 },
 "nbformat": 4,
 "nbformat_minor": 2
}

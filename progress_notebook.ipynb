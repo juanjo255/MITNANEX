{
 "cells": [
  {
   "cell_type": "code",
   "execution_count": 23,
   "metadata": {},
   "outputs": [],
   "source": [
    "from src.mitnanex import run\n",
    "import pandas as pd\n",
    "import matplotlib.pyplot as plt\n",
    "from sklearn.neighbors import KernelDensity"
   ]
  },
  {
   "cell_type": "code",
   "execution_count": 24,
   "metadata": {},
   "outputs": [],
   "source": [
    "\n",
    "clusters_list = run()\n",
    "\n",
    "# I need to plot the coverage of clusters\n",
    "coverages_df = pd.DataFrame(\n",
    "    {\n",
    "        \"coverage\": [i.coverage for i in clusters_list.clusters],\n",
    "        \"repr_read_len\": [i.longest_read_length for i in clusters_list.clusters],\n",
    "        \"id_longest_read\": [i.longest_read_id for i in clusters_list.clusters],\n",
    "        \"id_cluster\":[i.id_cluster for i in clusters_list.clusters],\n",
    "    }\n",
    ")"
   ]
  },
  {
   "cell_type": "code",
   "execution_count": 25,
   "metadata": {},
   "outputs": [
    {
     "data": {
      "text/html": [
       "<div>\n",
       "<style scoped>\n",
       "    .dataframe tbody tr th:only-of-type {\n",
       "        vertical-align: middle;\n",
       "    }\n",
       "\n",
       "    .dataframe tbody tr th {\n",
       "        vertical-align: top;\n",
       "    }\n",
       "\n",
       "    .dataframe thead th {\n",
       "        text-align: right;\n",
       "    }\n",
       "</style>\n",
       "<table border=\"1\" class=\"dataframe\">\n",
       "  <thead>\n",
       "    <tr style=\"text-align: right;\">\n",
       "      <th></th>\n",
       "      <th>coverage</th>\n",
       "      <th>repr_read_len</th>\n",
       "      <th>id_longest_read</th>\n",
       "      <th>id_cluster</th>\n",
       "    </tr>\n",
       "  </thead>\n",
       "  <tbody>\n",
       "    <tr>\n",
       "      <th>82</th>\n",
       "      <td>5</td>\n",
       "      <td>34041</td>\n",
       "      <td>SRR5892449.10100</td>\n",
       "      <td>83</td>\n",
       "    </tr>\n",
       "    <tr>\n",
       "      <th>30</th>\n",
       "      <td>6</td>\n",
       "      <td>39243</td>\n",
       "      <td>SRR5892449.10138</td>\n",
       "      <td>31</td>\n",
       "    </tr>\n",
       "    <tr>\n",
       "      <th>927</th>\n",
       "      <td>2</td>\n",
       "      <td>14520</td>\n",
       "      <td>SRR5892449.10169</td>\n",
       "      <td>928</td>\n",
       "    </tr>\n",
       "    <tr>\n",
       "      <th>925</th>\n",
       "      <td>2</td>\n",
       "      <td>14557</td>\n",
       "      <td>SRR5892449.10171</td>\n",
       "      <td>926</td>\n",
       "    </tr>\n",
       "    <tr>\n",
       "      <th>563</th>\n",
       "      <td>4</td>\n",
       "      <td>19525</td>\n",
       "      <td>SRR5892449.10199</td>\n",
       "      <td>564</td>\n",
       "    </tr>\n",
       "  </tbody>\n",
       "</table>\n",
       "</div>"
      ],
      "text/plain": [
       "     coverage  repr_read_len   id_longest_read  id_cluster\n",
       "82          5          34041  SRR5892449.10100          83\n",
       "30          6          39243  SRR5892449.10138          31\n",
       "927         2          14520  SRR5892449.10169         928\n",
       "925         2          14557  SRR5892449.10171         926\n",
       "563         4          19525  SRR5892449.10199         564"
      ]
     },
     "execution_count": 25,
     "metadata": {},
     "output_type": "execute_result"
    }
   ],
   "source": [
    "# Test on the first 30 clusters\n",
    "import math\n",
    "clusters = coverages_df.sort_values(by='coverage', ascending=False)\n",
    "clusters.sort_values(by='id_longest_read',inplace=True)\n",
    "clusters.head()"
   ]
  },
  {
   "cell_type": "markdown",
   "metadata": {},
   "source": [
    "# Coverage\n",
    "\n",
    "The first step is to filter the reads by coverage. For that I will explore the use of Kernel Density since this is clusters_list one dimensional clustering."
   ]
  },
  {
   "cell_type": "code",
   "execution_count": 26,
   "metadata": {},
   "outputs": [
    {
     "data": {
      "text/html": [
       "<div>\n",
       "<style scoped>\n",
       "    .dataframe tbody tr th:only-of-type {\n",
       "        vertical-align: middle;\n",
       "    }\n",
       "\n",
       "    .dataframe tbody tr th {\n",
       "        vertical-align: top;\n",
       "    }\n",
       "\n",
       "    .dataframe thead th {\n",
       "        text-align: right;\n",
       "    }\n",
       "</style>\n",
       "<table border=\"1\" class=\"dataframe\">\n",
       "  <thead>\n",
       "    <tr style=\"text-align: right;\">\n",
       "      <th></th>\n",
       "      <th>coverage</th>\n",
       "      <th>repr_read_len</th>\n",
       "      <th>id_longest_read</th>\n",
       "      <th>id_cluster</th>\n",
       "      <th>transform</th>\n",
       "    </tr>\n",
       "  </thead>\n",
       "  <tbody>\n",
       "    <tr>\n",
       "      <th>16</th>\n",
       "      <td>82</td>\n",
       "      <td>42906</td>\n",
       "      <td>SRR5892449.16013</td>\n",
       "      <td>17</td>\n",
       "      <td>6.357552</td>\n",
       "    </tr>\n",
       "    <tr>\n",
       "      <th>17</th>\n",
       "      <td>69</td>\n",
       "      <td>42640</td>\n",
       "      <td>SRR5892449.18856</td>\n",
       "      <td>18</td>\n",
       "      <td>6.108524</td>\n",
       "    </tr>\n",
       "    <tr>\n",
       "      <th>89</th>\n",
       "      <td>67</td>\n",
       "      <td>33518</td>\n",
       "      <td>SRR5892449.9739</td>\n",
       "      <td>90</td>\n",
       "      <td>6.066089</td>\n",
       "    </tr>\n",
       "    <tr>\n",
       "      <th>63</th>\n",
       "      <td>58</td>\n",
       "      <td>35773</td>\n",
       "      <td>SRR5892449.18969</td>\n",
       "      <td>64</td>\n",
       "      <td>5.857981</td>\n",
       "    </tr>\n",
       "    <tr>\n",
       "      <th>171</th>\n",
       "      <td>43</td>\n",
       "      <td>28741</td>\n",
       "      <td>SRR5892449.40354</td>\n",
       "      <td>172</td>\n",
       "      <td>5.426265</td>\n",
       "    </tr>\n",
       "  </tbody>\n",
       "</table>\n",
       "</div>"
      ],
      "text/plain": [
       "     coverage  repr_read_len   id_longest_read  id_cluster  transform\n",
       "16         82          42906  SRR5892449.16013          17   6.357552\n",
       "17         69          42640  SRR5892449.18856          18   6.108524\n",
       "89         67          33518   SRR5892449.9739          90   6.066089\n",
       "63         58          35773  SRR5892449.18969          64   5.857981\n",
       "171        43          28741  SRR5892449.40354         172   5.426265"
      ]
     },
     "execution_count": 26,
     "metadata": {},
     "output_type": "execute_result"
    }
   ],
   "source": [
    "clusters['transform'] = [math.log2(i)for i in clusters['coverage']]\n",
    "clusters.sort_values('coverage',ascending=False, inplace=True)\n",
    "clusters.head()"
   ]
  },
  {
   "cell_type": "code",
   "execution_count": 27,
   "metadata": {},
   "outputs": [
    {
     "data": {
      "text/plain": [
       "<Axes: >"
      ]
     },
     "execution_count": 27,
     "metadata": {},
     "output_type": "execute_result"
    },
    {
     "data": {
      "image/png": "[encoded data removed]",
      "text/plain": [
       "<Figure size 640x480 with 1 Axes>"
      ]
     },
     "metadata": {},
     "output_type": "display_data"
    }
   ],
   "source": [
    "clusters['transform'].hist()"
   ]
  },
  {
   "cell_type": "code",
   "execution_count": 28,
   "metadata": {},
   "outputs": [
    {
     "data": {
      "text/plain": [
       "<matplotlib.collections.PathCollection at 0x1503d7ee0>"
      ]
     },
     "execution_count": 28,
     "metadata": {},
     "output_type": "execute_result"
    },
    {
     "data": {
      "image/png": "[encoded data removed]",
      "text/plain": [
       "<Figure size 640x480 with 1 Axes>"
      ]
     },
     "metadata": {},
     "output_type": "display_data"
    }
   ],
   "source": [
    "plt.scatter(x=clusters['transform'], y=clusters['coverage'])"
   ]
  },
  {
   "cell_type": "code",
   "execution_count": 29,
   "metadata": {},
   "outputs": [
    {
     "data": {
      "text/plain": [
       "[<matplotlib.lines.Line2D at 0x150436da0>]"
      ]
     },
     "execution_count": 29,
     "metadata": {},
     "output_type": "execute_result"
    },
    {
     "data": {
      "image/png": "[encoded data removed]",
      "text/plain": [
       "<Figure size 640x480 with 1 Axes>"
      ]
     },
     "metadata": {},
     "output_type": "display_data"
    }
   ],
   "source": [
    "kde = KernelDensity(kernel='gaussian', bandwidth=1).fit(clusters['coverage'].array.reshape(-1,1))\n",
    "cov_fdp = kde.score_samples(clusters['coverage'].array.reshape(-1,1))\n",
    "plt.plot(clusters['transform'], cov_fdp)"
   ]
  },
  {
   "cell_type": "code",
   "execution_count": 30,
   "metadata": {},
   "outputs": [
    {
     "name": "stdout",
     "output_type": "stream",
     "text": [
      "Covertura minima admitida:  24\n"
     ]
    }
   ],
   "source": [
    "from scipy.signal import argrelextrema\n",
    "import numpy as np\n",
    "local_min = argrelextrema(cov_fdp, np.less)[0]\n",
    "min_coverage = clusters.iloc[max(local_min),:]['coverage']\n",
    "print(\"Covertura minima admitida: \", min_coverage)"
   ]
  },
  {
   "cell_type": "markdown",
   "metadata": {},
   "source": [
    "# Oligo composition\n",
    "\n",
    "Once I've detected the clusters with higher coverage, which I expect includes mitochondria and contamination, whether nuclear or external, I have to purify these groups. To do this I will use the oligo composition as it is used during metagenomics binning.\n",
    "\n",
    "I will create clusters_list script to get the kmers. The kmer size will be 3 to solve two things: 1. Intrinsec error from Nanopore, 2 smaller set as possible (4**3 possible kmers). \n",
    "\n",
    "Finally, I will reduce dimensionality using PCA"
   ]
  },
  {
   "cell_type": "code",
   "execution_count": 31,
   "metadata": {},
   "outputs": [],
   "source": [
    "from src.utils import get_sequences_by_id, convert_fq_to_fa, write_fasta\n",
    "from src.kmer_cnt import count_kmer"
   ]
  },
  {
   "cell_type": "code",
   "execution_count": 32,
   "metadata": {},
   "outputs": [
    {
     "name": "stdout",
     "output_type": "stream",
     "text": [
      "23278 sequences converted to fasta\n"
     ]
    },
    {
     "data": {
      "text/plain": [
       "'test/s_cervisae_CEN_PK113-7D_SRR5892449_reads_sample.sorted.fasta'"
      ]
     },
     "execution_count": 32,
     "metadata": {},
     "output_type": "execute_result"
    }
   ],
   "source": [
    "convert_fq_to_fa('test/s_cervisae_CEN_PK113-7D_SRR5892449_reads_sample.sorted.fastq','test/s_cervisae_CEN_PK113-7D_SRR5892449_reads_sample.sorted.fasta')"
   ]
  },
  {
   "cell_type": "code",
   "execution_count": 33,
   "metadata": {},
   "outputs": [],
   "source": [
    "fasta = 'test/s_cervisae_CEN_PK113-7D_SRR5892449_reads_sample.sorted.fasta'\n",
    "repr_reads = [i for i in clusters['id_longest_read']]\n",
    "hist = list()\n",
    "for i in get_sequences_by_id(fasta, repr_reads):\n",
    "    ids, seq = i\n",
    "    hist.append([*count_kmer(k=3,seq=seq).values(),ids])"
   ]
  },
  {
   "cell_type": "code",
   "execution_count": 34,
   "metadata": {},
   "outputs": [],
   "source": [
    "## Get the real mt sequences\n",
    "with open('test/list_ids_reads_mt.txt','r') as handle_ids_mt:\n",
    "    ids_mt = handle_ids_mt.read().splitlines()\n",
    "    ids_mt = [i[1:] for i in ids_mt]"
   ]
  },
  {
   "cell_type": "code",
   "execution_count": 35,
   "metadata": {},
   "outputs": [
    {
     "data": {
      "text/html": [
       "<div>\n",
       "<style scoped>\n",
       "    .dataframe tbody tr th:only-of-type {\n",
       "        vertical-align: middle;\n",
       "    }\n",
       "\n",
       "    .dataframe tbody tr th {\n",
       "        vertical-align: top;\n",
       "    }\n",
       "\n",
       "    .dataframe thead th {\n",
       "        text-align: right;\n",
       "    }\n",
       "</style>\n",
       "<table border=\"1\" class=\"dataframe\">\n",
       "  <thead>\n",
       "    <tr style=\"text-align: right;\">\n",
       "      <th></th>\n",
       "      <th>0</th>\n",
       "      <th>1</th>\n",
       "      <th>2</th>\n",
       "      <th>3</th>\n",
       "      <th>4</th>\n",
       "      <th>5</th>\n",
       "      <th>6</th>\n",
       "      <th>7</th>\n",
       "      <th>8</th>\n",
       "      <th>9</th>\n",
       "      <th>...</th>\n",
       "      <th>23</th>\n",
       "      <th>24</th>\n",
       "      <th>25</th>\n",
       "      <th>26</th>\n",
       "      <th>27</th>\n",
       "      <th>28</th>\n",
       "      <th>29</th>\n",
       "      <th>30</th>\n",
       "      <th>31</th>\n",
       "      <th>ids</th>\n",
       "    </tr>\n",
       "  </thead>\n",
       "  <tbody>\n",
       "    <tr>\n",
       "      <th>0</th>\n",
       "      <td>0.059220</td>\n",
       "      <td>0.048021</td>\n",
       "      <td>0.038510</td>\n",
       "      <td>0.040575</td>\n",
       "      <td>0.044750</td>\n",
       "      <td>0.035360</td>\n",
       "      <td>0.036852</td>\n",
       "      <td>0.037320</td>\n",
       "      <td>0.029844</td>\n",
       "      <td>0.028125</td>\n",
       "      <td>...</td>\n",
       "      <td>0.016263</td>\n",
       "      <td>0.022744</td>\n",
       "      <td>0.016369</td>\n",
       "      <td>0.043831</td>\n",
       "      <td>0.023799</td>\n",
       "      <td>0.029271</td>\n",
       "      <td>0.028050</td>\n",
       "      <td>0.019775</td>\n",
       "      <td>0.023724</td>\n",
       "      <td>SRR5892449.12156</td>\n",
       "    </tr>\n",
       "    <tr>\n",
       "      <th>1</th>\n",
       "      <td>0.065132</td>\n",
       "      <td>0.059893</td>\n",
       "      <td>0.038992</td>\n",
       "      <td>0.041494</td>\n",
       "      <td>0.048708</td>\n",
       "      <td>0.037270</td>\n",
       "      <td>0.039065</td>\n",
       "      <td>0.038648</td>\n",
       "      <td>0.030835</td>\n",
       "      <td>0.025197</td>\n",
       "      <td>...</td>\n",
       "      <td>0.011130</td>\n",
       "      <td>0.019795</td>\n",
       "      <td>0.012399</td>\n",
       "      <td>0.048074</td>\n",
       "      <td>0.021082</td>\n",
       "      <td>0.030255</td>\n",
       "      <td>0.023656</td>\n",
       "      <td>0.014266</td>\n",
       "      <td>0.021481</td>\n",
       "      <td>SRR5892449.7189</td>\n",
       "    </tr>\n",
       "    <tr>\n",
       "      <th>2</th>\n",
       "      <td>0.068673</td>\n",
       "      <td>0.062148</td>\n",
       "      <td>0.036930</td>\n",
       "      <td>0.042465</td>\n",
       "      <td>0.053846</td>\n",
       "      <td>0.038121</td>\n",
       "      <td>0.039734</td>\n",
       "      <td>0.035885</td>\n",
       "      <td>0.030479</td>\n",
       "      <td>0.022378</td>\n",
       "      <td>...</td>\n",
       "      <td>0.010410</td>\n",
       "      <td>0.018492</td>\n",
       "      <td>0.010923</td>\n",
       "      <td>0.048458</td>\n",
       "      <td>0.018804</td>\n",
       "      <td>0.028591</td>\n",
       "      <td>0.024485</td>\n",
       "      <td>0.014772</td>\n",
       "      <td>0.022030</td>\n",
       "      <td>SRR5892449.19157</td>\n",
       "    </tr>\n",
       "    <tr>\n",
       "      <th>3</th>\n",
       "      <td>0.071805</td>\n",
       "      <td>0.062768</td>\n",
       "      <td>0.040806</td>\n",
       "      <td>0.043588</td>\n",
       "      <td>0.050869</td>\n",
       "      <td>0.039306</td>\n",
       "      <td>0.040510</td>\n",
       "      <td>0.037886</td>\n",
       "      <td>0.030348</td>\n",
       "      <td>0.022514</td>\n",
       "      <td>...</td>\n",
       "      <td>0.009748</td>\n",
       "      <td>0.018962</td>\n",
       "      <td>0.009748</td>\n",
       "      <td>0.049902</td>\n",
       "      <td>0.019495</td>\n",
       "      <td>0.027822</td>\n",
       "      <td>0.022869</td>\n",
       "      <td>0.012352</td>\n",
       "      <td>0.021074</td>\n",
       "      <td>SRR5892449.5164</td>\n",
       "    </tr>\n",
       "    <tr>\n",
       "      <th>4</th>\n",
       "      <td>0.064267</td>\n",
       "      <td>0.054721</td>\n",
       "      <td>0.036237</td>\n",
       "      <td>0.043143</td>\n",
       "      <td>0.043793</td>\n",
       "      <td>0.031849</td>\n",
       "      <td>0.039324</td>\n",
       "      <td>0.036054</td>\n",
       "      <td>0.031037</td>\n",
       "      <td>0.026223</td>\n",
       "      <td>...</td>\n",
       "      <td>0.014665</td>\n",
       "      <td>0.020190</td>\n",
       "      <td>0.013406</td>\n",
       "      <td>0.048525</td>\n",
       "      <td>0.023460</td>\n",
       "      <td>0.029757</td>\n",
       "      <td>0.028031</td>\n",
       "      <td>0.019032</td>\n",
       "      <td>0.022181</td>\n",
       "      <td>SRR5892449.19870</td>\n",
       "    </tr>\n",
       "  </tbody>\n",
       "</table>\n",
       "<p>5 rows × 33 columns</p>\n",
       "</div>"
      ],
      "text/plain": [
       "          0         1         2         3         4         5         6  \\\n",
       "0  0.059220  0.048021  0.038510  0.040575  0.044750  0.035360  0.036852   \n",
       "1  0.065132  0.059893  0.038992  0.041494  0.048708  0.037270  0.039065   \n",
       "2  0.068673  0.062148  0.036930  0.042465  0.053846  0.038121  0.039734   \n",
       "3  0.071805  0.062768  0.040806  0.043588  0.050869  0.039306  0.040510   \n",
       "4  0.064267  0.054721  0.036237  0.043143  0.043793  0.031849  0.039324   \n",
       "\n",
       "          7         8         9  ...        23        24        25        26  \\\n",
       "0  0.037320  0.029844  0.028125  ...  0.016263  0.022744  0.016369  0.043831   \n",
       "1  0.038648  0.030835  0.025197  ...  0.011130  0.019795  0.012399  0.048074   \n",
       "2  0.035885  0.030479  0.022378  ...  0.010410  0.018492  0.010923  0.048458   \n",
       "3  0.037886  0.030348  0.022514  ...  0.009748  0.018962  0.009748  0.049902   \n",
       "4  0.036054  0.031037  0.026223  ...  0.014665  0.020190  0.013406  0.048525   \n",
       "\n",
       "         27        28        29        30        31               ids  \n",
       "0  0.023799  0.029271  0.028050  0.019775  0.023724  SRR5892449.12156  \n",
       "1  0.021082  0.030255  0.023656  0.014266  0.021481   SRR5892449.7189  \n",
       "2  0.018804  0.028591  0.024485  0.014772  0.022030  SRR5892449.19157  \n",
       "3  0.019495  0.027822  0.022869  0.012352  0.021074   SRR5892449.5164  \n",
       "4  0.023460  0.029757  0.028031  0.019032  0.022181  SRR5892449.19870  \n",
       "\n",
       "[5 rows x 33 columns]"
      ]
     },
     "execution_count": 35,
     "metadata": {},
     "output_type": "execute_result"
    }
   ],
   "source": [
    "hist_df= pd.DataFrame(hist)\n",
    "hist_df.rename(columns={hist_df.iloc[:,-1].name:'ids'}, inplace=True)\n",
    "hist_df.head()"
   ]
  },
  {
   "cell_type": "markdown",
   "metadata": {},
   "source": [
    "# Dimensionality reduction with PCA and clustering with k-means "
   ]
  },
  {
   "cell_type": "code",
   "execution_count": 36,
   "metadata": {},
   "outputs": [],
   "source": [
    "from sklearn.decomposition import PCA\n",
    "from sklearn.cluster import KMeans"
   ]
  },
  {
   "cell_type": "code",
   "execution_count": 37,
   "metadata": {},
   "outputs": [
    {
     "data": {
      "text/html": [
       "<style>#sk-container-id-2 {color: black;}#sk-container-id-2 pre{padding: 0;}#sk-container-id-2 div.sk-toggleable {background-color: white;}#sk-container-id-2 label.sk-toggleable__label {cursor: pointer;display: block;width: 100%;margin-bottom: 0;padding: 0.3em;box-sizing: border-box;text-align: center;}#sk-container-id-2 label.sk-toggleable__label-arrow:before {content: \"▸\";float: left;margin-right: 0.25em;color: #696969;}#sk-container-id-2 label.sk-toggleable__label-arrow:hover:before {color: black;}#sk-container-id-2 div.sk-estimator:hover label.sk-toggleable__label-arrow:before {color: black;}#sk-container-id-2 div.sk-toggleable__content {max-height: 0;max-width: 0;overflow: hidden;text-align: left;background-color: #f0f8ff;}#sk-container-id-2 div.sk-toggleable__content pre {margin: 0.2em;color: black;border-radius: 0.25em;background-color: #f0f8ff;}#sk-container-id-2 input.sk-toggleable__control:checked~div.sk-toggleable__content {max-height: 200px;max-width: 100%;overflow: auto;}#sk-container-id-2 input.sk-toggleable__control:checked~label.sk-toggleable__label-arrow:before {content: \"▾\";}#sk-container-id-2 div.sk-estimator input.sk-toggleable__control:checked~label.sk-toggleable__label {background-color: #d4ebff;}#sk-container-id-2 div.sk-label input.sk-toggleable__control:checked~label.sk-toggleable__label {background-color: #d4ebff;}#sk-container-id-2 input.sk-hidden--visually {border: 0;clip: rect(1px 1px 1px 1px);clip: rect(1px, 1px, 1px, 1px);height: 1px;margin: -1px;overflow: hidden;padding: 0;position: absolute;width: 1px;}#sk-container-id-2 div.sk-estimator {font-family: monospace;background-color: #f0f8ff;border: 1px dotted black;border-radius: 0.25em;box-sizing: border-box;margin-bottom: 0.5em;}#sk-container-id-2 div.sk-estimator:hover {background-color: #d4ebff;}#sk-container-id-2 div.sk-parallel-item::after {content: \"\";width: 100%;border-bottom: 1px solid gray;flex-grow: 1;}#sk-container-id-2 div.sk-label:hover label.sk-toggleable__label {background-color: #d4ebff;}#sk-container-id-2 div.sk-serial::before {content: \"\";position: absolute;border-left: 1px solid gray;box-sizing: border-box;top: 0;bottom: 0;left: 50%;z-index: 0;}#sk-container-id-2 div.sk-serial {display: flex;flex-direction: column;align-items: center;background-color: white;padding-right: 0.2em;padding-left: 0.2em;position: relative;}#sk-container-id-2 div.sk-item {position: relative;z-index: 1;}#sk-container-id-2 div.sk-parallel {display: flex;align-items: stretch;justify-content: center;background-color: white;position: relative;}#sk-container-id-2 div.sk-item::before, #sk-container-id-2 div.sk-parallel-item::before {content: \"\";position: absolute;border-left: 1px solid gray;box-sizing: border-box;top: 0;bottom: 0;left: 50%;z-index: -1;}#sk-container-id-2 div.sk-parallel-item {display: flex;flex-direction: column;z-index: 1;position: relative;background-color: white;}#sk-container-id-2 div.sk-parallel-item:first-child::after {align-self: flex-end;width: 50%;}#sk-container-id-2 div.sk-parallel-item:last-child::after {align-self: flex-start;width: 50%;}#sk-container-id-2 div.sk-parallel-item:only-child::after {width: 0;}#sk-container-id-2 div.sk-dashed-wrapped {border: 1px dashed gray;margin: 0 0.4em 0.5em 0.4em;box-sizing: border-box;padding-bottom: 0.4em;background-color: white;}#sk-container-id-2 div.sk-label label {font-family: monospace;font-weight: bold;display: inline-block;line-height: 1.2em;}#sk-container-id-2 div.sk-label-container {text-align: center;}#sk-container-id-2 div.sk-container {/* jupyter's `normalize.less` sets `[hidden] { display: none; }` but bootstrap.min.css set `[hidden] { display: none !important; }` so we also need the `!important` here to be able to override the default hidden behavior on the sphinx rendered scikit-learn.org. See: https://github.com/scikit-learn/scikit-learn/issues/21755 */display: inline-block !important;position: relative;}#sk-container-id-2 div.sk-text-repr-fallback {display: none;}</style><div id=\"sk-container-id-2\" class=\"sk-top-container\"><div class=\"sk-text-repr-fallback\"><pre>PCA(n_components=2)</pre><b>In a Jupyter environment, please rerun this cell to show the HTML representation or trust the notebook. <br />On GitHub, the HTML representation is unable to render, please try loading this page with nbviewer.org.</b></div><div class=\"sk-container\" hidden><div class=\"sk-item\"><div class=\"sk-estimator sk-toggleable\"><input class=\"sk-toggleable__control sk-hidden--visually\" id=\"sk-estimator-id-2\" type=\"checkbox\" checked><label for=\"sk-estimator-id-2\" class=\"sk-toggleable__label sk-toggleable__label-arrow\">PCA</label><div class=\"sk-toggleable__content\"><pre>PCA(n_components=2)</pre></div></div></div></div></div>"
      ],
      "text/plain": [
       "PCA(n_components=2)"
      ]
     },
     "execution_count": 37,
     "metadata": {},
     "output_type": "execute_result"
    }
   ],
   "source": [
    "pca = PCA(n_components=2)\n",
    "pca.fit(hist_df.iloc[:,:-2])"
   ]
  },
  {
   "cell_type": "code",
   "execution_count": 38,
   "metadata": {},
   "outputs": [
    {
     "data": {
      "text/plain": [
       "array([1.19915919e-03, 6.63358065e-05])"
      ]
     },
     "execution_count": 38,
     "metadata": {},
     "output_type": "execute_result"
    }
   ],
   "source": [
    "## Components and variance explained \n",
    "pca.explained_variance_\n",
    "#pca.components_"
   ]
  },
  {
   "cell_type": "code",
   "execution_count": 39,
   "metadata": {},
   "outputs": [
    {
     "data": {
      "text/html": [
       "<div>\n",
       "<style scoped>\n",
       "    .dataframe tbody tr th:only-of-type {\n",
       "        vertical-align: middle;\n",
       "    }\n",
       "\n",
       "    .dataframe tbody tr th {\n",
       "        vertical-align: top;\n",
       "    }\n",
       "\n",
       "    .dataframe thead th {\n",
       "        text-align: right;\n",
       "    }\n",
       "</style>\n",
       "<table border=\"1\" class=\"dataframe\">\n",
       "  <thead>\n",
       "    <tr style=\"text-align: right;\">\n",
       "      <th></th>\n",
       "      <th>comp1</th>\n",
       "      <th>comp2</th>\n",
       "      <th>ids</th>\n",
       "      <th>coverage</th>\n",
       "      <th>repr_read_len</th>\n",
       "      <th>id_cluster</th>\n",
       "      <th>transform</th>\n",
       "      <th>mt</th>\n",
       "    </tr>\n",
       "  </thead>\n",
       "  <tbody>\n",
       "    <tr>\n",
       "      <th>16</th>\n",
       "      <td>0.249961</td>\n",
       "      <td>0.018859</td>\n",
       "      <td>SRR5892449.16013</td>\n",
       "      <td>82</td>\n",
       "      <td>42906</td>\n",
       "      <td>17</td>\n",
       "      <td>6.357552</td>\n",
       "      <td>32</td>\n",
       "    </tr>\n",
       "    <tr>\n",
       "      <th>17</th>\n",
       "      <td>0.194803</td>\n",
       "      <td>-0.002892</td>\n",
       "      <td>SRR5892449.18856</td>\n",
       "      <td>69</td>\n",
       "      <td>42640</td>\n",
       "      <td>18</td>\n",
       "      <td>6.108524</td>\n",
       "      <td>32</td>\n",
       "    </tr>\n",
       "    <tr>\n",
       "      <th>63</th>\n",
       "      <td>0.223506</td>\n",
       "      <td>0.003260</td>\n",
       "      <td>SRR5892449.18969</td>\n",
       "      <td>58</td>\n",
       "      <td>35773</td>\n",
       "      <td>64</td>\n",
       "      <td>5.857981</td>\n",
       "      <td>32</td>\n",
       "    </tr>\n",
       "    <tr>\n",
       "      <th>71</th>\n",
       "      <td>0.205763</td>\n",
       "      <td>0.003661</td>\n",
       "      <td>SRR5892449.29678</td>\n",
       "      <td>30</td>\n",
       "      <td>35245</td>\n",
       "      <td>72</td>\n",
       "      <td>4.906891</td>\n",
       "      <td>32</td>\n",
       "    </tr>\n",
       "    <tr>\n",
       "      <th>80</th>\n",
       "      <td>0.247855</td>\n",
       "      <td>0.004846</td>\n",
       "      <td>SRR5892449.12370</td>\n",
       "      <td>26</td>\n",
       "      <td>34143</td>\n",
       "      <td>81</td>\n",
       "      <td>4.700440</td>\n",
       "      <td>32</td>\n",
       "    </tr>\n",
       "    <tr>\n",
       "      <th>81</th>\n",
       "      <td>0.001319</td>\n",
       "      <td>-0.000911</td>\n",
       "      <td>SRR5892449.45877</td>\n",
       "      <td>39</td>\n",
       "      <td>34069</td>\n",
       "      <td>82</td>\n",
       "      <td>5.285402</td>\n",
       "      <td>1</td>\n",
       "    </tr>\n",
       "    <tr>\n",
       "      <th>89</th>\n",
       "      <td>0.118808</td>\n",
       "      <td>0.016357</td>\n",
       "      <td>SRR5892449.9739</td>\n",
       "      <td>67</td>\n",
       "      <td>33518</td>\n",
       "      <td>90</td>\n",
       "      <td>6.066089</td>\n",
       "      <td>32</td>\n",
       "    </tr>\n",
       "    <tr>\n",
       "      <th>98</th>\n",
       "      <td>0.241503</td>\n",
       "      <td>0.004830</td>\n",
       "      <td>SRR5892449.22604</td>\n",
       "      <td>28</td>\n",
       "      <td>32839</td>\n",
       "      <td>99</td>\n",
       "      <td>4.807355</td>\n",
       "      <td>32</td>\n",
       "    </tr>\n",
       "    <tr>\n",
       "      <th>107</th>\n",
       "      <td>-0.014169</td>\n",
       "      <td>0.012609</td>\n",
       "      <td>SRR5892449.36049</td>\n",
       "      <td>31</td>\n",
       "      <td>32255</td>\n",
       "      <td>108</td>\n",
       "      <td>4.954196</td>\n",
       "      <td>1</td>\n",
       "    </tr>\n",
       "    <tr>\n",
       "      <th>111</th>\n",
       "      <td>0.001006</td>\n",
       "      <td>-0.005880</td>\n",
       "      <td>SRR5892449.37875</td>\n",
       "      <td>29</td>\n",
       "      <td>31943</td>\n",
       "      <td>112</td>\n",
       "      <td>4.857981</td>\n",
       "      <td>1</td>\n",
       "    </tr>\n",
       "    <tr>\n",
       "      <th>171</th>\n",
       "      <td>0.237428</td>\n",
       "      <td>0.001742</td>\n",
       "      <td>SRR5892449.40354</td>\n",
       "      <td>43</td>\n",
       "      <td>28741</td>\n",
       "      <td>172</td>\n",
       "      <td>5.426265</td>\n",
       "      <td>32</td>\n",
       "    </tr>\n",
       "    <tr>\n",
       "      <th>214</th>\n",
       "      <td>-0.013767</td>\n",
       "      <td>0.006677</td>\n",
       "      <td>SRR5892449.41036</td>\n",
       "      <td>27</td>\n",
       "      <td>26965</td>\n",
       "      <td>215</td>\n",
       "      <td>4.754888</td>\n",
       "      <td>1</td>\n",
       "    </tr>\n",
       "    <tr>\n",
       "      <th>282</th>\n",
       "      <td>0.217009</td>\n",
       "      <td>0.015387</td>\n",
       "      <td>SRR5892449.25665</td>\n",
       "      <td>26</td>\n",
       "      <td>24448</td>\n",
       "      <td>283</td>\n",
       "      <td>4.700440</td>\n",
       "      <td>32</td>\n",
       "    </tr>\n",
       "    <tr>\n",
       "      <th>292</th>\n",
       "      <td>-0.017883</td>\n",
       "      <td>0.008032</td>\n",
       "      <td>SRR5892449.36404</td>\n",
       "      <td>31</td>\n",
       "      <td>24106</td>\n",
       "      <td>293</td>\n",
       "      <td>4.954196</td>\n",
       "      <td>1</td>\n",
       "    </tr>\n",
       "    <tr>\n",
       "      <th>338</th>\n",
       "      <td>0.217575</td>\n",
       "      <td>-0.006228</td>\n",
       "      <td>SRR5892449.36605</td>\n",
       "      <td>43</td>\n",
       "      <td>23206</td>\n",
       "      <td>339</td>\n",
       "      <td>5.426265</td>\n",
       "      <td>32</td>\n",
       "    </tr>\n",
       "    <tr>\n",
       "      <th>342</th>\n",
       "      <td>0.205521</td>\n",
       "      <td>-0.005137</td>\n",
       "      <td>SRR5892449.45137</td>\n",
       "      <td>26</td>\n",
       "      <td>23165</td>\n",
       "      <td>343</td>\n",
       "      <td>4.700440</td>\n",
       "      <td>32</td>\n",
       "    </tr>\n",
       "    <tr>\n",
       "      <th>349</th>\n",
       "      <td>0.276859</td>\n",
       "      <td>0.013455</td>\n",
       "      <td>SRR5892449.45685</td>\n",
       "      <td>27</td>\n",
       "      <td>23009</td>\n",
       "      <td>350</td>\n",
       "      <td>4.754888</td>\n",
       "      <td>32</td>\n",
       "    </tr>\n",
       "    <tr>\n",
       "      <th>676</th>\n",
       "      <td>0.250193</td>\n",
       "      <td>0.002735</td>\n",
       "      <td>SRR5892449.35780</td>\n",
       "      <td>32</td>\n",
       "      <td>18126</td>\n",
       "      <td>677</td>\n",
       "      <td>5.000000</td>\n",
       "      <td>32</td>\n",
       "    </tr>\n",
       "  </tbody>\n",
       "</table>\n",
       "</div>"
      ],
      "text/plain": [
       "        comp1     comp2               ids  coverage  repr_read_len  \\\n",
       "16   0.249961  0.018859  SRR5892449.16013        82          42906   \n",
       "17   0.194803 -0.002892  SRR5892449.18856        69          42640   \n",
       "63   0.223506  0.003260  SRR5892449.18969        58          35773   \n",
       "71   0.205763  0.003661  SRR5892449.29678        30          35245   \n",
       "80   0.247855  0.004846  SRR5892449.12370        26          34143   \n",
       "81   0.001319 -0.000911  SRR5892449.45877        39          34069   \n",
       "89   0.118808  0.016357   SRR5892449.9739        67          33518   \n",
       "98   0.241503  0.004830  SRR5892449.22604        28          32839   \n",
       "107 -0.014169  0.012609  SRR5892449.36049        31          32255   \n",
       "111  0.001006 -0.005880  SRR5892449.37875        29          31943   \n",
       "171  0.237428  0.001742  SRR5892449.40354        43          28741   \n",
       "214 -0.013767  0.006677  SRR5892449.41036        27          26965   \n",
       "282  0.217009  0.015387  SRR5892449.25665        26          24448   \n",
       "292 -0.017883  0.008032  SRR5892449.36404        31          24106   \n",
       "338  0.217575 -0.006228  SRR5892449.36605        43          23206   \n",
       "342  0.205521 -0.005137  SRR5892449.45137        26          23165   \n",
       "349  0.276859  0.013455  SRR5892449.45685        27          23009   \n",
       "676  0.250193  0.002735  SRR5892449.35780        32          18126   \n",
       "\n",
       "     id_cluster  transform  mt  \n",
       "16           17   6.357552  32  \n",
       "17           18   6.108524  32  \n",
       "63           64   5.857981  32  \n",
       "71           72   4.906891  32  \n",
       "80           81   4.700440  32  \n",
       "81           82   5.285402   1  \n",
       "89           90   6.066089  32  \n",
       "98           99   4.807355  32  \n",
       "107         108   4.954196   1  \n",
       "111         112   4.857981   1  \n",
       "171         172   5.426265  32  \n",
       "214         215   4.754888   1  \n",
       "282         283   4.700440  32  \n",
       "292         293   4.954196   1  \n",
       "338         339   5.426265  32  \n",
       "342         343   4.700440  32  \n",
       "349         350   4.754888  32  \n",
       "676         677   5.000000  32  "
      ]
     },
     "execution_count": 39,
     "metadata": {},
     "output_type": "execute_result"
    }
   ],
   "source": [
    "kmer_reduction = pca.fit_transform(hist_df.iloc[:,:-2])\n",
    "kmer_reduction = pd.DataFrame(kmer_reduction, columns=['comp1', 'comp2'])\n",
    "\n",
    "## merging the dataframe with ids and other relevant information\n",
    "kmer_reduction ['ids'] = hist_df['ids']\n",
    "kmer_reduction = kmer_reduction.merge(clusters, how='left', left_on='ids', right_on='id_longest_read')\n",
    "kmer_reduction.drop(columns='id_longest_read', inplace=True)\n",
    "\n",
    "## Annotate which reads are mitochondrial\n",
    "kmer_reduction['mt'] = (kmer_reduction['ids'].isin(ids_mt).astype(int) + 1) ** 5\n",
    "kmer_reduction = kmer_reduction[kmer_reduction['coverage'] > min_coverage]\n",
    "kmer_reduction"
   ]
  },
  {
   "cell_type": "code",
   "execution_count": 40,
   "metadata": {},
   "outputs": [
    {
     "name": "stderr",
     "output_type": "stream",
     "text": [
      "No artists with labels found to put in legend.  Note that artists whose label start with an underscore are ignored when legend() is called with no argument.\n"
     ]
    },
    {
     "data": {
      "text/plain": [
       "Text(0, 0.5, 'comp2')"
      ]
     },
     "execution_count": 40,
     "metadata": {},
     "output_type": "execute_result"
    },
    {
     "data": {
      "image/png": "[encoded data removed]",
      "text/plain": [
       "<Figure size 640x480 with 2 Axes>"
      ]
     },
     "metadata": {},
     "output_type": "display_data"
    }
   ],
   "source": [
    "sc = plt.scatter(kmer_reduction['comp1'],kmer_reduction['comp2'], c=kmer_reduction['coverage'], s=kmer_reduction['mt'])\n",
    "# legend\n",
    "# Add clusters_list colorbar\n",
    "cbar = plt.colorbar(sc)\n",
    "cbar.set_label('Color Scale')\n",
    "plt.legend()\n",
    "plt.xlabel('comp1')\n",
    "plt.ylabel('comp2')"
   ]
  },
  {
   "cell_type": "code",
   "execution_count": 41,
   "metadata": {},
   "outputs": [
    {
     "name": "stdout",
     "output_type": "stream",
     "text": [
      "Initialization complete\n",
      "Iteration 0, inertia 0.021790841115488117.\n",
      "Iteration 1, inertia 0.019206422145011608.\n",
      "Converged at iteration 1: strict convergence.\n"
     ]
    }
   ],
   "source": [
    "kmeans = KMeans(n_clusters=2, max_iter=100, init='k-means++', random_state=0, n_init=1,verbose=1)\n",
    "mt_prediction = kmeans.fit_predict(kmer_reduction[['comp1','comp2']])#, sample_weight=kmer_reduction['coverage'])\n",
    "kmer_reduction['cluster_prediction'] = mt_prediction"
   ]
  },
  {
   "cell_type": "code",
   "execution_count": 42,
   "metadata": {},
   "outputs": [
    {
     "data": {
      "text/plain": [
       "Text(0, 0.5, 'comp2')"
      ]
     },
     "execution_count": 42,
     "metadata": {},
     "output_type": "execute_result"
    },
    {
     "data": {
      "image/png": "[encoded data removed]",
      "text/plain": [
       "<Figure size 640x480 with 1 Axes>"
      ]
     },
     "metadata": {},
     "output_type": "display_data"
    }
   ],
   "source": [
    "plt.scatter(x=kmer_reduction['comp1'], y=kmer_reduction['comp2'], c=mt_prediction, s=kmer_reduction['mt'])\n",
    "plt.xlabel('comp1')\n",
    "plt.ylabel('comp2')"
   ]
  },
  {
   "cell_type": "markdown",
   "metadata": {},
   "source": [
    "# Get the cluster of interest\n",
    "\n",
    "This step is clusters_list pain in the ass, but since I am looking to keep the free-reference. "
   ]
  },
  {
   "cell_type": "code",
   "execution_count": 43,
   "metadata": {},
   "outputs": [
    {
     "data": {
      "text/html": [
       "<div>\n",
       "<style scoped>\n",
       "    .dataframe tbody tr th:only-of-type {\n",
       "        vertical-align: middle;\n",
       "    }\n",
       "\n",
       "    .dataframe tbody tr th {\n",
       "        vertical-align: top;\n",
       "    }\n",
       "\n",
       "    .dataframe thead th {\n",
       "        text-align: right;\n",
       "    }\n",
       "</style>\n",
       "<table border=\"1\" class=\"dataframe\">\n",
       "  <thead>\n",
       "    <tr style=\"text-align: right;\">\n",
       "      <th></th>\n",
       "      <th>comp1</th>\n",
       "      <th>comp2</th>\n",
       "      <th>ids</th>\n",
       "      <th>coverage</th>\n",
       "      <th>repr_read_len</th>\n",
       "      <th>id_cluster</th>\n",
       "      <th>transform</th>\n",
       "      <th>mt</th>\n",
       "      <th>cluster_prediction</th>\n",
       "    </tr>\n",
       "  </thead>\n",
       "  <tbody>\n",
       "    <tr>\n",
       "      <th>80</th>\n",
       "      <td>0.247855</td>\n",
       "      <td>0.004846</td>\n",
       "      <td>SRR5892449.12370</td>\n",
       "      <td>26</td>\n",
       "      <td>34143</td>\n",
       "      <td>81</td>\n",
       "      <td>4.700440</td>\n",
       "      <td>32</td>\n",
       "      <td>1</td>\n",
       "    </tr>\n",
       "    <tr>\n",
       "      <th>282</th>\n",
       "      <td>0.217009</td>\n",
       "      <td>0.015387</td>\n",
       "      <td>SRR5892449.25665</td>\n",
       "      <td>26</td>\n",
       "      <td>24448</td>\n",
       "      <td>283</td>\n",
       "      <td>4.700440</td>\n",
       "      <td>32</td>\n",
       "      <td>1</td>\n",
       "    </tr>\n",
       "    <tr>\n",
       "      <th>342</th>\n",
       "      <td>0.205521</td>\n",
       "      <td>-0.005137</td>\n",
       "      <td>SRR5892449.45137</td>\n",
       "      <td>26</td>\n",
       "      <td>23165</td>\n",
       "      <td>343</td>\n",
       "      <td>4.700440</td>\n",
       "      <td>32</td>\n",
       "      <td>1</td>\n",
       "    </tr>\n",
       "    <tr>\n",
       "      <th>349</th>\n",
       "      <td>0.276859</td>\n",
       "      <td>0.013455</td>\n",
       "      <td>SRR5892449.45685</td>\n",
       "      <td>27</td>\n",
       "      <td>23009</td>\n",
       "      <td>350</td>\n",
       "      <td>4.754888</td>\n",
       "      <td>32</td>\n",
       "      <td>1</td>\n",
       "    </tr>\n",
       "    <tr>\n",
       "      <th>98</th>\n",
       "      <td>0.241503</td>\n",
       "      <td>0.004830</td>\n",
       "      <td>SRR5892449.22604</td>\n",
       "      <td>28</td>\n",
       "      <td>32839</td>\n",
       "      <td>99</td>\n",
       "      <td>4.807355</td>\n",
       "      <td>32</td>\n",
       "      <td>1</td>\n",
       "    </tr>\n",
       "    <tr>\n",
       "      <th>71</th>\n",
       "      <td>0.205763</td>\n",
       "      <td>0.003661</td>\n",
       "      <td>SRR5892449.29678</td>\n",
       "      <td>30</td>\n",
       "      <td>35245</td>\n",
       "      <td>72</td>\n",
       "      <td>4.906891</td>\n",
       "      <td>32</td>\n",
       "      <td>1</td>\n",
       "    </tr>\n",
       "    <tr>\n",
       "      <th>676</th>\n",
       "      <td>0.250193</td>\n",
       "      <td>0.002735</td>\n",
       "      <td>SRR5892449.35780</td>\n",
       "      <td>32</td>\n",
       "      <td>18126</td>\n",
       "      <td>677</td>\n",
       "      <td>5.000000</td>\n",
       "      <td>32</td>\n",
       "      <td>1</td>\n",
       "    </tr>\n",
       "    <tr>\n",
       "      <th>171</th>\n",
       "      <td>0.237428</td>\n",
       "      <td>0.001742</td>\n",
       "      <td>SRR5892449.40354</td>\n",
       "      <td>43</td>\n",
       "      <td>28741</td>\n",
       "      <td>172</td>\n",
       "      <td>5.426265</td>\n",
       "      <td>32</td>\n",
       "      <td>1</td>\n",
       "    </tr>\n",
       "    <tr>\n",
       "      <th>338</th>\n",
       "      <td>0.217575</td>\n",
       "      <td>-0.006228</td>\n",
       "      <td>SRR5892449.36605</td>\n",
       "      <td>43</td>\n",
       "      <td>23206</td>\n",
       "      <td>339</td>\n",
       "      <td>5.426265</td>\n",
       "      <td>32</td>\n",
       "      <td>1</td>\n",
       "    </tr>\n",
       "    <tr>\n",
       "      <th>63</th>\n",
       "      <td>0.223506</td>\n",
       "      <td>0.003260</td>\n",
       "      <td>SRR5892449.18969</td>\n",
       "      <td>58</td>\n",
       "      <td>35773</td>\n",
       "      <td>64</td>\n",
       "      <td>5.857981</td>\n",
       "      <td>32</td>\n",
       "      <td>1</td>\n",
       "    </tr>\n",
       "    <tr>\n",
       "      <th>89</th>\n",
       "      <td>0.118808</td>\n",
       "      <td>0.016357</td>\n",
       "      <td>SRR5892449.9739</td>\n",
       "      <td>67</td>\n",
       "      <td>33518</td>\n",
       "      <td>90</td>\n",
       "      <td>6.066089</td>\n",
       "      <td>32</td>\n",
       "      <td>1</td>\n",
       "    </tr>\n",
       "    <tr>\n",
       "      <th>17</th>\n",
       "      <td>0.194803</td>\n",
       "      <td>-0.002892</td>\n",
       "      <td>SRR5892449.18856</td>\n",
       "      <td>69</td>\n",
       "      <td>42640</td>\n",
       "      <td>18</td>\n",
       "      <td>6.108524</td>\n",
       "      <td>32</td>\n",
       "      <td>1</td>\n",
       "    </tr>\n",
       "    <tr>\n",
       "      <th>16</th>\n",
       "      <td>0.249961</td>\n",
       "      <td>0.018859</td>\n",
       "      <td>SRR5892449.16013</td>\n",
       "      <td>82</td>\n",
       "      <td>42906</td>\n",
       "      <td>17</td>\n",
       "      <td>6.357552</td>\n",
       "      <td>32</td>\n",
       "      <td>1</td>\n",
       "    </tr>\n",
       "  </tbody>\n",
       "</table>\n",
       "</div>"
      ],
      "text/plain": [
       "        comp1     comp2               ids  coverage  repr_read_len  \\\n",
       "80   0.247855  0.004846  SRR5892449.12370        26          34143   \n",
       "282  0.217009  0.015387  SRR5892449.25665        26          24448   \n",
       "342  0.205521 -0.005137  SRR5892449.45137        26          23165   \n",
       "349  0.276859  0.013455  SRR5892449.45685        27          23009   \n",
       "98   0.241503  0.004830  SRR5892449.22604        28          32839   \n",
       "71   0.205763  0.003661  SRR5892449.29678        30          35245   \n",
       "676  0.250193  0.002735  SRR5892449.35780        32          18126   \n",
       "171  0.237428  0.001742  SRR5892449.40354        43          28741   \n",
       "338  0.217575 -0.006228  SRR5892449.36605        43          23206   \n",
       "63   0.223506  0.003260  SRR5892449.18969        58          35773   \n",
       "89   0.118808  0.016357   SRR5892449.9739        67          33518   \n",
       "17   0.194803 -0.002892  SRR5892449.18856        69          42640   \n",
       "16   0.249961  0.018859  SRR5892449.16013        82          42906   \n",
       "\n",
       "     id_cluster  transform  mt  cluster_prediction  \n",
       "80           81   4.700440  32                   1  \n",
       "282         283   4.700440  32                   1  \n",
       "342         343   4.700440  32                   1  \n",
       "349         350   4.754888  32                   1  \n",
       "98           99   4.807355  32                   1  \n",
       "71           72   4.906891  32                   1  \n",
       "676         677   5.000000  32                   1  \n",
       "171         172   5.426265  32                   1  \n",
       "338         339   5.426265  32                   1  \n",
       "63           64   5.857981  32                   1  \n",
       "89           90   6.066089  32                   1  \n",
       "17           18   6.108524  32                   1  \n",
       "16           17   6.357552  32                   1  "
      ]
     },
     "execution_count": 43,
     "metadata": {},
     "output_type": "execute_result"
    }
   ],
   "source": [
    "selected_cluster_id = kmer_reduction.loc[:, kmer_reduction.columns != 'ids'].groupby(by='cluster_prediction')['coverage'].median().idxmax()\n",
    "selected_cluster = kmer_reduction[kmer_reduction['cluster_prediction'] == selected_cluster_id]\n",
    "selected_cluster.sort_values('coverage')"
   ]
  },
  {
   "cell_type": "code",
   "execution_count": 44,
   "metadata": {},
   "outputs": [
    {
     "name": "stdout",
     "output_type": "stream",
     "text": [
      "557 reads retrieved\n"
     ]
    }
   ],
   "source": [
    "sequences_ids = set()\n",
    "for i in selected_cluster['id_cluster']:\n",
    "    sequences_ids.update(clusters_list.get_cluster(i).id_sequences)\n",
    "write_fasta(fasta=fasta, sequences_ids=sequences_ids, output='test/mt_reads_v1.fasta')"
   ]
  }
 ],
 "metadata": {
  "kernelspec": {
   "display_name": "mitnanex",
   "language": "python",
   "name": "python3"
  },
  "language_info": {
   "codemirror_mode": {
    "name": "ipython",
    "version": 3
   },
   "file_extension": ".py",
   "mimetype": "text/x-python",
   "name": "python",
   "nbconvert_exporter": "python",
   "pygments_lexer": "ipython3",
   "version": "3.10.12"
  },
  "orig_nbformat": 4
 },
 "nbformat": 4,
 "nbformat_minor": 2
}

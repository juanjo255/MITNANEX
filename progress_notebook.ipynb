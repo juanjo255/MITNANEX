{
 "cells": [
  {
   "cell_type": "code",
   "execution_count": 204,
   "metadata": {},
   "outputs": [],
   "source": [
    "from src.mitnanex import run\n",
    "import pandas as pd\n",
    "import matplotlib.pyplot as plt\n",
    "from sklearn.neighbors import KernelDensity"
   ]
  },
  {
   "cell_type": "code",
   "execution_count": 205,
   "metadata": {},
   "outputs": [],
   "source": [
    "prefix = 's_cervisae_CEN_PK113-7D_SRR5892449_reads'\n",
    "wd = 'test/s_cervisae_CEN_PK113-7D/mitnanex_results/'\n",
    "\n",
    "clusters_list = run(f\"{wd}{prefix}_containments.paf\", 0.4)\n",
    "\n",
    "# I need to plot the coverage of clusters\n",
    "coverages_df = pd.DataFrame(\n",
    "    {\n",
    "        \"coverage\": [i.coverage for i in clusters_list.clusters],\n",
    "        \"repr_read_len\": [i.longest_read_length for i in clusters_list.clusters],\n",
    "        \"id_longest_read\": [i.longest_read_id for i in clusters_list.clusters],\n",
    "        \"id_cluster\":[i.id_cluster for i in clusters_list.clusters],\n",
    "    }\n",
    ")"
   ]
  },
  {
   "cell_type": "code",
   "execution_count": 206,
   "metadata": {},
   "outputs": [
    {
     "data": {
      "text/html": [
       "<div>\n",
       "<style scoped>\n",
       "    .dataframe tbody tr th:only-of-type {\n",
       "        vertical-align: middle;\n",
       "    }\n",
       "\n",
       "    .dataframe tbody tr th {\n",
       "        vertical-align: top;\n",
       "    }\n",
       "\n",
       "    .dataframe thead th {\n",
       "        text-align: right;\n",
       "    }\n",
       "</style>\n",
       "<table border=\"1\" class=\"dataframe\">\n",
       "  <thead>\n",
       "    <tr style=\"text-align: right;\">\n",
       "      <th></th>\n",
       "      <th>coverage</th>\n",
       "      <th>repr_read_len</th>\n",
       "      <th>id_longest_read</th>\n",
       "      <th>id_cluster</th>\n",
       "    </tr>\n",
       "  </thead>\n",
       "  <tbody>\n",
       "    <tr>\n",
       "      <th>24</th>\n",
       "      <td>402</td>\n",
       "      <td>42640</td>\n",
       "      <td>SRR5892449.18856</td>\n",
       "      <td>25</td>\n",
       "    </tr>\n",
       "    <tr>\n",
       "      <th>22</th>\n",
       "      <td>226</td>\n",
       "      <td>42850</td>\n",
       "      <td>SRR5892449.16013</td>\n",
       "      <td>23</td>\n",
       "    </tr>\n",
       "    <tr>\n",
       "      <th>38</th>\n",
       "      <td>184</td>\n",
       "      <td>40403</td>\n",
       "      <td>SRR5892449.4276</td>\n",
       "      <td>39</td>\n",
       "    </tr>\n",
       "    <tr>\n",
       "      <th>119</th>\n",
       "      <td>169</td>\n",
       "      <td>32348</td>\n",
       "      <td>SRR5892449.45081</td>\n",
       "      <td>120</td>\n",
       "    </tr>\n",
       "    <tr>\n",
       "      <th>49</th>\n",
       "      <td>152</td>\n",
       "      <td>38278</td>\n",
       "      <td>SRR5892449.17340</td>\n",
       "      <td>50</td>\n",
       "    </tr>\n",
       "  </tbody>\n",
       "</table>\n",
       "</div>"
      ],
      "text/plain": [
       "     coverage  repr_read_len   id_longest_read  id_cluster\n",
       "24        402          42640  SRR5892449.18856          25\n",
       "22        226          42850  SRR5892449.16013          23\n",
       "38        184          40403   SRR5892449.4276          39\n",
       "119       169          32348  SRR5892449.45081         120\n",
       "49        152          38278  SRR5892449.17340          50"
      ]
     },
     "execution_count": 206,
     "metadata": {},
     "output_type": "execute_result"
    }
   ],
   "source": [
    "# Test on the first 30 clusters\n",
    "import math\n",
    "clusters = coverages_df.sort_values(by='coverage', ascending=False)\n",
    "clusters.head()"
   ]
  },
  {
   "cell_type": "markdown",
   "metadata": {},
   "source": [
    "# Coverage\n",
    "\n",
    "The first step is to filter the reads by coverage. For that I will explore the use of Kernel Density since this is clusters_list one dimensional clustering."
   ]
  },
  {
   "cell_type": "code",
   "execution_count": 207,
   "metadata": {},
   "outputs": [
    {
     "data": {
      "text/html": [
       "<div>\n",
       "<style scoped>\n",
       "    .dataframe tbody tr th:only-of-type {\n",
       "        vertical-align: middle;\n",
       "    }\n",
       "\n",
       "    .dataframe tbody tr th {\n",
       "        vertical-align: top;\n",
       "    }\n",
       "\n",
       "    .dataframe thead th {\n",
       "        text-align: right;\n",
       "    }\n",
       "</style>\n",
       "<table border=\"1\" class=\"dataframe\">\n",
       "  <thead>\n",
       "    <tr style=\"text-align: right;\">\n",
       "      <th></th>\n",
       "      <th>coverage</th>\n",
       "      <th>repr_read_len</th>\n",
       "      <th>id_longest_read</th>\n",
       "      <th>id_cluster</th>\n",
       "      <th>transform</th>\n",
       "    </tr>\n",
       "  </thead>\n",
       "  <tbody>\n",
       "    <tr>\n",
       "      <th>24</th>\n",
       "      <td>402</td>\n",
       "      <td>42640</td>\n",
       "      <td>SRR5892449.18856</td>\n",
       "      <td>25</td>\n",
       "      <td>8.651052</td>\n",
       "    </tr>\n",
       "    <tr>\n",
       "      <th>22</th>\n",
       "      <td>226</td>\n",
       "      <td>42850</td>\n",
       "      <td>SRR5892449.16013</td>\n",
       "      <td>23</td>\n",
       "      <td>7.820179</td>\n",
       "    </tr>\n",
       "    <tr>\n",
       "      <th>38</th>\n",
       "      <td>184</td>\n",
       "      <td>40403</td>\n",
       "      <td>SRR5892449.4276</td>\n",
       "      <td>39</td>\n",
       "      <td>7.523562</td>\n",
       "    </tr>\n",
       "    <tr>\n",
       "      <th>119</th>\n",
       "      <td>169</td>\n",
       "      <td>32348</td>\n",
       "      <td>SRR5892449.45081</td>\n",
       "      <td>120</td>\n",
       "      <td>7.400879</td>\n",
       "    </tr>\n",
       "    <tr>\n",
       "      <th>49</th>\n",
       "      <td>152</td>\n",
       "      <td>38278</td>\n",
       "      <td>SRR5892449.17340</td>\n",
       "      <td>50</td>\n",
       "      <td>7.247928</td>\n",
       "    </tr>\n",
       "    <tr>\n",
       "      <th>...</th>\n",
       "      <td>...</td>\n",
       "      <td>...</td>\n",
       "      <td>...</td>\n",
       "      <td>...</td>\n",
       "      <td>...</td>\n",
       "    </tr>\n",
       "    <tr>\n",
       "      <th>253</th>\n",
       "      <td>2</td>\n",
       "      <td>25218</td>\n",
       "      <td>SRR5892449.23088</td>\n",
       "      <td>254</td>\n",
       "      <td>1.000000</td>\n",
       "    </tr>\n",
       "    <tr>\n",
       "      <th>244</th>\n",
       "      <td>2</td>\n",
       "      <td>25795</td>\n",
       "      <td>SRR5892449.12740</td>\n",
       "      <td>245</td>\n",
       "      <td>1.000000</td>\n",
       "    </tr>\n",
       "    <tr>\n",
       "      <th>235</th>\n",
       "      <td>2</td>\n",
       "      <td>26135</td>\n",
       "      <td>SRR5892449.6207</td>\n",
       "      <td>236</td>\n",
       "      <td>1.000000</td>\n",
       "    </tr>\n",
       "    <tr>\n",
       "      <th>228</th>\n",
       "      <td>2</td>\n",
       "      <td>26633</td>\n",
       "      <td>SRR5892449.18520</td>\n",
       "      <td>229</td>\n",
       "      <td>1.000000</td>\n",
       "    </tr>\n",
       "    <tr>\n",
       "      <th>538</th>\n",
       "      <td>2</td>\n",
       "      <td>4997</td>\n",
       "      <td>SRR5892449.41929</td>\n",
       "      <td>539</td>\n",
       "      <td>1.000000</td>\n",
       "    </tr>\n",
       "  </tbody>\n",
       "</table>\n",
       "<p>539 rows × 5 columns</p>\n",
       "</div>"
      ],
      "text/plain": [
       "     coverage  repr_read_len   id_longest_read  id_cluster  transform\n",
       "24        402          42640  SRR5892449.18856          25   8.651052\n",
       "22        226          42850  SRR5892449.16013          23   7.820179\n",
       "38        184          40403   SRR5892449.4276          39   7.523562\n",
       "119       169          32348  SRR5892449.45081         120   7.400879\n",
       "49        152          38278  SRR5892449.17340          50   7.247928\n",
       "..        ...            ...               ...         ...        ...\n",
       "253         2          25218  SRR5892449.23088         254   1.000000\n",
       "244         2          25795  SRR5892449.12740         245   1.000000\n",
       "235         2          26135   SRR5892449.6207         236   1.000000\n",
       "228         2          26633  SRR5892449.18520         229   1.000000\n",
       "538         2           4997  SRR5892449.41929         539   1.000000\n",
       "\n",
       "[539 rows x 5 columns]"
      ]
     },
     "execution_count": 207,
     "metadata": {},
     "output_type": "execute_result"
    }
   ],
   "source": [
    "clusters['transform'] = [math.log2(i)for i in clusters['coverage']]\n",
    "clusters"
   ]
  },
  {
   "cell_type": "code",
   "execution_count": 208,
   "metadata": {},
   "outputs": [
    {
     "data": {
      "text/plain": [
       "<Axes: >"
      ]
     },
     "execution_count": 208,
     "metadata": {},
     "output_type": "execute_result"
    },
    {
     "data": {
      "image/png": "[encoded data removed]",
      "text/plain": [
       "<Figure size 640x480 with 1 Axes>"
      ]
     },
     "metadata": {},
     "output_type": "display_data"
    }
   ],
   "source": [
    "clusters['coverage'].hist(bins=50)"
   ]
  },
  {
   "cell_type": "code",
   "execution_count": 209,
   "metadata": {},
   "outputs": [
    {
     "data": {
      "text/plain": [
       "<matplotlib.collections.PathCollection at 0x151e2a370>"
      ]
     },
     "execution_count": 209,
     "metadata": {},
     "output_type": "execute_result"
    },
    {
     "data": {
      "image/png": "[encoded data removed]",
      "text/plain": [
       "<Figure size 640x480 with 1 Axes>"
      ]
     },
     "metadata": {},
     "output_type": "display_data"
    }
   ],
   "source": [
    "plt.scatter(x=clusters['transform'], y=clusters['coverage'])"
   ]
  },
  {
   "cell_type": "code",
   "execution_count": 210,
   "metadata": {},
   "outputs": [
    {
     "data": {
      "text/plain": [
       "[<matplotlib.lines.Line2D at 0x151edaf70>]"
      ]
     },
     "execution_count": 210,
     "metadata": {},
     "output_type": "execute_result"
    },
    {
     "data": {
      "image/png": "[encoded data removed]",
      "text/plain": [
       "<Figure size 640x480 with 1 Axes>"
      ]
     },
     "metadata": {},
     "output_type": "display_data"
    }
   ],
   "source": [
    "kde = KernelDensity(kernel='gaussian', bandwidth=0.5).fit(clusters['coverage'].array.reshape(-1,1))\n",
    "cov_fdp = kde.score_samples(clusters['coverage'].array.reshape(-1,1))\n",
    "plt.plot(clusters['coverage'], cov_fdp)"
   ]
  },
  {
   "cell_type": "code",
   "execution_count": 211,
   "metadata": {},
   "outputs": [
    {
     "name": "stdout",
     "output_type": "stream",
     "text": [
      "Covertura minima admitida:  42\n"
     ]
    }
   ],
   "source": [
    "from scipy.signal import argrelextrema\n",
    "import numpy as np\n",
    "local_min = argrelextrema(cov_fdp, np.less)[0]\n",
    "if len(local_min) < 1:\n",
    "    min_coverage = 3\n",
    "else:\n",
    "    min_coverage = clusters.iloc[max(local_min),:]['coverage']\n",
    "print(\"Covertura minima admitida: \", min_coverage)"
   ]
  },
  {
   "cell_type": "code",
   "execution_count": 212,
   "metadata": {},
   "outputs": [
    {
     "name": "stdout",
     "output_type": "stream",
     "text": [
      "Minimum coverage:  123\n"
     ]
    }
   ],
   "source": [
    "## ALTERNATIVE TO CALCULATE MINIMUN COVERAGE.\n",
    "## I WILL LOOK FOR THE GREATES HOLE IN THE DATA, IF THERE IS JUST ONE POINT THEN I CHOOSE THE SECOND GREATEST GAP\n",
    "def min_cov (clusters):\n",
    "    cov_gaps = clusters.loc[:,'coverage'].diff(periods=-1).sort_values(ascending=False)\n",
    "    for k in cov_gaps.index:\n",
    "        clusters_filt_cov = clusters['coverage'] >= clusters.loc[k, 'coverage']\n",
    "        if sum(clusters_filt_cov) > 3 :\n",
    "            min_coverage=clusters.loc[k, 'coverage']\n",
    "            print(\"Minimum coverage: \", min_coverage)\n",
    "            return min_coverage\n",
    "min_coverage=min_cov(clusters)"
   ]
  },
  {
   "cell_type": "code",
   "execution_count": 213,
   "metadata": {},
   "outputs": [],
   "source": [
    "# FILTER BY COVERAGE\n",
    "clusters = clusters[clusters['coverage'] >= min_coverage]"
   ]
  },
  {
   "cell_type": "code",
   "execution_count": 214,
   "metadata": {},
   "outputs": [
    {
     "name": "stderr",
     "output_type": "stream",
     "text": [
      "/var/folders/20/bjqv2gj50z7dx4ksyh4y8b800000gn/T/ipykernel_8837/1139505656.py:6: SettingWithCopyWarning: \n",
      "A value is trying to be set on a copy of a slice from a DataFrame.\n",
      "Try using .loc[row_indexer,col_indexer] = value instead\n",
      "\n",
      "See the caveats in the documentation: https://pandas.pydata.org/pandas-docs/stable/user_guide/indexing.html#returning-a-view-versus-a-copy\n",
      "  clusters['mt'] = [32 if i else 10 for i in clusters['id_longest_read'].isin(ids_mt)]\n"
     ]
    },
    {
     "data": {
      "text/html": [
       "<div>\n",
       "<style scoped>\n",
       "    .dataframe tbody tr th:only-of-type {\n",
       "        vertical-align: middle;\n",
       "    }\n",
       "\n",
       "    .dataframe tbody tr th {\n",
       "        vertical-align: top;\n",
       "    }\n",
       "\n",
       "    .dataframe thead th {\n",
       "        text-align: right;\n",
       "    }\n",
       "</style>\n",
       "<table border=\"1\" class=\"dataframe\">\n",
       "  <thead>\n",
       "    <tr style=\"text-align: right;\">\n",
       "      <th></th>\n",
       "      <th>coverage</th>\n",
       "      <th>repr_read_len</th>\n",
       "      <th>id_longest_read</th>\n",
       "      <th>id_cluster</th>\n",
       "      <th>transform</th>\n",
       "      <th>mt</th>\n",
       "    </tr>\n",
       "  </thead>\n",
       "  <tbody>\n",
       "    <tr>\n",
       "      <th>24</th>\n",
       "      <td>402</td>\n",
       "      <td>42640</td>\n",
       "      <td>SRR5892449.18856</td>\n",
       "      <td>25</td>\n",
       "      <td>8.651052</td>\n",
       "      <td>32</td>\n",
       "    </tr>\n",
       "    <tr>\n",
       "      <th>22</th>\n",
       "      <td>226</td>\n",
       "      <td>42850</td>\n",
       "      <td>SRR5892449.16013</td>\n",
       "      <td>23</td>\n",
       "      <td>7.820179</td>\n",
       "      <td>32</td>\n",
       "    </tr>\n",
       "    <tr>\n",
       "      <th>38</th>\n",
       "      <td>184</td>\n",
       "      <td>40403</td>\n",
       "      <td>SRR5892449.4276</td>\n",
       "      <td>39</td>\n",
       "      <td>7.523562</td>\n",
       "      <td>32</td>\n",
       "    </tr>\n",
       "    <tr>\n",
       "      <th>119</th>\n",
       "      <td>169</td>\n",
       "      <td>32348</td>\n",
       "      <td>SRR5892449.45081</td>\n",
       "      <td>120</td>\n",
       "      <td>7.400879</td>\n",
       "      <td>10</td>\n",
       "    </tr>\n",
       "    <tr>\n",
       "      <th>49</th>\n",
       "      <td>152</td>\n",
       "      <td>38278</td>\n",
       "      <td>SRR5892449.17340</td>\n",
       "      <td>50</td>\n",
       "      <td>7.247928</td>\n",
       "      <td>32</td>\n",
       "    </tr>\n",
       "    <tr>\n",
       "      <th>126</th>\n",
       "      <td>124</td>\n",
       "      <td>31883</td>\n",
       "      <td>SRR5892449.16144</td>\n",
       "      <td>127</td>\n",
       "      <td>6.954196</td>\n",
       "      <td>10</td>\n",
       "    </tr>\n",
       "    <tr>\n",
       "      <th>42</th>\n",
       "      <td>123</td>\n",
       "      <td>39752</td>\n",
       "      <td>SRR5892449.25530</td>\n",
       "      <td>43</td>\n",
       "      <td>6.942515</td>\n",
       "      <td>10</td>\n",
       "    </tr>\n",
       "  </tbody>\n",
       "</table>\n",
       "</div>"
      ],
      "text/plain": [
       "     coverage  repr_read_len   id_longest_read  id_cluster  transform  mt\n",
       "24        402          42640  SRR5892449.18856          25   8.651052  32\n",
       "22        226          42850  SRR5892449.16013          23   7.820179  32\n",
       "38        184          40403   SRR5892449.4276          39   7.523562  32\n",
       "119       169          32348  SRR5892449.45081         120   7.400879  10\n",
       "49        152          38278  SRR5892449.17340          50   7.247928  32\n",
       "126       124          31883  SRR5892449.16144         127   6.954196  10\n",
       "42        123          39752  SRR5892449.25530          43   6.942515  10"
      ]
     },
     "execution_count": 214,
     "metadata": {},
     "output_type": "execute_result"
    }
   ],
   "source": [
    "## GROUND TRUTH \n",
    "## Get the real mt sequences\n",
    "with open('test/s_cervisae_CEN_PK113-7D/chrMT_reads_ids.txt','r') as handle_ids_mt:\n",
    "    ids_mt = handle_ids_mt.read().splitlines()\n",
    "    ids_mt = [i[:].strip() for i in ids_mt]\n",
    "clusters['mt'] = [32 if i else 10 for i in clusters['id_longest_read'].isin(ids_mt)]\n",
    "clusters"
   ]
  },
  {
   "cell_type": "markdown",
   "metadata": {},
   "source": [
    "# Oligo composition\n",
    "\n",
    "Once I've detected the clusters with higher coverage, which I expect includes mitochondria and contamination, whether nuclear or external, I have to purify these groups. To do this I will use the oligo composition as it is used during metagenomics binning.\n",
    "\n",
    "I will create clusters_list script to get the kmers. The kmer size will be 3 to solve two things: 1. Intrinsec error from Nanopore, 2 smaller set as possible (4**3 possible kmers). \n",
    "\n",
    "Finally, I will reduce dimensionality using PCA"
   ]
  },
  {
   "cell_type": "code",
   "execution_count": 215,
   "metadata": {},
   "outputs": [],
   "source": [
    "from src.utils import write_fasta\n",
    "#from src.kmer_cnt import get_kmer_profiles\n",
    "import utils_rs"
   ]
  },
  {
   "cell_type": "code",
   "execution_count": 216,
   "metadata": {},
   "outputs": [],
   "source": [
    "reads_file = f\"{wd}{prefix}_sample.sorted.fastq\"\n",
    "repr_reads = [i for i in clusters['id_longest_read']]"
   ]
  },
  {
   "cell_type": "code",
   "execution_count": 217,
   "metadata": {},
   "outputs": [],
   "source": [
    "# PYTHON VERSION\n",
    "# kmer_profiles_df = get_kmer_profiles (repr_reads, reads_file, 3)\n",
    "# kmer_profiles_df.head()"
   ]
  },
  {
   "cell_type": "code",
   "execution_count": 218,
   "metadata": {},
   "outputs": [
    {
     "data": {
      "text/html": [
       "<div>\n",
       "<style scoped>\n",
       "    .dataframe tbody tr th:only-of-type {\n",
       "        vertical-align: middle;\n",
       "    }\n",
       "\n",
       "    .dataframe tbody tr th {\n",
       "        vertical-align: top;\n",
       "    }\n",
       "\n",
       "    .dataframe thead th {\n",
       "        text-align: right;\n",
       "    }\n",
       "</style>\n",
       "<table border=\"1\" class=\"dataframe\">\n",
       "  <thead>\n",
       "    <tr style=\"text-align: right;\">\n",
       "      <th></th>\n",
       "      <th>0</th>\n",
       "      <th>1</th>\n",
       "      <th>2</th>\n",
       "      <th>3</th>\n",
       "      <th>4</th>\n",
       "      <th>5</th>\n",
       "      <th>6</th>\n",
       "      <th>7</th>\n",
       "      <th>8</th>\n",
       "      <th>9</th>\n",
       "      <th>...</th>\n",
       "      <th>23</th>\n",
       "      <th>24</th>\n",
       "      <th>25</th>\n",
       "      <th>26</th>\n",
       "      <th>27</th>\n",
       "      <th>28</th>\n",
       "      <th>29</th>\n",
       "      <th>30</th>\n",
       "      <th>31</th>\n",
       "      <th>ids</th>\n",
       "    </tr>\n",
       "  </thead>\n",
       "  <tbody>\n",
       "    <tr>\n",
       "      <th>0</th>\n",
       "      <td>0.088051</td>\n",
       "      <td>0.157783</td>\n",
       "      <td>0.021657</td>\n",
       "      <td>0.022777</td>\n",
       "      <td>0.235029</td>\n",
       "      <td>0.017340</td>\n",
       "      <td>0.023501</td>\n",
       "      <td>0.020793</td>\n",
       "      <td>0.016779</td>\n",
       "      <td>0.011575</td>\n",
       "      <td>...</td>\n",
       "      <td>0.008868</td>\n",
       "      <td>0.005181</td>\n",
       "      <td>0.002800</td>\n",
       "      <td>0.022824</td>\n",
       "      <td>0.006674</td>\n",
       "      <td>0.017970</td>\n",
       "      <td>0.005041</td>\n",
       "      <td>0.005228</td>\n",
       "      <td>0.012299</td>\n",
       "      <td>SRR5892449.16013</td>\n",
       "    </tr>\n",
       "    <tr>\n",
       "      <th>1</th>\n",
       "      <td>0.095310</td>\n",
       "      <td>0.144770</td>\n",
       "      <td>0.025328</td>\n",
       "      <td>0.026243</td>\n",
       "      <td>0.179573</td>\n",
       "      <td>0.026477</td>\n",
       "      <td>0.028025</td>\n",
       "      <td>0.023757</td>\n",
       "      <td>0.021975</td>\n",
       "      <td>0.014165</td>\n",
       "      <td>...</td>\n",
       "      <td>0.005957</td>\n",
       "      <td>0.005582</td>\n",
       "      <td>0.002228</td>\n",
       "      <td>0.026595</td>\n",
       "      <td>0.006918</td>\n",
       "      <td>0.025000</td>\n",
       "      <td>0.007012</td>\n",
       "      <td>0.004573</td>\n",
       "      <td>0.011421</td>\n",
       "      <td>SRR5892449.18856</td>\n",
       "    </tr>\n",
       "    <tr>\n",
       "      <th>2</th>\n",
       "      <td>0.088484</td>\n",
       "      <td>0.144370</td>\n",
       "      <td>0.026953</td>\n",
       "      <td>0.025221</td>\n",
       "      <td>0.207707</td>\n",
       "      <td>0.017127</td>\n",
       "      <td>0.027795</td>\n",
       "      <td>0.027671</td>\n",
       "      <td>0.020444</td>\n",
       "      <td>0.012994</td>\n",
       "      <td>...</td>\n",
       "      <td>0.006584</td>\n",
       "      <td>0.008440</td>\n",
       "      <td>0.003440</td>\n",
       "      <td>0.025097</td>\n",
       "      <td>0.007450</td>\n",
       "      <td>0.022622</td>\n",
       "      <td>0.008192</td>\n",
       "      <td>0.006188</td>\n",
       "      <td>0.009158</td>\n",
       "      <td>SRR5892449.4276</td>\n",
       "    </tr>\n",
       "    <tr>\n",
       "      <th>3</th>\n",
       "      <td>0.061582</td>\n",
       "      <td>0.050035</td>\n",
       "      <td>0.037030</td>\n",
       "      <td>0.038841</td>\n",
       "      <td>0.046589</td>\n",
       "      <td>0.028728</td>\n",
       "      <td>0.037281</td>\n",
       "      <td>0.040224</td>\n",
       "      <td>0.034439</td>\n",
       "      <td>0.025156</td>\n",
       "      <td>...</td>\n",
       "      <td>0.016150</td>\n",
       "      <td>0.021835</td>\n",
       "      <td>0.016980</td>\n",
       "      <td>0.044124</td>\n",
       "      <td>0.020125</td>\n",
       "      <td>0.037181</td>\n",
       "      <td>0.031294</td>\n",
       "      <td>0.022263</td>\n",
       "      <td>0.016955</td>\n",
       "      <td>SRR5892449.25530</td>\n",
       "    </tr>\n",
       "    <tr>\n",
       "      <th>4</th>\n",
       "      <td>0.091515</td>\n",
       "      <td>0.148179</td>\n",
       "      <td>0.028084</td>\n",
       "      <td>0.023382</td>\n",
       "      <td>0.191363</td>\n",
       "      <td>0.018993</td>\n",
       "      <td>0.029991</td>\n",
       "      <td>0.031193</td>\n",
       "      <td>0.020168</td>\n",
       "      <td>0.012670</td>\n",
       "      <td>...</td>\n",
       "      <td>0.006740</td>\n",
       "      <td>0.008334</td>\n",
       "      <td>0.003344</td>\n",
       "      <td>0.024348</td>\n",
       "      <td>0.009248</td>\n",
       "      <td>0.023721</td>\n",
       "      <td>0.008464</td>\n",
       "      <td>0.005199</td>\n",
       "      <td>0.009013</td>\n",
       "      <td>SRR5892449.17340</td>\n",
       "    </tr>\n",
       "  </tbody>\n",
       "</table>\n",
       "<p>5 rows × 33 columns</p>\n",
       "</div>"
      ],
      "text/plain": [
       "          0         1         2         3         4         5         6  \\\n",
       "0  0.088051  0.157783  0.021657  0.022777  0.235029  0.017340  0.023501   \n",
       "1  0.095310  0.144770  0.025328  0.026243  0.179573  0.026477  0.028025   \n",
       "2  0.088484  0.144370  0.026953  0.025221  0.207707  0.017127  0.027795   \n",
       "3  0.061582  0.050035  0.037030  0.038841  0.046589  0.028728  0.037281   \n",
       "4  0.091515  0.148179  0.028084  0.023382  0.191363  0.018993  0.029991   \n",
       "\n",
       "          7         8         9  ...        23        24        25        26  \\\n",
       "0  0.020793  0.016779  0.011575  ...  0.008868  0.005181  0.002800  0.022824   \n",
       "1  0.023757  0.021975  0.014165  ...  0.005957  0.005582  0.002228  0.026595   \n",
       "2  0.027671  0.020444  0.012994  ...  0.006584  0.008440  0.003440  0.025097   \n",
       "3  0.040224  0.034439  0.025156  ...  0.016150  0.021835  0.016980  0.044124   \n",
       "4  0.031193  0.020168  0.012670  ...  0.006740  0.008334  0.003344  0.024348   \n",
       "\n",
       "         27        28        29        30        31               ids  \n",
       "0  0.006674  0.017970  0.005041  0.005228  0.012299  SRR5892449.16013  \n",
       "1  0.006918  0.025000  0.007012  0.004573  0.011421  SRR5892449.18856  \n",
       "2  0.007450  0.022622  0.008192  0.006188  0.009158   SRR5892449.4276  \n",
       "3  0.020125  0.037181  0.031294  0.022263  0.016955  SRR5892449.25530  \n",
       "4  0.009248  0.023721  0.008464  0.005199  0.009013  SRR5892449.17340  \n",
       "\n",
       "[5 rows x 33 columns]"
      ]
     },
     "execution_count": 218,
     "metadata": {},
     "output_type": "execute_result"
    }
   ],
   "source": [
    "# RUST VERSION\n",
    "hist = utils_rs.get_kmer_profiles(repr_reads, reads_file, 3)\n",
    "hist_df = pd.DataFrame(hist[0])\n",
    "hist_df['ids'] = hist[1]\n",
    "hist_df.head()\n",
    "hist_df.iloc[:, :-1]\n",
    "hist_df.head()"
   ]
  },
  {
   "cell_type": "markdown",
   "metadata": {},
   "source": [
    "# Dimensionality reduction with PCA and clustering with k-means "
   ]
  },
  {
   "cell_type": "code",
   "execution_count": 219,
   "metadata": {},
   "outputs": [],
   "source": [
    "from sklearn.decomposition import PCA\n",
    "from sklearn.cluster import KMeans"
   ]
  },
  {
   "cell_type": "code",
   "execution_count": 220,
   "metadata": {},
   "outputs": [
    {
     "data": {
      "text/html": [
       "<style>#sk-container-id-9 {color: black;}#sk-container-id-9 pre{padding: 0;}#sk-container-id-9 div.sk-toggleable {background-color: white;}#sk-container-id-9 label.sk-toggleable__label {cursor: pointer;display: block;width: 100%;margin-bottom: 0;padding: 0.3em;box-sizing: border-box;text-align: center;}#sk-container-id-9 label.sk-toggleable__label-arrow:before {content: \"▸\";float: left;margin-right: 0.25em;color: #696969;}#sk-container-id-9 label.sk-toggleable__label-arrow:hover:before {color: black;}#sk-container-id-9 div.sk-estimator:hover label.sk-toggleable__label-arrow:before {color: black;}#sk-container-id-9 div.sk-toggleable__content {max-height: 0;max-width: 0;overflow: hidden;text-align: left;background-color: #f0f8ff;}#sk-container-id-9 div.sk-toggleable__content pre {margin: 0.2em;color: black;border-radius: 0.25em;background-color: #f0f8ff;}#sk-container-id-9 input.sk-toggleable__control:checked~div.sk-toggleable__content {max-height: 200px;max-width: 100%;overflow: auto;}#sk-container-id-9 input.sk-toggleable__control:checked~label.sk-toggleable__label-arrow:before {content: \"▾\";}#sk-container-id-9 div.sk-estimator input.sk-toggleable__control:checked~label.sk-toggleable__label {background-color: #d4ebff;}#sk-container-id-9 div.sk-label input.sk-toggleable__control:checked~label.sk-toggleable__label {background-color: #d4ebff;}#sk-container-id-9 input.sk-hidden--visually {border: 0;clip: rect(1px 1px 1px 1px);clip: rect(1px, 1px, 1px, 1px);height: 1px;margin: -1px;overflow: hidden;padding: 0;position: absolute;width: 1px;}#sk-container-id-9 div.sk-estimator {font-family: monospace;background-color: #f0f8ff;border: 1px dotted black;border-radius: 0.25em;box-sizing: border-box;margin-bottom: 0.5em;}#sk-container-id-9 div.sk-estimator:hover {background-color: #d4ebff;}#sk-container-id-9 div.sk-parallel-item::after {content: \"\";width: 100%;border-bottom: 1px solid gray;flex-grow: 1;}#sk-container-id-9 div.sk-label:hover label.sk-toggleable__label {background-color: #d4ebff;}#sk-container-id-9 div.sk-serial::before {content: \"\";position: absolute;border-left: 1px solid gray;box-sizing: border-box;top: 0;bottom: 0;left: 50%;z-index: 0;}#sk-container-id-9 div.sk-serial {display: flex;flex-direction: column;align-items: center;background-color: white;padding-right: 0.2em;padding-left: 0.2em;position: relative;}#sk-container-id-9 div.sk-item {position: relative;z-index: 1;}#sk-container-id-9 div.sk-parallel {display: flex;align-items: stretch;justify-content: center;background-color: white;position: relative;}#sk-container-id-9 div.sk-item::before, #sk-container-id-9 div.sk-parallel-item::before {content: \"\";position: absolute;border-left: 1px solid gray;box-sizing: border-box;top: 0;bottom: 0;left: 50%;z-index: -1;}#sk-container-id-9 div.sk-parallel-item {display: flex;flex-direction: column;z-index: 1;position: relative;background-color: white;}#sk-container-id-9 div.sk-parallel-item:first-child::after {align-self: flex-end;width: 50%;}#sk-container-id-9 div.sk-parallel-item:last-child::after {align-self: flex-start;width: 50%;}#sk-container-id-9 div.sk-parallel-item:only-child::after {width: 0;}#sk-container-id-9 div.sk-dashed-wrapped {border: 1px dashed gray;margin: 0 0.4em 0.5em 0.4em;box-sizing: border-box;padding-bottom: 0.4em;background-color: white;}#sk-container-id-9 div.sk-label label {font-family: monospace;font-weight: bold;display: inline-block;line-height: 1.2em;}#sk-container-id-9 div.sk-label-container {text-align: center;}#sk-container-id-9 div.sk-container {/* jupyter's `normalize.less` sets `[hidden] { display: none; }` but bootstrap.min.css set `[hidden] { display: none !important; }` so we also need the `!important` here to be able to override the default hidden behavior on the sphinx rendered scikit-learn.org. See: https://github.com/scikit-learn/scikit-learn/issues/21755 */display: inline-block !important;position: relative;}#sk-container-id-9 div.sk-text-repr-fallback {display: none;}</style><div id=\"sk-container-id-9\" class=\"sk-top-container\"><div class=\"sk-text-repr-fallback\"><pre>PCA(n_components=2)</pre><b>In a Jupyter environment, please rerun this cell to show the HTML representation or trust the notebook. <br />On GitHub, the HTML representation is unable to render, please try loading this page with nbviewer.org.</b></div><div class=\"sk-container\" hidden><div class=\"sk-item\"><div class=\"sk-estimator sk-toggleable\"><input class=\"sk-toggleable__control sk-hidden--visually\" id=\"sk-estimator-id-9\" type=\"checkbox\" checked><label for=\"sk-estimator-id-9\" class=\"sk-toggleable__label sk-toggleable__label-arrow\">PCA</label><div class=\"sk-toggleable__content\"><pre>PCA(n_components=2)</pre></div></div></div></div></div>"
      ],
      "text/plain": [
       "PCA(n_components=2)"
      ]
     },
     "execution_count": 220,
     "metadata": {},
     "output_type": "execute_result"
    }
   ],
   "source": [
    "pca = PCA(n_components=2)\n",
    "pca.fit(hist_df.iloc[:,:-2])"
   ]
  },
  {
   "cell_type": "code",
   "execution_count": 221,
   "metadata": {},
   "outputs": [
    {
     "data": {
      "text/plain": [
       "array([0.0148103 , 0.00011529])"
      ]
     },
     "execution_count": 221,
     "metadata": {},
     "output_type": "execute_result"
    }
   ],
   "source": [
    "## Components and variance explained \n",
    "pca.explained_variance_\n",
    "#pca.components_"
   ]
  },
  {
   "cell_type": "code",
   "execution_count": 222,
   "metadata": {},
   "outputs": [
    {
     "data": {
      "text/html": [
       "<div>\n",
       "<style scoped>\n",
       "    .dataframe tbody tr th:only-of-type {\n",
       "        vertical-align: middle;\n",
       "    }\n",
       "\n",
       "    .dataframe tbody tr th {\n",
       "        vertical-align: top;\n",
       "    }\n",
       "\n",
       "    .dataframe thead th {\n",
       "        text-align: right;\n",
       "    }\n",
       "</style>\n",
       "<table border=\"1\" class=\"dataframe\">\n",
       "  <thead>\n",
       "    <tr style=\"text-align: right;\">\n",
       "      <th></th>\n",
       "      <th>comp1</th>\n",
       "      <th>comp2</th>\n",
       "      <th>ids</th>\n",
       "      <th>coverage</th>\n",
       "      <th>repr_read_len</th>\n",
       "      <th>id_cluster</th>\n",
       "      <th>transform</th>\n",
       "      <th>mt</th>\n",
       "      <th>coverage_norm</th>\n",
       "    </tr>\n",
       "  </thead>\n",
       "  <tbody>\n",
       "    <tr>\n",
       "      <th>0</th>\n",
       "      <td>-0.130983</td>\n",
       "      <td>-0.011119</td>\n",
       "      <td>SRR5892449.16013</td>\n",
       "      <td>226</td>\n",
       "      <td>42850</td>\n",
       "      <td>23</td>\n",
       "      <td>7.820179</td>\n",
       "      <td>32</td>\n",
       "      <td>0.005274</td>\n",
       "    </tr>\n",
       "    <tr>\n",
       "      <th>1</th>\n",
       "      <td>-0.075047</td>\n",
       "      <td>0.016260</td>\n",
       "      <td>SRR5892449.18856</td>\n",
       "      <td>402</td>\n",
       "      <td>42640</td>\n",
       "      <td>25</td>\n",
       "      <td>8.651052</td>\n",
       "      <td>32</td>\n",
       "      <td>0.009428</td>\n",
       "    </tr>\n",
       "    <tr>\n",
       "      <th>2</th>\n",
       "      <td>-0.095162</td>\n",
       "      <td>-0.007038</td>\n",
       "      <td>SRR5892449.4276</td>\n",
       "      <td>184</td>\n",
       "      <td>40403</td>\n",
       "      <td>39</td>\n",
       "      <td>7.523562</td>\n",
       "      <td>32</td>\n",
       "      <td>0.004554</td>\n",
       "    </tr>\n",
       "    <tr>\n",
       "      <th>3</th>\n",
       "      <td>0.133886</td>\n",
       "      <td>-0.013241</td>\n",
       "      <td>SRR5892449.25530</td>\n",
       "      <td>123</td>\n",
       "      <td>39752</td>\n",
       "      <td>43</td>\n",
       "      <td>6.942515</td>\n",
       "      <td>10</td>\n",
       "      <td>0.003094</td>\n",
       "    </tr>\n",
       "    <tr>\n",
       "      <th>4</th>\n",
       "      <td>-0.085010</td>\n",
       "      <td>0.004895</td>\n",
       "      <td>SRR5892449.17340</td>\n",
       "      <td>152</td>\n",
       "      <td>38278</td>\n",
       "      <td>50</td>\n",
       "      <td>7.247928</td>\n",
       "      <td>32</td>\n",
       "      <td>0.003971</td>\n",
       "    </tr>\n",
       "  </tbody>\n",
       "</table>\n",
       "</div>"
      ],
      "text/plain": [
       "      comp1     comp2               ids  coverage  repr_read_len  id_cluster  \\\n",
       "0 -0.130983 -0.011119  SRR5892449.16013       226          42850          23   \n",
       "1 -0.075047  0.016260  SRR5892449.18856       402          42640          25   \n",
       "2 -0.095162 -0.007038   SRR5892449.4276       184          40403          39   \n",
       "3  0.133886 -0.013241  SRR5892449.25530       123          39752          43   \n",
       "4 -0.085010  0.004895  SRR5892449.17340       152          38278          50   \n",
       "\n",
       "   transform  mt  coverage_norm  \n",
       "0   7.820179  32       0.005274  \n",
       "1   8.651052  32       0.009428  \n",
       "2   7.523562  32       0.004554  \n",
       "3   6.942515  10       0.003094  \n",
       "4   7.247928  32       0.003971  "
      ]
     },
     "execution_count": 222,
     "metadata": {},
     "output_type": "execute_result"
    }
   ],
   "source": [
    "kmer_reduction = pca.fit_transform(hist_df.iloc[:,:-2])\n",
    "kmer_reduction = pd.DataFrame(kmer_reduction, columns=['comp1', 'comp2'])\n",
    "\n",
    "## merging the dataframe with ids and other relevant information\n",
    "kmer_reduction ['ids'] = hist_df['ids']\n",
    "kmer_reduction = kmer_reduction.merge(clusters, how='left', left_on='ids', right_on='id_longest_read')\n",
    "kmer_reduction.drop(columns='id_longest_read', inplace=True)\n",
    "\n",
    "## Annotate which reads are mitochondrial\n",
    "kmer_reduction['coverage_norm'] = kmer_reduction['coverage'] / kmer_reduction['repr_read_len']\n",
    "kmer_reduction.head()"
   ]
  },
  {
   "cell_type": "code",
   "execution_count": 223,
   "metadata": {},
   "outputs": [
    {
     "name": "stderr",
     "output_type": "stream",
     "text": [
      "No artists with labels found to put in legend.  Note that artists whose label start with an underscore are ignored when legend() is called with no argument.\n"
     ]
    },
    {
     "data": {
      "text/plain": [
       "Text(0, 0.5, 'comp2')"
      ]
     },
     "execution_count": 223,
     "metadata": {},
     "output_type": "execute_result"
    },
    {
     "data": {
      "image/png": "[encoded data removed]",
      "text/plain": [
       "<Figure size 640x480 with 2 Axes>"
      ]
     },
     "metadata": {},
     "output_type": "display_data"
    }
   ],
   "source": [
    "sc = plt.scatter(kmer_reduction['comp1'],kmer_reduction['comp2'], c=kmer_reduction['coverage_norm'], s=kmer_reduction['mt'])\n",
    "# legend\n",
    "# Add clusters_list colorbar\n",
    "cbar = plt.colorbar(sc)\n",
    "cbar.set_label('Color Scale')\n",
    "plt.legend()\n",
    "plt.xlabel('comp1')\n",
    "plt.ylabel('comp2')"
   ]
  },
  {
   "cell_type": "code",
   "execution_count": 224,
   "metadata": {},
   "outputs": [
    {
     "name": "stdout",
     "output_type": "stream",
     "text": [
      "Initialization complete\n",
      "Iteration 0, inertia 2.0403272036158107e-05.\n",
      "Iteration 1, inertia 1.5136435884494186e-05.\n",
      "Converged at iteration 1: strict convergence.\n"
     ]
    }
   ],
   "source": [
    "kmeans = KMeans(n_clusters=2, max_iter=100, init='k-means++', random_state=0, n_init=1,verbose=1)\n",
    "mt_prediction = kmeans.fit_predict(kmer_reduction[['comp1','comp2']], sample_weight=kmer_reduction['coverage_norm'])\n",
    "kmer_reduction['cluster_prediction'] = mt_prediction"
   ]
  },
  {
   "cell_type": "code",
   "execution_count": 225,
   "metadata": {},
   "outputs": [
    {
     "data": {
      "text/plain": [
       "Text(0, 0.5, 'comp2')"
      ]
     },
     "execution_count": 225,
     "metadata": {},
     "output_type": "execute_result"
    },
    {
     "data": {
      "image/png": "[encoded data removed]",
      "text/plain": [
       "<Figure size 640x480 with 1 Axes>"
      ]
     },
     "metadata": {},
     "output_type": "display_data"
    }
   ],
   "source": [
    "plt.scatter(x=kmer_reduction['comp1'], y=kmer_reduction['comp2'], c=mt_prediction, s=kmer_reduction['mt'])\n",
    "plt.xlabel('comp1')\n",
    "plt.ylabel('comp2')"
   ]
  },
  {
   "cell_type": "markdown",
   "metadata": {},
   "source": [
    "# Get the cluster of interest\n",
    "\n",
    "This step is clusters_list pain in the ass, but since I am looking to keep the free-reference. "
   ]
  },
  {
   "cell_type": "code",
   "execution_count": 226,
   "metadata": {},
   "outputs": [
    {
     "name": "stderr",
     "output_type": "stream",
     "text": [
      "/var/folders/20/bjqv2gj50z7dx4ksyh4y8b800000gn/T/ipykernel_8837/2001483469.py:3: SettingWithCopyWarning: \n",
      "A value is trying to be set on a copy of a slice from a DataFrame\n",
      "\n",
      "See the caveats in the documentation: https://pandas.pydata.org/pandas-docs/stable/user_guide/indexing.html#returning-a-view-versus-a-copy\n",
      "  selected_cluster.sort_values('coverage_norm', inplace=True, ascending=False)\n"
     ]
    },
    {
     "data": {
      "text/html": [
       "<div>\n",
       "<style scoped>\n",
       "    .dataframe tbody tr th:only-of-type {\n",
       "        vertical-align: middle;\n",
       "    }\n",
       "\n",
       "    .dataframe tbody tr th {\n",
       "        vertical-align: top;\n",
       "    }\n",
       "\n",
       "    .dataframe thead th {\n",
       "        text-align: right;\n",
       "    }\n",
       "</style>\n",
       "<table border=\"1\" class=\"dataframe\">\n",
       "  <thead>\n",
       "    <tr style=\"text-align: right;\">\n",
       "      <th></th>\n",
       "      <th>comp1</th>\n",
       "      <th>comp2</th>\n",
       "      <th>ids</th>\n",
       "      <th>coverage</th>\n",
       "      <th>repr_read_len</th>\n",
       "      <th>id_cluster</th>\n",
       "      <th>transform</th>\n",
       "      <th>mt</th>\n",
       "      <th>coverage_norm</th>\n",
       "      <th>cluster_prediction</th>\n",
       "    </tr>\n",
       "  </thead>\n",
       "  <tbody>\n",
       "    <tr>\n",
       "      <th>1</th>\n",
       "      <td>-0.075047</td>\n",
       "      <td>0.016260</td>\n",
       "      <td>SRR5892449.18856</td>\n",
       "      <td>402</td>\n",
       "      <td>42640</td>\n",
       "      <td>25</td>\n",
       "      <td>8.651052</td>\n",
       "      <td>32</td>\n",
       "      <td>0.009428</td>\n",
       "      <td>1</td>\n",
       "    </tr>\n",
       "    <tr>\n",
       "      <th>0</th>\n",
       "      <td>-0.130983</td>\n",
       "      <td>-0.011119</td>\n",
       "      <td>SRR5892449.16013</td>\n",
       "      <td>226</td>\n",
       "      <td>42850</td>\n",
       "      <td>23</td>\n",
       "      <td>7.820179</td>\n",
       "      <td>32</td>\n",
       "      <td>0.005274</td>\n",
       "      <td>1</td>\n",
       "    </tr>\n",
       "    <tr>\n",
       "      <th>2</th>\n",
       "      <td>-0.095162</td>\n",
       "      <td>-0.007038</td>\n",
       "      <td>SRR5892449.4276</td>\n",
       "      <td>184</td>\n",
       "      <td>40403</td>\n",
       "      <td>39</td>\n",
       "      <td>7.523562</td>\n",
       "      <td>32</td>\n",
       "      <td>0.004554</td>\n",
       "      <td>1</td>\n",
       "    </tr>\n",
       "    <tr>\n",
       "      <th>4</th>\n",
       "      <td>-0.085010</td>\n",
       "      <td>0.004895</td>\n",
       "      <td>SRR5892449.17340</td>\n",
       "      <td>152</td>\n",
       "      <td>38278</td>\n",
       "      <td>50</td>\n",
       "      <td>7.247928</td>\n",
       "      <td>32</td>\n",
       "      <td>0.003971</td>\n",
       "      <td>1</td>\n",
       "    </tr>\n",
       "  </tbody>\n",
       "</table>\n",
       "</div>"
      ],
      "text/plain": [
       "      comp1     comp2               ids  coverage  repr_read_len  id_cluster  \\\n",
       "1 -0.075047  0.016260  SRR5892449.18856       402          42640          25   \n",
       "0 -0.130983 -0.011119  SRR5892449.16013       226          42850          23   \n",
       "2 -0.095162 -0.007038   SRR5892449.4276       184          40403          39   \n",
       "4 -0.085010  0.004895  SRR5892449.17340       152          38278          50   \n",
       "\n",
       "   transform  mt  coverage_norm  cluster_prediction  \n",
       "1   8.651052  32       0.009428                   1  \n",
       "0   7.820179  32       0.005274                   1  \n",
       "2   7.523562  32       0.004554                   1  \n",
       "4   7.247928  32       0.003971                   1  "
      ]
     },
     "execution_count": 226,
     "metadata": {},
     "output_type": "execute_result"
    }
   ],
   "source": [
    "selected_cluster_id = kmer_reduction.loc[:, kmer_reduction.columns != 'ids'].groupby(by='cluster_prediction')['coverage_norm'].median().idxmax()\n",
    "selected_cluster = kmer_reduction[kmer_reduction['cluster_prediction'] == selected_cluster_id]\n",
    "selected_cluster.sort_values('coverage_norm', inplace=True, ascending=False)\n",
    "selected_cluster.head()"
   ]
  },
  {
   "cell_type": "code",
   "execution_count": 227,
   "metadata": {},
   "outputs": [
    {
     "name": "stdout",
     "output_type": "stream",
     "text": [
      "\n",
      "\n",
      " --- Mitnanex retrieved 964 reads ---\n",
      "\n",
      "\n"
     ]
    }
   ],
   "source": [
    "sequences_ids = set()\n",
    "for i in selected_cluster['id_cluster']:\n",
    "    sequences_ids.update(clusters_list.get_cluster(i).id_sequences)\n",
    "write_fasta(reads_file=reads_file, sequences_ids=sequences_ids, output=f\"{wd}{prefix}_putative_mt_reads.fasta\")"
   ]
  }
 ],
 "metadata": {
  "kernelspec": {
   "display_name": "mitnanex",
   "language": "python",
   "name": "python3"
  },
  "language_info": {
   "codemirror_mode": {
    "name": "ipython",
    "version": 3
   },
   "file_extension": ".py",
   "mimetype": "text/x-python",
   "name": "python",
   "nbconvert_exporter": "python",
   "pygments_lexer": "ipython3",
   "version": "3.9.18"
  },
  "orig_nbformat": 4
 },
 "nbformat": 4,
 "nbformat_minor": 2
}

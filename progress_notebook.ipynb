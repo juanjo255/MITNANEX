{
 "cells": [
  {
   "cell_type": "code",
   "execution_count": 46,
   "metadata": {},
   "outputs": [],
   "source": [
    "from src.mitnanex import run\n",
    "import pandas as pd\n",
    "import matplotlib.pyplot as plt\n",
    "from sklearn.neighbors import KernelDensity"
   ]
  },
  {
   "cell_type": "code",
   "execution_count": 47,
   "metadata": {},
   "outputs": [],
   "source": [
    "\n",
    "clusters_list = run(\"test/a_gifuensis/a_gifuensis_all_containments.paf\")\n",
    "\n",
    "# I need to plot the coverage of clusters\n",
    "coverages_df = pd.DataFrame(\n",
    "    {\n",
    "        \"coverage\": [i.coverage for i in clusters_list.clusters],\n",
    "        \"repr_read_len\": [i.longest_read_length for i in clusters_list.clusters],\n",
    "        \"id_longest_read\": [i.longest_read_id for i in clusters_list.clusters],\n",
    "        \"id_cluster\":[i.id_cluster for i in clusters_list.clusters],\n",
    "    }\n",
    ")"
   ]
  },
  {
   "cell_type": "code",
   "execution_count": 48,
   "metadata": {},
   "outputs": [
    {
     "data": {
      "text/html": [
       "<div>\n",
       "<style scoped>\n",
       "    .dataframe tbody tr th:only-of-type {\n",
       "        vertical-align: middle;\n",
       "    }\n",
       "\n",
       "    .dataframe tbody tr th {\n",
       "        vertical-align: top;\n",
       "    }\n",
       "\n",
       "    .dataframe thead th {\n",
       "        text-align: right;\n",
       "    }\n",
       "</style>\n",
       "<table border=\"1\" class=\"dataframe\">\n",
       "  <thead>\n",
       "    <tr style=\"text-align: right;\">\n",
       "      <th></th>\n",
       "      <th>coverage</th>\n",
       "      <th>repr_read_len</th>\n",
       "      <th>id_longest_read</th>\n",
       "      <th>id_cluster</th>\n",
       "    </tr>\n",
       "  </thead>\n",
       "  <tbody>\n",
       "    <tr>\n",
       "      <th>30</th>\n",
       "      <td>2</td>\n",
       "      <td>32410</td>\n",
       "      <td>SRR11577123.1173</td>\n",
       "      <td>31</td>\n",
       "    </tr>\n",
       "    <tr>\n",
       "      <th>51</th>\n",
       "      <td>2</td>\n",
       "      <td>22384</td>\n",
       "      <td>SRR11577123.1234</td>\n",
       "      <td>52</td>\n",
       "    </tr>\n",
       "    <tr>\n",
       "      <th>11</th>\n",
       "      <td>2</td>\n",
       "      <td>44571</td>\n",
       "      <td>SRR11577123.129</td>\n",
       "      <td>12</td>\n",
       "    </tr>\n",
       "    <tr>\n",
       "      <th>50</th>\n",
       "      <td>2</td>\n",
       "      <td>22408</td>\n",
       "      <td>SRR11577123.1908</td>\n",
       "      <td>51</td>\n",
       "    </tr>\n",
       "    <tr>\n",
       "      <th>55</th>\n",
       "      <td>4</td>\n",
       "      <td>21537</td>\n",
       "      <td>SRR11577123.263</td>\n",
       "      <td>56</td>\n",
       "    </tr>\n",
       "  </tbody>\n",
       "</table>\n",
       "</div>"
      ],
      "text/plain": [
       "    coverage  repr_read_len   id_longest_read  id_cluster\n",
       "30         2          32410  SRR11577123.1173          31\n",
       "51         2          22384  SRR11577123.1234          52\n",
       "11         2          44571   SRR11577123.129          12\n",
       "50         2          22408  SRR11577123.1908          51\n",
       "55         4          21537   SRR11577123.263          56"
      ]
     },
     "execution_count": 48,
     "metadata": {},
     "output_type": "execute_result"
    }
   ],
   "source": [
    "# Test on the first 30 clusters\n",
    "import math\n",
    "clusters = coverages_df.sort_values(by='coverage', ascending=False)\n",
    "clusters.sort_values(by='id_longest_read',inplace=True)\n",
    "clusters.head()"
   ]
  },
  {
   "cell_type": "markdown",
   "metadata": {},
   "source": [
    "# Coverage\n",
    "\n",
    "The first step is to filter the reads by coverage. For that I will explore the use of Kernel Density since this is clusters_list one dimensional clustering."
   ]
  },
  {
   "cell_type": "code",
   "execution_count": 49,
   "metadata": {},
   "outputs": [
    {
     "data": {
      "text/html": [
       "<div>\n",
       "<style scoped>\n",
       "    .dataframe tbody tr th:only-of-type {\n",
       "        vertical-align: middle;\n",
       "    }\n",
       "\n",
       "    .dataframe tbody tr th {\n",
       "        vertical-align: top;\n",
       "    }\n",
       "\n",
       "    .dataframe thead th {\n",
       "        text-align: right;\n",
       "    }\n",
       "</style>\n",
       "<table border=\"1\" class=\"dataframe\">\n",
       "  <thead>\n",
       "    <tr style=\"text-align: right;\">\n",
       "      <th></th>\n",
       "      <th>coverage</th>\n",
       "      <th>repr_read_len</th>\n",
       "      <th>id_longest_read</th>\n",
       "      <th>id_cluster</th>\n",
       "      <th>transform</th>\n",
       "    </tr>\n",
       "  </thead>\n",
       "  <tbody>\n",
       "    <tr>\n",
       "      <th>21</th>\n",
       "      <td>16</td>\n",
       "      <td>40912</td>\n",
       "      <td>SRR11577126.1428</td>\n",
       "      <td>22</td>\n",
       "      <td>4.000000</td>\n",
       "    </tr>\n",
       "    <tr>\n",
       "      <th>7</th>\n",
       "      <td>12</td>\n",
       "      <td>50777</td>\n",
       "      <td>SRR11577127.3038</td>\n",
       "      <td>8</td>\n",
       "      <td>3.584963</td>\n",
       "    </tr>\n",
       "    <tr>\n",
       "      <th>23</th>\n",
       "      <td>7</td>\n",
       "      <td>39518</td>\n",
       "      <td>SRR11577126.1742</td>\n",
       "      <td>24</td>\n",
       "      <td>2.807355</td>\n",
       "    </tr>\n",
       "    <tr>\n",
       "      <th>5</th>\n",
       "      <td>5</td>\n",
       "      <td>54425</td>\n",
       "      <td>SRR11577126.5643</td>\n",
       "      <td>6</td>\n",
       "      <td>2.321928</td>\n",
       "    </tr>\n",
       "    <tr>\n",
       "      <th>55</th>\n",
       "      <td>4</td>\n",
       "      <td>21537</td>\n",
       "      <td>SRR11577123.263</td>\n",
       "      <td>56</td>\n",
       "      <td>2.000000</td>\n",
       "    </tr>\n",
       "    <tr>\n",
       "      <th>...</th>\n",
       "      <td>...</td>\n",
       "      <td>...</td>\n",
       "      <td>...</td>\n",
       "      <td>...</td>\n",
       "      <td>...</td>\n",
       "    </tr>\n",
       "    <tr>\n",
       "      <th>76</th>\n",
       "      <td>2</td>\n",
       "      <td>16030</td>\n",
       "      <td>SRR11577124.7269</td>\n",
       "      <td>77</td>\n",
       "      <td>1.000000</td>\n",
       "    </tr>\n",
       "    <tr>\n",
       "      <th>2</th>\n",
       "      <td>2</td>\n",
       "      <td>57365</td>\n",
       "      <td>SRR11577124.6861</td>\n",
       "      <td>3</td>\n",
       "      <td>1.000000</td>\n",
       "    </tr>\n",
       "    <tr>\n",
       "      <th>91</th>\n",
       "      <td>2</td>\n",
       "      <td>9542</td>\n",
       "      <td>SRR11577124.6457</td>\n",
       "      <td>92</td>\n",
       "      <td>1.000000</td>\n",
       "    </tr>\n",
       "    <tr>\n",
       "      <th>67</th>\n",
       "      <td>2</td>\n",
       "      <td>18448</td>\n",
       "      <td>SRR11577124.6208</td>\n",
       "      <td>68</td>\n",
       "      <td>1.000000</td>\n",
       "    </tr>\n",
       "    <tr>\n",
       "      <th>56</th>\n",
       "      <td>2</td>\n",
       "      <td>21081</td>\n",
       "      <td>SRR11577129.7630</td>\n",
       "      <td>57</td>\n",
       "      <td>1.000000</td>\n",
       "    </tr>\n",
       "  </tbody>\n",
       "</table>\n",
       "<p>96 rows × 5 columns</p>\n",
       "</div>"
      ],
      "text/plain": [
       "    coverage  repr_read_len   id_longest_read  id_cluster  transform\n",
       "21        16          40912  SRR11577126.1428          22   4.000000\n",
       "7         12          50777  SRR11577127.3038           8   3.584963\n",
       "23         7          39518  SRR11577126.1742          24   2.807355\n",
       "5          5          54425  SRR11577126.5643           6   2.321928\n",
       "55         4          21537   SRR11577123.263          56   2.000000\n",
       "..       ...            ...               ...         ...        ...\n",
       "76         2          16030  SRR11577124.7269          77   1.000000\n",
       "2          2          57365  SRR11577124.6861           3   1.000000\n",
       "91         2           9542  SRR11577124.6457          92   1.000000\n",
       "67         2          18448  SRR11577124.6208          68   1.000000\n",
       "56         2          21081  SRR11577129.7630          57   1.000000\n",
       "\n",
       "[96 rows x 5 columns]"
      ]
     },
     "execution_count": 49,
     "metadata": {},
     "output_type": "execute_result"
    }
   ],
   "source": [
    "clusters['transform'] = [math.log2(i)for i in clusters['coverage']]\n",
    "clusters.sort_values('coverage',ascending=False, inplace=True)\n",
    "clusters"
   ]
  },
  {
   "cell_type": "code",
   "execution_count": 50,
   "metadata": {},
   "outputs": [
    {
     "data": {
      "text/plain": [
       "<Axes: >"
      ]
     },
     "execution_count": 50,
     "metadata": {},
     "output_type": "execute_result"
    },
    {
     "data": {
      "image/png": "[encoded data removed]",
      "text/plain": [
       "<Figure size 640x480 with 1 Axes>"
      ]
     },
     "metadata": {},
     "output_type": "display_data"
    }
   ],
   "source": [
    "clusters['transform'].hist()"
   ]
  },
  {
   "cell_type": "code",
   "execution_count": 51,
   "metadata": {},
   "outputs": [
    {
     "data": {
      "text/plain": [
       "<matplotlib.collections.PathCollection at 0x187d9cf10>"
      ]
     },
     "execution_count": 51,
     "metadata": {},
     "output_type": "execute_result"
    },
    {
     "data": {
      "image/png": "[encoded data removed]",
      "text/plain": [
       "<Figure size 640x480 with 1 Axes>"
      ]
     },
     "metadata": {},
     "output_type": "display_data"
    }
   ],
   "source": [
    "plt.scatter(x=clusters['transform'], y=clusters['coverage'])"
   ]
  },
  {
   "cell_type": "code",
   "execution_count": 52,
   "metadata": {},
   "outputs": [
    {
     "data": {
      "text/plain": [
       "[<matplotlib.lines.Line2D at 0x187c8fdf0>]"
      ]
     },
     "execution_count": 52,
     "metadata": {},
     "output_type": "execute_result"
    },
    {
     "data": {
      "image/png": "[encoded data removed]",
      "text/plain": [
       "<Figure size 640x480 with 1 Axes>"
      ]
     },
     "metadata": {},
     "output_type": "display_data"
    }
   ],
   "source": [
    "kde = KernelDensity(kernel='gaussian', bandwidth=1).fit(clusters['coverage'].array.reshape(-1,1))\n",
    "cov_fdp = kde.score_samples(clusters['coverage'].array.reshape(-1,1))\n",
    "plt.plot(clusters['transform'], cov_fdp)"
   ]
  },
  {
   "cell_type": "code",
   "execution_count": 53,
   "metadata": {},
   "outputs": [
    {
     "name": "stdout",
     "output_type": "stream",
     "text": [
      "Covertura minima admitida:  2\n"
     ]
    }
   ],
   "source": [
    "from scipy.signal import argrelextrema\n",
    "import numpy as np\n",
    "local_min = argrelextrema(cov_fdp, np.less)[0]\n",
    "if len(local_min) < 1:\n",
    "    min_coverage = 2\n",
    "else:\n",
    "    min_coverage = clusters.iloc[max(local_min),:]['coverage']\n",
    "print(\"Covertura minima admitida: \", min_coverage)\n",
    "#min_coverage=5"
   ]
  },
  {
   "cell_type": "markdown",
   "metadata": {},
   "source": [
    "# Oligo composition\n",
    "\n",
    "Once I've detected the clusters with higher coverage, which I expect includes mitochondria and contamination, whether nuclear or external, I have to purify these groups. To do this I will use the oligo composition as it is used during metagenomics binning.\n",
    "\n",
    "I will create clusters_list script to get the kmers. The kmer size will be 3 to solve two things: 1. Intrinsec error from Nanopore, 2 smaller set as possible (4**3 possible kmers). \n",
    "\n",
    "Finally, I will reduce dimensionality using PCA"
   ]
  },
  {
   "cell_type": "code",
   "execution_count": 54,
   "metadata": {},
   "outputs": [],
   "source": [
    "from src.utils import get_sequences_by_id, write_fasta\n",
    "from src.kmer_cnt import count_kmer"
   ]
  },
  {
   "cell_type": "code",
   "execution_count": 55,
   "metadata": {},
   "outputs": [],
   "source": [
    "fasta = 'test/a_gifuensis/a_gifuensis_all_sample.sorted.fastq'\n",
    "repr_reads = [i for i in clusters['id_longest_read']]\n",
    "hist = list()\n",
    "for i in get_sequences_by_id(fasta, repr_reads):\n",
    "    ids, seq = i\n",
    "    hist.append([*count_kmer(k=3,seq=seq).values(),ids])"
   ]
  },
  {
   "cell_type": "code",
   "execution_count": 56,
   "metadata": {},
   "outputs": [],
   "source": [
    "## Get the real mt sequences\n",
    "with open('test/a_gifuensis/chrMT_reads_ids.txt','r') as handle_ids_mt:\n",
    "    ids_mt = handle_ids_mt.read().splitlines()\n",
    "    ids_mt = [i[:].strip() for i in ids_mt]\n"
   ]
  },
  {
   "cell_type": "code",
   "execution_count": 57,
   "metadata": {},
   "outputs": [
    {
     "data": {
      "text/html": [
       "<div>\n",
       "<style scoped>\n",
       "    .dataframe tbody tr th:only-of-type {\n",
       "        vertical-align: middle;\n",
       "    }\n",
       "\n",
       "    .dataframe tbody tr th {\n",
       "        vertical-align: top;\n",
       "    }\n",
       "\n",
       "    .dataframe thead th {\n",
       "        text-align: right;\n",
       "    }\n",
       "</style>\n",
       "<table border=\"1\" class=\"dataframe\">\n",
       "  <thead>\n",
       "    <tr style=\"text-align: right;\">\n",
       "      <th></th>\n",
       "      <th>0</th>\n",
       "      <th>1</th>\n",
       "      <th>2</th>\n",
       "      <th>3</th>\n",
       "      <th>4</th>\n",
       "      <th>5</th>\n",
       "      <th>6</th>\n",
       "      <th>7</th>\n",
       "      <th>8</th>\n",
       "      <th>9</th>\n",
       "      <th>...</th>\n",
       "      <th>23</th>\n",
       "      <th>24</th>\n",
       "      <th>25</th>\n",
       "      <th>26</th>\n",
       "      <th>27</th>\n",
       "      <th>28</th>\n",
       "      <th>29</th>\n",
       "      <th>30</th>\n",
       "      <th>31</th>\n",
       "      <th>ids</th>\n",
       "    </tr>\n",
       "  </thead>\n",
       "  <tbody>\n",
       "    <tr>\n",
       "      <th>0</th>\n",
       "      <td>0.113144</td>\n",
       "      <td>0.086889</td>\n",
       "      <td>0.033131</td>\n",
       "      <td>0.032426</td>\n",
       "      <td>0.070811</td>\n",
       "      <td>0.036104</td>\n",
       "      <td>0.038280</td>\n",
       "      <td>0.036554</td>\n",
       "      <td>0.027742</td>\n",
       "      <td>0.018074</td>\n",
       "      <td>...</td>\n",
       "      <td>0.007731</td>\n",
       "      <td>0.016858</td>\n",
       "      <td>0.008196</td>\n",
       "      <td>0.040922</td>\n",
       "      <td>0.016738</td>\n",
       "      <td>0.028553</td>\n",
       "      <td>0.018855</td>\n",
       "      <td>0.008977</td>\n",
       "      <td>0.018194</td>\n",
       "      <td>SRR11577127.2135</td>\n",
       "    </tr>\n",
       "    <tr>\n",
       "      <th>1</th>\n",
       "      <td>0.173402</td>\n",
       "      <td>0.125970</td>\n",
       "      <td>0.028133</td>\n",
       "      <td>0.025564</td>\n",
       "      <td>0.093235</td>\n",
       "      <td>0.027226</td>\n",
       "      <td>0.032349</td>\n",
       "      <td>0.033491</td>\n",
       "      <td>0.022070</td>\n",
       "      <td>0.010817</td>\n",
       "      <td>...</td>\n",
       "      <td>0.003930</td>\n",
       "      <td>0.010178</td>\n",
       "      <td>0.004031</td>\n",
       "      <td>0.035070</td>\n",
       "      <td>0.010615</td>\n",
       "      <td>0.024001</td>\n",
       "      <td>0.013050</td>\n",
       "      <td>0.006618</td>\n",
       "      <td>0.009842</td>\n",
       "      <td>SRR11577125.5626</td>\n",
       "    </tr>\n",
       "    <tr>\n",
       "      <th>2</th>\n",
       "      <td>0.134163</td>\n",
       "      <td>0.093527</td>\n",
       "      <td>0.031798</td>\n",
       "      <td>0.032059</td>\n",
       "      <td>0.079389</td>\n",
       "      <td>0.032634</td>\n",
       "      <td>0.031152</td>\n",
       "      <td>0.034691</td>\n",
       "      <td>0.029130</td>\n",
       "      <td>0.014155</td>\n",
       "      <td>...</td>\n",
       "      <td>0.007461</td>\n",
       "      <td>0.014190</td>\n",
       "      <td>0.006747</td>\n",
       "      <td>0.039503</td>\n",
       "      <td>0.014818</td>\n",
       "      <td>0.029932</td>\n",
       "      <td>0.016073</td>\n",
       "      <td>0.008838</td>\n",
       "      <td>0.015986</td>\n",
       "      <td>SRR11577124.6861</td>\n",
       "    </tr>\n",
       "    <tr>\n",
       "      <th>3</th>\n",
       "      <td>0.118094</td>\n",
       "      <td>0.087730</td>\n",
       "      <td>0.035095</td>\n",
       "      <td>0.030995</td>\n",
       "      <td>0.074659</td>\n",
       "      <td>0.034622</td>\n",
       "      <td>0.037671</td>\n",
       "      <td>0.036813</td>\n",
       "      <td>0.030102</td>\n",
       "      <td>0.015962</td>\n",
       "      <td>...</td>\n",
       "      <td>0.008410</td>\n",
       "      <td>0.016680</td>\n",
       "      <td>0.008761</td>\n",
       "      <td>0.042560</td>\n",
       "      <td>0.015577</td>\n",
       "      <td>0.028560</td>\n",
       "      <td>0.018170</td>\n",
       "      <td>0.009356</td>\n",
       "      <td>0.016330</td>\n",
       "      <td>SRR11577123.281</td>\n",
       "    </tr>\n",
       "    <tr>\n",
       "      <th>4</th>\n",
       "      <td>0.156806</td>\n",
       "      <td>0.108265</td>\n",
       "      <td>0.030151</td>\n",
       "      <td>0.029880</td>\n",
       "      <td>0.091320</td>\n",
       "      <td>0.027477</td>\n",
       "      <td>0.030801</td>\n",
       "      <td>0.037810</td>\n",
       "      <td>0.024966</td>\n",
       "      <td>0.014380</td>\n",
       "      <td>...</td>\n",
       "      <td>0.004462</td>\n",
       "      <td>0.011670</td>\n",
       "      <td>0.005058</td>\n",
       "      <td>0.035173</td>\n",
       "      <td>0.013730</td>\n",
       "      <td>0.027098</td>\n",
       "      <td>0.013784</td>\n",
       "      <td>0.005636</td>\n",
       "      <td>0.011779</td>\n",
       "      <td>SRR11577124.5416</td>\n",
       "    </tr>\n",
       "  </tbody>\n",
       "</table>\n",
       "<p>5 rows × 33 columns</p>\n",
       "</div>"
      ],
      "text/plain": [
       "          0         1         2         3         4         5         6  \\\n",
       "0  0.113144  0.086889  0.033131  0.032426  0.070811  0.036104  0.038280   \n",
       "1  0.173402  0.125970  0.028133  0.025564  0.093235  0.027226  0.032349   \n",
       "2  0.134163  0.093527  0.031798  0.032059  0.079389  0.032634  0.031152   \n",
       "3  0.118094  0.087730  0.035095  0.030995  0.074659  0.034622  0.037671   \n",
       "4  0.156806  0.108265  0.030151  0.029880  0.091320  0.027477  0.030801   \n",
       "\n",
       "          7         8         9  ...        23        24        25        26  \\\n",
       "0  0.036554  0.027742  0.018074  ...  0.007731  0.016858  0.008196  0.040922   \n",
       "1  0.033491  0.022070  0.010817  ...  0.003930  0.010178  0.004031  0.035070   \n",
       "2  0.034691  0.029130  0.014155  ...  0.007461  0.014190  0.006747  0.039503   \n",
       "3  0.036813  0.030102  0.015962  ...  0.008410  0.016680  0.008761  0.042560   \n",
       "4  0.037810  0.024966  0.014380  ...  0.004462  0.011670  0.005058  0.035173   \n",
       "\n",
       "         27        28        29        30        31               ids  \n",
       "0  0.016738  0.028553  0.018855  0.008977  0.018194  SRR11577127.2135  \n",
       "1  0.010615  0.024001  0.013050  0.006618  0.009842  SRR11577125.5626  \n",
       "2  0.014818  0.029932  0.016073  0.008838  0.015986  SRR11577124.6861  \n",
       "3  0.015577  0.028560  0.018170  0.009356  0.016330   SRR11577123.281  \n",
       "4  0.013730  0.027098  0.013784  0.005636  0.011779  SRR11577124.5416  \n",
       "\n",
       "[5 rows x 33 columns]"
      ]
     },
     "execution_count": 57,
     "metadata": {},
     "output_type": "execute_result"
    }
   ],
   "source": [
    "hist_df= pd.DataFrame(hist)\n",
    "hist_df.rename(columns={hist_df.iloc[:,-1].name:'ids'}, inplace=True)\n",
    "hist_df.head()"
   ]
  },
  {
   "cell_type": "markdown",
   "metadata": {},
   "source": [
    "# Dimensionality reduction with PCA and clustering with k-means "
   ]
  },
  {
   "cell_type": "code",
   "execution_count": 58,
   "metadata": {},
   "outputs": [],
   "source": [
    "from sklearn.decomposition import PCA\n",
    "from sklearn.cluster import KMeans"
   ]
  },
  {
   "cell_type": "code",
   "execution_count": 59,
   "metadata": {},
   "outputs": [
    {
     "data": {
      "text/html": [
       "<style>#sk-container-id-3 {color: black;}#sk-container-id-3 pre{padding: 0;}#sk-container-id-3 div.sk-toggleable {background-color: white;}#sk-container-id-3 label.sk-toggleable__label {cursor: pointer;display: block;width: 100%;margin-bottom: 0;padding: 0.3em;box-sizing: border-box;text-align: center;}#sk-container-id-3 label.sk-toggleable__label-arrow:before {content: \"▸\";float: left;margin-right: 0.25em;color: #696969;}#sk-container-id-3 label.sk-toggleable__label-arrow:hover:before {color: black;}#sk-container-id-3 div.sk-estimator:hover label.sk-toggleable__label-arrow:before {color: black;}#sk-container-id-3 div.sk-toggleable__content {max-height: 0;max-width: 0;overflow: hidden;text-align: left;background-color: #f0f8ff;}#sk-container-id-3 div.sk-toggleable__content pre {margin: 0.2em;color: black;border-radius: 0.25em;background-color: #f0f8ff;}#sk-container-id-3 input.sk-toggleable__control:checked~div.sk-toggleable__content {max-height: 200px;max-width: 100%;overflow: auto;}#sk-container-id-3 input.sk-toggleable__control:checked~label.sk-toggleable__label-arrow:before {content: \"▾\";}#sk-container-id-3 div.sk-estimator input.sk-toggleable__control:checked~label.sk-toggleable__label {background-color: #d4ebff;}#sk-container-id-3 div.sk-label input.sk-toggleable__control:checked~label.sk-toggleable__label {background-color: #d4ebff;}#sk-container-id-3 input.sk-hidden--visually {border: 0;clip: rect(1px 1px 1px 1px);clip: rect(1px, 1px, 1px, 1px);height: 1px;margin: -1px;overflow: hidden;padding: 0;position: absolute;width: 1px;}#sk-container-id-3 div.sk-estimator {font-family: monospace;background-color: #f0f8ff;border: 1px dotted black;border-radius: 0.25em;box-sizing: border-box;margin-bottom: 0.5em;}#sk-container-id-3 div.sk-estimator:hover {background-color: #d4ebff;}#sk-container-id-3 div.sk-parallel-item::after {content: \"\";width: 100%;border-bottom: 1px solid gray;flex-grow: 1;}#sk-container-id-3 div.sk-label:hover label.sk-toggleable__label {background-color: #d4ebff;}#sk-container-id-3 div.sk-serial::before {content: \"\";position: absolute;border-left: 1px solid gray;box-sizing: border-box;top: 0;bottom: 0;left: 50%;z-index: 0;}#sk-container-id-3 div.sk-serial {display: flex;flex-direction: column;align-items: center;background-color: white;padding-right: 0.2em;padding-left: 0.2em;position: relative;}#sk-container-id-3 div.sk-item {position: relative;z-index: 1;}#sk-container-id-3 div.sk-parallel {display: flex;align-items: stretch;justify-content: center;background-color: white;position: relative;}#sk-container-id-3 div.sk-item::before, #sk-container-id-3 div.sk-parallel-item::before {content: \"\";position: absolute;border-left: 1px solid gray;box-sizing: border-box;top: 0;bottom: 0;left: 50%;z-index: -1;}#sk-container-id-3 div.sk-parallel-item {display: flex;flex-direction: column;z-index: 1;position: relative;background-color: white;}#sk-container-id-3 div.sk-parallel-item:first-child::after {align-self: flex-end;width: 50%;}#sk-container-id-3 div.sk-parallel-item:last-child::after {align-self: flex-start;width: 50%;}#sk-container-id-3 div.sk-parallel-item:only-child::after {width: 0;}#sk-container-id-3 div.sk-dashed-wrapped {border: 1px dashed gray;margin: 0 0.4em 0.5em 0.4em;box-sizing: border-box;padding-bottom: 0.4em;background-color: white;}#sk-container-id-3 div.sk-label label {font-family: monospace;font-weight: bold;display: inline-block;line-height: 1.2em;}#sk-container-id-3 div.sk-label-container {text-align: center;}#sk-container-id-3 div.sk-container {/* jupyter's `normalize.less` sets `[hidden] { display: none; }` but bootstrap.min.css set `[hidden] { display: none !important; }` so we also need the `!important` here to be able to override the default hidden behavior on the sphinx rendered scikit-learn.org. See: https://github.com/scikit-learn/scikit-learn/issues/21755 */display: inline-block !important;position: relative;}#sk-container-id-3 div.sk-text-repr-fallback {display: none;}</style><div id=\"sk-container-id-3\" class=\"sk-top-container\"><div class=\"sk-text-repr-fallback\"><pre>PCA(n_components=2)</pre><b>In a Jupyter environment, please rerun this cell to show the HTML representation or trust the notebook. <br />On GitHub, the HTML representation is unable to render, please try loading this page with nbviewer.org.</b></div><div class=\"sk-container\" hidden><div class=\"sk-item\"><div class=\"sk-estimator sk-toggleable\"><input class=\"sk-toggleable__control sk-hidden--visually\" id=\"sk-estimator-id-3\" type=\"checkbox\" checked><label for=\"sk-estimator-id-3\" class=\"sk-toggleable__label sk-toggleable__label-arrow\">PCA</label><div class=\"sk-toggleable__content\"><pre>PCA(n_components=2)</pre></div></div></div></div></div>"
      ],
      "text/plain": [
       "PCA(n_components=2)"
      ]
     },
     "execution_count": 59,
     "metadata": {},
     "output_type": "execute_result"
    }
   ],
   "source": [
    "pca = PCA(n_components=2)\n",
    "pca.fit(hist_df.iloc[:,:-2])"
   ]
  },
  {
   "cell_type": "code",
   "execution_count": 60,
   "metadata": {},
   "outputs": [
    {
     "data": {
      "text/plain": [
       "array([0.00142037, 0.00022534])"
      ]
     },
     "execution_count": 60,
     "metadata": {},
     "output_type": "execute_result"
    }
   ],
   "source": [
    "## Components and variance explained \n",
    "pca.explained_variance_\n",
    "#pca.components_"
   ]
  },
  {
   "cell_type": "code",
   "execution_count": 61,
   "metadata": {},
   "outputs": [
    {
     "data": {
      "text/html": [
       "<div>\n",
       "<style scoped>\n",
       "    .dataframe tbody tr th:only-of-type {\n",
       "        vertical-align: middle;\n",
       "    }\n",
       "\n",
       "    .dataframe tbody tr th {\n",
       "        vertical-align: top;\n",
       "    }\n",
       "\n",
       "    .dataframe thead th {\n",
       "        text-align: right;\n",
       "    }\n",
       "</style>\n",
       "<table border=\"1\" class=\"dataframe\">\n",
       "  <thead>\n",
       "    <tr style=\"text-align: right;\">\n",
       "      <th></th>\n",
       "      <th>comp1</th>\n",
       "      <th>comp2</th>\n",
       "      <th>ids</th>\n",
       "      <th>coverage</th>\n",
       "      <th>repr_read_len</th>\n",
       "      <th>id_cluster</th>\n",
       "      <th>transform</th>\n",
       "      <th>mt</th>\n",
       "      <th>coverage_norm</th>\n",
       "    </tr>\n",
       "  </thead>\n",
       "  <tbody>\n",
       "    <tr>\n",
       "      <th>5</th>\n",
       "      <td>0.006470</td>\n",
       "      <td>-0.000115</td>\n",
       "      <td>SRR11577126.5643</td>\n",
       "      <td>5</td>\n",
       "      <td>54425</td>\n",
       "      <td>6</td>\n",
       "      <td>2.321928</td>\n",
       "      <td>10</td>\n",
       "      <td>0.000092</td>\n",
       "    </tr>\n",
       "    <tr>\n",
       "      <th>6</th>\n",
       "      <td>-0.012469</td>\n",
       "      <td>0.000193</td>\n",
       "      <td>SRR11577128.608</td>\n",
       "      <td>4</td>\n",
       "      <td>52756</td>\n",
       "      <td>7</td>\n",
       "      <td>2.000000</td>\n",
       "      <td>10</td>\n",
       "      <td>0.000076</td>\n",
       "    </tr>\n",
       "    <tr>\n",
       "      <th>7</th>\n",
       "      <td>-0.002005</td>\n",
       "      <td>-0.002050</td>\n",
       "      <td>SRR11577127.3038</td>\n",
       "      <td>12</td>\n",
       "      <td>50777</td>\n",
       "      <td>8</td>\n",
       "      <td>3.584963</td>\n",
       "      <td>10</td>\n",
       "      <td>0.000236</td>\n",
       "    </tr>\n",
       "    <tr>\n",
       "      <th>14</th>\n",
       "      <td>0.010906</td>\n",
       "      <td>-0.005498</td>\n",
       "      <td>SRR11577129.1153</td>\n",
       "      <td>3</td>\n",
       "      <td>43685</td>\n",
       "      <td>15</td>\n",
       "      <td>1.584963</td>\n",
       "      <td>10</td>\n",
       "      <td>0.000069</td>\n",
       "    </tr>\n",
       "    <tr>\n",
       "      <th>19</th>\n",
       "      <td>0.015068</td>\n",
       "      <td>-0.008129</td>\n",
       "      <td>SRR11577126.3210</td>\n",
       "      <td>3</td>\n",
       "      <td>41537</td>\n",
       "      <td>20</td>\n",
       "      <td>1.584963</td>\n",
       "      <td>10</td>\n",
       "      <td>0.000072</td>\n",
       "    </tr>\n",
       "    <tr>\n",
       "      <th>21</th>\n",
       "      <td>0.001628</td>\n",
       "      <td>0.060118</td>\n",
       "      <td>SRR11577126.1428</td>\n",
       "      <td>16</td>\n",
       "      <td>40912</td>\n",
       "      <td>22</td>\n",
       "      <td>4.000000</td>\n",
       "      <td>10</td>\n",
       "      <td>0.000391</td>\n",
       "    </tr>\n",
       "    <tr>\n",
       "      <th>23</th>\n",
       "      <td>-0.013281</td>\n",
       "      <td>0.002979</td>\n",
       "      <td>SRR11577126.1742</td>\n",
       "      <td>7</td>\n",
       "      <td>39518</td>\n",
       "      <td>24</td>\n",
       "      <td>2.807355</td>\n",
       "      <td>10</td>\n",
       "      <td>0.000177</td>\n",
       "    </tr>\n",
       "    <tr>\n",
       "      <th>33</th>\n",
       "      <td>-0.032820</td>\n",
       "      <td>0.012074</td>\n",
       "      <td>SRR11577127.7239</td>\n",
       "      <td>3</td>\n",
       "      <td>31080</td>\n",
       "      <td>34</td>\n",
       "      <td>1.584963</td>\n",
       "      <td>10</td>\n",
       "      <td>0.000097</td>\n",
       "    </tr>\n",
       "    <tr>\n",
       "      <th>42</th>\n",
       "      <td>-0.016326</td>\n",
       "      <td>0.001710</td>\n",
       "      <td>SRR11577125.6951</td>\n",
       "      <td>3</td>\n",
       "      <td>27367</td>\n",
       "      <td>43</td>\n",
       "      <td>1.584963</td>\n",
       "      <td>10</td>\n",
       "      <td>0.000110</td>\n",
       "    </tr>\n",
       "    <tr>\n",
       "      <th>43</th>\n",
       "      <td>0.006198</td>\n",
       "      <td>-0.000531</td>\n",
       "      <td>SRR11577125.3156</td>\n",
       "      <td>3</td>\n",
       "      <td>27176</td>\n",
       "      <td>44</td>\n",
       "      <td>1.584963</td>\n",
       "      <td>10</td>\n",
       "      <td>0.000110</td>\n",
       "    </tr>\n",
       "    <tr>\n",
       "      <th>55</th>\n",
       "      <td>0.015608</td>\n",
       "      <td>-0.007956</td>\n",
       "      <td>SRR11577123.263</td>\n",
       "      <td>4</td>\n",
       "      <td>21537</td>\n",
       "      <td>56</td>\n",
       "      <td>2.000000</td>\n",
       "      <td>10</td>\n",
       "      <td>0.000186</td>\n",
       "    </tr>\n",
       "  </tbody>\n",
       "</table>\n",
       "</div>"
      ],
      "text/plain": [
       "       comp1     comp2               ids  coverage  repr_read_len  id_cluster  \\\n",
       "5   0.006470 -0.000115  SRR11577126.5643         5          54425           6   \n",
       "6  -0.012469  0.000193   SRR11577128.608         4          52756           7   \n",
       "7  -0.002005 -0.002050  SRR11577127.3038        12          50777           8   \n",
       "14  0.010906 -0.005498  SRR11577129.1153         3          43685          15   \n",
       "19  0.015068 -0.008129  SRR11577126.3210         3          41537          20   \n",
       "21  0.001628  0.060118  SRR11577126.1428        16          40912          22   \n",
       "23 -0.013281  0.002979  SRR11577126.1742         7          39518          24   \n",
       "33 -0.032820  0.012074  SRR11577127.7239         3          31080          34   \n",
       "42 -0.016326  0.001710  SRR11577125.6951         3          27367          43   \n",
       "43  0.006198 -0.000531  SRR11577125.3156         3          27176          44   \n",
       "55  0.015608 -0.007956   SRR11577123.263         4          21537          56   \n",
       "\n",
       "    transform  mt  coverage_norm  \n",
       "5    2.321928  10       0.000092  \n",
       "6    2.000000  10       0.000076  \n",
       "7    3.584963  10       0.000236  \n",
       "14   1.584963  10       0.000069  \n",
       "19   1.584963  10       0.000072  \n",
       "21   4.000000  10       0.000391  \n",
       "23   2.807355  10       0.000177  \n",
       "33   1.584963  10       0.000097  \n",
       "42   1.584963  10       0.000110  \n",
       "43   1.584963  10       0.000110  \n",
       "55   2.000000  10       0.000186  "
      ]
     },
     "execution_count": 61,
     "metadata": {},
     "output_type": "execute_result"
    }
   ],
   "source": [
    "kmer_reduction = pca.fit_transform(hist_df.iloc[:,:-2])\n",
    "kmer_reduction = pd.DataFrame(kmer_reduction, columns=['comp1', 'comp2'])\n",
    "\n",
    "## merging the dataframe with ids and other relevant information\n",
    "kmer_reduction ['ids'] = hist_df['ids']\n",
    "kmer_reduction = kmer_reduction.merge(clusters, how='left', left_on='ids', right_on='id_longest_read')\n",
    "kmer_reduction.drop(columns='id_longest_read', inplace=True)\n",
    "\n",
    "## Annotate which reads are mitochondrial\n",
    "kmer_reduction['mt'] = [32 if i else 10 for i in kmer_reduction['ids'].isin(ids_mt)] #+ 1) ** 5\n",
    "kmer_reduction = kmer_reduction[kmer_reduction['coverage'] > min_coverage]\n",
    "kmer_reduction['coverage_norm'] = kmer_reduction['coverage'] / kmer_reduction['repr_read_len']\n",
    "kmer_reduction"
   ]
  },
  {
   "cell_type": "code",
   "execution_count": 62,
   "metadata": {},
   "outputs": [
    {
     "name": "stderr",
     "output_type": "stream",
     "text": [
      "No artists with labels found to put in legend.  Note that artists whose label start with an underscore are ignored when legend() is called with no argument.\n"
     ]
    },
    {
     "data": {
      "text/plain": [
       "Text(0, 0.5, 'comp2')"
      ]
     },
     "execution_count": 62,
     "metadata": {},
     "output_type": "execute_result"
    },
    {
     "data": {
      "image/png": "[encoded data removed]",
      "text/plain": [
       "<Figure size 640x480 with 2 Axes>"
      ]
     },
     "metadata": {},
     "output_type": "display_data"
    }
   ],
   "source": [
    "sc = plt.scatter(kmer_reduction['comp1'],kmer_reduction['comp2'], c=kmer_reduction['coverage_norm'], s=kmer_reduction['mt'])\n",
    "# legend\n",
    "# Add clusters_list colorbar\n",
    "cbar = plt.colorbar(sc)\n",
    "cbar.set_label('Color Scale')\n",
    "plt.legend()\n",
    "plt.xlabel('comp1')\n",
    "plt.ylabel('comp2')"
   ]
  },
  {
   "cell_type": "code",
   "execution_count": 63,
   "metadata": {},
   "outputs": [
    {
     "name": "stdout",
     "output_type": "stream",
     "text": [
      "Initialization complete\n",
      "Iteration 0, inertia 0.00396572474208602.\n",
      "Iteration 1, inertia 0.002614498417835629.\n",
      "Converged at iteration 1: strict convergence.\n"
     ]
    }
   ],
   "source": [
    "kmeans = KMeans(n_clusters=2, max_iter=100, init='k-means++', random_state=0, n_init=1,verbose=1)\n",
    "mt_prediction = kmeans.fit_predict(kmer_reduction[['comp1','comp2']])#, sample_weight=kmer_reduction['coverage'])\n",
    "kmer_reduction['cluster_prediction'] = mt_prediction"
   ]
  },
  {
   "cell_type": "code",
   "execution_count": 64,
   "metadata": {},
   "outputs": [
    {
     "data": {
      "text/plain": [
       "Text(0, 0.5, 'comp2')"
      ]
     },
     "execution_count": 64,
     "metadata": {},
     "output_type": "execute_result"
    },
    {
     "data": {
      "image/png": "[encoded data removed]",
      "text/plain": [
       "<Figure size 640x480 with 1 Axes>"
      ]
     },
     "metadata": {},
     "output_type": "display_data"
    }
   ],
   "source": [
    "plt.scatter(x=kmer_reduction['comp1'], y=kmer_reduction['comp2'], c=mt_prediction, s=kmer_reduction['mt'])\n",
    "plt.xlabel('comp1')\n",
    "plt.ylabel('comp2')"
   ]
  },
  {
   "cell_type": "markdown",
   "metadata": {},
   "source": [
    "# Get the cluster of interest\n",
    "\n",
    "This step is clusters_list pain in the ass, but since I am looking to keep the free-reference. "
   ]
  },
  {
   "cell_type": "code",
   "execution_count": 65,
   "metadata": {},
   "outputs": [
    {
     "data": {
      "text/html": [
       "<div>\n",
       "<style scoped>\n",
       "    .dataframe tbody tr th:only-of-type {\n",
       "        vertical-align: middle;\n",
       "    }\n",
       "\n",
       "    .dataframe tbody tr th {\n",
       "        vertical-align: top;\n",
       "    }\n",
       "\n",
       "    .dataframe thead th {\n",
       "        text-align: right;\n",
       "    }\n",
       "</style>\n",
       "<table border=\"1\" class=\"dataframe\">\n",
       "  <thead>\n",
       "    <tr style=\"text-align: right;\">\n",
       "      <th></th>\n",
       "      <th>comp1</th>\n",
       "      <th>comp2</th>\n",
       "      <th>ids</th>\n",
       "      <th>coverage</th>\n",
       "      <th>repr_read_len</th>\n",
       "      <th>id_cluster</th>\n",
       "      <th>transform</th>\n",
       "      <th>mt</th>\n",
       "      <th>coverage_norm</th>\n",
       "      <th>cluster_prediction</th>\n",
       "    </tr>\n",
       "  </thead>\n",
       "  <tbody>\n",
       "    <tr>\n",
       "      <th>21</th>\n",
       "      <td>0.001628</td>\n",
       "      <td>0.060118</td>\n",
       "      <td>SRR11577126.1428</td>\n",
       "      <td>16</td>\n",
       "      <td>40912</td>\n",
       "      <td>22</td>\n",
       "      <td>4.0</td>\n",
       "      <td>10</td>\n",
       "      <td>0.000391</td>\n",
       "      <td>1</td>\n",
       "    </tr>\n",
       "  </tbody>\n",
       "</table>\n",
       "</div>"
      ],
      "text/plain": [
       "       comp1     comp2               ids  coverage  repr_read_len  id_cluster  \\\n",
       "21  0.001628  0.060118  SRR11577126.1428        16          40912          22   \n",
       "\n",
       "    transform  mt  coverage_norm  cluster_prediction  \n",
       "21        4.0  10       0.000391                   1  "
      ]
     },
     "execution_count": 65,
     "metadata": {},
     "output_type": "execute_result"
    }
   ],
   "source": [
    "selected_cluster_id = kmer_reduction.loc[:, kmer_reduction.columns != 'ids'].groupby(by='cluster_prediction')['coverage_norm'].median().idxmax()\n",
    "selected_cluster = kmer_reduction[kmer_reduction['cluster_prediction'] == selected_cluster_id]\n",
    "selected_cluster.sort_values('coverage')"
   ]
  },
  {
   "cell_type": "code",
   "execution_count": 66,
   "metadata": {},
   "outputs": [
    {
     "name": "stdout",
     "output_type": "stream",
     "text": [
      "16 reads retrieved\n"
     ]
    }
   ],
   "source": [
    "sequences_ids = set()\n",
    "for i in selected_cluster['id_cluster']:\n",
    "    sequences_ids.update(clusters_list.get_cluster(i).id_sequences)\n",
    "write_fasta(fasta=fasta, sequences_ids=sequences_ids, output='test/a_gifuensis/mt_reads_v1.fasta')"
   ]
  }
 ],
 "metadata": {
  "kernelspec": {
   "display_name": "mitnanex",
   "language": "python",
   "name": "python3"
  },
  "language_info": {
   "codemirror_mode": {
    "name": "ipython",
    "version": 3
   },
   "file_extension": ".py",
   "mimetype": "text/x-python",
   "name": "python",
   "nbconvert_exporter": "python",
   "pygments_lexer": "ipython3",
   "version": "3.10.12"
  },
  "orig_nbformat": 4
 },
 "nbformat": 4,
 "nbformat_minor": 2
}

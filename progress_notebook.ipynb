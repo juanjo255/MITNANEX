{
 "cells": [
  {
   "cell_type": "code",
   "execution_count": 65,
   "metadata": {},
   "outputs": [],
   "source": [
    "from src.mitnanex import run\n",
    "import pandas as pd\n",
    "import matplotlib.pyplot as plt\n",
    "from sklearn.neighbors import KernelDensity"
   ]
  },
  {
   "cell_type": "code",
   "execution_count": 66,
   "metadata": {},
   "outputs": [],
   "source": [
    "\n",
    "clusters_list = run(\"test/a_gifuensis/a_gifuensis_all_containments.paf\")\n",
    "\n",
    "# I need to plot the coverage of clusters\n",
    "coverages_df = pd.DataFrame(\n",
    "    {\n",
    "        \"coverage\": [i.coverage for i in clusters_list.clusters],\n",
    "        \"repr_read_len\": [i.longest_read_length for i in clusters_list.clusters],\n",
    "        \"id_longest_read\": [i.longest_read_id for i in clusters_list.clusters],\n",
    "        \"id_cluster\":[i.id_cluster for i in clusters_list.clusters],\n",
    "    }\n",
    ")"
   ]
  },
  {
   "cell_type": "code",
   "execution_count": 67,
   "metadata": {},
   "outputs": [
    {
     "data": {
      "text/html": [
       "<div>\n",
       "<style scoped>\n",
       "    .dataframe tbody tr th:only-of-type {\n",
       "        vertical-align: middle;\n",
       "    }\n",
       "\n",
       "    .dataframe tbody tr th {\n",
       "        vertical-align: top;\n",
       "    }\n",
       "\n",
       "    .dataframe thead th {\n",
       "        text-align: right;\n",
       "    }\n",
       "</style>\n",
       "<table border=\"1\" class=\"dataframe\">\n",
       "  <thead>\n",
       "    <tr style=\"text-align: right;\">\n",
       "      <th></th>\n",
       "      <th>coverage</th>\n",
       "      <th>repr_read_len</th>\n",
       "      <th>id_longest_read</th>\n",
       "      <th>id_cluster</th>\n",
       "    </tr>\n",
       "  </thead>\n",
       "  <tbody>\n",
       "    <tr>\n",
       "      <th>59</th>\n",
       "      <td>2</td>\n",
       "      <td>22384</td>\n",
       "      <td>SRR11577123.1234</td>\n",
       "      <td>60</td>\n",
       "    </tr>\n",
       "    <tr>\n",
       "      <th>196</th>\n",
       "      <td>2</td>\n",
       "      <td>9265</td>\n",
       "      <td>SRR11577123.1404</td>\n",
       "      <td>197</td>\n",
       "    </tr>\n",
       "    <tr>\n",
       "      <th>52</th>\n",
       "      <td>3</td>\n",
       "      <td>22612</td>\n",
       "      <td>SRR11577123.2900</td>\n",
       "      <td>53</td>\n",
       "    </tr>\n",
       "    <tr>\n",
       "      <th>5</th>\n",
       "      <td>2</td>\n",
       "      <td>24877</td>\n",
       "      <td>SRR11577123.2979</td>\n",
       "      <td>6</td>\n",
       "    </tr>\n",
       "    <tr>\n",
       "      <th>152</th>\n",
       "      <td>2</td>\n",
       "      <td>16105</td>\n",
       "      <td>SRR11577123.3023</td>\n",
       "      <td>153</td>\n",
       "    </tr>\n",
       "  </tbody>\n",
       "</table>\n",
       "</div>"
      ],
      "text/plain": [
       "     coverage  repr_read_len   id_longest_read  id_cluster\n",
       "59          2          22384  SRR11577123.1234          60\n",
       "196         2           9265  SRR11577123.1404         197\n",
       "52          3          22612  SRR11577123.2900          53\n",
       "5           2          24877  SRR11577123.2979           6\n",
       "152         2          16105  SRR11577123.3023         153"
      ]
     },
     "execution_count": 67,
     "metadata": {},
     "output_type": "execute_result"
    }
   ],
   "source": [
    "# Test on the first 30 clusters\n",
    "import math\n",
    "clusters = coverages_df.sort_values(by='coverage', ascending=False)\n",
    "clusters.sort_values(by='id_longest_read',inplace=True)\n",
    "clusters.head()"
   ]
  },
  {
   "cell_type": "markdown",
   "metadata": {},
   "source": [
    "# Coverage\n",
    "\n",
    "The first step is to filter the reads by coverage. For that I will explore the use of Kernel Density since this is clusters_list one dimensional clustering."
   ]
  },
  {
   "cell_type": "code",
   "execution_count": 68,
   "metadata": {},
   "outputs": [
    {
     "data": {
      "text/html": [
       "<div>\n",
       "<style scoped>\n",
       "    .dataframe tbody tr th:only-of-type {\n",
       "        vertical-align: middle;\n",
       "    }\n",
       "\n",
       "    .dataframe tbody tr th {\n",
       "        vertical-align: top;\n",
       "    }\n",
       "\n",
       "    .dataframe thead th {\n",
       "        text-align: right;\n",
       "    }\n",
       "</style>\n",
       "<table border=\"1\" class=\"dataframe\">\n",
       "  <thead>\n",
       "    <tr style=\"text-align: right;\">\n",
       "      <th></th>\n",
       "      <th>coverage</th>\n",
       "      <th>repr_read_len</th>\n",
       "      <th>id_longest_read</th>\n",
       "      <th>id_cluster</th>\n",
       "      <th>transform</th>\n",
       "    </tr>\n",
       "  </thead>\n",
       "  <tbody>\n",
       "    <tr>\n",
       "      <th>55</th>\n",
       "      <td>19</td>\n",
       "      <td>22508</td>\n",
       "      <td>SRR11577129.3284</td>\n",
       "      <td>56</td>\n",
       "      <td>4.247928</td>\n",
       "    </tr>\n",
       "    <tr>\n",
       "      <th>30</th>\n",
       "      <td>8</td>\n",
       "      <td>23517</td>\n",
       "      <td>SRR11577123.383</td>\n",
       "      <td>31</td>\n",
       "      <td>3.000000</td>\n",
       "    </tr>\n",
       "    <tr>\n",
       "      <th>105</th>\n",
       "      <td>7</td>\n",
       "      <td>19874</td>\n",
       "      <td>SRR11577129.1807</td>\n",
       "      <td>106</td>\n",
       "      <td>2.807355</td>\n",
       "    </tr>\n",
       "    <tr>\n",
       "      <th>7</th>\n",
       "      <td>5</td>\n",
       "      <td>24723</td>\n",
       "      <td>SRR11577129.5621</td>\n",
       "      <td>8</td>\n",
       "      <td>2.321928</td>\n",
       "    </tr>\n",
       "    <tr>\n",
       "      <th>1</th>\n",
       "      <td>5</td>\n",
       "      <td>24929</td>\n",
       "      <td>SRR11577123.5029</td>\n",
       "      <td>2</td>\n",
       "      <td>2.321928</td>\n",
       "    </tr>\n",
       "  </tbody>\n",
       "</table>\n",
       "</div>"
      ],
      "text/plain": [
       "     coverage  repr_read_len   id_longest_read  id_cluster  transform\n",
       "55         19          22508  SRR11577129.3284          56   4.247928\n",
       "30          8          23517   SRR11577123.383          31   3.000000\n",
       "105         7          19874  SRR11577129.1807         106   2.807355\n",
       "7           5          24723  SRR11577129.5621           8   2.321928\n",
       "1           5          24929  SRR11577123.5029           2   2.321928"
      ]
     },
     "execution_count": 68,
     "metadata": {},
     "output_type": "execute_result"
    }
   ],
   "source": [
    "clusters['transform'] = [math.log2(i)for i in clusters['coverage']]\n",
    "clusters.sort_values('coverage',ascending=False, inplace=True)\n",
    "clusters.head()"
   ]
  },
  {
   "cell_type": "code",
   "execution_count": 69,
   "metadata": {},
   "outputs": [
    {
     "data": {
      "text/plain": [
       "<Axes: >"
      ]
     },
     "execution_count": 69,
     "metadata": {},
     "output_type": "execute_result"
    },
    {
     "data": {
      "image/png": "[encoded data removed]",
      "text/plain": [
       "<Figure size 640x480 with 1 Axes>"
      ]
     },
     "metadata": {},
     "output_type": "display_data"
    }
   ],
   "source": [
    "clusters['transform'].hist()"
   ]
  },
  {
   "cell_type": "code",
   "execution_count": 70,
   "metadata": {},
   "outputs": [
    {
     "data": {
      "text/plain": [
       "<matplotlib.collections.PathCollection at 0x1539ec940>"
      ]
     },
     "execution_count": 70,
     "metadata": {},
     "output_type": "execute_result"
    },
    {
     "data": {
      "image/png": "[encoded data removed]",
      "text/plain": [
       "<Figure size 640x480 with 1 Axes>"
      ]
     },
     "metadata": {},
     "output_type": "display_data"
    }
   ],
   "source": [
    "plt.scatter(x=clusters['transform'], y=clusters['coverage'])"
   ]
  },
  {
   "cell_type": "code",
   "execution_count": 71,
   "metadata": {},
   "outputs": [
    {
     "data": {
      "text/plain": [
       "[<matplotlib.lines.Line2D at 0x153a63e20>]"
      ]
     },
     "execution_count": 71,
     "metadata": {},
     "output_type": "execute_result"
    },
    {
     "data": {
      "image/png": "[encoded data removed]",
      "text/plain": [
       "<Figure size 640x480 with 1 Axes>"
      ]
     },
     "metadata": {},
     "output_type": "display_data"
    }
   ],
   "source": [
    "kde = KernelDensity(kernel='gaussian', bandwidth=1).fit(clusters['coverage'].array.reshape(-1,1))\n",
    "cov_fdp = kde.score_samples(clusters['coverage'].array.reshape(-1,1))\n",
    "plt.plot(clusters['transform'], cov_fdp)"
   ]
  },
  {
   "cell_type": "code",
   "execution_count": 72,
   "metadata": {},
   "outputs": [
    {
     "name": "stdout",
     "output_type": "stream",
     "text": [
      "Covertura minima admitida:  1\n"
     ]
    }
   ],
   "source": [
    "from scipy.signal import argrelextrema\n",
    "import numpy as np\n",
    "local_min = argrelextrema(cov_fdp, np.less)[0]\n",
    "if len(local_min) < 1:\n",
    "    min_coverage = 1\n",
    "else:\n",
    "    min_coverage = clusters.iloc[max(local_min),:]['coverage']\n",
    "print(\"Covertura minima admitida: \", min_coverage)"
   ]
  },
  {
   "cell_type": "markdown",
   "metadata": {},
   "source": [
    "# Oligo composition\n",
    "\n",
    "Once I've detected the clusters with higher coverage, which I expect includes mitochondria and contamination, whether nuclear or external, I have to purify these groups. To do this I will use the oligo composition as it is used during metagenomics binning.\n",
    "\n",
    "I will create clusters_list script to get the kmers. The kmer size will be 3 to solve two things: 1. Intrinsec error from Nanopore, 2 smaller set as possible (4**3 possible kmers). \n",
    "\n",
    "Finally, I will reduce dimensionality using PCA"
   ]
  },
  {
   "cell_type": "code",
   "execution_count": 73,
   "metadata": {},
   "outputs": [],
   "source": [
    "from src.utils import get_sequences_by_id, write_fasta\n",
    "from src.kmer_cnt import count_kmer"
   ]
  },
  {
   "cell_type": "code",
   "execution_count": 75,
   "metadata": {},
   "outputs": [],
   "source": [
    "fasta = 'test/a_gifuensis/a_gifuensis_all_sample.sorted.fastq'\n",
    "repr_reads = [i for i in clusters['id_longest_read']]\n",
    "hist = list()\n",
    "for i in get_sequences_by_id(fasta, repr_reads):\n",
    "    ids, seq = i\n",
    "    hist.append([*count_kmer(k=3,seq=seq).values(),ids])"
   ]
  },
  {
   "cell_type": "code",
   "execution_count": 76,
   "metadata": {},
   "outputs": [],
   "source": [
    "## Get the real mt sequences\n",
    "with open('test/a_gifuensis/chrMT_reads_ids.txt','r') as handle_ids_mt:\n",
    "    ids_mt = handle_ids_mt.read().splitlines()\n",
    "    ids_mt = [i[1:] for i in ids_mt]"
   ]
  },
  {
   "cell_type": "code",
   "execution_count": 77,
   "metadata": {},
   "outputs": [
    {
     "data": {
      "text/html": [
       "<div>\n",
       "<style scoped>\n",
       "    .dataframe tbody tr th:only-of-type {\n",
       "        vertical-align: middle;\n",
       "    }\n",
       "\n",
       "    .dataframe tbody tr th {\n",
       "        vertical-align: top;\n",
       "    }\n",
       "\n",
       "    .dataframe thead th {\n",
       "        text-align: right;\n",
       "    }\n",
       "</style>\n",
       "<table border=\"1\" class=\"dataframe\">\n",
       "  <thead>\n",
       "    <tr style=\"text-align: right;\">\n",
       "      <th></th>\n",
       "      <th>0</th>\n",
       "      <th>1</th>\n",
       "      <th>2</th>\n",
       "      <th>3</th>\n",
       "      <th>4</th>\n",
       "      <th>5</th>\n",
       "      <th>6</th>\n",
       "      <th>7</th>\n",
       "      <th>8</th>\n",
       "      <th>9</th>\n",
       "      <th>...</th>\n",
       "      <th>23</th>\n",
       "      <th>24</th>\n",
       "      <th>25</th>\n",
       "      <th>26</th>\n",
       "      <th>27</th>\n",
       "      <th>28</th>\n",
       "      <th>29</th>\n",
       "      <th>30</th>\n",
       "      <th>31</th>\n",
       "      <th>ids</th>\n",
       "    </tr>\n",
       "  </thead>\n",
       "  <tbody>\n",
       "    <tr>\n",
       "      <th>0</th>\n",
       "      <td>0.147160</td>\n",
       "      <td>0.097385</td>\n",
       "      <td>0.032488</td>\n",
       "      <td>0.033772</td>\n",
       "      <td>0.088922</td>\n",
       "      <td>0.032809</td>\n",
       "      <td>0.036940</td>\n",
       "      <td>0.037903</td>\n",
       "      <td>0.025910</td>\n",
       "      <td>0.015041</td>\n",
       "      <td>...</td>\n",
       "      <td>0.003610</td>\n",
       "      <td>0.009706</td>\n",
       "      <td>0.004492</td>\n",
       "      <td>0.035858</td>\n",
       "      <td>0.013236</td>\n",
       "      <td>0.026993</td>\n",
       "      <td>0.015282</td>\n",
       "      <td>0.006177</td>\n",
       "      <td>0.011190</td>\n",
       "      <td>SRR11577129.1347</td>\n",
       "    </tr>\n",
       "    <tr>\n",
       "      <th>1</th>\n",
       "      <td>0.129418</td>\n",
       "      <td>0.091908</td>\n",
       "      <td>0.030329</td>\n",
       "      <td>0.030649</td>\n",
       "      <td>0.086693</td>\n",
       "      <td>0.035464</td>\n",
       "      <td>0.041441</td>\n",
       "      <td>0.034782</td>\n",
       "      <td>0.025153</td>\n",
       "      <td>0.015405</td>\n",
       "      <td>...</td>\n",
       "      <td>0.005977</td>\n",
       "      <td>0.016729</td>\n",
       "      <td>0.006539</td>\n",
       "      <td>0.043126</td>\n",
       "      <td>0.012878</td>\n",
       "      <td>0.026878</td>\n",
       "      <td>0.019216</td>\n",
       "      <td>0.007983</td>\n",
       "      <td>0.017451</td>\n",
       "      <td>SRR11577123.5029</td>\n",
       "    </tr>\n",
       "    <tr>\n",
       "      <th>2</th>\n",
       "      <td>0.167757</td>\n",
       "      <td>0.121775</td>\n",
       "      <td>0.029090</td>\n",
       "      <td>0.025639</td>\n",
       "      <td>0.099827</td>\n",
       "      <td>0.027725</td>\n",
       "      <td>0.033303</td>\n",
       "      <td>0.035229</td>\n",
       "      <td>0.022429</td>\n",
       "      <td>0.011194</td>\n",
       "      <td>...</td>\n",
       "      <td>0.003932</td>\n",
       "      <td>0.011074</td>\n",
       "      <td>0.004574</td>\n",
       "      <td>0.035710</td>\n",
       "      <td>0.010593</td>\n",
       "      <td>0.024395</td>\n",
       "      <td>0.012880</td>\n",
       "      <td>0.005015</td>\n",
       "      <td>0.009309</td>\n",
       "      <td>SRR11577124.1047</td>\n",
       "    </tr>\n",
       "    <tr>\n",
       "      <th>3</th>\n",
       "      <td>0.128369</td>\n",
       "      <td>0.083223</td>\n",
       "      <td>0.035225</td>\n",
       "      <td>0.034181</td>\n",
       "      <td>0.080492</td>\n",
       "      <td>0.030927</td>\n",
       "      <td>0.032936</td>\n",
       "      <td>0.036832</td>\n",
       "      <td>0.032092</td>\n",
       "      <td>0.015705</td>\n",
       "      <td>...</td>\n",
       "      <td>0.007672</td>\n",
       "      <td>0.014540</td>\n",
       "      <td>0.006908</td>\n",
       "      <td>0.039322</td>\n",
       "      <td>0.015825</td>\n",
       "      <td>0.030365</td>\n",
       "      <td>0.015745</td>\n",
       "      <td>0.011407</td>\n",
       "      <td>0.015745</td>\n",
       "      <td>SRR11577127.605</td>\n",
       "    </tr>\n",
       "    <tr>\n",
       "      <th>4</th>\n",
       "      <td>0.138092</td>\n",
       "      <td>0.103689</td>\n",
       "      <td>0.031308</td>\n",
       "      <td>0.028454</td>\n",
       "      <td>0.090869</td>\n",
       "      <td>0.033237</td>\n",
       "      <td>0.037055</td>\n",
       "      <td>0.043124</td>\n",
       "      <td>0.022466</td>\n",
       "      <td>0.014227</td>\n",
       "      <td>...</td>\n",
       "      <td>0.003898</td>\n",
       "      <td>0.010128</td>\n",
       "      <td>0.005184</td>\n",
       "      <td>0.033398</td>\n",
       "      <td>0.014107</td>\n",
       "      <td>0.026324</td>\n",
       "      <td>0.018568</td>\n",
       "      <td>0.006069</td>\n",
       "      <td>0.012258</td>\n",
       "      <td>SRR11577123.6720</td>\n",
       "    </tr>\n",
       "  </tbody>\n",
       "</table>\n",
       "<p>5 rows × 33 columns</p>\n",
       "</div>"
      ],
      "text/plain": [
       "          0         1         2         3         4         5         6  \\\n",
       "0  0.147160  0.097385  0.032488  0.033772  0.088922  0.032809  0.036940   \n",
       "1  0.129418  0.091908  0.030329  0.030649  0.086693  0.035464  0.041441   \n",
       "2  0.167757  0.121775  0.029090  0.025639  0.099827  0.027725  0.033303   \n",
       "3  0.128369  0.083223  0.035225  0.034181  0.080492  0.030927  0.032936   \n",
       "4  0.138092  0.103689  0.031308  0.028454  0.090869  0.033237  0.037055   \n",
       "\n",
       "          7         8         9  ...        23        24        25        26  \\\n",
       "0  0.037903  0.025910  0.015041  ...  0.003610  0.009706  0.004492  0.035858   \n",
       "1  0.034782  0.025153  0.015405  ...  0.005977  0.016729  0.006539  0.043126   \n",
       "2  0.035229  0.022429  0.011194  ...  0.003932  0.011074  0.004574  0.035710   \n",
       "3  0.036832  0.032092  0.015705  ...  0.007672  0.014540  0.006908  0.039322   \n",
       "4  0.043124  0.022466  0.014227  ...  0.003898  0.010128  0.005184  0.033398   \n",
       "\n",
       "         27        28        29        30        31               ids  \n",
       "0  0.013236  0.026993  0.015282  0.006177  0.011190  SRR11577129.1347  \n",
       "1  0.012878  0.026878  0.019216  0.007983  0.017451  SRR11577123.5029  \n",
       "2  0.010593  0.024395  0.012880  0.005015  0.009309  SRR11577124.1047  \n",
       "3  0.015825  0.030365  0.015745  0.011407  0.015745   SRR11577127.605  \n",
       "4  0.014107  0.026324  0.018568  0.006069  0.012258  SRR11577123.6720  \n",
       "\n",
       "[5 rows x 33 columns]"
      ]
     },
     "execution_count": 77,
     "metadata": {},
     "output_type": "execute_result"
    }
   ],
   "source": [
    "hist_df= pd.DataFrame(hist)\n",
    "hist_df.rename(columns={hist_df.iloc[:,-1].name:'ids'}, inplace=True)\n",
    "hist_df.head()"
   ]
  },
  {
   "cell_type": "markdown",
   "metadata": {},
   "source": [
    "# Dimensionality reduction with PCA and clustering with k-means "
   ]
  },
  {
   "cell_type": "code",
   "execution_count": 78,
   "metadata": {},
   "outputs": [],
   "source": [
    "from sklearn.decomposition import PCA\n",
    "from sklearn.cluster import KMeans"
   ]
  },
  {
   "cell_type": "code",
   "execution_count": 79,
   "metadata": {},
   "outputs": [
    {
     "data": {
      "text/html": [
       "<style>#sk-container-id-4 {color: black;}#sk-container-id-4 pre{padding: 0;}#sk-container-id-4 div.sk-toggleable {background-color: white;}#sk-container-id-4 label.sk-toggleable__label {cursor: pointer;display: block;width: 100%;margin-bottom: 0;padding: 0.3em;box-sizing: border-box;text-align: center;}#sk-container-id-4 label.sk-toggleable__label-arrow:before {content: \"▸\";float: left;margin-right: 0.25em;color: #696969;}#sk-container-id-4 label.sk-toggleable__label-arrow:hover:before {color: black;}#sk-container-id-4 div.sk-estimator:hover label.sk-toggleable__label-arrow:before {color: black;}#sk-container-id-4 div.sk-toggleable__content {max-height: 0;max-width: 0;overflow: hidden;text-align: left;background-color: #f0f8ff;}#sk-container-id-4 div.sk-toggleable__content pre {margin: 0.2em;color: black;border-radius: 0.25em;background-color: #f0f8ff;}#sk-container-id-4 input.sk-toggleable__control:checked~div.sk-toggleable__content {max-height: 200px;max-width: 100%;overflow: auto;}#sk-container-id-4 input.sk-toggleable__control:checked~label.sk-toggleable__label-arrow:before {content: \"▾\";}#sk-container-id-4 div.sk-estimator input.sk-toggleable__control:checked~label.sk-toggleable__label {background-color: #d4ebff;}#sk-container-id-4 div.sk-label input.sk-toggleable__control:checked~label.sk-toggleable__label {background-color: #d4ebff;}#sk-container-id-4 input.sk-hidden--visually {border: 0;clip: rect(1px 1px 1px 1px);clip: rect(1px, 1px, 1px, 1px);height: 1px;margin: -1px;overflow: hidden;padding: 0;position: absolute;width: 1px;}#sk-container-id-4 div.sk-estimator {font-family: monospace;background-color: #f0f8ff;border: 1px dotted black;border-radius: 0.25em;box-sizing: border-box;margin-bottom: 0.5em;}#sk-container-id-4 div.sk-estimator:hover {background-color: #d4ebff;}#sk-container-id-4 div.sk-parallel-item::after {content: \"\";width: 100%;border-bottom: 1px solid gray;flex-grow: 1;}#sk-container-id-4 div.sk-label:hover label.sk-toggleable__label {background-color: #d4ebff;}#sk-container-id-4 div.sk-serial::before {content: \"\";position: absolute;border-left: 1px solid gray;box-sizing: border-box;top: 0;bottom: 0;left: 50%;z-index: 0;}#sk-container-id-4 div.sk-serial {display: flex;flex-direction: column;align-items: center;background-color: white;padding-right: 0.2em;padding-left: 0.2em;position: relative;}#sk-container-id-4 div.sk-item {position: relative;z-index: 1;}#sk-container-id-4 div.sk-parallel {display: flex;align-items: stretch;justify-content: center;background-color: white;position: relative;}#sk-container-id-4 div.sk-item::before, #sk-container-id-4 div.sk-parallel-item::before {content: \"\";position: absolute;border-left: 1px solid gray;box-sizing: border-box;top: 0;bottom: 0;left: 50%;z-index: -1;}#sk-container-id-4 div.sk-parallel-item {display: flex;flex-direction: column;z-index: 1;position: relative;background-color: white;}#sk-container-id-4 div.sk-parallel-item:first-child::after {align-self: flex-end;width: 50%;}#sk-container-id-4 div.sk-parallel-item:last-child::after {align-self: flex-start;width: 50%;}#sk-container-id-4 div.sk-parallel-item:only-child::after {width: 0;}#sk-container-id-4 div.sk-dashed-wrapped {border: 1px dashed gray;margin: 0 0.4em 0.5em 0.4em;box-sizing: border-box;padding-bottom: 0.4em;background-color: white;}#sk-container-id-4 div.sk-label label {font-family: monospace;font-weight: bold;display: inline-block;line-height: 1.2em;}#sk-container-id-4 div.sk-label-container {text-align: center;}#sk-container-id-4 div.sk-container {/* jupyter's `normalize.less` sets `[hidden] { display: none; }` but bootstrap.min.css set `[hidden] { display: none !important; }` so we also need the `!important` here to be able to override the default hidden behavior on the sphinx rendered scikit-learn.org. See: https://github.com/scikit-learn/scikit-learn/issues/21755 */display: inline-block !important;position: relative;}#sk-container-id-4 div.sk-text-repr-fallback {display: none;}</style><div id=\"sk-container-id-4\" class=\"sk-top-container\"><div class=\"sk-text-repr-fallback\"><pre>PCA(n_components=2)</pre><b>In a Jupyter environment, please rerun this cell to show the HTML representation or trust the notebook. <br />On GitHub, the HTML representation is unable to render, please try loading this page with nbviewer.org.</b></div><div class=\"sk-container\" hidden><div class=\"sk-item\"><div class=\"sk-estimator sk-toggleable\"><input class=\"sk-toggleable__control sk-hidden--visually\" id=\"sk-estimator-id-4\" type=\"checkbox\" checked><label for=\"sk-estimator-id-4\" class=\"sk-toggleable__label sk-toggleable__label-arrow\">PCA</label><div class=\"sk-toggleable__content\"><pre>PCA(n_components=2)</pre></div></div></div></div></div>"
      ],
      "text/plain": [
       "PCA(n_components=2)"
      ]
     },
     "execution_count": 79,
     "metadata": {},
     "output_type": "execute_result"
    }
   ],
   "source": [
    "pca = PCA(n_components=2)\n",
    "pca.fit(hist_df.iloc[:,:-2])"
   ]
  },
  {
   "cell_type": "code",
   "execution_count": 80,
   "metadata": {},
   "outputs": [
    {
     "data": {
      "text/plain": [
       "array([0.00065652, 0.00018207])"
      ]
     },
     "execution_count": 80,
     "metadata": {},
     "output_type": "execute_result"
    }
   ],
   "source": [
    "## Components and variance explained \n",
    "pca.explained_variance_\n",
    "#pca.components_"
   ]
  },
  {
   "cell_type": "code",
   "execution_count": 81,
   "metadata": {},
   "outputs": [
    {
     "data": {
      "text/html": [
       "<div>\n",
       "<style scoped>\n",
       "    .dataframe tbody tr th:only-of-type {\n",
       "        vertical-align: middle;\n",
       "    }\n",
       "\n",
       "    .dataframe tbody tr th {\n",
       "        vertical-align: top;\n",
       "    }\n",
       "\n",
       "    .dataframe thead th {\n",
       "        text-align: right;\n",
       "    }\n",
       "</style>\n",
       "<table border=\"1\" class=\"dataframe\">\n",
       "  <thead>\n",
       "    <tr style=\"text-align: right;\">\n",
       "      <th></th>\n",
       "      <th>comp1</th>\n",
       "      <th>comp2</th>\n",
       "      <th>ids</th>\n",
       "      <th>coverage</th>\n",
       "      <th>repr_read_len</th>\n",
       "      <th>id_cluster</th>\n",
       "      <th>transform</th>\n",
       "      <th>mt</th>\n",
       "    </tr>\n",
       "  </thead>\n",
       "  <tbody>\n",
       "    <tr>\n",
       "      <th>0</th>\n",
       "      <td>0.000579</td>\n",
       "      <td>-0.001037</td>\n",
       "      <td>SRR11577129.1347</td>\n",
       "      <td>3</td>\n",
       "      <td>24934</td>\n",
       "      <td>1</td>\n",
       "      <td>1.584963</td>\n",
       "      <td>1</td>\n",
       "    </tr>\n",
       "    <tr>\n",
       "      <th>1</th>\n",
       "      <td>-0.022727</td>\n",
       "      <td>0.003853</td>\n",
       "      <td>SRR11577123.5029</td>\n",
       "      <td>5</td>\n",
       "      <td>24929</td>\n",
       "      <td>2</td>\n",
       "      <td>2.321928</td>\n",
       "      <td>1</td>\n",
       "    </tr>\n",
       "    <tr>\n",
       "      <th>2</th>\n",
       "      <td>0.040044</td>\n",
       "      <td>0.000633</td>\n",
       "      <td>SRR11577124.1047</td>\n",
       "      <td>4</td>\n",
       "      <td>24925</td>\n",
       "      <td>3</td>\n",
       "      <td>2.000000</td>\n",
       "      <td>1</td>\n",
       "    </tr>\n",
       "    <tr>\n",
       "      <th>3</th>\n",
       "      <td>-0.028825</td>\n",
       "      <td>0.007018</td>\n",
       "      <td>SRR11577127.605</td>\n",
       "      <td>2</td>\n",
       "      <td>24899</td>\n",
       "      <td>4</td>\n",
       "      <td>1.000000</td>\n",
       "      <td>1</td>\n",
       "    </tr>\n",
       "    <tr>\n",
       "      <th>4</th>\n",
       "      <td>-0.002361</td>\n",
       "      <td>-0.003649</td>\n",
       "      <td>SRR11577123.6720</td>\n",
       "      <td>2</td>\n",
       "      <td>24884</td>\n",
       "      <td>5</td>\n",
       "      <td>1.000000</td>\n",
       "      <td>1</td>\n",
       "    </tr>\n",
       "    <tr>\n",
       "      <th>...</th>\n",
       "      <td>...</td>\n",
       "      <td>...</td>\n",
       "      <td>...</td>\n",
       "      <td>...</td>\n",
       "      <td>...</td>\n",
       "      <td>...</td>\n",
       "      <td>...</td>\n",
       "      <td>...</td>\n",
       "    </tr>\n",
       "    <tr>\n",
       "      <th>209</th>\n",
       "      <td>0.022921</td>\n",
       "      <td>0.013053</td>\n",
       "      <td>SRR11577124.1459</td>\n",
       "      <td>2</td>\n",
       "      <td>6131</td>\n",
       "      <td>210</td>\n",
       "      <td>1.000000</td>\n",
       "      <td>1</td>\n",
       "    </tr>\n",
       "    <tr>\n",
       "      <th>210</th>\n",
       "      <td>-0.002110</td>\n",
       "      <td>-0.002940</td>\n",
       "      <td>SRR11577129.1731</td>\n",
       "      <td>2</td>\n",
       "      <td>5919</td>\n",
       "      <td>211</td>\n",
       "      <td>1.000000</td>\n",
       "      <td>1</td>\n",
       "    </tr>\n",
       "    <tr>\n",
       "      <th>211</th>\n",
       "      <td>0.033462</td>\n",
       "      <td>-0.016923</td>\n",
       "      <td>SRR11577125.6819</td>\n",
       "      <td>2</td>\n",
       "      <td>5914</td>\n",
       "      <td>212</td>\n",
       "      <td>1.000000</td>\n",
       "      <td>1</td>\n",
       "    </tr>\n",
       "    <tr>\n",
       "      <th>212</th>\n",
       "      <td>0.042950</td>\n",
       "      <td>0.006083</td>\n",
       "      <td>SRR11577129.1821</td>\n",
       "      <td>2</td>\n",
       "      <td>2311</td>\n",
       "      <td>213</td>\n",
       "      <td>1.000000</td>\n",
       "      <td>1</td>\n",
       "    </tr>\n",
       "    <tr>\n",
       "      <th>213</th>\n",
       "      <td>0.036034</td>\n",
       "      <td>0.017374</td>\n",
       "      <td>SRR11577127.6134</td>\n",
       "      <td>2</td>\n",
       "      <td>1951</td>\n",
       "      <td>214</td>\n",
       "      <td>1.000000</td>\n",
       "      <td>1</td>\n",
       "    </tr>\n",
       "  </tbody>\n",
       "</table>\n",
       "<p>214 rows × 8 columns</p>\n",
       "</div>"
      ],
      "text/plain": [
       "        comp1     comp2               ids  coverage  repr_read_len  \\\n",
       "0    0.000579 -0.001037  SRR11577129.1347         3          24934   \n",
       "1   -0.022727  0.003853  SRR11577123.5029         5          24929   \n",
       "2    0.040044  0.000633  SRR11577124.1047         4          24925   \n",
       "3   -0.028825  0.007018   SRR11577127.605         2          24899   \n",
       "4   -0.002361 -0.003649  SRR11577123.6720         2          24884   \n",
       "..        ...       ...               ...       ...            ...   \n",
       "209  0.022921  0.013053  SRR11577124.1459         2           6131   \n",
       "210 -0.002110 -0.002940  SRR11577129.1731         2           5919   \n",
       "211  0.033462 -0.016923  SRR11577125.6819         2           5914   \n",
       "212  0.042950  0.006083  SRR11577129.1821         2           2311   \n",
       "213  0.036034  0.017374  SRR11577127.6134         2           1951   \n",
       "\n",
       "     id_cluster  transform  mt  \n",
       "0             1   1.584963   1  \n",
       "1             2   2.321928   1  \n",
       "2             3   2.000000   1  \n",
       "3             4   1.000000   1  \n",
       "4             5   1.000000   1  \n",
       "..          ...        ...  ..  \n",
       "209         210   1.000000   1  \n",
       "210         211   1.000000   1  \n",
       "211         212   1.000000   1  \n",
       "212         213   1.000000   1  \n",
       "213         214   1.000000   1  \n",
       "\n",
       "[214 rows x 8 columns]"
      ]
     },
     "execution_count": 81,
     "metadata": {},
     "output_type": "execute_result"
    }
   ],
   "source": [
    "kmer_reduction = pca.fit_transform(hist_df.iloc[:,:-2])\n",
    "kmer_reduction = pd.DataFrame(kmer_reduction, columns=['comp1', 'comp2'])\n",
    "\n",
    "## merging the dataframe with ids and other relevant information\n",
    "kmer_reduction ['ids'] = hist_df['ids']\n",
    "kmer_reduction = kmer_reduction.merge(clusters, how='left', left_on='ids', right_on='id_longest_read')\n",
    "kmer_reduction.drop(columns='id_longest_read', inplace=True)\n",
    "\n",
    "## Annotate which reads are mitochondrial\n",
    "kmer_reduction['mt'] = (kmer_reduction['ids'].isin(ids_mt).astype(int) + 1) ** 5\n",
    "kmer_reduction = kmer_reduction[kmer_reduction['coverage'] > min_coverage]\n",
    "kmer_reduction"
   ]
  },
  {
   "cell_type": "code",
   "execution_count": 82,
   "metadata": {},
   "outputs": [
    {
     "name": "stderr",
     "output_type": "stream",
     "text": [
      "No artists with labels found to put in legend.  Note that artists whose label start with an underscore are ignored when legend() is called with no argument.\n"
     ]
    },
    {
     "data": {
      "text/plain": [
       "Text(0, 0.5, 'comp2')"
      ]
     },
     "execution_count": 82,
     "metadata": {},
     "output_type": "execute_result"
    },
    {
     "data": {
      "image/png": "[encoded data removed]",
      "text/plain": [
       "<Figure size 640x480 with 2 Axes>"
      ]
     },
     "metadata": {},
     "output_type": "display_data"
    }
   ],
   "source": [
    "sc = plt.scatter(kmer_reduction['comp1'],kmer_reduction['comp2'], c=kmer_reduction['coverage'], s=kmer_reduction['mt'])\n",
    "# legend\n",
    "# Add clusters_list colorbar\n",
    "cbar = plt.colorbar(sc)\n",
    "cbar.set_label('Color Scale')\n",
    "plt.legend()\n",
    "plt.xlabel('comp1')\n",
    "plt.ylabel('comp2')"
   ]
  },
  {
   "cell_type": "code",
   "execution_count": 83,
   "metadata": {},
   "outputs": [
    {
     "name": "stdout",
     "output_type": "stream",
     "text": [
      "Initialization complete\n",
      "Iteration 0, inertia 0.1700447461973683.\n",
      "Iteration 1, inertia 0.09607252684975873.\n",
      "Iteration 2, inertia 0.09488590959326704.\n",
      "Iteration 3, inertia 0.09472801593907093.\n",
      "Converged at iteration 3: strict convergence.\n"
     ]
    }
   ],
   "source": [
    "kmeans = KMeans(n_clusters=2, max_iter=100, init='k-means++', random_state=0, n_init=1,verbose=1)\n",
    "mt_prediction = kmeans.fit_predict(kmer_reduction[['comp1','comp2']])#, sample_weight=kmer_reduction['coverage'])\n",
    "kmer_reduction['cluster_prediction'] = mt_prediction"
   ]
  },
  {
   "cell_type": "code",
   "execution_count": 84,
   "metadata": {},
   "outputs": [
    {
     "data": {
      "text/plain": [
       "Text(0, 0.5, 'comp2')"
      ]
     },
     "execution_count": 84,
     "metadata": {},
     "output_type": "execute_result"
    },
    {
     "data": {
      "image/png": "[encoded data removed]",
      "text/plain": [
       "<Figure size 640x480 with 1 Axes>"
      ]
     },
     "metadata": {},
     "output_type": "display_data"
    }
   ],
   "source": [
    "plt.scatter(x=kmer_reduction['comp1'], y=kmer_reduction['comp2'], c=mt_prediction, s=kmer_reduction['mt'])\n",
    "plt.xlabel('comp1')\n",
    "plt.ylabel('comp2')"
   ]
  },
  {
   "cell_type": "markdown",
   "metadata": {},
   "source": [
    "# Get the cluster of interest\n",
    "\n",
    "This step is clusters_list pain in the ass, but since I am looking to keep the free-reference. "
   ]
  },
  {
   "cell_type": "code",
   "execution_count": 85,
   "metadata": {},
   "outputs": [
    {
     "data": {
      "text/html": [
       "<div>\n",
       "<style scoped>\n",
       "    .dataframe tbody tr th:only-of-type {\n",
       "        vertical-align: middle;\n",
       "    }\n",
       "\n",
       "    .dataframe tbody tr th {\n",
       "        vertical-align: top;\n",
       "    }\n",
       "\n",
       "    .dataframe thead th {\n",
       "        text-align: right;\n",
       "    }\n",
       "</style>\n",
       "<table border=\"1\" class=\"dataframe\">\n",
       "  <thead>\n",
       "    <tr style=\"text-align: right;\">\n",
       "      <th></th>\n",
       "      <th>comp1</th>\n",
       "      <th>comp2</th>\n",
       "      <th>ids</th>\n",
       "      <th>coverage</th>\n",
       "      <th>repr_read_len</th>\n",
       "      <th>id_cluster</th>\n",
       "      <th>transform</th>\n",
       "      <th>mt</th>\n",
       "      <th>cluster_prediction</th>\n",
       "    </tr>\n",
       "  </thead>\n",
       "  <tbody>\n",
       "    <tr>\n",
       "      <th>102</th>\n",
       "      <td>0.003366</td>\n",
       "      <td>0.002863</td>\n",
       "      <td>SRR11577123.6347</td>\n",
       "      <td>2</td>\n",
       "      <td>20060</td>\n",
       "      <td>103</td>\n",
       "      <td>1.000000</td>\n",
       "      <td>1</td>\n",
       "      <td>0</td>\n",
       "    </tr>\n",
       "    <tr>\n",
       "      <th>148</th>\n",
       "      <td>0.021096</td>\n",
       "      <td>-0.009691</td>\n",
       "      <td>SRR11577128.3727</td>\n",
       "      <td>2</td>\n",
       "      <td>16213</td>\n",
       "      <td>149</td>\n",
       "      <td>1.000000</td>\n",
       "      <td>1</td>\n",
       "      <td>0</td>\n",
       "    </tr>\n",
       "    <tr>\n",
       "      <th>147</th>\n",
       "      <td>0.031059</td>\n",
       "      <td>-0.006531</td>\n",
       "      <td>SRR11577125.1179</td>\n",
       "      <td>2</td>\n",
       "      <td>16497</td>\n",
       "      <td>148</td>\n",
       "      <td>1.000000</td>\n",
       "      <td>1</td>\n",
       "      <td>0</td>\n",
       "    </tr>\n",
       "    <tr>\n",
       "      <th>144</th>\n",
       "      <td>0.011726</td>\n",
       "      <td>-0.013057</td>\n",
       "      <td>SRR11577123.5356</td>\n",
       "      <td>2</td>\n",
       "      <td>16624</td>\n",
       "      <td>145</td>\n",
       "      <td>1.000000</td>\n",
       "      <td>1</td>\n",
       "      <td>0</td>\n",
       "    </tr>\n",
       "    <tr>\n",
       "      <th>141</th>\n",
       "      <td>0.017653</td>\n",
       "      <td>0.005475</td>\n",
       "      <td>SRR11577125.238</td>\n",
       "      <td>2</td>\n",
       "      <td>17014</td>\n",
       "      <td>142</td>\n",
       "      <td>1.000000</td>\n",
       "      <td>1</td>\n",
       "      <td>0</td>\n",
       "    </tr>\n",
       "    <tr>\n",
       "      <th>...</th>\n",
       "      <td>...</td>\n",
       "      <td>...</td>\n",
       "      <td>...</td>\n",
       "      <td>...</td>\n",
       "      <td>...</td>\n",
       "      <td>...</td>\n",
       "      <td>...</td>\n",
       "      <td>...</td>\n",
       "      <td>...</td>\n",
       "    </tr>\n",
       "    <tr>\n",
       "      <th>60</th>\n",
       "      <td>0.017889</td>\n",
       "      <td>0.003436</td>\n",
       "      <td>SRR11577125.2892</td>\n",
       "      <td>3</td>\n",
       "      <td>22347</td>\n",
       "      <td>61</td>\n",
       "      <td>1.584963</td>\n",
       "      <td>1</td>\n",
       "      <td>0</td>\n",
       "    </tr>\n",
       "    <tr>\n",
       "      <th>2</th>\n",
       "      <td>0.040044</td>\n",
       "      <td>0.000633</td>\n",
       "      <td>SRR11577124.1047</td>\n",
       "      <td>4</td>\n",
       "      <td>24925</td>\n",
       "      <td>3</td>\n",
       "      <td>2.000000</td>\n",
       "      <td>1</td>\n",
       "      <td>0</td>\n",
       "    </tr>\n",
       "    <tr>\n",
       "      <th>34</th>\n",
       "      <td>-0.002010</td>\n",
       "      <td>0.018540</td>\n",
       "      <td>SRR11577123.7981</td>\n",
       "      <td>4</td>\n",
       "      <td>23312</td>\n",
       "      <td>35</td>\n",
       "      <td>2.000000</td>\n",
       "      <td>1</td>\n",
       "      <td>0</td>\n",
       "    </tr>\n",
       "    <tr>\n",
       "      <th>7</th>\n",
       "      <td>0.029344</td>\n",
       "      <td>-0.011435</td>\n",
       "      <td>SRR11577129.5621</td>\n",
       "      <td>5</td>\n",
       "      <td>24723</td>\n",
       "      <td>8</td>\n",
       "      <td>2.321928</td>\n",
       "      <td>1</td>\n",
       "      <td>0</td>\n",
       "    </tr>\n",
       "    <tr>\n",
       "      <th>105</th>\n",
       "      <td>0.135151</td>\n",
       "      <td>0.041684</td>\n",
       "      <td>SRR11577129.1807</td>\n",
       "      <td>7</td>\n",
       "      <td>19874</td>\n",
       "      <td>106</td>\n",
       "      <td>2.807355</td>\n",
       "      <td>1</td>\n",
       "      <td>0</td>\n",
       "    </tr>\n",
       "  </tbody>\n",
       "</table>\n",
       "<p>131 rows × 9 columns</p>\n",
       "</div>"
      ],
      "text/plain": [
       "        comp1     comp2               ids  coverage  repr_read_len  \\\n",
       "102  0.003366  0.002863  SRR11577123.6347         2          20060   \n",
       "148  0.021096 -0.009691  SRR11577128.3727         2          16213   \n",
       "147  0.031059 -0.006531  SRR11577125.1179         2          16497   \n",
       "144  0.011726 -0.013057  SRR11577123.5356         2          16624   \n",
       "141  0.017653  0.005475   SRR11577125.238         2          17014   \n",
       "..        ...       ...               ...       ...            ...   \n",
       "60   0.017889  0.003436  SRR11577125.2892         3          22347   \n",
       "2    0.040044  0.000633  SRR11577124.1047         4          24925   \n",
       "34  -0.002010  0.018540  SRR11577123.7981         4          23312   \n",
       "7    0.029344 -0.011435  SRR11577129.5621         5          24723   \n",
       "105  0.135151  0.041684  SRR11577129.1807         7          19874   \n",
       "\n",
       "     id_cluster  transform  mt  cluster_prediction  \n",
       "102         103   1.000000   1                   0  \n",
       "148         149   1.000000   1                   0  \n",
       "147         148   1.000000   1                   0  \n",
       "144         145   1.000000   1                   0  \n",
       "141         142   1.000000   1                   0  \n",
       "..          ...        ...  ..                 ...  \n",
       "60           61   1.584963   1                   0  \n",
       "2             3   2.000000   1                   0  \n",
       "34           35   2.000000   1                   0  \n",
       "7             8   2.321928   1                   0  \n",
       "105         106   2.807355   1                   0  \n",
       "\n",
       "[131 rows x 9 columns]"
      ]
     },
     "execution_count": 85,
     "metadata": {},
     "output_type": "execute_result"
    }
   ],
   "source": [
    "selected_cluster_id = kmer_reduction.loc[:, kmer_reduction.columns != 'ids'].groupby(by='cluster_prediction')['coverage'].median().idxmax()\n",
    "selected_cluster = kmer_reduction[kmer_reduction['cluster_prediction'] == selected_cluster_id]\n",
    "selected_cluster.sort_values('coverage')"
   ]
  },
  {
   "cell_type": "code",
   "execution_count": 86,
   "metadata": {},
   "outputs": [
    {
     "name": "stdout",
     "output_type": "stream",
     "text": [
      "290 reads retrieved\n"
     ]
    }
   ],
   "source": [
    "sequences_ids = set()\n",
    "for i in selected_cluster['id_cluster']:\n",
    "    sequences_ids.update(clusters_list.get_cluster(i).id_sequences)\n",
    "write_fasta(fasta=fasta, sequences_ids=sequences_ids, output='test/sara_reads/mt_reads_v1.fasta')"
   ]
  }
 ],
 "metadata": {
  "kernelspec": {
   "display_name": "mitnanex",
   "language": "python",
   "name": "python3"
  },
  "language_info": {
   "codemirror_mode": {
    "name": "ipython",
    "version": 3
   },
   "file_extension": ".py",
   "mimetype": "text/x-python",
   "name": "python",
   "nbconvert_exporter": "python",
   "pygments_lexer": "ipython3",
   "version": "3.10.12"
  },
  "orig_nbformat": 4
 },
 "nbformat": 4,
 "nbformat_minor": 2
}

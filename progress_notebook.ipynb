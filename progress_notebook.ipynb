{
 "cells": [
  {
   "cell_type": "code",
   "execution_count": 10,
   "metadata": {},
   "outputs": [],
   "source": [
    "from src.mitnanex import run\n",
    "import pandas as pd\n",
    "import matplotlib.pyplot as plt\n",
    "from sklearn.neighbors import KernelDensity"
   ]
  },
  {
   "cell_type": "code",
   "execution_count": 11,
   "metadata": {},
   "outputs": [],
   "source": [
    "\n",
    "clusters_list = run()\n",
    "\n",
    "# I need to plot the coverage of clusters\n",
    "coverages_df = pd.DataFrame(\n",
    "    {\n",
    "        \"coverage\": [i.coverage for i in clusters_list.clusters],\n",
    "        \"repr_read_len\": [i.longest_read_length for i in clusters_list.clusters],\n",
    "        \"id_longest_read\": [i.longest_read_id for i in clusters_list.clusters],\n",
    "        \"id_cluster\":[i.id_cluster for i in clusters_list.clusters],\n",
    "    }\n",
    ")"
   ]
  },
  {
   "cell_type": "code",
   "execution_count": 12,
   "metadata": {},
   "outputs": [
    {
     "data": {
      "text/html": [
       "<div>\n",
       "<style scoped>\n",
       "    .dataframe tbody tr th:only-of-type {\n",
       "        vertical-align: middle;\n",
       "    }\n",
       "\n",
       "    .dataframe tbody tr th {\n",
       "        vertical-align: top;\n",
       "    }\n",
       "\n",
       "    .dataframe thead th {\n",
       "        text-align: right;\n",
       "    }\n",
       "</style>\n",
       "<table border=\"1\" class=\"dataframe\">\n",
       "  <thead>\n",
       "    <tr style=\"text-align: right;\">\n",
       "      <th></th>\n",
       "      <th>coverage</th>\n",
       "      <th>repr_read_len</th>\n",
       "      <th>id_longest_read</th>\n",
       "      <th>id_cluster</th>\n",
       "    </tr>\n",
       "  </thead>\n",
       "  <tbody>\n",
       "    <tr>\n",
       "      <th>3</th>\n",
       "      <td>4</td>\n",
       "      <td>39243</td>\n",
       "      <td>SRR5892449.10138</td>\n",
       "      <td>4</td>\n",
       "    </tr>\n",
       "    <tr>\n",
       "      <th>21</th>\n",
       "      <td>11</td>\n",
       "      <td>29533</td>\n",
       "      <td>SRR5892449.13231</td>\n",
       "      <td>22</td>\n",
       "    </tr>\n",
       "    <tr>\n",
       "      <th>69</th>\n",
       "      <td>2</td>\n",
       "      <td>23104</td>\n",
       "      <td>SRR5892449.14249</td>\n",
       "      <td>70</td>\n",
       "    </tr>\n",
       "    <tr>\n",
       "      <th>57</th>\n",
       "      <td>5</td>\n",
       "      <td>23987</td>\n",
       "      <td>SRR5892449.15079</td>\n",
       "      <td>58</td>\n",
       "    </tr>\n",
       "    <tr>\n",
       "      <th>37</th>\n",
       "      <td>5</td>\n",
       "      <td>26110</td>\n",
       "      <td>SRR5892449.15090</td>\n",
       "      <td>38</td>\n",
       "    </tr>\n",
       "  </tbody>\n",
       "</table>\n",
       "</div>"
      ],
      "text/plain": [
       "    coverage  repr_read_len   id_longest_read  id_cluster\n",
       "3          4          39243  SRR5892449.10138           4\n",
       "21        11          29533  SRR5892449.13231          22\n",
       "69         2          23104  SRR5892449.14249          70\n",
       "57         5          23987  SRR5892449.15079          58\n",
       "37         5          26110  SRR5892449.15090          38"
      ]
     },
     "execution_count": 12,
     "metadata": {},
     "output_type": "execute_result"
    }
   ],
   "source": [
    "# Test on the first 30 clusters\n",
    "import math\n",
    "clusters = coverages_df.sort_values(by='coverage', ascending=False)\n",
    "clusters.sort_values(by='id_longest_read',inplace=True)\n",
    "clusters.head()"
   ]
  },
  {
   "cell_type": "markdown",
   "metadata": {},
   "source": [
    "# Coverage\n",
    "\n",
    "The first step is to filter the reads by coverage. For that I will explore the use of Kernel Density since this is clusters_list one dimensional clustering."
   ]
  },
  {
   "cell_type": "code",
   "execution_count": 13,
   "metadata": {},
   "outputs": [
    {
     "data": {
      "text/html": [
       "<div>\n",
       "<style scoped>\n",
       "    .dataframe tbody tr th:only-of-type {\n",
       "        vertical-align: middle;\n",
       "    }\n",
       "\n",
       "    .dataframe tbody tr th {\n",
       "        vertical-align: top;\n",
       "    }\n",
       "\n",
       "    .dataframe thead th {\n",
       "        text-align: right;\n",
       "    }\n",
       "</style>\n",
       "<table border=\"1\" class=\"dataframe\">\n",
       "  <thead>\n",
       "    <tr style=\"text-align: right;\">\n",
       "      <th></th>\n",
       "      <th>coverage</th>\n",
       "      <th>repr_read_len</th>\n",
       "      <th>id_longest_read</th>\n",
       "      <th>id_cluster</th>\n",
       "      <th>transform</th>\n",
       "    </tr>\n",
       "  </thead>\n",
       "  <tbody>\n",
       "    <tr>\n",
       "      <th>11</th>\n",
       "      <td>48</td>\n",
       "      <td>33518</td>\n",
       "      <td>SRR5892449.9739</td>\n",
       "      <td>12</td>\n",
       "      <td>5.584963</td>\n",
       "    </tr>\n",
       "    <tr>\n",
       "      <th>25</th>\n",
       "      <td>40</td>\n",
       "      <td>28027</td>\n",
       "      <td>SRR5892449.37390</td>\n",
       "      <td>26</td>\n",
       "      <td>5.321928</td>\n",
       "    </tr>\n",
       "    <tr>\n",
       "      <th>13</th>\n",
       "      <td>28</td>\n",
       "      <td>32839</td>\n",
       "      <td>SRR5892449.22604</td>\n",
       "      <td>14</td>\n",
       "      <td>4.807355</td>\n",
       "    </tr>\n",
       "    <tr>\n",
       "      <th>68</th>\n",
       "      <td>23</td>\n",
       "      <td>23206</td>\n",
       "      <td>SRR5892449.36605</td>\n",
       "      <td>69</td>\n",
       "      <td>4.523562</td>\n",
       "    </tr>\n",
       "    <tr>\n",
       "      <th>71</th>\n",
       "      <td>23</td>\n",
       "      <td>23009</td>\n",
       "      <td>SRR5892449.45685</td>\n",
       "      <td>72</td>\n",
       "      <td>4.523562</td>\n",
       "    </tr>\n",
       "  </tbody>\n",
       "</table>\n",
       "</div>"
      ],
      "text/plain": [
       "    coverage  repr_read_len   id_longest_read  id_cluster  transform\n",
       "11        48          33518   SRR5892449.9739          12   5.584963\n",
       "25        40          28027  SRR5892449.37390          26   5.321928\n",
       "13        28          32839  SRR5892449.22604          14   4.807355\n",
       "68        23          23206  SRR5892449.36605          69   4.523562\n",
       "71        23          23009  SRR5892449.45685          72   4.523562"
      ]
     },
     "execution_count": 13,
     "metadata": {},
     "output_type": "execute_result"
    }
   ],
   "source": [
    "clusters['transform'] = [math.log2(i)for i in clusters['coverage']]\n",
    "clusters.sort_values('coverage',ascending=False, inplace=True)\n",
    "clusters.head()"
   ]
  },
  {
   "cell_type": "code",
   "execution_count": 14,
   "metadata": {},
   "outputs": [
    {
     "data": {
      "text/plain": [
       "<Axes: >"
      ]
     },
     "execution_count": 14,
     "metadata": {},
     "output_type": "execute_result"
    },
    {
     "data": {
      "image/png": "[encoded data removed]",
      "text/plain": [
       "<Figure size 640x480 with 1 Axes>"
      ]
     },
     "metadata": {},
     "output_type": "display_data"
    }
   ],
   "source": [
    "clusters['transform'].hist()"
   ]
  },
  {
   "cell_type": "code",
   "execution_count": 15,
   "metadata": {},
   "outputs": [
    {
     "data": {
      "text/plain": [
       "<matplotlib.collections.PathCollection at 0x1504da090>"
      ]
     },
     "execution_count": 15,
     "metadata": {},
     "output_type": "execute_result"
    },
    {
     "data": {
      "image/png": "[encoded data removed]",
      "text/plain": [
       "<Figure size 640x480 with 1 Axes>"
      ]
     },
     "metadata": {},
     "output_type": "display_data"
    }
   ],
   "source": [
    "plt.scatter(x=clusters['transform'], y=clusters['coverage'])"
   ]
  },
  {
   "cell_type": "code",
   "execution_count": 16,
   "metadata": {},
   "outputs": [
    {
     "data": {
      "text/plain": [
       "[<matplotlib.lines.Line2D at 0x15051c810>]"
      ]
     },
     "execution_count": 16,
     "metadata": {},
     "output_type": "execute_result"
    },
    {
     "data": {
      "image/png": "[encoded data removed]",
      "text/plain": [
       "<Figure size 640x480 with 1 Axes>"
      ]
     },
     "metadata": {},
     "output_type": "display_data"
    }
   ],
   "source": [
    "kde = KernelDensity(kernel='gaussian', bandwidth=1).fit(clusters['coverage'].array.reshape(-1,1))\n",
    "cov_fdp = kde.score_samples(clusters['coverage'].array.reshape(-1,1))\n",
    "plt.plot(clusters['transform'], cov_fdp)"
   ]
  },
  {
   "cell_type": "code",
   "execution_count": 17,
   "metadata": {},
   "outputs": [
    {
     "name": "stdout",
     "output_type": "stream",
     "text": [
      "Covertura minima admitida:  13\n"
     ]
    }
   ],
   "source": [
    "from scipy.signal import argrelextrema\n",
    "import numpy as np\n",
    "local_min = argrelextrema(cov_fdp, np.less)[0]\n",
    "min_coverage = clusters.iloc[max(local_min),:]['coverage']\n",
    "print(\"Covertura minima admitida: \", min_coverage)"
   ]
  },
  {
   "cell_type": "markdown",
   "metadata": {},
   "source": [
    "# Oligo composition\n",
    "\n",
    "Once I've detected the clusters with higher coverage, which I expect includes mitochondria and contamination, whether nuclear or external, I have to purify these groups. To do this I will use the oligo composition as it is used during metagenomics binning.\n",
    "\n",
    "I will create clusters_list script to get the kmers. The kmer size will be 3 to solve two things: 1. Intrinsec error from Nanopore, 2 smaller set as possible (4**3 possible kmers). \n",
    "\n",
    "Finally, I will reduce dimensionality using PCA"
   ]
  },
  {
   "cell_type": "code",
   "execution_count": 18,
   "metadata": {},
   "outputs": [],
   "source": [
    "from src.utils import get_sequences_by_id, convert_fq_to_fa, write_fasta\n",
    "from src.kmer_cnt import count_kmer"
   ]
  },
  {
   "cell_type": "code",
   "execution_count": 19,
   "metadata": {},
   "outputs": [
    {
     "name": "stdout",
     "output_type": "stream",
     "text": [
      "11637 sequences converted to fasta\n"
     ]
    },
    {
     "data": {
      "text/plain": [
       "'test/s_cervisae_CEN.PK113-7D_SRR5892449_reads_sample.sorted_reversed.fasta'"
      ]
     },
     "execution_count": 19,
     "metadata": {},
     "output_type": "execute_result"
    }
   ],
   "source": [
    "convert_fq_to_fa('test/s_cervisae_CEN.PK113-7D_SRR5892449_reads_sample.sorted_reversed.fastq','test/s_cervisae_CEN.PK113-7D_SRR5892449_reads_sample.sorted_reversed.fasta')"
   ]
  },
  {
   "cell_type": "code",
   "execution_count": 20,
   "metadata": {},
   "outputs": [],
   "source": [
    "fasta = 'test/s_cervisae_CEN.PK113-7D_SRR5892449_reads_sample.sorted_reversed.fasta'\n",
    "repr_reads = [i for i in clusters['id_longest_read']]\n",
    "hist = list()\n",
    "for i in get_sequences_by_id(fasta, repr_reads):\n",
    "    ids, seq = i\n",
    "    hist.append([*count_kmer(k=3,seq=seq).values(),ids])"
   ]
  },
  {
   "cell_type": "code",
   "execution_count": 21,
   "metadata": {},
   "outputs": [],
   "source": [
    "## Get the real mt sequences\n",
    "with open('test/list_ids_reads_mt.txt','r') as handle_ids_mt:\n",
    "    ids_mt = handle_ids_mt.read().splitlines()\n",
    "    ids_mt = [i[1:] for i in ids_mt]"
   ]
  },
  {
   "cell_type": "code",
   "execution_count": 22,
   "metadata": {},
   "outputs": [
    {
     "data": {
      "text/html": [
       "<div>\n",
       "<style scoped>\n",
       "    .dataframe tbody tr th:only-of-type {\n",
       "        vertical-align: middle;\n",
       "    }\n",
       "\n",
       "    .dataframe tbody tr th {\n",
       "        vertical-align: top;\n",
       "    }\n",
       "\n",
       "    .dataframe thead th {\n",
       "        text-align: right;\n",
       "    }\n",
       "</style>\n",
       "<table border=\"1\" class=\"dataframe\">\n",
       "  <thead>\n",
       "    <tr style=\"text-align: right;\">\n",
       "      <th></th>\n",
       "      <th>0</th>\n",
       "      <th>1</th>\n",
       "      <th>2</th>\n",
       "      <th>3</th>\n",
       "      <th>4</th>\n",
       "      <th>5</th>\n",
       "      <th>6</th>\n",
       "      <th>7</th>\n",
       "      <th>8</th>\n",
       "      <th>9</th>\n",
       "      <th>...</th>\n",
       "      <th>23</th>\n",
       "      <th>24</th>\n",
       "      <th>25</th>\n",
       "      <th>26</th>\n",
       "      <th>27</th>\n",
       "      <th>28</th>\n",
       "      <th>29</th>\n",
       "      <th>30</th>\n",
       "      <th>31</th>\n",
       "      <th>ids</th>\n",
       "    </tr>\n",
       "  </thead>\n",
       "  <tbody>\n",
       "    <tr>\n",
       "      <th>0</th>\n",
       "      <td>0.068673</td>\n",
       "      <td>0.062148</td>\n",
       "      <td>0.036930</td>\n",
       "      <td>0.042465</td>\n",
       "      <td>0.053846</td>\n",
       "      <td>0.038121</td>\n",
       "      <td>0.039734</td>\n",
       "      <td>0.035885</td>\n",
       "      <td>0.030479</td>\n",
       "      <td>0.022378</td>\n",
       "      <td>...</td>\n",
       "      <td>0.010410</td>\n",
       "      <td>0.018492</td>\n",
       "      <td>0.010923</td>\n",
       "      <td>0.048458</td>\n",
       "      <td>0.018804</td>\n",
       "      <td>0.028591</td>\n",
       "      <td>0.024485</td>\n",
       "      <td>0.014772</td>\n",
       "      <td>0.022030</td>\n",
       "      <td>SRR5892449.19157</td>\n",
       "    </tr>\n",
       "    <tr>\n",
       "      <th>1</th>\n",
       "      <td>0.068851</td>\n",
       "      <td>0.054718</td>\n",
       "      <td>0.038194</td>\n",
       "      <td>0.043581</td>\n",
       "      <td>0.053848</td>\n",
       "      <td>0.029014</td>\n",
       "      <td>0.039015</td>\n",
       "      <td>0.038870</td>\n",
       "      <td>0.033290</td>\n",
       "      <td>0.026308</td>\n",
       "      <td>...</td>\n",
       "      <td>0.012369</td>\n",
       "      <td>0.018094</td>\n",
       "      <td>0.012900</td>\n",
       "      <td>0.045731</td>\n",
       "      <td>0.020027</td>\n",
       "      <td>0.032275</td>\n",
       "      <td>0.027854</td>\n",
       "      <td>0.018964</td>\n",
       "      <td>0.019423</td>\n",
       "      <td>SRR5892449.8608</td>\n",
       "    </tr>\n",
       "    <tr>\n",
       "      <th>2</th>\n",
       "      <td>0.071796</td>\n",
       "      <td>0.061532</td>\n",
       "      <td>0.038105</td>\n",
       "      <td>0.046099</td>\n",
       "      <td>0.053462</td>\n",
       "      <td>0.037827</td>\n",
       "      <td>0.039038</td>\n",
       "      <td>0.035230</td>\n",
       "      <td>0.031573</td>\n",
       "      <td>0.020956</td>\n",
       "      <td>...</td>\n",
       "      <td>0.009759</td>\n",
       "      <td>0.019166</td>\n",
       "      <td>0.011046</td>\n",
       "      <td>0.047486</td>\n",
       "      <td>0.019569</td>\n",
       "      <td>0.028068</td>\n",
       "      <td>0.025849</td>\n",
       "      <td>0.014173</td>\n",
       "      <td>0.021461</td>\n",
       "      <td>SRR5892449.16681</td>\n",
       "    </tr>\n",
       "    <tr>\n",
       "      <th>3</th>\n",
       "      <td>0.059530</td>\n",
       "      <td>0.052343</td>\n",
       "      <td>0.036926</td>\n",
       "      <td>0.039168</td>\n",
       "      <td>0.043934</td>\n",
       "      <td>0.036161</td>\n",
       "      <td>0.039576</td>\n",
       "      <td>0.037486</td>\n",
       "      <td>0.028465</td>\n",
       "      <td>0.028134</td>\n",
       "      <td>...</td>\n",
       "      <td>0.014245</td>\n",
       "      <td>0.022196</td>\n",
       "      <td>0.016411</td>\n",
       "      <td>0.044392</td>\n",
       "      <td>0.024311</td>\n",
       "      <td>0.028796</td>\n",
       "      <td>0.028924</td>\n",
       "      <td>0.018042</td>\n",
       "      <td>0.021737</td>\n",
       "      <td>SRR5892449.10138</td>\n",
       "    </tr>\n",
       "    <tr>\n",
       "      <th>4</th>\n",
       "      <td>0.091905</td>\n",
       "      <td>0.144754</td>\n",
       "      <td>0.025032</td>\n",
       "      <td>0.025625</td>\n",
       "      <td>0.181387</td>\n",
       "      <td>0.027713</td>\n",
       "      <td>0.028461</td>\n",
       "      <td>0.022506</td>\n",
       "      <td>0.022222</td>\n",
       "      <td>0.013199</td>\n",
       "      <td>...</td>\n",
       "      <td>0.005568</td>\n",
       "      <td>0.006213</td>\n",
       "      <td>0.002862</td>\n",
       "      <td>0.026940</td>\n",
       "      <td>0.006754</td>\n",
       "      <td>0.024439</td>\n",
       "      <td>0.006909</td>\n",
       "      <td>0.004692</td>\n",
       "      <td>0.011292</td>\n",
       "      <td>SRR5892449.27537</td>\n",
       "    </tr>\n",
       "  </tbody>\n",
       "</table>\n",
       "<p>5 rows × 33 columns</p>\n",
       "</div>"
      ],
      "text/plain": [
       "          0         1         2         3         4         5         6  \\\n",
       "0  0.068673  0.062148  0.036930  0.042465  0.053846  0.038121  0.039734   \n",
       "1  0.068851  0.054718  0.038194  0.043581  0.053848  0.029014  0.039015   \n",
       "2  0.071796  0.061532  0.038105  0.046099  0.053462  0.037827  0.039038   \n",
       "3  0.059530  0.052343  0.036926  0.039168  0.043934  0.036161  0.039576   \n",
       "4  0.091905  0.144754  0.025032  0.025625  0.181387  0.027713  0.028461   \n",
       "\n",
       "          7         8         9  ...        23        24        25        26  \\\n",
       "0  0.035885  0.030479  0.022378  ...  0.010410  0.018492  0.010923  0.048458   \n",
       "1  0.038870  0.033290  0.026308  ...  0.012369  0.018094  0.012900  0.045731   \n",
       "2  0.035230  0.031573  0.020956  ...  0.009759  0.019166  0.011046  0.047486   \n",
       "3  0.037486  0.028465  0.028134  ...  0.014245  0.022196  0.016411  0.044392   \n",
       "4  0.022506  0.022222  0.013199  ...  0.005568  0.006213  0.002862  0.026940   \n",
       "\n",
       "         27        28        29        30        31               ids  \n",
       "0  0.018804  0.028591  0.024485  0.014772  0.022030  SRR5892449.19157  \n",
       "1  0.020027  0.032275  0.027854  0.018964  0.019423   SRR5892449.8608  \n",
       "2  0.019569  0.028068  0.025849  0.014173  0.021461  SRR5892449.16681  \n",
       "3  0.024311  0.028796  0.028924  0.018042  0.021737  SRR5892449.10138  \n",
       "4  0.006754  0.024439  0.006909  0.004692  0.011292  SRR5892449.27537  \n",
       "\n",
       "[5 rows x 33 columns]"
      ]
     },
     "execution_count": 22,
     "metadata": {},
     "output_type": "execute_result"
    }
   ],
   "source": [
    "hist_df= pd.DataFrame(hist)\n",
    "hist_df.rename(columns={hist_df.iloc[:,-1].name:'ids'}, inplace=True)\n",
    "hist_df.head()"
   ]
  },
  {
   "cell_type": "markdown",
   "metadata": {},
   "source": [
    "# Dimensionality reduction with PCA and clustering with k-means "
   ]
  },
  {
   "cell_type": "code",
   "execution_count": 23,
   "metadata": {},
   "outputs": [],
   "source": [
    "from sklearn.decomposition import PCA\n",
    "from sklearn.cluster import KMeans"
   ]
  },
  {
   "cell_type": "code",
   "execution_count": 24,
   "metadata": {},
   "outputs": [
    {
     "data": {
      "text/html": [
       "<style>#sk-container-id-1 {color: black;}#sk-container-id-1 pre{padding: 0;}#sk-container-id-1 div.sk-toggleable {background-color: white;}#sk-container-id-1 label.sk-toggleable__label {cursor: pointer;display: block;width: 100%;margin-bottom: 0;padding: 0.3em;box-sizing: border-box;text-align: center;}#sk-container-id-1 label.sk-toggleable__label-arrow:before {content: \"▸\";float: left;margin-right: 0.25em;color: #696969;}#sk-container-id-1 label.sk-toggleable__label-arrow:hover:before {color: black;}#sk-container-id-1 div.sk-estimator:hover label.sk-toggleable__label-arrow:before {color: black;}#sk-container-id-1 div.sk-toggleable__content {max-height: 0;max-width: 0;overflow: hidden;text-align: left;background-color: #f0f8ff;}#sk-container-id-1 div.sk-toggleable__content pre {margin: 0.2em;color: black;border-radius: 0.25em;background-color: #f0f8ff;}#sk-container-id-1 input.sk-toggleable__control:checked~div.sk-toggleable__content {max-height: 200px;max-width: 100%;overflow: auto;}#sk-container-id-1 input.sk-toggleable__control:checked~label.sk-toggleable__label-arrow:before {content: \"▾\";}#sk-container-id-1 div.sk-estimator input.sk-toggleable__control:checked~label.sk-toggleable__label {background-color: #d4ebff;}#sk-container-id-1 div.sk-label input.sk-toggleable__control:checked~label.sk-toggleable__label {background-color: #d4ebff;}#sk-container-id-1 input.sk-hidden--visually {border: 0;clip: rect(1px 1px 1px 1px);clip: rect(1px, 1px, 1px, 1px);height: 1px;margin: -1px;overflow: hidden;padding: 0;position: absolute;width: 1px;}#sk-container-id-1 div.sk-estimator {font-family: monospace;background-color: #f0f8ff;border: 1px dotted black;border-radius: 0.25em;box-sizing: border-box;margin-bottom: 0.5em;}#sk-container-id-1 div.sk-estimator:hover {background-color: #d4ebff;}#sk-container-id-1 div.sk-parallel-item::after {content: \"\";width: 100%;border-bottom: 1px solid gray;flex-grow: 1;}#sk-container-id-1 div.sk-label:hover label.sk-toggleable__label {background-color: #d4ebff;}#sk-container-id-1 div.sk-serial::before {content: \"\";position: absolute;border-left: 1px solid gray;box-sizing: border-box;top: 0;bottom: 0;left: 50%;z-index: 0;}#sk-container-id-1 div.sk-serial {display: flex;flex-direction: column;align-items: center;background-color: white;padding-right: 0.2em;padding-left: 0.2em;position: relative;}#sk-container-id-1 div.sk-item {position: relative;z-index: 1;}#sk-container-id-1 div.sk-parallel {display: flex;align-items: stretch;justify-content: center;background-color: white;position: relative;}#sk-container-id-1 div.sk-item::before, #sk-container-id-1 div.sk-parallel-item::before {content: \"\";position: absolute;border-left: 1px solid gray;box-sizing: border-box;top: 0;bottom: 0;left: 50%;z-index: -1;}#sk-container-id-1 div.sk-parallel-item {display: flex;flex-direction: column;z-index: 1;position: relative;background-color: white;}#sk-container-id-1 div.sk-parallel-item:first-child::after {align-self: flex-end;width: 50%;}#sk-container-id-1 div.sk-parallel-item:last-child::after {align-self: flex-start;width: 50%;}#sk-container-id-1 div.sk-parallel-item:only-child::after {width: 0;}#sk-container-id-1 div.sk-dashed-wrapped {border: 1px dashed gray;margin: 0 0.4em 0.5em 0.4em;box-sizing: border-box;padding-bottom: 0.4em;background-color: white;}#sk-container-id-1 div.sk-label label {font-family: monospace;font-weight: bold;display: inline-block;line-height: 1.2em;}#sk-container-id-1 div.sk-label-container {text-align: center;}#sk-container-id-1 div.sk-container {/* jupyter's `normalize.less` sets `[hidden] { display: none; }` but bootstrap.min.css set `[hidden] { display: none !important; }` so we also need the `!important` here to be able to override the default hidden behavior on the sphinx rendered scikit-learn.org. See: https://github.com/scikit-learn/scikit-learn/issues/21755 */display: inline-block !important;position: relative;}#sk-container-id-1 div.sk-text-repr-fallback {display: none;}</style><div id=\"sk-container-id-1\" class=\"sk-top-container\"><div class=\"sk-text-repr-fallback\"><pre>PCA(n_components=2)</pre><b>In a Jupyter environment, please rerun this cell to show the HTML representation or trust the notebook. <br />On GitHub, the HTML representation is unable to render, please try loading this page with nbviewer.org.</b></div><div class=\"sk-container\" hidden><div class=\"sk-item\"><div class=\"sk-estimator sk-toggleable\"><input class=\"sk-toggleable__control sk-hidden--visually\" id=\"sk-estimator-id-1\" type=\"checkbox\" checked><label for=\"sk-estimator-id-1\" class=\"sk-toggleable__label sk-toggleable__label-arrow\">PCA</label><div class=\"sk-toggleable__content\"><pre>PCA(n_components=2)</pre></div></div></div></div></div>"
      ],
      "text/plain": [
       "PCA(n_components=2)"
      ]
     },
     "execution_count": 24,
     "metadata": {},
     "output_type": "execute_result"
    }
   ],
   "source": [
    "pca = PCA(n_components=2)\n",
    "pca.fit(hist_df.iloc[:,:-2])"
   ]
  },
  {
   "cell_type": "code",
   "execution_count": 25,
   "metadata": {},
   "outputs": [
    {
     "data": {
      "text/plain": [
       "array([1.83929842e-03, 5.22679318e-05])"
      ]
     },
     "execution_count": 25,
     "metadata": {},
     "output_type": "execute_result"
    }
   ],
   "source": [
    "## Components and variance explained \n",
    "pca.explained_variance_\n",
    "#pca.components_"
   ]
  },
  {
   "cell_type": "code",
   "execution_count": 47,
   "metadata": {},
   "outputs": [
    {
     "data": {
      "text/html": [
       "<div>\n",
       "<style scoped>\n",
       "    .dataframe tbody tr th:only-of-type {\n",
       "        vertical-align: middle;\n",
       "    }\n",
       "\n",
       "    .dataframe tbody tr th {\n",
       "        vertical-align: top;\n",
       "    }\n",
       "\n",
       "    .dataframe thead th {\n",
       "        text-align: right;\n",
       "    }\n",
       "</style>\n",
       "<table border=\"1\" class=\"dataframe\">\n",
       "  <thead>\n",
       "    <tr style=\"text-align: right;\">\n",
       "      <th></th>\n",
       "      <th>comp1</th>\n",
       "      <th>comp2</th>\n",
       "      <th>ids</th>\n",
       "      <th>coverage</th>\n",
       "      <th>repr_read_len</th>\n",
       "      <th>id_cluster</th>\n",
       "      <th>transform</th>\n",
       "      <th>mt</th>\n",
       "    </tr>\n",
       "  </thead>\n",
       "  <tbody>\n",
       "    <tr>\n",
       "      <th>0</th>\n",
       "      <td>-0.002749</td>\n",
       "      <td>0.001244</td>\n",
       "      <td>SRR5892449.19157</td>\n",
       "      <td>4</td>\n",
       "      <td>54565</td>\n",
       "      <td>1</td>\n",
       "      <td>2.000000</td>\n",
       "      <td>1</td>\n",
       "    </tr>\n",
       "    <tr>\n",
       "      <th>1</th>\n",
       "      <td>-0.006545</td>\n",
       "      <td>0.010860</td>\n",
       "      <td>SRR5892449.8608</td>\n",
       "      <td>3</td>\n",
       "      <td>41396</td>\n",
       "      <td>2</td>\n",
       "      <td>1.584963</td>\n",
       "      <td>1</td>\n",
       "    </tr>\n",
       "    <tr>\n",
       "      <th>2</th>\n",
       "      <td>-0.001505</td>\n",
       "      <td>-0.002529</td>\n",
       "      <td>SRR5892449.16681</td>\n",
       "      <td>2</td>\n",
       "      <td>39656</td>\n",
       "      <td>3</td>\n",
       "      <td>1.000000</td>\n",
       "      <td>1</td>\n",
       "    </tr>\n",
       "    <tr>\n",
       "      <th>3</th>\n",
       "      <td>-0.019431</td>\n",
       "      <td>0.018625</td>\n",
       "      <td>SRR5892449.10138</td>\n",
       "      <td>4</td>\n",
       "      <td>39243</td>\n",
       "      <td>4</td>\n",
       "      <td>2.000000</td>\n",
       "      <td>1</td>\n",
       "    </tr>\n",
       "    <tr>\n",
       "      <th>4</th>\n",
       "      <td>0.191994</td>\n",
       "      <td>-0.003368</td>\n",
       "      <td>SRR5892449.27537</td>\n",
       "      <td>10</td>\n",
       "      <td>38792</td>\n",
       "      <td>5</td>\n",
       "      <td>3.321928</td>\n",
       "      <td>32</td>\n",
       "    </tr>\n",
       "    <tr>\n",
       "      <th>...</th>\n",
       "      <td>...</td>\n",
       "      <td>...</td>\n",
       "      <td>...</td>\n",
       "      <td>...</td>\n",
       "      <td>...</td>\n",
       "      <td>...</td>\n",
       "      <td>...</td>\n",
       "      <td>...</td>\n",
       "    </tr>\n",
       "    <tr>\n",
       "      <th>469</th>\n",
       "      <td>-0.009111</td>\n",
       "      <td>0.009304</td>\n",
       "      <td>SRR5892449.41109</td>\n",
       "      <td>2</td>\n",
       "      <td>6258</td>\n",
       "      <td>469</td>\n",
       "      <td>1.000000</td>\n",
       "      <td>1</td>\n",
       "    </tr>\n",
       "    <tr>\n",
       "      <th>470</th>\n",
       "      <td>-0.022095</td>\n",
       "      <td>0.008053</td>\n",
       "      <td>SRR5892449.32600</td>\n",
       "      <td>2</td>\n",
       "      <td>5964</td>\n",
       "      <td>470</td>\n",
       "      <td>1.000000</td>\n",
       "      <td>1</td>\n",
       "    </tr>\n",
       "    <tr>\n",
       "      <th>471</th>\n",
       "      <td>0.006457</td>\n",
       "      <td>-0.006994</td>\n",
       "      <td>SRR5892449.38634</td>\n",
       "      <td>2</td>\n",
       "      <td>5878</td>\n",
       "      <td>471</td>\n",
       "      <td>1.000000</td>\n",
       "      <td>1</td>\n",
       "    </tr>\n",
       "    <tr>\n",
       "      <th>472</th>\n",
       "      <td>-0.002520</td>\n",
       "      <td>-0.012422</td>\n",
       "      <td>SRR5892449.51416</td>\n",
       "      <td>2</td>\n",
       "      <td>5707</td>\n",
       "      <td>472</td>\n",
       "      <td>1.000000</td>\n",
       "      <td>1</td>\n",
       "    </tr>\n",
       "    <tr>\n",
       "      <th>473</th>\n",
       "      <td>-0.000791</td>\n",
       "      <td>-0.009157</td>\n",
       "      <td>SRR5892449.35847</td>\n",
       "      <td>2</td>\n",
       "      <td>3516</td>\n",
       "      <td>474</td>\n",
       "      <td>1.000000</td>\n",
       "      <td>1</td>\n",
       "    </tr>\n",
       "  </tbody>\n",
       "</table>\n",
       "<p>474 rows × 8 columns</p>\n",
       "</div>"
      ],
      "text/plain": [
       "        comp1     comp2               ids  coverage  repr_read_len  \\\n",
       "0   -0.002749  0.001244  SRR5892449.19157         4          54565   \n",
       "1   -0.006545  0.010860   SRR5892449.8608         3          41396   \n",
       "2   -0.001505 -0.002529  SRR5892449.16681         2          39656   \n",
       "3   -0.019431  0.018625  SRR5892449.10138         4          39243   \n",
       "4    0.191994 -0.003368  SRR5892449.27537        10          38792   \n",
       "..        ...       ...               ...       ...            ...   \n",
       "469 -0.009111  0.009304  SRR5892449.41109         2           6258   \n",
       "470 -0.022095  0.008053  SRR5892449.32600         2           5964   \n",
       "471  0.006457 -0.006994  SRR5892449.38634         2           5878   \n",
       "472 -0.002520 -0.012422  SRR5892449.51416         2           5707   \n",
       "473 -0.000791 -0.009157  SRR5892449.35847         2           3516   \n",
       "\n",
       "     id_cluster  transform  mt  \n",
       "0             1   2.000000   1  \n",
       "1             2   1.584963   1  \n",
       "2             3   1.000000   1  \n",
       "3             4   2.000000   1  \n",
       "4             5   3.321928  32  \n",
       "..          ...        ...  ..  \n",
       "469         469   1.000000   1  \n",
       "470         470   1.000000   1  \n",
       "471         471   1.000000   1  \n",
       "472         472   1.000000   1  \n",
       "473         474   1.000000   1  \n",
       "\n",
       "[474 rows x 8 columns]"
      ]
     },
     "execution_count": 47,
     "metadata": {},
     "output_type": "execute_result"
    }
   ],
   "source": [
    "kmer_reduction = pca.fit_transform(hist_df.iloc[:,:-2])\n",
    "kmer_reduction = pd.DataFrame(kmer_reduction, columns=['comp1', 'comp2'])\n",
    "\n",
    "## merging the dataframe with ids and other relevant information\n",
    "kmer_reduction ['ids'] = hist_df['ids']\n",
    "kmer_reduction = kmer_reduction.merge(clusters, how='left', left_on='ids', right_on='id_longest_read')\n",
    "kmer_reduction.drop(columns='id_longest_read', inplace=True)\n",
    "\n",
    "## Annotate which reads are mitochondrial\n",
    "kmer_reduction['mt'] = (kmer_reduction['ids'].isin(ids_mt).astype(int) + 1) ** 5\n",
    "kmer_reduction = kmer_reduction[kmer_reduction['coverage'] > min_coverage]\n",
    "kmer_reduction"
   ]
  },
  {
   "cell_type": "code",
   "execution_count": 48,
   "metadata": {},
   "outputs": [
    {
     "name": "stderr",
     "output_type": "stream",
     "text": [
      "No artists with labels found to put in legend.  Note that artists whose label start with an underscore are ignored when legend() is called with no argument.\n"
     ]
    },
    {
     "data": {
      "text/plain": [
       "Text(0, 0.5, 'comp2')"
      ]
     },
     "execution_count": 48,
     "metadata": {},
     "output_type": "execute_result"
    },
    {
     "data": {
      "image/png": "[encoded data removed]",
      "text/plain": [
       "<Figure size 640x480 with 2 Axes>"
      ]
     },
     "metadata": {},
     "output_type": "display_data"
    }
   ],
   "source": [
    "sc = plt.scatter(kmer_reduction['comp1'],kmer_reduction['comp2'], c=kmer_reduction['coverage'], s=kmer_reduction['mt'])\n",
    "# legend\n",
    "# Add clusters_list colorbar\n",
    "cbar = plt.colorbar(sc)\n",
    "cbar.set_label('Color Scale')\n",
    "plt.legend()\n",
    "plt.xlabel('comp1')\n",
    "plt.ylabel('comp2')"
   ]
  },
  {
   "cell_type": "code",
   "execution_count": 49,
   "metadata": {},
   "outputs": [
    {
     "name": "stdout",
     "output_type": "stream",
     "text": [
      "Initialization complete\n",
      "Iteration 0, inertia 0.0848063175761436.\n",
      "Iteration 1, inertia 0.07410851549520248.\n",
      "Iteration 2, inertia 0.07325276463116237.\n",
      "Converged at iteration 2: strict convergence.\n"
     ]
    }
   ],
   "source": [
    "kmeans = KMeans(n_clusters=2, max_iter=100, init='k-means++', random_state=0, n_init=1,verbose=1)\n",
    "mt_prediction = kmeans.fit_predict(kmer_reduction[['comp1','comp2']])#, sample_weight=kmer_reduction['coverage'])\n",
    "kmer_reduction['cluster_prediction'] = mt_prediction"
   ]
  },
  {
   "cell_type": "code",
   "execution_count": 50,
   "metadata": {},
   "outputs": [
    {
     "data": {
      "text/plain": [
       "Text(0, 0.5, 'comp2')"
      ]
     },
     "execution_count": 50,
     "metadata": {},
     "output_type": "execute_result"
    },
    {
     "data": {
      "image/png": "[encoded data removed]",
      "text/plain": [
       "<Figure size 640x480 with 1 Axes>"
      ]
     },
     "metadata": {},
     "output_type": "display_data"
    }
   ],
   "source": [
    "plt.scatter(x=kmer_reduction['comp1'], y=kmer_reduction['comp2'], c=mt_prediction, s=kmer_reduction['mt'])\n",
    "plt.xlabel('comp1')\n",
    "plt.ylabel('comp2')"
   ]
  },
  {
   "cell_type": "markdown",
   "metadata": {},
   "source": [
    "# Get the cluster of interest\n",
    "\n",
    "This step is clusters_list pain in the ass, but since I am looking to keep the free-reference. "
   ]
  },
  {
   "cell_type": "code",
   "execution_count": 51,
   "metadata": {},
   "outputs": [
    {
     "data": {
      "text/html": [
       "<div>\n",
       "<style scoped>\n",
       "    .dataframe tbody tr th:only-of-type {\n",
       "        vertical-align: middle;\n",
       "    }\n",
       "\n",
       "    .dataframe tbody tr th {\n",
       "        vertical-align: top;\n",
       "    }\n",
       "\n",
       "    .dataframe thead th {\n",
       "        text-align: right;\n",
       "    }\n",
       "</style>\n",
       "<table border=\"1\" class=\"dataframe\">\n",
       "  <thead>\n",
       "    <tr style=\"text-align: right;\">\n",
       "      <th></th>\n",
       "      <th>comp1</th>\n",
       "      <th>comp2</th>\n",
       "      <th>ids</th>\n",
       "      <th>coverage</th>\n",
       "      <th>repr_read_len</th>\n",
       "      <th>id_cluster</th>\n",
       "      <th>transform</th>\n",
       "      <th>mt</th>\n",
       "      <th>cluster_prediction</th>\n",
       "    </tr>\n",
       "  </thead>\n",
       "  <tbody>\n",
       "    <tr>\n",
       "      <th>4</th>\n",
       "      <td>0.191994</td>\n",
       "      <td>-0.003368</td>\n",
       "      <td>SRR5892449.27537</td>\n",
       "      <td>10</td>\n",
       "      <td>38792</td>\n",
       "      <td>5</td>\n",
       "      <td>3.321928</td>\n",
       "      <td>32</td>\n",
       "      <td>1</td>\n",
       "    </tr>\n",
       "    <tr>\n",
       "      <th>7</th>\n",
       "      <td>0.220111</td>\n",
       "      <td>0.000368</td>\n",
       "      <td>SRR5892449.18969</td>\n",
       "      <td>13</td>\n",
       "      <td>35773</td>\n",
       "      <td>8</td>\n",
       "      <td>3.700440</td>\n",
       "      <td>32</td>\n",
       "      <td>1</td>\n",
       "    </tr>\n",
       "    <tr>\n",
       "      <th>11</th>\n",
       "      <td>0.115703</td>\n",
       "      <td>0.014906</td>\n",
       "      <td>SRR5892449.9739</td>\n",
       "      <td>48</td>\n",
       "      <td>33518</td>\n",
       "      <td>12</td>\n",
       "      <td>5.584963</td>\n",
       "      <td>32</td>\n",
       "      <td>1</td>\n",
       "    </tr>\n",
       "    <tr>\n",
       "      <th>12</th>\n",
       "      <td>0.199717</td>\n",
       "      <td>0.008577</td>\n",
       "      <td>SRR5892449.9113</td>\n",
       "      <td>2</td>\n",
       "      <td>33504</td>\n",
       "      <td>13</td>\n",
       "      <td>1.000000</td>\n",
       "      <td>32</td>\n",
       "      <td>1</td>\n",
       "    </tr>\n",
       "    <tr>\n",
       "      <th>13</th>\n",
       "      <td>0.238209</td>\n",
       "      <td>0.001286</td>\n",
       "      <td>SRR5892449.22604</td>\n",
       "      <td>28</td>\n",
       "      <td>32839</td>\n",
       "      <td>14</td>\n",
       "      <td>4.807355</td>\n",
       "      <td>32</td>\n",
       "      <td>1</td>\n",
       "    </tr>\n",
       "  </tbody>\n",
       "</table>\n",
       "</div>"
      ],
      "text/plain": [
       "       comp1     comp2               ids  coverage  repr_read_len  id_cluster  \\\n",
       "4   0.191994 -0.003368  SRR5892449.27537        10          38792           5   \n",
       "7   0.220111  0.000368  SRR5892449.18969        13          35773           8   \n",
       "11  0.115703  0.014906   SRR5892449.9739        48          33518          12   \n",
       "12  0.199717  0.008577   SRR5892449.9113         2          33504          13   \n",
       "13  0.238209  0.001286  SRR5892449.22604        28          32839          14   \n",
       "\n",
       "    transform  mt  cluster_prediction  \n",
       "4    3.321928  32                   1  \n",
       "7    3.700440  32                   1  \n",
       "11   5.584963  32                   1  \n",
       "12   1.000000  32                   1  \n",
       "13   4.807355  32                   1  "
      ]
     },
     "execution_count": 51,
     "metadata": {},
     "output_type": "execute_result"
    }
   ],
   "source": [
    "selected_cluster_id = kmer_reduction.loc[:, kmer_reduction.columns != 'ids'].groupby(by='cluster_prediction')['coverage'].mean().idxmax()\n",
    "selected_cluster = kmer_reduction[kmer_reduction['cluster_prediction'] == selected_cluster_id]\n",
    "selected_cluster.head()"
   ]
  },
  {
   "cell_type": "code",
   "execution_count": 52,
   "metadata": {},
   "outputs": [
    {
     "name": "stdout",
     "output_type": "stream",
     "text": [
      "191 reads retrieved\n"
     ]
    }
   ],
   "source": [
    "sequences_ids = set()\n",
    "for i in selected_cluster['id_cluster']:\n",
    "    sequences_ids.update(clusters_list.get_cluster(i).id_sequences)\n",
    "write_fasta(fasta=fasta, sequences_ids=sequences_ids, output='test/mt_reads_v1.fasta')"
   ]
  }
 ],
 "metadata": {
  "kernelspec": {
   "display_name": "mitnanex",
   "language": "python",
   "name": "python3"
  },
  "language_info": {
   "codemirror_mode": {
    "name": "ipython",
    "version": 3
   },
   "file_extension": ".py",
   "mimetype": "text/x-python",
   "name": "python",
   "nbconvert_exporter": "python",
   "pygments_lexer": "ipython3",
   "version": "3.11.4"
  },
  "orig_nbformat": 4
 },
 "nbformat": 4,
 "nbformat_minor": 2
}

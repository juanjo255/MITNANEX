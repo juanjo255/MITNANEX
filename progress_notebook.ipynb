{
 "cells": [
  {
   "cell_type": "code",
   "execution_count": 6,
   "metadata": {},
   "outputs": [],
   "source": [
    "from src.mitnanex import run\n",
    "import pandas as pd\n",
    "import matplotlib.pyplot as plt\n",
    "from sklearn.neighbors import KernelDensity"
   ]
  },
  {
   "cell_type": "code",
   "execution_count": 7,
   "metadata": {},
   "outputs": [],
   "source": [
    "prefix = 'all_talaro_porechop_18_07_2023'\n",
    "wd = 'test/talaro_santan/mitnanex_results/'\n",
    "\n",
    "clusters_list = run(f\"{wd}{prefix}.paf\", 0.7)\n",
    "\n",
    "# I need to plot the coverage of clusters\n",
    "coverages_df = pd.DataFrame(\n",
    "    {\n",
    "        \"coverage\": [i.coverage for i in clusters_list.clusters],\n",
    "        \"repr_read_len\": [i.longest_read_length for i in clusters_list.clusters],\n",
    "        \"id_longest_read\": [i.longest_read_id for i in clusters_list.clusters],\n",
    "        \"id_cluster\":[i.id_cluster for i in clusters_list.clusters],\n",
    "    }\n",
    ")"
   ]
  },
  {
   "cell_type": "code",
   "execution_count": 8,
   "metadata": {},
   "outputs": [
    {
     "data": {
      "text/html": [
       "<div>\n",
       "<style scoped>\n",
       "    .dataframe tbody tr th:only-of-type {\n",
       "        vertical-align: middle;\n",
       "    }\n",
       "\n",
       "    .dataframe tbody tr th {\n",
       "        vertical-align: top;\n",
       "    }\n",
       "\n",
       "    .dataframe thead th {\n",
       "        text-align: right;\n",
       "    }\n",
       "</style>\n",
       "<table border=\"1\" class=\"dataframe\">\n",
       "  <thead>\n",
       "    <tr style=\"text-align: right;\">\n",
       "      <th></th>\n",
       "      <th>coverage</th>\n",
       "      <th>repr_read_len</th>\n",
       "      <th>id_longest_read</th>\n",
       "      <th>id_cluster</th>\n",
       "    </tr>\n",
       "  </thead>\n",
       "  <tbody>\n",
       "    <tr>\n",
       "      <th>21</th>\n",
       "      <td>253</td>\n",
       "      <td>13396</td>\n",
       "      <td>7cf2b8b1-5b4f-4234-af33-39732ff36a8b</td>\n",
       "      <td>22</td>\n",
       "    </tr>\n",
       "    <tr>\n",
       "      <th>2</th>\n",
       "      <td>208</td>\n",
       "      <td>30009</td>\n",
       "      <td>31d41fce-9796-442d-ac9e-0e8951545241</td>\n",
       "      <td>3</td>\n",
       "    </tr>\n",
       "    <tr>\n",
       "      <th>27</th>\n",
       "      <td>187</td>\n",
       "      <td>12130</td>\n",
       "      <td>75ce9a43-c8e0-4cec-a089-419de454764e</td>\n",
       "      <td>28</td>\n",
       "    </tr>\n",
       "    <tr>\n",
       "      <th>28</th>\n",
       "      <td>81</td>\n",
       "      <td>12084</td>\n",
       "      <td>b3d5e0d0-52dd-4c0a-a094-fbca4e20f4eb</td>\n",
       "      <td>29</td>\n",
       "    </tr>\n",
       "    <tr>\n",
       "      <th>25</th>\n",
       "      <td>66</td>\n",
       "      <td>12229</td>\n",
       "      <td>8a83eec5-921f-4c8f-8406-06221bc88422</td>\n",
       "      <td>26</td>\n",
       "    </tr>\n",
       "  </tbody>\n",
       "</table>\n",
       "</div>"
      ],
      "text/plain": [
       "    coverage  repr_read_len                       id_longest_read  id_cluster\n",
       "21       253          13396  7cf2b8b1-5b4f-4234-af33-39732ff36a8b          22\n",
       "2        208          30009  31d41fce-9796-442d-ac9e-0e8951545241           3\n",
       "27       187          12130  75ce9a43-c8e0-4cec-a089-419de454764e          28\n",
       "28        81          12084  b3d5e0d0-52dd-4c0a-a094-fbca4e20f4eb          29\n",
       "25        66          12229  8a83eec5-921f-4c8f-8406-06221bc88422          26"
      ]
     },
     "execution_count": 8,
     "metadata": {},
     "output_type": "execute_result"
    }
   ],
   "source": [
    "# Test on the first 30 clusters\n",
    "import math\n",
    "clusters = coverages_df.sort_values(by='coverage', ascending=False)\n",
    "clusters.head()"
   ]
  },
  {
   "cell_type": "markdown",
   "metadata": {},
   "source": [
    "# Coverage\n",
    "\n",
    "The first step is to filter the reads by coverage. For that I will explore the use of Kernel Density since this is clusters_list one dimensional clustering."
   ]
  },
  {
   "cell_type": "code",
   "execution_count": 9,
   "metadata": {},
   "outputs": [
    {
     "data": {
      "text/html": [
       "<div>\n",
       "<style scoped>\n",
       "    .dataframe tbody tr th:only-of-type {\n",
       "        vertical-align: middle;\n",
       "    }\n",
       "\n",
       "    .dataframe tbody tr th {\n",
       "        vertical-align: top;\n",
       "    }\n",
       "\n",
       "    .dataframe thead th {\n",
       "        text-align: right;\n",
       "    }\n",
       "</style>\n",
       "<table border=\"1\" class=\"dataframe\">\n",
       "  <thead>\n",
       "    <tr style=\"text-align: right;\">\n",
       "      <th></th>\n",
       "      <th>coverage</th>\n",
       "      <th>repr_read_len</th>\n",
       "      <th>id_longest_read</th>\n",
       "      <th>id_cluster</th>\n",
       "      <th>transform</th>\n",
       "    </tr>\n",
       "  </thead>\n",
       "  <tbody>\n",
       "    <tr>\n",
       "      <th>21</th>\n",
       "      <td>253</td>\n",
       "      <td>13396</td>\n",
       "      <td>7cf2b8b1-5b4f-4234-af33-39732ff36a8b</td>\n",
       "      <td>22</td>\n",
       "      <td>7.982994</td>\n",
       "    </tr>\n",
       "    <tr>\n",
       "      <th>2</th>\n",
       "      <td>208</td>\n",
       "      <td>30009</td>\n",
       "      <td>31d41fce-9796-442d-ac9e-0e8951545241</td>\n",
       "      <td>3</td>\n",
       "      <td>7.700440</td>\n",
       "    </tr>\n",
       "    <tr>\n",
       "      <th>27</th>\n",
       "      <td>187</td>\n",
       "      <td>12130</td>\n",
       "      <td>75ce9a43-c8e0-4cec-a089-419de454764e</td>\n",
       "      <td>28</td>\n",
       "      <td>7.546894</td>\n",
       "    </tr>\n",
       "    <tr>\n",
       "      <th>28</th>\n",
       "      <td>81</td>\n",
       "      <td>12084</td>\n",
       "      <td>b3d5e0d0-52dd-4c0a-a094-fbca4e20f4eb</td>\n",
       "      <td>29</td>\n",
       "      <td>6.339850</td>\n",
       "    </tr>\n",
       "    <tr>\n",
       "      <th>25</th>\n",
       "      <td>66</td>\n",
       "      <td>12229</td>\n",
       "      <td>8a83eec5-921f-4c8f-8406-06221bc88422</td>\n",
       "      <td>26</td>\n",
       "      <td>6.044394</td>\n",
       "    </tr>\n",
       "    <tr>\n",
       "      <th>...</th>\n",
       "      <td>...</td>\n",
       "      <td>...</td>\n",
       "      <td>...</td>\n",
       "      <td>...</td>\n",
       "      <td>...</td>\n",
       "    </tr>\n",
       "    <tr>\n",
       "      <th>373</th>\n",
       "      <td>2</td>\n",
       "      <td>1982</td>\n",
       "      <td>ef30f10c-5d95-45b2-8981-fd5c35be9e9f</td>\n",
       "      <td>374</td>\n",
       "      <td>1.000000</td>\n",
       "    </tr>\n",
       "    <tr>\n",
       "      <th>374</th>\n",
       "      <td>2</td>\n",
       "      <td>1969</td>\n",
       "      <td>3e5c526c-2841-4097-a472-9d6667a80fc0</td>\n",
       "      <td>375</td>\n",
       "      <td>1.000000</td>\n",
       "    </tr>\n",
       "    <tr>\n",
       "      <th>375</th>\n",
       "      <td>2</td>\n",
       "      <td>1968</td>\n",
       "      <td>4dfa6738-71db-4738-9087-4d524f371079</td>\n",
       "      <td>376</td>\n",
       "      <td>1.000000</td>\n",
       "    </tr>\n",
       "    <tr>\n",
       "      <th>376</th>\n",
       "      <td>2</td>\n",
       "      <td>1967</td>\n",
       "      <td>c93b3366-7878-4c4d-8112-02027fb1f072</td>\n",
       "      <td>377</td>\n",
       "      <td>1.000000</td>\n",
       "    </tr>\n",
       "    <tr>\n",
       "      <th>871</th>\n",
       "      <td>2</td>\n",
       "      <td>320</td>\n",
       "      <td>48a2d13a-8b8a-42c6-bf7b-c1416e002605</td>\n",
       "      <td>872</td>\n",
       "      <td>1.000000</td>\n",
       "    </tr>\n",
       "  </tbody>\n",
       "</table>\n",
       "<p>872 rows × 5 columns</p>\n",
       "</div>"
      ],
      "text/plain": [
       "     coverage  repr_read_len                       id_longest_read  \\\n",
       "21        253          13396  7cf2b8b1-5b4f-4234-af33-39732ff36a8b   \n",
       "2         208          30009  31d41fce-9796-442d-ac9e-0e8951545241   \n",
       "27        187          12130  75ce9a43-c8e0-4cec-a089-419de454764e   \n",
       "28         81          12084  b3d5e0d0-52dd-4c0a-a094-fbca4e20f4eb   \n",
       "25         66          12229  8a83eec5-921f-4c8f-8406-06221bc88422   \n",
       "..        ...            ...                                   ...   \n",
       "373         2           1982  ef30f10c-5d95-45b2-8981-fd5c35be9e9f   \n",
       "374         2           1969  3e5c526c-2841-4097-a472-9d6667a80fc0   \n",
       "375         2           1968  4dfa6738-71db-4738-9087-4d524f371079   \n",
       "376         2           1967  c93b3366-7878-4c4d-8112-02027fb1f072   \n",
       "871         2            320  48a2d13a-8b8a-42c6-bf7b-c1416e002605   \n",
       "\n",
       "     id_cluster  transform  \n",
       "21           22   7.982994  \n",
       "2             3   7.700440  \n",
       "27           28   7.546894  \n",
       "28           29   6.339850  \n",
       "25           26   6.044394  \n",
       "..          ...        ...  \n",
       "373         374   1.000000  \n",
       "374         375   1.000000  \n",
       "375         376   1.000000  \n",
       "376         377   1.000000  \n",
       "871         872   1.000000  \n",
       "\n",
       "[872 rows x 5 columns]"
      ]
     },
     "execution_count": 9,
     "metadata": {},
     "output_type": "execute_result"
    }
   ],
   "source": [
    "clusters['transform'] = [math.log2(i)for i in clusters['coverage']]\n",
    "clusters"
   ]
  },
  {
   "cell_type": "code",
   "execution_count": 10,
   "metadata": {},
   "outputs": [
    {
     "data": {
      "text/plain": [
       "<Axes: >"
      ]
     },
     "execution_count": 10,
     "metadata": {},
     "output_type": "execute_result"
    },
    {
     "data": {
      "image/png": "[encoded data removed]",
      "text/plain": [
       "<Figure size 640x480 with 1 Axes>"
      ]
     },
     "metadata": {},
     "output_type": "display_data"
    }
   ],
   "source": [
    "clusters['coverage'].hist(bins=50)"
   ]
  },
  {
   "cell_type": "code",
   "execution_count": 11,
   "metadata": {},
   "outputs": [
    {
     "data": {
      "text/plain": [
       "<matplotlib.collections.PathCollection at 0x16ed18fa0>"
      ]
     },
     "execution_count": 11,
     "metadata": {},
     "output_type": "execute_result"
    },
    {
     "data": {
      "image/png": "[encoded data removed]",
      "text/plain": [
       "<Figure size 640x480 with 1 Axes>"
      ]
     },
     "metadata": {},
     "output_type": "display_data"
    }
   ],
   "source": [
    "plt.scatter(x=clusters['transform'], y=clusters['coverage'])"
   ]
  },
  {
   "cell_type": "code",
   "execution_count": 12,
   "metadata": {},
   "outputs": [
    {
     "data": {
      "text/plain": [
       "[<matplotlib.lines.Line2D at 0x16f1d0940>]"
      ]
     },
     "execution_count": 12,
     "metadata": {},
     "output_type": "execute_result"
    },
    {
     "data": {
      "image/png": "[encoded data removed]",
      "text/plain": [
       "<Figure size 640x480 with 1 Axes>"
      ]
     },
     "metadata": {},
     "output_type": "display_data"
    }
   ],
   "source": [
    "kde = KernelDensity(kernel='gaussian', bandwidth=0.5).fit(clusters['coverage'].array.reshape(-1,1))\n",
    "cov_fdp = kde.score_samples(clusters['coverage'].array.reshape(-1,1))\n",
    "plt.plot(clusters['coverage'], cov_fdp)"
   ]
  },
  {
   "cell_type": "code",
   "execution_count": 13,
   "metadata": {},
   "outputs": [
    {
     "name": "stdout",
     "output_type": "stream",
     "text": [
      "Covertura minima admitida:  24\n"
     ]
    }
   ],
   "source": [
    "from scipy.signal import argrelextrema\n",
    "import numpy as np\n",
    "local_min = argrelextrema(cov_fdp, np.less)[0]\n",
    "if len(local_min) < 1:\n",
    "    min_coverage = 3\n",
    "else:\n",
    "    min_coverage = clusters.iloc[max(local_min),:]['coverage']\n",
    "print(\"Covertura minima admitida: \", min_coverage)"
   ]
  },
  {
   "cell_type": "code",
   "execution_count": 14,
   "metadata": {},
   "outputs": [
    {
     "name": "stdout",
     "output_type": "stream",
     "text": [
      "Minimum coverage:  66\n"
     ]
    }
   ],
   "source": [
    "## ALTERNATIVE TO CALCULATE MINIMUN COVERAGE.\n",
    "## I WILL LOOK FOR THE GREATES HOLE IN THE DATA, IF THERE IS JUST ONE POINT THEN I CHOOSE THE SECOND GREATEST GAP\n",
    "def min_cov (clusters):\n",
    "    cov_gaps = clusters.loc[:,'coverage'].diff(periods=-1).sort_values(ascending=False)\n",
    "    for k in cov_gaps.index:\n",
    "        clusters_filt_cov = clusters['coverage'] >= clusters.loc[k, 'coverage']\n",
    "        if sum(clusters_filt_cov) > 3 :\n",
    "            min_coverage=clusters.loc[k, 'coverage']\n",
    "            print(\"Minimum coverage: \", min_coverage)\n",
    "            return min_coverage\n",
    "min_coverage=min_cov(clusters)"
   ]
  },
  {
   "cell_type": "code",
   "execution_count": 15,
   "metadata": {},
   "outputs": [],
   "source": [
    "# FILTER BY COVERAGE\n",
    "clusters = clusters[clusters['coverage'] >= min_coverage]"
   ]
  },
  {
   "cell_type": "code",
   "execution_count": 16,
   "metadata": {},
   "outputs": [
    {
     "name": "stderr",
     "output_type": "stream",
     "text": [
      "/var/folders/20/bjqv2gj50z7dx4ksyh4y8b800000gn/T/ipykernel_93660/1315750054.py:6: SettingWithCopyWarning: \n",
      "A value is trying to be set on a copy of a slice from a DataFrame.\n",
      "Try using .loc[row_indexer,col_indexer] = value instead\n",
      "\n",
      "See the caveats in the documentation: https://pandas.pydata.org/pandas-docs/stable/user_guide/indexing.html#returning-a-view-versus-a-copy\n",
      "  clusters['mt'] = [32 if i else 10 for i in clusters['id_longest_read'].isin(ids_mt)]\n"
     ]
    },
    {
     "data": {
      "text/html": [
       "<div>\n",
       "<style scoped>\n",
       "    .dataframe tbody tr th:only-of-type {\n",
       "        vertical-align: middle;\n",
       "    }\n",
       "\n",
       "    .dataframe tbody tr th {\n",
       "        vertical-align: top;\n",
       "    }\n",
       "\n",
       "    .dataframe thead th {\n",
       "        text-align: right;\n",
       "    }\n",
       "</style>\n",
       "<table border=\"1\" class=\"dataframe\">\n",
       "  <thead>\n",
       "    <tr style=\"text-align: right;\">\n",
       "      <th></th>\n",
       "      <th>coverage</th>\n",
       "      <th>repr_read_len</th>\n",
       "      <th>id_longest_read</th>\n",
       "      <th>id_cluster</th>\n",
       "      <th>transform</th>\n",
       "      <th>mt</th>\n",
       "    </tr>\n",
       "  </thead>\n",
       "  <tbody>\n",
       "    <tr>\n",
       "      <th>21</th>\n",
       "      <td>253</td>\n",
       "      <td>13396</td>\n",
       "      <td>7cf2b8b1-5b4f-4234-af33-39732ff36a8b</td>\n",
       "      <td>22</td>\n",
       "      <td>7.982994</td>\n",
       "      <td>32</td>\n",
       "    </tr>\n",
       "    <tr>\n",
       "      <th>2</th>\n",
       "      <td>208</td>\n",
       "      <td>30009</td>\n",
       "      <td>31d41fce-9796-442d-ac9e-0e8951545241</td>\n",
       "      <td>3</td>\n",
       "      <td>7.700440</td>\n",
       "      <td>32</td>\n",
       "    </tr>\n",
       "    <tr>\n",
       "      <th>27</th>\n",
       "      <td>187</td>\n",
       "      <td>12130</td>\n",
       "      <td>75ce9a43-c8e0-4cec-a089-419de454764e</td>\n",
       "      <td>28</td>\n",
       "      <td>7.546894</td>\n",
       "      <td>32</td>\n",
       "    </tr>\n",
       "    <tr>\n",
       "      <th>28</th>\n",
       "      <td>81</td>\n",
       "      <td>12084</td>\n",
       "      <td>b3d5e0d0-52dd-4c0a-a094-fbca4e20f4eb</td>\n",
       "      <td>29</td>\n",
       "      <td>6.339850</td>\n",
       "      <td>32</td>\n",
       "    </tr>\n",
       "    <tr>\n",
       "      <th>25</th>\n",
       "      <td>66</td>\n",
       "      <td>12229</td>\n",
       "      <td>8a83eec5-921f-4c8f-8406-06221bc88422</td>\n",
       "      <td>26</td>\n",
       "      <td>6.044394</td>\n",
       "      <td>32</td>\n",
       "    </tr>\n",
       "  </tbody>\n",
       "</table>\n",
       "</div>"
      ],
      "text/plain": [
       "    coverage  repr_read_len                       id_longest_read  id_cluster  \\\n",
       "21       253          13396  7cf2b8b1-5b4f-4234-af33-39732ff36a8b          22   \n",
       "2        208          30009  31d41fce-9796-442d-ac9e-0e8951545241           3   \n",
       "27       187          12130  75ce9a43-c8e0-4cec-a089-419de454764e          28   \n",
       "28        81          12084  b3d5e0d0-52dd-4c0a-a094-fbca4e20f4eb          29   \n",
       "25        66          12229  8a83eec5-921f-4c8f-8406-06221bc88422          26   \n",
       "\n",
       "    transform  mt  \n",
       "21   7.982994  32  \n",
       "2    7.700440  32  \n",
       "27   7.546894  32  \n",
       "28   6.339850  32  \n",
       "25   6.044394  32  "
      ]
     },
     "execution_count": 16,
     "metadata": {},
     "output_type": "execute_result"
    }
   ],
   "source": [
    "## GROUND TRUTH \n",
    "## Get the real mt sequences\n",
    "with open('test/talaro_santan/chrMT_reads_ids.txt','r') as handle_ids_mt:\n",
    "    ids_mt = handle_ids_mt.read().splitlines()\n",
    "    ids_mt = [i[:].strip() for i in ids_mt]\n",
    "clusters['mt'] = [32 if i else 10 for i in clusters['id_longest_read'].isin(ids_mt)]\n",
    "clusters"
   ]
  },
  {
   "cell_type": "markdown",
   "metadata": {},
   "source": [
    "# Oligo composition\n",
    "\n",
    "Once I've detected the clusters with higher coverage, which I expect includes mitochondria and contamination, whether nuclear or external, I have to purify these groups. To do this I will use the oligo composition as it is used during metagenomics binning.\n",
    "\n",
    "I will create clusters_list script to get the kmers. The kmer size will be 3 to solve two things: 1. Intrinsec error from Nanopore, 2 smaller set as possible (4**3 possible kmers). \n",
    "\n",
    "Finally, I will reduce dimensionality using PCA"
   ]
  },
  {
   "cell_type": "code",
   "execution_count": 17,
   "metadata": {},
   "outputs": [],
   "source": [
    "from src.utils import write_fasta\n",
    "#from src.kmer_cnt import get_kmer_profiles\n",
    "import utils_rs"
   ]
  },
  {
   "cell_type": "code",
   "execution_count": 18,
   "metadata": {},
   "outputs": [],
   "source": [
    "reads_file = f\"{wd}{prefix}_sample.sorted.fastq\"\n",
    "repr_reads = [i for i in clusters['id_longest_read']]"
   ]
  },
  {
   "cell_type": "code",
   "execution_count": 19,
   "metadata": {},
   "outputs": [],
   "source": [
    "# PYTHON VERSION\n",
    "# kmer_profiles_df = get_kmer_profiles (repr_reads, reads_file, 3)\n",
    "# kmer_profiles_df.head()"
   ]
  },
  {
   "cell_type": "code",
   "execution_count": 20,
   "metadata": {},
   "outputs": [
    {
     "data": {
      "text/html": [
       "<div>\n",
       "<style scoped>\n",
       "    .dataframe tbody tr th:only-of-type {\n",
       "        vertical-align: middle;\n",
       "    }\n",
       "\n",
       "    .dataframe tbody tr th {\n",
       "        vertical-align: top;\n",
       "    }\n",
       "\n",
       "    .dataframe thead th {\n",
       "        text-align: right;\n",
       "    }\n",
       "</style>\n",
       "<table border=\"1\" class=\"dataframe\">\n",
       "  <thead>\n",
       "    <tr style=\"text-align: right;\">\n",
       "      <th></th>\n",
       "      <th>0</th>\n",
       "      <th>1</th>\n",
       "      <th>2</th>\n",
       "      <th>3</th>\n",
       "      <th>4</th>\n",
       "      <th>5</th>\n",
       "      <th>6</th>\n",
       "      <th>7</th>\n",
       "      <th>8</th>\n",
       "      <th>9</th>\n",
       "      <th>...</th>\n",
       "      <th>23</th>\n",
       "      <th>24</th>\n",
       "      <th>25</th>\n",
       "      <th>26</th>\n",
       "      <th>27</th>\n",
       "      <th>28</th>\n",
       "      <th>29</th>\n",
       "      <th>30</th>\n",
       "      <th>31</th>\n",
       "      <th>ids</th>\n",
       "    </tr>\n",
       "  </thead>\n",
       "  <tbody>\n",
       "    <tr>\n",
       "      <th>0</th>\n",
       "      <td>0.110667</td>\n",
       "      <td>0.105568</td>\n",
       "      <td>0.033157</td>\n",
       "      <td>0.032890</td>\n",
       "      <td>0.122663</td>\n",
       "      <td>0.028092</td>\n",
       "      <td>0.034256</td>\n",
       "      <td>0.033157</td>\n",
       "      <td>0.032890</td>\n",
       "      <td>0.014796</td>\n",
       "      <td>...</td>\n",
       "      <td>0.002666</td>\n",
       "      <td>0.006331</td>\n",
       "      <td>0.003132</td>\n",
       "      <td>0.030358</td>\n",
       "      <td>0.008431</td>\n",
       "      <td>0.034556</td>\n",
       "      <td>0.016362</td>\n",
       "      <td>0.005765</td>\n",
       "      <td>0.010230</td>\n",
       "      <td>31d41fce-9796-442d-ac9e-0e8951545241</td>\n",
       "    </tr>\n",
       "    <tr>\n",
       "      <th>1</th>\n",
       "      <td>0.101374</td>\n",
       "      <td>0.098835</td>\n",
       "      <td>0.033443</td>\n",
       "      <td>0.034189</td>\n",
       "      <td>0.111750</td>\n",
       "      <td>0.034488</td>\n",
       "      <td>0.032024</td>\n",
       "      <td>0.033368</td>\n",
       "      <td>0.032920</td>\n",
       "      <td>0.017617</td>\n",
       "      <td>...</td>\n",
       "      <td>0.005897</td>\n",
       "      <td>0.012019</td>\n",
       "      <td>0.005225</td>\n",
       "      <td>0.029860</td>\n",
       "      <td>0.009406</td>\n",
       "      <td>0.036429</td>\n",
       "      <td>0.013959</td>\n",
       "      <td>0.007540</td>\n",
       "      <td>0.011944</td>\n",
       "      <td>7cf2b8b1-5b4f-4234-af33-39732ff36a8b</td>\n",
       "    </tr>\n",
       "    <tr>\n",
       "      <th>2</th>\n",
       "      <td>0.104342</td>\n",
       "      <td>0.105323</td>\n",
       "      <td>0.036062</td>\n",
       "      <td>0.031564</td>\n",
       "      <td>0.121269</td>\n",
       "      <td>0.029520</td>\n",
       "      <td>0.034099</td>\n",
       "      <td>0.033200</td>\n",
       "      <td>0.034263</td>\n",
       "      <td>0.014964</td>\n",
       "      <td>...</td>\n",
       "      <td>0.002780</td>\n",
       "      <td>0.005724</td>\n",
       "      <td>0.003434</td>\n",
       "      <td>0.033036</td>\n",
       "      <td>0.006705</td>\n",
       "      <td>0.034590</td>\n",
       "      <td>0.018481</td>\n",
       "      <td>0.003762</td>\n",
       "      <td>0.010876</td>\n",
       "      <td>8a83eec5-921f-4c8f-8406-06221bc88422</td>\n",
       "    </tr>\n",
       "    <tr>\n",
       "      <th>3</th>\n",
       "      <td>0.102473</td>\n",
       "      <td>0.104782</td>\n",
       "      <td>0.032729</td>\n",
       "      <td>0.032399</td>\n",
       "      <td>0.126793</td>\n",
       "      <td>0.028607</td>\n",
       "      <td>0.033553</td>\n",
       "      <td>0.032481</td>\n",
       "      <td>0.032729</td>\n",
       "      <td>0.016900</td>\n",
       "      <td>...</td>\n",
       "      <td>0.002473</td>\n",
       "      <td>0.006925</td>\n",
       "      <td>0.002143</td>\n",
       "      <td>0.030420</td>\n",
       "      <td>0.008656</td>\n",
       "      <td>0.037510</td>\n",
       "      <td>0.014345</td>\n",
       "      <td>0.004452</td>\n",
       "      <td>0.010965</td>\n",
       "      <td>75ce9a43-c8e0-4cec-a089-419de454764e</td>\n",
       "    </tr>\n",
       "    <tr>\n",
       "      <th>4</th>\n",
       "      <td>0.111139</td>\n",
       "      <td>0.111221</td>\n",
       "      <td>0.032771</td>\n",
       "      <td>0.032853</td>\n",
       "      <td>0.132158</td>\n",
       "      <td>0.026399</td>\n",
       "      <td>0.033019</td>\n",
       "      <td>0.033681</td>\n",
       "      <td>0.032771</td>\n",
       "      <td>0.014896</td>\n",
       "      <td>...</td>\n",
       "      <td>0.001159</td>\n",
       "      <td>0.002648</td>\n",
       "      <td>0.001159</td>\n",
       "      <td>0.028964</td>\n",
       "      <td>0.006620</td>\n",
       "      <td>0.036412</td>\n",
       "      <td>0.015889</td>\n",
       "      <td>0.002896</td>\n",
       "      <td>0.009351</td>\n",
       "      <td>b3d5e0d0-52dd-4c0a-a094-fbca4e20f4eb</td>\n",
       "    </tr>\n",
       "  </tbody>\n",
       "</table>\n",
       "<p>5 rows × 33 columns</p>\n",
       "</div>"
      ],
      "text/plain": [
       "          0         1         2         3         4         5         6  \\\n",
       "0  0.110667  0.105568  0.033157  0.032890  0.122663  0.028092  0.034256   \n",
       "1  0.101374  0.098835  0.033443  0.034189  0.111750  0.034488  0.032024   \n",
       "2  0.104342  0.105323  0.036062  0.031564  0.121269  0.029520  0.034099   \n",
       "3  0.102473  0.104782  0.032729  0.032399  0.126793  0.028607  0.033553   \n",
       "4  0.111139  0.111221  0.032771  0.032853  0.132158  0.026399  0.033019   \n",
       "\n",
       "          7         8         9  ...        23        24        25        26  \\\n",
       "0  0.033157  0.032890  0.014796  ...  0.002666  0.006331  0.003132  0.030358   \n",
       "1  0.033368  0.032920  0.017617  ...  0.005897  0.012019  0.005225  0.029860   \n",
       "2  0.033200  0.034263  0.014964  ...  0.002780  0.005724  0.003434  0.033036   \n",
       "3  0.032481  0.032729  0.016900  ...  0.002473  0.006925  0.002143  0.030420   \n",
       "4  0.033681  0.032771  0.014896  ...  0.001159  0.002648  0.001159  0.028964   \n",
       "\n",
       "         27        28        29        30        31  \\\n",
       "0  0.008431  0.034556  0.016362  0.005765  0.010230   \n",
       "1  0.009406  0.036429  0.013959  0.007540  0.011944   \n",
       "2  0.006705  0.034590  0.018481  0.003762  0.010876   \n",
       "3  0.008656  0.037510  0.014345  0.004452  0.010965   \n",
       "4  0.006620  0.036412  0.015889  0.002896  0.009351   \n",
       "\n",
       "                                    ids  \n",
       "0  31d41fce-9796-442d-ac9e-0e8951545241  \n",
       "1  7cf2b8b1-5b4f-4234-af33-39732ff36a8b  \n",
       "2  8a83eec5-921f-4c8f-8406-06221bc88422  \n",
       "3  75ce9a43-c8e0-4cec-a089-419de454764e  \n",
       "4  b3d5e0d0-52dd-4c0a-a094-fbca4e20f4eb  \n",
       "\n",
       "[5 rows x 33 columns]"
      ]
     },
     "execution_count": 20,
     "metadata": {},
     "output_type": "execute_result"
    }
   ],
   "source": [
    "# RUST VERSION\n",
    "hist = utils_rs.get_kmer_profiles(repr_reads, reads_file, 3)\n",
    "hist_df = pd.DataFrame(hist[0])\n",
    "hist_df['ids'] = hist[1]\n",
    "hist_df.head()\n",
    "hist_df.iloc[:, :-1]\n",
    "hist_df.head()"
   ]
  },
  {
   "cell_type": "markdown",
   "metadata": {},
   "source": [
    "# Dimensionality reduction with PCA and clustering with k-means "
   ]
  },
  {
   "cell_type": "code",
   "execution_count": 21,
   "metadata": {},
   "outputs": [],
   "source": [
    "from sklearn.decomposition import PCA\n",
    "from sklearn.cluster import KMeans"
   ]
  },
  {
   "cell_type": "code",
   "execution_count": 22,
   "metadata": {},
   "outputs": [
    {
     "data": {
      "text/html": [
       "<style>#sk-container-id-1 {color: black;}#sk-container-id-1 pre{padding: 0;}#sk-container-id-1 div.sk-toggleable {background-color: white;}#sk-container-id-1 label.sk-toggleable__label {cursor: pointer;display: block;width: 100%;margin-bottom: 0;padding: 0.3em;box-sizing: border-box;text-align: center;}#sk-container-id-1 label.sk-toggleable__label-arrow:before {content: \"▸\";float: left;margin-right: 0.25em;color: #696969;}#sk-container-id-1 label.sk-toggleable__label-arrow:hover:before {color: black;}#sk-container-id-1 div.sk-estimator:hover label.sk-toggleable__label-arrow:before {color: black;}#sk-container-id-1 div.sk-toggleable__content {max-height: 0;max-width: 0;overflow: hidden;text-align: left;background-color: #f0f8ff;}#sk-container-id-1 div.sk-toggleable__content pre {margin: 0.2em;color: black;border-radius: 0.25em;background-color: #f0f8ff;}#sk-container-id-1 input.sk-toggleable__control:checked~div.sk-toggleable__content {max-height: 200px;max-width: 100%;overflow: auto;}#sk-container-id-1 input.sk-toggleable__control:checked~label.sk-toggleable__label-arrow:before {content: \"▾\";}#sk-container-id-1 div.sk-estimator input.sk-toggleable__control:checked~label.sk-toggleable__label {background-color: #d4ebff;}#sk-container-id-1 div.sk-label input.sk-toggleable__control:checked~label.sk-toggleable__label {background-color: #d4ebff;}#sk-container-id-1 input.sk-hidden--visually {border: 0;clip: rect(1px 1px 1px 1px);clip: rect(1px, 1px, 1px, 1px);height: 1px;margin: -1px;overflow: hidden;padding: 0;position: absolute;width: 1px;}#sk-container-id-1 div.sk-estimator {font-family: monospace;background-color: #f0f8ff;border: 1px dotted black;border-radius: 0.25em;box-sizing: border-box;margin-bottom: 0.5em;}#sk-container-id-1 div.sk-estimator:hover {background-color: #d4ebff;}#sk-container-id-1 div.sk-parallel-item::after {content: \"\";width: 100%;border-bottom: 1px solid gray;flex-grow: 1;}#sk-container-id-1 div.sk-label:hover label.sk-toggleable__label {background-color: #d4ebff;}#sk-container-id-1 div.sk-serial::before {content: \"\";position: absolute;border-left: 1px solid gray;box-sizing: border-box;top: 0;bottom: 0;left: 50%;z-index: 0;}#sk-container-id-1 div.sk-serial {display: flex;flex-direction: column;align-items: center;background-color: white;padding-right: 0.2em;padding-left: 0.2em;position: relative;}#sk-container-id-1 div.sk-item {position: relative;z-index: 1;}#sk-container-id-1 div.sk-parallel {display: flex;align-items: stretch;justify-content: center;background-color: white;position: relative;}#sk-container-id-1 div.sk-item::before, #sk-container-id-1 div.sk-parallel-item::before {content: \"\";position: absolute;border-left: 1px solid gray;box-sizing: border-box;top: 0;bottom: 0;left: 50%;z-index: -1;}#sk-container-id-1 div.sk-parallel-item {display: flex;flex-direction: column;z-index: 1;position: relative;background-color: white;}#sk-container-id-1 div.sk-parallel-item:first-child::after {align-self: flex-end;width: 50%;}#sk-container-id-1 div.sk-parallel-item:last-child::after {align-self: flex-start;width: 50%;}#sk-container-id-1 div.sk-parallel-item:only-child::after {width: 0;}#sk-container-id-1 div.sk-dashed-wrapped {border: 1px dashed gray;margin: 0 0.4em 0.5em 0.4em;box-sizing: border-box;padding-bottom: 0.4em;background-color: white;}#sk-container-id-1 div.sk-label label {font-family: monospace;font-weight: bold;display: inline-block;line-height: 1.2em;}#sk-container-id-1 div.sk-label-container {text-align: center;}#sk-container-id-1 div.sk-container {/* jupyter's `normalize.less` sets `[hidden] { display: none; }` but bootstrap.min.css set `[hidden] { display: none !important; }` so we also need the `!important` here to be able to override the default hidden behavior on the sphinx rendered scikit-learn.org. See: https://github.com/scikit-learn/scikit-learn/issues/21755 */display: inline-block !important;position: relative;}#sk-container-id-1 div.sk-text-repr-fallback {display: none;}</style><div id=\"sk-container-id-1\" class=\"sk-top-container\"><div class=\"sk-text-repr-fallback\"><pre>PCA(n_components=2)</pre><b>In a Jupyter environment, please rerun this cell to show the HTML representation or trust the notebook. <br />On GitHub, the HTML representation is unable to render, please try loading this page with nbviewer.org.</b></div><div class=\"sk-container\" hidden><div class=\"sk-item\"><div class=\"sk-estimator sk-toggleable\"><input class=\"sk-toggleable__control sk-hidden--visually\" id=\"sk-estimator-id-1\" type=\"checkbox\" checked><label for=\"sk-estimator-id-1\" class=\"sk-toggleable__label sk-toggleable__label-arrow\">PCA</label><div class=\"sk-toggleable__content\"><pre>PCA(n_components=2)</pre></div></div></div></div></div>"
      ],
      "text/plain": [
       "PCA(n_components=2)"
      ]
     },
     "execution_count": 22,
     "metadata": {},
     "output_type": "execute_result"
    }
   ],
   "source": [
    "pca = PCA(n_components=2)\n",
    "pca.fit(hist_df.iloc[:,:-2])"
   ]
  },
  {
   "cell_type": "code",
   "execution_count": 23,
   "metadata": {},
   "outputs": [
    {
     "data": {
      "text/plain": [
       "array([1.57040896e-04, 1.90526381e-05])"
      ]
     },
     "execution_count": 23,
     "metadata": {},
     "output_type": "execute_result"
    }
   ],
   "source": [
    "## Components and variance explained \n",
    "pca.explained_variance_\n",
    "#pca.components_"
   ]
  },
  {
   "cell_type": "code",
   "execution_count": 24,
   "metadata": {},
   "outputs": [
    {
     "data": {
      "text/html": [
       "<div>\n",
       "<style scoped>\n",
       "    .dataframe tbody tr th:only-of-type {\n",
       "        vertical-align: middle;\n",
       "    }\n",
       "\n",
       "    .dataframe tbody tr th {\n",
       "        vertical-align: top;\n",
       "    }\n",
       "\n",
       "    .dataframe thead th {\n",
       "        text-align: right;\n",
       "    }\n",
       "</style>\n",
       "<table border=\"1\" class=\"dataframe\">\n",
       "  <thead>\n",
       "    <tr style=\"text-align: right;\">\n",
       "      <th></th>\n",
       "      <th>comp1</th>\n",
       "      <th>comp2</th>\n",
       "      <th>ids</th>\n",
       "      <th>coverage</th>\n",
       "      <th>repr_read_len</th>\n",
       "      <th>id_cluster</th>\n",
       "      <th>transform</th>\n",
       "      <th>mt</th>\n",
       "      <th>coverage_norm</th>\n",
       "    </tr>\n",
       "  </thead>\n",
       "  <tbody>\n",
       "    <tr>\n",
       "      <th>0</th>\n",
       "      <td>-0.001665</td>\n",
       "      <td>0.001209</td>\n",
       "      <td>31d41fce-9796-442d-ac9e-0e8951545241</td>\n",
       "      <td>208</td>\n",
       "      <td>30009</td>\n",
       "      <td>3</td>\n",
       "      <td>7.700440</td>\n",
       "      <td>32</td>\n",
       "      <td>0.006931</td>\n",
       "    </tr>\n",
       "    <tr>\n",
       "      <th>1</th>\n",
       "      <td>0.018432</td>\n",
       "      <td>-0.001595</td>\n",
       "      <td>7cf2b8b1-5b4f-4234-af33-39732ff36a8b</td>\n",
       "      <td>253</td>\n",
       "      <td>13396</td>\n",
       "      <td>22</td>\n",
       "      <td>7.982994</td>\n",
       "      <td>32</td>\n",
       "      <td>0.018886</td>\n",
       "    </tr>\n",
       "    <tr>\n",
       "      <th>2</th>\n",
       "      <td>0.001053</td>\n",
       "      <td>0.006672</td>\n",
       "      <td>8a83eec5-921f-4c8f-8406-06221bc88422</td>\n",
       "      <td>66</td>\n",
       "      <td>12229</td>\n",
       "      <td>26</td>\n",
       "      <td>6.044394</td>\n",
       "      <td>32</td>\n",
       "      <td>0.005397</td>\n",
       "    </tr>\n",
       "    <tr>\n",
       "      <th>3</th>\n",
       "      <td>-0.000980</td>\n",
       "      <td>-0.005136</td>\n",
       "      <td>75ce9a43-c8e0-4cec-a089-419de454764e</td>\n",
       "      <td>187</td>\n",
       "      <td>12130</td>\n",
       "      <td>28</td>\n",
       "      <td>7.546894</td>\n",
       "      <td>32</td>\n",
       "      <td>0.015416</td>\n",
       "    </tr>\n",
       "    <tr>\n",
       "      <th>4</th>\n",
       "      <td>-0.016840</td>\n",
       "      <td>-0.001149</td>\n",
       "      <td>b3d5e0d0-52dd-4c0a-a094-fbca4e20f4eb</td>\n",
       "      <td>81</td>\n",
       "      <td>12084</td>\n",
       "      <td>29</td>\n",
       "      <td>6.339850</td>\n",
       "      <td>32</td>\n",
       "      <td>0.006703</td>\n",
       "    </tr>\n",
       "  </tbody>\n",
       "</table>\n",
       "</div>"
      ],
      "text/plain": [
       "      comp1     comp2                                   ids  coverage  \\\n",
       "0 -0.001665  0.001209  31d41fce-9796-442d-ac9e-0e8951545241       208   \n",
       "1  0.018432 -0.001595  7cf2b8b1-5b4f-4234-af33-39732ff36a8b       253   \n",
       "2  0.001053  0.006672  8a83eec5-921f-4c8f-8406-06221bc88422        66   \n",
       "3 -0.000980 -0.005136  75ce9a43-c8e0-4cec-a089-419de454764e       187   \n",
       "4 -0.016840 -0.001149  b3d5e0d0-52dd-4c0a-a094-fbca4e20f4eb        81   \n",
       "\n",
       "   repr_read_len  id_cluster  transform  mt  coverage_norm  \n",
       "0          30009           3   7.700440  32       0.006931  \n",
       "1          13396          22   7.982994  32       0.018886  \n",
       "2          12229          26   6.044394  32       0.005397  \n",
       "3          12130          28   7.546894  32       0.015416  \n",
       "4          12084          29   6.339850  32       0.006703  "
      ]
     },
     "execution_count": 24,
     "metadata": {},
     "output_type": "execute_result"
    }
   ],
   "source": [
    "kmer_reduction = pca.fit_transform(hist_df.iloc[:,:-2])\n",
    "kmer_reduction = pd.DataFrame(kmer_reduction, columns=['comp1', 'comp2'])\n",
    "\n",
    "## merging the dataframe with ids and other relevant information\n",
    "kmer_reduction ['ids'] = hist_df['ids']\n",
    "kmer_reduction = kmer_reduction.merge(clusters, how='left', left_on='ids', right_on='id_longest_read')\n",
    "kmer_reduction.drop(columns='id_longest_read', inplace=True)\n",
    "\n",
    "## Annotate which reads are mitochondrial\n",
    "kmer_reduction['coverage_norm'] = kmer_reduction['coverage'] / kmer_reduction['repr_read_len']\n",
    "kmer_reduction.head()"
   ]
  },
  {
   "cell_type": "code",
   "execution_count": 25,
   "metadata": {},
   "outputs": [
    {
     "name": "stderr",
     "output_type": "stream",
     "text": [
      "No artists with labels found to put in legend.  Note that artists whose label start with an underscore are ignored when legend() is called with no argument.\n"
     ]
    },
    {
     "data": {
      "text/plain": [
       "Text(0, 0.5, 'comp2')"
      ]
     },
     "execution_count": 25,
     "metadata": {},
     "output_type": "execute_result"
    },
    {
     "data": {
      "image/png": "[encoded data removed]",
      "text/plain": [
       "<Figure size 640x480 with 2 Axes>"
      ]
     },
     "metadata": {},
     "output_type": "display_data"
    }
   ],
   "source": [
    "sc = plt.scatter(kmer_reduction['comp1'],kmer_reduction['comp2'], c=kmer_reduction['coverage_norm'], s=kmer_reduction['mt'])\n",
    "# legend\n",
    "# Add clusters_list colorbar\n",
    "cbar = plt.colorbar(sc)\n",
    "cbar.set_label('Color Scale')\n",
    "plt.legend()\n",
    "plt.xlabel('comp1')\n",
    "plt.ylabel('comp2')"
   ]
  },
  {
   "cell_type": "code",
   "execution_count": 26,
   "metadata": {},
   "outputs": [
    {
     "name": "stdout",
     "output_type": "stream",
     "text": [
      "Initialization complete\n",
      "Iteration 0, inertia 5.027017000641197e-06.\n",
      "Iteration 1, inertia 2.0341546357464273e-06.\n",
      "Converged at iteration 1: strict convergence.\n"
     ]
    }
   ],
   "source": [
    "kmeans = KMeans(n_clusters=2, max_iter=100, init='k-means++', random_state=0, n_init=1,verbose=1)\n",
    "mt_prediction = kmeans.fit_predict(kmer_reduction[['comp1','comp2']], sample_weight=kmer_reduction['coverage_norm'])\n",
    "kmer_reduction['cluster_prediction'] = mt_prediction"
   ]
  },
  {
   "cell_type": "code",
   "execution_count": 27,
   "metadata": {},
   "outputs": [
    {
     "data": {
      "text/plain": [
       "Text(0, 0.5, 'comp2')"
      ]
     },
     "execution_count": 27,
     "metadata": {},
     "output_type": "execute_result"
    },
    {
     "data": {
      "image/png": "[encoded data removed]",
      "text/plain": [
       "<Figure size 640x480 with 1 Axes>"
      ]
     },
     "metadata": {},
     "output_type": "display_data"
    }
   ],
   "source": [
    "plt.scatter(x=kmer_reduction['comp1'], y=kmer_reduction['comp2'], c=mt_prediction, s=kmer_reduction['mt'])\n",
    "plt.xlabel('comp1')\n",
    "plt.ylabel('comp2')"
   ]
  },
  {
   "cell_type": "markdown",
   "metadata": {},
   "source": [
    "# Get the cluster of interest\n",
    "\n",
    "This step is clusters_list pain in the ass, but since I am looking to keep the free-reference. "
   ]
  },
  {
   "cell_type": "code",
   "execution_count": 28,
   "metadata": {},
   "outputs": [
    {
     "name": "stderr",
     "output_type": "stream",
     "text": [
      "/var/folders/20/bjqv2gj50z7dx4ksyh4y8b800000gn/T/ipykernel_93660/2001483469.py:3: SettingWithCopyWarning: \n",
      "A value is trying to be set on a copy of a slice from a DataFrame\n",
      "\n",
      "See the caveats in the documentation: https://pandas.pydata.org/pandas-docs/stable/user_guide/indexing.html#returning-a-view-versus-a-copy\n",
      "  selected_cluster.sort_values('coverage_norm', inplace=True, ascending=False)\n"
     ]
    },
    {
     "data": {
      "text/html": [
       "<div>\n",
       "<style scoped>\n",
       "    .dataframe tbody tr th:only-of-type {\n",
       "        vertical-align: middle;\n",
       "    }\n",
       "\n",
       "    .dataframe tbody tr th {\n",
       "        vertical-align: top;\n",
       "    }\n",
       "\n",
       "    .dataframe thead th {\n",
       "        text-align: right;\n",
       "    }\n",
       "</style>\n",
       "<table border=\"1\" class=\"dataframe\">\n",
       "  <thead>\n",
       "    <tr style=\"text-align: right;\">\n",
       "      <th></th>\n",
       "      <th>comp1</th>\n",
       "      <th>comp2</th>\n",
       "      <th>ids</th>\n",
       "      <th>coverage</th>\n",
       "      <th>repr_read_len</th>\n",
       "      <th>id_cluster</th>\n",
       "      <th>transform</th>\n",
       "      <th>mt</th>\n",
       "      <th>coverage_norm</th>\n",
       "      <th>cluster_prediction</th>\n",
       "    </tr>\n",
       "  </thead>\n",
       "  <tbody>\n",
       "    <tr>\n",
       "      <th>1</th>\n",
       "      <td>0.018432</td>\n",
       "      <td>-0.001595</td>\n",
       "      <td>7cf2b8b1-5b4f-4234-af33-39732ff36a8b</td>\n",
       "      <td>253</td>\n",
       "      <td>13396</td>\n",
       "      <td>22</td>\n",
       "      <td>7.982994</td>\n",
       "      <td>32</td>\n",
       "      <td>0.018886</td>\n",
       "      <td>1</td>\n",
       "    </tr>\n",
       "  </tbody>\n",
       "</table>\n",
       "</div>"
      ],
      "text/plain": [
       "      comp1     comp2                                   ids  coverage  \\\n",
       "1  0.018432 -0.001595  7cf2b8b1-5b4f-4234-af33-39732ff36a8b       253   \n",
       "\n",
       "   repr_read_len  id_cluster  transform  mt  coverage_norm  cluster_prediction  \n",
       "1          13396          22   7.982994  32       0.018886                   1  "
      ]
     },
     "execution_count": 28,
     "metadata": {},
     "output_type": "execute_result"
    }
   ],
   "source": [
    "selected_cluster_id = kmer_reduction.loc[:, kmer_reduction.columns != 'ids'].groupby(by='cluster_prediction')['coverage_norm'].median().idxmax()\n",
    "selected_cluster = kmer_reduction[kmer_reduction['cluster_prediction'] == selected_cluster_id]\n",
    "selected_cluster.sort_values('coverage_norm', inplace=True, ascending=False)\n",
    "selected_cluster.head()"
   ]
  },
  {
   "cell_type": "code",
   "execution_count": 29,
   "metadata": {},
   "outputs": [
    {
     "name": "stdout",
     "output_type": "stream",
     "text": [
      "\n",
      "\n",
      " ---> Mitnanex retrieved 253 reads <---\n",
      "\n",
      "\n"
     ]
    }
   ],
   "source": [
    "sequences_ids = set()\n",
    "for i in selected_cluster['id_cluster']:\n",
    "    sequences_ids.update(clusters_list.get_cluster(i).id_sequences)\n",
    "write_fasta(reads_file=reads_file, sequences_ids=sequences_ids, output=f\"{wd}{prefix}_putative_mt_reads.fasta\")"
   ]
  }
 ],
 "metadata": {
  "kernelspec": {
   "display_name": "mitnanex",
   "language": "python",
   "name": "python3"
  },
  "language_info": {
   "codemirror_mode": {
    "name": "ipython",
    "version": 3
   },
   "file_extension": ".py",
   "mimetype": "text/x-python",
   "name": "python",
   "nbconvert_exporter": "python",
   "pygments_lexer": "ipython3",
   "version": "3.10.13"
  },
  "orig_nbformat": 4
 },
 "nbformat": 4,
 "nbformat_minor": 2
}

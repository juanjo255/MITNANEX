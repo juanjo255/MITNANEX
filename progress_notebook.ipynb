{
 "cells": [
  {
   "cell_type": "code",
   "execution_count": 1,
   "metadata": {},
   "outputs": [],
   "source": [
    "from src.mitnanex import run\n",
    "import pandas as pd\n",
    "import matplotlib.pyplot as plt\n",
    "from sklearn.neighbors import KernelDensity"
   ]
  },
  {
   "cell_type": "code",
   "execution_count": 2,
   "metadata": {},
   "outputs": [],
   "source": [
    "\n",
    "clusters_list = run(\"test/sara_reads/jfdminion11_sara_reads_containments.paf\")\n",
    "\n",
    "# I need to plot the coverage of clusters\n",
    "coverages_df = pd.DataFrame(\n",
    "    {\n",
    "        \"coverage\": [i.coverage for i in clusters_list.clusters],\n",
    "        \"repr_read_len\": [i.longest_read_length for i in clusters_list.clusters],\n",
    "        \"id_longest_read\": [i.longest_read_id for i in clusters_list.clusters],\n",
    "        \"id_cluster\":[i.id_cluster for i in clusters_list.clusters],\n",
    "    }\n",
    ")"
   ]
  },
  {
   "cell_type": "code",
   "execution_count": 3,
   "metadata": {},
   "outputs": [
    {
     "data": {
      "text/html": [
       "<div>\n",
       "<style scoped>\n",
       "    .dataframe tbody tr th:only-of-type {\n",
       "        vertical-align: middle;\n",
       "    }\n",
       "\n",
       "    .dataframe tbody tr th {\n",
       "        vertical-align: top;\n",
       "    }\n",
       "\n",
       "    .dataframe thead th {\n",
       "        text-align: right;\n",
       "    }\n",
       "</style>\n",
       "<table border=\"1\" class=\"dataframe\">\n",
       "  <thead>\n",
       "    <tr style=\"text-align: right;\">\n",
       "      <th></th>\n",
       "      <th>coverage</th>\n",
       "      <th>repr_read_len</th>\n",
       "      <th>id_longest_read</th>\n",
       "      <th>id_cluster</th>\n",
       "    </tr>\n",
       "  </thead>\n",
       "  <tbody>\n",
       "    <tr>\n",
       "      <th>247</th>\n",
       "      <td>3</td>\n",
       "      <td>16033</td>\n",
       "      <td>0044ae37-3583-4e92-9ad5-d92e6649890b</td>\n",
       "      <td>248</td>\n",
       "    </tr>\n",
       "    <tr>\n",
       "      <th>552</th>\n",
       "      <td>2</td>\n",
       "      <td>3607</td>\n",
       "      <td>00c6ca6a-8931-48bd-8cbe-456748f8e7be</td>\n",
       "      <td>553</td>\n",
       "    </tr>\n",
       "    <tr>\n",
       "      <th>73</th>\n",
       "      <td>2</td>\n",
       "      <td>31734</td>\n",
       "      <td>01401b0f-9833-45b3-86e4-595e4201db27</td>\n",
       "      <td>74</td>\n",
       "    </tr>\n",
       "    <tr>\n",
       "      <th>12</th>\n",
       "      <td>3</td>\n",
       "      <td>48600</td>\n",
       "      <td>01aaf302-5fc8-4715-b416-75dfca747471</td>\n",
       "      <td>13</td>\n",
       "    </tr>\n",
       "    <tr>\n",
       "      <th>568</th>\n",
       "      <td>2</td>\n",
       "      <td>3096</td>\n",
       "      <td>02a399ba-4a5d-424c-8e60-21baf1c2cf0c</td>\n",
       "      <td>569</td>\n",
       "    </tr>\n",
       "  </tbody>\n",
       "</table>\n",
       "</div>"
      ],
      "text/plain": [
       "     coverage  repr_read_len                       id_longest_read  id_cluster\n",
       "247         3          16033  0044ae37-3583-4e92-9ad5-d92e6649890b         248\n",
       "552         2           3607  00c6ca6a-8931-48bd-8cbe-456748f8e7be         553\n",
       "73          2          31734  01401b0f-9833-45b3-86e4-595e4201db27          74\n",
       "12          3          48600  01aaf302-5fc8-4715-b416-75dfca747471          13\n",
       "568         2           3096  02a399ba-4a5d-424c-8e60-21baf1c2cf0c         569"
      ]
     },
     "execution_count": 3,
     "metadata": {},
     "output_type": "execute_result"
    }
   ],
   "source": [
    "# Test on the first 30 clusters\n",
    "import math\n",
    "clusters = coverages_df.sort_values(by='coverage', ascending=False)\n",
    "clusters.sort_values(by='id_longest_read',inplace=True)\n",
    "clusters.head()"
   ]
  },
  {
   "cell_type": "markdown",
   "metadata": {},
   "source": [
    "# Coverage\n",
    "\n",
    "The first step is to filter the reads by coverage. For that I will explore the use of Kernel Density since this is clusters_list one dimensional clustering."
   ]
  },
  {
   "cell_type": "code",
   "execution_count": 4,
   "metadata": {},
   "outputs": [
    {
     "data": {
      "text/html": [
       "<div>\n",
       "<style scoped>\n",
       "    .dataframe tbody tr th:only-of-type {\n",
       "        vertical-align: middle;\n",
       "    }\n",
       "\n",
       "    .dataframe tbody tr th {\n",
       "        vertical-align: top;\n",
       "    }\n",
       "\n",
       "    .dataframe thead th {\n",
       "        text-align: right;\n",
       "    }\n",
       "</style>\n",
       "<table border=\"1\" class=\"dataframe\">\n",
       "  <thead>\n",
       "    <tr style=\"text-align: right;\">\n",
       "      <th></th>\n",
       "      <th>coverage</th>\n",
       "      <th>repr_read_len</th>\n",
       "      <th>id_longest_read</th>\n",
       "      <th>id_cluster</th>\n",
       "      <th>transform</th>\n",
       "    </tr>\n",
       "  </thead>\n",
       "  <tbody>\n",
       "    <tr>\n",
       "      <th>271</th>\n",
       "      <td>15</td>\n",
       "      <td>14248</td>\n",
       "      <td>2e33a582-1b9e-4709-9621-c87475b74802</td>\n",
       "      <td>272</td>\n",
       "      <td>3.906891</td>\n",
       "    </tr>\n",
       "    <tr>\n",
       "      <th>185</th>\n",
       "      <td>11</td>\n",
       "      <td>20123</td>\n",
       "      <td>83df781d-8381-4b37-bd94-714907afdf74</td>\n",
       "      <td>186</td>\n",
       "      <td>3.459432</td>\n",
       "    </tr>\n",
       "    <tr>\n",
       "      <th>36</th>\n",
       "      <td>10</td>\n",
       "      <td>38888</td>\n",
       "      <td>e0ec1762-9626-4055-b597-eef6e08c7046</td>\n",
       "      <td>37</td>\n",
       "      <td>3.321928</td>\n",
       "    </tr>\n",
       "    <tr>\n",
       "      <th>172</th>\n",
       "      <td>9</td>\n",
       "      <td>20995</td>\n",
       "      <td>f060bc4f-a897-4060-94c8-48f7b26b84f3</td>\n",
       "      <td>173</td>\n",
       "      <td>3.169925</td>\n",
       "    </tr>\n",
       "    <tr>\n",
       "      <th>65</th>\n",
       "      <td>8</td>\n",
       "      <td>33033</td>\n",
       "      <td>43cc8234-d764-4a3f-b859-03a117ad1446</td>\n",
       "      <td>66</td>\n",
       "      <td>3.000000</td>\n",
       "    </tr>\n",
       "  </tbody>\n",
       "</table>\n",
       "</div>"
      ],
      "text/plain": [
       "     coverage  repr_read_len                       id_longest_read  \\\n",
       "271        15          14248  2e33a582-1b9e-4709-9621-c87475b74802   \n",
       "185        11          20123  83df781d-8381-4b37-bd94-714907afdf74   \n",
       "36         10          38888  e0ec1762-9626-4055-b597-eef6e08c7046   \n",
       "172         9          20995  f060bc4f-a897-4060-94c8-48f7b26b84f3   \n",
       "65          8          33033  43cc8234-d764-4a3f-b859-03a117ad1446   \n",
       "\n",
       "     id_cluster  transform  \n",
       "271         272   3.906891  \n",
       "185         186   3.459432  \n",
       "36           37   3.321928  \n",
       "172         173   3.169925  \n",
       "65           66   3.000000  "
      ]
     },
     "execution_count": 4,
     "metadata": {},
     "output_type": "execute_result"
    }
   ],
   "source": [
    "clusters['transform'] = [math.log2(i)for i in clusters['coverage']]\n",
    "clusters.sort_values('coverage',ascending=False, inplace=True)\n",
    "clusters.head()"
   ]
  },
  {
   "cell_type": "code",
   "execution_count": 5,
   "metadata": {},
   "outputs": [
    {
     "data": {
      "text/plain": [
       "<Axes: >"
      ]
     },
     "execution_count": 5,
     "metadata": {},
     "output_type": "execute_result"
    },
    {
     "data": {
      "image/png": "[encoded data removed]",
      "text/plain": [
       "<Figure size 640x480 with 1 Axes>"
      ]
     },
     "metadata": {},
     "output_type": "display_data"
    }
   ],
   "source": [
    "clusters['transform'].hist()"
   ]
  },
  {
   "cell_type": "code",
   "execution_count": 6,
   "metadata": {},
   "outputs": [
    {
     "data": {
      "text/plain": [
       "<matplotlib.collections.PathCollection at 0x14ee2be80>"
      ]
     },
     "execution_count": 6,
     "metadata": {},
     "output_type": "execute_result"
    },
    {
     "data": {
      "image/png": "[encoded data removed]",
      "text/plain": [
       "<Figure size 640x480 with 1 Axes>"
      ]
     },
     "metadata": {},
     "output_type": "display_data"
    }
   ],
   "source": [
    "plt.scatter(x=clusters['transform'], y=clusters['coverage'])"
   ]
  },
  {
   "cell_type": "code",
   "execution_count": 7,
   "metadata": {},
   "outputs": [
    {
     "data": {
      "text/plain": [
       "[<matplotlib.lines.Line2D at 0x14f16b430>]"
      ]
     },
     "execution_count": 7,
     "metadata": {},
     "output_type": "execute_result"
    },
    {
     "data": {
      "image/png": "[encoded data removed]",
      "text/plain": [
       "<Figure size 640x480 with 1 Axes>"
      ]
     },
     "metadata": {},
     "output_type": "display_data"
    }
   ],
   "source": [
    "kde = KernelDensity(kernel='gaussian', bandwidth=1).fit(clusters['coverage'].array.reshape(-1,1))\n",
    "cov_fdp = kde.score_samples(clusters['coverage'].array.reshape(-1,1))\n",
    "plt.plot(clusters['transform'], cov_fdp)"
   ]
  },
  {
   "cell_type": "code",
   "execution_count": 8,
   "metadata": {},
   "outputs": [
    {
     "name": "stdout",
     "output_type": "stream",
     "text": [
      "Covertura minima admitida:  5\n"
     ]
    }
   ],
   "source": [
    "from scipy.signal import argrelextrema\n",
    "import numpy as np\n",
    "local_min = argrelextrema(cov_fdp, np.less)[0]\n",
    "if len(local_min) < 1:\n",
    "    min_coverage = 5\n",
    "else:\n",
    "    min_coverage = clusters.iloc[max(local_min),:]['coverage']\n",
    "print(\"Covertura minima admitida: \", min_coverage)"
   ]
  },
  {
   "cell_type": "markdown",
   "metadata": {},
   "source": [
    "# Oligo composition\n",
    "\n",
    "Once I've detected the clusters with higher coverage, which I expect includes mitochondria and contamination, whether nuclear or external, I have to purify these groups. To do this I will use the oligo composition as it is used during metagenomics binning.\n",
    "\n",
    "I will create clusters_list script to get the kmers. The kmer size will be 3 to solve two things: 1. Intrinsec error from Nanopore, 2 smaller set as possible (4**3 possible kmers). \n",
    "\n",
    "Finally, I will reduce dimensionality using PCA"
   ]
  },
  {
   "cell_type": "code",
   "execution_count": 9,
   "metadata": {},
   "outputs": [],
   "source": [
    "from src.utils import get_sequences_by_id, convert_fq_to_fa, write_fasta\n",
    "from src.kmer_cnt import count_kmer"
   ]
  },
  {
   "cell_type": "code",
   "execution_count": 10,
   "metadata": {},
   "outputs": [
    {
     "name": "stdout",
     "output_type": "stream",
     "text": [
      "37543 sequences converted to fasta\n"
     ]
    },
    {
     "data": {
      "text/plain": [
       "'test/sara_reads/jfdminion11_sara_reads_sample.sorted.fasta'"
      ]
     },
     "execution_count": 10,
     "metadata": {},
     "output_type": "execute_result"
    }
   ],
   "source": [
    "convert_fq_to_fa('test/sara_reads/jfdminion11_sara_reads_sample.sorted.fastq','test/sara_reads/jfdminion11_sara_reads_sample.sorted.fasta')"
   ]
  },
  {
   "cell_type": "code",
   "execution_count": 11,
   "metadata": {},
   "outputs": [],
   "source": [
    "fasta = 'test/sara_reads/jfdminion11_sara_reads_sample.sorted.fasta'\n",
    "repr_reads = [i for i in clusters['id_longest_read']]\n",
    "hist = list()\n",
    "for i in get_sequences_by_id(fasta, repr_reads):\n",
    "    ids, seq = i\n",
    "    hist.append([*count_kmer(k=3,seq=seq).values(),ids])"
   ]
  },
  {
   "cell_type": "code",
   "execution_count": 12,
   "metadata": {},
   "outputs": [],
   "source": [
    "## Get the real mt sequences\n",
    "# with open('test/list_ids_reads_mt.txt','r') as handle_ids_mt:\n",
    "#     ids_mt = handle_ids_mt.read().splitlines()\n",
    "#     ids_mt = [i[1:] for i in ids_mt]"
   ]
  },
  {
   "cell_type": "code",
   "execution_count": 13,
   "metadata": {},
   "outputs": [
    {
     "data": {
      "text/html": [
       "<div>\n",
       "<style scoped>\n",
       "    .dataframe tbody tr th:only-of-type {\n",
       "        vertical-align: middle;\n",
       "    }\n",
       "\n",
       "    .dataframe tbody tr th {\n",
       "        vertical-align: top;\n",
       "    }\n",
       "\n",
       "    .dataframe thead th {\n",
       "        text-align: right;\n",
       "    }\n",
       "</style>\n",
       "<table border=\"1\" class=\"dataframe\">\n",
       "  <thead>\n",
       "    <tr style=\"text-align: right;\">\n",
       "      <th></th>\n",
       "      <th>0</th>\n",
       "      <th>1</th>\n",
       "      <th>2</th>\n",
       "      <th>3</th>\n",
       "      <th>4</th>\n",
       "      <th>5</th>\n",
       "      <th>6</th>\n",
       "      <th>7</th>\n",
       "      <th>8</th>\n",
       "      <th>9</th>\n",
       "      <th>...</th>\n",
       "      <th>23</th>\n",
       "      <th>24</th>\n",
       "      <th>25</th>\n",
       "      <th>26</th>\n",
       "      <th>27</th>\n",
       "      <th>28</th>\n",
       "      <th>29</th>\n",
       "      <th>30</th>\n",
       "      <th>31</th>\n",
       "      <th>ids</th>\n",
       "    </tr>\n",
       "  </thead>\n",
       "  <tbody>\n",
       "    <tr>\n",
       "      <th>0</th>\n",
       "      <td>0.080224</td>\n",
       "      <td>0.051482</td>\n",
       "      <td>0.033098</td>\n",
       "      <td>0.043644</td>\n",
       "      <td>0.043998</td>\n",
       "      <td>0.025824</td>\n",
       "      <td>0.038305</td>\n",
       "      <td>0.044252</td>\n",
       "      <td>0.032987</td>\n",
       "      <td>0.020462</td>\n",
       "      <td>...</td>\n",
       "      <td>0.003637</td>\n",
       "      <td>0.003206</td>\n",
       "      <td>0.003084</td>\n",
       "      <td>0.044971</td>\n",
       "      <td>0.018218</td>\n",
       "      <td>0.022994</td>\n",
       "      <td>0.029649</td>\n",
       "      <td>0.019346</td>\n",
       "      <td>0.029229</td>\n",
       "      <td>db22ba5b-dd2a-43ad-ae65-d68edd33f64b</td>\n",
       "    </tr>\n",
       "    <tr>\n",
       "      <th>1</th>\n",
       "      <td>0.072109</td>\n",
       "      <td>0.050516</td>\n",
       "      <td>0.030229</td>\n",
       "      <td>0.044044</td>\n",
       "      <td>0.040436</td>\n",
       "      <td>0.026667</td>\n",
       "      <td>0.038569</td>\n",
       "      <td>0.041283</td>\n",
       "      <td>0.033998</td>\n",
       "      <td>0.023070</td>\n",
       "      <td>...</td>\n",
       "      <td>0.004605</td>\n",
       "      <td>0.004914</td>\n",
       "      <td>0.003723</td>\n",
       "      <td>0.042601</td>\n",
       "      <td>0.020355</td>\n",
       "      <td>0.025361</td>\n",
       "      <td>0.027572</td>\n",
       "      <td>0.018786</td>\n",
       "      <td>0.030985</td>\n",
       "      <td>1c3c61e8-5cc3-4b40-b804-d990b8416a7d</td>\n",
       "    </tr>\n",
       "    <tr>\n",
       "      <th>2</th>\n",
       "      <td>0.080567</td>\n",
       "      <td>0.055460</td>\n",
       "      <td>0.031515</td>\n",
       "      <td>0.041483</td>\n",
       "      <td>0.049238</td>\n",
       "      <td>0.026794</td>\n",
       "      <td>0.039765</td>\n",
       "      <td>0.041870</td>\n",
       "      <td>0.032846</td>\n",
       "      <td>0.022274</td>\n",
       "      <td>...</td>\n",
       "      <td>0.003792</td>\n",
       "      <td>0.003235</td>\n",
       "      <td>0.003514</td>\n",
       "      <td>0.043526</td>\n",
       "      <td>0.018126</td>\n",
       "      <td>0.024162</td>\n",
       "      <td>0.025199</td>\n",
       "      <td>0.017429</td>\n",
       "      <td>0.032289</td>\n",
       "      <td>0a363409-b028-4657-8cba-3bdf700e163a</td>\n",
       "    </tr>\n",
       "    <tr>\n",
       "      <th>3</th>\n",
       "      <td>0.052605</td>\n",
       "      <td>0.032172</td>\n",
       "      <td>0.027578</td>\n",
       "      <td>0.040157</td>\n",
       "      <td>0.022112</td>\n",
       "      <td>0.024220</td>\n",
       "      <td>0.032304</td>\n",
       "      <td>0.037671</td>\n",
       "      <td>0.031118</td>\n",
       "      <td>0.026689</td>\n",
       "      <td>...</td>\n",
       "      <td>0.010817</td>\n",
       "      <td>0.006965</td>\n",
       "      <td>0.009533</td>\n",
       "      <td>0.038840</td>\n",
       "      <td>0.023660</td>\n",
       "      <td>0.017584</td>\n",
       "      <td>0.035942</td>\n",
       "      <td>0.032946</td>\n",
       "      <td>0.037754</td>\n",
       "      <td>65126892-2a30-4eb5-82a9-9aa62b30788c</td>\n",
       "    </tr>\n",
       "    <tr>\n",
       "      <th>4</th>\n",
       "      <td>0.080357</td>\n",
       "      <td>0.049409</td>\n",
       "      <td>0.032225</td>\n",
       "      <td>0.042807</td>\n",
       "      <td>0.039898</td>\n",
       "      <td>0.025861</td>\n",
       "      <td>0.040476</td>\n",
       "      <td>0.045989</td>\n",
       "      <td>0.032157</td>\n",
       "      <td>0.022322</td>\n",
       "      <td>...</td>\n",
       "      <td>0.005547</td>\n",
       "      <td>0.005444</td>\n",
       "      <td>0.005053</td>\n",
       "      <td>0.046601</td>\n",
       "      <td>0.020162</td>\n",
       "      <td>0.023360</td>\n",
       "      <td>0.028226</td>\n",
       "      <td>0.017269</td>\n",
       "      <td>0.032854</td>\n",
       "      <td>7c656dae-37b6-44a9-bda0-515390ac1cbb</td>\n",
       "    </tr>\n",
       "  </tbody>\n",
       "</table>\n",
       "<p>5 rows × 33 columns</p>\n",
       "</div>"
      ],
      "text/plain": [
       "          0         1         2         3         4         5         6  \\\n",
       "0  0.080224  0.051482  0.033098  0.043644  0.043998  0.025824  0.038305   \n",
       "1  0.072109  0.050516  0.030229  0.044044  0.040436  0.026667  0.038569   \n",
       "2  0.080567  0.055460  0.031515  0.041483  0.049238  0.026794  0.039765   \n",
       "3  0.052605  0.032172  0.027578  0.040157  0.022112  0.024220  0.032304   \n",
       "4  0.080357  0.049409  0.032225  0.042807  0.039898  0.025861  0.040476   \n",
       "\n",
       "          7         8         9  ...        23        24        25        26  \\\n",
       "0  0.044252  0.032987  0.020462  ...  0.003637  0.003206  0.003084  0.044971   \n",
       "1  0.041283  0.033998  0.023070  ...  0.004605  0.004914  0.003723  0.042601   \n",
       "2  0.041870  0.032846  0.022274  ...  0.003792  0.003235  0.003514  0.043526   \n",
       "3  0.037671  0.031118  0.026689  ...  0.010817  0.006965  0.009533  0.038840   \n",
       "4  0.045989  0.032157  0.022322  ...  0.005547  0.005444  0.005053  0.046601   \n",
       "\n",
       "         27        28        29        30        31  \\\n",
       "0  0.018218  0.022994  0.029649  0.019346  0.029229   \n",
       "1  0.020355  0.025361  0.027572  0.018786  0.030985   \n",
       "2  0.018126  0.024162  0.025199  0.017429  0.032289   \n",
       "3  0.023660  0.017584  0.035942  0.032946  0.037754   \n",
       "4  0.020162  0.023360  0.028226  0.017269  0.032854   \n",
       "\n",
       "                                    ids  \n",
       "0  db22ba5b-dd2a-43ad-ae65-d68edd33f64b  \n",
       "1  1c3c61e8-5cc3-4b40-b804-d990b8416a7d  \n",
       "2  0a363409-b028-4657-8cba-3bdf700e163a  \n",
       "3  65126892-2a30-4eb5-82a9-9aa62b30788c  \n",
       "4  7c656dae-37b6-44a9-bda0-515390ac1cbb  \n",
       "\n",
       "[5 rows x 33 columns]"
      ]
     },
     "execution_count": 13,
     "metadata": {},
     "output_type": "execute_result"
    }
   ],
   "source": [
    "hist_df= pd.DataFrame(hist)\n",
    "hist_df.rename(columns={hist_df.iloc[:,-1].name:'ids'}, inplace=True)\n",
    "hist_df.head()"
   ]
  },
  {
   "cell_type": "markdown",
   "metadata": {},
   "source": [
    "# Dimensionality reduction with PCA and clustering with k-means "
   ]
  },
  {
   "cell_type": "code",
   "execution_count": 14,
   "metadata": {},
   "outputs": [],
   "source": [
    "from sklearn.decomposition import PCA\n",
    "from sklearn.cluster import KMeans"
   ]
  },
  {
   "cell_type": "code",
   "execution_count": 15,
   "metadata": {},
   "outputs": [
    {
     "data": {
      "text/html": [
       "<style>#sk-container-id-1 {color: black;}#sk-container-id-1 pre{padding: 0;}#sk-container-id-1 div.sk-toggleable {background-color: white;}#sk-container-id-1 label.sk-toggleable__label {cursor: pointer;display: block;width: 100%;margin-bottom: 0;padding: 0.3em;box-sizing: border-box;text-align: center;}#sk-container-id-1 label.sk-toggleable__label-arrow:before {content: \"▸\";float: left;margin-right: 0.25em;color: #696969;}#sk-container-id-1 label.sk-toggleable__label-arrow:hover:before {color: black;}#sk-container-id-1 div.sk-estimator:hover label.sk-toggleable__label-arrow:before {color: black;}#sk-container-id-1 div.sk-toggleable__content {max-height: 0;max-width: 0;overflow: hidden;text-align: left;background-color: #f0f8ff;}#sk-container-id-1 div.sk-toggleable__content pre {margin: 0.2em;color: black;border-radius: 0.25em;background-color: #f0f8ff;}#sk-container-id-1 input.sk-toggleable__control:checked~div.sk-toggleable__content {max-height: 200px;max-width: 100%;overflow: auto;}#sk-container-id-1 input.sk-toggleable__control:checked~label.sk-toggleable__label-arrow:before {content: \"▾\";}#sk-container-id-1 div.sk-estimator input.sk-toggleable__control:checked~label.sk-toggleable__label {background-color: #d4ebff;}#sk-container-id-1 div.sk-label input.sk-toggleable__control:checked~label.sk-toggleable__label {background-color: #d4ebff;}#sk-container-id-1 input.sk-hidden--visually {border: 0;clip: rect(1px 1px 1px 1px);clip: rect(1px, 1px, 1px, 1px);height: 1px;margin: -1px;overflow: hidden;padding: 0;position: absolute;width: 1px;}#sk-container-id-1 div.sk-estimator {font-family: monospace;background-color: #f0f8ff;border: 1px dotted black;border-radius: 0.25em;box-sizing: border-box;margin-bottom: 0.5em;}#sk-container-id-1 div.sk-estimator:hover {background-color: #d4ebff;}#sk-container-id-1 div.sk-parallel-item::after {content: \"\";width: 100%;border-bottom: 1px solid gray;flex-grow: 1;}#sk-container-id-1 div.sk-label:hover label.sk-toggleable__label {background-color: #d4ebff;}#sk-container-id-1 div.sk-serial::before {content: \"\";position: absolute;border-left: 1px solid gray;box-sizing: border-box;top: 0;bottom: 0;left: 50%;z-index: 0;}#sk-container-id-1 div.sk-serial {display: flex;flex-direction: column;align-items: center;background-color: white;padding-right: 0.2em;padding-left: 0.2em;position: relative;}#sk-container-id-1 div.sk-item {position: relative;z-index: 1;}#sk-container-id-1 div.sk-parallel {display: flex;align-items: stretch;justify-content: center;background-color: white;position: relative;}#sk-container-id-1 div.sk-item::before, #sk-container-id-1 div.sk-parallel-item::before {content: \"\";position: absolute;border-left: 1px solid gray;box-sizing: border-box;top: 0;bottom: 0;left: 50%;z-index: -1;}#sk-container-id-1 div.sk-parallel-item {display: flex;flex-direction: column;z-index: 1;position: relative;background-color: white;}#sk-container-id-1 div.sk-parallel-item:first-child::after {align-self: flex-end;width: 50%;}#sk-container-id-1 div.sk-parallel-item:last-child::after {align-self: flex-start;width: 50%;}#sk-container-id-1 div.sk-parallel-item:only-child::after {width: 0;}#sk-container-id-1 div.sk-dashed-wrapped {border: 1px dashed gray;margin: 0 0.4em 0.5em 0.4em;box-sizing: border-box;padding-bottom: 0.4em;background-color: white;}#sk-container-id-1 div.sk-label label {font-family: monospace;font-weight: bold;display: inline-block;line-height: 1.2em;}#sk-container-id-1 div.sk-label-container {text-align: center;}#sk-container-id-1 div.sk-container {/* jupyter's `normalize.less` sets `[hidden] { display: none; }` but bootstrap.min.css set `[hidden] { display: none !important; }` so we also need the `!important` here to be able to override the default hidden behavior on the sphinx rendered scikit-learn.org. See: https://github.com/scikit-learn/scikit-learn/issues/21755 */display: inline-block !important;position: relative;}#sk-container-id-1 div.sk-text-repr-fallback {display: none;}</style><div id=\"sk-container-id-1\" class=\"sk-top-container\"><div class=\"sk-text-repr-fallback\"><pre>PCA(n_components=2)</pre><b>In a Jupyter environment, please rerun this cell to show the HTML representation or trust the notebook. <br />On GitHub, the HTML representation is unable to render, please try loading this page with nbviewer.org.</b></div><div class=\"sk-container\" hidden><div class=\"sk-item\"><div class=\"sk-estimator sk-toggleable\"><input class=\"sk-toggleable__control sk-hidden--visually\" id=\"sk-estimator-id-1\" type=\"checkbox\" checked><label for=\"sk-estimator-id-1\" class=\"sk-toggleable__label sk-toggleable__label-arrow\">PCA</label><div class=\"sk-toggleable__content\"><pre>PCA(n_components=2)</pre></div></div></div></div></div>"
      ],
      "text/plain": [
       "PCA(n_components=2)"
      ]
     },
     "execution_count": 15,
     "metadata": {},
     "output_type": "execute_result"
    }
   ],
   "source": [
    "pca = PCA(n_components=2)\n",
    "pca.fit(hist_df.iloc[:,:-2])"
   ]
  },
  {
   "cell_type": "code",
   "execution_count": 16,
   "metadata": {},
   "outputs": [
    {
     "data": {
      "text/plain": [
       "array([0.00316681, 0.0017414 ])"
      ]
     },
     "execution_count": 16,
     "metadata": {},
     "output_type": "execute_result"
    }
   ],
   "source": [
    "## Components and variance explained \n",
    "pca.explained_variance_\n",
    "#pca.components_"
   ]
  },
  {
   "cell_type": "code",
   "execution_count": 17,
   "metadata": {},
   "outputs": [
    {
     "data": {
      "text/html": [
       "<div>\n",
       "<style scoped>\n",
       "    .dataframe tbody tr th:only-of-type {\n",
       "        vertical-align: middle;\n",
       "    }\n",
       "\n",
       "    .dataframe tbody tr th {\n",
       "        vertical-align: top;\n",
       "    }\n",
       "\n",
       "    .dataframe thead th {\n",
       "        text-align: right;\n",
       "    }\n",
       "</style>\n",
       "<table border=\"1\" class=\"dataframe\">\n",
       "  <thead>\n",
       "    <tr style=\"text-align: right;\">\n",
       "      <th></th>\n",
       "      <th>comp1</th>\n",
       "      <th>comp2</th>\n",
       "      <th>ids</th>\n",
       "      <th>coverage</th>\n",
       "      <th>repr_read_len</th>\n",
       "      <th>id_cluster</th>\n",
       "      <th>transform</th>\n",
       "    </tr>\n",
       "  </thead>\n",
       "  <tbody>\n",
       "    <tr>\n",
       "      <th>36</th>\n",
       "      <td>0.007664</td>\n",
       "      <td>0.025684</td>\n",
       "      <td>e0ec1762-9626-4055-b597-eef6e08c7046</td>\n",
       "      <td>10</td>\n",
       "      <td>38888</td>\n",
       "      <td>37</td>\n",
       "      <td>3.321928</td>\n",
       "    </tr>\n",
       "    <tr>\n",
       "      <th>65</th>\n",
       "      <td>-0.004616</td>\n",
       "      <td>-0.007977</td>\n",
       "      <td>43cc8234-d764-4a3f-b859-03a117ad1446</td>\n",
       "      <td>8</td>\n",
       "      <td>33033</td>\n",
       "      <td>66</td>\n",
       "      <td>3.000000</td>\n",
       "    </tr>\n",
       "    <tr>\n",
       "      <th>95</th>\n",
       "      <td>-0.002259</td>\n",
       "      <td>-0.001622</td>\n",
       "      <td>eada32de-2fda-41a4-8901-d492977ba0d9</td>\n",
       "      <td>6</td>\n",
       "      <td>29188</td>\n",
       "      <td>96</td>\n",
       "      <td>2.584963</td>\n",
       "    </tr>\n",
       "    <tr>\n",
       "      <th>115</th>\n",
       "      <td>-0.003415</td>\n",
       "      <td>-0.010308</td>\n",
       "      <td>3e90cd01-93de-40c6-b84f-dde33837fff3</td>\n",
       "      <td>8</td>\n",
       "      <td>26375</td>\n",
       "      <td>116</td>\n",
       "      <td>3.000000</td>\n",
       "    </tr>\n",
       "    <tr>\n",
       "      <th>140</th>\n",
       "      <td>0.000003</td>\n",
       "      <td>0.005959</td>\n",
       "      <td>248b74ad-bce5-4332-956f-085a3d830314</td>\n",
       "      <td>7</td>\n",
       "      <td>23770</td>\n",
       "      <td>141</td>\n",
       "      <td>2.807355</td>\n",
       "    </tr>\n",
       "    <tr>\n",
       "      <th>172</th>\n",
       "      <td>0.049024</td>\n",
       "      <td>0.086188</td>\n",
       "      <td>f060bc4f-a897-4060-94c8-48f7b26b84f3</td>\n",
       "      <td>9</td>\n",
       "      <td>20995</td>\n",
       "      <td>173</td>\n",
       "      <td>3.169925</td>\n",
       "    </tr>\n",
       "    <tr>\n",
       "      <th>185</th>\n",
       "      <td>0.016134</td>\n",
       "      <td>0.069767</td>\n",
       "      <td>83df781d-8381-4b37-bd94-714907afdf74</td>\n",
       "      <td>11</td>\n",
       "      <td>20123</td>\n",
       "      <td>186</td>\n",
       "      <td>3.459432</td>\n",
       "    </tr>\n",
       "    <tr>\n",
       "      <th>236</th>\n",
       "      <td>-0.005503</td>\n",
       "      <td>0.001419</td>\n",
       "      <td>8f816083-5064-49f4-89b4-242db2e0c058</td>\n",
       "      <td>6</td>\n",
       "      <td>16313</td>\n",
       "      <td>237</td>\n",
       "      <td>2.584963</td>\n",
       "    </tr>\n",
       "    <tr>\n",
       "      <th>271</th>\n",
       "      <td>0.001526</td>\n",
       "      <td>0.000604</td>\n",
       "      <td>2e33a582-1b9e-4709-9621-c87475b74802</td>\n",
       "      <td>15</td>\n",
       "      <td>14248</td>\n",
       "      <td>272</td>\n",
       "      <td>3.906891</td>\n",
       "    </tr>\n",
       "    <tr>\n",
       "      <th>321</th>\n",
       "      <td>-0.004428</td>\n",
       "      <td>0.003659</td>\n",
       "      <td>c54d6ce9-5bf6-4232-af6b-70ec0c1c02ac</td>\n",
       "      <td>6</td>\n",
       "      <td>11660</td>\n",
       "      <td>322</td>\n",
       "      <td>2.584963</td>\n",
       "    </tr>\n",
       "  </tbody>\n",
       "</table>\n",
       "</div>"
      ],
      "text/plain": [
       "        comp1     comp2                                   ids  coverage  \\\n",
       "36   0.007664  0.025684  e0ec1762-9626-4055-b597-eef6e08c7046        10   \n",
       "65  -0.004616 -0.007977  43cc8234-d764-4a3f-b859-03a117ad1446         8   \n",
       "95  -0.002259 -0.001622  eada32de-2fda-41a4-8901-d492977ba0d9         6   \n",
       "115 -0.003415 -0.010308  3e90cd01-93de-40c6-b84f-dde33837fff3         8   \n",
       "140  0.000003  0.005959  248b74ad-bce5-4332-956f-085a3d830314         7   \n",
       "172  0.049024  0.086188  f060bc4f-a897-4060-94c8-48f7b26b84f3         9   \n",
       "185  0.016134  0.069767  83df781d-8381-4b37-bd94-714907afdf74        11   \n",
       "236 -0.005503  0.001419  8f816083-5064-49f4-89b4-242db2e0c058         6   \n",
       "271  0.001526  0.000604  2e33a582-1b9e-4709-9621-c87475b74802        15   \n",
       "321 -0.004428  0.003659  c54d6ce9-5bf6-4232-af6b-70ec0c1c02ac         6   \n",
       "\n",
       "     repr_read_len  id_cluster  transform  \n",
       "36           38888          37   3.321928  \n",
       "65           33033          66   3.000000  \n",
       "95           29188          96   2.584963  \n",
       "115          26375         116   3.000000  \n",
       "140          23770         141   2.807355  \n",
       "172          20995         173   3.169925  \n",
       "185          20123         186   3.459432  \n",
       "236          16313         237   2.584963  \n",
       "271          14248         272   3.906891  \n",
       "321          11660         322   2.584963  "
      ]
     },
     "execution_count": 17,
     "metadata": {},
     "output_type": "execute_result"
    }
   ],
   "source": [
    "kmer_reduction = pca.fit_transform(hist_df.iloc[:,:-2])\n",
    "kmer_reduction = pd.DataFrame(kmer_reduction, columns=['comp1', 'comp2'])\n",
    "\n",
    "## merging the dataframe with ids and other relevant information\n",
    "kmer_reduction ['ids'] = hist_df['ids']\n",
    "kmer_reduction = kmer_reduction.merge(clusters, how='left', left_on='ids', right_on='id_longest_read')\n",
    "kmer_reduction.drop(columns='id_longest_read', inplace=True)\n",
    "\n",
    "## Annotate which reads are mitochondrial\n",
    "#kmer_reduction['mt'] = (kmer_reduction['ids'].isin(ids_mt).astype(int) + 1) ** 5\n",
    "kmer_reduction = kmer_reduction[kmer_reduction['coverage'] > min_coverage]\n",
    "kmer_reduction"
   ]
  },
  {
   "cell_type": "code",
   "execution_count": 18,
   "metadata": {},
   "outputs": [
    {
     "name": "stderr",
     "output_type": "stream",
     "text": [
      "No artists with labels found to put in legend.  Note that artists whose label start with an underscore are ignored when legend() is called with no argument.\n"
     ]
    },
    {
     "data": {
      "text/plain": [
       "Text(0, 0.5, 'comp2')"
      ]
     },
     "execution_count": 18,
     "metadata": {},
     "output_type": "execute_result"
    },
    {
     "data": {
      "image/png": "[encoded data removed]",
      "text/plain": [
       "<Figure size 640x480 with 2 Axes>"
      ]
     },
     "metadata": {},
     "output_type": "display_data"
    }
   ],
   "source": [
    "sc = plt.scatter(kmer_reduction['comp1'],kmer_reduction['comp2'], c=kmer_reduction['coverage'], s=32)#kmer_reduction['mt'])\n",
    "# legend\n",
    "# Add clusters_list colorbar\n",
    "cbar = plt.colorbar(sc)\n",
    "cbar.set_label('Color Scale')\n",
    "plt.legend()\n",
    "plt.xlabel('comp1')\n",
    "plt.ylabel('comp2')"
   ]
  },
  {
   "cell_type": "code",
   "execution_count": 19,
   "metadata": {},
   "outputs": [
    {
     "name": "stdout",
     "output_type": "stream",
     "text": [
      "Initialization complete\n",
      "Iteration 0, inertia 0.002460472034401894.\n",
      "Iteration 1, inertia 0.0016550714571131535.\n",
      "Converged at iteration 1: strict convergence.\n"
     ]
    }
   ],
   "source": [
    "kmeans = KMeans(n_clusters=2, max_iter=100, init='k-means++', random_state=0, n_init=1,verbose=1)\n",
    "mt_prediction = kmeans.fit_predict(kmer_reduction[['comp1','comp2']])#, sample_weight=kmer_reduction['coverage'])\n",
    "kmer_reduction['cluster_prediction'] = mt_prediction"
   ]
  },
  {
   "cell_type": "code",
   "execution_count": 20,
   "metadata": {},
   "outputs": [
    {
     "data": {
      "text/plain": [
       "Text(0, 0.5, 'comp2')"
      ]
     },
     "execution_count": 20,
     "metadata": {},
     "output_type": "execute_result"
    },
    {
     "data": {
      "image/png": "[encoded data removed]",
      "text/plain": [
       "<Figure size 640x480 with 1 Axes>"
      ]
     },
     "metadata": {},
     "output_type": "display_data"
    }
   ],
   "source": [
    "plt.scatter(x=kmer_reduction['comp1'], y=kmer_reduction['comp2'], c=mt_prediction, s=32)#kmer_reduction['mt'])\n",
    "plt.xlabel('comp1')\n",
    "plt.ylabel('comp2')"
   ]
  },
  {
   "cell_type": "markdown",
   "metadata": {},
   "source": [
    "# Get the cluster of interest\n",
    "\n",
    "This step is clusters_list pain in the ass, but since I am looking to keep the free-reference. "
   ]
  },
  {
   "cell_type": "code",
   "execution_count": 21,
   "metadata": {},
   "outputs": [
    {
     "data": {
      "text/html": [
       "<div>\n",
       "<style scoped>\n",
       "    .dataframe tbody tr th:only-of-type {\n",
       "        vertical-align: middle;\n",
       "    }\n",
       "\n",
       "    .dataframe tbody tr th {\n",
       "        vertical-align: top;\n",
       "    }\n",
       "\n",
       "    .dataframe thead th {\n",
       "        text-align: right;\n",
       "    }\n",
       "</style>\n",
       "<table border=\"1\" class=\"dataframe\">\n",
       "  <thead>\n",
       "    <tr style=\"text-align: right;\">\n",
       "      <th></th>\n",
       "      <th>comp1</th>\n",
       "      <th>comp2</th>\n",
       "      <th>ids</th>\n",
       "      <th>coverage</th>\n",
       "      <th>repr_read_len</th>\n",
       "      <th>id_cluster</th>\n",
       "      <th>transform</th>\n",
       "      <th>cluster_prediction</th>\n",
       "    </tr>\n",
       "  </thead>\n",
       "  <tbody>\n",
       "    <tr>\n",
       "      <th>172</th>\n",
       "      <td>0.049024</td>\n",
       "      <td>0.086188</td>\n",
       "      <td>f060bc4f-a897-4060-94c8-48f7b26b84f3</td>\n",
       "      <td>9</td>\n",
       "      <td>20995</td>\n",
       "      <td>173</td>\n",
       "      <td>3.169925</td>\n",
       "      <td>0</td>\n",
       "    </tr>\n",
       "    <tr>\n",
       "      <th>185</th>\n",
       "      <td>0.016134</td>\n",
       "      <td>0.069767</td>\n",
       "      <td>83df781d-8381-4b37-bd94-714907afdf74</td>\n",
       "      <td>11</td>\n",
       "      <td>20123</td>\n",
       "      <td>186</td>\n",
       "      <td>3.459432</td>\n",
       "      <td>0</td>\n",
       "    </tr>\n",
       "  </tbody>\n",
       "</table>\n",
       "</div>"
      ],
      "text/plain": [
       "        comp1     comp2                                   ids  coverage  \\\n",
       "172  0.049024  0.086188  f060bc4f-a897-4060-94c8-48f7b26b84f3         9   \n",
       "185  0.016134  0.069767  83df781d-8381-4b37-bd94-714907afdf74        11   \n",
       "\n",
       "     repr_read_len  id_cluster  transform  cluster_prediction  \n",
       "172          20995         173   3.169925                   0  \n",
       "185          20123         186   3.459432                   0  "
      ]
     },
     "execution_count": 21,
     "metadata": {},
     "output_type": "execute_result"
    }
   ],
   "source": [
    "selected_cluster_id = kmer_reduction.loc[:, kmer_reduction.columns != 'ids'].groupby(by='cluster_prediction')['coverage'].median().idxmax()\n",
    "selected_cluster = kmer_reduction[kmer_reduction['cluster_prediction'] == selected_cluster_id]\n",
    "selected_cluster.sort_values('coverage')"
   ]
  },
  {
   "cell_type": "code",
   "execution_count": 22,
   "metadata": {},
   "outputs": [
    {
     "name": "stdout",
     "output_type": "stream",
     "text": [
      "20 reads retrieved\n"
     ]
    }
   ],
   "source": [
    "sequences_ids = set()\n",
    "for i in selected_cluster['id_cluster']:\n",
    "    sequences_ids.update(clusters_list.get_cluster(i).id_sequences)\n",
    "write_fasta(fasta=fasta, sequences_ids=sequences_ids, output='test/sara_reads/mt_reads_v1.fasta')"
   ]
  }
 ],
 "metadata": {
  "kernelspec": {
   "display_name": "mitnanex",
   "language": "python",
   "name": "python3"
  },
  "language_info": {
   "codemirror_mode": {
    "name": "ipython",
    "version": 3
   },
   "file_extension": ".py",
   "mimetype": "text/x-python",
   "name": "python",
   "nbconvert_exporter": "python",
   "pygments_lexer": "ipython3",
   "version": "3.10.12"
  },
  "orig_nbformat": 4
 },
 "nbformat": 4,
 "nbformat_minor": 2
}

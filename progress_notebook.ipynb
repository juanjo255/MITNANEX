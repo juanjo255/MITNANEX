{
 "cells": [
  {
   "cell_type": "code",
   "execution_count": 28,
   "metadata": {},
   "outputs": [],
   "source": [
    "from src.mitnanex import run\n",
    "import pandas as pd\n",
    "import matplotlib.pyplot as plt\n",
    "from sklearn.neighbors import KernelDensity"
   ]
  },
  {
   "cell_type": "code",
   "execution_count": 29,
   "metadata": {},
   "outputs": [],
   "source": [
    "\n",
    "clusters_list = run(\"test/a_gifuensis/a_gifuensis_all_containments.paf\")\n",
    "\n",
    "# I need to plot the coverage of clusters\n",
    "coverages_df = pd.DataFrame(\n",
    "    {\n",
    "        \"coverage\": [i.coverage for i in clusters_list.clusters],\n",
    "        \"repr_read_len\": [i.longest_read_length for i in clusters_list.clusters],\n",
    "        \"id_longest_read\": [i.longest_read_id for i in clusters_list.clusters],\n",
    "        \"id_cluster\":[i.id_cluster for i in clusters_list.clusters],\n",
    "    }\n",
    ")"
   ]
  },
  {
   "cell_type": "code",
   "execution_count": 30,
   "metadata": {},
   "outputs": [
    {
     "data": {
      "text/html": [
       "<div>\n",
       "<style scoped>\n",
       "    .dataframe tbody tr th:only-of-type {\n",
       "        vertical-align: middle;\n",
       "    }\n",
       "\n",
       "    .dataframe tbody tr th {\n",
       "        vertical-align: top;\n",
       "    }\n",
       "\n",
       "    .dataframe thead th {\n",
       "        text-align: right;\n",
       "    }\n",
       "</style>\n",
       "<table border=\"1\" class=\"dataframe\">\n",
       "  <thead>\n",
       "    <tr style=\"text-align: right;\">\n",
       "      <th></th>\n",
       "      <th>coverage</th>\n",
       "      <th>repr_read_len</th>\n",
       "      <th>id_longest_read</th>\n",
       "      <th>id_cluster</th>\n",
       "    </tr>\n",
       "  </thead>\n",
       "  <tbody>\n",
       "    <tr>\n",
       "      <th>30</th>\n",
       "      <td>2</td>\n",
       "      <td>32410</td>\n",
       "      <td>SRR11577123.1173</td>\n",
       "      <td>31</td>\n",
       "    </tr>\n",
       "    <tr>\n",
       "      <th>51</th>\n",
       "      <td>2</td>\n",
       "      <td>22384</td>\n",
       "      <td>SRR11577123.1234</td>\n",
       "      <td>52</td>\n",
       "    </tr>\n",
       "    <tr>\n",
       "      <th>11</th>\n",
       "      <td>2</td>\n",
       "      <td>44571</td>\n",
       "      <td>SRR11577123.129</td>\n",
       "      <td>12</td>\n",
       "    </tr>\n",
       "    <tr>\n",
       "      <th>50</th>\n",
       "      <td>2</td>\n",
       "      <td>22408</td>\n",
       "      <td>SRR11577123.1908</td>\n",
       "      <td>51</td>\n",
       "    </tr>\n",
       "    <tr>\n",
       "      <th>55</th>\n",
       "      <td>4</td>\n",
       "      <td>21537</td>\n",
       "      <td>SRR11577123.263</td>\n",
       "      <td>56</td>\n",
       "    </tr>\n",
       "  </tbody>\n",
       "</table>\n",
       "</div>"
      ],
      "text/plain": [
       "    coverage  repr_read_len   id_longest_read  id_cluster\n",
       "30         2          32410  SRR11577123.1173          31\n",
       "51         2          22384  SRR11577123.1234          52\n",
       "11         2          44571   SRR11577123.129          12\n",
       "50         2          22408  SRR11577123.1908          51\n",
       "55         4          21537   SRR11577123.263          56"
      ]
     },
     "execution_count": 30,
     "metadata": {},
     "output_type": "execute_result"
    }
   ],
   "source": [
    "# Test on the first 30 clusters\n",
    "import math\n",
    "clusters = coverages_df.sort_values(by='coverage', ascending=False)\n",
    "clusters.sort_values(by='id_longest_read',inplace=True)\n",
    "clusters.head()"
   ]
  },
  {
   "cell_type": "markdown",
   "metadata": {},
   "source": [
    "# Coverage\n",
    "\n",
    "The first step is to filter the reads by coverage. For that I will explore the use of Kernel Density since this is clusters_list one dimensional clustering."
   ]
  },
  {
   "cell_type": "code",
   "execution_count": 31,
   "metadata": {},
   "outputs": [
    {
     "data": {
      "text/html": [
       "<div>\n",
       "<style scoped>\n",
       "    .dataframe tbody tr th:only-of-type {\n",
       "        vertical-align: middle;\n",
       "    }\n",
       "\n",
       "    .dataframe tbody tr th {\n",
       "        vertical-align: top;\n",
       "    }\n",
       "\n",
       "    .dataframe thead th {\n",
       "        text-align: right;\n",
       "    }\n",
       "</style>\n",
       "<table border=\"1\" class=\"dataframe\">\n",
       "  <thead>\n",
       "    <tr style=\"text-align: right;\">\n",
       "      <th></th>\n",
       "      <th>coverage</th>\n",
       "      <th>repr_read_len</th>\n",
       "      <th>id_longest_read</th>\n",
       "      <th>id_cluster</th>\n",
       "      <th>transform</th>\n",
       "    </tr>\n",
       "  </thead>\n",
       "  <tbody>\n",
       "    <tr>\n",
       "      <th>21</th>\n",
       "      <td>16</td>\n",
       "      <td>40912</td>\n",
       "      <td>SRR11577126.1428</td>\n",
       "      <td>22</td>\n",
       "      <td>4.000000</td>\n",
       "    </tr>\n",
       "    <tr>\n",
       "      <th>7</th>\n",
       "      <td>12</td>\n",
       "      <td>50777</td>\n",
       "      <td>SRR11577127.3038</td>\n",
       "      <td>8</td>\n",
       "      <td>3.584963</td>\n",
       "    </tr>\n",
       "    <tr>\n",
       "      <th>23</th>\n",
       "      <td>7</td>\n",
       "      <td>39518</td>\n",
       "      <td>SRR11577126.1742</td>\n",
       "      <td>24</td>\n",
       "      <td>2.807355</td>\n",
       "    </tr>\n",
       "    <tr>\n",
       "      <th>5</th>\n",
       "      <td>5</td>\n",
       "      <td>54425</td>\n",
       "      <td>SRR11577126.5643</td>\n",
       "      <td>6</td>\n",
       "      <td>2.321928</td>\n",
       "    </tr>\n",
       "    <tr>\n",
       "      <th>55</th>\n",
       "      <td>4</td>\n",
       "      <td>21537</td>\n",
       "      <td>SRR11577123.263</td>\n",
       "      <td>56</td>\n",
       "      <td>2.000000</td>\n",
       "    </tr>\n",
       "    <tr>\n",
       "      <th>...</th>\n",
       "      <td>...</td>\n",
       "      <td>...</td>\n",
       "      <td>...</td>\n",
       "      <td>...</td>\n",
       "      <td>...</td>\n",
       "    </tr>\n",
       "    <tr>\n",
       "      <th>76</th>\n",
       "      <td>2</td>\n",
       "      <td>16030</td>\n",
       "      <td>SRR11577124.7269</td>\n",
       "      <td>77</td>\n",
       "      <td>1.000000</td>\n",
       "    </tr>\n",
       "    <tr>\n",
       "      <th>2</th>\n",
       "      <td>2</td>\n",
       "      <td>57365</td>\n",
       "      <td>SRR11577124.6861</td>\n",
       "      <td>3</td>\n",
       "      <td>1.000000</td>\n",
       "    </tr>\n",
       "    <tr>\n",
       "      <th>91</th>\n",
       "      <td>2</td>\n",
       "      <td>9542</td>\n",
       "      <td>SRR11577124.6457</td>\n",
       "      <td>92</td>\n",
       "      <td>1.000000</td>\n",
       "    </tr>\n",
       "    <tr>\n",
       "      <th>67</th>\n",
       "      <td>2</td>\n",
       "      <td>18448</td>\n",
       "      <td>SRR11577124.6208</td>\n",
       "      <td>68</td>\n",
       "      <td>1.000000</td>\n",
       "    </tr>\n",
       "    <tr>\n",
       "      <th>56</th>\n",
       "      <td>2</td>\n",
       "      <td>21081</td>\n",
       "      <td>SRR11577129.7630</td>\n",
       "      <td>57</td>\n",
       "      <td>1.000000</td>\n",
       "    </tr>\n",
       "  </tbody>\n",
       "</table>\n",
       "<p>96 rows × 5 columns</p>\n",
       "</div>"
      ],
      "text/plain": [
       "    coverage  repr_read_len   id_longest_read  id_cluster  transform\n",
       "21        16          40912  SRR11577126.1428          22   4.000000\n",
       "7         12          50777  SRR11577127.3038           8   3.584963\n",
       "23         7          39518  SRR11577126.1742          24   2.807355\n",
       "5          5          54425  SRR11577126.5643           6   2.321928\n",
       "55         4          21537   SRR11577123.263          56   2.000000\n",
       "..       ...            ...               ...         ...        ...\n",
       "76         2          16030  SRR11577124.7269          77   1.000000\n",
       "2          2          57365  SRR11577124.6861           3   1.000000\n",
       "91         2           9542  SRR11577124.6457          92   1.000000\n",
       "67         2          18448  SRR11577124.6208          68   1.000000\n",
       "56         2          21081  SRR11577129.7630          57   1.000000\n",
       "\n",
       "[96 rows x 5 columns]"
      ]
     },
     "execution_count": 31,
     "metadata": {},
     "output_type": "execute_result"
    }
   ],
   "source": [
    "clusters['transform'] = [math.log2(i)for i in clusters['coverage']]\n",
    "clusters.sort_values('coverage',ascending=False, inplace=True)\n",
    "clusters"
   ]
  },
  {
   "cell_type": "code",
   "execution_count": 32,
   "metadata": {},
   "outputs": [
    {
     "data": {
      "text/plain": [
       "<Axes: >"
      ]
     },
     "execution_count": 32,
     "metadata": {},
     "output_type": "execute_result"
    },
    {
     "data": {
      "image/png": "[encoded data removed]",
      "text/plain": [
       "<Figure size 640x480 with 1 Axes>"
      ]
     },
     "metadata": {},
     "output_type": "display_data"
    }
   ],
   "source": [
    "clusters['transform'].hist()"
   ]
  },
  {
   "cell_type": "code",
   "execution_count": 33,
   "metadata": {},
   "outputs": [
    {
     "data": {
      "text/plain": [
       "<matplotlib.collections.PathCollection at 0x18707ec50>"
      ]
     },
     "execution_count": 33,
     "metadata": {},
     "output_type": "execute_result"
    },
    {
     "data": {
      "image/png": "[encoded data removed]",
      "text/plain": [
       "<Figure size 640x480 with 1 Axes>"
      ]
     },
     "metadata": {},
     "output_type": "display_data"
    }
   ],
   "source": [
    "plt.scatter(x=clusters['transform'], y=clusters['coverage'])"
   ]
  },
  {
   "cell_type": "code",
   "execution_count": 34,
   "metadata": {},
   "outputs": [
    {
     "data": {
      "text/plain": [
       "[<matplotlib.lines.Line2D at 0x187102ad0>]"
      ]
     },
     "execution_count": 34,
     "metadata": {},
     "output_type": "execute_result"
    },
    {
     "data": {
      "image/png": "[encoded data removed]",
      "text/plain": [
       "<Figure size 640x480 with 1 Axes>"
      ]
     },
     "metadata": {},
     "output_type": "display_data"
    }
   ],
   "source": [
    "kde = KernelDensity(kernel='gaussian', bandwidth=1).fit(clusters['coverage'].array.reshape(-1,1))\n",
    "cov_fdp = kde.score_samples(clusters['coverage'].array.reshape(-1,1))\n",
    "plt.plot(clusters['transform'], cov_fdp)"
   ]
  },
  {
   "cell_type": "code",
   "execution_count": 35,
   "metadata": {},
   "outputs": [
    {
     "name": "stdout",
     "output_type": "stream",
     "text": [
      "Covertura minima admitida:  2\n"
     ]
    }
   ],
   "source": [
    "from scipy.signal import argrelextrema\n",
    "import numpy as np\n",
    "local_min = argrelextrema(cov_fdp, np.less)[0]\n",
    "if len(local_min) < 1:\n",
    "    min_coverage = 2\n",
    "else:\n",
    "    min_coverage = clusters.iloc[max(local_min),:]['coverage']\n",
    "print(\"Covertura minima admitida: \", min_coverage)\n",
    "#min_coverage=5"
   ]
  },
  {
   "cell_type": "markdown",
   "metadata": {},
   "source": [
    "# Oligo composition\n",
    "\n",
    "Once I've detected the clusters with higher coverage, which I expect includes mitochondria and contamination, whether nuclear or external, I have to purify these groups. To do this I will use the oligo composition as it is used during metagenomics binning.\n",
    "\n",
    "I will create clusters_list script to get the kmers. The kmer size will be 3 to solve two things: 1. Intrinsec error from Nanopore, 2 smaller set as possible (4**3 possible kmers). \n",
    "\n",
    "Finally, I will reduce dimensionality using PCA"
   ]
  },
  {
   "cell_type": "code",
   "execution_count": 36,
   "metadata": {},
   "outputs": [],
   "source": [
    "from src.utils import write_fasta\n",
    "from src.kmer_cnt import get_kmer_profiles\n",
    "import utils"
   ]
  },
  {
   "cell_type": "code",
   "execution_count": 37,
   "metadata": {},
   "outputs": [],
   "source": [
    "reads_file = 'test/a_gifuensis/a_gifuensis_all_sample.sorted.fastq'\n",
    "repr_reads = [i for i in clusters['id_longest_read']]\n",
    "# kmer_profiles_df = get_kmer_profiles (repr_reads, reads_file, 3)\n",
    "# kmer_profiles_df.head()"
   ]
  },
  {
   "cell_type": "code",
   "execution_count": 38,
   "metadata": {},
   "outputs": [
    {
     "data": {
      "text/html": [
       "<div>\n",
       "<style scoped>\n",
       "    .dataframe tbody tr th:only-of-type {\n",
       "        vertical-align: middle;\n",
       "    }\n",
       "\n",
       "    .dataframe tbody tr th {\n",
       "        vertical-align: top;\n",
       "    }\n",
       "\n",
       "    .dataframe thead th {\n",
       "        text-align: right;\n",
       "    }\n",
       "</style>\n",
       "<table border=\"1\" class=\"dataframe\">\n",
       "  <thead>\n",
       "    <tr style=\"text-align: right;\">\n",
       "      <th></th>\n",
       "      <th>0</th>\n",
       "      <th>1</th>\n",
       "      <th>2</th>\n",
       "      <th>3</th>\n",
       "      <th>4</th>\n",
       "      <th>5</th>\n",
       "      <th>6</th>\n",
       "      <th>7</th>\n",
       "      <th>8</th>\n",
       "      <th>9</th>\n",
       "      <th>...</th>\n",
       "      <th>23</th>\n",
       "      <th>24</th>\n",
       "      <th>25</th>\n",
       "      <th>26</th>\n",
       "      <th>27</th>\n",
       "      <th>28</th>\n",
       "      <th>29</th>\n",
       "      <th>30</th>\n",
       "      <th>31</th>\n",
       "      <th>ids</th>\n",
       "    </tr>\n",
       "  </thead>\n",
       "  <tbody>\n",
       "    <tr>\n",
       "      <th>0</th>\n",
       "      <td>0.113156</td>\n",
       "      <td>0.086901</td>\n",
       "      <td>0.033145</td>\n",
       "      <td>0.032440</td>\n",
       "      <td>0.070824</td>\n",
       "      <td>0.036117</td>\n",
       "      <td>0.038294</td>\n",
       "      <td>0.036568</td>\n",
       "      <td>0.027756</td>\n",
       "      <td>0.018089</td>\n",
       "      <td>...</td>\n",
       "      <td>0.007746</td>\n",
       "      <td>0.016873</td>\n",
       "      <td>0.008211</td>\n",
       "      <td>0.040936</td>\n",
       "      <td>0.016753</td>\n",
       "      <td>0.028567</td>\n",
       "      <td>0.018869</td>\n",
       "      <td>0.008992</td>\n",
       "      <td>0.018209</td>\n",
       "      <td>SRR11577127.2135</td>\n",
       "    </tr>\n",
       "    <tr>\n",
       "      <th>1</th>\n",
       "      <td>0.173413</td>\n",
       "      <td>0.125983</td>\n",
       "      <td>0.028149</td>\n",
       "      <td>0.025579</td>\n",
       "      <td>0.093248</td>\n",
       "      <td>0.027242</td>\n",
       "      <td>0.032365</td>\n",
       "      <td>0.033507</td>\n",
       "      <td>0.022086</td>\n",
       "      <td>0.010833</td>\n",
       "      <td>...</td>\n",
       "      <td>0.003947</td>\n",
       "      <td>0.010195</td>\n",
       "      <td>0.004048</td>\n",
       "      <td>0.035086</td>\n",
       "      <td>0.010632</td>\n",
       "      <td>0.024017</td>\n",
       "      <td>0.013067</td>\n",
       "      <td>0.006634</td>\n",
       "      <td>0.009859</td>\n",
       "      <td>SRR11577125.5626</td>\n",
       "    </tr>\n",
       "    <tr>\n",
       "      <th>2</th>\n",
       "      <td>0.134176</td>\n",
       "      <td>0.093541</td>\n",
       "      <td>0.031814</td>\n",
       "      <td>0.032075</td>\n",
       "      <td>0.079404</td>\n",
       "      <td>0.032651</td>\n",
       "      <td>0.031169</td>\n",
       "      <td>0.034708</td>\n",
       "      <td>0.029147</td>\n",
       "      <td>0.014172</td>\n",
       "      <td>...</td>\n",
       "      <td>0.007478</td>\n",
       "      <td>0.014207</td>\n",
       "      <td>0.006764</td>\n",
       "      <td>0.039519</td>\n",
       "      <td>0.014835</td>\n",
       "      <td>0.029949</td>\n",
       "      <td>0.016090</td>\n",
       "      <td>0.008856</td>\n",
       "      <td>0.016003</td>\n",
       "      <td>SRR11577124.6861</td>\n",
       "    </tr>\n",
       "    <tr>\n",
       "      <th>3</th>\n",
       "      <td>0.118108</td>\n",
       "      <td>0.087744</td>\n",
       "      <td>0.035112</td>\n",
       "      <td>0.031012</td>\n",
       "      <td>0.074674</td>\n",
       "      <td>0.034639</td>\n",
       "      <td>0.037687</td>\n",
       "      <td>0.036829</td>\n",
       "      <td>0.030118</td>\n",
       "      <td>0.015979</td>\n",
       "      <td>...</td>\n",
       "      <td>0.008428</td>\n",
       "      <td>0.016697</td>\n",
       "      <td>0.008778</td>\n",
       "      <td>0.042576</td>\n",
       "      <td>0.015594</td>\n",
       "      <td>0.028576</td>\n",
       "      <td>0.018187</td>\n",
       "      <td>0.009374</td>\n",
       "      <td>0.016347</td>\n",
       "      <td>SRR11577123.281</td>\n",
       "    </tr>\n",
       "    <tr>\n",
       "      <th>4</th>\n",
       "      <td>0.156818</td>\n",
       "      <td>0.108279</td>\n",
       "      <td>0.030168</td>\n",
       "      <td>0.029897</td>\n",
       "      <td>0.091334</td>\n",
       "      <td>0.027494</td>\n",
       "      <td>0.030818</td>\n",
       "      <td>0.037827</td>\n",
       "      <td>0.024983</td>\n",
       "      <td>0.014397</td>\n",
       "      <td>...</td>\n",
       "      <td>0.004480</td>\n",
       "      <td>0.011688</td>\n",
       "      <td>0.005076</td>\n",
       "      <td>0.035190</td>\n",
       "      <td>0.013747</td>\n",
       "      <td>0.027115</td>\n",
       "      <td>0.013801</td>\n",
       "      <td>0.005654</td>\n",
       "      <td>0.011796</td>\n",
       "      <td>SRR11577124.5416</td>\n",
       "    </tr>\n",
       "  </tbody>\n",
       "</table>\n",
       "<p>5 rows × 33 columns</p>\n",
       "</div>"
      ],
      "text/plain": [
       "          0         1         2         3         4         5         6  \\\n",
       "0  0.113156  0.086901  0.033145  0.032440  0.070824  0.036117  0.038294   \n",
       "1  0.173413  0.125983  0.028149  0.025579  0.093248  0.027242  0.032365   \n",
       "2  0.134176  0.093541  0.031814  0.032075  0.079404  0.032651  0.031169   \n",
       "3  0.118108  0.087744  0.035112  0.031012  0.074674  0.034639  0.037687   \n",
       "4  0.156818  0.108279  0.030168  0.029897  0.091334  0.027494  0.030818   \n",
       "\n",
       "          7         8         9  ...        23        24        25        26  \\\n",
       "0  0.036568  0.027756  0.018089  ...  0.007746  0.016873  0.008211  0.040936   \n",
       "1  0.033507  0.022086  0.010833  ...  0.003947  0.010195  0.004048  0.035086   \n",
       "2  0.034708  0.029147  0.014172  ...  0.007478  0.014207  0.006764  0.039519   \n",
       "3  0.036829  0.030118  0.015979  ...  0.008428  0.016697  0.008778  0.042576   \n",
       "4  0.037827  0.024983  0.014397  ...  0.004480  0.011688  0.005076  0.035190   \n",
       "\n",
       "         27        28        29        30        31               ids  \n",
       "0  0.016753  0.028567  0.018869  0.008992  0.018209  SRR11577127.2135  \n",
       "1  0.010632  0.024017  0.013067  0.006634  0.009859  SRR11577125.5626  \n",
       "2  0.014835  0.029949  0.016090  0.008856  0.016003  SRR11577124.6861  \n",
       "3  0.015594  0.028576  0.018187  0.009374  0.016347   SRR11577123.281  \n",
       "4  0.013747  0.027115  0.013801  0.005654  0.011796  SRR11577124.5416  \n",
       "\n",
       "[5 rows x 33 columns]"
      ]
     },
     "execution_count": 38,
     "metadata": {},
     "output_type": "execute_result"
    }
   ],
   "source": [
    "hist = utils.get_kmer_profiles(repr_reads, reads_file, 3)\n",
    "hist_df = pd.DataFrame(hist[0])\n",
    "hist_df['ids'] = hist[1]\n",
    "hist_df.head()"
   ]
  },
  {
   "cell_type": "code",
   "execution_count": 39,
   "metadata": {},
   "outputs": [],
   "source": [
    "## Get the real mt sequences\n",
    "with open('test/a_gifuensis/chrMT_reads_ids.txt','r') as handle_ids_mt:\n",
    "    ids_mt = handle_ids_mt.read().splitlines()\n",
    "    ids_mt = [i[:].strip() for i in ids_mt]\n"
   ]
  },
  {
   "cell_type": "markdown",
   "metadata": {},
   "source": [
    "# Dimensionality reduction with PCA and clustering with k-means "
   ]
  },
  {
   "cell_type": "code",
   "execution_count": 40,
   "metadata": {},
   "outputs": [],
   "source": [
    "from sklearn.decomposition import PCA\n",
    "from sklearn.cluster import KMeans"
   ]
  },
  {
   "cell_type": "code",
   "execution_count": 41,
   "metadata": {},
   "outputs": [
    {
     "data": {
      "text/html": [
       "<style>#sk-container-id-2 {color: black;}#sk-container-id-2 pre{padding: 0;}#sk-container-id-2 div.sk-toggleable {background-color: white;}#sk-container-id-2 label.sk-toggleable__label {cursor: pointer;display: block;width: 100%;margin-bottom: 0;padding: 0.3em;box-sizing: border-box;text-align: center;}#sk-container-id-2 label.sk-toggleable__label-arrow:before {content: \"▸\";float: left;margin-right: 0.25em;color: #696969;}#sk-container-id-2 label.sk-toggleable__label-arrow:hover:before {color: black;}#sk-container-id-2 div.sk-estimator:hover label.sk-toggleable__label-arrow:before {color: black;}#sk-container-id-2 div.sk-toggleable__content {max-height: 0;max-width: 0;overflow: hidden;text-align: left;background-color: #f0f8ff;}#sk-container-id-2 div.sk-toggleable__content pre {margin: 0.2em;color: black;border-radius: 0.25em;background-color: #f0f8ff;}#sk-container-id-2 input.sk-toggleable__control:checked~div.sk-toggleable__content {max-height: 200px;max-width: 100%;overflow: auto;}#sk-container-id-2 input.sk-toggleable__control:checked~label.sk-toggleable__label-arrow:before {content: \"▾\";}#sk-container-id-2 div.sk-estimator input.sk-toggleable__control:checked~label.sk-toggleable__label {background-color: #d4ebff;}#sk-container-id-2 div.sk-label input.sk-toggleable__control:checked~label.sk-toggleable__label {background-color: #d4ebff;}#sk-container-id-2 input.sk-hidden--visually {border: 0;clip: rect(1px 1px 1px 1px);clip: rect(1px, 1px, 1px, 1px);height: 1px;margin: -1px;overflow: hidden;padding: 0;position: absolute;width: 1px;}#sk-container-id-2 div.sk-estimator {font-family: monospace;background-color: #f0f8ff;border: 1px dotted black;border-radius: 0.25em;box-sizing: border-box;margin-bottom: 0.5em;}#sk-container-id-2 div.sk-estimator:hover {background-color: #d4ebff;}#sk-container-id-2 div.sk-parallel-item::after {content: \"\";width: 100%;border-bottom: 1px solid gray;flex-grow: 1;}#sk-container-id-2 div.sk-label:hover label.sk-toggleable__label {background-color: #d4ebff;}#sk-container-id-2 div.sk-serial::before {content: \"\";position: absolute;border-left: 1px solid gray;box-sizing: border-box;top: 0;bottom: 0;left: 50%;z-index: 0;}#sk-container-id-2 div.sk-serial {display: flex;flex-direction: column;align-items: center;background-color: white;padding-right: 0.2em;padding-left: 0.2em;position: relative;}#sk-container-id-2 div.sk-item {position: relative;z-index: 1;}#sk-container-id-2 div.sk-parallel {display: flex;align-items: stretch;justify-content: center;background-color: white;position: relative;}#sk-container-id-2 div.sk-item::before, #sk-container-id-2 div.sk-parallel-item::before {content: \"\";position: absolute;border-left: 1px solid gray;box-sizing: border-box;top: 0;bottom: 0;left: 50%;z-index: -1;}#sk-container-id-2 div.sk-parallel-item {display: flex;flex-direction: column;z-index: 1;position: relative;background-color: white;}#sk-container-id-2 div.sk-parallel-item:first-child::after {align-self: flex-end;width: 50%;}#sk-container-id-2 div.sk-parallel-item:last-child::after {align-self: flex-start;width: 50%;}#sk-container-id-2 div.sk-parallel-item:only-child::after {width: 0;}#sk-container-id-2 div.sk-dashed-wrapped {border: 1px dashed gray;margin: 0 0.4em 0.5em 0.4em;box-sizing: border-box;padding-bottom: 0.4em;background-color: white;}#sk-container-id-2 div.sk-label label {font-family: monospace;font-weight: bold;display: inline-block;line-height: 1.2em;}#sk-container-id-2 div.sk-label-container {text-align: center;}#sk-container-id-2 div.sk-container {/* jupyter's `normalize.less` sets `[hidden] { display: none; }` but bootstrap.min.css set `[hidden] { display: none !important; }` so we also need the `!important` here to be able to override the default hidden behavior on the sphinx rendered scikit-learn.org. See: https://github.com/scikit-learn/scikit-learn/issues/21755 */display: inline-block !important;position: relative;}#sk-container-id-2 div.sk-text-repr-fallback {display: none;}</style><div id=\"sk-container-id-2\" class=\"sk-top-container\"><div class=\"sk-text-repr-fallback\"><pre>PCA(n_components=2)</pre><b>In a Jupyter environment, please rerun this cell to show the HTML representation or trust the notebook. <br />On GitHub, the HTML representation is unable to render, please try loading this page with nbviewer.org.</b></div><div class=\"sk-container\" hidden><div class=\"sk-item\"><div class=\"sk-estimator sk-toggleable\"><input class=\"sk-toggleable__control sk-hidden--visually\" id=\"sk-estimator-id-2\" type=\"checkbox\" checked><label for=\"sk-estimator-id-2\" class=\"sk-toggleable__label sk-toggleable__label-arrow\">PCA</label><div class=\"sk-toggleable__content\"><pre>PCA(n_components=2)</pre></div></div></div></div></div>"
      ],
      "text/plain": [
       "PCA(n_components=2)"
      ]
     },
     "execution_count": 41,
     "metadata": {},
     "output_type": "execute_result"
    }
   ],
   "source": [
    "pca = PCA(n_components=2)\n",
    "pca.fit(hist_df.iloc[:,:-2])"
   ]
  },
  {
   "cell_type": "code",
   "execution_count": 42,
   "metadata": {},
   "outputs": [
    {
     "data": {
      "text/plain": [
       "array([0.00141994, 0.0002253 ])"
      ]
     },
     "execution_count": 42,
     "metadata": {},
     "output_type": "execute_result"
    }
   ],
   "source": [
    "## Components and variance explained \n",
    "pca.explained_variance_\n",
    "#pca.components_"
   ]
  },
  {
   "cell_type": "code",
   "execution_count": 43,
   "metadata": {},
   "outputs": [
    {
     "data": {
      "text/html": [
       "<div>\n",
       "<style scoped>\n",
       "    .dataframe tbody tr th:only-of-type {\n",
       "        vertical-align: middle;\n",
       "    }\n",
       "\n",
       "    .dataframe tbody tr th {\n",
       "        vertical-align: top;\n",
       "    }\n",
       "\n",
       "    .dataframe thead th {\n",
       "        text-align: right;\n",
       "    }\n",
       "</style>\n",
       "<table border=\"1\" class=\"dataframe\">\n",
       "  <thead>\n",
       "    <tr style=\"text-align: right;\">\n",
       "      <th></th>\n",
       "      <th>comp1</th>\n",
       "      <th>comp2</th>\n",
       "      <th>ids</th>\n",
       "      <th>coverage</th>\n",
       "      <th>repr_read_len</th>\n",
       "      <th>id_cluster</th>\n",
       "      <th>transform</th>\n",
       "      <th>mt</th>\n",
       "      <th>coverage_norm</th>\n",
       "    </tr>\n",
       "  </thead>\n",
       "  <tbody>\n",
       "    <tr>\n",
       "      <th>5</th>\n",
       "      <td>0.006477</td>\n",
       "      <td>-0.000118</td>\n",
       "      <td>SRR11577126.5643</td>\n",
       "      <td>5</td>\n",
       "      <td>54425</td>\n",
       "      <td>6</td>\n",
       "      <td>2.321928</td>\n",
       "      <td>10</td>\n",
       "      <td>0.000092</td>\n",
       "    </tr>\n",
       "    <tr>\n",
       "      <th>6</th>\n",
       "      <td>-0.012462</td>\n",
       "      <td>0.000190</td>\n",
       "      <td>SRR11577128.608</td>\n",
       "      <td>4</td>\n",
       "      <td>52756</td>\n",
       "      <td>7</td>\n",
       "      <td>2.000000</td>\n",
       "      <td>10</td>\n",
       "      <td>0.000076</td>\n",
       "    </tr>\n",
       "    <tr>\n",
       "      <th>7</th>\n",
       "      <td>-0.001998</td>\n",
       "      <td>-0.002053</td>\n",
       "      <td>SRR11577127.3038</td>\n",
       "      <td>12</td>\n",
       "      <td>50777</td>\n",
       "      <td>8</td>\n",
       "      <td>3.584963</td>\n",
       "      <td>10</td>\n",
       "      <td>0.000236</td>\n",
       "    </tr>\n",
       "    <tr>\n",
       "      <th>14</th>\n",
       "      <td>0.010912</td>\n",
       "      <td>-0.005501</td>\n",
       "      <td>SRR11577129.1153</td>\n",
       "      <td>3</td>\n",
       "      <td>43685</td>\n",
       "      <td>15</td>\n",
       "      <td>1.584963</td>\n",
       "      <td>10</td>\n",
       "      <td>0.000069</td>\n",
       "    </tr>\n",
       "    <tr>\n",
       "      <th>19</th>\n",
       "      <td>0.015073</td>\n",
       "      <td>-0.008131</td>\n",
       "      <td>SRR11577126.3210</td>\n",
       "      <td>3</td>\n",
       "      <td>41537</td>\n",
       "      <td>20</td>\n",
       "      <td>1.584963</td>\n",
       "      <td>10</td>\n",
       "      <td>0.000072</td>\n",
       "    </tr>\n",
       "    <tr>\n",
       "      <th>21</th>\n",
       "      <td>0.001633</td>\n",
       "      <td>0.060112</td>\n",
       "      <td>SRR11577126.1428</td>\n",
       "      <td>16</td>\n",
       "      <td>40912</td>\n",
       "      <td>22</td>\n",
       "      <td>4.000000</td>\n",
       "      <td>10</td>\n",
       "      <td>0.000391</td>\n",
       "    </tr>\n",
       "    <tr>\n",
       "      <th>23</th>\n",
       "      <td>-0.013275</td>\n",
       "      <td>0.002976</td>\n",
       "      <td>SRR11577126.1742</td>\n",
       "      <td>7</td>\n",
       "      <td>39518</td>\n",
       "      <td>24</td>\n",
       "      <td>2.807355</td>\n",
       "      <td>10</td>\n",
       "      <td>0.000177</td>\n",
       "    </tr>\n",
       "    <tr>\n",
       "      <th>33</th>\n",
       "      <td>-0.032815</td>\n",
       "      <td>0.012071</td>\n",
       "      <td>SRR11577127.7239</td>\n",
       "      <td>3</td>\n",
       "      <td>31080</td>\n",
       "      <td>34</td>\n",
       "      <td>1.584963</td>\n",
       "      <td>10</td>\n",
       "      <td>0.000097</td>\n",
       "    </tr>\n",
       "    <tr>\n",
       "      <th>42</th>\n",
       "      <td>-0.016322</td>\n",
       "      <td>0.001709</td>\n",
       "      <td>SRR11577125.6951</td>\n",
       "      <td>3</td>\n",
       "      <td>27367</td>\n",
       "      <td>43</td>\n",
       "      <td>1.584963</td>\n",
       "      <td>10</td>\n",
       "      <td>0.000110</td>\n",
       "    </tr>\n",
       "    <tr>\n",
       "      <th>43</th>\n",
       "      <td>0.006200</td>\n",
       "      <td>-0.000532</td>\n",
       "      <td>SRR11577125.3156</td>\n",
       "      <td>3</td>\n",
       "      <td>27176</td>\n",
       "      <td>44</td>\n",
       "      <td>1.584963</td>\n",
       "      <td>10</td>\n",
       "      <td>0.000110</td>\n",
       "    </tr>\n",
       "    <tr>\n",
       "      <th>55</th>\n",
       "      <td>0.015607</td>\n",
       "      <td>-0.007955</td>\n",
       "      <td>SRR11577123.263</td>\n",
       "      <td>4</td>\n",
       "      <td>21537</td>\n",
       "      <td>56</td>\n",
       "      <td>2.000000</td>\n",
       "      <td>10</td>\n",
       "      <td>0.000186</td>\n",
       "    </tr>\n",
       "  </tbody>\n",
       "</table>\n",
       "</div>"
      ],
      "text/plain": [
       "       comp1     comp2               ids  coverage  repr_read_len  id_cluster  \\\n",
       "5   0.006477 -0.000118  SRR11577126.5643         5          54425           6   \n",
       "6  -0.012462  0.000190   SRR11577128.608         4          52756           7   \n",
       "7  -0.001998 -0.002053  SRR11577127.3038        12          50777           8   \n",
       "14  0.010912 -0.005501  SRR11577129.1153         3          43685          15   \n",
       "19  0.015073 -0.008131  SRR11577126.3210         3          41537          20   \n",
       "21  0.001633  0.060112  SRR11577126.1428        16          40912          22   \n",
       "23 -0.013275  0.002976  SRR11577126.1742         7          39518          24   \n",
       "33 -0.032815  0.012071  SRR11577127.7239         3          31080          34   \n",
       "42 -0.016322  0.001709  SRR11577125.6951         3          27367          43   \n",
       "43  0.006200 -0.000532  SRR11577125.3156         3          27176          44   \n",
       "55  0.015607 -0.007955   SRR11577123.263         4          21537          56   \n",
       "\n",
       "    transform  mt  coverage_norm  \n",
       "5    2.321928  10       0.000092  \n",
       "6    2.000000  10       0.000076  \n",
       "7    3.584963  10       0.000236  \n",
       "14   1.584963  10       0.000069  \n",
       "19   1.584963  10       0.000072  \n",
       "21   4.000000  10       0.000391  \n",
       "23   2.807355  10       0.000177  \n",
       "33   1.584963  10       0.000097  \n",
       "42   1.584963  10       0.000110  \n",
       "43   1.584963  10       0.000110  \n",
       "55   2.000000  10       0.000186  "
      ]
     },
     "execution_count": 43,
     "metadata": {},
     "output_type": "execute_result"
    }
   ],
   "source": [
    "kmer_reduction = pca.fit_transform(hist_df.iloc[:,:-2])\n",
    "kmer_reduction = pd.DataFrame(kmer_reduction, columns=['comp1', 'comp2'])\n",
    "\n",
    "## merging the dataframe with ids and other relevant information\n",
    "kmer_reduction ['ids'] = hist_df['ids']\n",
    "kmer_reduction = kmer_reduction.merge(clusters, how='left', left_on='ids', right_on='id_longest_read')\n",
    "kmer_reduction.drop(columns='id_longest_read', inplace=True)\n",
    "\n",
    "## Annotate which reads are mitochondrial\n",
    "kmer_reduction['mt'] = [32 if i else 10 for i in kmer_reduction['ids'].isin(ids_mt)] #+ 1) ** 5\n",
    "kmer_reduction = kmer_reduction[kmer_reduction['coverage'] > min_coverage]\n",
    "kmer_reduction['coverage_norm'] = kmer_reduction['coverage'] / kmer_reduction['repr_read_len']\n",
    "kmer_reduction"
   ]
  },
  {
   "cell_type": "code",
   "execution_count": 44,
   "metadata": {},
   "outputs": [
    {
     "name": "stderr",
     "output_type": "stream",
     "text": [
      "No artists with labels found to put in legend.  Note that artists whose label start with an underscore are ignored when legend() is called with no argument.\n"
     ]
    },
    {
     "data": {
      "text/plain": [
       "Text(0, 0.5, 'comp2')"
      ]
     },
     "execution_count": 44,
     "metadata": {},
     "output_type": "execute_result"
    },
    {
     "data": {
      "image/png": "[encoded data removed]",
      "text/plain": [
       "<Figure size 640x480 with 2 Axes>"
      ]
     },
     "metadata": {},
     "output_type": "display_data"
    }
   ],
   "source": [
    "sc = plt.scatter(kmer_reduction['comp1'],kmer_reduction['comp2'], c=kmer_reduction['coverage_norm'], s=kmer_reduction['mt'])\n",
    "# legend\n",
    "# Add clusters_list colorbar\n",
    "cbar = plt.colorbar(sc)\n",
    "cbar.set_label('Color Scale')\n",
    "plt.legend()\n",
    "plt.xlabel('comp1')\n",
    "plt.ylabel('comp2')"
   ]
  },
  {
   "cell_type": "code",
   "execution_count": 45,
   "metadata": {},
   "outputs": [
    {
     "name": "stdout",
     "output_type": "stream",
     "text": [
      "Initialization complete\n",
      "Iteration 0, inertia 0.003965086778516296.\n",
      "Iteration 1, inertia 0.0026141532077037693.\n",
      "Converged at iteration 1: strict convergence.\n"
     ]
    }
   ],
   "source": [
    "kmeans = KMeans(n_clusters=2, max_iter=100, init='k-means++', random_state=0, n_init=1,verbose=1)\n",
    "mt_prediction = kmeans.fit_predict(kmer_reduction[['comp1','comp2']])#, sample_weight=kmer_reduction['coverage'])\n",
    "kmer_reduction['cluster_prediction'] = mt_prediction"
   ]
  },
  {
   "cell_type": "code",
   "execution_count": 46,
   "metadata": {},
   "outputs": [
    {
     "data": {
      "text/plain": [
       "Text(0, 0.5, 'comp2')"
      ]
     },
     "execution_count": 46,
     "metadata": {},
     "output_type": "execute_result"
    },
    {
     "data": {
      "image/png": "[encoded data removed]",
      "text/plain": [
       "<Figure size 640x480 with 1 Axes>"
      ]
     },
     "metadata": {},
     "output_type": "display_data"
    }
   ],
   "source": [
    "plt.scatter(x=kmer_reduction['comp1'], y=kmer_reduction['comp2'], c=mt_prediction, s=kmer_reduction['mt'])\n",
    "plt.xlabel('comp1')\n",
    "plt.ylabel('comp2')"
   ]
  },
  {
   "cell_type": "markdown",
   "metadata": {},
   "source": [
    "# Get the cluster of interest\n",
    "\n",
    "This step is clusters_list pain in the ass, but since I am looking to keep the free-reference. "
   ]
  },
  {
   "cell_type": "code",
   "execution_count": 47,
   "metadata": {},
   "outputs": [
    {
     "data": {
      "text/html": [
       "<div>\n",
       "<style scoped>\n",
       "    .dataframe tbody tr th:only-of-type {\n",
       "        vertical-align: middle;\n",
       "    }\n",
       "\n",
       "    .dataframe tbody tr th {\n",
       "        vertical-align: top;\n",
       "    }\n",
       "\n",
       "    .dataframe thead th {\n",
       "        text-align: right;\n",
       "    }\n",
       "</style>\n",
       "<table border=\"1\" class=\"dataframe\">\n",
       "  <thead>\n",
       "    <tr style=\"text-align: right;\">\n",
       "      <th></th>\n",
       "      <th>comp1</th>\n",
       "      <th>comp2</th>\n",
       "      <th>ids</th>\n",
       "      <th>coverage</th>\n",
       "      <th>repr_read_len</th>\n",
       "      <th>id_cluster</th>\n",
       "      <th>transform</th>\n",
       "      <th>mt</th>\n",
       "      <th>coverage_norm</th>\n",
       "      <th>cluster_prediction</th>\n",
       "    </tr>\n",
       "  </thead>\n",
       "  <tbody>\n",
       "    <tr>\n",
       "      <th>21</th>\n",
       "      <td>0.001633</td>\n",
       "      <td>0.060112</td>\n",
       "      <td>SRR11577126.1428</td>\n",
       "      <td>16</td>\n",
       "      <td>40912</td>\n",
       "      <td>22</td>\n",
       "      <td>4.0</td>\n",
       "      <td>10</td>\n",
       "      <td>0.000391</td>\n",
       "      <td>1</td>\n",
       "    </tr>\n",
       "  </tbody>\n",
       "</table>\n",
       "</div>"
      ],
      "text/plain": [
       "       comp1     comp2               ids  coverage  repr_read_len  id_cluster  \\\n",
       "21  0.001633  0.060112  SRR11577126.1428        16          40912          22   \n",
       "\n",
       "    transform  mt  coverage_norm  cluster_prediction  \n",
       "21        4.0  10       0.000391                   1  "
      ]
     },
     "execution_count": 47,
     "metadata": {},
     "output_type": "execute_result"
    }
   ],
   "source": [
    "selected_cluster_id = kmer_reduction.loc[:, kmer_reduction.columns != 'ids'].groupby(by='cluster_prediction')['coverage_norm'].median().idxmax()\n",
    "selected_cluster = kmer_reduction[kmer_reduction['cluster_prediction'] == selected_cluster_id]\n",
    "selected_cluster.sort_values('coverage')"
   ]
  },
  {
   "cell_type": "code",
   "execution_count": 48,
   "metadata": {},
   "outputs": [
    {
     "ename": "NameError",
     "evalue": "name 'fasta' is not defined",
     "output_type": "error",
     "traceback": [
      "\u001b[0;31m---------------------------------------------------------------------------\u001b[0m",
      "\u001b[0;31mNameError\u001b[0m                                 Traceback (most recent call last)",
      "\u001b[1;32m/Users/jjpc/Documents/TESIS/MITNANEX_PROJECT/progress_notebook.ipynb Cell 25\u001b[0m line \u001b[0;36m4\n\u001b[1;32m      <a href='vscode-notebook-cell:/Users/jjpc/Documents/TESIS/MITNANEX_PROJECT/progress_notebook.ipynb#X34sZmlsZQ%3D%3D?line=1'>2</a>\u001b[0m \u001b[39mfor\u001b[39;00m i \u001b[39min\u001b[39;00m selected_cluster[\u001b[39m'\u001b[39m\u001b[39mid_cluster\u001b[39m\u001b[39m'\u001b[39m]:\n\u001b[1;32m      <a href='vscode-notebook-cell:/Users/jjpc/Documents/TESIS/MITNANEX_PROJECT/progress_notebook.ipynb#X34sZmlsZQ%3D%3D?line=2'>3</a>\u001b[0m     sequences_ids\u001b[39m.\u001b[39mupdate(clusters_list\u001b[39m.\u001b[39mget_cluster(i)\u001b[39m.\u001b[39mid_sequences)\n\u001b[0;32m----> <a href='vscode-notebook-cell:/Users/jjpc/Documents/TESIS/MITNANEX_PROJECT/progress_notebook.ipynb#X34sZmlsZQ%3D%3D?line=3'>4</a>\u001b[0m write_fasta(fasta\u001b[39m=\u001b[39mfasta, sequences_ids\u001b[39m=\u001b[39msequences_ids, output\u001b[39m=\u001b[39m\u001b[39m'\u001b[39m\u001b[39mtest/a_gifuensis/mt_reads_v1.fasta\u001b[39m\u001b[39m'\u001b[39m)\n",
      "\u001b[0;31mNameError\u001b[0m: name 'fasta' is not defined"
     ]
    }
   ],
   "source": [
    "sequences_ids = set()\n",
    "for i in selected_cluster['id_cluster']:\n",
    "    sequences_ids.update(clusters_list.get_cluster(i).id_sequences)\n",
    "write_fasta(fasta=reads_file, sequences_ids=sequences_ids, output='test/a_gifuensis/mt_reads_v1.fasta')"
   ]
  }
 ],
 "metadata": {
  "kernelspec": {
   "display_name": "mitnanex",
   "language": "python",
   "name": "python3"
  },
  "language_info": {
   "codemirror_mode": {
    "name": "ipython",
    "version": 3
   },
   "file_extension": ".py",
   "mimetype": "text/x-python",
   "name": "python",
   "nbconvert_exporter": "python",
   "pygments_lexer": "ipython3",
   "version": "3.10.12"
  },
  "orig_nbformat": 4
 },
 "nbformat": 4,
 "nbformat_minor": 2
}

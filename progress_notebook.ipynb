{
 "cells": [
  {
   "cell_type": "code",
   "execution_count": 1,
   "metadata": {},
   "outputs": [],
   "source": [
    "from src.mitnanex import run\n",
    "import pandas as pd\n",
    "import matplotlib.pyplot as plt\n",
    "from sklearn.neighbors import KernelDensity"
   ]
  },
  {
   "cell_type": "code",
   "execution_count": 2,
   "metadata": {},
   "outputs": [],
   "source": [
    "prefix = 's_cervisae_CEN_PK113-7D_SRR5892449_reads'\n",
    "wd = 'test/s_cervisae_CEN_PK113-7D/mitnanex_results/'\n",
    "\n",
    "clusters_list = run(f\"{wd}{prefix}.paf\", 0.7)\n",
    "\n",
    "# I need to plot the coverage of clusters\n",
    "coverages_df = pd.DataFrame(\n",
    "    {\n",
    "        \"coverage\": [i.coverage for i in clusters_list.clusters],\n",
    "        \"repr_read_len\": [i.longest_read_length for i in clusters_list.clusters],\n",
    "        \"id_longest_read\": [i.longest_read_id for i in clusters_list.clusters],\n",
    "        \"id_cluster\":[i.id_cluster for i in clusters_list.clusters],\n",
    "    }\n",
    ")"
   ]
  },
  {
   "cell_type": "code",
   "execution_count": 3,
   "metadata": {},
   "outputs": [
    {
     "data": {
      "text/html": [
       "<div>\n",
       "<style scoped>\n",
       "    .dataframe tbody tr th:only-of-type {\n",
       "        vertical-align: middle;\n",
       "    }\n",
       "\n",
       "    .dataframe tbody tr th {\n",
       "        vertical-align: top;\n",
       "    }\n",
       "\n",
       "    .dataframe thead th {\n",
       "        text-align: right;\n",
       "    }\n",
       "</style>\n",
       "<table border=\"1\" class=\"dataframe\">\n",
       "  <thead>\n",
       "    <tr style=\"text-align: right;\">\n",
       "      <th></th>\n",
       "      <th>coverage</th>\n",
       "      <th>repr_read_len</th>\n",
       "      <th>id_longest_read</th>\n",
       "      <th>id_cluster</th>\n",
       "    </tr>\n",
       "  </thead>\n",
       "  <tbody>\n",
       "    <tr>\n",
       "      <th>61</th>\n",
       "      <td>64</td>\n",
       "      <td>23182</td>\n",
       "      <td>SRR5892449.36605</td>\n",
       "      <td>62</td>\n",
       "    </tr>\n",
       "    <tr>\n",
       "      <th>158</th>\n",
       "      <td>27</td>\n",
       "      <td>18686</td>\n",
       "      <td>SRR5892449.40814</td>\n",
       "      <td>159</td>\n",
       "    </tr>\n",
       "    <tr>\n",
       "      <th>55</th>\n",
       "      <td>22</td>\n",
       "      <td>23806</td>\n",
       "      <td>SRR5892449.36136</td>\n",
       "      <td>56</td>\n",
       "    </tr>\n",
       "    <tr>\n",
       "      <th>18</th>\n",
       "      <td>21</td>\n",
       "      <td>28093</td>\n",
       "      <td>SRR5892449.41054</td>\n",
       "      <td>19</td>\n",
       "    </tr>\n",
       "    <tr>\n",
       "      <th>39</th>\n",
       "      <td>17</td>\n",
       "      <td>25072</td>\n",
       "      <td>SRR5892449.39249</td>\n",
       "      <td>40</td>\n",
       "    </tr>\n",
       "  </tbody>\n",
       "</table>\n",
       "</div>"
      ],
      "text/plain": [
       "     coverage  repr_read_len   id_longest_read  id_cluster\n",
       "61         64          23182  SRR5892449.36605          62\n",
       "158        27          18686  SRR5892449.40814         159\n",
       "55         22          23806  SRR5892449.36136          56\n",
       "18         21          28093  SRR5892449.41054          19\n",
       "39         17          25072  SRR5892449.39249          40"
      ]
     },
     "execution_count": 3,
     "metadata": {},
     "output_type": "execute_result"
    }
   ],
   "source": [
    "# Test on the first 30 clusters\n",
    "import math\n",
    "clusters = coverages_df.sort_values(by='coverage', ascending=False)\n",
    "clusters.head()"
   ]
  },
  {
   "cell_type": "markdown",
   "metadata": {},
   "source": [
    "# Coverage\n",
    "\n",
    "The first step is to filter the reads by coverage. For that I will explore the use of Kernel Density since this is clusters_list one dimensional clustering."
   ]
  },
  {
   "cell_type": "code",
   "execution_count": 4,
   "metadata": {},
   "outputs": [
    {
     "data": {
      "text/html": [
       "<div>\n",
       "<style scoped>\n",
       "    .dataframe tbody tr th:only-of-type {\n",
       "        vertical-align: middle;\n",
       "    }\n",
       "\n",
       "    .dataframe tbody tr th {\n",
       "        vertical-align: top;\n",
       "    }\n",
       "\n",
       "    .dataframe thead th {\n",
       "        text-align: right;\n",
       "    }\n",
       "</style>\n",
       "<table border=\"1\" class=\"dataframe\">\n",
       "  <thead>\n",
       "    <tr style=\"text-align: right;\">\n",
       "      <th></th>\n",
       "      <th>coverage</th>\n",
       "      <th>repr_read_len</th>\n",
       "      <th>id_longest_read</th>\n",
       "      <th>id_cluster</th>\n",
       "      <th>transform</th>\n",
       "    </tr>\n",
       "  </thead>\n",
       "  <tbody>\n",
       "    <tr>\n",
       "      <th>61</th>\n",
       "      <td>64</td>\n",
       "      <td>23182</td>\n",
       "      <td>SRR5892449.36605</td>\n",
       "      <td>62</td>\n",
       "      <td>6.000000</td>\n",
       "    </tr>\n",
       "    <tr>\n",
       "      <th>158</th>\n",
       "      <td>27</td>\n",
       "      <td>18686</td>\n",
       "      <td>SRR5892449.40814</td>\n",
       "      <td>159</td>\n",
       "      <td>4.754888</td>\n",
       "    </tr>\n",
       "    <tr>\n",
       "      <th>55</th>\n",
       "      <td>22</td>\n",
       "      <td>23806</td>\n",
       "      <td>SRR5892449.36136</td>\n",
       "      <td>56</td>\n",
       "      <td>4.459432</td>\n",
       "    </tr>\n",
       "    <tr>\n",
       "      <th>18</th>\n",
       "      <td>21</td>\n",
       "      <td>28093</td>\n",
       "      <td>SRR5892449.41054</td>\n",
       "      <td>19</td>\n",
       "      <td>4.392317</td>\n",
       "    </tr>\n",
       "    <tr>\n",
       "      <th>39</th>\n",
       "      <td>17</td>\n",
       "      <td>25072</td>\n",
       "      <td>SRR5892449.39249</td>\n",
       "      <td>40</td>\n",
       "      <td>4.087463</td>\n",
       "    </tr>\n",
       "    <tr>\n",
       "      <th>...</th>\n",
       "      <td>...</td>\n",
       "      <td>...</td>\n",
       "      <td>...</td>\n",
       "      <td>...</td>\n",
       "      <td>...</td>\n",
       "    </tr>\n",
       "    <tr>\n",
       "      <th>190</th>\n",
       "      <td>2</td>\n",
       "      <td>17910</td>\n",
       "      <td>SRR5892449.53889</td>\n",
       "      <td>191</td>\n",
       "      <td>1.000000</td>\n",
       "    </tr>\n",
       "    <tr>\n",
       "      <th>320</th>\n",
       "      <td>2</td>\n",
       "      <td>13065</td>\n",
       "      <td>SRR5892449.37302</td>\n",
       "      <td>321</td>\n",
       "      <td>1.000000</td>\n",
       "    </tr>\n",
       "    <tr>\n",
       "      <th>319</th>\n",
       "      <td>2</td>\n",
       "      <td>13131</td>\n",
       "      <td>SRR5892449.30973</td>\n",
       "      <td>320</td>\n",
       "      <td>1.000000</td>\n",
       "    </tr>\n",
       "    <tr>\n",
       "      <th>318</th>\n",
       "      <td>2</td>\n",
       "      <td>13171</td>\n",
       "      <td>SRR5892449.39151</td>\n",
       "      <td>319</td>\n",
       "      <td>1.000000</td>\n",
       "    </tr>\n",
       "    <tr>\n",
       "      <th>0</th>\n",
       "      <td>2</td>\n",
       "      <td>42640</td>\n",
       "      <td>SRR5892449.18856</td>\n",
       "      <td>1</td>\n",
       "      <td>1.000000</td>\n",
       "    </tr>\n",
       "  </tbody>\n",
       "</table>\n",
       "<p>428 rows × 5 columns</p>\n",
       "</div>"
      ],
      "text/plain": [
       "     coverage  repr_read_len   id_longest_read  id_cluster  transform\n",
       "61         64          23182  SRR5892449.36605          62   6.000000\n",
       "158        27          18686  SRR5892449.40814         159   4.754888\n",
       "55         22          23806  SRR5892449.36136          56   4.459432\n",
       "18         21          28093  SRR5892449.41054          19   4.392317\n",
       "39         17          25072  SRR5892449.39249          40   4.087463\n",
       "..        ...            ...               ...         ...        ...\n",
       "190         2          17910  SRR5892449.53889         191   1.000000\n",
       "320         2          13065  SRR5892449.37302         321   1.000000\n",
       "319         2          13131  SRR5892449.30973         320   1.000000\n",
       "318         2          13171  SRR5892449.39151         319   1.000000\n",
       "0           2          42640  SRR5892449.18856           1   1.000000\n",
       "\n",
       "[428 rows x 5 columns]"
      ]
     },
     "execution_count": 4,
     "metadata": {},
     "output_type": "execute_result"
    }
   ],
   "source": [
    "clusters['transform'] = [math.log2(i)for i in clusters['coverage']]\n",
    "clusters"
   ]
  },
  {
   "cell_type": "code",
   "execution_count": 5,
   "metadata": {},
   "outputs": [
    {
     "data": {
      "text/plain": [
       "<Axes: >"
      ]
     },
     "execution_count": 5,
     "metadata": {},
     "output_type": "execute_result"
    },
    {
     "data": {
      "image/png": "[encoded data removed]",
      "text/plain": [
       "<Figure size 640x480 with 1 Axes>"
      ]
     },
     "metadata": {},
     "output_type": "display_data"
    }
   ],
   "source": [
    "clusters['coverage'].hist(bins=50)"
   ]
  },
  {
   "cell_type": "code",
   "execution_count": 6,
   "metadata": {},
   "outputs": [
    {
     "data": {
      "text/plain": [
       "<matplotlib.collections.PathCollection at 0x150e14430>"
      ]
     },
     "execution_count": 6,
     "metadata": {},
     "output_type": "execute_result"
    },
    {
     "data": {
      "image/png": "[encoded data removed]",
      "text/plain": [
       "<Figure size 640x480 with 1 Axes>"
      ]
     },
     "metadata": {},
     "output_type": "display_data"
    }
   ],
   "source": [
    "plt.scatter(x=clusters['transform'], y=clusters['coverage'])"
   ]
  },
  {
   "cell_type": "code",
   "execution_count": 7,
   "metadata": {},
   "outputs": [
    {
     "data": {
      "text/plain": [
       "[<matplotlib.lines.Line2D at 0x150ea1550>]"
      ]
     },
     "execution_count": 7,
     "metadata": {},
     "output_type": "execute_result"
    },
    {
     "data": {
      "image/png": "[encoded data removed]",
      "text/plain": [
       "<Figure size 640x480 with 1 Axes>"
      ]
     },
     "metadata": {},
     "output_type": "display_data"
    }
   ],
   "source": [
    "kde = KernelDensity(kernel='gaussian', bandwidth=0.5).fit(clusters['coverage'].array.reshape(-1,1))\n",
    "cov_fdp = kde.score_samples(clusters['coverage'].array.reshape(-1,1))\n",
    "plt.plot(clusters['coverage'], cov_fdp)"
   ]
  },
  {
   "cell_type": "code",
   "execution_count": 8,
   "metadata": {},
   "outputs": [
    {
     "name": "stdout",
     "output_type": "stream",
     "text": [
      "Covertura minima admitida:  3\n"
     ]
    }
   ],
   "source": [
    "from scipy.signal import argrelextrema\n",
    "import numpy as np\n",
    "local_min = argrelextrema(cov_fdp, np.less)[0]\n",
    "if len(local_min) < 1:\n",
    "    min_coverage = 3\n",
    "else:\n",
    "    min_coverage = clusters.iloc[max(local_min),:]['coverage']\n",
    "print(\"Covertura minima admitida: \", min_coverage)"
   ]
  },
  {
   "cell_type": "code",
   "execution_count": 9,
   "metadata": {},
   "outputs": [
    {
     "name": "stdout",
     "output_type": "stream",
     "text": [
      "Minimum coverage:  21\n"
     ]
    }
   ],
   "source": [
    "## ALTERNATIVE TO CALCULATE MINIMUN COVERAGE.\n",
    "## I WILL LOOK FOR THE GREATES HOLE IN THE DATA, IF THERE IS JUST ONE POINT THEN I CHOOSE THE SECOND GREATEST GAP\n",
    "def min_cov (clusters):\n",
    "    cov_gaps = clusters.loc[:,'coverage'].diff(periods=-1).sort_values(ascending=False)\n",
    "    for k in cov_gaps.index:\n",
    "        clusters_filt_cov = clusters['coverage'] >= clusters.loc[k, 'coverage']\n",
    "        if sum(clusters_filt_cov) > 3 :\n",
    "            min_coverage=clusters.loc[k, 'coverage']\n",
    "            print(\"Minimum coverage: \", min_coverage)\n",
    "            return min_coverage\n",
    "min_coverage=min_cov(clusters)"
   ]
  },
  {
   "cell_type": "code",
   "execution_count": 10,
   "metadata": {},
   "outputs": [],
   "source": [
    "# FILTER BY COVERAGE\n",
    "clusters = clusters[clusters['coverage'] >= min_coverage]"
   ]
  },
  {
   "cell_type": "code",
   "execution_count": 11,
   "metadata": {},
   "outputs": [
    {
     "name": "stderr",
     "output_type": "stream",
     "text": [
      "/var/folders/20/bjqv2gj50z7dx4ksyh4y8b800000gn/T/ipykernel_38647/1139505656.py:6: SettingWithCopyWarning: \n",
      "A value is trying to be set on a copy of a slice from a DataFrame.\n",
      "Try using .loc[row_indexer,col_indexer] = value instead\n",
      "\n",
      "See the caveats in the documentation: https://pandas.pydata.org/pandas-docs/stable/user_guide/indexing.html#returning-a-view-versus-a-copy\n",
      "  clusters['mt'] = [32 if i else 10 for i in clusters['id_longest_read'].isin(ids_mt)]\n"
     ]
    },
    {
     "data": {
      "text/html": [
       "<div>\n",
       "<style scoped>\n",
       "    .dataframe tbody tr th:only-of-type {\n",
       "        vertical-align: middle;\n",
       "    }\n",
       "\n",
       "    .dataframe tbody tr th {\n",
       "        vertical-align: top;\n",
       "    }\n",
       "\n",
       "    .dataframe thead th {\n",
       "        text-align: right;\n",
       "    }\n",
       "</style>\n",
       "<table border=\"1\" class=\"dataframe\">\n",
       "  <thead>\n",
       "    <tr style=\"text-align: right;\">\n",
       "      <th></th>\n",
       "      <th>coverage</th>\n",
       "      <th>repr_read_len</th>\n",
       "      <th>id_longest_read</th>\n",
       "      <th>id_cluster</th>\n",
       "      <th>transform</th>\n",
       "      <th>mt</th>\n",
       "    </tr>\n",
       "  </thead>\n",
       "  <tbody>\n",
       "    <tr>\n",
       "      <th>61</th>\n",
       "      <td>64</td>\n",
       "      <td>23182</td>\n",
       "      <td>SRR5892449.36605</td>\n",
       "      <td>62</td>\n",
       "      <td>6.000000</td>\n",
       "      <td>32</td>\n",
       "    </tr>\n",
       "    <tr>\n",
       "      <th>158</th>\n",
       "      <td>27</td>\n",
       "      <td>18686</td>\n",
       "      <td>SRR5892449.40814</td>\n",
       "      <td>159</td>\n",
       "      <td>4.754888</td>\n",
       "      <td>32</td>\n",
       "    </tr>\n",
       "    <tr>\n",
       "      <th>55</th>\n",
       "      <td>22</td>\n",
       "      <td>23806</td>\n",
       "      <td>SRR5892449.36136</td>\n",
       "      <td>56</td>\n",
       "      <td>4.459432</td>\n",
       "      <td>10</td>\n",
       "    </tr>\n",
       "    <tr>\n",
       "      <th>18</th>\n",
       "      <td>21</td>\n",
       "      <td>28093</td>\n",
       "      <td>SRR5892449.41054</td>\n",
       "      <td>19</td>\n",
       "      <td>4.392317</td>\n",
       "      <td>10</td>\n",
       "    </tr>\n",
       "  </tbody>\n",
       "</table>\n",
       "</div>"
      ],
      "text/plain": [
       "     coverage  repr_read_len   id_longest_read  id_cluster  transform  mt\n",
       "61         64          23182  SRR5892449.36605          62   6.000000  32\n",
       "158        27          18686  SRR5892449.40814         159   4.754888  32\n",
       "55         22          23806  SRR5892449.36136          56   4.459432  10\n",
       "18         21          28093  SRR5892449.41054          19   4.392317  10"
      ]
     },
     "execution_count": 11,
     "metadata": {},
     "output_type": "execute_result"
    }
   ],
   "source": [
    "## GROUND TRUTH \n",
    "## Get the real mt sequences\n",
    "with open('test/s_cervisae_CEN_PK113-7D/chrMT_reads_ids.txt','r') as handle_ids_mt:\n",
    "    ids_mt = handle_ids_mt.read().splitlines()\n",
    "    ids_mt = [i[:].strip() for i in ids_mt]\n",
    "clusters['mt'] = [32 if i else 10 for i in clusters['id_longest_read'].isin(ids_mt)]\n",
    "clusters"
   ]
  },
  {
   "cell_type": "markdown",
   "metadata": {},
   "source": [
    "# Oligo composition\n",
    "\n",
    "Once I've detected the clusters with higher coverage, which I expect includes mitochondria and contamination, whether nuclear or external, I have to purify these groups. To do this I will use the oligo composition as it is used during metagenomics binning.\n",
    "\n",
    "I will create clusters_list script to get the kmers. The kmer size will be 3 to solve two things: 1. Intrinsec error from Nanopore, 2 smaller set as possible (4**3 possible kmers). \n",
    "\n",
    "Finally, I will reduce dimensionality using PCA"
   ]
  },
  {
   "cell_type": "code",
   "execution_count": 12,
   "metadata": {},
   "outputs": [],
   "source": [
    "from src.utils import write_fasta\n",
    "#from src.kmer_cnt import get_kmer_profiles\n",
    "import utils_rs"
   ]
  },
  {
   "cell_type": "code",
   "execution_count": 13,
   "metadata": {},
   "outputs": [],
   "source": [
    "reads_file = f\"{wd}{prefix}_sample.sorted.fastq\"\n",
    "repr_reads = [i for i in clusters['id_longest_read']]"
   ]
  },
  {
   "cell_type": "code",
   "execution_count": 14,
   "metadata": {},
   "outputs": [],
   "source": [
    "# PYTHON VERSION\n",
    "# kmer_profiles_df = get_kmer_profiles (repr_reads, reads_file, 3)\n",
    "# kmer_profiles_df.head()"
   ]
  },
  {
   "cell_type": "code",
   "execution_count": 15,
   "metadata": {},
   "outputs": [
    {
     "data": {
      "text/html": [
       "<div>\n",
       "<style scoped>\n",
       "    .dataframe tbody tr th:only-of-type {\n",
       "        vertical-align: middle;\n",
       "    }\n",
       "\n",
       "    .dataframe tbody tr th {\n",
       "        vertical-align: top;\n",
       "    }\n",
       "\n",
       "    .dataframe thead th {\n",
       "        text-align: right;\n",
       "    }\n",
       "</style>\n",
       "<table border=\"1\" class=\"dataframe\">\n",
       "  <thead>\n",
       "    <tr style=\"text-align: right;\">\n",
       "      <th></th>\n",
       "      <th>0</th>\n",
       "      <th>1</th>\n",
       "      <th>2</th>\n",
       "      <th>3</th>\n",
       "      <th>4</th>\n",
       "      <th>5</th>\n",
       "      <th>6</th>\n",
       "      <th>7</th>\n",
       "      <th>8</th>\n",
       "      <th>9</th>\n",
       "      <th>...</th>\n",
       "      <th>23</th>\n",
       "      <th>24</th>\n",
       "      <th>25</th>\n",
       "      <th>26</th>\n",
       "      <th>27</th>\n",
       "      <th>28</th>\n",
       "      <th>29</th>\n",
       "      <th>30</th>\n",
       "      <th>31</th>\n",
       "      <th>ids</th>\n",
       "    </tr>\n",
       "  </thead>\n",
       "  <tbody>\n",
       "    <tr>\n",
       "      <th>0</th>\n",
       "      <td>0.070836</td>\n",
       "      <td>0.054782</td>\n",
       "      <td>0.035204</td>\n",
       "      <td>0.047699</td>\n",
       "      <td>0.040046</td>\n",
       "      <td>0.035560</td>\n",
       "      <td>0.036522</td>\n",
       "      <td>0.033318</td>\n",
       "      <td>0.027124</td>\n",
       "      <td>0.025487</td>\n",
       "      <td>...</td>\n",
       "      <td>0.012174</td>\n",
       "      <td>0.020966</td>\n",
       "      <td>0.011782</td>\n",
       "      <td>0.050333</td>\n",
       "      <td>0.022888</td>\n",
       "      <td>0.026341</td>\n",
       "      <td>0.026199</td>\n",
       "      <td>0.018510</td>\n",
       "      <td>0.024704</td>\n",
       "      <td>SRR5892449.41054</td>\n",
       "    </tr>\n",
       "    <tr>\n",
       "      <th>1</th>\n",
       "      <td>0.071327</td>\n",
       "      <td>0.059859</td>\n",
       "      <td>0.039276</td>\n",
       "      <td>0.042846</td>\n",
       "      <td>0.045997</td>\n",
       "      <td>0.035201</td>\n",
       "      <td>0.034025</td>\n",
       "      <td>0.034319</td>\n",
       "      <td>0.027766</td>\n",
       "      <td>0.027052</td>\n",
       "      <td>...</td>\n",
       "      <td>0.012770</td>\n",
       "      <td>0.020037</td>\n",
       "      <td>0.012308</td>\n",
       "      <td>0.048601</td>\n",
       "      <td>0.020205</td>\n",
       "      <td>0.024994</td>\n",
       "      <td>0.023439</td>\n",
       "      <td>0.016844</td>\n",
       "      <td>0.024028</td>\n",
       "      <td>SRR5892449.36136</td>\n",
       "    </tr>\n",
       "    <tr>\n",
       "      <th>2</th>\n",
       "      <td>0.107368</td>\n",
       "      <td>0.152748</td>\n",
       "      <td>0.020835</td>\n",
       "      <td>0.025019</td>\n",
       "      <td>0.196273</td>\n",
       "      <td>0.024502</td>\n",
       "      <td>0.026486</td>\n",
       "      <td>0.018937</td>\n",
       "      <td>0.017686</td>\n",
       "      <td>0.014537</td>\n",
       "      <td>...</td>\n",
       "      <td>0.006557</td>\n",
       "      <td>0.004357</td>\n",
       "      <td>0.002071</td>\n",
       "      <td>0.023596</td>\n",
       "      <td>0.006255</td>\n",
       "      <td>0.021784</td>\n",
       "      <td>0.007722</td>\n",
       "      <td>0.003624</td>\n",
       "      <td>0.011518</td>\n",
       "      <td>SRR5892449.36605</td>\n",
       "    </tr>\n",
       "    <tr>\n",
       "      <th>3</th>\n",
       "      <td>0.106978</td>\n",
       "      <td>0.154126</td>\n",
       "      <td>0.020604</td>\n",
       "      <td>0.023761</td>\n",
       "      <td>0.207267</td>\n",
       "      <td>0.022102</td>\n",
       "      <td>0.024403</td>\n",
       "      <td>0.017393</td>\n",
       "      <td>0.017393</td>\n",
       "      <td>0.014128</td>\n",
       "      <td>...</td>\n",
       "      <td>0.008295</td>\n",
       "      <td>0.004602</td>\n",
       "      <td>0.002515</td>\n",
       "      <td>0.022851</td>\n",
       "      <td>0.005726</td>\n",
       "      <td>0.020818</td>\n",
       "      <td>0.006208</td>\n",
       "      <td>0.004495</td>\n",
       "      <td>0.012576</td>\n",
       "      <td>SRR5892449.40814</td>\n",
       "    </tr>\n",
       "  </tbody>\n",
       "</table>\n",
       "<p>4 rows × 33 columns</p>\n",
       "</div>"
      ],
      "text/plain": [
       "          0         1         2         3         4         5         6  \\\n",
       "0  0.070836  0.054782  0.035204  0.047699  0.040046  0.035560  0.036522   \n",
       "1  0.071327  0.059859  0.039276  0.042846  0.045997  0.035201  0.034025   \n",
       "2  0.107368  0.152748  0.020835  0.025019  0.196273  0.024502  0.026486   \n",
       "3  0.106978  0.154126  0.020604  0.023761  0.207267  0.022102  0.024403   \n",
       "\n",
       "          7         8         9  ...        23        24        25        26  \\\n",
       "0  0.033318  0.027124  0.025487  ...  0.012174  0.020966  0.011782  0.050333   \n",
       "1  0.034319  0.027766  0.027052  ...  0.012770  0.020037  0.012308  0.048601   \n",
       "2  0.018937  0.017686  0.014537  ...  0.006557  0.004357  0.002071  0.023596   \n",
       "3  0.017393  0.017393  0.014128  ...  0.008295  0.004602  0.002515  0.022851   \n",
       "\n",
       "         27        28        29        30        31               ids  \n",
       "0  0.022888  0.026341  0.026199  0.018510  0.024704  SRR5892449.41054  \n",
       "1  0.020205  0.024994  0.023439  0.016844  0.024028  SRR5892449.36136  \n",
       "2  0.006255  0.021784  0.007722  0.003624  0.011518  SRR5892449.36605  \n",
       "3  0.005726  0.020818  0.006208  0.004495  0.012576  SRR5892449.40814  \n",
       "\n",
       "[4 rows x 33 columns]"
      ]
     },
     "execution_count": 15,
     "metadata": {},
     "output_type": "execute_result"
    }
   ],
   "source": [
    "# RUST VERSION\n",
    "hist = utils_rs.get_kmer_profiles(repr_reads, reads_file, 3)\n",
    "hist_df = pd.DataFrame(hist[0])\n",
    "hist_df['ids'] = hist[1]\n",
    "hist_df.head()\n",
    "hist_df.iloc[:, :-1]\n",
    "hist_df.head()"
   ]
  },
  {
   "cell_type": "markdown",
   "metadata": {},
   "source": [
    "# Dimensionality reduction with PCA and clustering with k-means "
   ]
  },
  {
   "cell_type": "code",
   "execution_count": 16,
   "metadata": {},
   "outputs": [],
   "source": [
    "from sklearn.decomposition import PCA\n",
    "from sklearn.cluster import KMeans"
   ]
  },
  {
   "cell_type": "code",
   "execution_count": 17,
   "metadata": {},
   "outputs": [
    {
     "data": {
      "text/html": [
       "<style>#sk-container-id-1 {color: black;}#sk-container-id-1 pre{padding: 0;}#sk-container-id-1 div.sk-toggleable {background-color: white;}#sk-container-id-1 label.sk-toggleable__label {cursor: pointer;display: block;width: 100%;margin-bottom: 0;padding: 0.3em;box-sizing: border-box;text-align: center;}#sk-container-id-1 label.sk-toggleable__label-arrow:before {content: \"▸\";float: left;margin-right: 0.25em;color: #696969;}#sk-container-id-1 label.sk-toggleable__label-arrow:hover:before {color: black;}#sk-container-id-1 div.sk-estimator:hover label.sk-toggleable__label-arrow:before {color: black;}#sk-container-id-1 div.sk-toggleable__content {max-height: 0;max-width: 0;overflow: hidden;text-align: left;background-color: #f0f8ff;}#sk-container-id-1 div.sk-toggleable__content pre {margin: 0.2em;color: black;border-radius: 0.25em;background-color: #f0f8ff;}#sk-container-id-1 input.sk-toggleable__control:checked~div.sk-toggleable__content {max-height: 200px;max-width: 100%;overflow: auto;}#sk-container-id-1 input.sk-toggleable__control:checked~label.sk-toggleable__label-arrow:before {content: \"▾\";}#sk-container-id-1 div.sk-estimator input.sk-toggleable__control:checked~label.sk-toggleable__label {background-color: #d4ebff;}#sk-container-id-1 div.sk-label input.sk-toggleable__control:checked~label.sk-toggleable__label {background-color: #d4ebff;}#sk-container-id-1 input.sk-hidden--visually {border: 0;clip: rect(1px 1px 1px 1px);clip: rect(1px, 1px, 1px, 1px);height: 1px;margin: -1px;overflow: hidden;padding: 0;position: absolute;width: 1px;}#sk-container-id-1 div.sk-estimator {font-family: monospace;background-color: #f0f8ff;border: 1px dotted black;border-radius: 0.25em;box-sizing: border-box;margin-bottom: 0.5em;}#sk-container-id-1 div.sk-estimator:hover {background-color: #d4ebff;}#sk-container-id-1 div.sk-parallel-item::after {content: \"\";width: 100%;border-bottom: 1px solid gray;flex-grow: 1;}#sk-container-id-1 div.sk-label:hover label.sk-toggleable__label {background-color: #d4ebff;}#sk-container-id-1 div.sk-serial::before {content: \"\";position: absolute;border-left: 1px solid gray;box-sizing: border-box;top: 0;bottom: 0;left: 50%;z-index: 0;}#sk-container-id-1 div.sk-serial {display: flex;flex-direction: column;align-items: center;background-color: white;padding-right: 0.2em;padding-left: 0.2em;position: relative;}#sk-container-id-1 div.sk-item {position: relative;z-index: 1;}#sk-container-id-1 div.sk-parallel {display: flex;align-items: stretch;justify-content: center;background-color: white;position: relative;}#sk-container-id-1 div.sk-item::before, #sk-container-id-1 div.sk-parallel-item::before {content: \"\";position: absolute;border-left: 1px solid gray;box-sizing: border-box;top: 0;bottom: 0;left: 50%;z-index: -1;}#sk-container-id-1 div.sk-parallel-item {display: flex;flex-direction: column;z-index: 1;position: relative;background-color: white;}#sk-container-id-1 div.sk-parallel-item:first-child::after {align-self: flex-end;width: 50%;}#sk-container-id-1 div.sk-parallel-item:last-child::after {align-self: flex-start;width: 50%;}#sk-container-id-1 div.sk-parallel-item:only-child::after {width: 0;}#sk-container-id-1 div.sk-dashed-wrapped {border: 1px dashed gray;margin: 0 0.4em 0.5em 0.4em;box-sizing: border-box;padding-bottom: 0.4em;background-color: white;}#sk-container-id-1 div.sk-label label {font-family: monospace;font-weight: bold;display: inline-block;line-height: 1.2em;}#sk-container-id-1 div.sk-label-container {text-align: center;}#sk-container-id-1 div.sk-container {/* jupyter's `normalize.less` sets `[hidden] { display: none; }` but bootstrap.min.css set `[hidden] { display: none !important; }` so we also need the `!important` here to be able to override the default hidden behavior on the sphinx rendered scikit-learn.org. See: https://github.com/scikit-learn/scikit-learn/issues/21755 */display: inline-block !important;position: relative;}#sk-container-id-1 div.sk-text-repr-fallback {display: none;}</style><div id=\"sk-container-id-1\" class=\"sk-top-container\"><div class=\"sk-text-repr-fallback\"><pre>PCA(n_components=2)</pre><b>In a Jupyter environment, please rerun this cell to show the HTML representation or trust the notebook. <br />On GitHub, the HTML representation is unable to render, please try loading this page with nbviewer.org.</b></div><div class=\"sk-container\" hidden><div class=\"sk-item\"><div class=\"sk-estimator sk-toggleable\"><input class=\"sk-toggleable__control sk-hidden--visually\" id=\"sk-estimator-id-1\" type=\"checkbox\" checked><label for=\"sk-estimator-id-1\" class=\"sk-toggleable__label sk-toggleable__label-arrow\">PCA</label><div class=\"sk-toggleable__content\"><pre>PCA(n_components=2)</pre></div></div></div></div></div>"
      ],
      "text/plain": [
       "PCA(n_components=2)"
      ]
     },
     "execution_count": 17,
     "metadata": {},
     "output_type": "execute_result"
    }
   ],
   "source": [
    "pca = PCA(n_components=2)\n",
    "pca.fit(hist_df.iloc[:,:-2])"
   ]
  },
  {
   "cell_type": "code",
   "execution_count": 18,
   "metadata": {},
   "outputs": [
    {
     "data": {
      "text/plain": [
       "array([1.87055618e-02, 1.68567873e-05])"
      ]
     },
     "execution_count": 18,
     "metadata": {},
     "output_type": "execute_result"
    }
   ],
   "source": [
    "## Components and variance explained \n",
    "pca.explained_variance_\n",
    "#pca.components_"
   ]
  },
  {
   "cell_type": "code",
   "execution_count": 19,
   "metadata": {},
   "outputs": [
    {
     "data": {
      "text/html": [
       "<div>\n",
       "<style scoped>\n",
       "    .dataframe tbody tr th:only-of-type {\n",
       "        vertical-align: middle;\n",
       "    }\n",
       "\n",
       "    .dataframe tbody tr th {\n",
       "        vertical-align: top;\n",
       "    }\n",
       "\n",
       "    .dataframe thead th {\n",
       "        text-align: right;\n",
       "    }\n",
       "</style>\n",
       "<table border=\"1\" class=\"dataframe\">\n",
       "  <thead>\n",
       "    <tr style=\"text-align: right;\">\n",
       "      <th></th>\n",
       "      <th>comp1</th>\n",
       "      <th>comp2</th>\n",
       "      <th>ids</th>\n",
       "      <th>coverage</th>\n",
       "      <th>repr_read_len</th>\n",
       "      <th>id_cluster</th>\n",
       "      <th>transform</th>\n",
       "      <th>mt</th>\n",
       "      <th>coverage_norm</th>\n",
       "    </tr>\n",
       "  </thead>\n",
       "  <tbody>\n",
       "    <tr>\n",
       "      <th>0</th>\n",
       "      <td>-0.123486</td>\n",
       "      <td>-0.004897</td>\n",
       "      <td>SRR5892449.41054</td>\n",
       "      <td>21</td>\n",
       "      <td>28093</td>\n",
       "      <td>19</td>\n",
       "      <td>4.392317</td>\n",
       "      <td>10</td>\n",
       "      <td>0.000748</td>\n",
       "    </tr>\n",
       "    <tr>\n",
       "      <th>1</th>\n",
       "      <td>-0.113152</td>\n",
       "      <td>0.005132</td>\n",
       "      <td>SRR5892449.36136</td>\n",
       "      <td>22</td>\n",
       "      <td>23806</td>\n",
       "      <td>56</td>\n",
       "      <td>4.459432</td>\n",
       "      <td>10</td>\n",
       "      <td>0.000924</td>\n",
       "    </tr>\n",
       "    <tr>\n",
       "      <th>2</th>\n",
       "      <td>0.112593</td>\n",
       "      <td>-0.000447</td>\n",
       "      <td>SRR5892449.36605</td>\n",
       "      <td>64</td>\n",
       "      <td>23182</td>\n",
       "      <td>62</td>\n",
       "      <td>6.000000</td>\n",
       "      <td>32</td>\n",
       "      <td>0.002761</td>\n",
       "    </tr>\n",
       "    <tr>\n",
       "      <th>3</th>\n",
       "      <td>0.124045</td>\n",
       "      <td>0.000212</td>\n",
       "      <td>SRR5892449.40814</td>\n",
       "      <td>27</td>\n",
       "      <td>18686</td>\n",
       "      <td>159</td>\n",
       "      <td>4.754888</td>\n",
       "      <td>32</td>\n",
       "      <td>0.001445</td>\n",
       "    </tr>\n",
       "  </tbody>\n",
       "</table>\n",
       "</div>"
      ],
      "text/plain": [
       "      comp1     comp2               ids  coverage  repr_read_len  id_cluster  \\\n",
       "0 -0.123486 -0.004897  SRR5892449.41054        21          28093          19   \n",
       "1 -0.113152  0.005132  SRR5892449.36136        22          23806          56   \n",
       "2  0.112593 -0.000447  SRR5892449.36605        64          23182          62   \n",
       "3  0.124045  0.000212  SRR5892449.40814        27          18686         159   \n",
       "\n",
       "   transform  mt  coverage_norm  \n",
       "0   4.392317  10       0.000748  \n",
       "1   4.459432  10       0.000924  \n",
       "2   6.000000  32       0.002761  \n",
       "3   4.754888  32       0.001445  "
      ]
     },
     "execution_count": 19,
     "metadata": {},
     "output_type": "execute_result"
    }
   ],
   "source": [
    "kmer_reduction = pca.fit_transform(hist_df.iloc[:,:-2])\n",
    "kmer_reduction = pd.DataFrame(kmer_reduction, columns=['comp1', 'comp2'])\n",
    "\n",
    "## merging the dataframe with ids and other relevant information\n",
    "kmer_reduction ['ids'] = hist_df['ids']\n",
    "kmer_reduction = kmer_reduction.merge(clusters, how='left', left_on='ids', right_on='id_longest_read')\n",
    "kmer_reduction.drop(columns='id_longest_read', inplace=True)\n",
    "\n",
    "## Annotate which reads are mitochondrial\n",
    "kmer_reduction['coverage_norm'] = kmer_reduction['coverage'] / kmer_reduction['repr_read_len']\n",
    "kmer_reduction.head()"
   ]
  },
  {
   "cell_type": "code",
   "execution_count": 20,
   "metadata": {},
   "outputs": [
    {
     "name": "stderr",
     "output_type": "stream",
     "text": [
      "No artists with labels found to put in legend.  Note that artists whose label start with an underscore are ignored when legend() is called with no argument.\n"
     ]
    },
    {
     "data": {
      "text/plain": [
       "Text(0, 0.5, 'comp2')"
      ]
     },
     "execution_count": 20,
     "metadata": {},
     "output_type": "execute_result"
    },
    {
     "data": {
      "image/png": "[encoded data removed]",
      "text/plain": [
       "<Figure size 640x480 with 2 Axes>"
      ]
     },
     "metadata": {},
     "output_type": "display_data"
    }
   ],
   "source": [
    "sc = plt.scatter(kmer_reduction['comp1'],kmer_reduction['comp2'], c=kmer_reduction['coverage_norm'], s=kmer_reduction['mt'])\n",
    "# legend\n",
    "# Add clusters_list colorbar\n",
    "cbar = plt.colorbar(sc)\n",
    "cbar.set_label('Color Scale')\n",
    "plt.legend()\n",
    "plt.xlabel('comp1')\n",
    "plt.ylabel('comp2')"
   ]
  },
  {
   "cell_type": "code",
   "execution_count": 21,
   "metadata": {},
   "outputs": [
    {
     "name": "stdout",
     "output_type": "stream",
     "text": [
      "Initialization complete\n",
      "Iteration 0, inertia 3.451747519625577e-07.\n",
      "Iteration 1, inertia 2.1052247582438732e-07.\n",
      "Converged at iteration 1: strict convergence.\n"
     ]
    }
   ],
   "source": [
    "kmeans = KMeans(n_clusters=2, max_iter=100, init='k-means++', random_state=0, n_init=1,verbose=1)\n",
    "mt_prediction = kmeans.fit_predict(kmer_reduction[['comp1','comp2']], sample_weight=kmer_reduction['coverage_norm'])\n",
    "kmer_reduction['cluster_prediction'] = mt_prediction"
   ]
  },
  {
   "cell_type": "code",
   "execution_count": 22,
   "metadata": {},
   "outputs": [
    {
     "data": {
      "text/plain": [
       "Text(0, 0.5, 'comp2')"
      ]
     },
     "execution_count": 22,
     "metadata": {},
     "output_type": "execute_result"
    },
    {
     "data": {
      "image/png": "[encoded data removed]",
      "text/plain": [
       "<Figure size 640x480 with 1 Axes>"
      ]
     },
     "metadata": {},
     "output_type": "display_data"
    }
   ],
   "source": [
    "plt.scatter(x=kmer_reduction['comp1'], y=kmer_reduction['comp2'], c=mt_prediction, s=kmer_reduction['mt'])\n",
    "plt.xlabel('comp1')\n",
    "plt.ylabel('comp2')"
   ]
  },
  {
   "cell_type": "markdown",
   "metadata": {},
   "source": [
    "# Get the cluster of interest\n",
    "\n",
    "This step is clusters_list pain in the ass, but since I am looking to keep the free-reference. "
   ]
  },
  {
   "cell_type": "code",
   "execution_count": 23,
   "metadata": {},
   "outputs": [
    {
     "name": "stderr",
     "output_type": "stream",
     "text": [
      "/var/folders/20/bjqv2gj50z7dx4ksyh4y8b800000gn/T/ipykernel_38647/2001483469.py:3: SettingWithCopyWarning: \n",
      "A value is trying to be set on a copy of a slice from a DataFrame\n",
      "\n",
      "See the caveats in the documentation: https://pandas.pydata.org/pandas-docs/stable/user_guide/indexing.html#returning-a-view-versus-a-copy\n",
      "  selected_cluster.sort_values('coverage_norm', inplace=True, ascending=False)\n"
     ]
    },
    {
     "data": {
      "text/html": [
       "<div>\n",
       "<style scoped>\n",
       "    .dataframe tbody tr th:only-of-type {\n",
       "        vertical-align: middle;\n",
       "    }\n",
       "\n",
       "    .dataframe tbody tr th {\n",
       "        vertical-align: top;\n",
       "    }\n",
       "\n",
       "    .dataframe thead th {\n",
       "        text-align: right;\n",
       "    }\n",
       "</style>\n",
       "<table border=\"1\" class=\"dataframe\">\n",
       "  <thead>\n",
       "    <tr style=\"text-align: right;\">\n",
       "      <th></th>\n",
       "      <th>comp1</th>\n",
       "      <th>comp2</th>\n",
       "      <th>ids</th>\n",
       "      <th>coverage</th>\n",
       "      <th>repr_read_len</th>\n",
       "      <th>id_cluster</th>\n",
       "      <th>transform</th>\n",
       "      <th>mt</th>\n",
       "      <th>coverage_norm</th>\n",
       "      <th>cluster_prediction</th>\n",
       "    </tr>\n",
       "  </thead>\n",
       "  <tbody>\n",
       "    <tr>\n",
       "      <th>2</th>\n",
       "      <td>0.112593</td>\n",
       "      <td>-0.000447</td>\n",
       "      <td>SRR5892449.36605</td>\n",
       "      <td>64</td>\n",
       "      <td>23182</td>\n",
       "      <td>62</td>\n",
       "      <td>6.000000</td>\n",
       "      <td>32</td>\n",
       "      <td>0.002761</td>\n",
       "      <td>0</td>\n",
       "    </tr>\n",
       "    <tr>\n",
       "      <th>3</th>\n",
       "      <td>0.124045</td>\n",
       "      <td>0.000212</td>\n",
       "      <td>SRR5892449.40814</td>\n",
       "      <td>27</td>\n",
       "      <td>18686</td>\n",
       "      <td>159</td>\n",
       "      <td>4.754888</td>\n",
       "      <td>32</td>\n",
       "      <td>0.001445</td>\n",
       "      <td>0</td>\n",
       "    </tr>\n",
       "  </tbody>\n",
       "</table>\n",
       "</div>"
      ],
      "text/plain": [
       "      comp1     comp2               ids  coverage  repr_read_len  id_cluster  \\\n",
       "2  0.112593 -0.000447  SRR5892449.36605        64          23182          62   \n",
       "3  0.124045  0.000212  SRR5892449.40814        27          18686         159   \n",
       "\n",
       "   transform  mt  coverage_norm  cluster_prediction  \n",
       "2   6.000000  32       0.002761                   0  \n",
       "3   4.754888  32       0.001445                   0  "
      ]
     },
     "execution_count": 23,
     "metadata": {},
     "output_type": "execute_result"
    }
   ],
   "source": [
    "selected_cluster_id = kmer_reduction.loc[:, kmer_reduction.columns != 'ids'].groupby(by='cluster_prediction')['coverage_norm'].median().idxmax()\n",
    "selected_cluster = kmer_reduction[kmer_reduction['cluster_prediction'] == selected_cluster_id]\n",
    "selected_cluster.sort_values('coverage_norm', inplace=True, ascending=False)\n",
    "selected_cluster.head()"
   ]
  },
  {
   "cell_type": "code",
   "execution_count": 24,
   "metadata": {},
   "outputs": [
    {
     "name": "stdout",
     "output_type": "stream",
     "text": [
      "\n",
      "\n",
      " ---> Mitnanex retrieved 91 reads <---\n",
      "\n",
      "\n"
     ]
    }
   ],
   "source": [
    "sequences_ids = set()\n",
    "for i in selected_cluster['id_cluster']:\n",
    "    sequences_ids.update(clusters_list.get_cluster(i).id_sequences)\n",
    "write_fasta(reads_file=reads_file, sequences_ids=sequences_ids, output=f\"{wd}{prefix}_putative_mt_reads.fasta\")"
   ]
  }
 ],
 "metadata": {
  "kernelspec": {
   "display_name": "mitnanex",
   "language": "python",
   "name": "python3"
  },
  "language_info": {
   "codemirror_mode": {
    "name": "ipython",
    "version": 3
   },
   "file_extension": ".py",
   "mimetype": "text/x-python",
   "name": "python",
   "nbconvert_exporter": "python",
   "pygments_lexer": "ipython3",
   "version": "3.9.18"
  },
  "orig_nbformat": 4
 },
 "nbformat": 4,
 "nbformat_minor": 2
}

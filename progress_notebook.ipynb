{
 "cells": [
  {
   "cell_type": "code",
   "execution_count": 231,
   "metadata": {},
   "outputs": [],
   "source": [
    "from src.mitnanex import run\n",
    "import pandas as pd\n",
    "import matplotlib.pyplot as plt\n",
    "from sklearn.neighbors import KernelDensity"
   ]
  },
  {
   "cell_type": "code",
   "execution_count": 232,
   "metadata": {},
   "outputs": [],
   "source": [
    "\n",
    "clusters_list = run(\"test/homo_sapiens/mitnanex_results/homo_sapiens_containments.paf\", 0.5)\n",
    "\n",
    "# I need to plot the coverage of clusters\n",
    "coverages_df = pd.DataFrame(\n",
    "    {\n",
    "        \"coverage\": [i.coverage for i in clusters_list.clusters],\n",
    "        \"repr_read_len\": [i.longest_read_length for i in clusters_list.clusters],\n",
    "        \"id_longest_read\": [i.longest_read_id for i in clusters_list.clusters],\n",
    "        \"id_cluster\":[i.id_cluster for i in clusters_list.clusters],\n",
    "    }\n",
    ")"
   ]
  },
  {
   "cell_type": "code",
   "execution_count": 233,
   "metadata": {},
   "outputs": [
    {
     "data": {
      "text/html": [
       "<div>\n",
       "<style scoped>\n",
       "    .dataframe tbody tr th:only-of-type {\n",
       "        vertical-align: middle;\n",
       "    }\n",
       "\n",
       "    .dataframe tbody tr th {\n",
       "        vertical-align: top;\n",
       "    }\n",
       "\n",
       "    .dataframe thead th {\n",
       "        text-align: right;\n",
       "    }\n",
       "</style>\n",
       "<table border=\"1\" class=\"dataframe\">\n",
       "  <thead>\n",
       "    <tr style=\"text-align: right;\">\n",
       "      <th></th>\n",
       "      <th>coverage</th>\n",
       "      <th>repr_read_len</th>\n",
       "      <th>id_longest_read</th>\n",
       "      <th>id_cluster</th>\n",
       "    </tr>\n",
       "  </thead>\n",
       "  <tbody>\n",
       "    <tr>\n",
       "      <th>1</th>\n",
       "      <td>24</td>\n",
       "      <td>19871</td>\n",
       "      <td>SRR12564437.29390</td>\n",
       "      <td>2</td>\n",
       "    </tr>\n",
       "    <tr>\n",
       "      <th>19</th>\n",
       "      <td>15</td>\n",
       "      <td>18862</td>\n",
       "      <td>SRR12564437.55253</td>\n",
       "      <td>20</td>\n",
       "    </tr>\n",
       "    <tr>\n",
       "      <th>40</th>\n",
       "      <td>13</td>\n",
       "      <td>18185</td>\n",
       "      <td>SRR12564437.61570</td>\n",
       "      <td>41</td>\n",
       "    </tr>\n",
       "    <tr>\n",
       "      <th>34</th>\n",
       "      <td>8</td>\n",
       "      <td>18275</td>\n",
       "      <td>SRR12564437.17031</td>\n",
       "      <td>35</td>\n",
       "    </tr>\n",
       "    <tr>\n",
       "      <th>9</th>\n",
       "      <td>8</td>\n",
       "      <td>19473</td>\n",
       "      <td>SRR12564437.45694</td>\n",
       "      <td>10</td>\n",
       "    </tr>\n",
       "  </tbody>\n",
       "</table>\n",
       "</div>"
      ],
      "text/plain": [
       "    coverage  repr_read_len    id_longest_read  id_cluster\n",
       "1         24          19871  SRR12564437.29390           2\n",
       "19        15          18862  SRR12564437.55253          20\n",
       "40        13          18185  SRR12564437.61570          41\n",
       "34         8          18275  SRR12564437.17031          35\n",
       "9          8          19473  SRR12564437.45694          10"
      ]
     },
     "execution_count": 233,
     "metadata": {},
     "output_type": "execute_result"
    }
   ],
   "source": [
    "# Test on the first 30 clusters\n",
    "import math\n",
    "clusters = coverages_df.sort_values(by='coverage', ascending=False)\n",
    "clusters.head()"
   ]
  },
  {
   "cell_type": "markdown",
   "metadata": {},
   "source": [
    "# Coverage\n",
    "\n",
    "The first step is to filter the reads by coverage. For that I will explore the use of Kernel Density since this is clusters_list one dimensional clustering."
   ]
  },
  {
   "cell_type": "code",
   "execution_count": 234,
   "metadata": {},
   "outputs": [
    {
     "data": {
      "text/html": [
       "<div>\n",
       "<style scoped>\n",
       "    .dataframe tbody tr th:only-of-type {\n",
       "        vertical-align: middle;\n",
       "    }\n",
       "\n",
       "    .dataframe tbody tr th {\n",
       "        vertical-align: top;\n",
       "    }\n",
       "\n",
       "    .dataframe thead th {\n",
       "        text-align: right;\n",
       "    }\n",
       "</style>\n",
       "<table border=\"1\" class=\"dataframe\">\n",
       "  <thead>\n",
       "    <tr style=\"text-align: right;\">\n",
       "      <th></th>\n",
       "      <th>coverage</th>\n",
       "      <th>repr_read_len</th>\n",
       "      <th>id_longest_read</th>\n",
       "      <th>id_cluster</th>\n",
       "      <th>transform</th>\n",
       "    </tr>\n",
       "  </thead>\n",
       "  <tbody>\n",
       "    <tr>\n",
       "      <th>1</th>\n",
       "      <td>24</td>\n",
       "      <td>19871</td>\n",
       "      <td>SRR12564437.29390</td>\n",
       "      <td>2</td>\n",
       "      <td>4.584963</td>\n",
       "    </tr>\n",
       "    <tr>\n",
       "      <th>19</th>\n",
       "      <td>15</td>\n",
       "      <td>18862</td>\n",
       "      <td>SRR12564437.55253</td>\n",
       "      <td>20</td>\n",
       "      <td>3.906891</td>\n",
       "    </tr>\n",
       "    <tr>\n",
       "      <th>40</th>\n",
       "      <td>13</td>\n",
       "      <td>18185</td>\n",
       "      <td>SRR12564437.61570</td>\n",
       "      <td>41</td>\n",
       "      <td>3.700440</td>\n",
       "    </tr>\n",
       "    <tr>\n",
       "      <th>34</th>\n",
       "      <td>8</td>\n",
       "      <td>18275</td>\n",
       "      <td>SRR12564437.17031</td>\n",
       "      <td>35</td>\n",
       "      <td>3.000000</td>\n",
       "    </tr>\n",
       "    <tr>\n",
       "      <th>9</th>\n",
       "      <td>8</td>\n",
       "      <td>19473</td>\n",
       "      <td>SRR12564437.45694</td>\n",
       "      <td>10</td>\n",
       "      <td>3.000000</td>\n",
       "    </tr>\n",
       "    <tr>\n",
       "      <th>...</th>\n",
       "      <td>...</td>\n",
       "      <td>...</td>\n",
       "      <td>...</td>\n",
       "      <td>...</td>\n",
       "      <td>...</td>\n",
       "    </tr>\n",
       "    <tr>\n",
       "      <th>70</th>\n",
       "      <td>2</td>\n",
       "      <td>16466</td>\n",
       "      <td>SRR12564437.75622</td>\n",
       "      <td>71</td>\n",
       "      <td>1.000000</td>\n",
       "    </tr>\n",
       "    <tr>\n",
       "      <th>71</th>\n",
       "      <td>2</td>\n",
       "      <td>16456</td>\n",
       "      <td>SRR12564437.58987</td>\n",
       "      <td>72</td>\n",
       "      <td>1.000000</td>\n",
       "    </tr>\n",
       "    <tr>\n",
       "      <th>72</th>\n",
       "      <td>2</td>\n",
       "      <td>16453</td>\n",
       "      <td>SRR12564437.39220</td>\n",
       "      <td>73</td>\n",
       "      <td>1.000000</td>\n",
       "    </tr>\n",
       "    <tr>\n",
       "      <th>75</th>\n",
       "      <td>2</td>\n",
       "      <td>16403</td>\n",
       "      <td>SRR12564437.20729</td>\n",
       "      <td>76</td>\n",
       "      <td>1.000000</td>\n",
       "    </tr>\n",
       "    <tr>\n",
       "      <th>186</th>\n",
       "      <td>2</td>\n",
       "      <td>2214</td>\n",
       "      <td>SRR12564437.57872</td>\n",
       "      <td>187</td>\n",
       "      <td>1.000000</td>\n",
       "    </tr>\n",
       "  </tbody>\n",
       "</table>\n",
       "<p>187 rows × 5 columns</p>\n",
       "</div>"
      ],
      "text/plain": [
       "     coverage  repr_read_len    id_longest_read  id_cluster  transform\n",
       "1          24          19871  SRR12564437.29390           2   4.584963\n",
       "19         15          18862  SRR12564437.55253          20   3.906891\n",
       "40         13          18185  SRR12564437.61570          41   3.700440\n",
       "34          8          18275  SRR12564437.17031          35   3.000000\n",
       "9           8          19473  SRR12564437.45694          10   3.000000\n",
       "..        ...            ...                ...         ...        ...\n",
       "70          2          16466  SRR12564437.75622          71   1.000000\n",
       "71          2          16456  SRR12564437.58987          72   1.000000\n",
       "72          2          16453  SRR12564437.39220          73   1.000000\n",
       "75          2          16403  SRR12564437.20729          76   1.000000\n",
       "186         2           2214  SRR12564437.57872         187   1.000000\n",
       "\n",
       "[187 rows x 5 columns]"
      ]
     },
     "execution_count": 234,
     "metadata": {},
     "output_type": "execute_result"
    }
   ],
   "source": [
    "clusters['transform'] = [math.log2(i)for i in clusters['coverage']]\n",
    "clusters"
   ]
  },
  {
   "cell_type": "code",
   "execution_count": 235,
   "metadata": {},
   "outputs": [
    {
     "data": {
      "text/plain": [
       "<Axes: >"
      ]
     },
     "execution_count": 235,
     "metadata": {},
     "output_type": "execute_result"
    },
    {
     "data": {
      "image/png": "[encoded data removed]",
      "text/plain": [
       "<Figure size 640x480 with 1 Axes>"
      ]
     },
     "metadata": {},
     "output_type": "display_data"
    }
   ],
   "source": [
    "clusters['coverage'].hist(bins=50)"
   ]
  },
  {
   "cell_type": "code",
   "execution_count": 236,
   "metadata": {},
   "outputs": [
    {
     "data": {
      "text/plain": [
       "<matplotlib.collections.PathCollection at 0x156277790>"
      ]
     },
     "execution_count": 236,
     "metadata": {},
     "output_type": "execute_result"
    },
    {
     "data": {
      "image/png": "[encoded data removed]",
      "text/plain": [
       "<Figure size 640x480 with 1 Axes>"
      ]
     },
     "metadata": {},
     "output_type": "display_data"
    }
   ],
   "source": [
    "plt.scatter(x=clusters['transform'], y=clusters['coverage'])"
   ]
  },
  {
   "cell_type": "code",
   "execution_count": 237,
   "metadata": {},
   "outputs": [
    {
     "data": {
      "text/plain": [
       "[<matplotlib.lines.Line2D at 0x156701f70>]"
      ]
     },
     "execution_count": 237,
     "metadata": {},
     "output_type": "execute_result"
    },
    {
     "data": {
      "image/png": "[encoded data removed]",
      "text/plain": [
       "<Figure size 640x480 with 1 Axes>"
      ]
     },
     "metadata": {},
     "output_type": "display_data"
    }
   ],
   "source": [
    "kde = KernelDensity(kernel='gaussian', bandwidth=1).fit(clusters['coverage'].array.reshape(-1,1))\n",
    "cov_fdp = kde.score_samples(clusters['coverage'].array.reshape(-1,1))\n",
    "plt.plot(clusters['coverage'], cov_fdp)"
   ]
  },
  {
   "cell_type": "code",
   "execution_count": 238,
   "metadata": {},
   "outputs": [
    {
     "name": "stdout",
     "output_type": "stream",
     "text": [
      "Covertura minima admitida:  3\n"
     ]
    }
   ],
   "source": [
    "from scipy.signal import argrelextrema\n",
    "import numpy as np\n",
    "local_min = argrelextrema(cov_fdp, np.less)[0]\n",
    "if len(local_min) < 1:\n",
    "    min_coverage = 3\n",
    "else:\n",
    "    min_coverage = clusters.iloc[max(local_min),:]['coverage']\n",
    "print(\"Covertura minima admitida: \", min_coverage)"
   ]
  },
  {
   "cell_type": "code",
   "execution_count": 239,
   "metadata": {},
   "outputs": [
    {
     "name": "stdout",
     "output_type": "stream",
     "text": [
      "Minimum coverage:  13\n"
     ]
    },
    {
     "data": {
      "text/plain": [
       "13"
      ]
     },
     "execution_count": 239,
     "metadata": {},
     "output_type": "execute_result"
    }
   ],
   "source": [
    "## ALTERNATIVE TO CALCULATE MINIMUN COVERAGE.\n",
    "## I WILL LOOK FOR THE GREATES HOLE IN THE DATA, IF THERE IS JUST ONE POINT THEN I CHOOSE THE SECOND GREATEST GAP\n",
    "def min_cov (clusters):\n",
    "    cov_gaps = clusters.loc[:,'coverage'].diff(periods=-1).sort_values(ascending=False)\n",
    "    for k in cov_gaps.index:\n",
    "        clusters_filt_cov = clusters['coverage'] >= clusters.loc[k, 'coverage']\n",
    "        if sum(clusters_filt_cov) > 1 :\n",
    "            min_coverage=clusters.loc[k, 'coverage']\n",
    "            print(\"Minimum coverage: \", min_coverage)\n",
    "            return min_coverage\n",
    "min_cov(clusters)"
   ]
  },
  {
   "cell_type": "code",
   "execution_count": 240,
   "metadata": {},
   "outputs": [],
   "source": [
    "# FILTER BY COVERAGE\n",
    "clusters = clusters[clusters['coverage'] >= min_coverage]"
   ]
  },
  {
   "cell_type": "code",
   "execution_count": 241,
   "metadata": {},
   "outputs": [
    {
     "name": "stderr",
     "output_type": "stream",
     "text": [
      "/var/folders/20/bjqv2gj50z7dx4ksyh4y8b800000gn/T/ipykernel_34949/1279286421.py:6: SettingWithCopyWarning: \n",
      "A value is trying to be set on a copy of a slice from a DataFrame.\n",
      "Try using .loc[row_indexer,col_indexer] = value instead\n",
      "\n",
      "See the caveats in the documentation: https://pandas.pydata.org/pandas-docs/stable/user_guide/indexing.html#returning-a-view-versus-a-copy\n",
      "  clusters['mt'] = [32 if i else 10 for i in clusters['id_longest_read'].isin(ids_mt)]\n"
     ]
    },
    {
     "data": {
      "text/html": [
       "<div>\n",
       "<style scoped>\n",
       "    .dataframe tbody tr th:only-of-type {\n",
       "        vertical-align: middle;\n",
       "    }\n",
       "\n",
       "    .dataframe tbody tr th {\n",
       "        vertical-align: top;\n",
       "    }\n",
       "\n",
       "    .dataframe thead th {\n",
       "        text-align: right;\n",
       "    }\n",
       "</style>\n",
       "<table border=\"1\" class=\"dataframe\">\n",
       "  <thead>\n",
       "    <tr style=\"text-align: right;\">\n",
       "      <th></th>\n",
       "      <th>coverage</th>\n",
       "      <th>repr_read_len</th>\n",
       "      <th>id_longest_read</th>\n",
       "      <th>id_cluster</th>\n",
       "      <th>transform</th>\n",
       "      <th>mt</th>\n",
       "    </tr>\n",
       "  </thead>\n",
       "  <tbody>\n",
       "    <tr>\n",
       "      <th>1</th>\n",
       "      <td>24</td>\n",
       "      <td>19871</td>\n",
       "      <td>SRR12564437.29390</td>\n",
       "      <td>2</td>\n",
       "      <td>4.584963</td>\n",
       "      <td>10</td>\n",
       "    </tr>\n",
       "    <tr>\n",
       "      <th>19</th>\n",
       "      <td>15</td>\n",
       "      <td>18862</td>\n",
       "      <td>SRR12564437.55253</td>\n",
       "      <td>20</td>\n",
       "      <td>3.906891</td>\n",
       "      <td>10</td>\n",
       "    </tr>\n",
       "    <tr>\n",
       "      <th>40</th>\n",
       "      <td>13</td>\n",
       "      <td>18185</td>\n",
       "      <td>SRR12564437.61570</td>\n",
       "      <td>41</td>\n",
       "      <td>3.700440</td>\n",
       "      <td>10</td>\n",
       "    </tr>\n",
       "    <tr>\n",
       "      <th>34</th>\n",
       "      <td>8</td>\n",
       "      <td>18275</td>\n",
       "      <td>SRR12564437.17031</td>\n",
       "      <td>35</td>\n",
       "      <td>3.000000</td>\n",
       "      <td>10</td>\n",
       "    </tr>\n",
       "    <tr>\n",
       "      <th>9</th>\n",
       "      <td>8</td>\n",
       "      <td>19473</td>\n",
       "      <td>SRR12564437.45694</td>\n",
       "      <td>10</td>\n",
       "      <td>3.000000</td>\n",
       "      <td>10</td>\n",
       "    </tr>\n",
       "    <tr>\n",
       "      <th>99</th>\n",
       "      <td>6</td>\n",
       "      <td>15375</td>\n",
       "      <td>SRR12564437.45238</td>\n",
       "      <td>100</td>\n",
       "      <td>2.584963</td>\n",
       "      <td>10</td>\n",
       "    </tr>\n",
       "    <tr>\n",
       "      <th>22</th>\n",
       "      <td>6</td>\n",
       "      <td>18687</td>\n",
       "      <td>SRR12564437.36442</td>\n",
       "      <td>23</td>\n",
       "      <td>2.584963</td>\n",
       "      <td>10</td>\n",
       "    </tr>\n",
       "    <tr>\n",
       "      <th>102</th>\n",
       "      <td>6</td>\n",
       "      <td>15089</td>\n",
       "      <td>SRR12564437.15874</td>\n",
       "      <td>103</td>\n",
       "      <td>2.584963</td>\n",
       "      <td>10</td>\n",
       "    </tr>\n",
       "    <tr>\n",
       "      <th>63</th>\n",
       "      <td>5</td>\n",
       "      <td>16883</td>\n",
       "      <td>SRR12564437.33359</td>\n",
       "      <td>64</td>\n",
       "      <td>2.321928</td>\n",
       "      <td>32</td>\n",
       "    </tr>\n",
       "    <tr>\n",
       "      <th>112</th>\n",
       "      <td>5</td>\n",
       "      <td>14064</td>\n",
       "      <td>SRR12564437.35788</td>\n",
       "      <td>113</td>\n",
       "      <td>2.321928</td>\n",
       "      <td>10</td>\n",
       "    </tr>\n",
       "    <tr>\n",
       "      <th>7</th>\n",
       "      <td>4</td>\n",
       "      <td>19627</td>\n",
       "      <td>SRR12564437.64807</td>\n",
       "      <td>8</td>\n",
       "      <td>2.000000</td>\n",
       "      <td>10</td>\n",
       "    </tr>\n",
       "    <tr>\n",
       "      <th>73</th>\n",
       "      <td>4</td>\n",
       "      <td>16446</td>\n",
       "      <td>SRR12564437.74799</td>\n",
       "      <td>74</td>\n",
       "      <td>2.000000</td>\n",
       "      <td>10</td>\n",
       "    </tr>\n",
       "    <tr>\n",
       "      <th>92</th>\n",
       "      <td>4</td>\n",
       "      <td>15972</td>\n",
       "      <td>SRR12564437.49933</td>\n",
       "      <td>93</td>\n",
       "      <td>2.000000</td>\n",
       "      <td>10</td>\n",
       "    </tr>\n",
       "    <tr>\n",
       "      <th>18</th>\n",
       "      <td>4</td>\n",
       "      <td>18906</td>\n",
       "      <td>SRR12564437.23043</td>\n",
       "      <td>19</td>\n",
       "      <td>2.000000</td>\n",
       "      <td>10</td>\n",
       "    </tr>\n",
       "    <tr>\n",
       "      <th>3</th>\n",
       "      <td>4</td>\n",
       "      <td>19807</td>\n",
       "      <td>SRR12564437.19187</td>\n",
       "      <td>4</td>\n",
       "      <td>2.000000</td>\n",
       "      <td>10</td>\n",
       "    </tr>\n",
       "    <tr>\n",
       "      <th>45</th>\n",
       "      <td>3</td>\n",
       "      <td>17799</td>\n",
       "      <td>SRR12564437.44424</td>\n",
       "      <td>46</td>\n",
       "      <td>1.584963</td>\n",
       "      <td>10</td>\n",
       "    </tr>\n",
       "    <tr>\n",
       "      <th>41</th>\n",
       "      <td>3</td>\n",
       "      <td>17991</td>\n",
       "      <td>SRR12564437.74410</td>\n",
       "      <td>42</td>\n",
       "      <td>1.584963</td>\n",
       "      <td>10</td>\n",
       "    </tr>\n",
       "    <tr>\n",
       "      <th>125</th>\n",
       "      <td>3</td>\n",
       "      <td>14947</td>\n",
       "      <td>SRR12564437.12941</td>\n",
       "      <td>126</td>\n",
       "      <td>1.584963</td>\n",
       "      <td>10</td>\n",
       "    </tr>\n",
       "    <tr>\n",
       "      <th>143</th>\n",
       "      <td>3</td>\n",
       "      <td>10644</td>\n",
       "      <td>SRR12564437.45999</td>\n",
       "      <td>144</td>\n",
       "      <td>1.584963</td>\n",
       "      <td>10</td>\n",
       "    </tr>\n",
       "    <tr>\n",
       "      <th>74</th>\n",
       "      <td>3</td>\n",
       "      <td>16404</td>\n",
       "      <td>SRR12564437.17272</td>\n",
       "      <td>75</td>\n",
       "      <td>1.584963</td>\n",
       "      <td>10</td>\n",
       "    </tr>\n",
       "    <tr>\n",
       "      <th>77</th>\n",
       "      <td>3</td>\n",
       "      <td>16393</td>\n",
       "      <td>SRR12564437.51245</td>\n",
       "      <td>78</td>\n",
       "      <td>1.584963</td>\n",
       "      <td>32</td>\n",
       "    </tr>\n",
       "    <tr>\n",
       "      <th>32</th>\n",
       "      <td>3</td>\n",
       "      <td>18414</td>\n",
       "      <td>SRR12564437.17326</td>\n",
       "      <td>33</td>\n",
       "      <td>1.584963</td>\n",
       "      <td>10</td>\n",
       "    </tr>\n",
       "    <tr>\n",
       "      <th>52</th>\n",
       "      <td>3</td>\n",
       "      <td>17413</td>\n",
       "      <td>SRR12564437.26332</td>\n",
       "      <td>53</td>\n",
       "      <td>1.584963</td>\n",
       "      <td>10</td>\n",
       "    </tr>\n",
       "    <tr>\n",
       "      <th>59</th>\n",
       "      <td>3</td>\n",
       "      <td>17069</td>\n",
       "      <td>SRR12564437.39426</td>\n",
       "      <td>60</td>\n",
       "      <td>1.584963</td>\n",
       "      <td>10</td>\n",
       "    </tr>\n",
       "    <tr>\n",
       "      <th>109</th>\n",
       "      <td>3</td>\n",
       "      <td>14485</td>\n",
       "      <td>SRR12564437.60116</td>\n",
       "      <td>110</td>\n",
       "      <td>1.584963</td>\n",
       "      <td>10</td>\n",
       "    </tr>\n",
       "    <tr>\n",
       "      <th>115</th>\n",
       "      <td>3</td>\n",
       "      <td>13785</td>\n",
       "      <td>SRR12564437.20843</td>\n",
       "      <td>116</td>\n",
       "      <td>1.584963</td>\n",
       "      <td>10</td>\n",
       "    </tr>\n",
       "    <tr>\n",
       "      <th>101</th>\n",
       "      <td>3</td>\n",
       "      <td>15139</td>\n",
       "      <td>SRR12564437.72808</td>\n",
       "      <td>102</td>\n",
       "      <td>1.584963</td>\n",
       "      <td>10</td>\n",
       "    </tr>\n",
       "    <tr>\n",
       "      <th>111</th>\n",
       "      <td>3</td>\n",
       "      <td>14202</td>\n",
       "      <td>SRR12564437.70710</td>\n",
       "      <td>112</td>\n",
       "      <td>1.584963</td>\n",
       "      <td>10</td>\n",
       "    </tr>\n",
       "  </tbody>\n",
       "</table>\n",
       "</div>"
      ],
      "text/plain": [
       "     coverage  repr_read_len    id_longest_read  id_cluster  transform  mt\n",
       "1          24          19871  SRR12564437.29390           2   4.584963  10\n",
       "19         15          18862  SRR12564437.55253          20   3.906891  10\n",
       "40         13          18185  SRR12564437.61570          41   3.700440  10\n",
       "34          8          18275  SRR12564437.17031          35   3.000000  10\n",
       "9           8          19473  SRR12564437.45694          10   3.000000  10\n",
       "99          6          15375  SRR12564437.45238         100   2.584963  10\n",
       "22          6          18687  SRR12564437.36442          23   2.584963  10\n",
       "102         6          15089  SRR12564437.15874         103   2.584963  10\n",
       "63          5          16883  SRR12564437.33359          64   2.321928  32\n",
       "112         5          14064  SRR12564437.35788         113   2.321928  10\n",
       "7           4          19627  SRR12564437.64807           8   2.000000  10\n",
       "73          4          16446  SRR12564437.74799          74   2.000000  10\n",
       "92          4          15972  SRR12564437.49933          93   2.000000  10\n",
       "18          4          18906  SRR12564437.23043          19   2.000000  10\n",
       "3           4          19807  SRR12564437.19187           4   2.000000  10\n",
       "45          3          17799  SRR12564437.44424          46   1.584963  10\n",
       "41          3          17991  SRR12564437.74410          42   1.584963  10\n",
       "125         3          14947  SRR12564437.12941         126   1.584963  10\n",
       "143         3          10644  SRR12564437.45999         144   1.584963  10\n",
       "74          3          16404  SRR12564437.17272          75   1.584963  10\n",
       "77          3          16393  SRR12564437.51245          78   1.584963  32\n",
       "32          3          18414  SRR12564437.17326          33   1.584963  10\n",
       "52          3          17413  SRR12564437.26332          53   1.584963  10\n",
       "59          3          17069  SRR12564437.39426          60   1.584963  10\n",
       "109         3          14485  SRR12564437.60116         110   1.584963  10\n",
       "115         3          13785  SRR12564437.20843         116   1.584963  10\n",
       "101         3          15139  SRR12564437.72808         102   1.584963  10\n",
       "111         3          14202  SRR12564437.70710         112   1.584963  10"
      ]
     },
     "execution_count": 241,
     "metadata": {},
     "output_type": "execute_result"
    }
   ],
   "source": [
    "## GROUND TRUTH \n",
    "## Get the real mt sequences\n",
    "with open('test/homo_sapiens/chrMT_reads_ids.txt','r') as handle_ids_mt:\n",
    "    ids_mt = handle_ids_mt.read().splitlines()\n",
    "    ids_mt = [i[:].strip() for i in ids_mt]\n",
    "clusters['mt'] = [32 if i else 10 for i in clusters['id_longest_read'].isin(ids_mt)]\n",
    "clusters"
   ]
  },
  {
   "cell_type": "markdown",
   "metadata": {},
   "source": [
    "# Oligo composition\n",
    "\n",
    "Once I've detected the clusters with higher coverage, which I expect includes mitochondria and contamination, whether nuclear or external, I have to purify these groups. To do this I will use the oligo composition as it is used during metagenomics binning.\n",
    "\n",
    "I will create clusters_list script to get the kmers. The kmer size will be 3 to solve two things: 1. Intrinsec error from Nanopore, 2 smaller set as possible (4**3 possible kmers). \n",
    "\n",
    "Finally, I will reduce dimensionality using PCA"
   ]
  },
  {
   "cell_type": "code",
   "execution_count": 242,
   "metadata": {},
   "outputs": [],
   "source": [
    "from src.utils import write_fasta\n",
    "#from src.kmer_cnt import get_kmer_profiles\n",
    "import utils_rs"
   ]
  },
  {
   "cell_type": "code",
   "execution_count": 243,
   "metadata": {},
   "outputs": [],
   "source": [
    "reads_file = 'test/homo_sapiens/mitnanex_results/homo_sapiens_sample.sorted.fastq'\n",
    "repr_reads = [i for i in clusters['id_longest_read']]"
   ]
  },
  {
   "cell_type": "code",
   "execution_count": 244,
   "metadata": {},
   "outputs": [],
   "source": [
    "# PYTHON VERSION\n",
    "# kmer_profiles_df = get_kmer_profiles (repr_reads, reads_file, 3)\n",
    "# kmer_profiles_df.head()"
   ]
  },
  {
   "cell_type": "code",
   "execution_count": 245,
   "metadata": {},
   "outputs": [
    {
     "data": {
      "text/html": [
       "<div>\n",
       "<style scoped>\n",
       "    .dataframe tbody tr th:only-of-type {\n",
       "        vertical-align: middle;\n",
       "    }\n",
       "\n",
       "    .dataframe tbody tr th {\n",
       "        vertical-align: top;\n",
       "    }\n",
       "\n",
       "    .dataframe thead th {\n",
       "        text-align: right;\n",
       "    }\n",
       "</style>\n",
       "<table border=\"1\" class=\"dataframe\">\n",
       "  <thead>\n",
       "    <tr style=\"text-align: right;\">\n",
       "      <th></th>\n",
       "      <th>0</th>\n",
       "      <th>1</th>\n",
       "      <th>2</th>\n",
       "      <th>3</th>\n",
       "      <th>4</th>\n",
       "      <th>5</th>\n",
       "      <th>6</th>\n",
       "      <th>7</th>\n",
       "      <th>8</th>\n",
       "      <th>9</th>\n",
       "      <th>...</th>\n",
       "      <th>23</th>\n",
       "      <th>24</th>\n",
       "      <th>25</th>\n",
       "      <th>26</th>\n",
       "      <th>27</th>\n",
       "      <th>28</th>\n",
       "      <th>29</th>\n",
       "      <th>30</th>\n",
       "      <th>31</th>\n",
       "      <th>ids</th>\n",
       "    </tr>\n",
       "  </thead>\n",
       "  <tbody>\n",
       "    <tr>\n",
       "      <th>0</th>\n",
       "      <td>0.075235</td>\n",
       "      <td>0.054250</td>\n",
       "      <td>0.031302</td>\n",
       "      <td>0.041015</td>\n",
       "      <td>0.044839</td>\n",
       "      <td>0.029289</td>\n",
       "      <td>0.042776</td>\n",
       "      <td>0.043028</td>\n",
       "      <td>0.030446</td>\n",
       "      <td>0.021942</td>\n",
       "      <td>...</td>\n",
       "      <td>0.003523</td>\n",
       "      <td>0.004328</td>\n",
       "      <td>0.003321</td>\n",
       "      <td>0.045946</td>\n",
       "      <td>0.019425</td>\n",
       "      <td>0.021891</td>\n",
       "      <td>0.029138</td>\n",
       "      <td>0.017966</td>\n",
       "      <td>0.031403</td>\n",
       "      <td>SRR12564437.29390</td>\n",
       "    </tr>\n",
       "    <tr>\n",
       "      <th>1</th>\n",
       "      <td>0.095976</td>\n",
       "      <td>0.065028</td>\n",
       "      <td>0.033221</td>\n",
       "      <td>0.042712</td>\n",
       "      <td>0.056192</td>\n",
       "      <td>0.026203</td>\n",
       "      <td>0.043116</td>\n",
       "      <td>0.039885</td>\n",
       "      <td>0.035038</td>\n",
       "      <td>0.019084</td>\n",
       "      <td>...</td>\n",
       "      <td>0.002878</td>\n",
       "      <td>0.003938</td>\n",
       "      <td>0.002474</td>\n",
       "      <td>0.048215</td>\n",
       "      <td>0.016307</td>\n",
       "      <td>0.026102</td>\n",
       "      <td>0.024284</td>\n",
       "      <td>0.013884</td>\n",
       "      <td>0.023123</td>\n",
       "      <td>SRR12564437.19187</td>\n",
       "    </tr>\n",
       "    <tr>\n",
       "      <th>2</th>\n",
       "      <td>0.095532</td>\n",
       "      <td>0.073317</td>\n",
       "      <td>0.032404</td>\n",
       "      <td>0.040505</td>\n",
       "      <td>0.064044</td>\n",
       "      <td>0.031691</td>\n",
       "      <td>0.041983</td>\n",
       "      <td>0.042136</td>\n",
       "      <td>0.033933</td>\n",
       "      <td>0.017934</td>\n",
       "      <td>...</td>\n",
       "      <td>0.001834</td>\n",
       "      <td>0.003719</td>\n",
       "      <td>0.001987</td>\n",
       "      <td>0.044734</td>\n",
       "      <td>0.016406</td>\n",
       "      <td>0.026749</td>\n",
       "      <td>0.021705</td>\n",
       "      <td>0.011871</td>\n",
       "      <td>0.021756</td>\n",
       "      <td>SRR12564437.64807</td>\n",
       "    </tr>\n",
       "    <tr>\n",
       "      <th>3</th>\n",
       "      <td>0.091357</td>\n",
       "      <td>0.043753</td>\n",
       "      <td>0.045858</td>\n",
       "      <td>0.049967</td>\n",
       "      <td>0.041801</td>\n",
       "      <td>0.033636</td>\n",
       "      <td>0.033482</td>\n",
       "      <td>0.048272</td>\n",
       "      <td>0.034561</td>\n",
       "      <td>0.010990</td>\n",
       "      <td>...</td>\n",
       "      <td>0.005495</td>\n",
       "      <td>0.006008</td>\n",
       "      <td>0.005649</td>\n",
       "      <td>0.070148</td>\n",
       "      <td>0.010579</td>\n",
       "      <td>0.014173</td>\n",
       "      <td>0.026036</td>\n",
       "      <td>0.009295</td>\n",
       "      <td>0.033842</td>\n",
       "      <td>SRR12564437.45694</td>\n",
       "    </tr>\n",
       "    <tr>\n",
       "      <th>4</th>\n",
       "      <td>0.028880</td>\n",
       "      <td>0.129430</td>\n",
       "      <td>0.011954</td>\n",
       "      <td>0.011531</td>\n",
       "      <td>0.022480</td>\n",
       "      <td>0.101026</td>\n",
       "      <td>0.111393</td>\n",
       "      <td>0.010896</td>\n",
       "      <td>0.011901</td>\n",
       "      <td>0.007193</td>\n",
       "      <td>...</td>\n",
       "      <td>0.008093</td>\n",
       "      <td>0.056860</td>\n",
       "      <td>0.003703</td>\n",
       "      <td>0.103301</td>\n",
       "      <td>0.013223</td>\n",
       "      <td>0.004602</td>\n",
       "      <td>0.009732</td>\n",
       "      <td>0.000688</td>\n",
       "      <td>0.062626</td>\n",
       "      <td>SRR12564437.23043</td>\n",
       "    </tr>\n",
       "  </tbody>\n",
       "</table>\n",
       "<p>5 rows × 33 columns</p>\n",
       "</div>"
      ],
      "text/plain": [
       "          0         1         2         3         4         5         6  \\\n",
       "0  0.075235  0.054250  0.031302  0.041015  0.044839  0.029289  0.042776   \n",
       "1  0.095976  0.065028  0.033221  0.042712  0.056192  0.026203  0.043116   \n",
       "2  0.095532  0.073317  0.032404  0.040505  0.064044  0.031691  0.041983   \n",
       "3  0.091357  0.043753  0.045858  0.049967  0.041801  0.033636  0.033482   \n",
       "4  0.028880  0.129430  0.011954  0.011531  0.022480  0.101026  0.111393   \n",
       "\n",
       "          7         8         9  ...        23        24        25        26  \\\n",
       "0  0.043028  0.030446  0.021942  ...  0.003523  0.004328  0.003321  0.045946   \n",
       "1  0.039885  0.035038  0.019084  ...  0.002878  0.003938  0.002474  0.048215   \n",
       "2  0.042136  0.033933  0.017934  ...  0.001834  0.003719  0.001987  0.044734   \n",
       "3  0.048272  0.034561  0.010990  ...  0.005495  0.006008  0.005649  0.070148   \n",
       "4  0.010896  0.011901  0.007193  ...  0.008093  0.056860  0.003703  0.103301   \n",
       "\n",
       "         27        28        29        30        31                ids  \n",
       "0  0.019425  0.021891  0.029138  0.017966  0.031403  SRR12564437.29390  \n",
       "1  0.016307  0.026102  0.024284  0.013884  0.023123  SRR12564437.19187  \n",
       "2  0.016406  0.026749  0.021705  0.011871  0.021756  SRR12564437.64807  \n",
       "3  0.010579  0.014173  0.026036  0.009295  0.033842  SRR12564437.45694  \n",
       "4  0.013223  0.004602  0.009732  0.000688  0.062626  SRR12564437.23043  \n",
       "\n",
       "[5 rows x 33 columns]"
      ]
     },
     "execution_count": 245,
     "metadata": {},
     "output_type": "execute_result"
    }
   ],
   "source": [
    "# RUST VERSION\n",
    "hist = utils_rs.get_kmer_profiles(repr_reads, reads_file, 3)\n",
    "hist_df = pd.DataFrame(hist[0])\n",
    "hist_df['ids'] = hist[1]\n",
    "hist_df.head()\n",
    "hist_df.iloc[:, :-1]\n",
    "hist_df.head()"
   ]
  },
  {
   "cell_type": "markdown",
   "metadata": {},
   "source": [
    "# Dimensionality reduction with PCA and clustering with k-means "
   ]
  },
  {
   "cell_type": "code",
   "execution_count": 246,
   "metadata": {},
   "outputs": [],
   "source": [
    "from sklearn.decomposition import PCA\n",
    "from sklearn.cluster import KMeans"
   ]
  },
  {
   "cell_type": "code",
   "execution_count": 247,
   "metadata": {},
   "outputs": [
    {
     "data": {
      "text/html": [
       "<style>#sk-container-id-10 {color: black;}#sk-container-id-10 pre{padding: 0;}#sk-container-id-10 div.sk-toggleable {background-color: white;}#sk-container-id-10 label.sk-toggleable__label {cursor: pointer;display: block;width: 100%;margin-bottom: 0;padding: 0.3em;box-sizing: border-box;text-align: center;}#sk-container-id-10 label.sk-toggleable__label-arrow:before {content: \"▸\";float: left;margin-right: 0.25em;color: #696969;}#sk-container-id-10 label.sk-toggleable__label-arrow:hover:before {color: black;}#sk-container-id-10 div.sk-estimator:hover label.sk-toggleable__label-arrow:before {color: black;}#sk-container-id-10 div.sk-toggleable__content {max-height: 0;max-width: 0;overflow: hidden;text-align: left;background-color: #f0f8ff;}#sk-container-id-10 div.sk-toggleable__content pre {margin: 0.2em;color: black;border-radius: 0.25em;background-color: #f0f8ff;}#sk-container-id-10 input.sk-toggleable__control:checked~div.sk-toggleable__content {max-height: 200px;max-width: 100%;overflow: auto;}#sk-container-id-10 input.sk-toggleable__control:checked~label.sk-toggleable__label-arrow:before {content: \"▾\";}#sk-container-id-10 div.sk-estimator input.sk-toggleable__control:checked~label.sk-toggleable__label {background-color: #d4ebff;}#sk-container-id-10 div.sk-label input.sk-toggleable__control:checked~label.sk-toggleable__label {background-color: #d4ebff;}#sk-container-id-10 input.sk-hidden--visually {border: 0;clip: rect(1px 1px 1px 1px);clip: rect(1px, 1px, 1px, 1px);height: 1px;margin: -1px;overflow: hidden;padding: 0;position: absolute;width: 1px;}#sk-container-id-10 div.sk-estimator {font-family: monospace;background-color: #f0f8ff;border: 1px dotted black;border-radius: 0.25em;box-sizing: border-box;margin-bottom: 0.5em;}#sk-container-id-10 div.sk-estimator:hover {background-color: #d4ebff;}#sk-container-id-10 div.sk-parallel-item::after {content: \"\";width: 100%;border-bottom: 1px solid gray;flex-grow: 1;}#sk-container-id-10 div.sk-label:hover label.sk-toggleable__label {background-color: #d4ebff;}#sk-container-id-10 div.sk-serial::before {content: \"\";position: absolute;border-left: 1px solid gray;box-sizing: border-box;top: 0;bottom: 0;left: 50%;z-index: 0;}#sk-container-id-10 div.sk-serial {display: flex;flex-direction: column;align-items: center;background-color: white;padding-right: 0.2em;padding-left: 0.2em;position: relative;}#sk-container-id-10 div.sk-item {position: relative;z-index: 1;}#sk-container-id-10 div.sk-parallel {display: flex;align-items: stretch;justify-content: center;background-color: white;position: relative;}#sk-container-id-10 div.sk-item::before, #sk-container-id-10 div.sk-parallel-item::before {content: \"\";position: absolute;border-left: 1px solid gray;box-sizing: border-box;top: 0;bottom: 0;left: 50%;z-index: -1;}#sk-container-id-10 div.sk-parallel-item {display: flex;flex-direction: column;z-index: 1;position: relative;background-color: white;}#sk-container-id-10 div.sk-parallel-item:first-child::after {align-self: flex-end;width: 50%;}#sk-container-id-10 div.sk-parallel-item:last-child::after {align-self: flex-start;width: 50%;}#sk-container-id-10 div.sk-parallel-item:only-child::after {width: 0;}#sk-container-id-10 div.sk-dashed-wrapped {border: 1px dashed gray;margin: 0 0.4em 0.5em 0.4em;box-sizing: border-box;padding-bottom: 0.4em;background-color: white;}#sk-container-id-10 div.sk-label label {font-family: monospace;font-weight: bold;display: inline-block;line-height: 1.2em;}#sk-container-id-10 div.sk-label-container {text-align: center;}#sk-container-id-10 div.sk-container {/* jupyter's `normalize.less` sets `[hidden] { display: none; }` but bootstrap.min.css set `[hidden] { display: none !important; }` so we also need the `!important` here to be able to override the default hidden behavior on the sphinx rendered scikit-learn.org. See: https://github.com/scikit-learn/scikit-learn/issues/21755 */display: inline-block !important;position: relative;}#sk-container-id-10 div.sk-text-repr-fallback {display: none;}</style><div id=\"sk-container-id-10\" class=\"sk-top-container\"><div class=\"sk-text-repr-fallback\"><pre>PCA(n_components=2)</pre><b>In a Jupyter environment, please rerun this cell to show the HTML representation or trust the notebook. <br />On GitHub, the HTML representation is unable to render, please try loading this page with nbviewer.org.</b></div><div class=\"sk-container\" hidden><div class=\"sk-item\"><div class=\"sk-estimator sk-toggleable\"><input class=\"sk-toggleable__control sk-hidden--visually\" id=\"sk-estimator-id-10\" type=\"checkbox\" checked><label for=\"sk-estimator-id-10\" class=\"sk-toggleable__label sk-toggleable__label-arrow\">PCA</label><div class=\"sk-toggleable__content\"><pre>PCA(n_components=2)</pre></div></div></div></div></div>"
      ],
      "text/plain": [
       "PCA(n_components=2)"
      ]
     },
     "execution_count": 247,
     "metadata": {},
     "output_type": "execute_result"
    }
   ],
   "source": [
    "pca = PCA(n_components=2)\n",
    "pca.fit(hist_df.iloc[:,:-2])"
   ]
  },
  {
   "cell_type": "code",
   "execution_count": 248,
   "metadata": {},
   "outputs": [
    {
     "data": {
      "text/plain": [
       "array([0.00559182, 0.00290208])"
      ]
     },
     "execution_count": 248,
     "metadata": {},
     "output_type": "execute_result"
    }
   ],
   "source": [
    "## Components and variance explained \n",
    "pca.explained_variance_\n",
    "#pca.components_"
   ]
  },
  {
   "cell_type": "code",
   "execution_count": 249,
   "metadata": {},
   "outputs": [
    {
     "data": {
      "text/html": [
       "<div>\n",
       "<style scoped>\n",
       "    .dataframe tbody tr th:only-of-type {\n",
       "        vertical-align: middle;\n",
       "    }\n",
       "\n",
       "    .dataframe tbody tr th {\n",
       "        vertical-align: top;\n",
       "    }\n",
       "\n",
       "    .dataframe thead th {\n",
       "        text-align: right;\n",
       "    }\n",
       "</style>\n",
       "<table border=\"1\" class=\"dataframe\">\n",
       "  <thead>\n",
       "    <tr style=\"text-align: right;\">\n",
       "      <th></th>\n",
       "      <th>comp1</th>\n",
       "      <th>comp2</th>\n",
       "      <th>ids</th>\n",
       "      <th>coverage</th>\n",
       "      <th>repr_read_len</th>\n",
       "      <th>id_cluster</th>\n",
       "      <th>transform</th>\n",
       "      <th>mt</th>\n",
       "      <th>coverage_norm</th>\n",
       "    </tr>\n",
       "  </thead>\n",
       "  <tbody>\n",
       "    <tr>\n",
       "      <th>0</th>\n",
       "      <td>-0.026064</td>\n",
       "      <td>-0.005504</td>\n",
       "      <td>SRR12564437.29390</td>\n",
       "      <td>24</td>\n",
       "      <td>19871</td>\n",
       "      <td>2</td>\n",
       "      <td>4.584963</td>\n",
       "      <td>10</td>\n",
       "      <td>0.001208</td>\n",
       "    </tr>\n",
       "    <tr>\n",
       "      <th>1</th>\n",
       "      <td>-0.028628</td>\n",
       "      <td>0.011916</td>\n",
       "      <td>SRR12564437.19187</td>\n",
       "      <td>4</td>\n",
       "      <td>19807</td>\n",
       "      <td>4</td>\n",
       "      <td>2.000000</td>\n",
       "      <td>10</td>\n",
       "      <td>0.000202</td>\n",
       "    </tr>\n",
       "    <tr>\n",
       "      <th>2</th>\n",
       "      <td>-0.024475</td>\n",
       "      <td>0.023547</td>\n",
       "      <td>SRR12564437.64807</td>\n",
       "      <td>4</td>\n",
       "      <td>19627</td>\n",
       "      <td>8</td>\n",
       "      <td>2.000000</td>\n",
       "      <td>10</td>\n",
       "      <td>0.000204</td>\n",
       "    </tr>\n",
       "    <tr>\n",
       "      <th>3</th>\n",
       "      <td>-0.028464</td>\n",
       "      <td>-0.024897</td>\n",
       "      <td>SRR12564437.45694</td>\n",
       "      <td>8</td>\n",
       "      <td>19473</td>\n",
       "      <td>10</td>\n",
       "      <td>3.000000</td>\n",
       "      <td>10</td>\n",
       "      <td>0.000411</td>\n",
       "    </tr>\n",
       "    <tr>\n",
       "      <th>4</th>\n",
       "      <td>0.156083</td>\n",
       "      <td>0.005010</td>\n",
       "      <td>SRR12564437.23043</td>\n",
       "      <td>4</td>\n",
       "      <td>18906</td>\n",
       "      <td>19</td>\n",
       "      <td>2.000000</td>\n",
       "      <td>10</td>\n",
       "      <td>0.000212</td>\n",
       "    </tr>\n",
       "  </tbody>\n",
       "</table>\n",
       "</div>"
      ],
      "text/plain": [
       "      comp1     comp2                ids  coverage  repr_read_len  id_cluster  \\\n",
       "0 -0.026064 -0.005504  SRR12564437.29390        24          19871           2   \n",
       "1 -0.028628  0.011916  SRR12564437.19187         4          19807           4   \n",
       "2 -0.024475  0.023547  SRR12564437.64807         4          19627           8   \n",
       "3 -0.028464 -0.024897  SRR12564437.45694         8          19473          10   \n",
       "4  0.156083  0.005010  SRR12564437.23043         4          18906          19   \n",
       "\n",
       "   transform  mt  coverage_norm  \n",
       "0   4.584963  10       0.001208  \n",
       "1   2.000000  10       0.000202  \n",
       "2   2.000000  10       0.000204  \n",
       "3   3.000000  10       0.000411  \n",
       "4   2.000000  10       0.000212  "
      ]
     },
     "execution_count": 249,
     "metadata": {},
     "output_type": "execute_result"
    }
   ],
   "source": [
    "kmer_reduction = pca.fit_transform(hist_df.iloc[:,:-2])\n",
    "kmer_reduction = pd.DataFrame(kmer_reduction, columns=['comp1', 'comp2'])\n",
    "\n",
    "## merging the dataframe with ids and other relevant information\n",
    "kmer_reduction ['ids'] = hist_df['ids']\n",
    "kmer_reduction = kmer_reduction.merge(clusters, how='left', left_on='ids', right_on='id_longest_read')\n",
    "kmer_reduction.drop(columns='id_longest_read', inplace=True)\n",
    "\n",
    "## Annotate which reads are mitochondrial\n",
    "kmer_reduction['coverage_norm'] = kmer_reduction['coverage'] / kmer_reduction['repr_read_len']\n",
    "kmer_reduction.head()"
   ]
  },
  {
   "cell_type": "code",
   "execution_count": 250,
   "metadata": {},
   "outputs": [
    {
     "name": "stderr",
     "output_type": "stream",
     "text": [
      "No artists with labels found to put in legend.  Note that artists whose label start with an underscore are ignored when legend() is called with no argument.\n"
     ]
    },
    {
     "data": {
      "text/plain": [
       "Text(0, 0.5, 'comp2')"
      ]
     },
     "execution_count": 250,
     "metadata": {},
     "output_type": "execute_result"
    },
    {
     "data": {
      "image/png": "[encoded data removed]",
      "text/plain": [
       "<Figure size 640x480 with 2 Axes>"
      ]
     },
     "metadata": {},
     "output_type": "display_data"
    }
   ],
   "source": [
    "sc = plt.scatter(kmer_reduction['comp1'],kmer_reduction['comp2'], c=kmer_reduction['coverage_norm'], s=kmer_reduction['mt'])\n",
    "# legend\n",
    "# Add clusters_list colorbar\n",
    "cbar = plt.colorbar(sc)\n",
    "cbar.set_label('Color Scale')\n",
    "plt.legend()\n",
    "plt.xlabel('comp1')\n",
    "plt.ylabel('comp2')"
   ]
  },
  {
   "cell_type": "code",
   "execution_count": 251,
   "metadata": {},
   "outputs": [
    {
     "name": "stdout",
     "output_type": "stream",
     "text": [
      "Initialization complete\n",
      "Iteration 0, inertia 2.8441126104321817e-05.\n",
      "Iteration 1, inertia 2.6585562936472855e-05.\n",
      "Converged at iteration 1: strict convergence.\n"
     ]
    }
   ],
   "source": [
    "kmeans = KMeans(n_clusters=2, max_iter=100, init='k-means++', random_state=0, n_init=1,verbose=1)\n",
    "mt_prediction = kmeans.fit_predict(kmer_reduction[['comp1','comp2']], sample_weight=kmer_reduction['coverage_norm'])\n",
    "kmer_reduction['cluster_prediction'] = mt_prediction"
   ]
  },
  {
   "cell_type": "code",
   "execution_count": 252,
   "metadata": {},
   "outputs": [
    {
     "data": {
      "text/plain": [
       "Text(0, 0.5, 'comp2')"
      ]
     },
     "execution_count": 252,
     "metadata": {},
     "output_type": "execute_result"
    },
    {
     "data": {
      "image/png": "[encoded data removed]",
      "text/plain": [
       "<Figure size 640x480 with 1 Axes>"
      ]
     },
     "metadata": {},
     "output_type": "display_data"
    }
   ],
   "source": [
    "plt.scatter(x=kmer_reduction['comp1'], y=kmer_reduction['comp2'], c=mt_prediction, s=kmer_reduction['mt'])\n",
    "plt.xlabel('comp1')\n",
    "plt.ylabel('comp2')"
   ]
  },
  {
   "cell_type": "markdown",
   "metadata": {},
   "source": [
    "# Get the cluster of interest\n",
    "\n",
    "This step is clusters_list pain in the ass, but since I am looking to keep the free-reference. "
   ]
  },
  {
   "cell_type": "code",
   "execution_count": 253,
   "metadata": {},
   "outputs": [
    {
     "name": "stderr",
     "output_type": "stream",
     "text": [
      "/var/folders/20/bjqv2gj50z7dx4ksyh4y8b800000gn/T/ipykernel_34949/2001483469.py:3: SettingWithCopyWarning: \n",
      "A value is trying to be set on a copy of a slice from a DataFrame\n",
      "\n",
      "See the caveats in the documentation: https://pandas.pydata.org/pandas-docs/stable/user_guide/indexing.html#returning-a-view-versus-a-copy\n",
      "  selected_cluster.sort_values('coverage_norm', inplace=True, ascending=False)\n"
     ]
    },
    {
     "data": {
      "text/html": [
       "<div>\n",
       "<style scoped>\n",
       "    .dataframe tbody tr th:only-of-type {\n",
       "        vertical-align: middle;\n",
       "    }\n",
       "\n",
       "    .dataframe tbody tr th {\n",
       "        vertical-align: top;\n",
       "    }\n",
       "\n",
       "    .dataframe thead th {\n",
       "        text-align: right;\n",
       "    }\n",
       "</style>\n",
       "<table border=\"1\" class=\"dataframe\">\n",
       "  <thead>\n",
       "    <tr style=\"text-align: right;\">\n",
       "      <th></th>\n",
       "      <th>comp1</th>\n",
       "      <th>comp2</th>\n",
       "      <th>ids</th>\n",
       "      <th>coverage</th>\n",
       "      <th>repr_read_len</th>\n",
       "      <th>id_cluster</th>\n",
       "      <th>transform</th>\n",
       "      <th>mt</th>\n",
       "      <th>coverage_norm</th>\n",
       "      <th>cluster_prediction</th>\n",
       "    </tr>\n",
       "  </thead>\n",
       "  <tbody>\n",
       "    <tr>\n",
       "      <th>8</th>\n",
       "      <td>0.156194</td>\n",
       "      <td>0.002810</td>\n",
       "      <td>SRR12564437.17031</td>\n",
       "      <td>8</td>\n",
       "      <td>18275</td>\n",
       "      <td>35</td>\n",
       "      <td>3.000000</td>\n",
       "      <td>10</td>\n",
       "      <td>0.000438</td>\n",
       "      <td>1</td>\n",
       "    </tr>\n",
       "    <tr>\n",
       "      <th>25</th>\n",
       "      <td>0.155442</td>\n",
       "      <td>0.002664</td>\n",
       "      <td>SRR12564437.35788</td>\n",
       "      <td>5</td>\n",
       "      <td>14064</td>\n",
       "      <td>113</td>\n",
       "      <td>2.321928</td>\n",
       "      <td>10</td>\n",
       "      <td>0.000356</td>\n",
       "      <td>1</td>\n",
       "    </tr>\n",
       "    <tr>\n",
       "      <th>27</th>\n",
       "      <td>0.159564</td>\n",
       "      <td>0.007136</td>\n",
       "      <td>SRR12564437.45999</td>\n",
       "      <td>3</td>\n",
       "      <td>10644</td>\n",
       "      <td>144</td>\n",
       "      <td>1.584963</td>\n",
       "      <td>10</td>\n",
       "      <td>0.000282</td>\n",
       "      <td>1</td>\n",
       "    </tr>\n",
       "    <tr>\n",
       "      <th>4</th>\n",
       "      <td>0.156083</td>\n",
       "      <td>0.005010</td>\n",
       "      <td>SRR12564437.23043</td>\n",
       "      <td>4</td>\n",
       "      <td>18906</td>\n",
       "      <td>19</td>\n",
       "      <td>2.000000</td>\n",
       "      <td>10</td>\n",
       "      <td>0.000212</td>\n",
       "      <td>1</td>\n",
       "    </tr>\n",
       "    <tr>\n",
       "      <th>7</th>\n",
       "      <td>0.154178</td>\n",
       "      <td>0.001584</td>\n",
       "      <td>SRR12564437.17326</td>\n",
       "      <td>3</td>\n",
       "      <td>18414</td>\n",
       "      <td>33</td>\n",
       "      <td>1.584963</td>\n",
       "      <td>10</td>\n",
       "      <td>0.000163</td>\n",
       "      <td>1</td>\n",
       "    </tr>\n",
       "  </tbody>\n",
       "</table>\n",
       "</div>"
      ],
      "text/plain": [
       "       comp1     comp2                ids  coverage  repr_read_len  \\\n",
       "8   0.156194  0.002810  SRR12564437.17031         8          18275   \n",
       "25  0.155442  0.002664  SRR12564437.35788         5          14064   \n",
       "27  0.159564  0.007136  SRR12564437.45999         3          10644   \n",
       "4   0.156083  0.005010  SRR12564437.23043         4          18906   \n",
       "7   0.154178  0.001584  SRR12564437.17326         3          18414   \n",
       "\n",
       "    id_cluster  transform  mt  coverage_norm  cluster_prediction  \n",
       "8           35   3.000000  10       0.000438                   1  \n",
       "25         113   2.321928  10       0.000356                   1  \n",
       "27         144   1.584963  10       0.000282                   1  \n",
       "4           19   2.000000  10       0.000212                   1  \n",
       "7           33   1.584963  10       0.000163                   1  "
      ]
     },
     "execution_count": 253,
     "metadata": {},
     "output_type": "execute_result"
    }
   ],
   "source": [
    "selected_cluster_id = kmer_reduction.loc[:, kmer_reduction.columns != 'ids'].groupby(by='cluster_prediction')['coverage_norm'].median().idxmax()\n",
    "selected_cluster = kmer_reduction[kmer_reduction['cluster_prediction'] == selected_cluster_id]\n",
    "selected_cluster.sort_values('coverage_norm', inplace=True, ascending=False)\n",
    "selected_cluster.head()"
   ]
  },
  {
   "cell_type": "code",
   "execution_count": 254,
   "metadata": {},
   "outputs": [
    {
     "name": "stdout",
     "output_type": "stream",
     "text": [
      "-> 23 reads retrieved\n"
     ]
    }
   ],
   "source": [
    "sequences_ids = set()\n",
    "for i in selected_cluster['id_cluster']:\n",
    "    sequences_ids.update(clusters_list.get_cluster(i).id_sequences)\n",
    "write_fasta(reads_file=reads_file, sequences_ids=sequences_ids, output='test/homo_sapiens/mitnanex_results/homo_sapiens_putative_mt_reads.fasta')"
   ]
  }
 ],
 "metadata": {
  "kernelspec": {
   "display_name": "mitnanex",
   "language": "python",
   "name": "python3"
  },
  "language_info": {
   "codemirror_mode": {
    "name": "ipython",
    "version": 3
   },
   "file_extension": ".py",
   "mimetype": "text/x-python",
   "name": "python",
   "nbconvert_exporter": "python",
   "pygments_lexer": "ipython3",
   "version": "3.9.18"
  },
  "orig_nbformat": 4
 },
 "nbformat": 4,
 "nbformat_minor": 2
}

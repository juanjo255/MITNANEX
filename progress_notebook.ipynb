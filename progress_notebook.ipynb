{
 "cells": [
  {
   "cell_type": "code",
   "execution_count": 503,
   "metadata": {},
   "outputs": [],
   "source": [
    "from src.mitnanex import run\n",
    "import pandas as pd\n",
    "import matplotlib.pyplot as plt\n",
    "from sklearn.neighbors import KernelDensity"
   ]
  },
  {
   "cell_type": "code",
   "execution_count": 504,
   "metadata": {},
   "outputs": [],
   "source": [
    "prefix = 'all_talaro_porechop_18_07_2023'\n",
    "wd = 'test/talaro_santan/mitnanex_results/'\n",
    "\n",
    "clusters_list = run(f\"{wd}{prefix}_containments.paf\", 0.6)\n",
    "\n",
    "# I need to plot the coverage of clusters\n",
    "coverages_df = pd.DataFrame(\n",
    "    {\n",
    "        \"coverage\": [i.coverage for i in clusters_list.clusters],\n",
    "        \"repr_read_len\": [i.longest_read_length for i in clusters_list.clusters],\n",
    "        \"id_longest_read\": [i.longest_read_id for i in clusters_list.clusters],\n",
    "        \"id_cluster\":[i.id_cluster for i in clusters_list.clusters],\n",
    "    }\n",
    ")"
   ]
  },
  {
   "cell_type": "code",
   "execution_count": 505,
   "metadata": {},
   "outputs": [
    {
     "data": {
      "text/html": [
       "<div>\n",
       "<style scoped>\n",
       "    .dataframe tbody tr th:only-of-type {\n",
       "        vertical-align: middle;\n",
       "    }\n",
       "\n",
       "    .dataframe tbody tr th {\n",
       "        vertical-align: top;\n",
       "    }\n",
       "\n",
       "    .dataframe thead th {\n",
       "        text-align: right;\n",
       "    }\n",
       "</style>\n",
       "<table border=\"1\" class=\"dataframe\">\n",
       "  <thead>\n",
       "    <tr style=\"text-align: right;\">\n",
       "      <th></th>\n",
       "      <th>coverage</th>\n",
       "      <th>repr_read_len</th>\n",
       "      <th>id_longest_read</th>\n",
       "      <th>id_cluster</th>\n",
       "    </tr>\n",
       "  </thead>\n",
       "  <tbody>\n",
       "    <tr>\n",
       "      <th>18</th>\n",
       "      <td>959</td>\n",
       "      <td>19448</td>\n",
       "      <td>2a5d92c9-a665-47d6-83cf-52296c617f46</td>\n",
       "      <td>19</td>\n",
       "    </tr>\n",
       "    <tr>\n",
       "      <th>2</th>\n",
       "      <td>639</td>\n",
       "      <td>30009</td>\n",
       "      <td>31d41fce-9796-442d-ac9e-0e8951545241</td>\n",
       "      <td>3</td>\n",
       "    </tr>\n",
       "    <tr>\n",
       "      <th>122</th>\n",
       "      <td>134</td>\n",
       "      <td>9457</td>\n",
       "      <td>dfbfbae9-743e-4f87-bd19-100f1963cce5</td>\n",
       "      <td>123</td>\n",
       "    </tr>\n",
       "    <tr>\n",
       "      <th>57</th>\n",
       "      <td>96</td>\n",
       "      <td>12434</td>\n",
       "      <td>3235a8d2-b983-4b8e-846a-dda7b30d8a67</td>\n",
       "      <td>58</td>\n",
       "    </tr>\n",
       "    <tr>\n",
       "      <th>180</th>\n",
       "      <td>48</td>\n",
       "      <td>7710</td>\n",
       "      <td>b2d6e61b-cc5d-45f3-85d8-fb64e3330236</td>\n",
       "      <td>181</td>\n",
       "    </tr>\n",
       "  </tbody>\n",
       "</table>\n",
       "</div>"
      ],
      "text/plain": [
       "     coverage  repr_read_len                       id_longest_read  id_cluster\n",
       "18        959          19448  2a5d92c9-a665-47d6-83cf-52296c617f46          19\n",
       "2         639          30009  31d41fce-9796-442d-ac9e-0e8951545241           3\n",
       "122       134           9457  dfbfbae9-743e-4f87-bd19-100f1963cce5         123\n",
       "57         96          12434  3235a8d2-b983-4b8e-846a-dda7b30d8a67          58\n",
       "180        48           7710  b2d6e61b-cc5d-45f3-85d8-fb64e3330236         181"
      ]
     },
     "execution_count": 505,
     "metadata": {},
     "output_type": "execute_result"
    }
   ],
   "source": [
    "# Test on the first 30 clusters\n",
    "import math\n",
    "clusters = coverages_df.sort_values(by='coverage', ascending=False)\n",
    "clusters.head()"
   ]
  },
  {
   "cell_type": "markdown",
   "metadata": {},
   "source": [
    "# Coverage\n",
    "\n",
    "The first step is to filter the reads by coverage. For that I will explore the use of Kernel Density since this is clusters_list one dimensional clustering."
   ]
  },
  {
   "cell_type": "code",
   "execution_count": 506,
   "metadata": {},
   "outputs": [
    {
     "data": {
      "text/html": [
       "<div>\n",
       "<style scoped>\n",
       "    .dataframe tbody tr th:only-of-type {\n",
       "        vertical-align: middle;\n",
       "    }\n",
       "\n",
       "    .dataframe tbody tr th {\n",
       "        vertical-align: top;\n",
       "    }\n",
       "\n",
       "    .dataframe thead th {\n",
       "        text-align: right;\n",
       "    }\n",
       "</style>\n",
       "<table border=\"1\" class=\"dataframe\">\n",
       "  <thead>\n",
       "    <tr style=\"text-align: right;\">\n",
       "      <th></th>\n",
       "      <th>coverage</th>\n",
       "      <th>repr_read_len</th>\n",
       "      <th>id_longest_read</th>\n",
       "      <th>id_cluster</th>\n",
       "      <th>transform</th>\n",
       "    </tr>\n",
       "  </thead>\n",
       "  <tbody>\n",
       "    <tr>\n",
       "      <th>18</th>\n",
       "      <td>959</td>\n",
       "      <td>19448</td>\n",
       "      <td>2a5d92c9-a665-47d6-83cf-52296c617f46</td>\n",
       "      <td>19</td>\n",
       "      <td>9.905387</td>\n",
       "    </tr>\n",
       "    <tr>\n",
       "      <th>2</th>\n",
       "      <td>639</td>\n",
       "      <td>30009</td>\n",
       "      <td>31d41fce-9796-442d-ac9e-0e8951545241</td>\n",
       "      <td>3</td>\n",
       "      <td>9.319672</td>\n",
       "    </tr>\n",
       "    <tr>\n",
       "      <th>122</th>\n",
       "      <td>134</td>\n",
       "      <td>9457</td>\n",
       "      <td>dfbfbae9-743e-4f87-bd19-100f1963cce5</td>\n",
       "      <td>123</td>\n",
       "      <td>7.066089</td>\n",
       "    </tr>\n",
       "    <tr>\n",
       "      <th>57</th>\n",
       "      <td>96</td>\n",
       "      <td>12434</td>\n",
       "      <td>3235a8d2-b983-4b8e-846a-dda7b30d8a67</td>\n",
       "      <td>58</td>\n",
       "      <td>6.584963</td>\n",
       "    </tr>\n",
       "    <tr>\n",
       "      <th>180</th>\n",
       "      <td>48</td>\n",
       "      <td>7710</td>\n",
       "      <td>b2d6e61b-cc5d-45f3-85d8-fb64e3330236</td>\n",
       "      <td>181</td>\n",
       "      <td>5.584963</td>\n",
       "    </tr>\n",
       "    <tr>\n",
       "      <th>...</th>\n",
       "      <td>...</td>\n",
       "      <td>...</td>\n",
       "      <td>...</td>\n",
       "      <td>...</td>\n",
       "      <td>...</td>\n",
       "    </tr>\n",
       "    <tr>\n",
       "      <th>1628</th>\n",
       "      <td>2</td>\n",
       "      <td>1550</td>\n",
       "      <td>3298fe7f-6521-4e5f-b359-c0363c03734b</td>\n",
       "      <td>1629</td>\n",
       "      <td>1.000000</td>\n",
       "    </tr>\n",
       "    <tr>\n",
       "      <th>1627</th>\n",
       "      <td>2</td>\n",
       "      <td>1553</td>\n",
       "      <td>9ac69e5e-489c-4d4e-be36-a679b44d85a7</td>\n",
       "      <td>1628</td>\n",
       "      <td>1.000000</td>\n",
       "    </tr>\n",
       "    <tr>\n",
       "      <th>414</th>\n",
       "      <td>2</td>\n",
       "      <td>5171</td>\n",
       "      <td>5cc3a10c-cefd-4b18-bc63-b5a5eb84b87d</td>\n",
       "      <td>415</td>\n",
       "      <td>1.000000</td>\n",
       "    </tr>\n",
       "    <tr>\n",
       "      <th>1625</th>\n",
       "      <td>2</td>\n",
       "      <td>1555</td>\n",
       "      <td>f69862b7-d11d-43a6-b14f-3d37847483ee</td>\n",
       "      <td>1626</td>\n",
       "      <td>1.000000</td>\n",
       "    </tr>\n",
       "    <tr>\n",
       "      <th>3102</th>\n",
       "      <td>2</td>\n",
       "      <td>318</td>\n",
       "      <td>4fbd461b-3c80-4b90-b87f-0a3e332b7076</td>\n",
       "      <td>3103</td>\n",
       "      <td>1.000000</td>\n",
       "    </tr>\n",
       "  </tbody>\n",
       "</table>\n",
       "<p>3103 rows × 5 columns</p>\n",
       "</div>"
      ],
      "text/plain": [
       "      coverage  repr_read_len                       id_longest_read  \\\n",
       "18         959          19448  2a5d92c9-a665-47d6-83cf-52296c617f46   \n",
       "2          639          30009  31d41fce-9796-442d-ac9e-0e8951545241   \n",
       "122        134           9457  dfbfbae9-743e-4f87-bd19-100f1963cce5   \n",
       "57          96          12434  3235a8d2-b983-4b8e-846a-dda7b30d8a67   \n",
       "180         48           7710  b2d6e61b-cc5d-45f3-85d8-fb64e3330236   \n",
       "...        ...            ...                                   ...   \n",
       "1628         2           1550  3298fe7f-6521-4e5f-b359-c0363c03734b   \n",
       "1627         2           1553  9ac69e5e-489c-4d4e-be36-a679b44d85a7   \n",
       "414          2           5171  5cc3a10c-cefd-4b18-bc63-b5a5eb84b87d   \n",
       "1625         2           1555  f69862b7-d11d-43a6-b14f-3d37847483ee   \n",
       "3102         2            318  4fbd461b-3c80-4b90-b87f-0a3e332b7076   \n",
       "\n",
       "      id_cluster  transform  \n",
       "18            19   9.905387  \n",
       "2              3   9.319672  \n",
       "122          123   7.066089  \n",
       "57            58   6.584963  \n",
       "180          181   5.584963  \n",
       "...          ...        ...  \n",
       "1628        1629   1.000000  \n",
       "1627        1628   1.000000  \n",
       "414          415   1.000000  \n",
       "1625        1626   1.000000  \n",
       "3102        3103   1.000000  \n",
       "\n",
       "[3103 rows x 5 columns]"
      ]
     },
     "execution_count": 506,
     "metadata": {},
     "output_type": "execute_result"
    }
   ],
   "source": [
    "clusters['transform'] = [math.log2(i)for i in clusters['coverage']]\n",
    "clusters"
   ]
  },
  {
   "cell_type": "code",
   "execution_count": 507,
   "metadata": {},
   "outputs": [
    {
     "data": {
      "text/plain": [
       "<Axes: >"
      ]
     },
     "execution_count": 507,
     "metadata": {},
     "output_type": "execute_result"
    },
    {
     "data": {
      "image/png": "[encoded data removed]",
      "text/plain": [
       "<Figure size 640x480 with 1 Axes>"
      ]
     },
     "metadata": {},
     "output_type": "display_data"
    }
   ],
   "source": [
    "clusters['coverage'].hist(bins=50)"
   ]
  },
  {
   "cell_type": "code",
   "execution_count": 508,
   "metadata": {},
   "outputs": [
    {
     "data": {
      "text/plain": [
       "<matplotlib.collections.PathCollection at 0x1594f4fa0>"
      ]
     },
     "execution_count": 508,
     "metadata": {},
     "output_type": "execute_result"
    },
    {
     "data": {
      "image/png": "[encoded data removed]",
      "text/plain": [
       "<Figure size 640x480 with 1 Axes>"
      ]
     },
     "metadata": {},
     "output_type": "display_data"
    }
   ],
   "source": [
    "plt.scatter(x=clusters['transform'], y=clusters['coverage'])"
   ]
  },
  {
   "cell_type": "code",
   "execution_count": 509,
   "metadata": {},
   "outputs": [
    {
     "data": {
      "text/plain": [
       "[<matplotlib.lines.Line2D at 0x159937c10>]"
      ]
     },
     "execution_count": 509,
     "metadata": {},
     "output_type": "execute_result"
    },
    {
     "data": {
      "image/png": "[encoded data removed]",
      "text/plain": [
       "<Figure size 640x480 with 1 Axes>"
      ]
     },
     "metadata": {},
     "output_type": "display_data"
    }
   ],
   "source": [
    "kde = KernelDensity(kernel='gaussian', bandwidth=0.5).fit(clusters['coverage'].array.reshape(-1,1))\n",
    "cov_fdp = kde.score_samples(clusters['coverage'].array.reshape(-1,1))\n",
    "plt.plot(clusters['coverage'], cov_fdp)"
   ]
  },
  {
   "cell_type": "code",
   "execution_count": 510,
   "metadata": {},
   "outputs": [
    {
     "name": "stdout",
     "output_type": "stream",
     "text": [
      "Covertura minima admitida:  16\n"
     ]
    }
   ],
   "source": [
    "from scipy.signal import argrelextrema\n",
    "import numpy as np\n",
    "local_min = argrelextrema(cov_fdp, np.less)[0]\n",
    "if len(local_min) < 1:\n",
    "    min_coverage = 3\n",
    "else:\n",
    "    min_coverage = clusters.iloc[max(local_min),:]['coverage']\n",
    "print(\"Covertura minima admitida: \", min_coverage)"
   ]
  },
  {
   "cell_type": "code",
   "execution_count": 511,
   "metadata": {},
   "outputs": [
    {
     "name": "stdout",
     "output_type": "stream",
     "text": [
      "Minimum coverage:  96\n"
     ]
    }
   ],
   "source": [
    "## ALTERNATIVE TO CALCULATE MINIMUN COVERAGE.\n",
    "## I WILL LOOK FOR THE GREATES HOLE IN THE DATA, IF THERE IS JUST ONE POINT THEN I CHOOSE THE SECOND GREATEST GAP\n",
    "def min_cov (clusters):\n",
    "    cov_gaps = clusters.loc[:,'coverage'].diff(periods=-1).sort_values(ascending=False)\n",
    "    for k in cov_gaps.index:\n",
    "        clusters_filt_cov = clusters['coverage'] >= clusters.loc[k, 'coverage']\n",
    "        if sum(clusters_filt_cov) > 3 :\n",
    "            min_coverage=clusters.loc[k, 'coverage']\n",
    "            print(\"Minimum coverage: \", min_coverage)\n",
    "            return min_coverage\n",
    "min_coverage=min_cov(clusters)"
   ]
  },
  {
   "cell_type": "code",
   "execution_count": 512,
   "metadata": {},
   "outputs": [],
   "source": [
    "# FILTER BY COVERAGE\n",
    "clusters = clusters[clusters['coverage'] >= min_coverage]"
   ]
  },
  {
   "cell_type": "code",
   "execution_count": 513,
   "metadata": {},
   "outputs": [
    {
     "name": "stderr",
     "output_type": "stream",
     "text": [
      "/var/folders/20/bjqv2gj50z7dx4ksyh4y8b800000gn/T/ipykernel_34949/1315750054.py:6: SettingWithCopyWarning: \n",
      "A value is trying to be set on a copy of a slice from a DataFrame.\n",
      "Try using .loc[row_indexer,col_indexer] = value instead\n",
      "\n",
      "See the caveats in the documentation: https://pandas.pydata.org/pandas-docs/stable/user_guide/indexing.html#returning-a-view-versus-a-copy\n",
      "  clusters['mt'] = [32 if i else 10 for i in clusters['id_longest_read'].isin(ids_mt)]\n"
     ]
    },
    {
     "data": {
      "text/html": [
       "<div>\n",
       "<style scoped>\n",
       "    .dataframe tbody tr th:only-of-type {\n",
       "        vertical-align: middle;\n",
       "    }\n",
       "\n",
       "    .dataframe tbody tr th {\n",
       "        vertical-align: top;\n",
       "    }\n",
       "\n",
       "    .dataframe thead th {\n",
       "        text-align: right;\n",
       "    }\n",
       "</style>\n",
       "<table border=\"1\" class=\"dataframe\">\n",
       "  <thead>\n",
       "    <tr style=\"text-align: right;\">\n",
       "      <th></th>\n",
       "      <th>coverage</th>\n",
       "      <th>repr_read_len</th>\n",
       "      <th>id_longest_read</th>\n",
       "      <th>id_cluster</th>\n",
       "      <th>transform</th>\n",
       "      <th>mt</th>\n",
       "    </tr>\n",
       "  </thead>\n",
       "  <tbody>\n",
       "    <tr>\n",
       "      <th>18</th>\n",
       "      <td>959</td>\n",
       "      <td>19448</td>\n",
       "      <td>2a5d92c9-a665-47d6-83cf-52296c617f46</td>\n",
       "      <td>19</td>\n",
       "      <td>9.905387</td>\n",
       "      <td>32</td>\n",
       "    </tr>\n",
       "    <tr>\n",
       "      <th>2</th>\n",
       "      <td>639</td>\n",
       "      <td>30009</td>\n",
       "      <td>31d41fce-9796-442d-ac9e-0e8951545241</td>\n",
       "      <td>3</td>\n",
       "      <td>9.319672</td>\n",
       "      <td>32</td>\n",
       "    </tr>\n",
       "    <tr>\n",
       "      <th>122</th>\n",
       "      <td>134</td>\n",
       "      <td>9457</td>\n",
       "      <td>dfbfbae9-743e-4f87-bd19-100f1963cce5</td>\n",
       "      <td>123</td>\n",
       "      <td>7.066089</td>\n",
       "      <td>10</td>\n",
       "    </tr>\n",
       "    <tr>\n",
       "      <th>57</th>\n",
       "      <td>96</td>\n",
       "      <td>12434</td>\n",
       "      <td>3235a8d2-b983-4b8e-846a-dda7b30d8a67</td>\n",
       "      <td>58</td>\n",
       "      <td>6.584963</td>\n",
       "      <td>10</td>\n",
       "    </tr>\n",
       "  </tbody>\n",
       "</table>\n",
       "</div>"
      ],
      "text/plain": [
       "     coverage  repr_read_len                       id_longest_read  \\\n",
       "18        959          19448  2a5d92c9-a665-47d6-83cf-52296c617f46   \n",
       "2         639          30009  31d41fce-9796-442d-ac9e-0e8951545241   \n",
       "122       134           9457  dfbfbae9-743e-4f87-bd19-100f1963cce5   \n",
       "57         96          12434  3235a8d2-b983-4b8e-846a-dda7b30d8a67   \n",
       "\n",
       "     id_cluster  transform  mt  \n",
       "18           19   9.905387  32  \n",
       "2             3   9.319672  32  \n",
       "122         123   7.066089  10  \n",
       "57           58   6.584963  10  "
      ]
     },
     "execution_count": 513,
     "metadata": {},
     "output_type": "execute_result"
    }
   ],
   "source": [
    "## GROUND TRUTH \n",
    "## Get the real mt sequences\n",
    "with open('test/talaro_santan/chrMT_reads_ids.txt','r') as handle_ids_mt:\n",
    "    ids_mt = handle_ids_mt.read().splitlines()\n",
    "    ids_mt = [i[:].strip() for i in ids_mt]\n",
    "clusters['mt'] = [32 if i else 10 for i in clusters['id_longest_read'].isin(ids_mt)]\n",
    "clusters"
   ]
  },
  {
   "cell_type": "markdown",
   "metadata": {},
   "source": [
    "# Oligo composition\n",
    "\n",
    "Once I've detected the clusters with higher coverage, which I expect includes mitochondria and contamination, whether nuclear or external, I have to purify these groups. To do this I will use the oligo composition as it is used during metagenomics binning.\n",
    "\n",
    "I will create clusters_list script to get the kmers. The kmer size will be 3 to solve two things: 1. Intrinsec error from Nanopore, 2 smaller set as possible (4**3 possible kmers). \n",
    "\n",
    "Finally, I will reduce dimensionality using PCA"
   ]
  },
  {
   "cell_type": "code",
   "execution_count": 514,
   "metadata": {},
   "outputs": [],
   "source": [
    "from src.utils import write_fasta\n",
    "#from src.kmer_cnt import get_kmer_profiles\n",
    "import utils_rs"
   ]
  },
  {
   "cell_type": "code",
   "execution_count": 515,
   "metadata": {},
   "outputs": [],
   "source": [
    "reads_file = f\"{wd}{prefix}_sample.sorted.fastq\"\n",
    "repr_reads = [i for i in clusters['id_longest_read']]"
   ]
  },
  {
   "cell_type": "code",
   "execution_count": 516,
   "metadata": {},
   "outputs": [],
   "source": [
    "# PYTHON VERSION\n",
    "# kmer_profiles_df = get_kmer_profiles (repr_reads, reads_file, 3)\n",
    "# kmer_profiles_df.head()"
   ]
  },
  {
   "cell_type": "code",
   "execution_count": 517,
   "metadata": {},
   "outputs": [
    {
     "data": {
      "text/html": [
       "<div>\n",
       "<style scoped>\n",
       "    .dataframe tbody tr th:only-of-type {\n",
       "        vertical-align: middle;\n",
       "    }\n",
       "\n",
       "    .dataframe tbody tr th {\n",
       "        vertical-align: top;\n",
       "    }\n",
       "\n",
       "    .dataframe thead th {\n",
       "        text-align: right;\n",
       "    }\n",
       "</style>\n",
       "<table border=\"1\" class=\"dataframe\">\n",
       "  <thead>\n",
       "    <tr style=\"text-align: right;\">\n",
       "      <th></th>\n",
       "      <th>0</th>\n",
       "      <th>1</th>\n",
       "      <th>2</th>\n",
       "      <th>3</th>\n",
       "      <th>4</th>\n",
       "      <th>5</th>\n",
       "      <th>6</th>\n",
       "      <th>7</th>\n",
       "      <th>8</th>\n",
       "      <th>9</th>\n",
       "      <th>...</th>\n",
       "      <th>23</th>\n",
       "      <th>24</th>\n",
       "      <th>25</th>\n",
       "      <th>26</th>\n",
       "      <th>27</th>\n",
       "      <th>28</th>\n",
       "      <th>29</th>\n",
       "      <th>30</th>\n",
       "      <th>31</th>\n",
       "      <th>ids</th>\n",
       "    </tr>\n",
       "  </thead>\n",
       "  <tbody>\n",
       "    <tr>\n",
       "      <th>0</th>\n",
       "      <td>0.110667</td>\n",
       "      <td>0.105568</td>\n",
       "      <td>0.033157</td>\n",
       "      <td>0.032890</td>\n",
       "      <td>0.122663</td>\n",
       "      <td>0.028092</td>\n",
       "      <td>0.034256</td>\n",
       "      <td>0.033157</td>\n",
       "      <td>0.032890</td>\n",
       "      <td>0.014796</td>\n",
       "      <td>...</td>\n",
       "      <td>0.002666</td>\n",
       "      <td>0.006331</td>\n",
       "      <td>0.003132</td>\n",
       "      <td>0.030358</td>\n",
       "      <td>0.008431</td>\n",
       "      <td>0.034556</td>\n",
       "      <td>0.016362</td>\n",
       "      <td>0.005765</td>\n",
       "      <td>0.010230</td>\n",
       "      <td>31d41fce-9796-442d-ac9e-0e8951545241</td>\n",
       "    </tr>\n",
       "    <tr>\n",
       "      <th>1</th>\n",
       "      <td>0.111528</td>\n",
       "      <td>0.104947</td>\n",
       "      <td>0.032188</td>\n",
       "      <td>0.035274</td>\n",
       "      <td>0.123972</td>\n",
       "      <td>0.028949</td>\n",
       "      <td>0.032343</td>\n",
       "      <td>0.031160</td>\n",
       "      <td>0.031777</td>\n",
       "      <td>0.016300</td>\n",
       "      <td>...</td>\n",
       "      <td>0.003497</td>\n",
       "      <td>0.007456</td>\n",
       "      <td>0.002982</td>\n",
       "      <td>0.029463</td>\n",
       "      <td>0.008330</td>\n",
       "      <td>0.035171</td>\n",
       "      <td>0.014603</td>\n",
       "      <td>0.004885</td>\n",
       "      <td>0.011466</td>\n",
       "      <td>2a5d92c9-a665-47d6-83cf-52296c617f46</td>\n",
       "    </tr>\n",
       "    <tr>\n",
       "      <th>2</th>\n",
       "      <td>0.037960</td>\n",
       "      <td>0.031205</td>\n",
       "      <td>0.030320</td>\n",
       "      <td>0.033135</td>\n",
       "      <td>0.019704</td>\n",
       "      <td>0.030159</td>\n",
       "      <td>0.027505</td>\n",
       "      <td>0.025092</td>\n",
       "      <td>0.026058</td>\n",
       "      <td>0.034583</td>\n",
       "      <td>...</td>\n",
       "      <td>0.038604</td>\n",
       "      <td>0.030159</td>\n",
       "      <td>0.033618</td>\n",
       "      <td>0.037558</td>\n",
       "      <td>0.028309</td>\n",
       "      <td>0.020750</td>\n",
       "      <td>0.029998</td>\n",
       "      <td>0.043429</td>\n",
       "      <td>0.034743</td>\n",
       "      <td>3235a8d2-b983-4b8e-846a-dda7b30d8a67</td>\n",
       "    </tr>\n",
       "    <tr>\n",
       "      <th>3</th>\n",
       "      <td>0.035635</td>\n",
       "      <td>0.032040</td>\n",
       "      <td>0.028339</td>\n",
       "      <td>0.033520</td>\n",
       "      <td>0.017976</td>\n",
       "      <td>0.029396</td>\n",
       "      <td>0.025061</td>\n",
       "      <td>0.024955</td>\n",
       "      <td>0.026541</td>\n",
       "      <td>0.034472</td>\n",
       "      <td>...</td>\n",
       "      <td>0.040605</td>\n",
       "      <td>0.028973</td>\n",
       "      <td>0.035635</td>\n",
       "      <td>0.034578</td>\n",
       "      <td>0.028868</td>\n",
       "      <td>0.019879</td>\n",
       "      <td>0.029290</td>\n",
       "      <td>0.047690</td>\n",
       "      <td>0.035001</td>\n",
       "      <td>dfbfbae9-743e-4f87-bd19-100f1963cce5</td>\n",
       "    </tr>\n",
       "  </tbody>\n",
       "</table>\n",
       "<p>4 rows × 33 columns</p>\n",
       "</div>"
      ],
      "text/plain": [
       "          0         1         2         3         4         5         6  \\\n",
       "0  0.110667  0.105568  0.033157  0.032890  0.122663  0.028092  0.034256   \n",
       "1  0.111528  0.104947  0.032188  0.035274  0.123972  0.028949  0.032343   \n",
       "2  0.037960  0.031205  0.030320  0.033135  0.019704  0.030159  0.027505   \n",
       "3  0.035635  0.032040  0.028339  0.033520  0.017976  0.029396  0.025061   \n",
       "\n",
       "          7         8         9  ...        23        24        25        26  \\\n",
       "0  0.033157  0.032890  0.014796  ...  0.002666  0.006331  0.003132  0.030358   \n",
       "1  0.031160  0.031777  0.016300  ...  0.003497  0.007456  0.002982  0.029463   \n",
       "2  0.025092  0.026058  0.034583  ...  0.038604  0.030159  0.033618  0.037558   \n",
       "3  0.024955  0.026541  0.034472  ...  0.040605  0.028973  0.035635  0.034578   \n",
       "\n",
       "         27        28        29        30        31  \\\n",
       "0  0.008431  0.034556  0.016362  0.005765  0.010230   \n",
       "1  0.008330  0.035171  0.014603  0.004885  0.011466   \n",
       "2  0.028309  0.020750  0.029998  0.043429  0.034743   \n",
       "3  0.028868  0.019879  0.029290  0.047690  0.035001   \n",
       "\n",
       "                                    ids  \n",
       "0  31d41fce-9796-442d-ac9e-0e8951545241  \n",
       "1  2a5d92c9-a665-47d6-83cf-52296c617f46  \n",
       "2  3235a8d2-b983-4b8e-846a-dda7b30d8a67  \n",
       "3  dfbfbae9-743e-4f87-bd19-100f1963cce5  \n",
       "\n",
       "[4 rows x 33 columns]"
      ]
     },
     "execution_count": 517,
     "metadata": {},
     "output_type": "execute_result"
    }
   ],
   "source": [
    "# RUST VERSION\n",
    "hist = utils_rs.get_kmer_profiles(repr_reads, reads_file, 3)\n",
    "hist_df = pd.DataFrame(hist[0])\n",
    "hist_df['ids'] = hist[1]\n",
    "hist_df.head()\n",
    "hist_df.iloc[:, :-1]\n",
    "hist_df.head()"
   ]
  },
  {
   "cell_type": "markdown",
   "metadata": {},
   "source": [
    "# Dimensionality reduction with PCA and clustering with k-means "
   ]
  },
  {
   "cell_type": "code",
   "execution_count": 518,
   "metadata": {},
   "outputs": [],
   "source": [
    "from sklearn.decomposition import PCA\n",
    "from sklearn.cluster import KMeans"
   ]
  },
  {
   "cell_type": "code",
   "execution_count": 519,
   "metadata": {},
   "outputs": [
    {
     "data": {
      "text/html": [
       "<style>#sk-container-id-21 {color: black;}#sk-container-id-21 pre{padding: 0;}#sk-container-id-21 div.sk-toggleable {background-color: white;}#sk-container-id-21 label.sk-toggleable__label {cursor: pointer;display: block;width: 100%;margin-bottom: 0;padding: 0.3em;box-sizing: border-box;text-align: center;}#sk-container-id-21 label.sk-toggleable__label-arrow:before {content: \"▸\";float: left;margin-right: 0.25em;color: #696969;}#sk-container-id-21 label.sk-toggleable__label-arrow:hover:before {color: black;}#sk-container-id-21 div.sk-estimator:hover label.sk-toggleable__label-arrow:before {color: black;}#sk-container-id-21 div.sk-toggleable__content {max-height: 0;max-width: 0;overflow: hidden;text-align: left;background-color: #f0f8ff;}#sk-container-id-21 div.sk-toggleable__content pre {margin: 0.2em;color: black;border-radius: 0.25em;background-color: #f0f8ff;}#sk-container-id-21 input.sk-toggleable__control:checked~div.sk-toggleable__content {max-height: 200px;max-width: 100%;overflow: auto;}#sk-container-id-21 input.sk-toggleable__control:checked~label.sk-toggleable__label-arrow:before {content: \"▾\";}#sk-container-id-21 div.sk-estimator input.sk-toggleable__control:checked~label.sk-toggleable__label {background-color: #d4ebff;}#sk-container-id-21 div.sk-label input.sk-toggleable__control:checked~label.sk-toggleable__label {background-color: #d4ebff;}#sk-container-id-21 input.sk-hidden--visually {border: 0;clip: rect(1px 1px 1px 1px);clip: rect(1px, 1px, 1px, 1px);height: 1px;margin: -1px;overflow: hidden;padding: 0;position: absolute;width: 1px;}#sk-container-id-21 div.sk-estimator {font-family: monospace;background-color: #f0f8ff;border: 1px dotted black;border-radius: 0.25em;box-sizing: border-box;margin-bottom: 0.5em;}#sk-container-id-21 div.sk-estimator:hover {background-color: #d4ebff;}#sk-container-id-21 div.sk-parallel-item::after {content: \"\";width: 100%;border-bottom: 1px solid gray;flex-grow: 1;}#sk-container-id-21 div.sk-label:hover label.sk-toggleable__label {background-color: #d4ebff;}#sk-container-id-21 div.sk-serial::before {content: \"\";position: absolute;border-left: 1px solid gray;box-sizing: border-box;top: 0;bottom: 0;left: 50%;z-index: 0;}#sk-container-id-21 div.sk-serial {display: flex;flex-direction: column;align-items: center;background-color: white;padding-right: 0.2em;padding-left: 0.2em;position: relative;}#sk-container-id-21 div.sk-item {position: relative;z-index: 1;}#sk-container-id-21 div.sk-parallel {display: flex;align-items: stretch;justify-content: center;background-color: white;position: relative;}#sk-container-id-21 div.sk-item::before, #sk-container-id-21 div.sk-parallel-item::before {content: \"\";position: absolute;border-left: 1px solid gray;box-sizing: border-box;top: 0;bottom: 0;left: 50%;z-index: -1;}#sk-container-id-21 div.sk-parallel-item {display: flex;flex-direction: column;z-index: 1;position: relative;background-color: white;}#sk-container-id-21 div.sk-parallel-item:first-child::after {align-self: flex-end;width: 50%;}#sk-container-id-21 div.sk-parallel-item:last-child::after {align-self: flex-start;width: 50%;}#sk-container-id-21 div.sk-parallel-item:only-child::after {width: 0;}#sk-container-id-21 div.sk-dashed-wrapped {border: 1px dashed gray;margin: 0 0.4em 0.5em 0.4em;box-sizing: border-box;padding-bottom: 0.4em;background-color: white;}#sk-container-id-21 div.sk-label label {font-family: monospace;font-weight: bold;display: inline-block;line-height: 1.2em;}#sk-container-id-21 div.sk-label-container {text-align: center;}#sk-container-id-21 div.sk-container {/* jupyter's `normalize.less` sets `[hidden] { display: none; }` but bootstrap.min.css set `[hidden] { display: none !important; }` so we also need the `!important` here to be able to override the default hidden behavior on the sphinx rendered scikit-learn.org. See: https://github.com/scikit-learn/scikit-learn/issues/21755 */display: inline-block !important;position: relative;}#sk-container-id-21 div.sk-text-repr-fallback {display: none;}</style><div id=\"sk-container-id-21\" class=\"sk-top-container\"><div class=\"sk-text-repr-fallback\"><pre>PCA(n_components=2)</pre><b>In a Jupyter environment, please rerun this cell to show the HTML representation or trust the notebook. <br />On GitHub, the HTML representation is unable to render, please try loading this page with nbviewer.org.</b></div><div class=\"sk-container\" hidden><div class=\"sk-item\"><div class=\"sk-estimator sk-toggleable\"><input class=\"sk-toggleable__control sk-hidden--visually\" id=\"sk-estimator-id-21\" type=\"checkbox\" checked><label for=\"sk-estimator-id-21\" class=\"sk-toggleable__label sk-toggleable__label-arrow\">PCA</label><div class=\"sk-toggleable__content\"><pre>PCA(n_components=2)</pre></div></div></div></div></div>"
      ],
      "text/plain": [
       "PCA(n_components=2)"
      ]
     },
     "execution_count": 519,
     "metadata": {},
     "output_type": "execute_result"
    }
   ],
   "source": [
    "pca = PCA(n_components=2)\n",
    "pca.fit(hist_df.iloc[:,:-2])"
   ]
  },
  {
   "cell_type": "code",
   "execution_count": 520,
   "metadata": {},
   "outputs": [
    {
     "data": {
      "text/plain": [
       "array([1.33764302e-02, 1.36603747e-05])"
      ]
     },
     "execution_count": 520,
     "metadata": {},
     "output_type": "execute_result"
    }
   ],
   "source": [
    "## Components and variance explained \n",
    "pca.explained_variance_\n",
    "#pca.components_"
   ]
  },
  {
   "cell_type": "code",
   "execution_count": 521,
   "metadata": {},
   "outputs": [
    {
     "data": {
      "text/html": [
       "<div>\n",
       "<style scoped>\n",
       "    .dataframe tbody tr th:only-of-type {\n",
       "        vertical-align: middle;\n",
       "    }\n",
       "\n",
       "    .dataframe tbody tr th {\n",
       "        vertical-align: top;\n",
       "    }\n",
       "\n",
       "    .dataframe thead th {\n",
       "        text-align: right;\n",
       "    }\n",
       "</style>\n",
       "<table border=\"1\" class=\"dataframe\">\n",
       "  <thead>\n",
       "    <tr style=\"text-align: right;\">\n",
       "      <th></th>\n",
       "      <th>comp1</th>\n",
       "      <th>comp2</th>\n",
       "      <th>ids</th>\n",
       "      <th>coverage</th>\n",
       "      <th>repr_read_len</th>\n",
       "      <th>id_cluster</th>\n",
       "      <th>transform</th>\n",
       "      <th>mt</th>\n",
       "      <th>coverage_norm</th>\n",
       "    </tr>\n",
       "  </thead>\n",
       "  <tbody>\n",
       "    <tr>\n",
       "      <th>0</th>\n",
       "      <td>-0.099158</td>\n",
       "      <td>0.001846</td>\n",
       "      <td>31d41fce-9796-442d-ac9e-0e8951545241</td>\n",
       "      <td>639</td>\n",
       "      <td>30009</td>\n",
       "      <td>3</td>\n",
       "      <td>9.319672</td>\n",
       "      <td>32</td>\n",
       "      <td>0.021294</td>\n",
       "    </tr>\n",
       "    <tr>\n",
       "      <th>1</th>\n",
       "      <td>-0.101143</td>\n",
       "      <td>-0.001904</td>\n",
       "      <td>2a5d92c9-a665-47d6-83cf-52296c617f46</td>\n",
       "      <td>959</td>\n",
       "      <td>19448</td>\n",
       "      <td>19</td>\n",
       "      <td>9.905387</td>\n",
       "      <td>32</td>\n",
       "      <td>0.049311</td>\n",
       "    </tr>\n",
       "    <tr>\n",
       "      <th>2</th>\n",
       "      <td>0.098299</td>\n",
       "      <td>0.004149</td>\n",
       "      <td>3235a8d2-b983-4b8e-846a-dda7b30d8a67</td>\n",
       "      <td>96</td>\n",
       "      <td>12434</td>\n",
       "      <td>58</td>\n",
       "      <td>6.584963</td>\n",
       "      <td>10</td>\n",
       "      <td>0.007721</td>\n",
       "    </tr>\n",
       "    <tr>\n",
       "      <th>3</th>\n",
       "      <td>0.102002</td>\n",
       "      <td>-0.004091</td>\n",
       "      <td>dfbfbae9-743e-4f87-bd19-100f1963cce5</td>\n",
       "      <td>134</td>\n",
       "      <td>9457</td>\n",
       "      <td>123</td>\n",
       "      <td>7.066089</td>\n",
       "      <td>10</td>\n",
       "      <td>0.014169</td>\n",
       "    </tr>\n",
       "  </tbody>\n",
       "</table>\n",
       "</div>"
      ],
      "text/plain": [
       "      comp1     comp2                                   ids  coverage  \\\n",
       "0 -0.099158  0.001846  31d41fce-9796-442d-ac9e-0e8951545241       639   \n",
       "1 -0.101143 -0.001904  2a5d92c9-a665-47d6-83cf-52296c617f46       959   \n",
       "2  0.098299  0.004149  3235a8d2-b983-4b8e-846a-dda7b30d8a67        96   \n",
       "3  0.102002 -0.004091  dfbfbae9-743e-4f87-bd19-100f1963cce5       134   \n",
       "\n",
       "   repr_read_len  id_cluster  transform  mt  coverage_norm  \n",
       "0          30009           3   9.319672  32       0.021294  \n",
       "1          19448          19   9.905387  32       0.049311  \n",
       "2          12434          58   6.584963  10       0.007721  \n",
       "3           9457         123   7.066089  10       0.014169  "
      ]
     },
     "execution_count": 521,
     "metadata": {},
     "output_type": "execute_result"
    }
   ],
   "source": [
    "kmer_reduction = pca.fit_transform(hist_df.iloc[:,:-2])\n",
    "kmer_reduction = pd.DataFrame(kmer_reduction, columns=['comp1', 'comp2'])\n",
    "\n",
    "## merging the dataframe with ids and other relevant information\n",
    "kmer_reduction ['ids'] = hist_df['ids']\n",
    "kmer_reduction = kmer_reduction.merge(clusters, how='left', left_on='ids', right_on='id_longest_read')\n",
    "kmer_reduction.drop(columns='id_longest_read', inplace=True)\n",
    "\n",
    "## Annotate which reads are mitochondrial\n",
    "kmer_reduction['coverage_norm'] = kmer_reduction['coverage'] / kmer_reduction['repr_read_len']\n",
    "kmer_reduction.head()"
   ]
  },
  {
   "cell_type": "code",
   "execution_count": 522,
   "metadata": {},
   "outputs": [
    {
     "name": "stderr",
     "output_type": "stream",
     "text": [
      "No artists with labels found to put in legend.  Note that artists whose label start with an underscore are ignored when legend() is called with no argument.\n"
     ]
    },
    {
     "data": {
      "text/plain": [
       "Text(0, 0.5, 'comp2')"
      ]
     },
     "execution_count": 522,
     "metadata": {},
     "output_type": "execute_result"
    },
    {
     "data": {
      "image/png": "[encoded data removed]",
      "text/plain": [
       "<Figure size 640x480 with 2 Axes>"
      ]
     },
     "metadata": {},
     "output_type": "display_data"
    }
   ],
   "source": [
    "sc = plt.scatter(kmer_reduction['comp1'],kmer_reduction['comp2'], c=kmer_reduction['coverage_norm'], s=kmer_reduction['mt'])\n",
    "# legend\n",
    "# Add clusters_list colorbar\n",
    "cbar = plt.colorbar(sc)\n",
    "cbar.set_label('Color Scale')\n",
    "plt.legend()\n",
    "plt.xlabel('comp1')\n",
    "plt.ylabel('comp2')"
   ]
  },
  {
   "cell_type": "code",
   "execution_count": 523,
   "metadata": {},
   "outputs": [
    {
     "name": "stdout",
     "output_type": "stream",
     "text": [
      "Initialization complete\n",
      "Iteration 0, inertia 1.0133635616987183e-06.\n",
      "Iteration 1, inertia 6.755348607980166e-07.\n",
      "Converged at iteration 1: strict convergence.\n"
     ]
    }
   ],
   "source": [
    "kmeans = KMeans(n_clusters=2, max_iter=100, init='k-means++', random_state=0, n_init=1,verbose=1)\n",
    "mt_prediction = kmeans.fit_predict(kmer_reduction[['comp1','comp2']], sample_weight=kmer_reduction['coverage_norm'])\n",
    "kmer_reduction['cluster_prediction'] = mt_prediction"
   ]
  },
  {
   "cell_type": "code",
   "execution_count": 524,
   "metadata": {},
   "outputs": [
    {
     "data": {
      "text/plain": [
       "Text(0, 0.5, 'comp2')"
      ]
     },
     "execution_count": 524,
     "metadata": {},
     "output_type": "execute_result"
    },
    {
     "data": {
      "image/png": "[encoded data removed]",
      "text/plain": [
       "<Figure size 640x480 with 1 Axes>"
      ]
     },
     "metadata": {},
     "output_type": "display_data"
    }
   ],
   "source": [
    "plt.scatter(x=kmer_reduction['comp1'], y=kmer_reduction['comp2'], c=mt_prediction, s=kmer_reduction['mt'])\n",
    "plt.xlabel('comp1')\n",
    "plt.ylabel('comp2')"
   ]
  },
  {
   "cell_type": "markdown",
   "metadata": {},
   "source": [
    "# Get the cluster of interest\n",
    "\n",
    "This step is clusters_list pain in the ass, but since I am looking to keep the free-reference. "
   ]
  },
  {
   "cell_type": "code",
   "execution_count": 525,
   "metadata": {},
   "outputs": [
    {
     "name": "stderr",
     "output_type": "stream",
     "text": [
      "/var/folders/20/bjqv2gj50z7dx4ksyh4y8b800000gn/T/ipykernel_34949/2001483469.py:3: SettingWithCopyWarning: \n",
      "A value is trying to be set on a copy of a slice from a DataFrame\n",
      "\n",
      "See the caveats in the documentation: https://pandas.pydata.org/pandas-docs/stable/user_guide/indexing.html#returning-a-view-versus-a-copy\n",
      "  selected_cluster.sort_values('coverage_norm', inplace=True, ascending=False)\n"
     ]
    },
    {
     "data": {
      "text/html": [
       "<div>\n",
       "<style scoped>\n",
       "    .dataframe tbody tr th:only-of-type {\n",
       "        vertical-align: middle;\n",
       "    }\n",
       "\n",
       "    .dataframe tbody tr th {\n",
       "        vertical-align: top;\n",
       "    }\n",
       "\n",
       "    .dataframe thead th {\n",
       "        text-align: right;\n",
       "    }\n",
       "</style>\n",
       "<table border=\"1\" class=\"dataframe\">\n",
       "  <thead>\n",
       "    <tr style=\"text-align: right;\">\n",
       "      <th></th>\n",
       "      <th>comp1</th>\n",
       "      <th>comp2</th>\n",
       "      <th>ids</th>\n",
       "      <th>coverage</th>\n",
       "      <th>repr_read_len</th>\n",
       "      <th>id_cluster</th>\n",
       "      <th>transform</th>\n",
       "      <th>mt</th>\n",
       "      <th>coverage_norm</th>\n",
       "      <th>cluster_prediction</th>\n",
       "    </tr>\n",
       "  </thead>\n",
       "  <tbody>\n",
       "    <tr>\n",
       "      <th>1</th>\n",
       "      <td>-0.101143</td>\n",
       "      <td>-0.001904</td>\n",
       "      <td>2a5d92c9-a665-47d6-83cf-52296c617f46</td>\n",
       "      <td>959</td>\n",
       "      <td>19448</td>\n",
       "      <td>19</td>\n",
       "      <td>9.905387</td>\n",
       "      <td>32</td>\n",
       "      <td>0.049311</td>\n",
       "      <td>0</td>\n",
       "    </tr>\n",
       "    <tr>\n",
       "      <th>0</th>\n",
       "      <td>-0.099158</td>\n",
       "      <td>0.001846</td>\n",
       "      <td>31d41fce-9796-442d-ac9e-0e8951545241</td>\n",
       "      <td>639</td>\n",
       "      <td>30009</td>\n",
       "      <td>3</td>\n",
       "      <td>9.319672</td>\n",
       "      <td>32</td>\n",
       "      <td>0.021294</td>\n",
       "      <td>0</td>\n",
       "    </tr>\n",
       "  </tbody>\n",
       "</table>\n",
       "</div>"
      ],
      "text/plain": [
       "      comp1     comp2                                   ids  coverage  \\\n",
       "1 -0.101143 -0.001904  2a5d92c9-a665-47d6-83cf-52296c617f46       959   \n",
       "0 -0.099158  0.001846  31d41fce-9796-442d-ac9e-0e8951545241       639   \n",
       "\n",
       "   repr_read_len  id_cluster  transform  mt  coverage_norm  cluster_prediction  \n",
       "1          19448          19   9.905387  32       0.049311                   0  \n",
       "0          30009           3   9.319672  32       0.021294                   0  "
      ]
     },
     "execution_count": 525,
     "metadata": {},
     "output_type": "execute_result"
    }
   ],
   "source": [
    "selected_cluster_id = kmer_reduction.loc[:, kmer_reduction.columns != 'ids'].groupby(by='cluster_prediction')['coverage_norm'].median().idxmax()\n",
    "selected_cluster = kmer_reduction[kmer_reduction['cluster_prediction'] == selected_cluster_id]\n",
    "selected_cluster.sort_values('coverage_norm', inplace=True, ascending=False)\n",
    "selected_cluster.head()"
   ]
  },
  {
   "cell_type": "code",
   "execution_count": 526,
   "metadata": {},
   "outputs": [
    {
     "name": "stdout",
     "output_type": "stream",
     "text": [
      "-> 1598 reads retrieved\n"
     ]
    }
   ],
   "source": [
    "sequences_ids = set()\n",
    "for i in selected_cluster['id_cluster']:\n",
    "    sequences_ids.update(clusters_list.get_cluster(i).id_sequences)\n",
    "write_fasta(reads_file=reads_file, sequences_ids=sequences_ids, output=f\"{wd}{prefix}_putative_mt_reads.fasta\")"
   ]
  }
 ],
 "metadata": {
  "kernelspec": {
   "display_name": "mitnanex",
   "language": "python",
   "name": "python3"
  },
  "language_info": {
   "codemirror_mode": {
    "name": "ipython",
    "version": 3
   },
   "file_extension": ".py",
   "mimetype": "text/x-python",
   "name": "python",
   "nbconvert_exporter": "python",
   "pygments_lexer": "ipython3",
   "version": "3.9.18"
  },
  "orig_nbformat": 4
 },
 "nbformat": 4,
 "nbformat_minor": 2
}
